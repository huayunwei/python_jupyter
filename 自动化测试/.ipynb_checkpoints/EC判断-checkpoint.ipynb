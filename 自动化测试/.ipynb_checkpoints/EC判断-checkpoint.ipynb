{
 "cells": [
  {
   "cell_type": "markdown",
   "metadata": {},
   "source": [
    "# expected_conditions模块\n",
    "- 作用：各种判断函数\n",
    "- 导入模块\n",
    "    - from selenium.webdriver.support import expected_conditions as EC"
   ]
  },
  {
   "cell_type": "code",
   "execution_count": null,
   "metadata": {},
   "outputs": [],
   "source": [
    "# 与webDriverWait来判断元素是否已经可以查找到\n",
    "from selenium.webdriver.common.by import By\n",
    "from selenium.webdriver.support import expected_conditions as EC\n",
    "from selenium.webdriver.support.wait import WebDriverWait"
   ]
  },
  {
   "cell_type": "markdown",
   "metadata": {},
   "source": [
    "- title_is(xx)：判断title是否为xx，返回布尔值"
   ]
  },
  {
   "cell_type": "code",
   "execution_count": null,
   "metadata": {},
   "outputs": [],
   "source": [
    "# 判断当前页面的题目是否为xxx\n",
    "WebDriverWait(driver,10).until(EC.title_is('xxx'))"
   ]
  },
  {
   "cell_type": "markdown",
   "metadata": {},
   "source": [
    "- title_contains(xxx)：判断title是否包含xxx，返回布尔值"
   ]
  },
  {
   "cell_type": "code",
   "execution_count": null,
   "metadata": {},
   "outputs": [],
   "source": [
    "# 判断当前页面的题目是否包含xxx\n",
    "WebDriverWait(driver,10).unit(EC.title_contains('xxx'))"
   ]
  },
  {
   "cell_type": "markdown",
   "metadata": {},
   "source": [
    "- presence_of_element_located：判断某个元素是否在dom树中，可以不可见\n",
    "- presence_of_all_elements_located：判断是否至少有一个元素在页面中可见，如果有返回列表"
   ]
  },
  {
   "cell_type": "code",
   "execution_count": null,
   "metadata": {},
   "outputs": [],
   "source": [
    "# 判断根据xx来找xxx元素是否在dom树中,找到返回webElement\n",
    "WebDriverWait(driver,10).unit(EC.presence_of_element_located(By.xx,'xxx'))\n"
   ]
  },
  {
   "cell_type": "markdown",
   "metadata": {},
   "source": [
    "- visibility_of_element_located：判断某个元素是否在dom树中，并且可见（元素显示且宽高都大于0）\n",
    "- visibility_of_any_elements_located：判断是否至少有一个元素在页面中可见"
   ]
  },
  {
   "cell_type": "code",
   "execution_count": null,
   "metadata": {},
   "outputs": [],
   "source": [
    "# 判断根据xx来找xxx元素是否在dom树中\n",
    "WebDriverWait(driver,10).unit(EC.visibility_of_element_located(By.xx,'xxx'))"
   ]
  },
  {
   "cell_type": "markdown",
   "metadata": {},
   "source": [
    "- visibility_of：判断元素是否可见，如果可见则返回"
   ]
  },
  {
   "cell_type": "code",
   "execution_count": null,
   "metadata": {},
   "outputs": [],
   "source": [
    "# 判断根据xx来找xxx，找到的元素如果可见，则返回\n",
    "WebDriverWait(driver,10).unit(EC.visibility_of(driver.find_element(by=By.xx,value='xxx')))"
   ]
  },
  {
   "cell_type": "markdown",
   "metadata": {},
   "source": [
    "- text_to_be_present_in_element：判断元素是否包含了预期的字符串，返回布尔值"
   ]
  },
  {
   "cell_type": "code",
   "execution_count": null,
   "metadata": {},
   "outputs": [],
   "source": [
    "# 判断根据xx来找xxx，这个元素是否有value这个元素，如果有返回true\n",
    "WebDriverWait(driver,10).unit(EC.text_to_be_present_in_element(By.xx,'xxx','value'))"
   ]
  }
 ],
 "metadata": {
  "kernelspec": {
   "display_name": "Python 3",
   "language": "python",
   "name": "python3"
  },
  "language_info": {
   "codemirror_mode": {
    "name": "ipython",
    "version": 3
   },
   "file_extension": ".py",
   "mimetype": "text/x-python",
   "name": "python",
   "nbconvert_exporter": "python",
   "pygments_lexer": "ipython3",
   "version": "3.7.0"
  }
 },
 "nbformat": 4,
 "nbformat_minor": 2
}
