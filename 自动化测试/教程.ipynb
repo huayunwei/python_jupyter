{
 "cells": [
  {
   "cell_type": "markdown",
   "metadata": {},
   "source": [
    "赠送视频链接：\n",
    "\n",
    "https://pan.baidu.com/s/1u0_KGQ7evMILF9_wDK09dw?\n",
    "\n",
    "密码：1yq0\n",
    "\n",
    "课程视频：\n",
    "\n",
    "链接：https://pan.baidu.com/s/1xQVyljDdjZX1pfwTQSiLcA\n",
    "\n",
    "密码：syw4\n",
    "\n",
    "松勤播放器激活码：华芸玮21"
   ]
  }
 ],
 "metadata": {
  "kernelspec": {
   "display_name": "Python 3",
   "language": "python",
   "name": "python3"
  },
  "language_info": {
   "codemirror_mode": {
    "name": "ipython",
    "version": 3
   },
   "file_extension": ".py",
   "mimetype": "text/x-python",
   "name": "python",
   "nbconvert_exporter": "python",
   "pygments_lexer": "ipython3",
   "version": "3.7.0"
  }
 },
 "nbformat": 4,
 "nbformat_minor": 2
}
