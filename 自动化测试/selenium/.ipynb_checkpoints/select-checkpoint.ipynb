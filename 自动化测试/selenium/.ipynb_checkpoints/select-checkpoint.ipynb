{
 "cells": [
  {
   "cell_type": "markdown",
   "metadata": {},
   "source": [
    "# select\n",
    "## 选取方式"
   ]
  },
  {
   "cell_type": "markdown",
   "metadata": {},
   "source": [
    "### 二次定位"
   ]
  },
  {
   "cell_type": "markdown",
   "metadata": {},
   "source": [
    "1. 先定位到select框\n",
    "2. 再定位到select中的option选项"
   ]
  },
  {
   "cell_type": "code",
   "execution_count": null,
   "metadata": {},
   "outputs": [],
   "source": [
    "# 例：百度的搜索设置页面\n",
    "from selenium import webdriver\n",
    "from selenium.webdriver.common.action_chains import ActionChains\n",
    "import time\n",
    "\n",
    "driver = webdriver.Chrome('../webDriver/chromedriver.exe')\n",
    "# 打开百度\n",
    "driver.get(\"https://www.baidu.com/\")\n",
    "driver.implicitly_wait(5)\n",
    "# 移动到设置选项\n",
    "setting = driver.find_element_by_link_text('设置')\n",
    "time.sleep(2)\n",
    "ActionChains(driver).move_to_element(setting).perform()\n",
    "time.sleep(2)\n",
    "# 点击搜索设置\n",
    "searchSettion = driver.find_element_by_link_text('搜索设置')\n",
    "searchSettion.click()\n",
    "time.sleep(2)\n",
    "# 找到下拉框\n",
    "select = driver.find_element_by_id('nr')\n",
    "# 选择value是20的项\n",
    "option = select.find_element_by_xpath(\"//option[@value='20']\").click()"
   ]
  },
  {
   "cell_type": "markdown",
   "metadata": {},
   "source": [
    "### 直接定位"
   ]
  },
  {
   "cell_type": "markdown",
   "metadata": {},
   "source": [
    "1. 直接通过xpath定位到option"
   ]
  },
  {
   "cell_type": "code",
   "execution_count": null,
   "metadata": {},
   "outputs": [],
   "source": [
    "# 上面的同上\n",
    "# 找到下拉框\n",
    "#select = driver.find_element_by_id('nr')\n",
    "# 直接寻找value是20的项\n",
    "option = select.find_element_by_xpath(\"//*[@id='nr']/option[1]\").click()"
   ]
  },
  {
   "cell_type": "markdown",
   "metadata": {},
   "source": [
    "### Select模块"
   ]
  },
  {
   "cell_type": "markdown",
   "metadata": {},
   "source": [
    "- 导入模块：\n",
    "    - from selenium.webdriver.support.select import Select\n",
    "- 定义Select对象\n",
    "    - select = Select(driver.find_element_by_id('')//webElement值)\n",
    "- 属性：\n",
    "    - select.options：该select所有的option值，结果为一个列表，列表项为webElement\n",
    "    - select.all_selected_options：该select所有被选中的option的值\n",
    "    - select.first_selected_option：该select所有被选中的第一个option的值\n",
    "- 方法：\n",
    "    - select.select_by_index(num)：选中第num个option，注意是直接选中，不用click\n",
    "    - select.select_by_value(v)：选中value属性为v的option，也是直接选中\n",
    "    - select.select_by_visible_text(t)：选中option的文本为t的，也是直接选中\n",
    "    - 只针对可以多选的select\n",
    "        - select.deselect_all()：清空所有选择项\n",
    "        - select.deselect_by_value(v)：不选择所有value值为v的option\n",
    "        - select.deselect_by_index(i)：不选择index为i的option\n",
    "        - select.deselect_by_visible_text(t)：不选择文本为t的option"
   ]
  }
 ],
 "metadata": {
  "kernelspec": {
   "display_name": "Python 3",
   "language": "python",
   "name": "python3"
  },
  "language_info": {
   "codemirror_mode": {
    "name": "ipython",
    "version": 3
   },
   "file_extension": ".py",
   "mimetype": "text/x-python",
   "name": "python",
   "nbconvert_exporter": "python",
   "pygments_lexer": "ipython3",
   "version": "3.7.0"
  }
 },
 "nbformat": 4,
 "nbformat_minor": 2
}
