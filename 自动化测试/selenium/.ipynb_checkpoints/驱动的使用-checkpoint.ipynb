{
 "cells": [
  {
   "cell_type": "code",
   "execution_count": null,
   "metadata": {},
   "outputs": [],
   "source": [
    "from selenium import webdriver\n",
    "\n",
    "# 指定是chrome的驱动\n",
    "drvier = webdriver.Chrome('chrome驱动的位置')\n",
    "\n",
    "# 打开一个网站\n",
    "driver.get('网站地址')\n",
    "\n",
    "# 对页面进行操作\n",
    "\n",
    "\n",
    "# 退出\n",
    "# driver.quit让浏览器和驱动进程一起退出                  \n",
    "driver.quit()"
   ]
  }
 ],
 "metadata": {
  "kernelspec": {
   "display_name": "Python 3",
   "language": "python",
   "name": "python3"
  },
  "language_info": {
   "codemirror_mode": {
    "name": "ipython",
    "version": 3
   },
   "file_extension": ".py",
   "mimetype": "text/x-python",
   "name": "python",
   "nbconvert_exporter": "python",
   "pygments_lexer": "ipython3",
   "version": "3.7.0"
  }
 },
 "nbformat": 4,
 "nbformat_minor": 2
}
