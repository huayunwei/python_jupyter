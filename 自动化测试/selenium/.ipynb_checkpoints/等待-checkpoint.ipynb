{
 "cells": [
  {
   "cell_type": "markdown",
   "metadata": {},
   "source": [
    "# 等待\n",
    "- find方式选择元素时\n",
    "    - 可以由代码设定一个最大的等待时长\n",
    "    - 周期性（每隔半秒）重新寻找该元素，直到该元素找到（返回）\n",
    "    - 如果超过最大等待时长（找一个元素则报错，找多个则返回空列表）"
   ]
  },
  {
   "cell_type": "markdown",
   "metadata": {},
   "source": [
    "- 显示等待：等待一个确定的条件触发然后才进行更深一步的执行\n",
    "    - time.sleep\n",
    "        - 等待固定的时间\n",
    "        - 使用方式：\n",
    "            - import time\n",
    "            - time.sleep(时间) //时间以s做单位\n",
    "    - webDriverWait+[ExpectedCondition](../EC判断.ipynb)\n",
    "        - 只等待需要的时间\n",
    "        - 使用方式：\n",
    "            - import selenium.webdriver.common.by import By\n",
    "            - import selenium.webdriver.support.ui import WebDriverWait\n",
    "            - import selenium.webdriver.sipport import expected_conditions as EC \n",
    "            \n",
    "                    el = WebDriverWait(driver,10).until(\n",
    "                        EC.presence_of_element_located(By.ID,\"xxx\")\n",
    "                    )\n",
    "        - 结果：\n",
    "            - 如果超过给出的时间，如上面是10s，抛出TimeoutException\n",
    "            - 如果在10s内找到元素，直接返回\n",
    "            - WebDriverWait默认每500毫秒调用一下expected_conditions，直到返回成功为止"
   ]
  },
  {
   "cell_type": "markdown",
   "metadata": {},
   "source": [
    "- 隐式等待：\n",
    "    - implicitly_wait(10) # 单位s"
   ]
  }
 ],
 "metadata": {
  "kernelspec": {
   "display_name": "Python 3",
   "language": "python",
   "name": "python3"
  },
  "language_info": {
   "codemirror_mode": {
    "name": "ipython",
    "version": 3
   },
   "file_extension": ".py",
   "mimetype": "text/x-python",
   "name": "python",
   "nbconvert_exporter": "python",
   "pygments_lexer": "ipython3",
   "version": "3.7.0"
  }
 },
 "nbformat": 4,
 "nbformat_minor": 2
}
