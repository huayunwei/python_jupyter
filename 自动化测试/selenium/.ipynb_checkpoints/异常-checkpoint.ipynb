{
 "cells": [
  {
   "cell_type": "markdown",
   "metadata": {},
   "source": [
    "# 异常\n",
    "- 导入：from selenium.common.exceptions import xxx\n",
    "- xx可以的值：\n",
    "    - ElementNotSelectableException：试图选中一个不能选中的元素时抛出\n",
    "    - ElementNotVisibleException：DOM上存在元素但是不显示时，对他进行交互时抛出\n",
    "    - ErrorInResponseException：服务端发生错误\n",
    "    - InvalidElementStateException：试图在一个和当前不同的域名下添加cookie\n",
    "    - InvalidSelectorException：没有返回一个webElement时抛出\n",
    "    - InvalidSwitchToTargetException：要切换的窗口或框架不存在\n",
    "    - NoAlertPresentException：屏幕没有警告框\n",
    "    - NoSuchAttributeException：元素找不到属性\n",
    "    - NoSuchElementException：找不到元素\n",
    "    - NoSuchWindowException：要切换的目标窗口不存在\n",
    "    - TimeoutException：规定时间内一个命令没有执行完\n",
    "    - UnexpectedAlertPresentException：预料之外的警告框"
   ]
  },
  {
   "cell_type": "code",
   "execution_count": null,
   "metadata": {},
   "outputs": [],
   "source": []
  }
 ],
 "metadata": {
  "kernelspec": {
   "display_name": "Python 3",
   "language": "python",
   "name": "python3"
  },
  "language_info": {
   "codemirror_mode": {
    "name": "ipython",
    "version": 3
   },
   "file_extension": ".py",
   "mimetype": "text/x-python",
   "name": "python",
   "nbconvert_exporter": "python",
   "pygments_lexer": "ipython3",
   "version": "3.7.0"
  }
 },
 "nbformat": 4,
 "nbformat_minor": 2
}
