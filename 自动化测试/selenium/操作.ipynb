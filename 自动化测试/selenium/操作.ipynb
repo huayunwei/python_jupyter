{
 "cells": [
  {
   "cell_type": "markdown",
   "metadata": {},
   "source": [
    "# 操作"
   ]
  },
  {
   "cell_type": "markdown",
   "metadata": {},
   "source": [
    "## 浏览器操作\n",
    "- get：跳转\n",
    "    - driver.get('url')\n",
    "- back：返回\n",
    "    - driver.back()\n",
    "- forward：前进\n",
    "    - driver.forward()\n",
    "- refresh：刷新\n",
    "    - driver.refresh()\n",
    "- 内容的获取\n",
    "    - 标题：driver.title\n",
    "    - 当前url：driver.current_url\n",
    "    - 整个页面的html：driver.page_source：\n",
    "- 管理窗口\n",
    "    - 获取当前窗口大小：driver.get_window_size(windowHandle='current')\n",
    "    - 最大化窗口：driver.maximize_window()\n",
    "    - 设置窗口的大小：driver.set_window_size(1000,1000)\n",
    "- 截屏\n",
    "    - 返回截屏的base64编码：driver.get_screenshot_as_base64()\n",
    "    - 返回截屏的二进制编码：driver.get_screenshot_as_png()\n",
    "    - 保存截屏为文件：driver.get_screenshot_as_file('C:\\\\Users\\\\Desktop\\\\pic.png')\n",
    "        - 如果保存的图片不是.png后缀，会报错，但是不影响截屏文件的保存\n",
    "- 退出\n",
    "    - 关闭当前窗口：driver.close()\n",
    "    - 关闭浏览器进程：driver.quit()"
   ]
  },
  {
   "cell_type": "markdown",
   "metadata": {},
   "source": [
    "## 网页元素操作\n",
    "### 获取元素信息\n",
    "- 元素属性：\n",
    "    - 某些属性可以直接获取\n",
    "        - text属性：获取元素的文本信息\n",
    "    - get_attribute：获取属性值\n",
    "        - ele.get_attribute('属性值')\n",
    "        - ele.get_attribute('outerHTML')：该元素对应html源代码\n",
    "        - ele.get_attribute('innerHTML')：该元素的内部部分的html源代码\n",
    "- BeautifulSoup4\n",
    "    - BS是可以从HTML或XML文件中提取数据的库\n",
    "    - 安装\n",
    "        - pip install beautifulsoup4\n",
    "        - pip install html5lib //用于处理上面beautifulsoup4兼容性问题\n",
    "    - 使用\n",
    "        - 导入：\n",
    "            - from bs4 import BeautifulSoup\n",
    "        - 制定用html5lib来解析html文档\n",
    "            - soup = BeautifulSoup(获取整个html的内容,\"html5lib\")\n",
    "        - 获取元素\n",
    "            - el = soup.find('标签名') //多个标签获取第一个匹配的，返回一个<class 'bs4.element.Tag'>实例\n",
    "            - el = soup.标签名 //同上\n",
    "            - el = soup.find_all('标签名') //获取所有匹配的元素，返回列表\n",
    "            - el = soup.find('标签名',属性='属性值') //获取第一个匹配标签名和属性值得元素\n",
    "        - 获取元素属性\n",
    "            - el.name：元素标签名\n",
    "            - el.string：元素文本内容\n",
    "            - el.get_text()：元素文本内容\n",
    "            - el.parent：元素父元素\n",
    "            - el['属性名']：获取元素的属性，属性有多个时，返回列表\n",
    "            - el.get('属性名'：获取元素属性)"
   ]
  },
  {
   "cell_type": "code",
   "execution_count": null,
   "metadata": {},
   "outputs": [],
   "source": []
  }
 ],
 "metadata": {
  "kernelspec": {
   "display_name": "Python 3",
   "language": "python",
   "name": "python3"
  },
  "language_info": {
   "codemirror_mode": {
    "name": "ipython",
    "version": 3
   },
   "file_extension": ".py",
   "mimetype": "text/x-python",
   "name": "python",
   "nbconvert_exporter": "python",
   "pygments_lexer": "ipython3",
   "version": "3.7.0"
  }
 },
 "nbformat": 4,
 "nbformat_minor": 2
}
