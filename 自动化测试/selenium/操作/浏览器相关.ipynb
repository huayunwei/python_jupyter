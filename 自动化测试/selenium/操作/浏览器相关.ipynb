{
 "cells": [
  {
   "cell_type": "markdown",
   "metadata": {},
   "source": [
    "# 浏览器操作\n",
    "- get：跳转\n",
    "    - driver.get('url')\n",
    "    - 如果要跳转到本地文件：地址应该为file:\\//开头的地址\n",
    "- back：返回\n",
    "    - driver.back()\n",
    "- forward：前进\n",
    "    - driver.forward()\n",
    "- refresh：刷新\n",
    "    - driver.refresh()\n",
    "- 内容的获取\n",
    "    - 标题：driver.title\n",
    "    - 当前url：driver.current_url\n",
    "    - 整个页面的html：driver.page_source：\n",
    "- 管理窗口\n",
    "    - 获取当前窗口大小：driver.get_window_size(windowHandle='current')\n",
    "    - 最大化窗口：driver.maximize_window()\n",
    "    - 设置窗口的大小：driver.set_window_size(1000,1000)\n",
    "        - 参数1为宽，参数2为高\n",
    "    - 切换到新窗口操作\n",
    "        - driver.window_handles：显示所有的窗口\n",
    "        - driver.switch_to_window(handle)：切换到新窗口\n",
    "        - 如何判断是否切换到指定窗口：循环driver.window_handles，检查每个窗口的title是否为想要的，是跳出循环\n",
    "- 提示让人来操作：\n",
    "    - import winsound\n",
    "    - winsound.Beep(1500,3000)\n",
    "- 退出\n",
    "    - 关闭当前窗口：driver.close()\n",
    "    - 关闭浏览器进程：driver.quit()"
   ]
  },
  {
   "cell_type": "code",
   "execution_count": null,
   "metadata": {},
   "outputs": [],
   "source": [
    "# 保存主窗口handle\n",
    "mainWindow = driver.current_window_handle\n",
    "\n",
    "# 方法1：\n",
    "for handle in driver.window_handles:\n",
    "    # 切换到新窗口\n",
    "    driver.switch_to_window(handle)\n",
    "    # 检查是否是我们要进入的window\n",
    "    if 'xxx' in driver.title:\n",
    "        break\n",
    "        \n",
    "# 方法2：\n",
    "winList = driver.window_handles\n",
    "# 如果想要切换到第二个窗口\n",
    "driver.switch_to_window(winList[1])"
   ]
  }
 ],
 "metadata": {
  "kernelspec": {
   "display_name": "Python 3",
   "language": "python",
   "name": "python3"
  },
  "language_info": {
   "codemirror_mode": {
    "name": "ipython",
    "version": 3
   },
   "file_extension": ".py",
   "mimetype": "text/x-python",
   "name": "python",
   "nbconvert_exporter": "python",
   "pygments_lexer": "ipython3",
   "version": "3.7.0"
  }
 },
 "nbformat": 4,
 "nbformat_minor": 2
}
