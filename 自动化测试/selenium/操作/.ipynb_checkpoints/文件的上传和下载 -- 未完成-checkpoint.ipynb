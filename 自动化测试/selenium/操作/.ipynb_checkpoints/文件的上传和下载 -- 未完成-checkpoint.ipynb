{
 "cells": [
  {
   "cell_type": "markdown",
   "metadata": {},
   "source": [
    "# 文件上传和下载"
   ]
  },
  {
   "cell_type": "markdown",
   "metadata": {},
   "source": [
    "## 上传\n",
    "- input上传：\n",
    "    - driver.find_element_by_name('file').send_keys(\"文件路径\")\n",
    "- 非input上传：\n",
    "    - 使用autoit：处理windows的弹出的控件\n",
    "    - [教程](https://www.cnblogs.com/yoyoketang/p/7612026.html)"
   ]
  },
  {
   "cell_type": "code",
   "execution_count": null,
   "metadata": {},
   "outputs": [],
   "source": [
    "#打开上传文件页面\n",
    "file_path = 'file:///' + os.path.abspath('upload_file.html')\n",
    "driver.get(file_path)\n",
    "#定位上传按钮，添加本地文件\n",
    "driver.find_element_by_name(\"file\").send_keys('D:\\\\selenium_use_case\\upload_file.txt')"
   ]
  },
  {
   "cell_type": "markdown",
   "metadata": {},
   "source": [
    "## 下载\n",
    "- [PyUserInput](https://www.cnblogs.com/yoyoketang/p/9563258.html)"
   ]
  },
  {
   "cell_type": "code",
   "execution_count": null,
   "metadata": {},
   "outputs": [],
   "source": []
  }
 ],
 "metadata": {
  "kernelspec": {
   "display_name": "Python 3",
   "language": "python",
   "name": "python3"
  },
  "language_info": {
   "codemirror_mode": {
    "name": "ipython",
    "version": 3
   },
   "file_extension": ".py",
   "mimetype": "text/x-python",
   "name": "python",
   "nbconvert_exporter": "python",
   "pygments_lexer": "ipython3",
   "version": "3.7.0"
  }
 },
 "nbformat": 4,
 "nbformat_minor": 2
}
