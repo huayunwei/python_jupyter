{
 "cells": [
  {
   "cell_type": "markdown",
   "metadata": {},
   "source": [
    "# 弹出的对话框\n",
    "- 分类\n",
    "    - alert\n",
    "    - confirm\n",
    "    - prompt\n",
    "- 操作方法\n",
    "    - driver.switch_to.alert.accept()：点击OK\n",
    "    - driver.switch_to.alert.text：得到对话框内容\n",
    "    - driver.switch_to.alert.dismiss()：点击Cancel\n",
    "    - driver.switch_to.alert.send_keys()：输入内容"
   ]
  }
 ],
 "metadata": {
  "kernelspec": {
   "display_name": "Python 3",
   "language": "python",
   "name": "python3"
  },
  "language_info": {
   "codemirror_mode": {
    "name": "ipython",
    "version": 3
   },
   "file_extension": ".py",
   "mimetype": "text/x-python",
   "name": "python",
   "nbconvert_exporter": "python",
   "pygments_lexer": "ipython3",
   "version": "3.7.0"
  }
 },
 "nbformat": 4,
 "nbformat_minor": 2
}
