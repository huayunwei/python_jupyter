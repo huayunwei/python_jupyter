{
 "cells": [
  {
   "cell_type": "markdown",
   "metadata": {},
   "source": [
    "# cookie\n",
    "- get_cookies()：获取所有cookie信息\n",
    "- get_cookie(name)：返回特定name有cookie信息\n",
    "- add_cookie({'name':'xx','value':'xxx'})：添加cookie，必须有name和value值\n",
    "- delete_cookie(name)：删除特定（部分）的cookie信息\n",
    "- delete_all_cookies()：删除所有cookie信息"
   ]
  }
 ],
 "metadata": {
  "kernelspec": {
   "display_name": "Python 3",
   "language": "python",
   "name": "python3"
  },
  "language_info": {
   "codemirror_mode": {
    "name": "ipython",
    "version": 3
   },
   "file_extension": ".py",
   "mimetype": "text/x-python",
   "name": "python",
   "nbconvert_exporter": "python",
   "pygments_lexer": "ipython3",
   "version": "3.7.0"
  }
 },
 "nbformat": 4,
 "nbformat_minor": 2
}
