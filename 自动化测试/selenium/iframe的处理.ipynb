{
 "cells": [
  {
   "cell_type": "markdown",
   "metadata": {},
   "source": [
    "# iframe的处理\n",
    "- iframe：会创建包含另外一个文档的内联框架\n",
    "- frame：定义frameset中的一个特定的窗口，frameset标签不能和body标签一起使用\n",
    "- 切换到iframe里面\n",
    "    - driver.switch_to.frame(参数)\n",
    "    - 参数：\n",
    "        - 一个iframe元素则填写它的name属性或ID属性\n",
    "        - 多个iframe则填写一个索引值，索引值从0开始\n",
    "        - 或者填写iframe所对应的WebElement\n",
    "- 切换回主html中\n",
    "    - driver.switch_to.default_content()"
   ]
  }
 ],
 "metadata": {
  "kernelspec": {
   "display_name": "Python 3",
   "language": "python",
   "name": "python3"
  },
  "language_info": {
   "codemirror_mode": {
    "name": "ipython",
    "version": 3
   },
   "file_extension": ".py",
   "mimetype": "text/x-python",
   "name": "python",
   "nbconvert_exporter": "python",
   "pygments_lexer": "ipython3",
   "version": "3.7.0"
  }
 },
 "nbformat": 4,
 "nbformat_minor": 2
}
