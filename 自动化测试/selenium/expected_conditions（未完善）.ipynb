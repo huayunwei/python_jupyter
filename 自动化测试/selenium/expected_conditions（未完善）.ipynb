{
 "cells": [
  {
   "cell_type": "markdown",
   "metadata": {},
   "source": [
    "# expected_conditions模块\n",
    "- 作用：各种判断函数\n",
    "- 导入模块\n",
    "    - from selenium.webdriver.support import expected_conditions as EC"
   ]
  },
  {
   "cell_type": "markdown",
   "metadata": {},
   "source": [
    "- 函数介绍：\n",
    "    - title_is：判断当前页面的title是否完全等于预期字符串\n",
    "    - title_contains：判断当前页面的title是否包含预期字符串"
   ]
  },
  {
   "cell_type": "code",
   "execution_count": null,
   "metadata": {},
   "outputs": [],
   "source": [
    "title = EC.title_is(u'xx') //判断title是否完全等于xx\n",
    "\n",
    "title = EC.title_contains(u'xx') //判断title是否包含xx"
   ]
  },
  {
   "cell_type": "markdown",
   "metadata": {},
   "source": [
    "- presence_of_element_located：判断某个元素是否被加到了dom树里，并不代表该元素一定可见\n",
    "- visibility_of_element_located：判断某个元素是否可见，可见代表元素非隐藏，并且元素的宽和高都不等于0\n",
    "- visibility_of：跟上面的方法一样，只是上面的方法要传入locator，整个方法直接传定位到的element就可以\n",
    "- presence_of_all_elements_located：判断至少有一个元素存在于dom树中\n",
    "- visibility_of_any_elements_located：\n",
    "- visibility_of_all_elements_located：\n",
    "- invisibility_of_element_located：判断某个元素中是否不存在与dom树或不可见\n",
    "- invisibility_of_element："
   ]
  },
  {
   "cell_type": "code",
   "execution_count": null,
   "metadata": {},
   "outputs": [],
   "source": []
  },
  {
   "cell_type": "markdown",
   "metadata": {},
   "source": [
    "- text_to_be_present_in_element：判断某个元素中的text是否包含预期的字符串\n",
    "- text_to_be_present_in_element_value：判断某个元素中的value属性是否包含了预期的字符串"
   ]
  },
  {
   "cell_type": "code",
   "execution_count": null,
   "metadata": {},
   "outputs": [],
   "source": [
    "locator = (\"属性\",\"属性值\")  //定位\n",
    "text = EC.text_to_be_present_in_element(locator,'xx')(driver) // 判断定位的元素的值是否为xx\n",
    "\n",
    "locator2 = (\"属性\",\"属性值\") //定位\n",
    "text = EC.text_to_be_present_in_element_value(locator2,'xx')(driver) //判断定位的元素的value属性值是否为xx"
   ]
  },
  {
   "cell_type": "markdown",
   "metadata": {},
   "source": [
    "- frame_to_be_available_and_switch_to_it：判断该frame是否可以switch进去，如果可以返回true且switch进去"
   ]
  },
  {
   "cell_type": "code",
   "execution_count": null,
   "metadata": {},
   "outputs": [],
   "source": []
  },
  {
   "cell_type": "markdown",
   "metadata": {},
   "source": [
    "- element_to_be_clickable：判断某个元素中是否可点击，可见并且是enable的\n",
    "- element_to_be_selected：判断某个元素是否被选中，一般用在下拉列表\n",
    "- element_selection_state_to_be：判断某个元素的选中状态是否符合预期\n",
    "- element_located_selection_state_to_be：跟上面的方法一样，只是上面的方法传入定位到element，而这个方法传入locator"
   ]
  },
  {
   "cell_type": "code",
   "execution_count": null,
   "metadata": {},
   "outputs": [],
   "source": []
  },
  {
   "cell_type": "markdown",
   "metadata": {},
   "source": [
    "- staleness_of：等某个元素从dom树中移除，返回true或flase"
   ]
  },
  {
   "cell_type": "code",
   "execution_count": null,
   "metadata": {},
   "outputs": [],
   "source": []
  },
  {
   "cell_type": "markdown",
   "metadata": {},
   "source": [
    "- alert_is_present：判断页面是否存在alert"
   ]
  },
  {
   "cell_type": "code",
   "execution_count": null,
   "metadata": {},
   "outputs": [],
   "source": []
  },
  {
   "cell_type": "markdown",
   "metadata": {},
   "source": [
    "- url_contains：\n",
    "- url_matches：\n",
    "- url_to_be：\n",
    "- url_changes："
   ]
  },
  {
   "cell_type": "code",
   "execution_count": null,
   "metadata": {},
   "outputs": [],
   "source": []
  },
  {
   "cell_type": "markdown",
   "metadata": {},
   "source": [
    "- number_of_windows_to_be：\n",
    "- new_window_is_opened："
   ]
  }
 ],
 "metadata": {
  "kernelspec": {
   "display_name": "Python 3",
   "language": "python",
   "name": "python3"
  },
  "language_info": {
   "codemirror_mode": {
    "name": "ipython",
    "version": 3
   },
   "file_extension": ".py",
   "mimetype": "text/x-python",
   "name": "python",
   "nbconvert_exporter": "python",
   "pygments_lexer": "ipython3",
   "version": "3.7.0"
  }
 },
 "nbformat": 4,
 "nbformat_minor": 2
}
