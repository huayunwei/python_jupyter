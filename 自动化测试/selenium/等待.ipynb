{
 "cells": [
  {
   "cell_type": "markdown",
   "metadata": {},
   "source": [
    "# 等待\n",
    "## sleep\n",
    "- 等待固定的时间\n",
    "- 使用方式：\n",
    "    - import time\n",
    "    - time.sleep(时间) //时间以s做单位\n",
    "## selenium自身给出的解决办法\n",
    "- find方式选择元素时\n",
    "    - 可以由代码设定一个最大的等待时长\n",
    "    - 周期性（每隔半秒）重新寻找该元素，直到该元素找到（返回）\n",
    "    - 如果超过最大等待时长（找一个元素则报错，找多个则返回空列表）\n",
    "- 最大等待时长的全局设定\n",
    "    - driver.implicitly_wait(时间) //时间以s做单位\n",
    "- 为单独的操作设置指定的等待时间\n",
    "    - from selenium.webdriver.support.ui import WebDriverWait\n",
    "    - from selenium.webdriver.support import expected_conditions\n",
    "    - from selenium webdriver.common.by import By\n",
    "    - el = WebDriverWait(driver,60).until(EC.presence_of_element_located(By.ID,'id名'))"
   ]
  }
 ],
 "metadata": {
  "kernelspec": {
   "display_name": "Python 3",
   "language": "python",
   "name": "python3"
  },
  "language_info": {
   "codemirror_mode": {
    "name": "ipython",
    "version": 3
   },
   "file_extension": ".py",
   "mimetype": "text/x-python",
   "name": "python",
   "nbconvert_exporter": "python",
   "pygments_lexer": "ipython3",
   "version": "3.7.0"
  }
 },
 "nbformat": 4,
 "nbformat_minor": 2
}
