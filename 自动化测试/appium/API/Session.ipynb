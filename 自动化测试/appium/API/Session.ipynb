{
 "cells": [
  {
   "cell_type": "markdown",
   "metadata": {},
   "source": [
    "# 创建session"
   ]
  },
  {
   "cell_type": "code",
   "execution_count": null,
   "metadata": {},
   "outputs": [],
   "source": [
    "desired_caps = desired_caps = {\n",
    "    # 平台名\n",
    "  'platformName': 'Android',\n",
    "  # 平台版本\n",
    "  'platformVersion': '7.0',\n",
    "    # 链接的手机\n",
    "  'deviceName': 'Android Emulator',\n",
    "    # \n",
    "  'automationName': 'UiAutomator2',\n",
    "    # 软件包\n",
    "  'appPackage': '',\n",
    "    # 开启页\n",
    "  'appActivity': ''\n",
    "}\n",
    "\n",
    "# 链接appium，开始执行\n",
    "driver = webdriver.Remote('http://127.0.0.1:4723/wd/hub', desired_caps)"
   ]
  },
  {
   "cell_type": "markdown",
   "metadata": {},
   "source": [
    "# 结束session"
   ]
  },
  {
   "cell_type": "code",
   "execution_count": null,
   "metadata": {},
   "outputs": [],
   "source": [
    "driver.quit()"
   ]
  },
  {
   "cell_type": "markdown",
   "metadata": {},
   "source": [
    "# session功能"
   ]
  },
  {
   "cell_type": "code",
   "execution_count": null,
   "metadata": {},
   "outputs": [],
   "source": [
    "driver.desired_capabilities"
   ]
  },
  {
   "cell_type": "markdown",
   "metadata": {},
   "source": [
    "# 截图"
   ]
  },
  {
   "cell_type": "code",
   "execution_count": null,
   "metadata": {},
   "outputs": [],
   "source": [
    "screenshotBase64 = self.driver.get_screenshot_as_base64()"
   ]
  },
  {
   "cell_type": "markdown",
   "metadata": {},
   "source": [
    "# 页面源码"
   ]
  },
  {
   "cell_type": "code",
   "execution_count": null,
   "metadata": {},
   "outputs": [],
   "source": [
    "source = driver.page_source"
   ]
  },
  {
   "cell_type": "markdown",
   "metadata": {},
   "source": [
    "# 等待"
   ]
  },
  {
   "cell_type": "code",
   "execution_count": null,
   "metadata": {},
   "outputs": [],
   "source": [
    "# 页面加载的超时\n",
    "driver.set_page_load_timeout(5000)\n",
    "\n",
    "# 搜索元素时的加载\n",
    "driver.implicitly_wait(5) # 以s为单位\n",
    "\n",
    "# 异步执行脚本在终止之前的最大运行时间\n",
    "driver.set_script_timeout(5)"
   ]
  },
  {
   "cell_type": "markdown",
   "metadata": {},
   "source": [
    "# 方向"
   ]
  },
  {
   "cell_type": "code",
   "execution_count": null,
   "metadata": {},
   "outputs": [],
   "source": [
    "# 获取当前浏览器或设备方向\n",
    "driver.orientation()\n",
    "\n",
    "# 设置浏览器或设备方向\n",
    "driver.orientation = \"LANDSCAPE\""
   ]
  },
  {
   "cell_type": "markdown",
   "metadata": {},
   "source": [
    "# 地理位置"
   ]
  },
  {
   "cell_type": "code",
   "execution_count": null,
   "metadata": {},
   "outputs": [],
   "source": [
    "# 获取地理位置\n",
    "driver.location()\n",
    "\n",
    "# 设置地理位置：纬度，经度，高度\n",
    "driver.set_location(num1,num2,num3)"
   ]
  },
  {
   "cell_type": "markdown",
   "metadata": {},
   "source": [
    "# 日志"
   ]
  },
  {
   "cell_type": "code",
   "execution_count": null,
   "metadata": {},
   "outputs": [],
   "source": [
    "# 根据日志类型获取日志\n",
    "driver.log_types()\n",
    "\n",
    "driver.get_log('driver')"
   ]
  }
 ],
 "metadata": {
  "kernelspec": {
   "display_name": "Python 3",
   "language": "python",
   "name": "python3"
  },
  "language_info": {
   "codemirror_mode": {
    "name": "ipython",
    "version": 3
   },
   "file_extension": ".py",
   "mimetype": "text/x-python",
   "name": "python",
   "nbconvert_exporter": "python",
   "pygments_lexer": "ipython3",
   "version": "3.7.0"
  }
 },
 "nbformat": 4,
 "nbformat_minor": 2
}
