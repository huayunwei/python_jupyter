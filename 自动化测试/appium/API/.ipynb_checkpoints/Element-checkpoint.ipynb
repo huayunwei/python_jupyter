{
 "cells": [
  {
   "cell_type": "markdown",
   "metadata": {},
   "source": [
    "# 获取元素"
   ]
  },
  {
   "cell_type": "code",
   "execution_count": null,
   "metadata": {},
   "outputs": [],
   "source": [
    "# 获取单个元素\n",
    "driver.find_element_by_id() # 其中对于安卓为resource-id的值，对于苹果为name的值\n",
    "\n",
    "driver.find_element_by_class_name() # 对于安卓为整个class值，对于苹果为xcui元素类型+元素\n",
    "\n",
    "driver.find_element_by_xpath() # xpath的值，不推荐很慢，有性能问题\n",
    "\n",
    "driver.find_element_by_name() # 元素name值\n",
    "\n",
    "# 获取多个元素 --- 在单个元素的基础上element后增加s"
   ]
  },
  {
   "cell_type": "markdown",
   "metadata": {},
   "source": [
    "# 基本操作"
   ]
  },
  {
   "cell_type": "code",
   "execution_count": null,
   "metadata": {},
   "outputs": [],
   "source": [
    "# 点击\n",
    "xxx.click()\n",
    "\n",
    "# 发送内容\n",
    "xxx.send_key()\n",
    "\n",
    "# 清空\n",
    "xxx.clear()"
   ]
  },
  {
   "cell_type": "markdown",
   "metadata": {},
   "source": [
    "# 属性"
   ]
  },
  {
   "cell_type": "code",
   "execution_count": null,
   "metadata": {},
   "outputs": [],
   "source": [
    "# 元素的文本\n",
    "xxx.text\n",
    "\n",
    "# 元素标签名\n",
    "xxx.tag_name\n",
    "\n",
    "# 获取某个属性值的函数\n",
    "xxx.get_attribute('属性名')\n",
    "\n",
    "# 判断一个表单元素或类似表单的元素是否被选择\n",
    "xxx.is_selected()\n",
    "\n",
    "# 判断一个元素是否启用\n",
    "xxx.is_enabled()\n",
    "\n",
    "# 判断一个元素是否可见\n",
    "xxx.is_displayed()\n",
    "\n",
    "# 元素的位置\n",
    "xxx.location # 以页面左上角为原点，返回位置的x,y坐标组成的json\n",
    "\n",
    "# 元素的大小\n",
    "xxx.size # 返回对象的宽和高属性\n",
    "\n",
    "# 获取web元素的css属性值\n",
    "xxx.value_of_css_property('css样式名')\n",
    "\n",
    "# 提交，web才可以用\n",
    "xxx.submit()\n",
    "\n",
    "# 移动到活跃元素\n",
    "driver.switch_to.active_element"
   ]
  }
 ],
 "metadata": {
  "kernelspec": {
   "display_name": "Python 3",
   "language": "python",
   "name": "python3"
  },
  "language_info": {
   "codemirror_mode": {
    "name": "ipython",
    "version": 3
   },
   "file_extension": ".py",
   "mimetype": "text/x-python",
   "name": "python",
   "nbconvert_exporter": "python",
   "pygments_lexer": "ipython3",
   "version": "3.7.0"
  }
 },
 "nbformat": 4,
 "nbformat_minor": 2
}
