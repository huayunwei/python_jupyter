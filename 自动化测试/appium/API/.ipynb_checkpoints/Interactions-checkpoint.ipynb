{
 "cells": [
  {
   "cell_type": "markdown",
   "metadata": {},
   "source": [
    "# 鼠标操作\n",
    "- actions = ActionChains(driver) # 定义actions元素\n",
    "- actions.perform() # 执行上面的所有actions"
   ]
  },
  {
   "cell_type": "code",
   "execution_count": null,
   "metadata": {},
   "outputs": [],
   "source": [
    "'''\n",
    "移动\n",
    "1.如果没有指定element，会根据鼠标当前的位置进行移动\n",
    "2.如果提供了元素，但是没有指定位置，鼠标会移动到元素的正中心\n",
    "3.如果元素不在可视范围内，页面会自动滚动到可见\n",
    "'''\n",
    "actions.move_to(element,x,y)\n",
    "\n",
    "# 点击\n",
    "actions.click()\n",
    "\n",
    "# 双击\n",
    "actions.double_click()\n",
    "\n",
    "# 鼠标按下\n",
    "actions.click_and_hold()\n",
    "\n",
    "# 鼠标抬起\n",
    "actions.release()"
   ]
  },
  {
   "cell_type": "markdown",
   "metadata": {},
   "source": [
    "# 触摸事件\n",
    "- 导入：from appium.webdriver.common.touch_action import TouchAction\n",
    "- actions = TouchAction(driver)\n",
    "- actions.perform()"
   ]
  },
  {
   "cell_type": "code",
   "execution_count": null,
   "metadata": {},
   "outputs": [],
   "source": [
    "# 点击一次\n",
    "actions.tap(el)\n",
    "\n",
    "# 点击两次\n",
    "actions.double_tap(el)\n",
    "\n",
    "# 移动\n",
    "actions.move(x,y)\n",
    "\n",
    "# 按住不放\n",
    "actions.tap_and_hold(x,y)\n",
    "\n",
    "# 抬起\n",
    "actions.release(x,y)\n",
    "\n",
    "# 长按\n",
    "actions.long_press(el)\n",
    "\n",
    "# 滚动\n",
    "actions.scroll_from_element(element, x, y)\n",
    "actions.scroll(x, y)\n",
    "\n",
    "# 轻触\n",
    "actions.flick_element(element, x, y, speed)\n",
    "\n",
    "\n",
    "# 执行多个动作\n",
    "from appium.webdriver.common.touch_action import TouchAction\n",
    "from appium.webdriver.common.multi_action import MultiAction\n",
    "\n",
    "a1 = TouchAction()\n",
    "a1.press(10, 20)\n",
    "a1.move_to(10, 200)\n",
    "a1.release()\n",
    "\n",
    "a2 = TouchAction()\n",
    "a2.press(10, 10)\n",
    "a2.move_to(10, 100)\n",
    "a2.release()\n",
    "\n",
    "ma = MultiAction(self.driver)\n",
    "ma.add(a1, a2)\n",
    "ma.perform()"
   ]
  }
 ],
 "metadata": {
  "kernelspec": {
   "display_name": "Python 3",
   "language": "python",
   "name": "python3"
  },
  "language_info": {
   "codemirror_mode": {
    "name": "ipython",
    "version": 3
   },
   "file_extension": ".py",
   "mimetype": "text/x-python",
   "name": "python",
   "nbconvert_exporter": "python",
   "pygments_lexer": "ipython3",
   "version": "3.7.0"
  }
 },
 "nbformat": 4,
 "nbformat_minor": 2
}
