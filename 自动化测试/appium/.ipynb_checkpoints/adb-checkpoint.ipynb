{
 "cells": [
  {
   "cell_type": "markdown",
   "metadata": {},
   "source": [
    "# adb"
   ]
  },
  {
   "cell_type": "markdown",
   "metadata": {},
   "source": [
    "## adb环境和手机连接"
   ]
  },
  {
   "cell_type": "markdown",
   "metadata": {},
   "source": [
    "## adb命令\n",
    "- adb devices：获取连接的手机列表\n",
    "- adb shell getprop ro.build.version.release：获取手机系统版本\n",
    "    - 结果：8.1.0\n",
    "- adb shell getprop ro.build.version.sdk：获取手机系统api版本\n",
    "    - 结果：27"
   ]
  },
  {
   "cell_type": "code",
   "execution_count": null,
   "metadata": {},
   "outputs": [],
   "source": []
  }
 ],
 "metadata": {
  "kernelspec": {
   "display_name": "Python 3",
   "language": "python",
   "name": "python3"
  },
  "language_info": {
   "codemirror_mode": {
    "name": "ipython",
    "version": 3
   },
   "file_extension": ".py",
   "mimetype": "text/x-python",
   "name": "python",
   "nbconvert_exporter": "python",
   "pygments_lexer": "ipython3",
   "version": "3.7.0"
  }
 },
 "nbformat": 4,
 "nbformat_minor": 2
}
