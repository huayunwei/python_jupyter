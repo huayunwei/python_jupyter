{
 "cells": [
  {
   "cell_type": "markdown",
   "metadata": {},
   "source": [
    "# wait_acitivity -- 和selenium的不同，这个用于等待指定的activity的出现\n",
    "- driver.wait_acitivity(self,activity,timeout,interval=1)\n",
    "    - 作用：等待activity的出现，每隔interval时间查询一次，一直到timeout为止，查到返回true，否则返回false\n",
    "    - activitity：等待的activity的值\n",
    "    - timeout：最大超时时间，单位为s\n",
    "    - interval：循环查询时间，每次扫描间隔的时间，单位为s"
   ]
  },
  {
   "cell_type": "code",
   "execution_count": null,
   "metadata": {},
   "outputs": [],
   "source": []
  }
 ],
 "metadata": {
  "kernelspec": {
   "display_name": "Python 3",
   "language": "python",
   "name": "python3"
  },
  "language_info": {
   "codemirror_mode": {
    "name": "ipython",
    "version": 3
   },
   "file_extension": ".py",
   "mimetype": "text/x-python",
   "name": "python",
   "nbconvert_exporter": "python",
   "pygments_lexer": "ipython3",
   "version": "3.7.0"
  }
 },
 "nbformat": 4,
 "nbformat_minor": 2
}
