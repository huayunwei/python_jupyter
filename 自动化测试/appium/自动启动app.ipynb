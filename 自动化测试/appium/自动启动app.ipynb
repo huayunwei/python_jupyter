{
 "cells": [
  {
   "cell_type": "markdown",
   "metadata": {},
   "source": [
    "# 使用脚本自动启动app\n",
    "- 前提条件：\n",
    "    1. 手机中安装了要启动的app\n",
    "    2. 使用aapt命令在电脑端获取app包的名字和launcherActivity\n",
    "        - appt命令 - Android Asset Packaging Tool\n",
    "            - 下载完Android Studio,安装一个android版本\n",
    "            - 在SDK中的build-tools中的android版本下有该命令\n",
    "            - 将命令的目录添加到环境变量中\n",
    "        - appt命令获取安装包内容\n",
    "            - 将包放在电脑的一个目录中\n",
    "            - 在cmd中输入：aapt dump badging 包的路径\n",
    "            - package:name='xxx'中xxx的值  -- 包的名字\n",
    "            - launchable-activity：name='xxx'中xxx的值 -- launcherActivity的值"
   ]
  },
  {
   "cell_type": "markdown",
   "metadata": {},
   "source": [
    "- 在python中编写如下程序："
   ]
  },
  {
   "cell_type": "code",
   "execution_count": null,
   "metadata": {},
   "outputs": [],
   "source": [
    "from appium import webdriver\n",
    "\n",
    "desired_caps = {\n",
    "    # 平台名字\n",
    "    'platformName':'Android',\n",
    "    # 连接的手机名字，可以使用adb devices获取\n",
    "    'deviceName':'D3H5T18312000636',\n",
    "    # 手机的安卓平台版本，可以使用adb shell getprop ro.build.version.release获取\n",
    "    'platformVersion':'8.1.0',\n",
    "    # 包的名字，通过上面的aapt获取\n",
    "    'appPackage':'com.liukena.android',\n",
    "    # 包的启动页，通过上面的aapt获取\n",
    "    'appActivity':'com.liukena.android.activity.StartActivity'\n",
    "}\n",
    "# 将上面的参数传给appium\n",
    "driver = webdriver.Remote('http://127.0.0.1:4723/wd/hub',desired_caps)"
   ]
  },
  {
   "cell_type": "markdown",
   "metadata": {},
   "source": [
    "- 启动appium 服务器\n",
    "- 执行上面的python脚本"
   ]
  }
 ],
 "metadata": {
  "kernelspec": {
   "display_name": "Python 3",
   "language": "python",
   "name": "python3"
  },
  "language_info": {
   "codemirror_mode": {
    "name": "ipython",
    "version": 3
   },
   "file_extension": ".py",
   "mimetype": "text/x-python",
   "name": "python",
   "nbconvert_exporter": "python",
   "pygments_lexer": "ipython3",
   "version": "3.7.0"
  }
 },
 "nbformat": 4,
 "nbformat_minor": 2
}
