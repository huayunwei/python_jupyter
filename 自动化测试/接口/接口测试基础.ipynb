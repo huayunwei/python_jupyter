{
 "cells": [
  {
   "cell_type": "markdown",
   "metadata": {},
   "source": [
    "# 接口测试\n",
    "- 相关文章：\n",
    "    1：https://www.cnblogs.com/yyhh/p/6083159.html\n",
    "- 关注点\n",
    "    - 接口文档中写到的每一个请求参数都要测试到，对于没有测试过的接口来说\n",
    "    - 接口文档\n",
    "        - 请求的地址\n",
    "        - 请求方式\n",
    "        - 请求参数\n",
    "        - 请求的结果\n",
    "- 测试用例：\n",
    "    - 接口名称\n",
    "    - 接口连接\n",
    "    - 测试标题\n",
    "    - 返回格式\n",
    "    - 请求方式\n",
    "    - 参数和参数设置\n",
    "    - 预期结果\n",
    "    - 实际结果\n",
    "- 测试方式\n",
    "    - 如果测试文档很明确，可以直接进行测试用例的编写和使用postman进行测试的执行或用python写代码执行\n",
    "    - 如果测试文档不明确，使用fiddler进行抓包或jmeter录制，抓包后使用postman后直接用jmeter查看，然后编写用例\n",
    "    - 如果要考虑最后的自动化继承，需要用python进行脚本的编制"
   ]
  },
  {
   "cell_type": "code",
   "execution_count": null,
   "metadata": {},
   "outputs": [],
   "source": []
  }
 ],
 "metadata": {
  "kernelspec": {
   "display_name": "Python 3",
   "language": "python",
   "name": "python3"
  },
  "language_info": {
   "codemirror_mode": {
    "name": "ipython",
    "version": 3
   },
   "file_extension": ".py",
   "mimetype": "text/x-python",
   "name": "python",
   "nbconvert_exporter": "python",
   "pygments_lexer": "ipython3",
   "version": "3.7.0"
  }
 },
 "nbformat": 4,
 "nbformat_minor": 2
}
