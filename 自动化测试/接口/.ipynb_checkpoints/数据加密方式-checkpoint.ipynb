{
 "cells": [
  {
   "cell_type": "markdown",
   "metadata": {},
   "source": [
    "# 数据加密概述\n",
    "1. 网络数据传输面临的威胁\n",
    "    - 数据窃听与机密性：保证数据不会因为被截获或窃听而暴露\n",
    "    - 数据篡改与完整性：保证数据不会被恶意篡改\n",
    "    - 身份冒充与身份验证：保证数据交互双方的身份没有被冒充\n",
    "2. 解决上面威胁的数据加密方式\n",
    "    - 对称加密：值数据加密和解密使用相同的密钥，解决数据的机密性问题，常用算法包括：DES,AES\n",
    "    - 非对称加密：公钥加密，指数据加密和解密使用不同的密钥，解决数据的身份验证问题，常用算法包括：DSA,RSA\n",
    "    - 单向加密：只加密数据，而不能解密数据，解决数据的完整性问题，常用算法包括：MD5,SHA系列算法\n",
    "\n",
    "# python的加密模块\n",
    "1. 演变过程：\n",
    "    - python2.5之前：md5、sha、和hmac加密模块\n",
    "    - python2.5对md5和sha算法的实现整合到新模块：hashlib\n",
    "    - python3.x去掉md5和sha模块，只剩下hashlib和hmac模块\n",
    "    - python3.6增加一个新的卡产生用于密钥管理的安全随机数的模块：secrets\n",
    "2. 加密名词介绍\n",
    "    - HASH：散列或哈希，将任意长度的消息压缩为某一固定长度的消息摘要的函数\n",
    "    - MD5：可以生成定长的数据指纹\n",
    "    - SHA：安全散列算法，是数字签名等密码学应用中的重要工具\n",
    "    - HMAC：散列消息鉴别码\n",
    "3. 加密模块介绍\n",
    "    - hashlib：内置模块，主要提供一些常见的单向加密算法（如MD5,SHA等）\n",
    "    - hmac：内置模块，主要提供单向加密算法hamc，支持设置一个额外的密钥来提高安全性\n",
    "    - secrets：内置模块，用于获取安全随机数\n",
    "    - base64：内置模块，用于二进制数据与可打印ASCII字符之间的转换操作，提供了编码和解码函数\n",
    "    - pycrypto：非内置函数，支持单向加密，对称加密和公钥加密以及随机数操作"
   ]
  },
  {
   "cell_type": "markdown",
   "metadata": {},
   "source": [
    "# hashlib模块\n",
    "- hashlib模块的函数和属性\n",
    "    - hashlib.new(name[,data])：通用的哈希对象构造函数，用于构造指定的哈希算法所对应的哈希对象，name为指定哈希算法名称，如md5,sha等，data可选，代表初始数据\n",
    "    - hashlib.哈希算法名称()：上面方法的替换方法，可以直接通过具体的哈希算法名称对应的函数来获取哈希对象，如hashlib.md5()，hashlib.sha1()等\n",
    "    - hashlib.algorithms_guaranteed：python3.2新增的属性，值是一个该模块在所有平台都会支持的哈希算法的名称集合\n",
    "    - hashlib.algorithms_available：值是一个当前运行的python解释器中可用的哈希算法的名称集合\n",
    "- hashlib实例对象的方法和属性\n",
    "    - hash.update(data)：更新哈希对象索要计算的数据，多次调用为累加效果\n",
    "        - m.update(a);m.update(b)等同于m.update(a+b)\n",
    "    - hash.digest()：返回传递给update函数的所有数据的摘要信息 -- 二进制格式的字符串，长度为16位\n",
    "    - hash.hexdigest()：返回传递给update函数的所有数据的摘要信息 -- 十六进制格式的字符串，长度为32位\n",
    "    - hash.copy()：返回该哈希对象的一个克隆\n",
    "    - hash.digest_size：hash结果的字节大小，即hash.digest()方法返回结果的字符串长度\n",
    "    - hash.block_size：hash算法内部块的字节大小\n",
    "    - hash.name：当前hash对象对应的哈希算法的标准名称-- 小写形式\n",
    "- 使用方法：\n",
    "    1. 实例化对象：对象 = hashlib.哈希算法名称()\n",
    "    2. 设置输入数据：对象.update(输入信息)\n",
    "    3. 获取输入信息对应的摘要：对象.digest() -- 返回一个二进制格式的字符串 或 对象.hexdigest() --- 返回一个16进制格式的字符串"
   ]
  },
  {
   "cell_type": "markdown",
   "metadata": {},
   "source": [
    "# md5编码"
   ]
  },
  {
   "cell_type": "code",
   "execution_count": 10,
   "metadata": {},
   "outputs": [
    {
     "name": "stdout",
     "output_type": "stream",
     "text": [
      "5f4dcc3b5aa765d61d8327deb882cf99\n"
     ]
    }
   ],
   "source": [
    "# 编码\n",
    "import hashlib\n",
    "m = hashlib.md5()\n",
    "# 参数必须是byte类型\n",
    "m.update(b\"password\")\n",
    "pwd = m.hexdigest()  #默认是32位的md5编码\n",
    "print(pwd)"
   ]
  },
  {
   "cell_type": "markdown",
   "metadata": {},
   "source": [
    "##  hmac模块\n",
    "- 模块提供的函数：\n",
    "    - hmac.new(key,msg=None,digestmode=None)：创建一个hmac对象，key为密钥，msg为初始数据，digestmod为所使用的哈希算法，默认为hashlib.md5\n",
    "    - hmac.compare_digest(a,b)：比较两个hmac对象，返回a==b的值\n",
    "- 对象中的方法和属性\n",
    "    - update(msg)：同hashlib对应的内容\n",
    "    - digest()\n",
    "    - hexdigest()\n",
    "    - copy()\n",
    "    - digest_size\n",
    "    - block_size\n",
    "    - name"
   ]
  },
  {
   "cell_type": "markdown",
   "metadata": {},
   "source": [
    "# secrets模块\n",
    "- 函数：\n",
    "    - secrets.choice(sequence)：功能与random.choice(seq)相同，从指定的非空序列中随机选择一个元素并返回\n",
    "    - secrets.randbelow(n)：功能与random.randrange(n)相同，从0闭n开区间内随机返回一个整数\n",
    "    - secrets.randbits(k)：返回一个带有k个随机数的整数\n",
    "    - secrets.token_bytes[(nbytes=None)]：返回一个包含nbytes个字节的随机字节串\n",
    "    - secrets.token_hex[(nbytes=None)]：返回一个包含nbytes字节的16进制格式的随机文本字符串，每个字节被转成2个16进制数字，可以用来生成一个随机密码\n",
    "    - secrets.token_urlsafe[(nbytes)]：返回一个包含nbytes个字节的随机安全URL文本字符串，可以在提供重置密码的应用中用来生成一个临时的随机令牌\n",
    "    - secrets.compare_digest(a,b)：比较字符串a和字符串b是否相等"
   ]
  },
  {
   "cell_type": "code",
   "execution_count": 12,
   "metadata": {},
   "outputs": [
    {
     "name": "stdout",
     "output_type": "stream",
     "text": [
      "z4eVYQrA\n"
     ]
    }
   ],
   "source": [
    "# 生成一个由8位数字和字母组成的随机密码\n",
    "import secrets\n",
    "import string\n",
    "\n",
    "alphanum = string.ascii_letters + string.digits\n",
    "password = ''.join(secrets.choice(alphanum) for i in range(8))\n",
    "print(password)"
   ]
  },
  {
   "cell_type": "code",
   "execution_count": 24,
   "metadata": {},
   "outputs": [
    {
     "name": "stdout",
     "output_type": "stream",
     "text": [
      "4p9pid9xGd\n"
     ]
    }
   ],
   "source": [
    "# 生成一个由10位数字和字母组成的随机密码，要求至少有一个小写字符，至少一个大写字符和至少3个数字\n",
    "# 其中生成器结果求长度只能用sum函数，其他可以用len\n",
    "import secrets\n",
    "import string\n",
    "\n",
    "alphanum = string.ascii_letters + string.digits\n",
    "while True:\n",
    "    password = ''.join(secrets.choice(alphanum) for i in range(10))\n",
    "    if any(c.islower() for c in password) and any(c.isupper() for c in password) and sum(c.isdigit() for c in password) >= 3:\n",
    "        break\n",
    "print(password)"
   ]
  },
  {
   "cell_type": "markdown",
   "metadata": {},
   "source": [
    "# base64编码\n",
    "- 作用：一种用64个字符表示任意二进制数据的方法通过查表对二进制数据进行编码的方法，不能用于数据加密\n",
    "- 应用场景：适用于小段内容的编码\n",
    "- 函数\n",
    "    - base64.b64encode(s,altchars=None)：对二进制数据（字节串）通过base64进行编码，返回编码后的字节串\n",
    "    - base64.b64decode(s,altchars=None,validate=False)：对通过base64编码的字节对象或ASCII字符串进行解码，返回解码后的字符串\n",
    "    - base64.urlsafe_b64encode(s)：与b64encode不同的是，它会把标砖Base64编码结果中的字符+和字符/分别转换成字符-和字符_\n",
    "    - base64.urlsafe_b64decode(s)：将上面函数编码后的内容解码\n",
    "- base64编码后的 = 的意义\n",
    "    - base64编码的过程中会先把原来数据中的每3个字节的二进制数据编码为4个字节的文本数据，当原始数据最后不满3个字节时用\\00进行补位，会在编码结果上增加相应个数的=号表示补了多少个字节"
   ]
  },
  {
   "cell_type": "code",
   "execution_count": 3,
   "metadata": {},
   "outputs": [
    {
     "name": "stdout",
     "output_type": "stream",
     "text": [
      "b'YWJjcjM0cjM0NHI='\n",
      "<class 'bytes'>\n"
     ]
    }
   ],
   "source": [
    "# 编码\n",
    "import base64\n",
    "encodestr = base64.b64encode('abcr34r344r'.encode('utf-8'))\n",
    "print(encodestr)\n",
    "print(type(encodestr))"
   ]
  },
  {
   "cell_type": "code",
   "execution_count": 6,
   "metadata": {},
   "outputs": [
    {
     "name": "stdout",
     "output_type": "stream",
     "text": [
      "YWJjcjM0cjM0NHI=\n",
      "<class 'str'>\n"
     ]
    }
   ],
   "source": [
    "# 将上面编码的类型转换成string类型\n",
    "temp = str(encodestr,'utf-8')\n",
    "print(temp)\n",
    "print(type(temp))"
   ]
  },
  {
   "cell_type": "code",
   "execution_count": 9,
   "metadata": {},
   "outputs": [
    {
     "name": "stdout",
     "output_type": "stream",
     "text": [
      "b'abcr34r344r'\n",
      "b'abcr34r344r'\n"
     ]
    }
   ],
   "source": [
    "# 解码：参数必须是bytes类型的数据\n",
    "temp2 = base64.b64decode(temp.encode('utf-8'))\n",
    "print(temp2)\n",
    "temp3 = base64.b64decode(encodestr)\n",
    "print(temp3)"
   ]
  },
  {
   "cell_type": "markdown",
   "metadata": {},
   "source": [
    "# pycrypto"
   ]
  },
  {
   "cell_type": "markdown",
   "metadata": {},
   "source": [
    "参照：https://www.cnblogs.com/yyds/p/7072492.html"
   ]
  }
 ],
 "metadata": {
  "kernelspec": {
   "display_name": "Python 3",
   "language": "python",
   "name": "python3"
  },
  "language_info": {
   "codemirror_mode": {
    "name": "ipython",
    "version": 3
   },
   "file_extension": ".py",
   "mimetype": "text/x-python",
   "name": "python",
   "nbconvert_exporter": "python",
   "pygments_lexer": "ipython3",
   "version": "3.7.0"
  }
 },
 "nbformat": 4,
 "nbformat_minor": 2
}
