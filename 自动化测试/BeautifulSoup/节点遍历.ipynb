{
 "cells": [
  {
   "cell_type": "markdown",
   "metadata": {},
   "source": [
    "# 根据标签名获取元素"
   ]
  },
  {
   "cell_type": "code",
   "execution_count": null,
   "metadata": {},
   "outputs": [],
   "source": [
    "# 获取body下第一个div\n",
    "soup.body.div"
   ]
  },
  {
   "cell_type": "markdown",
   "metadata": {},
   "source": [
    "# 子元素"
   ]
  },
  {
   "cell_type": "code",
   "execution_count": null,
   "metadata": {},
   "outputs": [],
   "source": [
    "# 将tag的子节点以列表的方式输出，包括文本节点\n",
    "soup.body.contents\n",
    "\n",
    "soup.body.children"
   ]
  },
  {
   "cell_type": "markdown",
   "metadata": {},
   "source": [
    "# 所有子孙节点"
   ]
  },
  {
   "cell_type": "code",
   "execution_count": null,
   "metadata": {},
   "outputs": [],
   "source": [
    "# 包括子节点和子节点的子节点等。。。，返回列表\n",
    "soup.body.descendants"
   ]
  },
  {
   "cell_type": "markdown",
   "metadata": {},
   "source": [
    "# 文本子节点"
   ]
  },
  {
   "cell_type": "code",
   "execution_count": null,
   "metadata": {},
   "outputs": [],
   "source": [
    "# 获取只有一个文本子节点的内容，如果有多个返回None\n",
    "soup.body.div.string\n",
    "\n",
    "# 获取所有的文本子节点，包括空白符，换行符等\n",
    "soup.body.div.strings\n",
    "\n",
    "# 获取所有的文本子节点，去掉前后的空白符，换行符等\n",
    "soup.body.div.stripped_strings"
   ]
  },
  {
   "cell_type": "markdown",
   "metadata": {},
   "source": [
    "# 父节点"
   ]
  },
  {
   "cell_type": "code",
   "execution_count": null,
   "metadata": {},
   "outputs": [],
   "source": [
    "# 获取上层父节点\n",
    "# 其中html的上层父节点为BeautifulSoup对象\n",
    "# BeautifulSoup对象上层父元素为None\n",
    "soup.body.parent\n",
    "\n",
    "# 获得所有上层父元素\n",
    "soup.body.parents"
   ]
  },
  {
   "cell_type": "markdown",
   "metadata": {},
   "source": [
    "# 兄弟节点"
   ]
  },
  {
   "cell_type": "code",
   "execution_count": null,
   "metadata": {},
   "outputs": [],
   "source": [
    "# 获取下一个兄弟节点，没有返回None，包括空白符和回车符作为文本元素的\n",
    "soup.body.next_sibling \n",
    "\n",
    "# 获取上一个兄弟节点，没有返回None，包括空白符和回车符作为文本元素的\n",
    "soup.body.previous_sibling\n",
    "\n",
    "# 获取全部下面的兄弟节点\n",
    "soup.body.next_siblings\n",
    "\n",
    "# 获取全部上面的兄弟节点\n",
    "soup.body.previous_siblings\n",
    "\n",
    "# 获取下一个会被解析的内容\n",
    "soup.body.next_elements\n",
    "\n",
    "# 获取上一个会被解析的内容\n",
    "soup.body.previous_elements"
   ]
  }
 ],
 "metadata": {
  "kernelspec": {
   "display_name": "Python 3",
   "language": "python",
   "name": "python3"
  },
  "language_info": {
   "codemirror_mode": {
    "name": "ipython",
    "version": 3
   },
   "file_extension": ".py",
   "mimetype": "text/x-python",
   "name": "python",
   "nbconvert_exporter": "python",
   "pygments_lexer": "ipython3",
   "version": "3.7.0"
  }
 },
 "nbformat": 4,
 "nbformat_minor": 2
}
