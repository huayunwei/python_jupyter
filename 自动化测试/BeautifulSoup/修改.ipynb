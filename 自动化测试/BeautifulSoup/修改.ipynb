{
 "cells": [
  {
   "cell_type": "markdown",
   "metadata": {},
   "source": [
    "# 对html文档的修改"
   ]
  },
  {
   "cell_type": "markdown",
   "metadata": {},
   "source": [
    "## 修改tag名和属性"
   ]
  },
  {
   "cell_type": "code",
   "execution_count": null,
   "metadata": {},
   "outputs": [],
   "source": [
    "tag = soup.find(\"b\")\n",
    "# 修改标签名为a\n",
    "tag.name = \"a\"\n",
    "# 添加/修改标签属性\n",
    "tag['href']=\"www.baidu.com\"\n",
    "# 删除标签属性\n",
    "del tag['href']"
   ]
  },
  {
   "cell_type": "markdown",
   "metadata": {},
   "source": [
    "## 修改tag的文本\n",
    "- 如果tag包含其他标签，则会直接覆盖所有内容，替换成指定的文本"
   ]
  },
  {
   "cell_type": "code",
   "execution_count": null,
   "metadata": {},
   "outputs": [],
   "source": [
    "tag = soup.find(\"b\")\n",
    "tag.string = \"我是替换后的文本\""
   ]
  },
  {
   "cell_type": "markdown",
   "metadata": {},
   "source": [
    "## 添加tag的文本内容 --- new_string()\n",
    "- 创建文本：soup.new_string(\"xxx\")\n",
    "- 创建注释：\n",
    "    - from bs4 import Comment\n",
    "    - soup.new_string(\"xxx\",Comment)"
   ]
  },
  {
   "cell_type": "markdown",
   "metadata": {},
   "source": [
    "## 创建标签 --- new_tag"
   ]
  },
  {
   "cell_type": "code",
   "execution_count": null,
   "metadata": {},
   "outputs": [],
   "source": [
    "soup = Beautiful(\"<a></a>\")\n",
    "soup.new_tag(\"tag_name\",attr_name=\"value\")"
   ]
  },
  {
   "cell_type": "markdown",
   "metadata": {},
   "source": [
    "## 添加标签 -- append，insert，insert_before，insert_after\n",
    "- append：添加到最后\n",
    "- insert：插入到指定位置\n",
    "    - 参数1：插入位置\n",
    "    - 参数2：插入的内容\n",
    "- insert_before：在当前tag或文本节点前插入内容\n",
    "- insert_after：在当前tag或文本节点后插入内容"
   ]
  },
  {
   "cell_type": "code",
   "execution_count": null,
   "metadata": {},
   "outputs": [],
   "source": [
    "soup = Beautiful(\"<p>xxx<i></i></p>\")\n",
    "# append\n",
    "soup.append(\"zzzz\")  ==> #\"<p>xxx<i></i>zzzz</p>\"\n",
    "\n",
    "# insert\n",
    "soup.insert(1,\"123\") ==> #\"<p>xxx123<i></i></p>\" \n",
    "\n",
    "# insert_before\n",
    "soup.string.insert_before(\"234\") ==> #\"<p>234xxx<i></i></p>\"\n",
    "\n",
    "# insert_after"
   ]
  },
  {
   "cell_type": "markdown",
   "metadata": {},
   "source": [
    "## 移除当前标签内部的所有内容 -- clear"
   ]
  },
  {
   "cell_type": "code",
   "execution_count": null,
   "metadata": {},
   "outputs": [],
   "source": [
    "soup = Beautiful(\"<p>xxx<i></i></p>\")\n",
    "tag = soup.find(\"p\")\n",
    "tag.clear()  => #\"<p></p>\""
   ]
  },
  {
   "cell_type": "markdown",
   "metadata": {},
   "source": [
    "## 移除指定内容 --- extract，decompose\n",
    "- extract：将当前标签移除，并作为结果返回\n",
    "- decompose：将当前标签移除移除"
   ]
  },
  {
   "cell_type": "code",
   "execution_count": null,
   "metadata": {},
   "outputs": [],
   "source": [
    "soup = Beautiful(\"<p>xxx<i></i></p>\")\n",
    "tag = soup.find(\"i\")\n",
    "\n",
    "a = tag.extract()  ==> # soup：<p>xxx</p>\n",
    "\n",
    "# a ==> <i></i>\n",
    "\n",
    "tag.decompose() ==> # soup：<p>xxx</p>"
   ]
  },
  {
   "cell_type": "markdown",
   "metadata": {},
   "source": [
    "## 替换内容 --- replace_with\n",
    "- 移除文档树中的某段内容，并用新tag或文本节点替换它"
   ]
  },
  {
   "cell_type": "code",
   "execution_count": null,
   "metadata": {},
   "outputs": [],
   "source": [
    "soup = Beautiful(\"<p>xxx<i></i></p>\")\n",
    "tag = soup.new_tag(\"b\")\n",
    "soup.find(\"i\").replace_with(tag)  => # <p>xxx<b></b></p>"
   ]
  },
  {
   "cell_type": "markdown",
   "metadata": {},
   "source": [
    "## 包装和解包装 --- wrap 和 unwrap"
   ]
  },
  {
   "cell_type": "markdown",
   "metadata": {},
   "source": [
    "## 获得标签的文本内容 -- get_text()\n",
    "- 获取标签中的所有文本内容，包括所有子孙节点\n",
    "- 可以对获取的文本添加分隔符：参数1\n",
    "- 可以对文本去除前后空白：参数2\n",
    "- 文本是uncoide码的，需要转化"
   ]
  },
  {
   "cell_type": "code",
   "execution_count": null,
   "metadata": {},
   "outputs": [],
   "source": [
    "soup.get_text() # 获得所有的文本内容\n",
    "\n",
    "soup.get_text(\"分隔符\") # 每段文本之间用分隔符分隔\n",
    "\n",
    "soup.get_text(\"分隔符\",strip=True) # 删除文本的前后空白\n",
    "\n",
    "[text for text in soup.stripped_strings] # 生成列表，列表项为每一段的文本内容，文本内容会去除空表格"
   ]
  }
 ],
 "metadata": {
  "kernelspec": {
   "display_name": "Python 3",
   "language": "python",
   "name": "python3"
  },
  "language_info": {
   "codemirror_mode": {
    "name": "ipython",
    "version": 3
   },
   "file_extension": ".py",
   "mimetype": "text/x-python",
   "name": "python",
   "nbconvert_exporter": "python",
   "pygments_lexer": "ipython3",
   "version": "3.7.0"
  }
 },
 "nbformat": 4,
 "nbformat_minor": 2
}
