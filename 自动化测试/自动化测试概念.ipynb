{
 "cells": [
  {
   "cell_type": "markdown",
   "metadata": {},
   "source": [
    "# 自动化测试概念"
   ]
  },
  {
   "cell_type": "markdown",
   "metadata": {},
   "source": [
    "## 自动化测试概念\n",
    "- 广义：借助工具来进行软件测试的\n",
    "- 狭义：\n",
    "    - UI层自动化测试\n",
    "    - 基于代码编写阶段的单元自动化测试\n",
    "    - 基于集成测试阶段的接口自动化测试"
   ]
  },
  {
   "cell_type": "markdown",
   "metadata": {},
   "source": [
    "## 自动化分类\n",
    "- 分为功能自动化和性能自动化测试\n",
    "    - 功能自动化：一般的自动化指功能自动化，通过编码的方式用一段程序来测试一个软件的功能，可以重复执行程序来进行重复的测试\n",
    "    - 性能自动化：通过性能测试工具辅助完成"
   ]
  },
  {
   "cell_type": "markdown",
   "metadata": {},
   "source": [
    "## 什么样的项目适合自动化\n",
    "- 项目不会频繁变动\n",
    "- 比较频繁的回归测试\n",
    "- 需要在多平台上运行的相同测试案例\n",
    "- 软件维护周期长"
   ]
  },
  {
   "cell_type": "markdown",
   "metadata": {},
   "source": [
    "## 自动化测试用例原则\n",
    "- 一个脚本是一个完整的场景，从用户登录操作到用户退出系统关闭浏览器\n",
    "- 一个脚本只验证一个功能点，不要试图用户登录系统后把所有功能都进行验证再退出系统\n",
    "- 尽量只做功能中正向逻辑验证，不要考虑太多逆向的\n",
    "- 脚本之间不要产生关联性\n",
    "- 如果对数据进行了修改，需要对数据进行还原\n",
    "- 在整个脚本中只对验证点进行验证，不要对整体脚本都进行验证"
   ]
  }
 ],
 "metadata": {
  "kernelspec": {
   "display_name": "Python 3",
   "language": "python",
   "name": "python3"
  },
  "language_info": {
   "codemirror_mode": {
    "name": "ipython",
    "version": 3
   },
   "file_extension": ".py",
   "mimetype": "text/x-python",
   "name": "python",
   "nbconvert_exporter": "python",
   "pygments_lexer": "ipython3",
   "version": "3.7.0"
  }
 },
 "nbformat": 4,
 "nbformat_minor": 2
}
