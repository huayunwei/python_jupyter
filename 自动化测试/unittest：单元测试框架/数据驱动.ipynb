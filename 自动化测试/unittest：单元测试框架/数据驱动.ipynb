{
 "cells": [
  {
   "cell_type": "markdown",
   "metadata": {},
   "source": [
    "# 数据驱动\n",
    "- 作用：对应这种多组数据的测试用例，可以用数据驱动设计模式，一组数据对应一个测试用例，用例自动加载生成\n",
    "- 安装：\n",
    "    - pip install ddt"
   ]
  },
  {
   "cell_type": "code",
   "execution_count": null,
   "metadata": {},
   "outputs": [],
   "source": [
    "# 例子\n",
    "import ddt\n",
    "import unittest\n",
    "# 测试数据\n",
    "testData = [\n",
    "    {\"username\":\"selenium\",\"pwd\":\"123\"},\n",
    "    {\"username\":\"python\",\"pwd\":\"234\"},\n",
    "    {\"username\":\"appium\",\"pwd\":\"456\"}\n",
    "]\n",
    "\n",
    "@ddt.ddt\n",
    "class Test(unittest.TestCase):\n",
    "    def setUp(self):\n",
    "        pass\n",
    "    def tearDown(self):\n",
    "        pass\n",
    "    # 测试用例执行，每一行数据会执行一次下面的函数\n",
    "    @ddt.data(*testData)\n",
    "    def test_ddt(self,data):\n",
    "        print data[\"username\"],data[\"pwd\"]\n",
    "\n",
    "if __name__ == \"__main__\":\n",
    "    unittest.main()"
   ]
  }
 ],
 "metadata": {
  "kernelspec": {
   "display_name": "Python 3",
   "language": "python",
   "name": "python3"
  },
  "language_info": {
   "codemirror_mode": {
    "name": "ipython",
    "version": 3
   },
   "file_extension": ".py",
   "mimetype": "text/x-python",
   "name": "python",
   "nbconvert_exporter": "python",
   "pygments_lexer": "ipython3",
   "version": "3.7.0"
  }
 },
 "nbformat": 4,
 "nbformat_minor": 2
}
