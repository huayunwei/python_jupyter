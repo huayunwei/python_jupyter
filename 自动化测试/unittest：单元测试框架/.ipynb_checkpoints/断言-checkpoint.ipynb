{
 "cells": [
  {
   "cell_type": "markdown",
   "metadata": {},
   "source": [
    "# 断言\n",
    "- 作用：用于判断用例执行完毕后是pass还是fail\n",
    "- 方法：\n",
    "    - 下面方法中的msg用于自定义断言判断错误时的提示信息\n",
    "    - assertEqual(self,first,second,msg=None)：判断first和second是否相等\n",
    "    - assertNotEqual(self,first,second,msg=None)：判断first和second是否不等\n",
    "    - assertIn(self,member,container,msg=None)：判断member是否在container中\n",
    "    - assertNotIn(self,member,container,msg=None)：判断member是否不在container中\n",
    "    - assertTrue(self,expr,msg=None)：判断expr的结果是否为真\n",
    "    - asertFalse(self,expr,msg=None)：判断expr的结果是否为假\n",
    "    - assertIsNone(self,obj,msg=None)：判断obj是否为None\n",
    "    - assertIsNotNone(self,obj,msg=None)：判断obj是否不为None"
   ]
  },
  {
   "cell_type": "code",
   "execution_count": null,
   "metadata": {},
   "outputs": [],
   "source": [
    "# 例\n",
    "def test01(self):\n",
    "    a = \"1\"\n",
    "    b = 1\n",
    "    self.assertEqual(a,b,msg=\"失败原因：{} != {}\".format(a,b)"
   ]
  }
 ],
 "metadata": {
  "kernelspec": {
   "display_name": "Python 3",
   "language": "python",
   "name": "python3"
  },
  "language_info": {
   "codemirror_mode": {
    "name": "ipython",
    "version": 3
   },
   "file_extension": ".py",
   "mimetype": "text/x-python",
   "name": "python",
   "nbconvert_exporter": "python",
   "pygments_lexer": "ipython3",
   "version": "3.7.0"
  }
 },
 "nbformat": 4,
 "nbformat_minor": 2
}
