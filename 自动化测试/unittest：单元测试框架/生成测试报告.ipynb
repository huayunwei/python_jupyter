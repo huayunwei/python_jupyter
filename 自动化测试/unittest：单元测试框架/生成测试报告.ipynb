{
 "cells": [
  {
   "cell_type": "markdown",
   "metadata": {},
   "source": [
    "# 生成测试报告 - HTMLTestRunner"
   ]
  },
  {
   "cell_type": "markdown",
   "metadata": {},
   "source": [
    "- 写法：\n",
    "    - 引入：import HTMLTestRunner\n",
    "    - 函数：HTMLTestRunner.HTMLTestRunner()\n",
    "        - 参数：\n",
    "            - stream：测试报告写入文件的存储区域\n",
    "            - title：测试报告的主题\n",
    "            - description：测试报告的描述\n",
    "- [带图形的测试报告](https://www.cnblogs.com/yoyoketang/p/7744538.html)"
   ]
  },
  {
   "cell_type": "code",
   "execution_count": null,
   "metadata": {},
   "outputs": [],
   "source": [
    "import HTMLTestRunner\n",
    "# 报告地址\n",
    "report_path = \"xxx.html\"\n",
    "fp = open(report_path,'wb')\n",
    "\n",
    "# 生成报告\n",
    "runner = HTMLTestRunner.HTMLTestRunner(stream=fp,title=u'报告题目',description=u'执行情况题目：')\n",
    "\n",
    "# 执行所有用例\n",
    "runner.run(all_case())\n",
    "fp.close()"
   ]
  }
 ],
 "metadata": {
  "kernelspec": {
   "display_name": "Python 3",
   "language": "python",
   "name": "python3"
  },
  "language_info": {
   "codemirror_mode": {
    "name": "ipython",
    "version": 3
   },
   "file_extension": ".py",
   "mimetype": "text/x-python",
   "name": "python",
   "nbconvert_exporter": "python",
   "pygments_lexer": "ipython3",
   "version": "3.7.0"
  }
 },
 "nbformat": 4,
 "nbformat_minor": 2
}
