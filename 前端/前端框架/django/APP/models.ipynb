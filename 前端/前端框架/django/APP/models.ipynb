{
 "cells": [
  {
   "cell_type": "markdown",
   "metadata": {},
   "source": [
    "## models\n",
    "- 模型：包含要存储的数据的基本字段和行为，通常，每个模型都映射到单个数据库表\n",
    "    - 每个模型都是django.db.model.Model的子类\n",
    "    - 模型的每个属性代表一个数据库字段"
   ]
  },
  {
   "cell_type": "code",
   "execution_count": null,
   "metadata": {},
   "outputs": [],
   "source": [
    "from django.db import models\n",
    "\n",
    "class Person(models.Model):\n",
    "    first_name = models.CharField(max_length=30)\n",
    "    last_name = models.CharField(max_length=30)\n",
    "    \n",
    "#上面的内容会按照下面的方式在数据库创建\n",
    "CREATE TABLE myapp_person (\n",
    "    \"id\" serial NOT NULL PRIMARY KEY,\n",
    "    \"first_name\" varchar(30) NOT NULL,\n",
    "    \"last_name\" varchar(30) NOT NULL\n",
    ");"
   ]
  },
  {
   "cell_type": "markdown",
   "metadata": {},
   "source": [
    "## 模型的组成"
   ]
  },
  {
   "cell_type": "markdown",
   "metadata": {},
   "source": [
    "### 字段\n",
    "- 模型唯一需要的部分\n",
    "- 第一的数据库字段列表\n",
    "- 字段由类属性指定"
   ]
  },
  {
   "cell_type": "code",
   "execution_count": null,
   "metadata": {},
   "outputs": [],
   "source": [
    "from django.db import models\n",
    "\n",
    "class Musician(models.Model):\n",
    "    first_name = models.CharField(max_length=50)\n",
    "    last_name = models.CharField(max_length=50)\n",
    "    instrument = models.CharField(max_length=100)"
   ]
  },
  {
   "cell_type": "markdown",
   "metadata": {},
   "source": [
    "#### 字段类型\n",
    "- 每个字段都应该是对应Field类的实例\n"
   ]
  },
  {
   "cell_type": "markdown",
   "metadata": {},
   "source": [
    "#### 字段选项 -- 常用\n",
    "- null：如果为true，django将以null在数据库中存储空值，默认为false\n",
    "- blank：如果为true，该字段允许为空，默认为false，如果为false代表必填\n",
    "- choices：2元组的可迭代，用作字段的选项，默认以选择框显示\n",
    "    - 第一个元素是将存储在数据库中的值\n",
    "    - 第二个元素是显示在选择框中的值\n",
    "- default：字段的默认值，可以是值或可调用对象，如果可调用，则每次创建新对象都会调用\n",
    "- help_text：使用表单小部件显示的额外\"帮助\"文本\n",
    "- primary_key：如果True，则为主键，如果没有设置，则将自动创建一个IntegerField来保存主键        \n",
    "        id = models.AutoField(primary_key=True)\n",
    "- unique：如果为true，该字段在整个表格中必须是唯一的\n",
    "- verbose_name：字段的详细名称，如果不给出，Django会使用字段的属性名称自动创建\n",
    "- "
   ]
  },
  {
   "cell_type": "code",
   "execution_count": null,
   "metadata": {},
   "outputs": [],
   "source": [
    "# choices\n",
    "YEAR_IN_SCHOOL_CHOICES = (\n",
    "    ('FR', 'Freshman'),\n",
    "    ('SO', 'Sophomore'),\n",
    "    ('JR', 'Junior'),\n",
    "    ('SR', 'Senior'),\n",
    "    ('GR', 'Graduate'),\n",
    ")"
   ]
  },
  {
   "cell_type": "markdown",
   "metadata": {},
   "source": [
    "### 关系"
   ]
  },
  {
   "cell_type": "markdown",
   "metadata": {},
   "source": [
    "#### 多对一关系\n",
    "- 使用ForeginKey"
   ]
  },
  {
   "cell_type": "code",
   "execution_count": null,
   "metadata": {},
   "outputs": [],
   "source": [
    "from django.db import models\n",
    "\n",
    "class Manufacturer(models.Model):\n",
    "    # ...\n",
    "    pass\n",
    "\n",
    "class Car(models.Model):\n",
    "    manufacturer = models.ForeignKey(Manufacturer, on_delete=models.CASCADE)\n",
    "    # ..."
   ]
  },
  {
   "cell_type": "markdown",
   "metadata": {},
   "source": [
    "#### 多对多关系\n",
    "- 使用ManyToManyField"
   ]
  },
  {
   "cell_type": "code",
   "execution_count": null,
   "metadata": {},
   "outputs": [],
   "source": [
    "from django.db import models\n",
    "\n",
    "class Topping(models.Model):\n",
    "    # ...\n",
    "    pass\n",
    "\n",
    "class Pizza(models.Model):\n",
    "    # ...\n",
    "    toppings = models.ManyToManyField(Topping)"
   ]
  },
  {
   "cell_type": "markdown",
   "metadata": {},
   "source": [
    "## models的api"
   ]
  },
  {
   "cell_type": "markdown",
   "metadata": {},
   "source": [
    "### 创建"
   ]
  },
  {
   "cell_type": "code",
   "execution_count": null,
   "metadata": {},
   "outputs": [],
   "source": [
    "# 创建\n",
    "from blog.models import Blog\n",
    "b = Blog(name='Beatles Blog', tagline='All the latest Beatles news.')\n",
    "b.save()"
   ]
  },
  {
   "cell_type": "markdown",
   "metadata": {},
   "source": [
    "### 更新"
   ]
  },
  {
   "cell_type": "code",
   "execution_count": null,
   "metadata": {},
   "outputs": [],
   "source": [
    "# 更新\n",
    "b5.name = 'New name'\n",
    "b5.save()"
   ]
  },
  {
   "cell_type": "markdown",
   "metadata": {},
   "source": [
    "#### 更新ForeignKey字段"
   ]
  },
  {
   "cell_type": "code",
   "execution_count": null,
   "metadata": {},
   "outputs": [],
   "source": [
    "# 保存ForeignKey字段\n",
    "from blog.models import Blog, Entry\n",
    "entry = Entry.objects.get(pk=1)\n",
    "cheese_blog = Blog.objects.get(name=\"Cheddar Talk\")\n",
    "entry.blog = cheese_blog\n",
    "entry.save()"
   ]
  },
  {
   "cell_type": "markdown",
   "metadata": {},
   "source": [
    "#### 更新ManyToManyField字段"
   ]
  },
  {
   "cell_type": "code",
   "execution_count": null,
   "metadata": {},
   "outputs": [],
   "source": [
    "from blog.models import Author\n",
    "joe = Author.objects.create(name=\"Joe\")\n",
    "entry.authors.add(joe)\n",
    "\n",
    "# 增加多个\n",
    "john = Author.objects.create(name=\"John\")\n",
    "paul = Author.objects.create(name=\"Paul\")\n",
    "entry.authors.add(john, paul, george, ringo)"
   ]
  },
  {
   "cell_type": "markdown",
   "metadata": {},
   "source": [
    "### 检索"
   ]
  },
  {
   "cell_type": "markdown",
   "metadata": {},
   "source": [
    "#### 检索所有对象"
   ]
  },
  {
   "cell_type": "code",
   "execution_count": null,
   "metadata": {},
   "outputs": [],
   "source": [
    "all_entries = Entry.objects.all()"
   ]
  },
  {
   "cell_type": "markdown",
   "metadata": {},
   "source": [
    "#### 使用过滤器\n",
    "- filter(\\*\\*kwargs)：返回QuerySet包含与给定查找参数匹配的新对象\n",
    "- exclude(\\*\\*kwargs)：返回QuerySet包含与给定查找参数不匹配的新对象"
   ]
  },
  {
   "cell_type": "code",
   "execution_count": null,
   "metadata": {},
   "outputs": [],
   "source": [
    "Entry.objects.filter(pub_date__year=2006)"
   ]
  },
  {
   "cell_type": "markdown",
   "metadata": {},
   "source": [
    "#### 检索单个对象"
   ]
  },
  {
   "cell_type": "code",
   "execution_count": null,
   "metadata": {},
   "outputs": [],
   "source": [
    "one_entry = Entry.objects.get(pk=1) # 找不到会返回DoesNotExist 异常\n",
    "# 如果多个项目与get匹配，则会返回DoesNotExist "
   ]
  },
  {
   "cell_type": "markdown",
   "metadata": {},
   "source": [
    "### 排序"
   ]
  },
  {
   "cell_type": "code",
   "execution_count": null,
   "metadata": {},
   "outputs": [],
   "source": [
    "Entry.objects.order_by('headline')"
   ]
  },
  {
   "cell_type": "markdown",
   "metadata": {},
   "source": [
    "### 字段查找"
   ]
  },
  {
   "cell_type": "code",
   "execution_count": null,
   "metadata": {},
   "outputs": [],
   "source": [
    "# \n",
    "Entry.objects.filter(pub_date__lte='2006-01-01')\n",
    "# 等同于\n",
    "SELECT * FROM blog_entry WHERE pub_date <= '2006-01-01';\n",
    "\n",
    "# “精确”匹配\n",
    "Entry.objects.get(headline__exact=\"Cat bites dog\")\n",
    "# 等同于\n",
    "SELECT ... WHERE headline = 'Cat bites dog';\n",
    "\n",
    "# iexact 不区分大小写的匹配项\n",
    "Blog.objects.get(name__iexact=\"beatles blog\")\n",
    "\n",
    "# contains：包含\n",
    "Entry.objects.get(headline__contains='Lennon')\n",
    "# 类似于\n",
    "SELECT ... WHERE headline LIKE '%Lennon%';"
   ]
  },
  {
   "cell_type": "markdown",
   "metadata": {},
   "source": [
    "### 复杂查找 -- Q"
   ]
  },
  {
   "cell_type": "code",
   "execution_count": null,
   "metadata": {},
   "outputs": [],
   "source": [
    "# 或\n",
    "Q(question__startswith='Who') | Q(question__startswith='What')\n",
    "# 等同于\n",
    "WHERE question LIKE 'Who%' OR question LIKE 'What%'\n",
    "\n",
    "# 否\n",
    "Q(question__startswith='Who') | ~Q(pub_date__year=2005)\n",
    "# 等同于\n",
    "WHERE question LIKE 'Who%' OR pub_date.year!=2005\n",
    "\n",
    "# 并\n",
    "Poll.objects.get(\n",
    "    Q(question__startswith='Who'),\n",
    "    Q(pub_date=date(2005, 5, 2)) | Q(pub_date=date(2005, 5, 6))\n",
    ")\n",
    "# 等同于\n",
    "SELECT * from polls WHERE question LIKE 'Who%' AND (pub_date = '2005-05-02' OR pub_date = '2005-05-06')\n",
    "\n"
   ]
  },
  {
   "cell_type": "markdown",
   "metadata": {},
   "source": [
    "### 删除对象\n",
    "- 立即删除对象并返回已删除的对象数和具有每个对象类型的删除数的字典"
   ]
  },
  {
   "cell_type": "code",
   "execution_count": null,
   "metadata": {},
   "outputs": [],
   "source": [
    "e.delete()"
   ]
  },
  {
   "cell_type": "markdown",
   "metadata": {},
   "source": []
  }
 ],
 "metadata": {
  "kernelspec": {
   "display_name": "Python 3",
   "language": "python",
   "name": "python3"
  },
  "language_info": {
   "codemirror_mode": {
    "name": "ipython",
    "version": 3
   },
   "file_extension": ".py",
   "mimetype": "text/x-python",
   "name": "python",
   "nbconvert_exporter": "python",
   "pygments_lexer": "ipython3",
   "version": "3.7.1"
  },
  "toc": {
   "base_numbering": 1,
   "nav_menu": {},
   "number_sections": false,
   "sideBar": true,
   "skip_h1_title": false,
   "title_cell": "Table of Contents",
   "title_sidebar": "Contents",
   "toc_cell": false,
   "toc_position": {},
   "toc_section_display": true,
   "toc_window_display": false
  }
 },
 "nbformat": 4,
 "nbformat_minor": 2
}
