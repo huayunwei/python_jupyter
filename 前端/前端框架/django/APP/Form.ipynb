{
 "cells": [
  {
   "cell_type": "markdown",
   "metadata": {},
   "source": [
    "# Form"
   ]
  },
  {
   "cell_type": "code",
   "execution_count": null,
   "metadata": {},
   "outputs": [],
   "source": [
    "'''\n",
    "经典form处理过程\n",
    "'''\n",
    "def form_process_view(request):\n",
    "    if request.method == 'POST':\n",
    "        # 请求为 POST，利用用户提交的数据构造一个绑定了数据的表单\n",
    "        form = Form(request.POST)\n",
    "\n",
    "        if form.is_valid():\n",
    "            # 表单数据合法\n",
    "            # 进行其它处理...\n",
    "            # 跳转\n",
    "            return redirect('/')\n",
    "    else:\n",
    "        # 请求不是 POST，构造一个空表单\n",
    "        form = Form()\n",
    "\n",
    "    # 渲染模板\n",
    "    # 如果不是 POST 请求，则渲染的是一个空的表单\n",
    "    # 如果用户通过表单提交数据，但是数据验证不合法，则渲染的是一个带有错误信息的表单\n",
    "    return render(request, 'template.html', context={'form': form})"
   ]
  }
 ],
 "metadata": {
  "kernelspec": {
   "display_name": "Python 3",
   "language": "python",
   "name": "python3"
  },
  "language_info": {
   "codemirror_mode": {
    "name": "ipython",
    "version": 3
   },
   "file_extension": ".py",
   "mimetype": "text/x-python",
   "name": "python",
   "nbconvert_exporter": "python",
   "pygments_lexer": "ipython3",
   "version": "3.7.1"
  },
  "toc": {
   "base_numbering": 1,
   "nav_menu": {},
   "number_sections": false,
   "sideBar": true,
   "skip_h1_title": false,
   "title_cell": "Table of Contents",
   "title_sidebar": "Contents",
   "toc_cell": false,
   "toc_position": {},
   "toc_section_display": true,
   "toc_window_display": false
  }
 },
 "nbformat": 4,
 "nbformat_minor": 2
}
