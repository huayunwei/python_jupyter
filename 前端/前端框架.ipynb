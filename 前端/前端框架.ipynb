{
 "cells": [
  {
   "cell_type": "markdown",
   "metadata": {},
   "source": [
    "# 基于python的前端框架\n",
    "- Django：目前python世界里最负盛名且成熟的web框架\n",
    "- Tornado：支持协程、高效并发且可扩展的web服务器\n",
    "- Flask：web框架，短小精干，简洁明了著称\n",
    "- Twisted\n",
    "- Bottle\n",
    "- Web.py"
   ]
  }
 ],
 "metadata": {
  "kernelspec": {
   "display_name": "Python 3",
   "language": "python",
   "name": "python3"
  },
  "language_info": {
   "codemirror_mode": {
    "name": "ipython",
    "version": 3
   },
   "file_extension": ".py",
   "mimetype": "text/x-python",
   "name": "python",
   "nbconvert_exporter": "python",
   "pygments_lexer": "ipython3",
   "version": "3.7.0"
  }
 },
 "nbformat": 4,
 "nbformat_minor": 2
}
