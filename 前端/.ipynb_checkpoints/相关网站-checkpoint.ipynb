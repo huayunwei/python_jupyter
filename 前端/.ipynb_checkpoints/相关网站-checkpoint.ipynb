{
 "cells": [
  {
   "cell_type": "markdown",
   "metadata": {},
   "source": [
    "[刘江的博客及教程](http://www.liujiangblog.com/course/django/2)\n",
    "\n",
    "[基于django的博客开发教程](https://juejin.im/post/59489de7128fe1006a576ddc)\n",
    "\n",
    "[自强学堂-django](https://code.ziqiangxuetang.com/django/django-intro.html)"
   ]
  }
 ],
 "metadata": {
  "kernelspec": {
   "display_name": "Python 3",
   "language": "python",
   "name": "python3"
  },
  "language_info": {
   "codemirror_mode": {
    "name": "ipython",
    "version": 3
   },
   "file_extension": ".py",
   "mimetype": "text/x-python",
   "name": "python",
   "nbconvert_exporter": "python",
   "pygments_lexer": "ipython3",
   "version": "3.7.0"
  }
 },
 "nbformat": 4,
 "nbformat_minor": 2
}
