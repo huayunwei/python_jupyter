{
 "cells": [
  {
   "cell_type": "markdown",
   "metadata": {},
   "source": [
    "# 基础\n",
    "- 真正的自动化测试：全公司的平台，有测试，开发，运维，三个团队一起研发和维护和使用的自动化测试平台，通常叫做devops\n",
    "- 国内的devops平台：组件一个devops研发团队，把开发，测试，运维，三种共有的东西和流程给抽象化，然后提取抽象化的东西，开始进行编程实现，每个节点都可以扩展和提供API给别人，每个团队完成自己的任务，然后接入devops平台，从而达到完整的体系"
   ]
  },
  {
   "cell_type": "markdown",
   "metadata": {},
   "source": [
    "## devops平台的核心管理工具 -- jenkins\n",
    "- 什么是jenkins：一个java开发的开源程序，可以支持安装windows,mac,linux平台，主要是一个管理工具\n",
    "- 为什么使用：使用它，实现项目上的持续集成（Continuous Integration--CI）和持续交付(Continuous Delivery--CD)"
   ]
  },
  {
   "cell_type": "code",
   "execution_count": null,
   "metadata": {},
   "outputs": [],
   "source": []
  }
 ],
 "metadata": {
  "kernelspec": {
   "display_name": "Python 3",
   "language": "python",
   "name": "python3"
  },
  "language_info": {
   "codemirror_mode": {
    "name": "ipython",
    "version": 3
   },
   "file_extension": ".py",
   "mimetype": "text/x-python",
   "name": "python",
   "nbconvert_exporter": "python",
   "pygments_lexer": "ipython3",
   "version": "3.7.0"
  }
 },
 "nbformat": 4,
 "nbformat_minor": 2
}
