{
 "cells": [
  {
   "cell_type": "markdown",
   "metadata": {},
   "source": [
    "# 安装和配置"
   ]
  },
  {
   "cell_type": "markdown",
   "metadata": {},
   "source": [
    "## 安装\n",
    "- 软件：\n",
    "    - [jenkins：下载地址 - 官网](https://jenkins.io/)\n",
    "    - 因为jenkins是基于java的，所以需要安装java（jre或jdk都行）\n",
    "- 下载后的jenkins直接解压安装即可，安装完成后会直接在浏览器中打开：http://localhost:8080\n",
    "    - （如果没有打开，或者打开后显示访问失败，可以重新刷新，应该是因为jenkins服务没有启动）\n",
    "- 默认jenkins会自动在windows创建开机自启动的服务，以后直接在浏览器中输入http://localhost:8080就可以打开jenkins了\n",
    "![](img/jenkins_install_1.png)\n",
    "- 手动开启jenkins，如果关闭了jenkins的服务，这种方式无法开启jenkins服务：在cmd中输入java -jar jenkins.war --httpPort=8080"
   ]
  },
  {
   "cell_type": "markdown",
   "metadata": {},
   "source": [
    "## 配置\n",
    "- 安装后第一次打开jenkins界面，需要输入密码：密码在jenkins安装时直接给出，在：安装jenkins路径\\secrets\\initialAdminPassword文件中\n",
    "![](img/jenkins_install_2.png)\n",
    "![](img/jenkins_install_3.png)"
   ]
  },
  {
   "cell_type": "markdown",
   "metadata": {},
   "source": [
    "- 选择插件进行安装：最好不要直接安装所有插件，因为比较耗时，而且国外的服务器下载会比较慢，后面需要使用时可以再下载\n",
    "![](img/jenkins_install_4.png)\n",
    "![](img/jenkins_install_5.png)"
   ]
  },
  {
   "cell_type": "markdown",
   "metadata": {},
   "source": [
    "- 创建一个以后用于登录账号\n",
    "![](img/jenkins_install_6.png)"
   ]
  },
  {
   "cell_type": "markdown",
   "metadata": {},
   "source": [
    "- 创建完账号和密码后，一路next即可进入jenkins页面\n",
    "![](img/jenkins_install_7.png)"
   ]
  },
  {
   "cell_type": "markdown",
   "metadata": {},
   "source": [
    "- jenkins安装到tomcat下"
   ]
  },
  {
   "cell_type": "markdown",
   "metadata": {},
   "source": [
    "- jenkins修改家目录\n",
    "    - 如果将jenkins移动到其他目录可以按照如下步骤进行：\n",
    "        - 查看目前的家目录：系统管理-系统设置-home directory\n",
    "        ![](img/jenkins_install_8.png)\n",
    "        - 修改方式：将jenkins目前家目录中的所有内容移动到另外的地址中，然后在环境变量中创建一个JENKINS_HOME变量，变量值为新的家目录，然后重启jenkins\n",
    "        ![](img/jenkins_install_9.png)"
   ]
  }
 ],
 "metadata": {
  "kernelspec": {
   "display_name": "Python 3",
   "language": "python",
   "name": "python3"
  },
  "language_info": {
   "codemirror_mode": {
    "name": "ipython",
    "version": 3
   },
   "file_extension": ".py",
   "mimetype": "text/x-python",
   "name": "python",
   "nbconvert_exporter": "python",
   "pygments_lexer": "ipython3",
   "version": "3.7.4"
  },
  "toc": {
   "base_numbering": 1,
   "nav_menu": {},
   "number_sections": false,
   "sideBar": true,
   "skip_h1_title": false,
   "title_cell": "Table of Contents",
   "title_sidebar": "Contents",
   "toc_cell": false,
   "toc_position": {},
   "toc_section_display": true,
   "toc_window_display": false
  }
 },
 "nbformat": 4,
 "nbformat_minor": 2
}
