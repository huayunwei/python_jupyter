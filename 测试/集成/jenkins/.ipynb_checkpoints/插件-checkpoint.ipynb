{
 "cells": [
  {
   "cell_type": "markdown",
   "metadata": {},
   "source": [
    "# 插件\n",
    "- 在网站内部搜索安装：\n",
    "    - 在系统管理 - 插件管理中：\n",
    "![](img/jenkins_plugins_1.png)"
   ]
  },
  {
   "cell_type": "markdown",
   "metadata": {},
   "source": [
    "- 从外部官网下载安装：\n",
    "    - [下载地址](https://plugins.jenkins.io/)\n",
    "    - 搜索后点击插件进入详情页，点击下图中的按钮，可以下载一个.hpi文件\n",
    "    ![](img/jenkins_plugins_2.png)\n",
    "    ![](img/jenkins_plugins_3.png)\n",
    "    - 安装：在系统管理-插件管理-高级中\n",
    "    ![](img/jenkins_plugins_4.png)"
   ]
  },
  {
   "cell_type": "markdown",
   "metadata": {},
   "source": [
    "## 常用插件介绍"
   ]
  },
  {
   "cell_type": "code",
   "execution_count": null,
   "metadata": {},
   "outputs": [],
   "source": []
  }
 ],
 "metadata": {
  "kernelspec": {
   "display_name": "Python 3",
   "language": "python",
   "name": "python3"
  },
  "language_info": {
   "codemirror_mode": {
    "name": "ipython",
    "version": 3
   },
   "file_extension": ".py",
   "mimetype": "text/x-python",
   "name": "python",
   "nbconvert_exporter": "python",
   "pygments_lexer": "ipython3",
   "version": "3.7.0"
  }
 },
 "nbformat": 4,
 "nbformat_minor": 2
}
