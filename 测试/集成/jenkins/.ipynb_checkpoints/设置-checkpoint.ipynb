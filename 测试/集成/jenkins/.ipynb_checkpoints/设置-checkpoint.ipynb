{
 "cells": [
  {
   "cell_type": "markdown",
   "metadata": {},
   "source": [
    "# 设置"
   ]
  },
  {
   "cell_type": "markdown",
   "metadata": {},
   "source": [
    "## 系统设置"
   ]
  },
  {
   "cell_type": "markdown",
   "metadata": {},
   "source": [
    "### 全局属性 - Global properties"
   ]
  },
  {
   "cell_type": "markdown",
   "metadata": {},
   "source": [
    "#### 工具位置"
   ]
  },
  {
   "cell_type": "markdown",
   "metadata": {},
   "source": [
    "#### 环境变量\n",
    "- 形式为Name：Value，Name作为坏境变量名进行存储\n",
    "- 使用方式\n",
    "    - Windows：%变量名%\n",
    "    - Linux：\n",
    "        - \\${变量名\\}\n",
    "        - \\$ 变量名\n",
    "- 可以直接使用环境变量：\n",
    "    - BUILD_NUMBER：当前构建的编号\n",
    "    - BUILD_ID：同BUILD_NUMBER，时间戳仍为旧构建的\n",
    "    - BUILD_DISPLAY_NAME：当前侯建的名字，默认为#xxx\n",
    "    - JOB_NAME：构建的项目的名字\n",
    "    - JOB_BASE_NAME：构建的项目的短名称剥离文件夹路径\n",
    "    - BUILD_TAG：“jenkins - $ {JOB_NAME} - $ {BUILD_NUMBER}”的字符串\n",
    "    - EXECUTOR_NUMBER：唯一编号，用于标识执行此构建的当前执行程序（在同一台计算机的执行程序中）。这是您在“构建执行程序状态”中看到的数字，但数字从0开始，而不是从1开始\n",
    "    - NODE_NAME：如果构建在代理上，则代理的名称; 如果在主版本上运行，则为“MASTER”；\n",
    "    - NODE_LABELS：节点分配的空白分隔的标签列表。\n",
    "    - WORKSPACE：作为工作空间分配给构建的目录的绝对路径\n",
    "    - JENKINS_HOME：Jenkins用于存储数据的主节点上分配的目录的绝对路径\n",
    "    - JENKINS_URL：Jenkins的完整URL，如http：// server：port / jenkins /（注意：仅在系统配置中设置Jenkins URL时可用）\n",
    "    - BUILD_URL：此版本的完整URL，例如http：// server：port / jenkins / job / foo / 15 /（必须设置Jenkins URL）\n",
    "    - JOB_URL：该作业的完整URL，例如http：// server：port / jenkins / job / foo /（必须设置Jenkins URL）"
   ]
  },
  {
   "cell_type": "code",
   "execution_count": null,
   "metadata": {},
   "outputs": [],
   "source": []
  }
 ],
 "metadata": {
  "kernelspec": {
   "display_name": "Python 3",
   "language": "python",
   "name": "python3"
  },
  "language_info": {
   "codemirror_mode": {
    "name": "ipython",
    "version": 3
   },
   "file_extension": ".py",
   "mimetype": "text/x-python",
   "name": "python",
   "nbconvert_exporter": "python",
   "pygments_lexer": "ipython3",
   "version": "3.7.0"
  }
 },
 "nbformat": 4,
 "nbformat_minor": 2
}
