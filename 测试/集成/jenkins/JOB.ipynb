{
 "cells": [
  {
   "cell_type": "markdown",
   "metadata": {},
   "source": [
    "# JOB"
   ]
  },
  {
   "cell_type": "markdown",
   "metadata": {},
   "source": [
    "## 在job中执行基于pytest的程序\n",
    "1. 因为需要在cmd中执行运行程序的语句，所以需要设置一下项目的环境变量，总的系统变量中进行设置\n",
    "![](img/jenkins_job_4.png)\n",
    "2. 在job中的配置中设置执行语句\n",
    "![](img/jenkins_job_5.png)\n",
    "![](img/jenkins_job_6.png)\n",
    "3. 执行立即构建按钮"
   ]
  },
  {
   "cell_type": "markdown",
   "metadata": {},
   "source": [
    "## 遇到的问题\n",
    "1. 在jenkins中执行在cmd中可以成功的语句时，提示命令不是内部命令\n",
    "    - 解决办法：设置jenkins服务以系统管理员的身份运行，然后重启服务，再执行就可以执行成功了\n",
    "    ![](img/jenkins_job_1.png)\n",
    "2. 在pycharm中设置了其他文件夹为source-root，在cmd中执行时，cmd是不认定这些文件路径的\n",
    "    - 解决办法：\n",
    "        - 1.在cmd设置坏境变量-PYTHONPATH，值为所有source-root的路径，[设置方法]()\n",
    "        - 2.代码中的所有包的引用按照如下方式，不能带这个source-root文件夹的名字\n",
    "        ![](img/jenkins_job_2.png)\n",
    "        - 3.跳转到文件路径下，然后pytest 文件名来执行\n",
    "        - 4.代码中在文件作为主模块执行时，会调用pytest.main函数执行，如果在cmd中执行就不用这个内容了\n",
    "        ![](img/jenkins_job_3.png)"
   ]
  },
  {
   "cell_type": "code",
   "execution_count": null,
   "metadata": {},
   "outputs": [],
   "source": []
  }
 ],
 "metadata": {
  "kernelspec": {
   "display_name": "Python 3",
   "language": "python",
   "name": "python3"
  },
  "language_info": {
   "codemirror_mode": {
    "name": "ipython",
    "version": 3
   },
   "file_extension": ".py",
   "mimetype": "text/x-python",
   "name": "python",
   "nbconvert_exporter": "python",
   "pygments_lexer": "ipython3",
   "version": "3.7.0"
  }
 },
 "nbformat": 4,
 "nbformat_minor": 2
}
