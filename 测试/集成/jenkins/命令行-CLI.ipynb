{
 "cells": [
  {
   "cell_type": "markdown",
   "metadata": {},
   "source": [
    "# 命令行 -- CLI\n",
    "- CLI：Command Line Interface\n",
    "- 使用CLI的目的：简单，容易，节省内存，支持持续集成"
   ]
  },
  {
   "cell_type": "markdown",
   "metadata": {},
   "source": [
    "## 安装和配置\n",
    "- 下载：\n",
    "    - 在打开的jenkins页面中，将连接修改为：http://localhost:8080/cli/\n",
    "    - 在jenkins-cli.jar中可以下载，jenkins的命令行形式\n",
    "    - 命令行执行的方式：java -jar jenkins-cli.jar -s http://localhost:8080/ 命令名\n",
    "    ![](img/jenkins_cli_1.png)"
   ]
  },
  {
   "cell_type": "markdown",
   "metadata": {},
   "source": [
    "## 配置\n",
    "- 在设置-安全中启动安全设置\n",
    "- 在设置-安全中允许任何用户可以做任何事（没有任何限制）\n",
    "![](img/jenkins_cli_2.png)"
   ]
  },
  {
   "cell_type": "code",
   "execution_count": null,
   "metadata": {},
   "outputs": [],
   "source": []
  }
 ],
 "metadata": {
  "kernelspec": {
   "display_name": "Python 3",
   "language": "python",
   "name": "python3"
  },
  "language_info": {
   "codemirror_mode": {
    "name": "ipython",
    "version": 3
   },
   "file_extension": ".py",
   "mimetype": "text/x-python",
   "name": "python",
   "nbconvert_exporter": "python",
   "pygments_lexer": "ipython3",
   "version": "3.7.0"
  }
 },
 "nbformat": 4,
 "nbformat_minor": 2
}
