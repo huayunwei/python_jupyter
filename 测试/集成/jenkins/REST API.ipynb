{
 "cells": [
  {
   "cell_type": "markdown",
   "metadata": {},
   "source": [
    "# REST API\n",
    "- 可以通过http请求的方式获取和操作jenkins的作业"
   ]
  },
  {
   "cell_type": "markdown",
   "metadata": {},
   "source": [
    "## 请求\n",
    "- 没有明确标出请求方式的都为get"
   ]
  },
  {
   "cell_type": "markdown",
   "metadata": {},
   "source": [
    "### 某个job指定状态下的信息"
   ]
  },
  {
   "cell_type": "code",
   "execution_count": null,
   "metadata": {},
   "outputs": [],
   "source": [
    "# 默认以json形式返回\n",
    "# 某job的lastBuild --最后一次构建的信息\n",
    "http://[ip]/job/[job_name]/lastBuild/api/json?pretty=true\n",
    "    \n",
    "# 某个job的firstBuild -- 第一次构建的信息\n",
    "http://[ip]/job/[job_name]/firstBuild/api/json?pretty=true\n",
    "    \n",
    "# 某job的lastCompletedBuild -- 最后一次构建完成的信息，只要开始并已经结束即算，不管这次构建是否成功\n",
    "http://[ip]/job/[job_name]/lastCompletedBuild/api/json?pretty=true\n",
    "    \n",
    "#  某job的lastFailedBuild -- 最后一次失败的构建，状态为失败\n",
    "http://[ip]/job/[job_name]/lastFailedBuild/api/json?pretty=true\n",
    "    \n",
    "# 某job的lastStableBuild -- 最后一次稳定的构建，稳定：成功并且发布者没有发布他为非稳定\n",
    "http://[ip]/job/[job_name]/astStableBuild/api/json?pretty=true\n",
    "    \n",
    "# 某job的lastSuccessfulBuild -- 最后一次成功的构建，状态为成功\n",
    "http://[ip]/job/[job_name]/lastSuccessfulBuild/api/json?pretty=true\n",
    "    \n",
    "# 某job的lastUnsuccessfulBuild -- 最后一次不成功的构建，不太清楚他和fail的不同之处\n",
    "http://[ip]/job/[job_name]/lastUnsuccessfulBuild/api/json?pretty=true"
   ]
  },
  {
   "cell_type": "markdown",
   "metadata": {},
   "source": [
    "### 其他操作"
   ]
  },
  {
   "cell_type": "code",
   "execution_count": null,
   "metadata": {},
   "outputs": [],
   "source": [
    "# 某job的全部信息 -- json\n",
    "http://{ip}/job/[job_name]/api/json?pretty=true\n",
    "    \n",
    "# 某job的全部信息 -- python\n",
    "http://{ip}/job/[job_name]/api/python?pretty=true\n",
    "    \n",
    "# 某job的全部信息 -- xml\n",
    "http://{ip}/job/[job_name]/api/xml?pretty=true\n",
    "    \n",
    "# 某指定job_number的job信息\n",
    "http://{ip}/job/[job_name]/[job_number]/api/json?pretty=true\n",
    "    \n",
    "# 带过滤条件的\n",
    "http://{ip}/job/[job_name]/[job_number]/api/json?pretty=true&[attr_key]=[value]\n",
    "    \n",
    "# build需要用户名和密码\n",
    "# 执行一个job --- 不需要穿点参数的job\n",
    "# post\n",
    "http://{ip}/job/[job_name]/build\n",
    "    \n",
    "# 执行一个job -- 需要带参数的job\n",
    "# post\n",
    "# body中包含要传递的参数\n",
    "http://{ip}/job/[job_name]/buildWithParameters\n",
    "    \n",
    "# 某job的某个状态下的控制台信息 -- 目前返回的中文有编码问题\n",
    "http://{ip}/job/[job_name]/lastBuild/consoleText"
   ]
  },
  {
   "cell_type": "markdown",
   "metadata": {},
   "source": [
    "## 第三方python库"
   ]
  },
  {
   "cell_type": "markdown",
   "metadata": {},
   "source": [
    "### [JenkinsApi](https://github.com/pycontribs/jenkinsapi)"
   ]
  },
  {
   "cell_type": "markdown",
   "metadata": {},
   "source": [
    "### [Python Jenkins](https://github.com/openstack/python-jenkins)"
   ]
  },
  {
   "cell_type": "markdown",
   "metadata": {},
   "source": [
    "#### Exception"
   ]
  },
  {
   "cell_type": "code",
   "execution_count": null,
   "metadata": {},
   "outputs": [],
   "source": [
    "jenkins.JenkinsException：普通的由jenkins api引起的错误\n",
    "jenkins.NotFoundException：接到404时的报错\n",
    "jenkins.EmptyResponseException：接收到空响应\n",
    "jenkins.BadHTTPException：响应中断\n",
    "jenkins.TimeoutException：超时"
   ]
  },
  {
   "cell_type": "markdown",
   "metadata": {},
   "source": [
    "#### 内容获取"
   ]
  },
  {
   "cell_type": "code",
   "execution_count": null,
   "metadata": {},
   "outputs": [],
   "source": [
    "# 1. 创建一个jenkin实例\n",
    "'''\n",
    "url:jenkins服务地址，str\n",
    "username：服务的用户名，str\n",
    "password：密码，str\n",
    "timeout：超时时间（秒），int\n",
    "resolve：是否自动解决API的重定向，bool\n",
    "'''\n",
    "server = jenkins.Jenkins(url,username=None,password=None,timeout=<object object>,resovle=True)\n",
    "\n",
    "# 2. 调用方法，所有方法都会报JenkinsException的报错\n",
    "方法列表：https://python-jenkins.readthedocs.io/en/latest/api.html"
   ]
  }
 ],
 "metadata": {
  "kernelspec": {
   "display_name": "Python 3",
   "language": "python",
   "name": "python3"
  },
  "language_info": {
   "codemirror_mode": {
    "name": "ipython",
    "version": 3
   },
   "file_extension": ".py",
   "mimetype": "text/x-python",
   "name": "python",
   "nbconvert_exporter": "python",
   "pygments_lexer": "ipython3",
   "version": "3.7.4"
  },
  "toc": {
   "base_numbering": 1,
   "nav_menu": {},
   "number_sections": false,
   "sideBar": true,
   "skip_h1_title": false,
   "title_cell": "Table of Contents",
   "title_sidebar": "Contents",
   "toc_cell": false,
   "toc_position": {},
   "toc_section_display": true,
   "toc_window_display": false
  }
 },
 "nbformat": 4,
 "nbformat_minor": 2
}
