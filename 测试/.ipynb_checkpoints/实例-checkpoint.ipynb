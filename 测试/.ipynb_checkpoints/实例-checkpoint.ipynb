{
 "cells": [
  {
   "cell_type": "markdown",
   "metadata": {},
   "source": [
    "- 考虑下面几种方面：\n",
    "    - 功能\n",
    "    - 界面（UI）\n",
    "    - 性能\n",
    "    - 安全\n",
    "    - 可用性\n",
    "    - 兼容性"
   ]
  },
  {
   "cell_type": "markdown",
   "metadata": {},
   "source": [
    "# 题目1： 1-9999中的一个数，是否为闰年（能整除4且不能整除100，能整除400）\n",
    "- 能整除4，且不能整除100，且能整除400\n",
    "- 能整除4，且能整除100\n",
    "- 能整除4，且不能整除100，且不能整除400\n",
    "- 小于1\n",
    "- 大于9999"
   ]
  },
  {
   "cell_type": "markdown",
   "metadata": {},
   "source": [
    "# 题目2：登录界面\n",
    "- 功能：\n",
    "    - 正确输入用户名和密码是否可以登录\n",
    "    - 错误输入用户名或密码是否可以登录\n",
    "    - 点击记住用户名，登录后再次进入该页面是否自动填充用户名"
   ]
  },
  {
   "cell_type": "code",
   "execution_count": null,
   "metadata": {},
   "outputs": [],
   "source": []
  }
 ],
 "metadata": {
  "kernelspec": {
   "display_name": "Python 3",
   "language": "python",
   "name": "python3"
  },
  "language_info": {
   "codemirror_mode": {
    "name": "ipython",
    "version": 3
   },
   "file_extension": ".py",
   "mimetype": "text/x-python",
   "name": "python",
   "nbconvert_exporter": "python",
   "pygments_lexer": "ipython3",
   "version": "3.7.4"
  }
 },
 "nbformat": 4,
 "nbformat_minor": 2
}
