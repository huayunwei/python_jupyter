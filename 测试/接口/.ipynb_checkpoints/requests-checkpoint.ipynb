{
 "cells": [
  {
   "cell_type": "markdown",
   "metadata": {},
   "source": [
    "# requests\n",
    "- 安装：\n",
    "    - pip install requests"
   ]
  },
  {
   "cell_type": "markdown",
   "metadata": {},
   "source": [
    "## get请求"
   ]
  },
  {
   "cell_type": "code",
   "execution_count": null,
   "metadata": {},
   "outputs": [],
   "source": [
    "import requests\n",
    "# 不带参数的\n",
    "r = requests.get('网址-带http的')\n",
    "\n",
    "# 带参数的\n",
    "par = {\"key1\":\"value1\",\"key2\":\"value2\"}\n",
    "r = requests.get('网址',params=par)\n",
    "\n",
    "print(r.status_code) # 状态码\n",
    "print(r.text) # 文本信息\n",
    "print(r.content) # 自动解码使用gzip和deflate压缩的信息，如果使用text，会返回乱码\n",
    "print(r.headers) # 以字典对象存储服务器响应头，字典键不区分大小写，若键不存在则返回None\n",
    "print(r.json()) #requests中内置的json解码器\n",
    "print(r.url) # 获取url\n",
    "print(r.encoding) # 编码格式\n",
    "print(r.cookies) # 获取cookie\n",
    "print(r.raw) # 返回原始响应体\n",
    "print(r.raise_for_status()) # 失败请求（非200响应）抛出异常"
   ]
  },
  {
   "cell_type": "markdown",
   "metadata": {},
   "source": [
    "## post请求"
   ]
  },
  {
   "cell_type": "code",
   "execution_count": null,
   "metadata": {},
   "outputs": [],
   "source": [
    "import requests\n",
    "import json\n",
    "# 使用字典类型的参数\n",
    "payload = {\"key\":\"value\"}\n",
    "\n",
    "r = request.post(\"网址-带http\",param=payload)\n",
    "# 使用json类型的参数\n",
    "data_json = json.dumps(payload)\n",
    "r = request.post(\"网站-带http\",param=data_json)"
   ]
  },
  {
   "cell_type": "markdown",
   "metadata": {},
   "source": [
    "## 重定向\n",
    "- 定义：通过各种方法将各种网络请求重新定个地方转到其他位置\n",
    "- 重定向状态码：\n",
    "    - 301 redirect：永久性转移\n",
    "    - 302 redirect: 暂时性转移\n",
    "- 重定向后的地址会在header中的location参数中\n",
    "- requests会自动处理重定向的请求，返回的状态码为200\n",
    "    - 禁止requests直接处理重定向请求：allow_redirects=False\n"
   ]
  },
  {
   "cell_type": "code",
   "execution_count": null,
   "metadata": {},
   "outputs": [],
   "source": [
    "import requests\n",
    "r = s.get('网址',allow_redirects=True)\n",
    "\n",
    "# 获取重定向后的地址\n",
    "new_url = r.headers[\"Location\"]"
   ]
  },
  {
   "cell_type": "markdown",
   "metadata": {},
   "source": [
    "## https请求"
   ]
  },
  {
   "cell_type": "code",
   "execution_count": null,
   "metadata": {},
   "outputs": [],
   "source": [
    "# 设置verify忽略对SSL证书的验证\n",
    "import requests\n",
    "r = requests.get(\"网址\",verify=False) # 依旧会报warning\n",
    "\n",
    "# 去掉warning\n",
    "import requests\n",
    "import urllib3\n",
    "from requests.packages.urllib3.exceptions import InsecureRequestWarning\n",
    "requests.packages.urllibs.disable_warnings(InsecureRequestWarning)\n",
    "urllib3.disable_warnings()"
   ]
  },
  {
   "cell_type": "markdown",
   "metadata": {},
   "source": [
    "## 请求时间 -- elapsed\n",
    "- 定义：计算从发送请求到服务端响应回来这段时间（也就是时间差），发送第一个数据到收到最后一个数据之间，这个时长不受响应的内容影响\n",
    "- 方法：\n",
    "    - total_seconds：总时长，单位秒\n",
    "    - days：以天为单位\n",
    "    - microseconds(>=0 and less than 1 second)获取微妙部分，大于0小于1秒\n",
    "    - seconds Number of seconds(>= 0 and less than 1 day)秒，大于0小于1天\n",
    "    - max = datetime.timedelta(999999999,86399,999999)最大时间\n",
    "    - min = datetime.timedelta(-999999999)最小时间\n",
    "    - resolution = datetime.timedelta()"
   ]
  },
  {
   "cell_type": "markdown",
   "metadata": {},
   "source": [
    "## 获取响应时间\n",
    "- 获取elapsed不同的返回值"
   ]
  },
  {
   "cell_type": "code",
   "execution_count": null,
   "metadata": {},
   "outputs": [],
   "source": [
    "import requests\n",
    "r = requests.get(\"网址\")\n",
    "\n",
    "print(r.elapsed) # 时：分：秒\n",
    "print(r.elapsed.total_seconds()) # 响应时间：秒\n",
    "print(r.elapsed.microseconds) # 毫秒\n",
    "print(r.elapsed.seconds) # 秒整数部分\n",
    "print(r.elapsed.days) # \n",
    "print(r.elapsed.max) # 最大\n",
    "print(r.elapsed.min) # 最小\n",
    "print(r.elapsed.resolution) "
   ]
  },
  {
   "cell_type": "markdown",
   "metadata": {},
   "source": [
    "## 设置响应超时\n",
    "- 如果请求响应时间比较长，不能一直等待，可以设置一个超时时间，让它抛出异常（requests.exceptions.ConnectTimeout:HTTPConnectionPool）"
   ]
  },
  {
   "cell_type": "code",
   "execution_count": null,
   "metadata": {},
   "outputs": [],
   "source": [
    "import requests\n",
    "r = requests.get(\"网址\",timeout=1)"
   ]
  }
 ],
 "metadata": {
  "kernelspec": {
   "display_name": "Python 3",
   "language": "python",
   "name": "python3"
  },
  "language_info": {
   "codemirror_mode": {
    "name": "ipython",
    "version": 3
   },
   "file_extension": ".py",
   "mimetype": "text/x-python",
   "name": "python",
   "nbconvert_exporter": "python",
   "pygments_lexer": "ipython3",
   "version": "3.7.0"
  }
 },
 "nbformat": 4,
 "nbformat_minor": 2
}
