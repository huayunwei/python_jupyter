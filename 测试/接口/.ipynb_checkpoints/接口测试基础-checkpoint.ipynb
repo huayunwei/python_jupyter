{
 "cells": [
  {
   "cell_type": "markdown",
   "metadata": {},
   "source": [
    "# 接口测试基础"
   ]
  },
  {
   "cell_type": "markdown",
   "metadata": {},
   "source": [
    "## 什么是接口：\n",
    "- 接口泛指实体把自己提供给外界的一种抽象化物，用以由内部操作分离出外部沟通方法，使其能被内部修改而不影响外界其他实体与其交互的方式"
   ]
  },
  {
   "cell_type": "markdown",
   "metadata": {},
   "source": [
    "### 接口的分类\n",
    "1.接口种类分类\n",
    "- webservice：走soap协议通过http传输，请求报文和返回报文都是xml格式，可以通过jmeter、soapui工具进行测试的\n",
    "- http api接口是走http协议通过路径来区分调用的方法，请求报文格式都是key-value形式，返回报文一般是json串\n",
    "\n",
    "\n",
    "2.HTTP请求方法分类\n",
    "- GET：请求指定的页面信息，并返回实体主题\n",
    "- HEAD：类似get请求，只不过返回的响应中没有具体的内容，用于获取报头\n",
    "- POST：向指定资源提交数据进行处理请求（例如提交变淡或者上传文件），数据被包含在请求体重，post请求可能会导致新的资源的建立和/或已有资源的修改\n",
    "- PUT：从客户端向服务器传送的数据取代指定的文档的内容\n",
    "- DELETE：请求服务器删除指定的页面\n",
    "- CONNECT：HTTP/1.1协议中预留给能够将连接改为管道方式的代理服务器\n",
    "- OPTIONS：允许客户客户端查看服务器的性能\n",
    "- TRACE：回显服务器收到的请求，主要用于测试或诊断"
   ]
  },
  {
   "cell_type": "markdown",
   "metadata": {},
   "source": [
    "## 什么是接口测试：\n",
    "- 测试接口，就是指测试接口功能，性能和稳定性测试，当然可能还有安全性测试\n",
    "- 一般，测试的接口一般指http或者https协议的接口测试，也就是一些web服务请求"
   ]
  },
  {
   "cell_type": "markdown",
   "metadata": {},
   "source": [
    "## 接口测试的必要性\n",
    "- 可以发现很多在页面上操作不了的bug\n",
    "- 检查系统的异常处理能力\n",
    "- 检查系统的安全性、稳定性\n",
    "- 前端随便变，接口测好了，后端不用变\n",
    "- 可以测试并发情况，一个账号，同时操作的情况\n",
    "- 可以修改请求参数，突破前段页面的输入限制"
   ]
  },
  {
   "cell_type": "markdown",
   "metadata": {},
   "source": [
    "## 怎么测试接口"
   ]
  },
  {
   "cell_type": "markdown",
   "metadata": {},
   "source": [
    "- 通过性验证：首先肯定要保证这个接口功能是否好使，既按照接口文档正常传入参数和参数值，看是否可以返回正确的结果\n",
    "- 参数组合：如果有多个选传参数，验证多种组合，比如不传，传1个，传2个等。。，看是否能得到正确的结果\n",
    "- 接口安全：\n",
    "    - 身份授权：对于一些修改接口，如果不传对应的身份信息，是否可以修改成功\n",
    " - 异常验证：不按照接口文档的要求输入参数，比如不传必传的参数，不输入必填的项，对于有类型要求的输入非该类型\n",
    " - 性能测试：接口并发等"
   ]
  },
  {
   "cell_type": "markdown",
   "metadata": {},
   "source": [
    "## POST和GET的区别：\n",
    "- 方式：参数的传入方式\n",
    "    - GET方法一般是指获取服务器上的数据，参数直接跟着URL后边，直接可以放到浏览器地址栏里\n",
    "    - POST方法是指客户端给服务器上提交表单数据，所以POST是通过表单提交的\n",
    "- 大小：\n",
    "    - GET是直接在拼接在URL中的，由于浏览器有限制，一般整个URL的长度可以很长，但是不能超过2049KB的大小限制\n",
    "    - POST没有大小限制\n",
    "- 安全：\n",
    "    - GET的参数直接拼接URL，直接暴露出来，不安全\n",
    "    - POST比GET方法更安全"
   ]
  },
  {
   "cell_type": "markdown",
   "metadata": {},
   "source": [
    "## HTTP和HTTPS协议区别\n",
    "- http是超文本传输协议，信息是明文传输，https是具有安全性的ssl传输协议\n",
    "- http与https使用的是不同的连接方式，端口也一样，http默认端口是80，https默认端口是443\n",
    "- http连接状态比较简单，是无状态的，https协议是由ssl+http协议组成的可进行传输、身份认证的网络协议"
   ]
  },
  {
   "cell_type": "markdown",
   "metadata": {},
   "source": [
    "## 常见的返回状态码\n",
    "- 1XX：信息提示\n",
    "- 2XX：成功\n",
    "- 3XX：重定向\n",
    "- 4XX：客户端错误\n",
    "- 5XX：服务器错误"
   ]
  },
  {
   "cell_type": "code",
   "execution_count": null,
   "metadata": {},
   "outputs": [],
   "source": []
  }
 ],
 "metadata": {
  "kernelspec": {
   "display_name": "Python 3",
   "language": "python",
   "name": "python3"
  },
  "language_info": {
   "codemirror_mode": {
    "name": "ipython",
    "version": 3
   },
   "file_extension": ".py",
   "mimetype": "text/x-python",
   "name": "python",
   "nbconvert_exporter": "python",
   "pygments_lexer": "ipython3",
   "version": "3.7.4"
  }
 },
 "nbformat": 4,
 "nbformat_minor": 2
}
