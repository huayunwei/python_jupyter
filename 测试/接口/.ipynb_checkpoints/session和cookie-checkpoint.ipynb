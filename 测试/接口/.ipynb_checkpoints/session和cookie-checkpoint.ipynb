{
 "cells": [
  {
   "cell_type": "markdown",
   "metadata": {},
   "source": [
    "# 为什么需要session和cookie\n",
    "- http是一种无状态的响应，上一个请求和下一个请求没有任何关系\n",
    "- 为了在请求之前有关系，所以产生了两种机制，session和cookie"
   ]
  },
  {
   "cell_type": "markdown",
   "metadata": {},
   "source": [
    "## cookie\n",
    "- 浏览器第一次发送请求，没有带cookies\n",
    "- 服务器收到后，会在数据库找这个人是否有相关的权限\n",
    "- 如果有，则设置一个cookie，返回给浏览器请求的内容和cookie值\n",
    "- 浏览器收到cookie会保存到本地，之后的请求，会带着cookie\n",
    "- 服务器收到带cookie的请求后，会解析cookie值，如果是之前服务器设置的cookie，就会给浏览器返回响应的内容\n",
    "![](img/cookie_1.png)"
   ]
  },
  {
   "cell_type": "markdown",
   "metadata": {},
   "source": [
    "## session\n",
    "- 浏览器发送一个http请求\n",
    "- 服务器完成认证后，会对这个会话进行保存，即存储session（可能存在服务器上或数据库上或redis上）\n",
    "- 服务器给出一个响应，带上cookies-session-id的信息\n",
    "- 浏览器拿到响应后，也会将cookies-session-id的信息保存在本地\n",
    "- 以后浏览器请求时，会带上这个cookie-session-ide的值\n",
    "- 服务器会解析cookie-session-id，给出http响应\n",
    "![](img/session_1.png)"
   ]
  },
  {
   "cell_type": "markdown",
   "metadata": {},
   "source": [
    "## session和cookie的区别\n",
    "- cookie数据存放在客户的浏览器上，session数据放在服务器上\n",
    "- cookie不安全，别人可以分析存放在本地的cookie并进行cookie欺骗，考虑到安全应该用session\n",
    "- session会在一定时间保存在服务器上，当访问增多，会占用服务器的性能，考虑减轻服务器性能方法，应该使用cookie\n",
    "- 单个cookie在客户端的限制是3K，即一个站点在客户端存放点的cookie不能大于3K"
   ]
  },
  {
   "cell_type": "code",
   "execution_count": null,
   "metadata": {},
   "outputs": [],
   "source": []
  }
 ],
 "metadata": {
  "kernelspec": {
   "display_name": "Python 3",
   "language": "python",
   "name": "python3"
  },
  "language_info": {
   "codemirror_mode": {
    "name": "ipython",
    "version": 3
   },
   "file_extension": ".py",
   "mimetype": "text/x-python",
   "name": "python",
   "nbconvert_exporter": "python",
   "pygments_lexer": "ipython3",
   "version": "3.7.0"
  }
 },
 "nbformat": 4,
 "nbformat_minor": 2
}
