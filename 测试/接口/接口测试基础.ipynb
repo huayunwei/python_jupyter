{
 "cells": [
  {
   "cell_type": "markdown",
   "metadata": {},
   "source": [
    "# 接口测试基础\n",
    "- 什么是接口：\n",
    "        \n",
    "        接口泛指实体把自己提供给外界的一种抽象化物，用以由内部操作分离出外部沟通方法，使其能被内部修改而不影响外界其他实体与其交互的方式\n",
    "- 什么是接口测试：\n",
    "\n",
    "        测试接口，就是指测试接口功能，性能和稳定性测试，当然可能还有安全性测试\n",
    "        一般，测试的接口一般指http或者https协议的接口测试，也就是一些web服务请求\n",
    "- 接口的分类：HTTP请求方法分类\n",
    "    - GET：请求指定的页面信息，并返回实体主题\n",
    "    - HEAD：类似get请求，只不过返回的响应中没有具体的内容，用于获取报头\n",
    "    - POST：向指定资源提交数据进行处理请求（例如提交变淡或者上传文件），数据被包含在请求体重，post请求可能会导致新的资源的建立和/或已有资源的修改\n",
    "    - PUT：从客户端向服务器传送的数据取代指定的文档的内容\n",
    "    - DELETE：请求服务器删除指定的页面\n",
    "    - CONNECT：HTTP/1.1协议中预留给能够将连接改为管道方式的代理服务器\n",
    "    - OPTIONS：允许客户客户端查看服务器的性能\n",
    "    - TRACE：回显服务器收到的请求，主要用于测试或诊断\n",
    "- POST和GET的区别：\n",
    "    - 方式：参数的传入方式\n",
    "        - GET方法一般是指获取服务器上的数据，参数直接跟着URL后边，直接可以放到浏览器地址栏里\n",
    "        - POST方法是指客户端给服务器上提交表单数据，所以POST是通过表单提交的\n",
    "    - 大小：\n",
    "        - GET是直接在拼接在URL中的，由于浏览器有限制，一般整个URL的长度可以很长，但是不能超过2049KB的大小限制\n",
    "        - POST没有大小限制\n",
    "    - 安全：\n",
    "        - GET的参数直接拼接URL，直接暴露出来，不安全\n",
    "        - POST比GET方法更安全"
   ]
  },
  {
   "cell_type": "markdown",
   "metadata": {},
   "source": [
    "## 接口测试用例的设置\n",
    "- 根据点\n",
    "    - 功能：\n",
    "        - 功能是否正常\n",
    "        - 功能是否按照接口文档实现\n",
    "    - 逻辑业务：\n",
    "        - 是否依赖业务\n",
    "    - 异常：\n",
    "        - 参数异常和数据异常\n",
    "            - 参数异常：关键字参数，参数为空，多，少参数，错误参数\n",
    "            - 数据异常：关键字数据，数据为空，长度不一致，错误数据\n",
    "    - 安全：\n",
    "        - cookie：有cookie才能获取数据，如果不带cookie还有信息返回，说明有问题\n",
    "        - header：正常接口带header信息，删除header看是否能够返回数据\n",
    "        - 唯一识别码：app手机识别码，一般是唯一的"
   ]
  },
  {
   "cell_type": "markdown",
   "metadata": {},
   "source": [
    "## 接口测试工具\n",
    "- fiddler：一个HTTP协议调试代理工具，抓包工具\n",
    "- postman：支持不同接口测试请求，能够够管理测试套件和自动化运行，但是自动化断言功能不强大，不能和jenkins和代码管理库进行持续集成测试\n",
    "- wireshak：计算机上抓包工具，支持抓各种包，TCP,UDP,HTTP都支持，可以做底层网络数据测试\n",
    "- soupUI：开源免费，企业版收费软件，支持接口自动化测试和接口性能测试，支持jenkins做持续集成测试\n",
    "- java代码：利用httpclient.jar包\n",
    "- python代码：利用requests库\n",
    "- loadrunner：性能，接口自动化，接口压力测试\n",
    "- jmeter：性能，接口性能\n",
    "![](img/base_1.png)"
   ]
  },
  {
   "cell_type": "code",
   "execution_count": null,
   "metadata": {},
   "outputs": [],
   "source": []
  }
 ],
 "metadata": {
  "kernelspec": {
   "display_name": "Python 3",
   "language": "python",
   "name": "python3"
  },
  "language_info": {
   "codemirror_mode": {
    "name": "ipython",
    "version": 3
   },
   "file_extension": ".py",
   "mimetype": "text/x-python",
   "name": "python",
   "nbconvert_exporter": "python",
   "pygments_lexer": "ipython3",
   "version": "3.7.0"
  }
 },
 "nbformat": 4,
 "nbformat_minor": 2
}
