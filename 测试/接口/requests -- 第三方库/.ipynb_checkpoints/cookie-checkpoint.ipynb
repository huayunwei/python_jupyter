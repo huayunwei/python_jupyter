{
 "cells": [
  {
   "cell_type": "markdown",
   "metadata": {},
   "source": [
    "# Cookie"
   ]
  },
  {
   "cell_type": "code",
   "execution_count": null,
   "metadata": {},
   "outputs": [],
   "source": [
    "# 传递cookie值到服务器\n",
    "\n",
    "# 使用dict类型的cookie\n",
    "url = \"网址\"\n",
    "cookie = dict(key1='value1')\n",
    "r = requests.get(url,cookies=cookies)\n",
    "\n",
    "# 使用cookiejar类型的值 -- 参数更多，适用于跨域名跨路径使用\n",
    "import requests\n",
    "from requests.cookies import RequestsCookieJar\n",
    "\n",
    "jar = RequestsCookieJar()\n",
    "jar.set('tasty_cookie','yum',domain='httpbin.org',path='/cookie')\n",
    "jar.set('gross_cookie', 'blech', domain='httpbin.org', path='/cookie')\n",
    "url = 'http://httpbin.org/cookies'\n",
    "r = requests.get(url,cookies=jar)\n",
    "print(r.text)"
   ]
  }
 ],
 "metadata": {
  "kernelspec": {
   "display_name": "Python 3",
   "language": "python",
   "name": "python3"
  },
  "language_info": {
   "codemirror_mode": {
    "name": "ipython",
    "version": 3
   },
   "file_extension": ".py",
   "mimetype": "text/x-python",
   "name": "python",
   "nbconvert_exporter": "python",
   "pygments_lexer": "ipython3",
   "version": "3.7.0"
  }
 },
 "nbformat": 4,
 "nbformat_minor": 2
}
