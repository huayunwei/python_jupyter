{
 "cells": [
  {
   "cell_type": "markdown",
   "metadata": {},
   "source": [
    "# SSL证书\n",
    "- Requests可以为HTTPS请求验证SSL证书，就像web浏览器一样，设置verify=True开启，默认开启\n",
    "- 如果证书验证失败，会抛出SSLError异常"
   ]
  },
  {
   "cell_type": "code",
   "execution_count": null,
   "metadata": {},
   "outputs": [],
   "source": [
    "# 设置verify = True\n",
    "requests.get('https://github.com',verify=True)\n",
    "\n",
    "# 设置verify传入CA证书文件的文件夹路径\n",
    "requests.get('https://github.com',verify='/path/to/certfile')\n",
    "\n",
    "# 将文件路径保持在会话中\n",
    "s = requests.Session()\n",
    "s.verify = '/path/to/certfile' # 如果verify设为文件夹路径，文件夹必须通过OpenSSL提供的c_rehash工具处理"
   ]
  },
  {
   "cell_type": "markdown",
   "metadata": {},
   "source": [
    "# 客户端证书\n",
    "- 可以指定一个本地证书作为客户端证书，可以是单个文件或一个包含两个文件路径的元组"
   ]
  },
  {
   "cell_type": "code",
   "execution_count": null,
   "metadata": {},
   "outputs": [],
   "source": [
    "requests.get('网址',cert=('/path/client.cert','/path/client.key'))\n",
    "\n",
    "# 保持在会话中\n",
    "s = requests.Session()\n",
    "s.cert = '/path/client.cert'  # 其中证书的key必须是解密状态"
   ]
  }
 ],
 "metadata": {
  "kernelspec": {
   "display_name": "Python 3",
   "language": "python",
   "name": "python3"
  },
  "language_info": {
   "codemirror_mode": {
    "name": "ipython",
    "version": 3
   },
   "file_extension": ".py",
   "mimetype": "text/x-python",
   "name": "python",
   "nbconvert_exporter": "python",
   "pygments_lexer": "ipython3",
   "version": "3.7.0"
  }
 },
 "nbformat": 4,
 "nbformat_minor": 2
}
