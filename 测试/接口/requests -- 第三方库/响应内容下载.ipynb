{
 "cells": [
  {
   "cell_type": "markdown",
   "metadata": {},
   "source": [
    "# 响应内容"
   ]
  },
  {
   "cell_type": "code",
   "execution_count": null,
   "metadata": {},
   "outputs": [],
   "source": [
    "# 保存一个图片\n",
    "import requests\n",
    "tarball_url = 'http://i4.hexun.com/2018-02-05/192404774.jpg'\n",
    "\n",
    "r = requests.get(tarball_url)\n",
    "\n",
    "# 将获取的字节流内容拼接在一起保存为一个图片\n",
    "with open('1.png','wb') as file:\n",
    "    for data in r.iter_content(5000):# 根据iter_content中的数值，会减少循环的次数，数值越大，循环次数越少\n",
    "        file.write(data)"
   ]
  },
  {
   "cell_type": "markdown",
   "metadata": {},
   "source": [
    "# 等待处理后再下载内容\n",
    "- 在请求后默认是直接下载响应内容的\n",
    "- 如果要等待，可以设置stream=True，推迟下载响应体直到访问Response.content属性"
   ]
  },
  {
   "cell_type": "code",
   "execution_count": null,
   "metadata": {},
   "outputs": [],
   "source": [
    "### 并没有出现官方上说的链接仍然保持链接的状态，而且设置为False，依旧可以在获取content之前对header这种类似的属性进行判断\n",
    "import requests\n",
    "tarball_url = 'http://i4.hexun.com/2018-02-05/192404774.jpg'\n",
    "r = requests.get(tarball_url, stream=True)"
   ]
  }
 ],
 "metadata": {
  "kernelspec": {
   "display_name": "Python 3",
   "language": "python",
   "name": "python3"
  },
  "language_info": {
   "codemirror_mode": {
    "name": "ipython",
    "version": 3
   },
   "file_extension": ".py",
   "mimetype": "text/x-python",
   "name": "python",
   "nbconvert_exporter": "python",
   "pygments_lexer": "ipython3",
   "version": "3.7.0"
  }
 },
 "nbformat": 4,
 "nbformat_minor": 2
}
