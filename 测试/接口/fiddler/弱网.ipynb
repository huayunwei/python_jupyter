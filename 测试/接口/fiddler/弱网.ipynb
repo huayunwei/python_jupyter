{
 "cells": [
  {
   "cell_type": "markdown",
   "metadata": {},
   "source": [
    "# 弱网设置"
   ]
  },
  {
   "cell_type": "markdown",
   "metadata": {},
   "source": [
    "- 菜单位置：\n",
    "![](img/fiddler_16.png)"
   ]
  },
  {
   "cell_type": "markdown",
   "metadata": {},
   "source": [
    "- 修改的内容"
   ]
  },
  {
   "cell_type": "code",
   "execution_count": null,
   "metadata": {},
   "outputs": [],
   "source": [
    "if (m_SimulateModem) {\n",
    "# Delay sends by 300ms per KB uploaded.\n",
    "# 上传的每kb的数据延迟300毫秒发送\n",
    "oSession[\"request-trickle-delay\"] = \"300\"; \n",
    "# Delay receives by 150ms per KB downloaded.\n",
    "# 下载的每KB的数据延迟150毫秒接受\n",
    "oSession[\"response-trickle-delay\"] = \"150\";\n",
    "}\n",
    "\n",
    "# 根据上面的延迟量，可以计算出大致的模拟带宽\n",
    "上传带宽 = (1*8/1000)/0.300 = 0.027Mbps\n",
    "下载带宽 = (1*8/1000)/0.150 = 0.053Mbps\n",
    "\n",
    "# 网络带宽不是恒定为一个低速的值，而是会在一定范围内随机抖动\n",
    "static function randInt(min,max){\n",
    "    return Math.round(Math.random()*(max-min)+min)\n",
    "}\n",
    "if (m_SimulateModem) {\n",
    "# Delay sends by 300ms per KB uploaded.\n",
    "# 上传的每kb的数据延迟300毫秒发送\n",
    "oSession[\"request-trickle-delay\"] = \"\" + randInt(1,50); \n",
    "# Delay receives by 150ms per KB downloaded.\n",
    "# 下载的每KB的数据延迟150毫秒接受\n",
    "oSession[\"response-trickle-delay\"] = \"\"+randInt(1,50);\n",
    "}\n",
    "\n",
    "\n",
    "# 在发送请求前添加延迟语句：onBeforeRequest\n",
    "oSession[\"request-trickle-delay\"]=\"3000\";  //请求阶段延迟3秒\n",
    "oSession[\"response-trickle-delay\"]=\"3000\";  //响应阶段延迟3秒"
   ]
  },
  {
   "cell_type": "markdown",
   "metadata": {},
   "source": [
    "- 各种类型网络设置图\n",
    "![](img/fiddler_18.png)"
   ]
  },
  {
   "cell_type": "markdown",
   "metadata": {},
   "source": [
    "- 设置fiddler使用这个重新设置后的速度\n",
    "![](img/fiddler_17.png)"
   ]
  },
  {
   "cell_type": "code",
   "execution_count": null,
   "metadata": {},
   "outputs": [],
   "source": []
  }
 ],
 "metadata": {
  "kernelspec": {
   "display_name": "Python 3",
   "language": "python",
   "name": "python3"
  },
  "language_info": {
   "codemirror_mode": {
    "name": "ipython",
    "version": 3
   },
   "file_extension": ".py",
   "mimetype": "text/x-python",
   "name": "python",
   "nbconvert_exporter": "python",
   "pygments_lexer": "ipython3",
   "version": "3.7.0"
  }
 },
 "nbformat": 4,
 "nbformat_minor": 2
}
