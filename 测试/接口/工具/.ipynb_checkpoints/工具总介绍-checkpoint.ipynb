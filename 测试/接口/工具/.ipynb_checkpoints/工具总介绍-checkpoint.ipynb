{
 "cells": [
  {
   "cell_type": "markdown",
   "metadata": {},
   "source": [
    "## 接口测试工具\n",
    "- fiddler：一个HTTP协议调试代理工具，抓包工具\n",
    "- postman：支持不同接口测试请求，能够够管理测试套件和自动化运行，但是自动化断言功能不强大，不能和jenkins和代码管理库进行持续集成测试\n",
    "- wireshak：计算机上抓包工具，支持抓各种包，TCP,UDP,HTTP都支持，可以做底层网络数据测试\n",
    "- soupUI：开源免费，企业版收费软件，支持接口自动化测试和接口性能测试，支持jenkins做持续集成测试\n",
    "- java代码：利用httpclient.jar包\n",
    "- python代码：利用requests库\n",
    "- loadrunner：性能，接口自动化，接口压力测试\n",
    "- jmeter：性能，接口性能\n",
    "![](../img/base_1.png)"
   ]
  },
  {
   "cell_type": "code",
   "execution_count": null,
   "metadata": {},
   "outputs": [],
   "source": []
  }
 ],
 "metadata": {
  "kernelspec": {
   "display_name": "Python 3",
   "language": "python",
   "name": "python3"
  },
  "language_info": {
   "codemirror_mode": {
    "name": "ipython",
    "version": 3
   },
   "file_extension": ".py",
   "mimetype": "text/x-python",
   "name": "python",
   "nbconvert_exporter": "python",
   "pygments_lexer": "ipython3",
   "version": "3.7.4"
  }
 },
 "nbformat": 4,
 "nbformat_minor": 2
}
