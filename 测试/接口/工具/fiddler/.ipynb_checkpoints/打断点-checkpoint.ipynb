{
 "cells": [
  {
   "cell_type": "markdown",
   "metadata": {},
   "source": [
    "# 断点\n",
    "- 断点类型\n",
    "    - before response：打在request请求的时候，未到达服务器之前\n",
    "    - after response：服务器响应之后，在fiddler将响应传回给客户端之前\n",
    "- 为什么要设置断点\n",
    "    - 进行接口测试时，拦截和修改数据，测后端功能，主要验证拦截的一些重要数据，是否做了加密，是否容易修改，修改成一些非法的值时，后台是否做了验证"
   ]
  },
  {
   "cell_type": "markdown",
   "metadata": {},
   "source": [
    "## 全局断点\n",
    "- 全局断点中断fiddler捕获的所有请求\n",
    "- 设置断点：rules-> automatic breakpoint  ->before requests\n",
    "- 取消断点：rules-> automatic breakpoint  ->disabled\n",
    "![](img/fiddler_15.png)"
   ]
  },
  {
   "cell_type": "markdown",
   "metadata": {},
   "source": [
    "## 单个断点\n",
    "- 请求前断点：bpu\n",
    "    - 在命令行输入：bpu http://地址\n",
    "    - 取消断点：bpu 回车\n",
    "- 响应后断点：bpafter\n",
    "    - 在命令行输入：bpafter http://地址\n",
    "    - 取消断点：bpafter 回车\n",
    "\n",
    "- 拦截某个网站所有请求\n",
    "    - 在命令行输入：bpu www.xxx.com"
   ]
  },
  {
   "cell_type": "code",
   "execution_count": null,
   "metadata": {},
   "outputs": [],
   "source": []
  }
 ],
 "metadata": {
  "kernelspec": {
   "display_name": "Python 3",
   "language": "python",
   "name": "python3"
  },
  "language_info": {
   "codemirror_mode": {
    "name": "ipython",
    "version": 3
   },
   "file_extension": ".py",
   "mimetype": "text/x-python",
   "name": "python",
   "nbconvert_exporter": "python",
   "pygments_lexer": "ipython3",
   "version": "3.7.4"
  }
 },
 "nbformat": 4,
 "nbformat_minor": 2
}
