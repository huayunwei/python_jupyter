{
 "cells": [
  {
   "cell_type": "markdown",
   "metadata": {},
   "source": [
    "# 抓取app的包"
   ]
  },
  {
   "cell_type": "markdown",
   "metadata": {},
   "source": [
    "- 使用fiddler设置代理\n",
    "    - fiddler>Tools>Fiddler Options>Connections 勾选Allow remote computers to connect\n",
    "![](img/fiddler_2.png)"
   ]
  },
  {
   "cell_type": "markdown",
   "metadata": {},
   "source": [
    "- 查看电脑和手机可以处于同一局域网下的ip地址\n",
    "    - 查看ip地址方式：cmd中输入ipconfig\n",
    "- 在手机中设置\n",
    "    - 在wifi中添加代理\n",
    "    - 主机名：开启fiddler，和手机处于同一局域网下的电脑的ip地址\n",
    "    - 端口号：fiddler中Connections中的端口号：默认8888\n",
    "- 设置过滤：只抓取手机上的包\n",
    "    - fiddler>Tools>Fiddler Options>HTTPS>...from remote clients only\n",
    "    - 其他选项介绍\n",
    "        - ...from all processes :抓所有的请求\n",
    "        - ...from browsers only ：只抓浏览器的请求\n",
    "        - ...from non-browsers only :只抓非浏览器的请求\n",
    "        - ...from remote clients only:只抓远程客户端请求\n",
    "![](img/fiddler_3.png)"
   ]
  },
  {
   "cell_type": "code",
   "execution_count": null,
   "metadata": {},
   "outputs": [],
   "source": []
  }
 ],
 "metadata": {
  "kernelspec": {
   "display_name": "Python 3",
   "language": "python",
   "name": "python3"
  },
  "language_info": {
   "codemirror_mode": {
    "name": "ipython",
    "version": 3
   },
   "file_extension": ".py",
   "mimetype": "text/x-python",
   "name": "python",
   "nbconvert_exporter": "python",
   "pygments_lexer": "ipython3",
   "version": "3.7.0"
  }
 },
 "nbformat": 4,
 "nbformat_minor": 2
}
