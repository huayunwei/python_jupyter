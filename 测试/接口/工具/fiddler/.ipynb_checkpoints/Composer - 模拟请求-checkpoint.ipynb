{
 "cells": [
  {
   "cell_type": "markdown",
   "metadata": {},
   "source": [
    "# Composer：构建相应的请求\n",
    "- Parsed：输入请求的url之后executed即可，也可以修改相应的头信息后再execute\n",
    "    ![](img/fiddler_11.png)\n",
    "    - 1.请求方式：点开可以勾选请求协议是get、post等\n",
    "    - 2.url地址栏：输入请求的url地址\n",
    "    - 3.请求头：第三块区域可以输入请求头信息\n",
    "    - 4.请求body：post请求在此区域输入body信息\n",
    "    - 5.执行：Execute按钮点击后就可以执行请求了\n",
    "    - 6.http版本：可以勾选http版本\n",
    "    - 7.请求历史：执行完成后会在右侧History区域生成历史记录"
   ]
  },
  {
   "cell_type": "markdown",
   "metadata": {},
   "source": [
    "# 模拟get请求\n",
    "![](img/fiddler_13.png)"
   ]
  },
  {
   "cell_type": "markdown",
   "metadata": {},
   "source": [
    "# 模拟post请求\n",
    "- 常见的post提交数据类型：\n",
    "    - 第一种：application/json\n",
    "    - 第二种：application/x-www-form-urlencoded：浏览器的原生form表单，如果不设置enctype属性，那么会以applic\n",
    "    - 第三种：multipart/form-data：表单格式\n",
    "![](img/fiddler_14.png)"
   ]
  },
  {
   "cell_type": "code",
   "execution_count": null,
   "metadata": {},
   "outputs": [],
   "source": []
  }
 ],
 "metadata": {
  "kernelspec": {
   "display_name": "Python 3",
   "language": "python",
   "name": "python3"
  },
  "language_info": {
   "codemirror_mode": {
    "name": "ipython",
    "version": 3
   },
   "file_extension": ".py",
   "mimetype": "text/x-python",
   "name": "python",
   "nbconvert_exporter": "python",
   "pygments_lexer": "ipython3",
   "version": "3.7.0"
  }
 },
 "nbformat": 4,
 "nbformat_minor": 2
}
