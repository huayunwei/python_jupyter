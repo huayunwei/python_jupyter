{
 "cells": [
  {
   "cell_type": "markdown",
   "metadata": {},
   "source": [
    "## 接口测试用例的设置\n",
    "- 根据点\n",
    "    - 功能：\n",
    "        - 功能是否正常\n",
    "        - 功能是否按照接口文档实现\n",
    "    - 逻辑业务：\n",
    "        - 是否依赖业务\n",
    "    - 异常：\n",
    "        - 参数异常和数据异常\n",
    "            - 参数异常：关键字参数，参数为空，多，少参数，错误参数\n",
    "            - 数据异常：关键字数据，数据为空，长度不一致，错误数据\n",
    "    - 安全：\n",
    "        - cookie：有cookie才能获取数据，如果不带cookie还有信息返回，说明有问题\n",
    "        - header：正常接口带header信息，删除header看是否能够返回数据\n",
    "        - 唯一识别码：app手机识别码，一般是唯一的"
   ]
  },
  {
   "cell_type": "markdown",
   "metadata": {},
   "source": [
    "## 接口测试用例的编写要点\n",
    "- 必填字段：请求参数必填项，可选项\n",
    "- 合法性：输入输出合法、非法参数\n",
    "- 边界：请求参数边界值\n",
    "- 容错能力：大容量数据，频繁请求，重复请求，异常网络等的处理\n",
    "- 响应数据校验：断言，数据提取传递到下一级接口\n",
    "- 逻辑校验：如两个请求的接口有严格的先后顺序，需要测试调转顺序的情况\n",
    "- 性能：对接口模拟并发测试，逐步加压，分析瓶颈点\n",
    "- 安全性：构造恶意的字符请求"
   ]
  },
  {
   "cell_type": "markdown",
   "metadata": {},
   "source": [
    "# "
   ]
  }
 ],
 "metadata": {
  "kernelspec": {
   "display_name": "Python 3",
   "language": "python",
   "name": "python3"
  },
  "language_info": {
   "codemirror_mode": {
    "name": "ipython",
    "version": 3
   },
   "file_extension": ".py",
   "mimetype": "text/x-python",
   "name": "python",
   "nbconvert_exporter": "python",
   "pygments_lexer": "ipython3",
   "version": "3.7.4"
  }
 },
 "nbformat": 4,
 "nbformat_minor": 2
}
