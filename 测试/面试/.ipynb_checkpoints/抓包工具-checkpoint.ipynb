{
 "cells": [
  {
   "cell_type": "markdown",
   "metadata": {},
   "source": [
    "# flddler"
   ]
  },
  {
   "cell_type": "markdown",
   "metadata": {},
   "source": [
    "## 断点的方式：\n",
    "- Brefore Request：在请求时，没有达到服务器之前设置断点\n",
    "- After response：服务器响应之后，在fiddler将响应传回给客户端之前"
   ]
  },
  {
   "cell_type": "markdown",
   "metadata": {},
   "source": [
    "# 为什么要设置断点："
   ]
  },
  {
   "cell_type": "markdown",
   "metadata": {},
   "source": [
    "进行接口测试时，拦截和修改数据，测后端功能，主要验证拦截的一些重要数据，是否做了加密，是否容易修改，修改成一些非法的值时，后台是否做了验证"
   ]
  },
  {
   "cell_type": "markdown",
   "metadata": {},
   "source": [
    "# 怎么设置断点："
   ]
  },
  {
   "cell_type": "markdown",
   "metadata": {},
   "source": [
    "- 全局断点：Rules >> Automatic Breakpoints >> Before Requests(After Responses)\n",
    "- 在命令行输入：单个断点\n",
    "    - brefore request：bpu url\n",
    "    - after response：bafter url"
   ]
  },
  {
   "cell_type": "code",
   "execution_count": null,
   "metadata": {},
   "outputs": [],
   "source": []
  }
 ],
 "metadata": {
  "kernelspec": {
   "display_name": "Python 3",
   "language": "python",
   "name": "python3"
  },
  "language_info": {
   "codemirror_mode": {
    "name": "ipython",
    "version": 3
   },
   "file_extension": ".py",
   "mimetype": "text/x-python",
   "name": "python",
   "nbconvert_exporter": "python",
   "pygments_lexer": "ipython3",
   "version": "3.7.4"
  }
 },
 "nbformat": 4,
 "nbformat_minor": 2
}
