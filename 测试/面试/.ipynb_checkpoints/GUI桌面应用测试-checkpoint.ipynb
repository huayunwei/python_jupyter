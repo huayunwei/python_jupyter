{
 "cells": [
  {
   "cell_type": "markdown",
   "metadata": {},
   "source": [
    "# 自动化技术 --- pyautogui\n",
    "- 支持linux，windows，mac"
   ]
  },
  {
   "cell_type": "code",
   "execution_count": null,
   "metadata": {},
   "outputs": [],
   "source": [
    "# 安装\n",
    "# windows\n",
    "pip install pyautogui\n",
    "\n",
    "# linux\n",
    "pip install python3-xlib\n",
    "pip install pyautogui\n",
    "\n",
    "# mac\n",
    "pip install pyobjc-core\n",
    "pip install pyobjc\n",
    "pip install pyautogui"
   ]
  },
  {
   "cell_type": "markdown",
   "metadata": {},
   "source": [
    "## 鼠标操作"
   ]
  },
  {
   "cell_type": "code",
   "execution_count": null,
   "metadata": {},
   "outputs": [],
   "source": [
    "# 获取坐标\n",
    "import pyautogui as ui\n",
    "# 获取屏幕大小\n",
    "size = ui.size() # 不会反会扩展屏的宽度和高度\n",
    "\n",
    "# 获取现在鼠标位置\n",
    "p = ui.position() # 根据鼠标在屏幕的位置，即使是扩张屏上的位置依旧会返回\n",
    "\n",
    "# 坐标是否超出屏幕范围\n",
    "if_on = ui.onScreeen(*p) # 在扩展屏为false，非扩展屏为true\n",
    "\n",
    "\n",
    "# 鼠标移动，以当前鼠标的位置为起始点，偏移x，y的坐标位置\n",
    "# duration：默认为瞬间移动\n",
    "ui.move(x,y,duration,tween)\n",
    "\n",
    "# 鼠标拖拽，移动到指定的坐标，以鼠标按下的方式，移动鼠标到屏幕左上角为起始点，偏移x,y的坐标位置\n",
    "ui.dragTo(x,y,duration,tween)\n",
    "ui.drag(x,y,duration,tween) # 以当前鼠标的位置为起始点，偏移x，y的坐标\n",
    "\n",
    "# 鼠标点击\n",
    "# x,y：位置\n",
    "# clicks :int - 点击次数\n",
    "# interval:float - 点击间隔\n",
    "# button：str:right右键,left左键,middle中间,primary,secondary\n",
    "ui.click(x,y,clicks,interval,button,duration)\n",
    "\n",
    "\n",
    "# 滚动\n",
    "pyautogui.scroll(num) # 向上滚动num个click，如果num为负则向下滚动，目前实验没有效果\n",
    "ui.drag(yOffset=num,button='middle',duration=num)  # 通过点击鼠标middle后，向下拉动鼠标来达到滚动的效果"
   ]
  },
  {
   "cell_type": "markdown",
   "metadata": {},
   "source": [
    "## 键盘操作"
   ]
  },
  {
   "cell_type": "code",
   "execution_count": null,
   "metadata": {},
   "outputs": [],
   "source": [
    "# 输入框输入\n",
    "# interval 每个字母间隔\n",
    "ui.write(\"yuz\",interval=0.2) # 不支持输入框自动聚焦，需要先获得焦距后，才能输入到内容，输入不了中文\n",
    "\n",
    "\n",
    "# 按下键盘和释放\n",
    "# presses：点击的次数，默认是1\n",
    "# interval：每次点击的间隔\n",
    "ui.press('enter',presses=1,interval=0.0)\n",
    "\n",
    "# 热键，等同于同时按下crtl+shift+esc，并且释放\n",
    "ui.hotkey(\"ctrl\",'shift','esc')\n",
    "\n",
    "# 按下键盘 keyDown\n",
    "ui.keyDown()\n",
    "\n",
    "# 释放键盘按键 keyUp\n",
    "ui.keyUp()"
   ]
  }
 ],
 "metadata": {
  "kernelspec": {
   "display_name": "Python 3",
   "language": "python",
   "name": "python3"
  },
  "language_info": {
   "codemirror_mode": {
    "name": "ipython",
    "version": 3
   },
   "file_extension": ".py",
   "mimetype": "text/x-python",
   "name": "python",
   "nbconvert_exporter": "python",
   "pygments_lexer": "ipython3",
   "version": "3.7.4"
  }
 },
 "nbformat": 4,
 "nbformat_minor": 2
}
