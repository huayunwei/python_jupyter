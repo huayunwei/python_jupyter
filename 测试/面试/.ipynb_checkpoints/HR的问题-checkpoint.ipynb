{
 "cells": [
  {
   "cell_type": "markdown",
   "metadata": {},
   "source": [
    "# 如何解决问题？"
   ]
  },
  {
   "cell_type": "markdown",
   "metadata": {},
   "source": [
    "# 出现矛盾和分歧如何解决？"
   ]
  },
  {
   "cell_type": "markdown",
   "metadata": {},
   "source": [
    "# 如何与领导和其他部门沟通"
   ]
  },
  {
   "cell_type": "markdown",
   "metadata": {},
   "source": [
    "# 了解对方企业文化"
   ]
  },
  {
   "cell_type": "markdown",
   "metadata": {},
   "source": [
    "# 自我介绍\n",
    "我叫XX，xx年xx月xx日从哪毕业，毕业至今从事测试工作，工作了xx年，第一家公司是XX，主要业务是xx\n",
    "目前这家公司，主要做xx业务，有web端，app端和微信公众号的项目，这几个项目都由我来负责测试，可能会问一年大于有多少个项目\n",
    "\n",
    "我负责的测试内容主要包括：xxx测试，xx测试，xx测试\n",
    "\n",
    "平时工作中会用到很多测试工具，比如：\n",
    "\n",
    "我也有过一些开发经验，擅长XXX，XX语言，自己做过XXX项目\n",
    "\n",
    "工作中我是一个很认真，细致的人，所以我觉得我很适合测试岗位，如果有机会能来贵公司工作，我也有信心做好对应的测试工作。\n",
    "\n",
    "我的自我介绍大致就是这样，谢谢"
   ]
  },
  {
   "cell_type": "markdown",
   "metadata": {},
   "source": [
    "# 印象最深刻的一个bug\n",
    "上线后一个工具类功能的页面出现了样式问题，当时这个页面并不在这次更新的范围内，询问过开发才知道，开发是顺手做了优化，但是并没有通知我，而我也没没有做整个app的回归测试，只是对主要流程进行了回归，得到的教训：和开发商量后，开发同意会对以后修改的内容进行告知，并对可能影响的页面告知，我也越发觉得自动化测试的重要性"
   ]
  },
  {
   "cell_type": "markdown",
   "metadata": {},
   "source": [
    "# 职业规划\n",
    "太长远的计划我目前可能没有想这么多，但是我有一个3-5年的规划：因为目前我还是一个初中级测试工程师，如果有幸能进入贵公司工作的话，肯定要先熟悉公司的产品和业务，把测试本职工作做好，然后慢慢发展为一位资深测试工程师，比如技术突破，往自动化测试发展，以后计划可以做测试开发"
   ]
  },
  {
   "cell_type": "markdown",
   "metadata": {},
   "source": [
    "# 优缺点"
   ]
  },
  {
   "cell_type": "markdown",
   "metadata": {},
   "source": [
    "优点：责任心比较强，任务吩咐的工作，主动汇报进度，并且按时按需完成，学习能力比较强，自己编写自动化脚本，用于日常的一些重复的测试\n",
    "\n",
    "缺点：不太懂地拒绝别人，但是前面工作过程中我也认识到了，而且测试岗位又比较需要有自己原则和立场，所以自己公事公办，该拒绝的就拒绝"
   ]
  },
  {
   "cell_type": "markdown",
   "metadata": {},
   "source": [
    "# 有什么想问的"
   ]
  },
  {
   "cell_type": "markdown",
   "metadata": {},
   "source": [
    "您目前担任的职位\n",
    "\n",
    "目前公司的规模\n",
    "\n",
    "如果入职之后做的项目在公司处于什么样的地位\n",
    "\n",
    "项目目前的状态，发布了几个版本，以后的计划\n",
    "\n",
    "我如果入职的话，以后从事的是那一块的工作"
   ]
  },
  {
   "cell_type": "code",
   "execution_count": null,
   "metadata": {},
   "outputs": [],
   "source": []
  }
 ],
 "metadata": {
  "kernelspec": {
   "display_name": "Python 3",
   "language": "python",
   "name": "python3"
  },
  "language_info": {
   "codemirror_mode": {
    "name": "ipython",
    "version": 3
   },
   "file_extension": ".py",
   "mimetype": "text/x-python",
   "name": "python",
   "nbconvert_exporter": "python",
   "pygments_lexer": "ipython3",
   "version": "3.7.4"
  }
 },
 "nbformat": 4,
 "nbformat_minor": 2
}
