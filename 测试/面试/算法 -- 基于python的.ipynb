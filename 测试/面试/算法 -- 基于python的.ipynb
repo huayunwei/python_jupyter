{
 "cells": [
  {
   "cell_type": "markdown",
   "metadata": {},
   "source": [
    "# 冒泡"
   ]
  },
  {
   "cell_type": "markdown",
   "metadata": {},
   "source": [
    "## 冒泡的规则\n",
    "- 第一轮，拿第一个和后面的所有数进行比较，如果第一个大，则交换位置，然后一直比较到最后一个数字\n",
    "- 第二轮，拿第二个和后面的所有数进行比较，如果第二个大，则交换位置，然后一直比较到最后一个数字\n",
    "- 。。。。。。。\n",
    "- 最后一轮，拿倒数第二个和后面的所"
   ]
  },
  {
   "cell_type": "code",
   "execution_count": null,
   "metadata": {},
   "outputs": [],
   "source": []
  }
 ],
 "metadata": {
  "kernelspec": {
   "display_name": "Python 3",
   "language": "python",
   "name": "python3"
  },
  "language_info": {
   "codemirror_mode": {
    "name": "ipython",
    "version": 3
   },
   "file_extension": ".py",
   "mimetype": "text/x-python",
   "name": "python",
   "nbconvert_exporter": "python",
   "pygments_lexer": "ipython3",
   "version": "3.7.4"
  }
 },
 "nbformat": 4,
 "nbformat_minor": 2
}
