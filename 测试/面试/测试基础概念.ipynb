{
 "cells": [
  {
   "cell_type": "markdown",
   "metadata": {},
   "source": [
    "# 测试用例设计方法"
   ]
  },
  {
   "cell_type": "markdown",
   "metadata": {},
   "source": [
    "# 测试计划的编写"
   ]
  },
  {
   "cell_type": "markdown",
   "metadata": {},
   "source": [
    "# 测试策略的编写"
   ]
  },
  {
   "cell_type": "markdown",
   "metadata": {},
   "source": [
    "# 测试用例的编写"
   ]
  },
  {
   "cell_type": "markdown",
   "metadata": {},
   "source": [
    "# 测试报告的编写"
   ]
  },
  {
   "cell_type": "markdown",
   "metadata": {},
   "source": [
    "# 项目是如何进行的"
   ]
  },
  {
   "cell_type": "markdown",
   "metadata": {},
   "source": [
    "# 测试流程包含的阶段，各个阶段的输出"
   ]
  },
  {
   "cell_type": "markdown",
   "metadata": {},
   "source": [
    "- 测试需求分析阶段：需求文档\n",
    "- 测试计划阶段：测试计划和测试方案\n",
    "- 测试设计阶段：测试用例\n",
    "- 测试执行阶段：bug\n",
    "- 测试评估阶段：测试报告"
   ]
  },
  {
   "cell_type": "markdown",
   "metadata": {},
   "source": [
    "# 你们公司的测试流程"
   ]
  },
  {
   "cell_type": "markdown",
   "metadata": {},
   "source": [
    "- 了解用户需求\n",
    "- 进行需求分析（参考软件需求规格说明书，由产品经理写）\n",
    "- 编写测试计划和测试方案（人力物力时间）\n",
    "- 编写测试用例（参考需求文档，概要设计说明书和详细设计说明书等文档）\n",
    "- 评审用例\n",
    "- 搭建测试环境\n",
    "- 执行冒烟测试和正式测试\n",
    "- 通过bug管理工具提交和跟踪bug\n",
    "- 写测试报告\n",
    "- 版本上线"
   ]
  },
  {
   "cell_type": "markdown",
   "metadata": {},
   "source": [
    "# 测试工作是如何展开的"
   ]
  },
  {
   "cell_type": "markdown",
   "metadata": {},
   "source": [
    "# 软件生命周期模型"
   ]
  },
  {
   "cell_type": "markdown",
   "metadata": {},
   "source": [
    "- 需求分析\n",
    "- 设计\n",
    "- 编码\n",
    "- 测试\n",
    "- 维护和升级"
   ]
  },
  {
   "cell_type": "code",
   "execution_count": null,
   "metadata": {},
   "outputs": [],
   "source": []
  }
 ],
 "metadata": {
  "kernelspec": {
   "display_name": "Python 3",
   "language": "python",
   "name": "python3"
  },
  "language_info": {
   "codemirror_mode": {
    "name": "ipython",
    "version": 3
   },
   "file_extension": ".py",
   "mimetype": "text/x-python",
   "name": "python",
   "nbconvert_exporter": "python",
   "pygments_lexer": "ipython3",
   "version": "3.7.0"
  }
 },
 "nbformat": 4,
 "nbformat_minor": 2
}
