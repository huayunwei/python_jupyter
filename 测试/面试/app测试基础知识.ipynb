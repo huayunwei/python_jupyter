{
 "cells": [
  {
   "cell_type": "markdown",
   "metadata": {},
   "source": [
    "# 什么是activity"
   ]
  },
  {
   "cell_type": "markdown",
   "metadata": {},
   "source": [
    "- activity是安卓的四大组件之一，用来显示view，提供屏幕进行交互，每个activity都会获得一个用于绘制其他用户界面的窗口\n",
    "- activity之间可以互相跳转，以便执行不同的操作，每当新activity启动时，旧的activity便会停止，但是系统会在堆栈也就是返回栈中保留该activity\n",
    "- activity启动时，系统也会去将其推送到返回栈，并取得用户的操作焦点，当用户完成当前activity并按返回按钮时，系统就会从堆栈将其弹出销毁，然后恢复前一个activity"
   ]
  },
  {
   "cell_type": "markdown",
   "metadata": {},
   "source": [
    "# activity生命周期"
   ]
  },
  {
   "cell_type": "markdown",
   "metadata": {},
   "source": [
    "- 从一个状态到另一个状态的转变，从无到有再到无，这样的过程所经历的状态叫生命周期\n",
    "- 运行：activity处于活动状态，此时activity处于栈顶，是可见状态，可以与用户进行交互\n",
    "- 暂停：当activity失去焦点时，或被一个新的非全面屏的activity，或被一个透明的activity放置在栈顶时，activity就转化为paused状态。并不会被销毁，只是失去了与用户交互的能力，其所有的状态信息及其成员变量都还在，只有在系统内存紧张的情况下，才有可能被系统回收掉\n",
    "- 停止：当activity被系统完全覆盖时，被覆盖的activity就会进入stopped状态，此时已不在可见，但是资源还是没有被回收\n",
    "- 系统回收：当activity被系统回收掉，activity就处于killed状态"
   ]
  },
  {
   "cell_type": "markdown",
   "metadata": {},
   "source": [
    "# 安卓四大组件"
   ]
  },
  {
   "cell_type": "markdown",
   "metadata": {},
   "source": [
    "# app测试和web测试有什么区别"
   ]
  },
  {
   "cell_type": "markdown",
   "metadata": {},
   "source": [
    "# 安卓和ios测试区别"
   ]
  },
  {
   "cell_type": "markdown",
   "metadata": {},
   "source": [
    "# app出现anr，是什么原因导致的"
   ]
  },
  {
   "cell_type": "markdown",
   "metadata": {},
   "source": [
    "# app出现crash原因有哪些"
   ]
  },
  {
   "cell_type": "markdown",
   "metadata": {},
   "source": [
    "# app对于不稳定偶然出现anr和crash时候你是怎么处理的？"
   ]
  },
  {
   "cell_type": "markdown",
   "metadata": {},
   "source": [
    "# app的日志如何抓取？"
   ]
  },
  {
   "cell_type": "markdown",
   "metadata": {},
   "source": [
    "# 平常会看日志吗，一般会出现哪些异常？"
   ]
  },
  {
   "cell_type": "markdown",
   "metadata": {},
   "source": [
    "# app测试工具"
   ]
  },
  {
   "cell_type": "markdown",
   "metadata": {},
   "source": [
    "- 轻量接口自动化测试：jmeter\n",
    "- App UI层面的自动化：appium\n",
    "- 性能测试\n",
    "    - 抓包工具：fiddler\n",
    "    - 内存占用分析\n",
    "        - 安卓：MAT\n",
    "        - 苹果：ARC模式\n",
    "    - 后台服务性能测试：jmeter\n",
    "- 专项测试\n",
    "    - 兼容性：\n",
    "        - 手工：操作系统，分辨率，rom，网络类型\n",
    "        - 云平台：testin\n",
    "    - 弱网：fiddler"
   ]
  },
  {
   "cell_type": "code",
   "execution_count": null,
   "metadata": {},
   "outputs": [],
   "source": []
  }
 ],
 "metadata": {
  "kernelspec": {
   "display_name": "Python 3",
   "language": "python",
   "name": "python3"
  },
  "language_info": {
   "codemirror_mode": {
    "name": "ipython",
    "version": 3
   },
   "file_extension": ".py",
   "mimetype": "text/x-python",
   "name": "python",
   "nbconvert_exporter": "python",
   "pygments_lexer": "ipython3",
   "version": "3.7.4"
  }
 },
 "nbformat": 4,
 "nbformat_minor": 2
}
