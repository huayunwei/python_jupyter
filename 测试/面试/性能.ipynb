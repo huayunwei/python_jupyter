{
 "cells": [
  {
   "cell_type": "markdown",
   "metadata": {},
   "source": [
    "# app性能测试的指标"
   ]
  },
  {
   "cell_type": "markdown",
   "metadata": {},
   "source": [
    "- 内存：\n",
    "    - 目标：不占用过多的系统资源，及时释放内存，保障整个系统的稳定性\n",
    "    - 空闲状态：打开应用后，点击home键让应用后台运行，此时应用处于的状态叫空闲\n",
    "    - 中等规格和满规格：指对应用的操作时间的间隔长短不一，中等规格时间较长，满规格时间较短\n",
    "    - 测试项：\n",
    "        - 空闲状态下的应用内存消耗\n",
    "        - 中等规格状态下的应用内存消耗\n",
    "        - 满规格转台的应用内存消耗\n",
    "        - 应用内存峰值\n",
    "        - 应用内存泄露\n",
    "        - 应用是否常驻内存\n",
    "        - 压力测试后内存使用\n",
    "- 流量\n",
    "    - 应用首次启动流量提示\n",
    "    - 应用后台连续运行2小时的流量值\n",
    "    - 应用高负荷运行的流量峰值\n",
    "- 电量\n",
    "    - 测试手机安装目标APK前后待机功耗无明显差异\n",
    "    - 常见使用场景中能够正常进入待机，待机电流在正常范围内\n",
    "    - 长时间连续使用应用无异常耗电现象\n",
    "- 启动速度\n",
    "    - 首次启动：应用首次启动所花费的时间\n",
    "    - 非首次启动：应用非首次启动所花费的时间\n",
    "    - 应用界面切换：应用界面内切换所花费的时间\n",
    "- 滑动速度，界面切换速度\n",
    "- 与服务器交互的网络速度"
   ]
  },
  {
   "cell_type": "code",
   "execution_count": null,
   "metadata": {},
   "outputs": [],
   "source": []
  }
 ],
 "metadata": {
  "kernelspec": {
   "display_name": "Python 3",
   "language": "python",
   "name": "python3"
  },
  "language_info": {
   "codemirror_mode": {
    "name": "ipython",
    "version": 3
   },
   "file_extension": ".py",
   "mimetype": "text/x-python",
   "name": "python",
   "nbconvert_exporter": "python",
   "pygments_lexer": "ipython3",
   "version": "3.7.4"
  }
 },
 "nbformat": 4,
 "nbformat_minor": 2
}
