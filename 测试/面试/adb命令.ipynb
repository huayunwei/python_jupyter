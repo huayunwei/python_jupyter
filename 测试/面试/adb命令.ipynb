{
 "cells": [
  {
   "cell_type": "markdown",
   "metadata": {},
   "source": [
    "# 常用adb命令"
   ]
  },
  {
   "cell_type": "markdown",
   "metadata": {},
   "source": [
    "- adb devices：连接设备/控制器的状态的相关信息\n",
    "- adb install package：测试的手机应用软件安装到链接的手机设备中\n",
    "- adb uninstall package：卸载已安装的应用\n",
    "- adb pull path：将手机上的文件传送到电脑\n",
    "- adb logcat：查看和跟踪系统日志\n",
    "- adb start-server：启动adb服务\n",
    "- adb kill-server：关闭adb服务\n",
    "- adb forward tcp:1 tcp:2：将本机的端口重定向到手机设备或模拟器端口上\n",
    "- adb shell pm list package：查找安装的包名\n",
    "- adb shell am start -n package.activity：启动应用\n",
    "- adb shell am force-stop package：强制停止应用"
   ]
  },
  {
   "cell_type": "code",
   "execution_count": null,
   "metadata": {},
   "outputs": [],
   "source": []
  }
 ],
 "metadata": {
  "kernelspec": {
   "display_name": "Python 3",
   "language": "python",
   "name": "python3"
  },
  "language_info": {
   "codemirror_mode": {
    "name": "ipython",
    "version": 3
   },
   "file_extension": ".py",
   "mimetype": "text/x-python",
   "name": "python",
   "nbconvert_exporter": "python",
   "pygments_lexer": "ipython3",
   "version": "3.7.4"
  }
 },
 "nbformat": 4,
 "nbformat_minor": 2
}
