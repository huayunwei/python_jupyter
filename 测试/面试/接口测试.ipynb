{
 "cells": [
  {
   "cell_type": "markdown",
   "metadata": {},
   "source": [
    "# 什么是接口"
   ]
  },
  {
   "cell_type": "markdown",
   "metadata": {},
   "source": [
    "接口就是内部模块对模块，外部系统对其他服务提供的一种可调用或者连接的能力的标准"
   ]
  },
  {
   "cell_type": "markdown",
   "metadata": {},
   "source": [
    "# 接口的种类和分类"
   ]
  },
  {
   "cell_type": "markdown",
   "metadata": {},
   "source": [
    "- webservice：走soap协议通过http传输，请求报文和返回报文都是xml格式，可以通过jme、soapui工具进行测试的\n",
    "- http api接口是走http协议通过路径来区分调用的方法，请求报文格式都是key-value形式，返回报文一般是json串"
   ]
  },
  {
   "cell_type": "markdown",
   "metadata": {},
   "source": [
    "# 什么是接口测试"
   ]
  },
  {
   "cell_type": "markdown",
   "metadata": {},
   "source": [
    "- 接口测试：测试系统组件间接口的一种测试方式\n",
    "- 接口测试的重点：检查数据的交换，数据传递的正确性，以及接口间的逻辑依赖关系"
   ]
  },
  {
   "cell_type": "markdown",
   "metadata": {},
   "source": [
    "# 接口自动化测试流程"
   ]
  },
  {
   "cell_type": "markdown",
   "metadata": {},
   "source": [
    "- 需求分析\n",
    "- 用例设计\n",
    "- 脚本开发\n",
    "- 测试执行\n",
    "- 结果分析"
   ]
  },
  {
   "cell_type": "markdown",
   "metadata": {},
   "source": [
    "# GET请求和POST请求的区别"
   ]
  },
  {
   "cell_type": "markdown",
   "metadata": {},
   "source": []
  },
  {
   "cell_type": "markdown",
   "metadata": {},
   "source": [
    "# session和cookies区别"
   ]
  },
  {
   "cell_type": "markdown",
   "metadata": {},
   "source": [
    "- cookie数据存放在客户的浏览器上，session数据放在服务器上\n",
    "- cookie不是很安全，别人可以分析存放在本地cookie并进行cookie欺骗\n",
    "- 单个cookie保存的数据不能超过4K，很多浏览器都限制一个站点最多保存20个cookie\n",
    "- session会在一定时间内保存在服务器上\n",
    "- 当访问增多，会比较占用服务器的性能"
   ]
  },
  {
   "cell_type": "markdown",
   "metadata": {},
   "source": [
    "# HTTP和HTTPS协议区别"
   ]
  },
  {
   "cell_type": "markdown",
   "metadata": {},
   "source": [
    "- http是超文本传输协议，信息是明文传输，https是具有安全性的ssl传输协议\n",
    "- http与https使用的是不同的连接方式，端口也一样，http默认端口是80，https默认端口是443\n",
    "- http连接状态比较简单，是无状态的，https协议是由ssl+http协议组成的可进行传输、身份认证的网络协议"
   ]
  },
  {
   "cell_type": "markdown",
   "metadata": {},
   "source": [
    "# 常见的返回状态码"
   ]
  },
  {
   "cell_type": "markdown",
   "metadata": {},
   "source": [
    "- 1XX：信息提示\n",
    "- 2XX：成功\n",
    "- 3XX：重定向\n",
    "- 4XX：客户端错误\n",
    "- 5XX：服务器错误"
   ]
  },
  {
   "cell_type": "markdown",
   "metadata": {},
   "source": [
    "# 接口测试工具"
   ]
  },
  {
   "cell_type": "markdown",
   "metadata": {},
   "source": [
    "- postman\n",
    "- jmeter\n",
    "- soapui"
   ]
  },
  {
   "cell_type": "markdown",
   "metadata": {},
   "source": [
    "# HTTP接口的请求参数类型有哪些"
   ]
  },
  {
   "cell_type": "markdown",
   "metadata": {},
   "source": [
    "- 查询字符串参数：一般用于GET请求，会以url string的形式进行传递\n",
    "- 请求体参数：一般用于post请求，可以使用Content-Type来指定不同参数类型"
   ]
  },
  {
   "cell_type": "markdown",
   "metadata": {},
   "source": [
    "# 接口测试用例的编写要点有哪些\n"
   ]
  },
  {
   "cell_type": "markdown",
   "metadata": {},
   "source": [
    "- 必填字段：请求参数必填项，可选项\n",
    "- 合法性：输入输出合法、非法参数\n",
    "- 边界：请求参数边界值\n",
    "- 容错能力：大容量数据，频繁请求，重复请求，异常网络等的处理\n",
    "- 响应数据校验：断言，数据提取传递到下一级接口\n",
    "- 逻辑校验：如两个请求的接口有严格的先后顺序，需要测试调转顺序的情况\n",
    "- 性能：对接口模拟并发测试，逐步加压，分析瓶颈点\n",
    "- 安全性：构造恶意的字符请求"
   ]
  },
  {
   "cell_type": "markdown",
   "metadata": {},
   "source": [
    "# 接口测试的步骤有哪些"
   ]
  },
  {
   "cell_type": "markdown",
   "metadata": {},
   "source": [
    "- 发送接口请求\n",
    "- 测试接口获取返回值\n",
    "- 断言：判断实际结果是否符合预期"
   ]
  },
  {
   "cell_type": "markdown",
   "metadata": {},
   "source": [
    "# 接口测试过程中发现哪些bug？"
   ]
  },
  {
   "cell_type": "markdown",
   "metadata": {},
   "source": [
    "- 某些选填项作为必填项处理\n",
    "- 查询数据时因为有选填项，所以传递为空时，后台默认不做处理，习惯下在更新时，对于修改为空的值，也不进行处理，无法实现空值的更新"
   ]
  },
  {
   "cell_type": "markdown",
   "metadata": {},
   "source": [
    "# 接口测试的必要性"
   ]
  },
  {
   "cell_type": "markdown",
   "metadata": {},
   "source": [
    "- 可以发现很多在页面上操作不了的bug\n",
    "- 检查系统的异常处理能力\n",
    "- 检查系统的安全性、稳定性\n",
    "- 前端随便变，接口测好了，后端不用变\n",
    "- 可以测试并发情况，一个账号，同时操作的情况\n",
    "- 可以修改请求参数，突破前段页面的输入限制"
   ]
  },
  {
   "cell_type": "markdown",
   "metadata": {},
   "source": [
    "# 怎么测试接口的？"
   ]
  },
  {
   "cell_type": "markdown",
   "metadata": {},
   "source": [
    "- 通过性验证：首先肯定要保证这个接口功能是否好使，既按照接口文档正常传入参数和参数值，看是否可以返回正确的结果\n",
    "- 参数组合：如果有多个选传参数，验证多种组合，比如不传，传1个，传2个等。。，看是否能得到正确的结果\n",
    "- 接口安全：\n",
    "    - 身份授权：对于一些修改接口，如果不传对应的身份信息，是否可以修改成功\n",
    " - 异常验证：不按照接口文档的要求输入参数，比如不传必传的参数，不输入必填的项，对于有类型要求的输入非该类型\n",
    " - 性能测试：接口并发等"
   ]
  },
  {
   "cell_type": "markdown",
   "metadata": {},
   "source": [
    "# 没有接口文档时如何做接口测试？"
   ]
  },
  {
   "cell_type": "markdown",
   "metadata": {},
   "source": [
    "- 跟开发沟通看能否整理接口文档\n",
    "- 抓包看接口的请求参数，不懂的找开发询问"
   ]
  },
  {
   "cell_type": "markdown",
   "metadata": {},
   "source": [
    "# 为什么要做接口测试？"
   ]
  },
  {
   "cell_type": "markdown",
   "metadata": {},
   "source": [
    "因为不同端的工作进度不一样，所以针对最开始的接口，以及其他公司的一些接口进行接口测试及验证数据，从安全层面来说，只依赖前端进行限制已经完全不能满足系统的安全要求，需要后端同样进行控制"
   ]
  }
 ],
 "metadata": {
  "kernelspec": {
   "display_name": "Python 3",
   "language": "python",
   "name": "python3"
  },
  "language_info": {
   "codemirror_mode": {
    "name": "ipython",
    "version": 3
   },
   "file_extension": ".py",
   "mimetype": "text/x-python",
   "name": "python",
   "nbconvert_exporter": "python",
   "pygments_lexer": "ipython3",
   "version": "3.7.4"
  }
 },
 "nbformat": 4,
 "nbformat_minor": 2
}
