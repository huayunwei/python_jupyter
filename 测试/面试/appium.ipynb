{
 "cells": [
  {
   "cell_type": "markdown",
   "metadata": {},
   "source": [
    "# appium"
   ]
  },
  {
   "cell_type": "markdown",
   "metadata": {},
   "source": [
    "## 什么是appium？\n",
    "- appium是一个免费分发的开源移动应用UI测试框架"
   ]
  },
  {
   "cell_type": "markdown",
   "metadata": {},
   "source": [
    "# 列出使用APPIUM的先决条件"
   ]
  },
  {
   "cell_type": "markdown",
   "metadata": {},
   "source": [
    "- 安卓 SDK\n",
    "- JDK（java环境）\n",
    "- pycharm（python编译器）\n",
    "- selenium webdriver\n",
    "- appium for windows\n",
    "- node.js"
   ]
  },
  {
   "cell_type": "markdown",
   "metadata": {},
   "source": [
    "## appium的局限性\n",
    "- appium不支持安卓版本低于4.2的机器\n",
    "- ??"
   ]
  },
  {
   "cell_type": "markdown",
   "metadata": {},
   "source": [
    "## appium的设计理念\n",
    "- appium是使用node.js平台编写的http server，并使用webdriver json线协议驱动ios和安卓会话\n",
    "- 当appium被下载并安装时，在机器上会设置一个暴露rest api的服务器\n",
    "- 它从客户端接收连接和命令请求，并在移动设备上执行该命令，响应http响应\n",
    "- 客户端为了执行该命令，使用移动测试自动化框架来驱动应用程序的用户界面\n",
    "- Apple Instrument for IOS\n",
    "- 安卓 UIAutomator "
   ]
  },
  {
   "cell_type": "markdown",
   "metadata": {},
   "source": [
    "## 什么是APPIM INSPECTOR\n",
    "- "
   ]
  }
 ],
 "metadata": {
  "kernelspec": {
   "display_name": "Python 3",
   "language": "python",
   "name": "python3"
  },
  "language_info": {
   "codemirror_mode": {
    "name": "ipython",
    "version": 3
   },
   "file_extension": ".py",
   "mimetype": "text/x-python",
   "name": "python",
   "nbconvert_exporter": "python",
   "pygments_lexer": "ipython3",
   "version": "3.7.4"
  }
 },
 "nbformat": 4,
 "nbformat_minor": 2
}
