{
 "cells": [
  {
   "cell_type": "markdown",
   "metadata": {
    "toc-hr-collapsed": false
   },
   "source": [
    "# 基础"
   ]
  },
  {
   "cell_type": "markdown",
   "metadata": {},
   "source": [
    "## Virtual User Generator --- 用于录制性能测试脚本"
   ]
  },
  {
   "cell_type": "markdown",
   "metadata": {},
   "source": [
    "## LoadRunner Controller -- 用于创建，运行和监控场景"
   ]
  },
  {
   "cell_type": "markdown",
   "metadata": {},
   "source": [
    "## LoadRunner Analysis -- 用于分析性能测试结果"
   ]
  },
  {
   "cell_type": "markdown",
   "metadata": {
    "toc-hr-collapsed": true
   },
   "source": [
    "## 常用术语"
   ]
  },
  {
   "cell_type": "markdown",
   "metadata": {},
   "source": [
    "### 场景 - 测试场景（scenario）\n",
    "- 在Loadrunner的controller部件中，可以设计与执行用例的场景"
   ]
  },
  {
   "cell_type": "markdown",
   "metadata": {},
   "source": [
    "### 负载发生器 （load generator）\n",
    "- 用来产生压力的机器，受controller控制，可以使用户脚本在不同的主机上执行"
   ]
  },
  {
   "cell_type": "markdown",
   "metadata": {},
   "source": [
    "### 虚拟用户（Virtual User/Vuser）\n",
    "- 对应与现实中额的真实用户，使用Loadrunner模拟的用户称为虚拟用户"
   ]
  },
  {
   "cell_type": "markdown",
   "metadata": {},
   "source": [
    "### 虚拟用户脚本 （Vuser script）\n",
    "- 通过vuser generator录制或开发脚本，这些脚本用来模拟用户行为"
   ]
  },
  {
   "cell_type": "markdown",
   "metadata": {},
   "source": [
    "### 事务（Transaction）\n",
    "- 将一个或多个操作步骤定义为一个事务，可以通俗的理解事务为\"人为定义的一系列请求\"\n",
    "- 根据事务的开头和结尾标记，计算事务响应时间，成功/失败的事务数"
   ]
  },
  {
   "cell_type": "markdown",
   "metadata": {},
   "source": [
    "### 思考时间（Think Time）\n",
    "- 既请求间的停顿时间"
   ]
  },
  {
   "cell_type": "markdown",
   "metadata": {},
   "source": [
    "### 集合点（Rendezvous）\n",
    "- 设集合点是为了更好模拟并发操作"
   ]
  },
  {
   "cell_type": "markdown",
   "metadata": {},
   "source": [
    "### 事务响应时间\n",
    "- 统计量，评价系统性能的重要参数"
   ]
  },
  {
   "cell_type": "code",
   "execution_count": null,
   "metadata": {},
   "outputs": [],
   "source": []
  }
 ],
 "metadata": {
  "kernelspec": {
   "display_name": "Python 3",
   "language": "python",
   "name": "python3"
  },
  "language_info": {
   "codemirror_mode": {
    "name": "ipython",
    "version": 3
   },
   "file_extension": ".py",
   "mimetype": "text/x-python",
   "name": "python",
   "nbconvert_exporter": "python",
   "pygments_lexer": "ipython3",
   "version": "3.7.4"
  }
 },
 "nbformat": 4,
 "nbformat_minor": 4
}
