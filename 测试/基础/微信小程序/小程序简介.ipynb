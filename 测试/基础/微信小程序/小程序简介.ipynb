{
 "cells": [
  {
   "cell_type": "markdown",
   "metadata": {},
   "source": [
    "# 微信小程序和H5的区别"
   ]
  },
  {
   "cell_type": "markdown",
   "metadata": {},
   "source": [
    "1. 运行环境\n",
    "    - H5运行环境是浏览器，包括webview等，是浏览器页面\n",
    "    - 微信小程序运行环境是非完整的浏览器，是基于浏览器内核完全重构的一个内置解析器，是计算机程序\n",
    "2. 开发成本\n",
    "    - 开发工具，前端框架，模块管理工具，任务管理工具，UI库选择，接口调用工具，浏览器兼容性\n",
    "    - 微信提供了统一的开发工具，只需要专注写代码，可以随意调用微信开发里的API，不用担心浏览器的兼容性\n",
    "3. 系统权限\n",
    "    - 微信比HTML5能获取更多的系统权限，如网络通信状态，数据缓存能力等\n",
    "4. 用户体验\n",
    "    - HTML页面，实际就是打开一个web页面，而页面在浏览器中进行渲染，会有加载效果\n",
    "    - 小程序，微信内的云端应用，通过websocket双向通信（无需刷新即时通信）、本地缓存（图片与UI本地缓存降低与服务器交互延时）、微信底层技术优化实现了小程序接近原本APP的体验   "
   ]
  },
  {
   "cell_type": "code",
   "execution_count": null,
   "metadata": {},
   "outputs": [],
   "source": []
  }
 ],
 "metadata": {
  "kernelspec": {
   "display_name": "Python 3",
   "language": "python",
   "name": "python3"
  },
  "language_info": {
   "codemirror_mode": {
    "name": "ipython",
    "version": 3
   },
   "file_extension": ".py",
   "mimetype": "text/x-python",
   "name": "python",
   "nbconvert_exporter": "python",
   "pygments_lexer": "ipython3",
   "version": "3.7.4"
  }
 },
 "nbformat": 4,
 "nbformat_minor": 2
}
