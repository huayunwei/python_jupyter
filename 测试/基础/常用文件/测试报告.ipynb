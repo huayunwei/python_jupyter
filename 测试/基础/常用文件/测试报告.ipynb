{
 "cells": [
  {
   "cell_type": "markdown",
   "metadata": {},
   "source": [
    "# 测试报告"
   ]
  },
  {
   "cell_type": "markdown",
   "metadata": {},
   "source": [
    "## 测试报告的组成\n",
    "- 引言：\n",
    "    - 编写目的\n",
    "    - 项目背景\n",
    "    - 系统简介\n",
    "    - 参考文档\n",
    "- 测试设计总结：\n",
    "    - 测试用例设计\n",
    "    - 测试环境配置\n",
    "    - 测试方法和工具\n",
    "- 测试结果及分析\n",
    "    - 测试执行情况与记录\n",
    "    - bug汇总\n",
    "    - 测试覆盖\n",
    "- 测试结论与建议\n",
    "    - 结论\n",
    "    - 测试用例执行汇总图\n",
    "    - bug汇总表\n",
    "    - 建议\n",
    "    - 测试经验总结"
   ]
  },
  {
   "cell_type": "code",
   "execution_count": null,
   "metadata": {},
   "outputs": [],
   "source": []
  }
 ],
 "metadata": {
  "kernelspec": {
   "display_name": "Python 3",
   "language": "python",
   "name": "python3"
  },
  "language_info": {
   "codemirror_mode": {
    "name": "ipython",
    "version": 3
   },
   "file_extension": ".py",
   "mimetype": "text/x-python",
   "name": "python",
   "nbconvert_exporter": "python",
   "pygments_lexer": "ipython3",
   "version": "3.7.0"
  },
  "toc": {
   "base_numbering": 1,
   "nav_menu": {},
   "number_sections": false,
   "sideBar": true,
   "skip_h1_title": false,
   "title_cell": "Table of Contents",
   "title_sidebar": "Contents",
   "toc_cell": false,
   "toc_position": {},
   "toc_section_display": true,
   "toc_window_display": false
  }
 },
 "nbformat": 4,
 "nbformat_minor": 2
}
