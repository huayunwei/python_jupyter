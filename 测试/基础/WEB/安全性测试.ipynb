{
 "cells": [
  {
   "cell_type": "markdown",
   "metadata": {},
   "source": [
    "# 系统安全测试"
   ]
  },
  {
   "cell_type": "markdown",
   "metadata": {},
   "source": [
    "## 硬件：\n",
    "* 网络机房\n",
    "* 容灾备份"
   ]
  },
  {
   "cell_type": "markdown",
   "metadata": {},
   "source": [
    "## 软件：\n",
    "* 操作系统\n",
    "* 账号和口令\n",
    "* 对主机或域上用户强制进行口令复杂度\n",
    "* 检查系统是否使用默认管理员账号\n",
    "* 检查在系统中是否存在可疑或域系统无关的账号\n",
    "* 检查用户是否有口令最短和口令长度要求\n",
    "* 检查系统用户是否有密码过期策略"
   ]
  },
  {
   "cell_type": "markdown",
   "metadata": {},
   "source": [
    "## 网络与服务\n",
    "* 查看主机开放的共享，关掉不必要的共享和系统默认的共享服务\n",
    "* 查看主机进程信息\n",
    "* 设置相关防火墙规则\n",
    "* 查看系统启动的服务列表\n",
    "* 查看系统启用的端口号\n",
    "* 查看系统是否指定操作系统的备份恢复策略服务"
   ]
  },
  {
   "cell_type": "markdown",
   "metadata": {},
   "source": [
    "## 日志审核\n",
    "* 应用程序日志\n",
    "* 安全日志\n",
    "* 系统日志"
   ]
  },
  {
   "cell_type": "markdown",
   "metadata": {},
   "source": [
    "## 登陆\n",
    "* 是否进行登陆验证\n",
    "* 密码的复杂度\n",
    "* 密码的长度\n",
    "* 用户是否自动超时退出，超时的时间是否合理\n",
    "* 登陆密码输入错误重试次数限制"
   ]
  },
  {
   "cell_type": "markdown",
   "metadata": {},
   "source": [
    "## 授权\n",
    "* 各级用户权限划分是否合理\n",
    "* 必须有登陆权限的页面，是否能够不登陆直接URL访问\n",
    "* 只有A用户能查看的页面B是否也可以查看"
   ]
  },
  {
   "cell_type": "markdown",
   "metadata": {},
   "source": [
    "## Session与cookie\n",
    "### cookie：\n",
    "* 避免存储敏感信息\n",
    "* cookie内容是否加密\n",
    "* cookie过期日期设置的合理性：检查是否把cookie的过期日期设置的过长\n",
    "* cookie的作用域\n",
    "* httponly属性的设置\n",
    "### session：\n",
    "* 是否有session超时机制\n",
    "* DDOS拒绝服务攻击\n",
    "* 不断向服务器发送请求，占用服务器资源：cpu，内存，硬盘，带宽，使服务器资源消耗完，无法提供给正常用户\n",
    "* 文件上传漏洞\n",
    "* 上传文件检查功能：类型等\n",
    "* 上传文件大小和次数限制"
   ]
  },
  {
   "cell_type": "markdown",
   "metadata": {},
   "source": [
    "## XSS跨站脚本攻击\n",
    "* 往页面插入恶意html代码,当用户浏览页面时，被嵌入页面的html会被执行"
   ]
  },
  {
   "cell_type": "markdown",
   "metadata": {},
   "source": [
    "## SQL注入\n",
    "* 用户输入的数据被当作命令和查询的一部分，送到后端的解释器中解释执行\n",
    "* 非法输入会导致得到一些不应该显示的非法信息\n",
    "* 工具：SCRAWLR\n",
    "* 从一个起始URL入口，爬遍整个网站，并对站点中所有网页进行分析以找到可能存在的漏洞"
   ]
  }
 ],
 "metadata": {
  "kernelspec": {
   "display_name": "Python 3",
   "language": "python",
   "name": "python3"
  },
  "language_info": {
   "codemirror_mode": {
    "name": "ipython",
    "version": 3
   },
   "file_extension": ".py",
   "mimetype": "text/x-python",
   "name": "python",
   "nbconvert_exporter": "python",
   "pygments_lexer": "ipython3",
   "version": "3.7.0"
  },
  "toc": {
   "base_numbering": 1,
   "nav_menu": {},
   "number_sections": false,
   "sideBar": true,
   "skip_h1_title": false,
   "title_cell": "Table of Contents",
   "title_sidebar": "Contents",
   "toc_cell": false,
   "toc_position": {},
   "toc_section_display": true,
   "toc_window_display": false
  }
 },
 "nbformat": 4,
 "nbformat_minor": 2
}
