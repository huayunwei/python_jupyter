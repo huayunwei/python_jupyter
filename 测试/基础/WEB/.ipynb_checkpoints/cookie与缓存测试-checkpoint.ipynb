{
 "cells": [
  {
   "cell_type": "markdown",
   "metadata": {},
   "source": [
    "## Cookie与缓存测试\n",
    "\n",
    "* Cookies：\n",
    "\n",
    "  * 定义：通过在客户端记录信息确定用户身份\n",
    "  * 作用：\n",
    "    * 服务器为了认识用户，准确定位用户的特性，从而从web服务器创建的小片段，发送到浏览器，给浏览器保存，浏览器下次访问同一个站点的时候会带上这些小片段\n",
    "    * 浏览器本身为了加速访问网站，主动地将用户的登录信息，用户名，密码，以及网站里面没有变更的内容-图片，内容保存在浏览器自己的存储空间里面，以便加快网站的访问速度，提示用户的体验\n",
    "  * 特点\n",
    "    * 客户端缓存技术\n",
    "    * 由服务器生成，发送给浏览器保存\n",
    "    * 数据格式为键值对\n",
    "    * 可以设置数据过期机制\n",
    "  * 包含的内容\n",
    "    * 名字\n",
    "    * 值\n",
    "    * 过期时间\n",
    "    * 路径\n",
    "    * 域\n",
    "  * 存储位置\n",
    "    * 一般存储在内存中，如果设置了过期时间，则保存在硬盘中\n",
    "    * 硬盘存储位置\n",
    "  * 测试点\n",
    "    * 检查是否可以正常工作\n",
    "    * 是否按预定的时间进行保存\n",
    "    * 刷新对其的影响\n",
    "    * 浏览器禁止或删除后页面的提示信息\n",
    "\n",
    "* Session：通过服务器记录信息确定用户身份\n",
    "\n",
    "* 缓存\n",
    "\n",
    "  * 定义：\n",
    "\n",
    "    * 浏览器在用户磁盘上对最近请求过的文档进行存储，当访问者再次请求这个页面时，浏览器就可以从本地磁盘显示文档，可以加速页面显示\n",
    "\n",
    "  * 作用\n",
    "\n",
    "    * 减少了冗余的数据传输\n",
    "    * 不要更多的网络带宽就能更快加载页面\n",
    "    * 降低对原始服务器的要求\n",
    "\n",
    "\n",
    "\n"
   ]
  },
  {
   "cell_type": "code",
   "execution_count": null,
   "metadata": {},
   "outputs": [],
   "source": []
  }
 ],
 "metadata": {
  "kernelspec": {
   "display_name": "Python 3",
   "language": "python",
   "name": "python3"
  },
  "language_info": {
   "codemirror_mode": {
    "name": "ipython",
    "version": 3
   },
   "file_extension": ".py",
   "mimetype": "text/x-python",
   "name": "python",
   "nbconvert_exporter": "python",
   "pygments_lexer": "ipython3",
   "version": "3.7.4"
  }
 },
 "nbformat": 4,
 "nbformat_minor": 4
}
