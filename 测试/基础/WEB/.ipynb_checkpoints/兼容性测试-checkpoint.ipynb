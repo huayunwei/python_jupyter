{
 "cells": [
  {
   "cell_type": "markdown",
   "metadata": {},
   "source": [
    "# 兼容性测试"
   ]
  },
  {
   "cell_type": "markdown",
   "metadata": {},
   "source": [
    "## 分类"
   ]
  },
  {
   "cell_type": "markdown",
   "metadata": {},
   "source": [
    "## 平台兼容性\n",
    "* 硬件平台：PC，手机，pad\n",
    "\n",
    "* 操作系统：window，linux，mac，android，IOS\n",
    "\n",
    "* 浏览器兼容性\n",
    "\n",
    "    * 前3-5\n",
    "\n",
    "    * 浏览器内核分类\n",
    "\n",
    "    * IE内核\n",
    "\n",
    "    * Gecko：火狐\n",
    "\n",
    "    * webkit：谷歌，safari\n",
    "\n",
    "    * presto：opera\n",
    "    \n",
    "* 各个浏览器之间的区别"
   ]
  },
  {
   "cell_type": "markdown",
   "metadata": {},
   "source": [
    "## 分辨率兼容性\n",
    "\n",
    "* 1024\\*768\n",
    "\n",
    "* 1280\\*1024\n",
    "\n",
    "* 1440\\*900\n",
    "\n",
    "* 测试方法：兼容性测试矩阵图"
   ]
  },
  {
   "cell_type": "markdown",
   "metadata": {},
   "source": [
    "## 测试点\n",
    "* 界面\n",
    "* 控件\n",
    "* 按钮\n",
    "* 图片\n",
    "* 动画\n",
    "* 响应时间\n",
    "* 关键功能"
   ]
  },
  {
   "cell_type": "markdown",
   "metadata": {},
   "source": [
    "## 测试工具\n",
    "* Browsershots\n",
    "* letest\n",
    "* multibrowser"
   ]
  }
 ],
 "metadata": {
  "kernelspec": {
   "display_name": "Python 3",
   "language": "python",
   "name": "python3"
  },
  "language_info": {
   "codemirror_mode": {
    "name": "ipython",
    "version": 3
   },
   "file_extension": ".py",
   "mimetype": "text/x-python",
   "name": "python",
   "nbconvert_exporter": "python",
   "pygments_lexer": "ipython3",
   "version": "3.7.4"
  },
  "toc": {
   "base_numbering": 1,
   "nav_menu": {},
   "number_sections": false,
   "sideBar": true,
   "skip_h1_title": false,
   "title_cell": "Table of Contents",
   "title_sidebar": "Contents",
   "toc_cell": false,
   "toc_position": {},
   "toc_section_display": true,
   "toc_window_display": false
  }
 },
 "nbformat": 4,
 "nbformat_minor": 2
}
