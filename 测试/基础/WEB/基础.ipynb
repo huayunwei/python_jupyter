{
 "cells": [
  {
   "cell_type": "markdown",
   "metadata": {},
   "source": [
    "## WEB快速入门\n",
    "\n",
    "* 什么是web？\n",
    "\n",
    "```\n",
    "通过浏览器访问服务器（B/S结构）\n",
    "```\n",
    "\n",
    "* 什么是C/S，B/S架构\n",
    "  * C/S：客户端和服务端\n",
    "  * B/S：网页端和服务端\n",
    "  * 区别：\n",
    "    * 1.安装：B/S不用安装\n",
    "    * 2.功能：C/S功能性更强\n",
    "    * 3.安全：B/S都是基于http，https的，但是C/S架构协议可能表多种协议，C/S安全性高\n",
    "    * 4.兼容性：B/S好\n",
    "    * 5.升级：B/S不需要升级，C/S需要进行升级\n",
    "    * 6.卸载：B/S不需要测试卸载，C/S需要\n",
    "    * 7.UI：C/S更丰富\n",
    "    * 8.方便性：B/S更方便\n",
    "* web技术之协议 - HTTP\n",
    "  * 规定了浏览器和服务器之间互相通信的规则\n",
    "  * 通过因特网传送万维网文档的数据传送协议\n",
    "  * 客户端发起请求，服务器回送响应\n",
    "  * 默认端口号：80\n",
    "* web技术之语言 - HTML\n",
    "  * HTML是一种制作超文本资料的简单标记语言\n",
    "  * HTML编写的超文本文档能够独立于各种操作系统平台\n",
    "  * HTML用于描述web页面的格式\n",
    "* web技术之语言 - CSS\n",
    "  * 样式表定义如何显示HTML元素，样式通常保存在外部的.css文件中\n",
    "  * 可以通过编写CSS来控制页面的样式和布局等\n",
    "\n",
    "\n",
    "\n"
   ]
  },
  {
   "cell_type": "code",
   "execution_count": null,
   "metadata": {},
   "outputs": [],
   "source": []
  }
 ],
 "metadata": {
  "kernelspec": {
   "display_name": "Python 3",
   "language": "python",
   "name": "python3"
  },
  "language_info": {
   "codemirror_mode": {
    "name": "ipython",
    "version": 3
   },
   "file_extension": ".py",
   "mimetype": "text/x-python",
   "name": "python",
   "nbconvert_exporter": "python",
   "pygments_lexer": "ipython3",
   "version": "3.7.4"
  }
 },
 "nbformat": 4,
 "nbformat_minor": 4
}
