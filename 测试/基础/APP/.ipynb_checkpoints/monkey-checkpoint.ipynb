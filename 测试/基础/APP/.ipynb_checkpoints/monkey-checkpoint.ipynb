{
 "cells": [
  {
   "cell_type": "markdown",
   "metadata": {},
   "source": [
    "# Monkey\n",
    "* 安卓中附带的一种工具，可以运行在模拟器里或实际设备中\n",
    "* 向系统发送伪随机的用户事件流（如键盘输入、触摸屏输入、手势输入等），实现对正在开发的应用程序进行压力测试"
   ]
  },
  {
   "cell_type": "markdown",
   "metadata": {},
   "source": [
    "## 目的：\n",
    "* 进行压力测试和可靠性测试\n",
    "* 开发人员结合monkey打印的日志和系统打印的日志，发现测试中出现的问题"
   ]
  },
  {
   "cell_type": "markdown",
   "metadata": {},
   "source": [
    "## 特点：\n",
    "* 所有的事件都是随机产生的，不带任何主观性"
   ]
  },
  {
   "cell_type": "markdown",
   "metadata": {},
   "source": [
    "## Monkey的组成\n",
    "* 基本配置选项，如设置尝试的事件数量\n",
    "* 运行约束选项，如设置只对单独的一个包进行测试\n",
    "* 事件类型和频率\n",
    "* 调试选项"
   ]
  },
  {
   "cell_type": "markdown",
   "metadata": {},
   "source": [
    "## monkey命令\n",
    "\n",
    "* 手机连接到电脑，在adb devices中可以查到设备\n",
    "* adb shell monkey 参数\n",
    "\n",
    "* 参数：\n",
    "* -p 包名：对包执行monkey测试，例如：adb shell monkey -p 包名 事件总数\n",
    "* -v：打印log级别，-v越多日志信息越详细，最多支持3个，例如：adb shell monkey -p 包名 -v -v -v 事件总数\n",
    "* -s：伪随机数生成器的seed值，通俗的说就是一个标记，后面跟数字，例如：adbs shell monkey -s 1 -p 包名 事件总数\n",
    "* -f：接测试脚本，例：adb shell monkey -f 脚本名 事件总数\n",
    "* --throttle：延迟，接时间，单位ms，表示事件之间的固定延迟\n",
    "\n",
    "* --pct命令\n",
    "\n",
    "* 11个动作总和为100%\n",
    "* 通过添加命令选项来控制每个事件的百分比\n",
    "* adb shell monkey -v -p 包名 --pct-touch 100 100\n",
    "* --pct-touch 百分比：触摸事件，指发生在某一位置的一个down-up事件，点击\n",
    "* --pct-motion 百分比：动作事件，泛指从某一位置按下（即down事件）后经过一系列伪随机事件后弹出（即up事件）\n",
    "* --pct-pinchzoom 百分比：二指缩放，智能机上的放大缩小手势操作事件\n",
    "* --pct-trackball 百分比：轨迹，轨迹事件包括一系列的随机移动，以及偶尔跟随在移动后面的点击事件\n",
    "* --pct-rotation 百分比：屏幕旋转，横竖屏事件\n",
    "* --pct-nav 百分比：基本导航事件，主要自方向输入设备的上、下、左、右事件\n",
    "* --pct-majornav 百分比：主要导航事件通常指引发图形界面的一些动作\n",
    "* --pct-syskeys 百分比：按键事件，通常指仅供系统使用的保留按键\n",
    "* --pct-appswitch 百分比：应用启动事件，打开应用\n",
    "* --pct-flip 百分比：键盘轻弹，如点击输入框，键盘弹起\n",
    "* --pct-anyevent 百分比：其他类型事件指上文中未涉及的所有其他事件"
   ]
  },
  {
   "cell_type": "markdown",
   "metadata": {},
   "source": [
    "## 停止Monkey测试\n",
    "\n",
    "```\n",
    "ps | grep monkey\n",
    "kill id\n",
    "```"
   ]
  },
  {
   "cell_type": "markdown",
   "metadata": {},
   "source": [
    "## monkey测试日志\n",
    "\n",
    "```\n",
    "bash arg: -p\n",
    "bash arg: com.tencent.mobileqq\n",
    "bash arg: -v\n",
    "bash arg: -v\n",
    "bash arg: -v\n",
    "bash arg: 100\n",
    "* 伪随机种子数与事件总数\n",
    ":Monkey: seed=1528981235213 count=100\n",
    "* 允许测试包\n",
    ":AllowPackage: com.tencent.mobileqq\n",
    "\n",
    ":IncludeCategory: android.intent.category.LAUNCHER\n",
    ":IncludeCategory: android.intent.category.MONKEY\n",
    "\n",
    "* 查询允许包的activity结果列表\n",
    "// Selecting main activities from category android.intent.category.LAUNCHER\n",
    "\n",
    "* 不是指定包的activity\n",
    "// - NOT USING main activity com.UCMobile.main.UCMobile (from package com.android.browser)\n",
    "// - NOT USING main activity com.android.calendar.AllInOneActivity (from package com.android.calendar)\n",
    "// - NOT USING main activity com.android.contacts.activities.PeopleActivity (from package com.android.contacts)\n",
    "// - NOT USING main activity com.android.contacts.activities.DialtactsActivity (from package com.android.contacts)\n",
    "// - NOT USING main activity com.android.deskclock.AlarmsMainActivity (from package com.android.deskclock)\n",
    "\n",
    "* 种子\n",
    "// Seeded: 1528981235213\n",
    "\n",
    "* 事件百分比\n",
    "// Event percentages:\n",
    "// 0: 15.0%\n",
    "// 1: 10.0%\n",
    "// 2: 2.0%\n",
    "// 3: 15.0%\n",
    "// 4: -0.0%\n",
    "// 5: -0.0%\n",
    "// 6: 25.0%\n",
    "// 7: 15.0%\n",
    "// 8: 2.0%\n",
    "// 9: 2.0%\n",
    "// 10: 1.0%\n",
    "// 11: 13.0%\n",
    "\n",
    "* 跳转到xx包中的xx.activity中\n",
    ":Switch: #Intent;action=android.intent.action.MAIN;category=android.intent.category.LAUNCHER;launchFlags=0x10200000;component=com.tencent.mobileqq/.activity.SplashActivity;end\n",
    "\n",
    "* 允许此Intent跳转\n",
    "// Allowing start of Intent { act=android.intent.action.MAIN cat=[android.intent.category.LAUNCHER] cmp=com.tencent.mobileqq/.activity.SplashActivity } in package com.tencent.mobileqq\n",
    "\n",
    "* 事件间的延迟\n",
    "Sleeping for 0 milliseconds\n",
    "\n",
    "* 发送的各种事件\n",
    "* 轨迹\n",
    ":Sending Trackball (ACTION_MOVE): 0:(1.0,-4.0)\n",
    ":Sending Trackball (ACTION_MOVE): 0:(3.0,2.0)\n",
    "\n",
    "* 触碰\n",
    ":Sending Touch (ACTION_DOWN): 0:(203.0,1093.0)\n",
    ":Sending Touch (ACTION_MOVE): 0:(203.43637,1089.2764)\n",
    "\n",
    "* 注入事件100\n",
    "Events injected: 100\n",
    "* 发送屏幕翻转 度=0，存留=假\n",
    ":Sending rotation degree=0, persist=false\n",
    "* 丢弃：键=0，指针=0，轨迹球=0，键盘轻弹=0，屏幕翻转=0\n",
    ":Dropped: keys=0 pointers=0 trackballs=0 flips=0 rotations=0\n",
    "* 网络状态：占用时间=42ms（手机0ms，wifi0ms，未连接42ms）\n",
    "## Network stats: elapsed time=908ms (0ms mobile, 0ms wifi, 908ms not connected)\n",
    "* 测试完成\n",
    "// Monkey finished\n",
    "\n",
    "* 测试出错\n",
    "Monkey aborted due to error\n",
    "\n",
    "\n",
    "* crash log\n",
    "CRASH：xxx(pid xxx)\n",
    "\n",
    "* anr 异常log（提供traces.txt文件）\n",
    "// NOT RESPONDING：xxx(pid xxx)\n",
    "ANR in xxxx\n",
    "\n",
    "* 重启 reboot\n",
    "```\n"
   ]
  },
  {
   "cell_type": "markdown",
   "metadata": {},
   "source": [
    "## 崩溃问题的查询：\n",
    "* JAVA常见崩溃问题\n",
    "* 算法异常类：ArithmeticExecption\n",
    "* 空指针异常类：NullPointerException\n",
    "* 类型强制转换：ClassCastException\n",
    "* 数组负下标异常：NegativeArrayException\n",
    "* 数组下标越界异常：ArrayIndexOutOfBoundsException\n",
    "* 违背安全原则异常：SecturityException\n",
    "* 文件已结束异常：EOFException\n",
    "* 文件未找到异常：FileNotFoundException\n",
    "* 字符串转换为数字异常：NumberFormatException\n",
    "* 操作数据库异常：SQLException\n",
    "* 输入输出异常：IOException\n",
    "* 违法访问错误：IllegalAccessError\n",
    "* 内存不足错误：OutOfMemoryError\n",
    "* 堆栈溢出错误：StackOverflowError"
   ]
  },
  {
   "cell_type": "code",
   "execution_count": null,
   "metadata": {},
   "outputs": [],
   "source": []
  }
 ],
 "metadata": {
  "kernelspec": {
   "display_name": "Python 3",
   "language": "python",
   "name": "python3"
  },
  "language_info": {
   "codemirror_mode": {
    "name": "ipython",
    "version": 3
   },
   "file_extension": ".py",
   "mimetype": "text/x-python",
   "name": "python",
   "nbconvert_exporter": "python",
   "pygments_lexer": "ipython3",
   "version": "3.7.0"
  },
  "toc": {
   "base_numbering": 1,
   "nav_menu": {},
   "number_sections": false,
   "sideBar": true,
   "skip_h1_title": false,
   "title_cell": "Table of Contents",
   "title_sidebar": "Contents",
   "toc_cell": false,
   "toc_position": {},
   "toc_section_display": true,
   "toc_window_display": false
  }
 },
 "nbformat": 4,
 "nbformat_minor": 2
}
