{
 "cells": [
  {
   "cell_type": "markdown",
   "metadata": {},
   "source": [
    "# ADB：Android Debug Bridge"
   ]
  },
  {
   "cell_type": "markdown",
   "metadata": {},
   "source": [
    "## adb version：查看版本"
   ]
  },
  {
   "cell_type": "markdown",
   "metadata": {},
   "source": [
    "## adb devices：查询已连接的设备与模拟器\n",
    "* device状态\n",
    "* offline状态\n",
    "* no device状态\n",
    "* unauthorized状态（未经授权）"
   ]
  },
  {
   "cell_type": "markdown",
   "metadata": {},
   "source": [
    "## adb shell中的命令"
   ]
  },
  {
   "cell_type": "markdown",
   "metadata": {},
   "source": [
    "### 1. pm list packages：显示全部包名\n",
    "### 2. pm list packages -3：第三方的包名\n",
    "### 3. pm list packages -s：系统包名\n",
    "### 4. top ：实时对系统处理器的状态监视\n",
    "### 5. top -m 5：查看占用内存前5的app\n",
    "### 6. top -n 1：刷新一次内存信息，然后返回\n",
    "### 7. am start -n package.activity：启动应用\n",
    "### 8. am force-stop package：强制停止应用"
   ]
  },
  {
   "cell_type": "markdown",
   "metadata": {},
   "source": [
    "### adb install xx.apk：安装apk\n",
    "### adb uninstall 包名：卸载apk"
   ]
  },
  {
   "cell_type": "markdown",
   "metadata": {},
   "source": [
    "### adb get-serialno：获取设备序列号，手机，模拟器统一称为设备"
   ]
  },
  {
   "cell_type": "markdown",
   "metadata": {},
   "source": [
    "### adb start-server：启动 adb server\n",
    "### adb kill-server：停止adb server"
   ]
  },
  {
   "cell_type": "markdown",
   "metadata": {},
   "source": [
    "### adb push local remote：从本地（电脑）复制文件到设备（手机）\n",
    "### adb pull remote local：从设备（手机）复制文件到本地（电脑）"
   ]
  },
  {
   "cell_type": "markdown",
   "metadata": {},
   "source": [
    "### adb logcat 查看和跟踪系统日志"
   ]
  },
  {
   "cell_type": "markdown",
   "metadata": {},
   "source": [
    "### adb forward tcp:1 tcp:2：将本机的端口重定向到手机设备或模拟器端口上"
   ]
  },
  {
   "cell_type": "markdown",
   "metadata": {},
   "source": [
    "## adb中的input命令\n",
    "- 输入文本信息：input text xxx\n",
    "    - 本身不支持中文输入\n",
    "    - 可以使用第三方插件：[ADBKeyBoard](https://www.cnblogs.com/yoyoketang/p/8998789.html)\n",
    "- 物理按键操作：input keyevent KEYCODE_VOLUME_DOWN\n",
    "- 点击操作(DOWN_UP)操作：input tap x y\n",
    "- 模拟滑动操作：input swipe x y x1 y1\n",
    "- 模拟轨迹球操作：input roll x y"
   ]
  },
  {
   "cell_type": "code",
   "execution_count": null,
   "metadata": {},
   "outputs": [],
   "source": []
  }
 ],
 "metadata": {
  "kernelspec": {
   "display_name": "Python 3",
   "language": "python",
   "name": "python3"
  },
  "language_info": {
   "codemirror_mode": {
    "name": "ipython",
    "version": 3
   },
   "file_extension": ".py",
   "mimetype": "text/x-python",
   "name": "python",
   "nbconvert_exporter": "python",
   "pygments_lexer": "ipython3",
   "version": "3.7.4"
  },
  "toc": {
   "base_numbering": 1,
   "nav_menu": {},
   "number_sections": false,
   "sideBar": true,
   "skip_h1_title": false,
   "title_cell": "Table of Contents",
   "title_sidebar": "Contents",
   "toc_cell": false,
   "toc_position": {},
   "toc_section_display": true,
   "toc_window_display": false
  }
 },
 "nbformat": 4,
 "nbformat_minor": 4
}
