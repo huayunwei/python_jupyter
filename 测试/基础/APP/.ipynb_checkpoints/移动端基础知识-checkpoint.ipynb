{
 "cells": [
  {
   "cell_type": "markdown",
   "metadata": {},
   "source": [
    "# 移动端技术概述"
   ]
  },
  {
   "cell_type": "markdown",
   "metadata": {},
   "source": [
    "## 智能手机\n",
    "* 特点：有较强的PDA，商务，多媒体功能\n",
    "* 具有很强的扩展性，集移动通信，移动办公和移动多媒体于一身"
   ]
  },
  {
   "cell_type": "markdown",
   "metadata": {},
   "source": [
    "## 硬件\n",
    "\n",
    "* 屏幕，PCB板，扬声器，键盘按键，外壳，电池\n",
    "\n",
    "* 摄像头，麦克风，扬声器，感应装置等\n",
    "\n",
    "* PCB板上：CPU，GPU,RAM，ROM，通讯芯片，SIM/UIM/SUIM卡插槽，microSD卡插槽，各种接口等\n",
    "\n",
    "* 与PCB通过连接的：天线，屏幕，触摸屏控制芯片，按键键盘等"
   ]
  },
  {
   "cell_type": "markdown",
   "metadata": {},
   "source": [
    "## 系统\n",
    "\n",
    "* Android、java\n",
    "\n",
    "* IOS、iphone os、C/C++\n",
    "\n",
    "* symbian\n",
    "\n",
    "* windows phone\n",
    "\n",
    "* blackberry os"
   ]
  },
  {
   "cell_type": "markdown",
   "metadata": {},
   "source": [
    "## app端和web端区别\n",
    "\n",
    "- 系统架构方面：\n",
    "    - web项目，一般都是b/s架构，基于浏览器的\n",
    "    - app项目，则是c/s的，必须要有客户端，用户需要安装客户端\n",
    "    - web测试只要更新了服务器端，客户端就会同步更新\n",
    "    - app需要客户端和服务端都更新\n",
    "- 性能方面\n",
    "    - web页面主要关注响应时间\n",
    "    - app还需要关心流量，电量，CPU，GPU，Memory这些\n",
    "- 兼容方面\n",
    "    - 基于浏览器的，所以更倾向于浏览器和电脑硬件，电脑系统的方向\n",
    "    - app测试要看分辨率，屏幕尺寸，还要看设备系统\n",
    "    - web测试是基于浏览器的所以不必考虑安装卸载\n",
    "app还必须测试安装，更新，卸载，安装\n"
   ]
  },
  {
   "cell_type": "markdown",
   "metadata": {},
   "source": [
    "## 选择测试设备的原则\n",
    "\n",
    "* 选择不同的分辨率进行测试\n",
    "* 选择不同的屏幕尺寸大小进行测试\n",
    "* 选择不同的操作系统版本进行测试\n",
    "* 根据app用途，安卓版本市场占有率，手机品牌市场占用率来选择"
   ]
  },
  {
   "cell_type": "markdown",
   "metadata": {},
   "source": [
    "## 什么是activity\n",
    "- activity是安卓的四大组件之一，用来显示view，提供屏幕进行交互，每个activity都会获得一个用于绘制其他用户界面的窗口\n",
    "- activity之间可以互相跳转，以便执行不同的操作，每当新activity启动时，旧的activity便会停止，但是系统会在堆栈也就是返回栈中保留该activity\n",
    "- activity启动时，系统也会去将其推送到返回栈，并取得用户的操作焦点，当用户完成当前activity并按返回按钮时，系统就会从堆栈将其弹出销毁，然后恢复前一个activity"
   ]
  },
  {
   "cell_type": "markdown",
   "metadata": {},
   "source": [
    "## activity生命周期\n",
    "- 从一个状态到另一个状态的转变，从无到有再到无，这样的过程所经历的状态叫生命周期\n",
    "- 运行：activity处于活动状态，此时activity处于栈顶，是可见状态，可以与用户进行交互\n",
    "- 暂停：当activity失去焦点时，或被一个新的非全面屏的activity，或被一个透明的activity放置在栈顶时，activity就转化为paused状态。并不会被销毁，只是失去了与用户交互的能力，其所有的状态信息及其成员变量都还在，只有在系统内存紧张的情况下，才有可能被系统回收掉\n",
    "- 停止：当activity被系统完全覆盖时，被覆盖的activity就会进入stopped状态，此时已不在可见，但是资源还是没有被回收\n",
    "- 系统回收：当activity被系统回收掉，activity就处于killed状态"
   ]
  },
  {
   "cell_type": "markdown",
   "metadata": {},
   "source": [
    "## 安卓四大组件"
   ]
  },
  {
   "cell_type": "markdown",
   "metadata": {},
   "source": [
    "Activity：\n",
    "\n",
    "activity是用户和应用程序交互的窗口，一个activity相当于我们实际中的一个网页，当打开一个屏幕时，之前的那一个屏幕会被置为暂停状态，并且压入历史堆栈中，用户可以通过回退操作返回到以前打开过的屏幕。activity的生命周期：即“产生、运行、销毁”，但是这其中会调用许多方法onCreate(创建) 、onStart(激活) 、onResume(恢复) 、onPause(暂停) 、onStop(停止) 、onDestroy(销毁) 、onRestart(重启)。\n",
    "\n",
    "Service：\n",
    "\n",
    "Service是一种程序，它可以运行很长的时间，相当于后台的一个服务，通过startService(Intent service)可以启动一个Service，通过Context.bindService()可以绑定一个Service。\n",
    "\n",
    "BroadCast Recevicer：\n",
    "\n",
    "接受一种或者多种Intent作触发事件，接受相关消息，做一些简单处理，转换成一条Notification，统一了Android的事件广播模型。可以使用BroadcastReceiver来让应用对外一个外部的事件作出响应。Broadcast Receiver通过NotificationManager来通知用户这些事情发生了，BroadcastReceiver注册的有两种方式，一种是可以在AndroidManifest.xml中注册，另一种可以在运行时的代码中使用Context.registerReceiver()进行注册。用户还可以通过Context.sendBroadcast()将他们自己的intent broadcasts广播给其他的应用程序。\n",
    "\n",
    "Content provider：\n",
    "\n",
    "内容提供者，可通过它来共享自己的数据给外部调用，给第三方应用提供数据访问的接口。"
   ]
  },
  {
   "cell_type": "markdown",
   "metadata": {},
   "source": [
    "## 安卓和苹果测试区别"
   ]
  },
  {
   "cell_type": "markdown",
   "metadata": {},
   "source": [
    "1. Android长按home键呼出应用列表和切换应用，然后右滑则终止应用；\n",
    "\n",
    "2. 多分辨率测试，Android端20多种，ios较少；\n",
    "\n",
    "3. 手机操作系统，Android较多，ios较少且不能降级，只能单向升级；新的ios系统中的资源库不能完全兼容低版本中的ios系统中的应用，低版本ios系统中的应用调用了新的资源库，会直接导致闪退（Crash）；\n",
    "\n",
    "4.  操作习惯：Android，Back键是否被重写，测试点击Back键后的反馈是否正确；应用数据从内存移动到SD卡后能否正常运行等；\n",
    "\n",
    "5. push测试：Android：点击home键，程序后台运行时，此时接收到push，点击后唤醒应用，此时是否可以正确跳转；ios，点击home键关闭程序和屏幕锁屏的情况（红点的显示）；\n",
    "\n",
    "6.  安装卸载测试：Android的下载和安装的平台和工具和渠道比较多，ios主要有app store，iTunes和testflight下载；\n",
    "\n",
    "7.  升级测试：可以被升级的必要条件：新旧版本具有相同的签名；新旧版本具有相同的包名；有一个标示符区分新旧版本（如版本号），对于Android若有内置的应用需检查升级之后内置文件是否匹配（如内置的输入法）"
   ]
  },
  {
   "cell_type": "markdown",
   "metadata": {},
   "source": [
    "## app出现anr，可能是什么原因导致的"
   ]
  },
  {
   "cell_type": "markdown",
   "metadata": {},
   "source": [
    "ANR的全称是application not responding\n",
    "\n",
    "\n",
    "1.主线程执行了耗时操作，比如数据库操作或网络编程\n",
    "\n",
    "2.其他进程（就是其他程序）占用CPU导致本进程得不到CPU时间片，比如其他进程的频繁读写操作可能会导致这个问题。\n",
    "\n",
    "细分的话，导致ANR的原因有如下几点：\n",
    "\n",
    "1.耗时的网络访问\n",
    "\n",
    "2.大量的数据读写\n",
    "\n",
    "3.数据库操作\n",
    "\n",
    "4.硬件操作（比如camera)\n",
    "\n",
    "5.调用thread的join()方法、sleep()方法、wait()方法或者等待线程锁的时候\n",
    "\n",
    "6.service binder的数量达到上限\n",
    "\n",
    "7.system server中发生WatchDog ANR\n",
    "\n",
    "8.service忙导致超时无响应\n",
    "\n",
    "9.其他线程持有锁，导致主线程等待超时\n",
    "\n",
    "10.其它线程终止或崩溃导致主线程一直等待。"
   ]
  },
  {
   "cell_type": "markdown",
   "metadata": {},
   "source": [
    "## app出现crash原因有哪些"
   ]
  },
  {
   "cell_type": "markdown",
   "metadata": {},
   "source": [
    "## app crash和anr的区别"
   ]
  },
  {
   "cell_type": "markdown",
   "metadata": {},
   "source": [
    "## app对于不稳定偶然出现anr和crash时候你是怎么处理的？"
   ]
  },
  {
   "cell_type": "markdown",
   "metadata": {},
   "source": [
    "## app的日志如何抓取？一般会出现哪些异常？"
   ]
  },
  {
   "cell_type": "markdown",
   "metadata": {},
   "source": []
  },
  {
   "cell_type": "markdown",
   "metadata": {},
   "source": [
    "1. 并发（中断）测试：闹铃弹出框提示，另一个应用的启动、视频音频的播放，来电、用户正在输入等，语音、录音等的播放时强制其他正在播放的要暂停；\n",
    "\n",
    "2.  数据来源的测试：输入，选择、复制、语音输入，安装不同输入法输入等；\n",
    "\n",
    "3.  push（推送）测试：在开关机、待机状态下执行推送，消息先死及其推送跳转的正确性；应用在开发、未打开状态、应用启动且在后台运行的情况下是push显示和跳转否正确；推送消息阅读前后数字的变化是否正确；多条推送的合集的显示和跳转是否正确；\n",
    "\n",
    "4. 分享跳转：分享后的文案是否正确；分享后跳转是否正确，显示的消息来源是否正确；\n",
    "\n",
    "5.  触屏测试：同时触摸不同的位置或者同时进行不同操作，查看客户端的处理情况，是否会crash等\n"
   ]
  },
  {
   "cell_type": "code",
   "execution_count": null,
   "metadata": {},
   "outputs": [],
   "source": []
  }
 ],
 "metadata": {
  "kernelspec": {
   "display_name": "Python 3",
   "language": "python",
   "name": "python3"
  },
  "language_info": {
   "codemirror_mode": {
    "name": "ipython",
    "version": 3
   },
   "file_extension": ".py",
   "mimetype": "text/x-python",
   "name": "python",
   "nbconvert_exporter": "python",
   "pygments_lexer": "ipython3",
   "version": "3.7.4"
  },
  "toc": {
   "base_numbering": 1,
   "nav_menu": {},
   "number_sections": false,
   "sideBar": true,
   "skip_h1_title": false,
   "title_cell": "Table of Contents",
   "title_sidebar": "Contents",
   "toc_cell": false,
   "toc_position": {},
   "toc_section_display": true,
   "toc_window_display": false
  }
 },
 "nbformat": 4,
 "nbformat_minor": 4
}
