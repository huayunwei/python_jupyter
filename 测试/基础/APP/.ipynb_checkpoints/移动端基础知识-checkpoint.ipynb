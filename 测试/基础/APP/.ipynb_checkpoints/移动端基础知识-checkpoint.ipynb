{
 "cells": [
  {
   "cell_type": "markdown",
   "metadata": {},
   "source": [
    "# 移动端技术概述"
   ]
  },
  {
   "cell_type": "markdown",
   "metadata": {},
   "source": [
    "## 智能手机\n",
    "* 特点：有较强的PDA，商务，多媒体功能\n",
    "* 具有很强的扩展性，集移动通信，移动办公和移动多媒体于一身"
   ]
  },
  {
   "cell_type": "markdown",
   "metadata": {},
   "source": [
    "## 硬件\n",
    "\n",
    "* 屏幕，PCB板，扬声器，键盘按键，外壳，电池\n",
    "\n",
    "* 摄像头，麦克风，扬声器，感应装置等\n",
    "\n",
    "* PCB板上：CPU，GPU,RAM，ROM，通讯芯片，SIM/UIM/SUIM卡插槽，microSD卡插槽，各种接口等\n",
    "\n",
    "* 与PCB通过连接的：天线，屏幕，触摸屏控制芯片，按键键盘等"
   ]
  },
  {
   "cell_type": "markdown",
   "metadata": {},
   "source": [
    "## 系统\n",
    "\n",
    "* Android、java\n",
    "\n",
    "* IOS、iphone os、C/C++\n",
    "\n",
    "* symbian\n",
    "\n",
    "* windows phone\n",
    "\n",
    "* blackberry os"
   ]
  },
  {
   "cell_type": "markdown",
   "metadata": {},
   "source": [
    "## 兼容性不同\n",
    "\n",
    "* PC测试系统版本\n",
    "\n",
    "* 移动端关注手机系统版本，不同厂商的不同版本\n",
    "\n",
    "* 移动端有弱网测试\n",
    "\n",
    "* 移动端有功耗测试\n"
   ]
  },
  {
   "cell_type": "markdown",
   "metadata": {},
   "source": [
    "## app端和web端区别\n",
    "\n",
    "- 系统架构方面：\n",
    "    - web项目，一般都是b/s架构，基于浏览器的\n",
    "    - app项目，则是c/s的，必须要有客户端，用户需要安装客户端\n",
    "    - web测试只要更新了服务器端，客户端就会同步更新\n",
    "    - app需要客户端和服务端都更新\n",
    "- 性能方面\n",
    "    - web页面主要关注响应时间\n",
    "    - app还需要关心流量，电量，CPU，GPU，Memory这些\n",
    "- 兼容方面\n",
    "    - 基于浏览器的，所以更倾向于浏览器和电脑硬件，电脑系统的方向\n",
    "    - app测试要看分辨率，屏幕尺寸，还要看设备系统\n",
    "    - web测试是基于浏览器的所以不必考虑安装卸载\n",
    "app还必须测试安装，更新，卸载，安装\n"
   ]
  },
  {
   "cell_type": "markdown",
   "metadata": {},
   "source": [
    "## 选择测试设备的原则\n",
    "\n",
    "* 选择不同的分辨率进行测试\n",
    "* 选择不同的屏幕尺寸大小进行测试\n",
    "* 选择不同的操作系统版本进行测试\n",
    "* 根据app用途，安卓版本市场占有率，手机品牌市场占用率来选择"
   ]
  },
  {
   "cell_type": "markdown",
   "metadata": {},
   "source": [
    "## 什么是activity\n",
    "- activity是安卓的四大组件之一，用来显示view，提供屏幕进行交互，每个activity都会获得一个用于绘制其他用户界面的窗口\n",
    "- activity之间可以互相跳转，以便执行不同的操作，每当新activity启动时，旧的activity便会停止，但是系统会在堆栈也就是返回栈中保留该activity\n",
    "- activity启动时，系统也会去将其推送到返回栈，并取得用户的操作焦点，当用户完成当前activity并按返回按钮时，系统就会从堆栈将其弹出销毁，然后恢复前一个activity"
   ]
  },
  {
   "cell_type": "markdown",
   "metadata": {},
   "source": [
    "## activity生命周期\n",
    "- 从一个状态到另一个状态的转变，从无到有再到无，这样的过程所经历的状态叫生命周期\n",
    "- 运行：activity处于活动状态，此时activity处于栈顶，是可见状态，可以与用户进行交互\n",
    "- 暂停：当activity失去焦点时，或被一个新的非全面屏的activity，或被一个透明的activity放置在栈顶时，activity就转化为paused状态。并不会被销毁，只是失去了与用户交互的能力，其所有的状态信息及其成员变量都还在，只有在系统内存紧张的情况下，才有可能被系统回收掉\n",
    "- 停止：当activity被系统完全覆盖时，被覆盖的activity就会进入stopped状态，此时已不在可见，但是资源还是没有被回收\n",
    "- 系统回收：当activity被系统回收掉，activity就处于killed状态"
   ]
  },
  {
   "cell_type": "markdown",
   "metadata": {},
   "source": [
    "## 安卓四大组件"
   ]
  },
  {
   "cell_type": "markdown",
   "metadata": {},
   "source": [
    "## 安卓和苹果测试区别"
   ]
  },
  {
   "cell_type": "markdown",
   "metadata": {},
   "source": [
    "## app出现anr，可能是什么原因导致的"
   ]
  },
  {
   "cell_type": "markdown",
   "metadata": {},
   "source": [
    "## app出现crash原因有哪些"
   ]
  },
  {
   "cell_type": "markdown",
   "metadata": {},
   "source": [
    "## app对于不稳定偶然出现anr和crash时候你是怎么处理的？"
   ]
  },
  {
   "cell_type": "markdown",
   "metadata": {},
   "source": [
    "## app的日志如何抓取？一般会出现哪些异常？"
   ]
  },
  {
   "cell_type": "code",
   "execution_count": null,
   "metadata": {},
   "outputs": [],
   "source": []
  }
 ],
 "metadata": {
  "kernelspec": {
   "display_name": "Python 3",
   "language": "python",
   "name": "python3"
  },
  "language_info": {
   "codemirror_mode": {
    "name": "ipython",
    "version": 3
   },
   "file_extension": ".py",
   "mimetype": "text/x-python",
   "name": "python",
   "nbconvert_exporter": "python",
   "pygments_lexer": "ipython3",
   "version": "3.7.0"
  },
  "toc": {
   "base_numbering": 1,
   "nav_menu": {},
   "number_sections": false,
   "sideBar": true,
   "skip_h1_title": false,
   "title_cell": "Table of Contents",
   "title_sidebar": "Contents",
   "toc_cell": false,
   "toc_position": {},
   "toc_section_display": true,
   "toc_window_display": false
  }
 },
 "nbformat": 4,
 "nbformat_minor": 4
}
