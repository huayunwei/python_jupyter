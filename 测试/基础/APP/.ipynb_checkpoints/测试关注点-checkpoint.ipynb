{
 "cells": [
  {
   "cell_type": "markdown",
   "metadata": {},
   "source": [
    "# 测试关注点"
   ]
  },
  {
   "cell_type": "markdown",
   "metadata": {},
   "source": [
    "## 安装\n",
    "* 不同操作系统安装\n",
    "* 安装后运行正常\n",
    "* 安装在指定目录下\n",
    "* 出现意外情况的安装情况\n",
    "* 空间不足\n",
    "* 断网\n",
    "* 安装手册"
   ]
  },
  {
   "cell_type": "markdown",
   "metadata": {},
   "source": [
    "## 卸载\n",
    "* 直接删除安装文件夹\n",
    "* 直接卸载程序\n",
    "* 卸载后是否删除所有内容\n",
    "* 卸载时发生意外"
   ]
  },
  {
   "cell_type": "markdown",
   "metadata": {},
   "source": [
    "## 更新升级\n",
    "* 直接升级\n",
    "* 跨版本升级\n",
    "* 离线升级\n",
    "* 新版本的提示\n",
    "* 取消升级是否可以正常使用\n",
    "* 升级失败是否可以再次升级"
   ]
  },
  {
   "cell_type": "markdown",
   "metadata": {},
   "source": [
    "## 中断测试\n",
    "* 定义：程序在运行时，同时另外的事件或操作对该程序进行干扰\n",
    "* 类型\n",
    "* 接通或拨打电话\n",
    "* 发送或接受短信\n",
    "* 发送或接受邮件\n",
    "* 切换网络\n",
    "* 使用相机、计算器等其他手机自带应用"
   ]
  },
  {
   "cell_type": "markdown",
   "metadata": {},
   "source": [
    "## 界面测试\n",
    "* UI图和实际图的比较-无测试用例\n",
    "* 定义：测试用户界面布局、风格、是否满足客户要求、文字是否正确、页面是否美观、文字、图片组合是否完美、操作是否友好\n",
    "* 分类\n",
    "* 导航测试\n",
    "* 图形测试\n",
    "* 内容测试"
   ]
  },
  {
   "cell_type": "markdown",
   "metadata": {},
   "source": [
    "## 安全测试\n",
    "* 主要测试功能安全\n",
    "* 账号登录一段时间会自动退出\n",
    "* 修改密码需要身份验证\n",
    "* 密码是密文显示的\n",
    "* 当手机端用的网络代理是，app检测网络失败\n",
    "* 输入保密信息时，自带键盘\n",
    "* 登录时输入多少次密码会冻结\n",
    "* 多长时间需要修改密码"
   ]
  },
  {
   "cell_type": "markdown",
   "metadata": {},
   "source": [
    "## 兼容性测试\n",
    "* 定义：测试软件在指定的硬件平台上，不同的应用软件之间、不同的操作系统平台上，不同网络等环境中是否能够正常的运行测试\n",
    "* 兼容分类\n",
    "    * 硬件兼容：与整机、外设的兼容\n",
    "    * 软件兼容：操作哦系统、平台、应用软件之间的兼容\n",
    "    * 不同浏览器的兼容、数据库的兼容、软硬件配合兼容\n",
    "* 数据兼容\n",
    "    * 为什么要进行兼容测试\n",
    "    * 苹果的不同系统版本\n",
    "    * 安卓不同的厂商的系统、尺寸、分辨率"
   ]
  }
 ],
 "metadata": {
  "kernelspec": {
   "display_name": "Python 3",
   "language": "python",
   "name": "python3"
  },
  "language_info": {
   "codemirror_mode": {
    "name": "ipython",
    "version": 3
   },
   "file_extension": ".py",
   "mimetype": "text/x-python",
   "name": "python",
   "nbconvert_exporter": "python",
   "pygments_lexer": "ipython3",
   "version": "3.7.0"
  },
  "toc": {
   "base_numbering": 1,
   "nav_menu": {},
   "number_sections": false,
   "sideBar": true,
   "skip_h1_title": false,
   "title_cell": "Table of Contents",
   "title_sidebar": "Contents",
   "toc_cell": false,
   "toc_position": {},
   "toc_section_display": true,
   "toc_window_display": false
  }
 },
 "nbformat": 4,
 "nbformat_minor": 2
}
