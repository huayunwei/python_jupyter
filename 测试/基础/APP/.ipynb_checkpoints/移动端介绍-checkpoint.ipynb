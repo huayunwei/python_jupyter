{
 "cells": [
  {
   "cell_type": "markdown",
   "metadata": {},
   "source": [
    "# 移动端技术概述"
   ]
  },
  {
   "cell_type": "markdown",
   "metadata": {},
   "source": [
    "## 智能手机\n",
    "* 特点：有较强的PDA，商务，多媒体功能\n",
    "* 具有很强的扩展性，集移动通信，移动办公和移动多媒体于一身"
   ]
  },
  {
   "cell_type": "markdown",
   "metadata": {},
   "source": [
    "## 硬件\n",
    "\n",
    "* 屏幕，PCB板，扬声器，键盘按键，外壳，电池\n",
    "\n",
    "* 摄像头，麦克风，扬声器，感应装置等\n",
    "\n",
    "* PCB板上：CPU，GPU,RAM，ROM，通讯芯片，SIM/UIM/SUIM卡插槽，microSD卡插槽，各种接口等\n",
    "\n",
    "* 与PCB通过连接的：天线，屏幕，触摸屏控制芯片，按键键盘等"
   ]
  },
  {
   "cell_type": "markdown",
   "metadata": {},
   "source": [
    "## 系统\n",
    "\n",
    "* Android、java\n",
    "\n",
    "* IOS、iphone os、C/C++\n",
    "\n",
    "* symbian\n",
    "\n",
    "* windows phone\n",
    "\n",
    "* blackberry os"
   ]
  },
  {
   "cell_type": "markdown",
   "metadata": {},
   "source": [
    "## 兼容性不同\n",
    "\n",
    "* PC测试系统版本\n",
    "\n",
    "* 移动端关注手机系统版本，不同厂商的不同版本\n",
    "\n",
    "* 移动端有弱网测试\n",
    "\n",
    "* 移动端有功耗测试\n"
   ]
  },
  {
   "cell_type": "markdown",
   "metadata": {},
   "source": [
    "## app端和web端区别\n",
    "\n",
    "* app端需要安装卸载\n",
    "\n",
    "* app有弱网测试\n",
    "\n",
    "* app兼容性测手机，web测浏览器\n",
    "\n",
    "* app是cs架构，web是bs架构\n"
   ]
  },
  {
   "cell_type": "markdown",
   "metadata": {},
   "source": [
    "## 选择测试设备的原则\n",
    "\n",
    "* 选择不同的分辨率进行测试\n",
    "* 选择不同的屏幕尺寸大小进行测试\n",
    "* 选择不同的操作系统版本进行测试\n",
    "* 根据app用途，安卓版本市场占有率，手机品牌市场占用率来选择"
   ]
  }
 ],
 "metadata": {
  "kernelspec": {
   "display_name": "Python 3",
   "language": "python",
   "name": "python3"
  },
  "language_info": {
   "codemirror_mode": {
    "name": "ipython",
    "version": 3
   },
   "file_extension": ".py",
   "mimetype": "text/x-python",
   "name": "python",
   "nbconvert_exporter": "python",
   "pygments_lexer": "ipython3",
   "version": "3.7.0"
  },
  "toc": {
   "base_numbering": 1,
   "nav_menu": {},
   "number_sections": false,
   "sideBar": true,
   "skip_h1_title": false,
   "title_cell": "Table of Contents",
   "title_sidebar": "Contents",
   "toc_cell": false,
   "toc_position": {},
   "toc_section_display": true,
   "toc_window_display": false
  }
 },
 "nbformat": 4,
 "nbformat_minor": 2
}
