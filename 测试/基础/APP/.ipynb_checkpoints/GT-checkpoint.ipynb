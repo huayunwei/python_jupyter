{
 "cells": [
  {
   "cell_type": "markdown",
   "metadata": {},
   "source": [
    "## GT：app随身调测平台\n",
    "\n",
    "* 定义：运行在手机上的集成调测环境，不用连接电脑，即可以对app进行快速的性能测试、开发日志的查看、数据包的抓取等\n",
    "* 使用介绍\n",
    "  * 安装GT软件到手机\n",
    "    * 内存指标\n",
    "      * pss（proportionalset size）：实际使用的物理内存，app应用本身占有的内存和共享内存\n",
    "      * private dirty：类似私有内存，不能共享内存\n",
    "    * 其他指标\n",
    "      * CPU\n",
    "      * Jiffies：APP进程的时间片指标\n",
    "      * Net：APP的流量指标\n",
    "      * FPS：每秒传输帧数\n",
    "  * 选择一个测试app\n",
    "  * 选择要测试的指标，点击启动，会进入到被测app的页面\n",
    "  * 返回GT，选择参数页签，选择出参，点击编辑，选择关注的参数，点击开始录制\n",
    "  * 进入被测app进行操作"
   ]
  },
  {
   "cell_type": "code",
   "execution_count": null,
   "metadata": {},
   "outputs": [],
   "source": []
  }
 ],
 "metadata": {
  "kernelspec": {
   "display_name": "Python 3",
   "language": "python",
   "name": "python3"
  },
  "language_info": {
   "codemirror_mode": {
    "name": "ipython",
    "version": 3
   },
   "file_extension": ".py",
   "mimetype": "text/x-python",
   "name": "python",
   "nbconvert_exporter": "python",
   "pygments_lexer": "ipython3",
   "version": "3.7.4"
  }
 },
 "nbformat": 4,
 "nbformat_minor": 4
}
