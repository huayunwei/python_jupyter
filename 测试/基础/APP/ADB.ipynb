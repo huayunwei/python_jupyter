{
 "cells": [
  {
   "cell_type": "markdown",
   "metadata": {},
   "source": [
    "# ADB：Android Debug Bridge"
   ]
  },
  {
   "cell_type": "markdown",
   "metadata": {},
   "source": [
    "## adb version：查看版本"
   ]
  },
  {
   "cell_type": "markdown",
   "metadata": {},
   "source": [
    "## adb devices：查询已连接的设备与模拟器\n",
    "* device状态\n",
    "* offline状态\n",
    "* no device状态\n",
    "* unauthorized状态（未经授权）"
   ]
  },
  {
   "cell_type": "markdown",
   "metadata": {},
   "source": [
    "## adb shell中的命令"
   ]
  },
  {
   "cell_type": "markdown",
   "metadata": {},
   "source": [
    "### pm list packages：显示全部包名\n",
    "### pm list packages -3：第三方的包名\n",
    "### pm list packages -s：系统包名"
   ]
  },
  {
   "cell_type": "markdown",
   "metadata": {},
   "source": [
    "### adb install xx.apk：安装apk\n",
    "### adb uninstall 包名：卸载apk"
   ]
  },
  {
   "cell_type": "markdown",
   "metadata": {},
   "source": [
    "### adb get-serialno：获取设备序列号，手机，模拟器统一称为设备"
   ]
  },
  {
   "cell_type": "markdown",
   "metadata": {},
   "source": [
    "### adb start-server：启动 adb server\n",
    "### adb kill-server：停止adb server"
   ]
  },
  {
   "cell_type": "markdown",
   "metadata": {},
   "source": [
    "### adb shell top ：实时对系统处理器的状态监视\n",
    "### adb shell top -m 5：查看占用内存前5的app\n",
    "### adb shell top -n 1：刷新一次内存信息，然后返回"
   ]
  },
  {
   "cell_type": "markdown",
   "metadata": {},
   "source": [
    "### adb push local remote：从本地（电脑）复制文件到设备（手机）\n",
    "### adb pull remote local：从设备（手机）复制文件到本地（电脑）"
   ]
  }
 ],
 "metadata": {
  "kernelspec": {
   "display_name": "Python 3",
   "language": "python",
   "name": "python3"
  },
  "language_info": {
   "codemirror_mode": {
    "name": "ipython",
    "version": 3
   },
   "file_extension": ".py",
   "mimetype": "text/x-python",
   "name": "python",
   "nbconvert_exporter": "python",
   "pygments_lexer": "ipython3",
   "version": "3.7.0"
  },
  "toc": {
   "base_numbering": 1,
   "nav_menu": {},
   "number_sections": false,
   "sideBar": true,
   "skip_h1_title": false,
   "title_cell": "Table of Contents",
   "title_sidebar": "Contents",
   "toc_cell": false,
   "toc_position": {},
   "toc_section_display": true,
   "toc_window_display": false
  }
 },
 "nbformat": 4,
 "nbformat_minor": 2
}
