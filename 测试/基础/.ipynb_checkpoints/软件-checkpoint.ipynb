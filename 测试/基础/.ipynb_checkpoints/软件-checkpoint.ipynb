{
 "cells": [
  {
   "cell_type": "markdown",
   "metadata": {},
   "source": [
    "# 软件"
   ]
  },
  {
   "cell_type": "markdown",
   "metadata": {},
   "source": [
    "## 定义\n",
    "- 一系列按照特定顺序组织的计算机数据和指令的集合"
   ]
  },
  {
   "cell_type": "markdown",
   "metadata": {},
   "source": [
    "## 软件开发流程\n",
    "- 可行性分析\n",
    "- 项目立项\n",
    "- 需求分析\n",
    "- 概要设计\n",
    "- 详细设计\n",
    "- 编码\n",
    "- 单元测试\n",
    "- 系统测试\n",
    "- 继承测试\n",
    "- 验收测试\n",
    "- 项目上线"
   ]
  },
  {
   "cell_type": "markdown",
   "metadata": {},
   "source": [
    "# 软件开发模型"
   ]
  },
  {
   "cell_type": "markdown",
   "metadata": {},
   "source": [
    "- W模型\n",
    "    - 需求分析 -- 需求文档确认，系统测试设计\n",
    "    - 概要设计 -- 概要设计确认，集成测试设计\n",
    "    - 详细设计 -- 详细计划确认，单元测试设计\n",
    "    - 编码 -- 单元测试\n",
    "    - 集成 -- 集成测试\n",
    "    - 实施 -- 系统测试\n",
    "    - 交付 -- 验收测试"
   ]
  },
  {
   "cell_type": "markdown",
   "metadata": {},
   "source": [
    "# 软件质量的六个特性\n",
    "- 功能特性：与一组功能及其指定性质有关的一组属性，这里的功能是满足明确或隐含的需求的那些功能\n",
    "- 可靠特性：在规定的一段时间和条件下，与软件维持其性能水平的能力有关的一组属性\n",
    "- 易用特性：由一组规定或潜在的用户为使用软件所需作的努力和所作的评价有关的一组属性\n",
    "- 效率特性：与在规定条件下软件的性能水平与所使用的资源量之间关系有关的一组属性\n",
    "- 可维护特性：与进行制定的修改所需的努力有关的一组属性\n",
    "- 可移植特性：与软件从一个环境转移到另一个环境的能力有关的一组属性"
   ]
  },
  {
   "cell_type": "code",
   "execution_count": null,
   "metadata": {},
   "outputs": [],
   "source": []
  }
 ],
 "metadata": {
  "kernelspec": {
   "display_name": "Python 3",
   "language": "python",
   "name": "python3"
  },
  "language_info": {
   "codemirror_mode": {
    "name": "ipython",
    "version": 3
   },
   "file_extension": ".py",
   "mimetype": "text/x-python",
   "name": "python",
   "nbconvert_exporter": "python",
   "pygments_lexer": "ipython3",
   "version": "3.7.0"
  },
  "toc": {
   "base_numbering": 1,
   "nav_menu": {},
   "number_sections": false,
   "sideBar": true,
   "skip_h1_title": false,
   "title_cell": "Table of Contents",
   "title_sidebar": "Contents",
   "toc_cell": false,
   "toc_position": {},
   "toc_section_display": true,
   "toc_window_display": false
  }
 },
 "nbformat": 4,
 "nbformat_minor": 2
}
