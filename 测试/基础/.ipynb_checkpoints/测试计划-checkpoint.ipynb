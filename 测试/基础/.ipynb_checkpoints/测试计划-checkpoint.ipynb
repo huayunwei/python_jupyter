{
 "cells": [
  {
   "cell_type": "markdown",
   "metadata": {},
   "source": [
    "# 测试计划"
   ]
  },
  {
   "cell_type": "markdown",
   "metadata": {},
   "source": [
    "- 测试计划概述\n",
    "    - 描述用于验证软件是否符合产品说明书和客户需求的整体方案\n",
    "    - 有计划、有组织和有系统的软件质量保证活动，而非随意地、松散地、杂乱地实施过程\n",
    "    - 创建在项目启动初期，规范软件测试内容、方法和过程\n",
    "    - 让整个测试活动有依据，有条不紊的进行，是整个软件测试工具的依赖的基础"
   ]
  },
  {
   "cell_type": "markdown",
   "metadata": {},
   "source": [
    "- 测试计划文档包含的内容\n",
    "    - 产品概述\n",
    "    - 测试策略\n",
    "    - 测试方法\n",
    "    - 测试区域\n",
    "    - 测试配置\n",
    "    - 测试周期\n",
    "    - 测试资源\n",
    "    - 测试交流\n",
    "    - 风险分析"
   ]
  },
  {
   "cell_type": "code",
   "execution_count": null,
   "metadata": {},
   "outputs": [],
   "source": []
  }
 ],
 "metadata": {
  "kernelspec": {
   "display_name": "Python 3",
   "language": "python",
   "name": "python3"
  },
  "language_info": {
   "codemirror_mode": {
    "name": "ipython",
    "version": 3
   },
   "file_extension": ".py",
   "mimetype": "text/x-python",
   "name": "python",
   "nbconvert_exporter": "python",
   "pygments_lexer": "ipython3",
   "version": "3.7.0"
  },
  "toc": {
   "base_numbering": 1,
   "nav_menu": {},
   "number_sections": false,
   "sideBar": true,
   "skip_h1_title": false,
   "title_cell": "Table of Contents",
   "title_sidebar": "Contents",
   "toc_cell": false,
   "toc_position": {},
   "toc_section_display": true,
   "toc_window_display": false
  }
 },
 "nbformat": 4,
 "nbformat_minor": 2
}
