{
 "cells": [
  {
   "cell_type": "markdown",
   "metadata": {},
   "source": [
    "# pytest\n",
    "- 介绍：\n",
    "    - 是python的一种单元测试框架\n",
    "    - 和unittest测试框架类似，但是比unittest测试框架使用其他更简洁\n",
    "    - 兼容unitest，可以执行unitest的测试脚本"
   ]
  },
  {
   "cell_type": "markdown",
   "metadata": {},
   "source": [
    "- 安装：\n",
    "    - pip install -U pytest"
   ]
  },
  {
   "cell_type": "markdown",
   "metadata": {},
   "source": [
    "- 设计原则\n",
    "    - 文件名以test_\\*.py文件和\\*\\_test.py\n",
    "    - 函数以test_开头\n",
    "    - 类以Test开头\n",
    "    - 类方法以test_开头\n",
    "    - 所有包都必须有\\_\\_init_\\_\\.py"
   ]
  },
  {
   "cell_type": "markdown",
   "metadata": {},
   "source": [
    "- pycharm中pytest的设置\n",
    "    - pycharm默认使用unittests来执行debug\n",
    "    - 通过：【file】-【settings】-【tools】-【python integrated tools】-【default test runner】\n",
    "    ![](img/pycharm_pytest.png)"
   ]
  }
 ],
 "metadata": {
  "kernelspec": {
   "display_name": "Python 3",
   "language": "python",
   "name": "python3"
  },
  "language_info": {
   "codemirror_mode": {
    "name": "ipython",
    "version": 3
   },
   "file_extension": ".py",
   "mimetype": "text/x-python",
   "name": "python",
   "nbconvert_exporter": "python",
   "pygments_lexer": "ipython3",
   "version": "3.7.0"
  }
 },
 "nbformat": 4,
 "nbformat_minor": 2
}
