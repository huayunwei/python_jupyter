{
 "cells": [
  {
   "cell_type": "markdown",
   "metadata": {},
   "source": [
    "[官方文档](https://docs.pytest.org/en/latest/_modules/_pytest/capture.html)\n",
    "[国外博客](https://www.codesd.com/item/how-can-pytest-wait-for-user-action-manual.html)"
   ]
  },
  {
   "cell_type": "code",
   "execution_count": null,
   "metadata": {},
   "outputs": [],
   "source": []
  }
 ],
 "metadata": {
  "kernelspec": {
   "display_name": "Python 3",
   "language": "python",
   "name": "python3"
  },
  "language_info": {
   "codemirror_mode": {
    "name": "ipython",
    "version": 3
   },
   "file_extension": ".py",
   "mimetype": "text/x-python",
   "name": "python",
   "nbconvert_exporter": "python",
   "pygments_lexer": "ipython3",
   "version": "3.7.0"
  }
 },
 "nbformat": 4,
 "nbformat_minor": 2
}
