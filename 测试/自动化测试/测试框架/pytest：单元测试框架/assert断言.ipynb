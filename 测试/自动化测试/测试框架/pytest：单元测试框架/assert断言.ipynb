{
 "cells": [
  {
   "cell_type": "markdown",
   "metadata": {},
   "source": [
    "# assert断言"
   ]
  },
  {
   "cell_type": "markdown",
   "metadata": {},
   "source": [
    "- 异常的提示信息\n",
    "    - 写法：assert expr,\"xxxx\" "
   ]
  },
  {
   "cell_type": "code",
   "execution_count": null,
   "metadata": {},
   "outputs": [],
   "source": [
    "def test_function():\n",
    "    assert 3 % 1 == 1,\"3%1不等于1\""
   ]
  },
  {
   "cell_type": "markdown",
   "metadata": {},
   "source": [
    "- 断言异常是否正确\n",
    "\n",
    "        with pytest.raises(任意一种异常类型) as 变量名:\n",
    "            可能会引起异常的代码\n",
    "- 使用变量下面的属性来获得异常的内容\n",
    "    - 变量名.type：异常类型\n",
    "    - 变量名.value：异常值"
   ]
  },
  {
   "cell_type": "code",
   "execution_count": null,
   "metadata": {},
   "outputs": [],
   "source": [
    "def test_function():\n",
    "    with pytest.raises(Exception) as exifo：\n",
    "        xxxx\n",
    "    assert exifo.value == xxx\n",
    "    assert exifo.type == xxx"
   ]
  },
  {
   "cell_type": "markdown",
   "metadata": {},
   "source": [
    "- 常用断言：\n",
    "    - assert xx 判断xx为真\n",
    "    - assert not xx 判断xx不为真\n",
    "    - assert a in b 判断b包含a\n",
    "    - assert a == b 判断a等于b\n",
    "    - assert a != b 判断a不等于b"
   ]
  }
 ],
 "metadata": {
  "kernelspec": {
   "display_name": "Python 3",
   "language": "python",
   "name": "python3"
  },
  "language_info": {
   "codemirror_mode": {
    "name": "ipython",
    "version": 3
   },
   "file_extension": ".py",
   "mimetype": "text/x-python",
   "name": "python",
   "nbconvert_exporter": "python",
   "pygments_lexer": "ipython3",
   "version": "3.7.0"
  }
 },
 "nbformat": 4,
 "nbformat_minor": 2
}
