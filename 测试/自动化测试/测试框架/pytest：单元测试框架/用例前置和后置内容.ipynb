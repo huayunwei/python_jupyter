{
 "cells": [
  {
   "cell_type": "markdown",
   "metadata": {},
   "source": [
    "# 单个文件的前置和后置内容\n",
    "- 函数级：值对函数用例生效（类内的函数无效）\n",
    "    - setup_function\n",
    "    - teardown_function\n",
    "- 类级：只在类中前后运行一次\n",
    "    - setup_class\n",
    "    - teardown_class\n",
    "- 方法级：开始于方法始末,类内的方法\n",
    "    - setup_method/setup\n",
    "    - teardown_method/teardown\n",
    "    - 其中setup_method会在setup之前运行，但是两者的功能一样\n",
    "- 模块级：开始于模块始末\n",
    "    - setup_module\n",
    "    - teardown_module"
   ]
  },
  {
   "cell_type": "code",
   "execution_count": null,
   "metadata": {},
   "outputs": [],
   "source": [
    "@pytest.fixture()\n",
    "def login():\n",
    "    print(\"请登录\")\n",
    "def test_t1(login):\n",
    "    print(\"会执行test_t1函数\")\n",
    "def test_t2():\n",
    "    print(\"不会执行test_t2函数\")"
   ]
  },
  {
   "cell_type": "markdown",
   "metadata": {},
   "source": [
    "# 多个文件的前置和后置内容 -- fixture和conftest.py\n",
    "- conftest.py配置里可以实现数据共享，不需要import就能自动找到一些配置\n",
    "- scope='module'可以实现多个.py跨文件共享前置\n",
    "- scope='session'实现多个.py跨文件使用一个session来完成多个用例"
   ]
  },
  {
   "cell_type": "code",
   "execution_count": null,
   "metadata": {},
   "outputs": [],
   "source": [
    "fixture(scope='function',params=None,autouse=False,ids=None,name=None)\n",
    "'''\n",
    "参数介绍：\n",
    "1.scope：\n",
    "    function：函数，默认值，该函数作为参数的函数前都执行\n",
    "    class：类\n",
    "    module：模块，只会在第一个将该函数作为参数的位置实现该函数\n",
    "    session：session内容\n",
    "2.params：可选的参数列表\n",
    "3.autouse：如果为ture，则所有测试激活fixture，如果为false（默认）则需要显式激活\n",
    "4.ids：每个字符串id的列表\n",
    "5.name：fixture的名称，默认为装饰函数的名称\n",
    "    \n",
    "'''"
   ]
  },
  {
   "cell_type": "code",
   "execution_count": null,
   "metadata": {},
   "outputs": [],
   "source": [
    "# 同一个文件中的fixture\n",
    "@pytest.fixture()\n",
    "def login():\n",
    "    print(\"需要先登录\")\n",
    "def test_s1(login):\n",
    "    print(\"这个函数会执行login函数\")\n",
    "def test_s2():\n",
    "    print(\"这个函数不会执行login函数\")"
   ]
  },
  {
   "cell_type": "markdown",
   "metadata": {},
   "source": [
    "- 使用conftest.py文件实现多个文件共享\n",
    "    - 配置脚本名称是固定的，不能改名称\n",
    "    - 运行的用例要在同一个pakage下，并且有\\_\\_init\\_\\_.py文件\n",
    "    - 不需要import导入conftest.py，pytest用例会自动查找"
   ]
  },
  {
   "cell_type": "code",
   "execution_count": null,
   "metadata": {},
   "outputs": [],
   "source": [
    "# 实现方式：前置函数\n",
    "# 文件__init__.py\n",
    "# 文件conftest.py\n",
    "    import pytest\n",
    "    @pytest.fixture()\n",
    "    def login():\n",
    "        print(\"xxxx\")\n",
    "# 文件test_fix1.py\n",
    "    import pytest\n",
    "    def test_s1(login):\n",
    "        print(\"xx1\")\n",
    "    def test_s2():\n",
    "        print(\"xx2\")\n",
    "# 文件test_fix2.py\n",
    "    import pytest\n",
    "    def test_s3(login):\n",
    "        print(\"xx3\")\n",
    "    def test_s4()\n",
    "        print(\"xx4\")"
   ]
  },
  {
   "cell_type": "markdown",
   "metadata": {},
   "source": [
    "- 使用conftest.py+yield实现teardown"
   ]
  },
  {
   "cell_type": "code",
   "execution_count": null,
   "metadata": {},
   "outputs": [],
   "source": [
    "import pytest\n",
    "@pytest.fixture(scope=\"module\")\n",
    "def open():\n",
    "    print(\"打开浏览器\")\n",
    "    yield\n",
    "    print(\"关闭浏览器\")\n",
    "\n",
    "def test_s1(open):\n",
    "    print(\"执行\")\n",
    "\n",
    "# 执行结果：打开浏览器->执行->关闭浏览器"
   ]
  },
  {
   "attachments": {},
   "cell_type": "markdown",
   "metadata": {},
   "source": [
    "- conftest的作用范围\n",
    "    - 总包内的conftest可以在包裹的每个包内都运行\n",
    "    - 每个包内的conftest只能在自己包内运行\n",
    "![](img/conftest_scope.png)"
   ]
  }
 ],
 "metadata": {
  "kernelspec": {
   "display_name": "Python 3",
   "language": "python",
   "name": "python3"
  },
  "language_info": {
   "codemirror_mode": {
    "name": "ipython",
    "version": 3
   },
   "file_extension": ".py",
   "mimetype": "text/x-python",
   "name": "python",
   "nbconvert_exporter": "python",
   "pygments_lexer": "ipython3",
   "version": "3.7.0"
  }
 },
 "nbformat": 4,
 "nbformat_minor": 2
}
