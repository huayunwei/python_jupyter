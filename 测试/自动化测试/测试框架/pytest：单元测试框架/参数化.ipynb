{
 "cells": [
  {
   "cell_type": "markdown",
   "metadata": {},
   "source": [
    "# 参数化"
   ]
  },
  {
   "cell_type": "code",
   "execution_count": null,
   "metadata": {},
   "outputs": [],
   "source": [
    "import pytest\n",
    "# 也可把[(\"3+5\",8),(\"2+4\",6)]设置成一个变量，然后将变量赋值给下面\n",
    "@pytest.mark.parametrize(\"param,res\",[(\"3+5\",8),(\"2+4\",6)])\n",
    "def add(param,res):\n",
    "    assert param == res # 判断param是否和res相等，其中param为3+5和2+4，res为8,6"
   ]
  },
  {
   "cell_type": "code",
   "execution_count": null,
   "metadata": {},
   "outputs": [],
   "source": [
    "import pytest\n",
    "@pytest.mark.parametrize(\"param,res\",[(\"3+5\",8),pytest.param(\"2+4\",6,marks=pytest.mark.xfail)])\n",
    "def add(param,res):\n",
    "    assert param == res # 判断param是否和res相等，其中param为3+5和2+4，res为8,6\n",
    "    \n",
    "# 最后一个参数，因为设置了marks，所以即使结果是正确的，仍然显示为xfail"
   ]
  },
  {
   "cell_type": "markdown",
   "metadata": {},
   "source": [
    "# 参数组合"
   ]
  },
  {
   "cell_type": "code",
   "execution_count": null,
   "metadata": {},
   "outputs": [],
   "source": [
    "import pytest\n",
    "@pytest.mark.parametrize(\"x\",[0,1])\n",
    "@pytest.mark.parametrize(\"y\",[2,3])\n",
    "def test_foo(x,y)\n",
    "    print(x,y) # 其中x可以为0,1，y可以为2,3  然后分别组合及0,2，0,3，1,2,1,3"
   ]
  },
  {
   "cell_type": "markdown",
   "metadata": {},
   "source": [
    "# fixture参数\n",
    "- 前置或后置函数中传递参数\n",
    "- request参数\n",
    "    - 传一个参数用数组，数组项为字符串\n",
    "    - 传两个参数用数组，数组项为字典"
   ]
  },
  {
   "cell_type": "code",
   "execution_count": null,
   "metadata": {},
   "outputs": [],
   "source": [
    "# 一个参数\n",
    "data = [\"name1\",\"name2\"]\n",
    "@pytest.fixture(scope=\"module\")\n",
    "def login(request):\n",
    "    user = request.param\n",
    "    print(user) # 其中user可以是data中的name1和name2"
   ]
  },
  {
   "cell_type": "code",
   "execution_count": null,
   "metadata": {},
   "outputs": [],
   "source": [
    "# 两个参数\n",
    "import pytest\n",
    "data = [{\"user\":\"name1\",\"pwd\":\"123\"},{\"user\":\"name2\",\"pwd\":\"234\"}]\n",
    "user = [\"name1\",\"name2\"]\n",
    "pwd = [\"pwd1\",\"pwd2\"]\n",
    "def login(request):\n",
    "    user = request.param[\"user\"]\n",
    "    pwd = request.param[\"pwd\"]\n",
    "    print(user,pwd) # 其中user可以是data中的name1和name2\n",
    "\n",
    "@pytest.mark.parametrize(\"users\",user,indirect=True)\n",
    "@pytest.mark.parametrize(\"pwds\",pwd,indirect=True)\n",
    "def login2(request):\n",
    "    user = users\n",
    "    pwd = pwds\n",
    "    print(user,pwd)"
   ]
  },
  {
   "cell_type": "markdown",
   "metadata": {},
   "source": [
    "# 从命令行接受参数\n",
    "- 使用参数的addoption方法添加一个自定义的命令行参数\n",
    "- 在conftest配置获取命令行参数方法\n",
    "- 编写测试用例\n",
    "- 需要在命令行执行上面的测试用例，在执行时添加定义的命令行参数"
   ]
  },
  {
   "cell_type": "code",
   "execution_count": null,
   "metadata": {},
   "outputs": [],
   "source": [
    "# confest.py 文件\n",
    "import pytest\n",
    "\n",
    "def pytest_addoption(parser):\n",
    "    parser.addoption(\n",
    "        \"--cmdopt\",action=\"store\",default=\"type1\",help=\"my option:type1 or type2\"\n",
    "    )\n",
    "\n",
    "@pytest.fixture\n",
    "def cmdopt(request):\n",
    "    return request.config.getoption(\"--cmdopt\")\n",
    "\n",
    "# test_sample.py 文件\n",
    "import pytest\n",
    "def test_answer(cmdopt):\n",
    "    if cmdopt == \"type1\":\n",
    "        print(\"first\")\n",
    "    elif cmdopt == \"type2\":\n",
    "        print(\"second\")\n",
    "    assert 0  # to see what was printed\n",
    "\n",
    "if __name__ == \"__main__\":\n",
    "    pytest.main([\"-s\", \"ss_test.py\"])\n",
    "    \n",
    "    \n",
    "# 在命令行的调用方式\n",
    "# 不带参数的调用：\n",
    "pytest -s test_sample.py\n",
    "# 带参数的调用1：\n",
    "pytest -s test_sample.py --cmdopt=type2\n",
    "# 带参数的调用2：\n",
    "pytest -s test_sample.py --cmdopt type2"
   ]
  }
 ],
 "metadata": {
  "kernelspec": {
   "display_name": "Python 3",
   "language": "python",
   "name": "python3"
  },
  "language_info": {
   "codemirror_mode": {
    "name": "ipython",
    "version": 3
   },
   "file_extension": ".py",
   "mimetype": "text/x-python",
   "name": "python",
   "nbconvert_exporter": "python",
   "pygments_lexer": "ipython3",
   "version": "3.7.0"
  }
 },
 "nbformat": 4,
 "nbformat_minor": 2
}
