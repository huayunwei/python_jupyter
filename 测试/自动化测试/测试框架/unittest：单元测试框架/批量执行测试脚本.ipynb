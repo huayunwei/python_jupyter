{
 "cells": [
  {
   "cell_type": "markdown",
   "metadata": {},
   "source": [
    "# 批量执行编写的测试脚本\n",
    "- [参照网址](https://www.cnblogs.com/yoyoketang/p/6675827.html)\n",
    "- 函数：discover\n",
    "    - 参数\n",
    "        - case_dir：待执行用例的目录\n",
    "        - pattern：匹配脚本名称规则\n",
    "        - top_lever_dir：顶层目录的名称，一般默认为None"
   ]
  },
  {
   "cell_type": "code",
   "execution_count": null,
   "metadata": {},
   "outputs": [],
   "source": [
    "import unittest\n",
    "import os\n",
    "\n",
    "# 要执行的用例的路径\n",
    "case_path = os.path.join(os.getcwd(),'case')\n",
    "\n",
    "def all_case():\n",
    "    discover = unittest.defaultTestLoader.discover(case_path,pattern=\"test*.py\",top_lever_dir=None)\n",
    "    \n",
    "    return discover\n",
    "\n",
    "if __name__ == \"__mian__\":\n",
    "    runner = unittest.TextTestRunner()\n",
    "    runner.run(all_case())"
   ]
  }
 ],
 "metadata": {
  "kernelspec": {
   "display_name": "Python 3",
   "language": "python",
   "name": "python3"
  },
  "language_info": {
   "codemirror_mode": {
    "name": "ipython",
    "version": 3
   },
   "file_extension": ".py",
   "mimetype": "text/x-python",
   "name": "python",
   "nbconvert_exporter": "python",
   "pygments_lexer": "ipython3",
   "version": "3.7.0"
  }
 },
 "nbformat": 4,
 "nbformat_minor": 2
}
