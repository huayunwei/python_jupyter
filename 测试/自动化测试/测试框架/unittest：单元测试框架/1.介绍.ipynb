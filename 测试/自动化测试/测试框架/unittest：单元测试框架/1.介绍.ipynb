{
 "cells": [
  {
   "cell_type": "markdown",
   "metadata": {},
   "source": [
    "# unittest：单元测试框架，基于python"
   ]
  },
  {
   "cell_type": "markdown",
   "metadata": {},
   "source": [
    "- 测试固件：一个测试固件包括两部分，执行测试代码之前的准备部分和测试结束后的清扫代码\n",
    "- 测试用例：unittest中管理的最小元件是测试用例，一个测试用例，包括测试固件和具体测试业务的函数或者方法\n",
    "- 测试套件：很多测试用例的集合\n",
    "- 测试执行器：用来执行加载测试用例，并执行测试用例，且提供测试输出的一个组件"
   ]
  },
  {
   "cell_type": "code",
   "execution_count": null,
   "metadata": {},
   "outputs": [],
   "source": [
    "import unittest # 导入\n",
    "class Test(unittest.TestCase): # 定义一个测试类，集成与unittest的TestCase类\n",
    "    # 每个用例执行都会执行一遍这个和teardown函数\n",
    "    # 可以增加修饰符达到只执行一次的效果\n",
    "    @classmethod\n",
    "    def setUp(self):\n",
    "        pass # 函数用于在执行用例之前的前置条件的指定\n",
    "    \n",
    "    # 其中用例的执行顺序按照定义的顺序\n",
    "    def testXXX(self):\n",
    "        # 此处为执行测试的函数，函数要以test开头，否则不会执行\n",
    "        result = xx\n",
    "        hope = xx\n",
    "        self.assertEqual(result,hope) # 判断执行的结果和期待结果是否一致\n",
    "        \n",
    "    @classmethod\n",
    "    def tearDown(sl=elf):\n",
    "        pass # 函数用于在执行用例之后进行数据恢复或其他的一些操作\n",
    "\n",
    "    # 主函数，执行后会显示测试结果\n",
    "if __name__ == \"__main__\":\n",
    "    unittest.main()"
   ]
  }
 ],
 "metadata": {
  "kernelspec": {
   "display_name": "Python 3",
   "language": "python",
   "name": "python3"
  },
  "language_info": {
   "codemirror_mode": {
    "name": "ipython",
    "version": 3
   },
   "file_extension": ".py",
   "mimetype": "text/x-python",
   "name": "python",
   "nbconvert_exporter": "python",
   "pygments_lexer": "ipython3",
   "version": "3.7.0"
  }
 },
 "nbformat": 4,
 "nbformat_minor": 2
}
