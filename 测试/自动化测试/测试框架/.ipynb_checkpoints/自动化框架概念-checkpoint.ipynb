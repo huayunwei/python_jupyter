{
 "cells": [
  {
   "cell_type": "markdown",
   "metadata": {},
   "source": [
    "# 自动化框架\n",
    "- 什么是自动化框架\n",
    "    - 由一些标准，协议，规则组成，提供脚本运行的环境\n",
    "- 框架具有的优点：\n",
    "    - 代码复用\n",
    "    - 最大覆盖率\n",
    "    - 很低成本维护\n",
    "    - 很少人工干预\n",
    "    - 简单报告输出\n",
    "- 常见的测试框架分类\n",
    "    - 基于模块的测试框架\n",
    "    - 基于库结构测试框架\n",
    "    - 数据驱动测试框架\n",
    "    - 关键字驱动测试框架\n",
    "    - 混合测试框架\n",
    "    - 行为驱动开发测试框架\n",
    "- 框架基本组件\n",
    "    - 配置文件：配置文件和全局环境变量\n",
    "    - 框架主要代码：主要包含日志类，自定义封装类，配置文件读取以及各种调度\n",
    "    - 产品业务页面：页面对象，业务逻辑分层，分页独立\n",
    "    - 测试脚本：采用第三方单元测试框架来管理和创建测试单元\n",
    "    - 日志和报告：测试报告和日志文件输出，报告可能借助第三方报告插件\n",
    "    - 持续集成和其他：持续集成包括jenkins，以及其他可以扩展的功能"
   ]
  },
  {
   "cell_type": "markdown",
   "metadata": {},
   "source": [
    "![](./img/1.png)"
   ]
  },
  {
   "cell_type": "code",
   "execution_count": null,
   "metadata": {},
   "outputs": [],
   "source": []
  }
 ],
 "metadata": {
  "kernelspec": {
   "display_name": "Python 3",
   "language": "python",
   "name": "python3"
  },
  "language_info": {
   "codemirror_mode": {
    "name": "ipython",
    "version": 3
   },
   "file_extension": ".py",
   "mimetype": "text/x-python",
   "name": "python",
   "nbconvert_exporter": "python",
   "pygments_lexer": "ipython3",
   "version": "3.7.0"
  }
 },
 "nbformat": 4,
 "nbformat_minor": 2
}
