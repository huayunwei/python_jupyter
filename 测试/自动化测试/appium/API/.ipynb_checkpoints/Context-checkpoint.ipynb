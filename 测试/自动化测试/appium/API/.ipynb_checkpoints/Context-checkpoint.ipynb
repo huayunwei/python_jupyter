{
 "cells": [
  {
   "cell_type": "markdown",
   "metadata": {},
   "source": [
    "# 上下文 -- 返回当前页面是原生还是内嵌web页面"
   ]
  },
  {
   "cell_type": "code",
   "execution_count": null,
   "metadata": {},
   "outputs": [],
   "source": [
    "# 获得当前页面的上下文\n",
    "context = driver.current_context\n",
    "\n",
    "context = driver.context\n",
    "\n",
    "\n",
    "# 获得全部上下文\n",
    "driver.contexts\n",
    "\n",
    "# 切换上下文\n",
    "driver.switch_to.context('上下文的名字')"
   ]
  }
 ],
 "metadata": {
  "kernelspec": {
   "display_name": "Python 3",
   "language": "python",
   "name": "python3"
  },
  "language_info": {
   "codemirror_mode": {
    "name": "ipython",
    "version": 3
   },
   "file_extension": ".py",
   "mimetype": "text/x-python",
   "name": "python",
   "nbconvert_exporter": "python",
   "pygments_lexer": "ipython3",
   "version": "3.7.0"
  }
 },
 "nbformat": 4,
 "nbformat_minor": 2
}
