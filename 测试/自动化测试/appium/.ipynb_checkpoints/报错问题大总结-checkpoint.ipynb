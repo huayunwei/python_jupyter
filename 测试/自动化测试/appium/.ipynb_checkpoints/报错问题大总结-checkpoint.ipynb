{
 "cells": [
  {
   "cell_type": "markdown",
   "metadata": {},
   "source": [
    "#  报错1：activity切换时无法获取到新的activity页面的内容\n",
    "- 问题描述：使用appium获取欢迎页结束后，首页的内容时，无法获取到，page_source一直处于获取不到的状态，页面元素也不能获取到\n",
    "- 原因：appium bug，不知道是否为偶发性\n",
    "- [参照网址](https://testerhome.com/topics/13078)\n",
    "- 解决办法：\n",
    "    - 查看欢迎页的activity：driver.current_activity\n",
    "    - 查看首页的activity：driver.current_activity\n",
    "    - 如果两个activity不一样，而且出现了首页元素查找不到的情况，请增加如下内容\n",
    "            desired_caps = {\n",
    "                'automationName':'uiautomator2'\n",
    "            }"
   ]
  },
  {
   "cell_type": "markdown",
   "metadata": {},
   "source": [
    "# 报错2：vivo手机端会不断的安装appium输入法\n",
    "- [处理blog](https://blog.csdn.net/oneofJava/article/details/81462831)"
   ]
  },
  {
   "cell_type": "markdown",
   "metadata": {},
   "source": [
    "# 报错3：vivo手机点击使用appium点击报错\n",
    "- [处理blog](https://www.jianshu.com/p/4096e11893b2)\n",
    "- 其中USB安全权限就是博客中的权限"
   ]
  },
  {
   "cell_type": "code",
   "execution_count": null,
   "metadata": {},
   "outputs": [],
   "source": []
  }
 ],
 "metadata": {
  "kernelspec": {
   "display_name": "Python 3",
   "language": "python",
   "name": "python3"
  },
  "language_info": {
   "codemirror_mode": {
    "name": "ipython",
    "version": 3
   },
   "file_extension": ".py",
   "mimetype": "text/x-python",
   "name": "python",
   "nbconvert_exporter": "python",
   "pygments_lexer": "ipython3",
   "version": "3.7.0"
  }
 },
 "nbformat": 4,
 "nbformat_minor": 2
}
