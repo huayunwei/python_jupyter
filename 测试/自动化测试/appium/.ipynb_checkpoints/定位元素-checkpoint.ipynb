{
 "cells": [
  {
   "cell_type": "markdown",
   "metadata": {},
   "source": [
    "# 定位元素\n",
    "## sdk自带定位工具 -- uiautomatorviewer\n",
    "- 局限性：因为sdk只能作用于安卓，所以这个工具只能定位安卓手机的位置\n",
    "- 环境：要求jdk必须为8，如果不为8则无法打开\n",
    "- 文件位置：安装位置\\Sdk\\tools\\bin下\n",
    "- 如果出现如下报错：关闭appium，关闭整个软件\n",
    "    - Error while obtaining UI hierarchy XML file: com.android.ddmlib.SyncException: Remote object doesn't exist!"
   ]
  },
  {
   "cell_type": "markdown",
   "metadata": {},
   "source": [
    "![](img/xq_1.png)"
   ]
  },
  {
   "cell_type": "code",
   "execution_count": null,
   "metadata": {},
   "outputs": [],
   "source": [
    "# 对选取到的元素进行点击操作\n",
    "from appium import webdriver\n",
    "import time\n",
    "\n",
    "desired_caps = {\n",
    "    'platformName':'Android',\n",
    "    'deviceName':'D3H5T18312000636',\n",
    "    'platformVersion':'8.1.0',\n",
    "    'appPackage':'com.liukena.android',\n",
    "    'appActivity':'com.liukena.android.activity.StartActivity'\n",
    "}\n",
    "\n",
    "driver = webdriver.Remote('http://127.0.0.1:4723/wd/hub',desired_caps)\n",
    "time.sleep(50)\n",
    "driver.find_element_by_id(\"com.liukena.android:id/all_container\").click()  # 没有找到。。。。淘宝的就能找到很神奇"
   ]
  },
  {
   "cell_type": "markdown",
   "metadata": {},
   "source": [
    "## appium自带工具 - inspector"
   ]
  },
  {
   "cell_type": "markdown",
   "metadata": {},
   "source": [
    "1. 开启appium\n",
    "2. 开启inspector"
   ]
  },
  {
   "cell_type": "markdown",
   "metadata": {},
   "source": [
    "![](img/inspector_1.png)"
   ]
  },
  {
   "cell_type": "markdown",
   "metadata": {},
   "source": [
    "3. 写入参数"
   ]
  },
  {
   "cell_type": "markdown",
   "metadata": {},
   "source": [
    "![](img/inspector_2.png)"
   ]
  },
  {
   "cell_type": "markdown",
   "metadata": {},
   "source": [
    "4. 开始执行"
   ]
  },
  {
   "cell_type": "markdown",
   "metadata": {},
   "source": [
    "![](img/inspector_3.png)"
   ]
  },
  {
   "cell_type": "code",
   "execution_count": null,
   "metadata": {},
   "outputs": [],
   "source": []
  }
 ],
 "metadata": {
  "kernelspec": {
   "display_name": "Python 3",
   "language": "python",
   "name": "python3"
  },
  "language_info": {
   "codemirror_mode": {
    "name": "ipython",
    "version": 3
   },
   "file_extension": ".py",
   "mimetype": "text/x-python",
   "name": "python",
   "nbconvert_exporter": "python",
   "pygments_lexer": "ipython3",
   "version": "3.7.0"
  }
 },
 "nbformat": 4,
 "nbformat_minor": 2
}
