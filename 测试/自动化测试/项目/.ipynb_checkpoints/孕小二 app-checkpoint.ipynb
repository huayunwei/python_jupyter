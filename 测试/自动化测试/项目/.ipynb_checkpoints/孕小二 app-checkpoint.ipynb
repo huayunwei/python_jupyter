{
 "cells": [
  {
   "cell_type": "markdown",
   "metadata": {},
   "source": [
    "- 包相关参数：\n",
    "    - appPackage：com.liukena.android\n",
    "    - appActivity：com.liukena.android.activity.StartActivity\n",
    "- app各个活动页面名\n",
    "    - 打开后的首个动画页：.activity.StartActivity\n",
    "    - 状态选择页面：.activity.ChooseStateActivity\n",
    "    - 使用手机号和密码登录的页面：.activity.LoginActivity\n",
    "    - 登录后的首页：.activity.Main2Activity\n",
    "    - 圈子详情页面：.activity.CircleDetailsActivity\n",
    "    - 帖子内容填写页：.activity.CirclePublishArticalActivity"
   ]
  },
  {
   "cell_type": "code",
   "execution_count": null,
   "metadata": {},
   "outputs": [],
   "source": []
  }
 ],
 "metadata": {
  "kernelspec": {
   "display_name": "Python 3",
   "language": "python",
   "name": "python3"
  },
  "language_info": {
   "codemirror_mode": {
    "name": "ipython",
    "version": 3
   },
   "file_extension": ".py",
   "mimetype": "text/x-python",
   "name": "python",
   "nbconvert_exporter": "python",
   "pygments_lexer": "ipython3",
   "version": "3.7.0"
  }
 },
 "nbformat": 4,
 "nbformat_minor": 2
}
