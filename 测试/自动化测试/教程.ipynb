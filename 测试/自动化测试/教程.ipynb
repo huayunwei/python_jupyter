{
 "cells": [
  {
   "cell_type": "markdown",
   "metadata": {},
   "source": [
    "[赠送视频链接](https://pan.baidu.com/s/1u0_KGQ7evMILF9_wDK09dw)：\n",
    "\n",
    "密码：1yq0\n",
    "\n",
    "[课程视频](https://pan.baidu.com/s/1xQVyljDdjZX1pfwTQSiLcA)\n",
    "\n",
    "密码：syw4\n",
    "\n",
    "松勤播放器激活码：华芸玮21\n",
    "\n",
    "- [博客2-自动化](https://www.cnblogs.com/yoyoketang/p/6123890.html)\n",
    "- [博客](https://blog.csdn.net/u011541946)\n",
    "- [多开跑脚本的网站](http://tc.sigma-rt.com.cn/)"
   ]
  },
  {
   "cell_type": "markdown",
   "metadata": {},
   "source": [
    "# appium\n",
    "- [官方api](http://appium.io/docs/en/about-appium/api/)\n",
    "- [官方文档-中文](https://github.com/appium/appium/tree/master/docs/cn)\n",
    "- 博客\n",
    "    - [1](https://blog.csdn.net/liusuihui/article/details/64542082)\n",
    "    - [2](https://www.cnblogs.com/testlurunxiu/p/6013605.html)"
   ]
  },
  {
   "cell_type": "markdown",
   "metadata": {},
   "source": [
    "# selenium"
   ]
  },
  {
   "cell_type": "markdown",
   "metadata": {},
   "source": [
    "# beautifulSoup\n",
    "- [beautifulsoup官方中文文档](https://www.crummy.com/software/BeautifulSoup/bs4/doc.zh/)"
   ]
  },
  {
   "cell_type": "code",
   "execution_count": null,
   "metadata": {},
   "outputs": [],
   "source": []
  }
 ],
 "metadata": {
  "kernelspec": {
   "display_name": "Python 3",
   "language": "python",
   "name": "python3"
  },
  "language_info": {
   "codemirror_mode": {
    "name": "ipython",
    "version": 3
   },
   "file_extension": ".py",
   "mimetype": "text/x-python",
   "name": "python",
   "nbconvert_exporter": "python",
   "pygments_lexer": "ipython3",
   "version": "3.7.0"
  }
 },
 "nbformat": 4,
 "nbformat_minor": 2
}
