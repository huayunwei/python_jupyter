{
 "cells": [
  {
   "cell_type": "markdown",
   "metadata": {},
   "source": [
    "# 元素属性获取\n",
    "- 元素属性：\n",
    "    - 某些属性可以直接获取\n",
    "        - text属性：获取元素的文本信息\n",
    "        - size属性：获取元素尺寸\n",
    "    - get_attribute：获取属性值\n",
    "        - ele.get_attribute('属性值')\n",
    "        - ele.get_attribute('outerHTML')：该元素对应html源代码\n",
    "        - ele.get_attribute('innerHTML')：该元素的内部部分的html源代码\n",
    "- BeautifulSoup4\n",
    "    - BS是可以从HTML或XML文件中提取数据的库\n",
    "    - 安装\n",
    "        - pip install beautifulsoup4\n",
    "        - pip install html5lib //用于处理上面beautifulsoup4兼容性问题\n",
    "    - 使用\n",
    "        - 导入：\n",
    "            - from bs4 import BeautifulSoup\n",
    "        - 制定用html5lib来解析html文档\n",
    "            - soup = BeautifulSoup(获取整个html的内容,\"html5lib\")\n",
    "            - soup = BeautifulSoup(driver.page_source,\"html5lib\")\n",
    "        - 获取元素\n",
    "            - el = soup.find('标签名') //多个标签获取第一个匹配的，返回一个<class 'bs4.element.Tag'>实例\n",
    "            - el = soup.标签名 //同上\n",
    "            - el = soup.find_all('标签名') //获取所有匹配的元素，返回列表\n",
    "            - el = soup.find('标签名',属性='属性值') //获取第一个匹配标签名和属性值得元素\n",
    "        - 获取元素属性\n",
    "            - el.name：元素标签名\n",
    "            - el.string：元素文本内容\n",
    "            - el.get_text()：元素文本内容\n",
    "            - el.parent：元素父元素\n",
    "            - el['属性名']：获取元素的属性，属性有多个时，返回列表\n",
    "            - el.get('属性名'：获取元素属性)"
   ]
  },
  {
   "cell_type": "markdown",
   "metadata": {},
   "source": [
    "# 元素基本操作\n",
    "- 点击（鼠标左键）：click()\n",
    "- 输入框输入：send_keys('value')\n",
    "- 清空输入框：clear()\n",
    "- 模拟提交表单的回车操作：submit()"
   ]
  },
  {
   "cell_type": "code",
   "execution_count": null,
   "metadata": {},
   "outputs": [],
   "source": [
    "driver.get('https://www.baidu.com/')\n",
    "driver.implicitly_wait(4)\n",
    "\n",
    "# 搜素输入框\n",
    "input = driver.find_element_by_id('kw')\n",
    "\n",
    "# 输入内容\n",
    "input.send_keys('你好')\n",
    "time.sleep(2)\n",
    "\n",
    "# 执行搜索\n",
    "input.submit()"
   ]
  }
 ],
 "metadata": {
  "kernelspec": {
   "display_name": "Python 3",
   "language": "python",
   "name": "python3"
  },
  "language_info": {
   "codemirror_mode": {
    "name": "ipython",
    "version": 3
   },
   "file_extension": ".py",
   "mimetype": "text/x-python",
   "name": "python",
   "nbconvert_exporter": "python",
   "pygments_lexer": "ipython3",
   "version": "3.7.0"
  }
 },
 "nbformat": 4,
 "nbformat_minor": 2
}
