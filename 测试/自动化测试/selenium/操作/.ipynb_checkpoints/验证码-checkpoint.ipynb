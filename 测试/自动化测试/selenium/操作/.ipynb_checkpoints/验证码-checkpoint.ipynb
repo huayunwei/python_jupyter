{
 "cells": [
  {
   "cell_type": "markdown",
   "metadata": {},
   "source": [
    "# 验证码"
   ]
  },
  {
   "cell_type": "markdown",
   "metadata": {},
   "source": [
    "## 方法1：去掉验证码\n",
    "## 方法2：设置万能验证码"
   ]
  },
  {
   "cell_type": "markdown",
   "metadata": {},
   "source": [
    "## 方法3：验证码识别技术"
   ]
  },
  {
   "cell_type": "markdown",
   "metadata": {},
   "source": [
    "## 方法4：记录cookie\n",
    "- 首先正常登陆一次网站\n",
    "- 记录登陆后页面的cookie值\n",
    "- 打开网站\n",
    "- 在自动化脚本中增加上面的cookie值\n",
    "- 再次打开网站"
   ]
  },
  {
   "cell_type": "code",
   "execution_count": null,
   "metadata": {},
   "outputs": [],
   "source": [
    "from selenium import webdriver\n",
    "\n",
    "driver = webdriver.Chrome('../webDriver/chromedriver.exe')\n",
    "\n",
    "# 登陆\n",
    "driver.get(\"http://qz.6kena.com/manage/login\")\n",
    "driver.implicitly_wait(5)\n",
    "\n",
    "# 添加cookie\n",
    "driver.add_cookie({\n",
    "    'name':'scrianen_session',\n",
    "    'value':'eyJpdiI6IjUzZTdWclZ6Sng0Q3lFZEpIWmJNTmc9PSIsInZhbHVlIjoicXduZWJwak1KVUNJYUp0VTNGeFZJaTdnQzllWDRIaTFTYXphN2F3eDRPZzlFS2taVzZwK0g2dnliZFRvOTdxdkNuYWtDS2M5bzJHWk5uc2Vwa0NpOHc9PSIsIm1hYyI6IjU4MzkwZjA4ZmYyYzU2ZTE0NjlkMWQwZjdkY2ZjODQ4NDEyMWFkMDVhMzM0YjM1MGFjNDU3MWY2ZjM3NmUxMWUifQ%3D%3D'\n",
    "})\n",
    "\n",
    "driver.add_cookie({\n",
    "    'name':'XSRF-TOKEN',\n",
    "    'value':'eyJpdiI6IjIxTXdRT21kVGRPSGl2V2hKNFRITlE9PSIsInZhbHVlIjoiQlFcLys2ekNrRXFxb1pSUE1LQkxONmNBWkMxbmNDbjBxWEgzeWgrSGVRbVhCWm1ObVwvbWpcL1FSQ0xcL2dzNEg3NjAyQ3hNTk5GUFdPUGkwMExCNDB4ZVlBPT0iLCJtYWMiOiJjNGE5NWUyMDQwOTgzNmZlOWYxNjliZDJlNmQ3ZDFkM2Y5ZTQwMWM3MGE5OThlM2VhODdkMjRmZmYxNmYxNWIzIn0%3D'\n",
    "})\n",
    "\n",
    "# 再次登录页面\n",
    "driver.get(\"http://qz.6kena.com/manage/login\")"
   ]
  }
 ],
 "metadata": {
  "kernelspec": {
   "display_name": "Python 3",
   "language": "python",
   "name": "python3"
  },
  "language_info": {
   "codemirror_mode": {
    "name": "ipython",
    "version": 3
   },
   "file_extension": ".py",
   "mimetype": "text/x-python",
   "name": "python",
   "nbconvert_exporter": "python",
   "pygments_lexer": "ipython3",
   "version": "3.7.0"
  }
 },
 "nbformat": 4,
 "nbformat_minor": 2
}
