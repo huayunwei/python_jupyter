{
 "cells": [
  {
   "cell_type": "markdown",
   "metadata": {},
   "source": [
    "# 浏览器驱动切换"
   ]
  },
  {
   "cell_type": "code",
   "execution_count": null,
   "metadata": {},
   "outputs": [],
   "source": [
    "from elenium import webdriver\n",
    "\n",
    "def startBrowser(name):\n",
    "    '''\n",
    "    打开浏览器：\n",
    "    name：\"firefox\"、\"chrome\"、\"ie\"\n",
    "    '''\n",
    "    try:\n",
    "        if name == \"firefox\" or name == \"Firefox\" or name == \"ff\":\n",
    "            print(\"start browser name : {}\".format(name))\n",
    "            driver = webdriver.Firfox()\n",
    "            return driver\n",
    "        elif name == \"chrome\" or name == \"Chrome\":\n",
    "            print(\"start browser name : {}\".format(name))\n",
    "            driver = webdriver.Chrome()\n",
    "            return driver\n",
    "        elif name == \"ie\" or name == \"IE\":\n",
    "            print(\"start browser name : {}\".format(name))\n",
    "            driver = webdriver.Ie()\n",
    "            return driver\n",
    "        else:\n",
    "            print(\"Not found {} browser\".format(name))\n",
    "    except Exception as msg:\n",
    "        print(\"出现异常，{}\".format(msg))"
   ]
  }
 ],
 "metadata": {
  "kernelspec": {
   "display_name": "Python 3",
   "language": "python",
   "name": "python3"
  },
  "language_info": {
   "codemirror_mode": {
    "name": "ipython",
    "version": 3
   },
   "file_extension": ".py",
   "mimetype": "text/x-python",
   "name": "python",
   "nbconvert_exporter": "python",
   "pygments_lexer": "ipython3",
   "version": "3.7.0"
  }
 },
 "nbformat": 4,
 "nbformat_minor": 2
}
