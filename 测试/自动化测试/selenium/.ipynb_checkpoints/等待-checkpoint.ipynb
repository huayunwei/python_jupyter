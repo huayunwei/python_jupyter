{
 "cells": [
  {
   "cell_type": "markdown",
   "metadata": {},
   "source": [
    "# 等待\n",
    "- find方式选择元素时\n",
    "    - 可以由代码设定一个最大的等待时长\n",
    "    - 周期性（每隔半秒）重新寻找该元素，直到该元素找到（返回）\n",
    "    - 如果超过最大等待时长（找一个元素则报错，找多个则返回空列表）"
   ]
  },
  {
   "cell_type": "markdown",
   "metadata": {},
   "source": [
    "- 显示等待：等待一个确定的条件触发然后才进行更深一步的执行\n",
    "    - time.sleep\n",
    "        - 等待固定的时间\n",
    "        - 使用方式：\n",
    "            - import time\n",
    "            - time.sleep(时间) //时间以s做单位\n",
    "    - webDriverWait+[ExpectedCondition](../EC判断.ipynb)\n",
    "        - 等待元素被找到，如果没有找到则等待指定的时间，如果找到了直接执行\n",
    "        - 使用方式：\n",
    "            - import selenium.webdriver.common.by import By\n",
    "            - import selenium.webdriver.support.ui import WebDriverWait\n",
    "            - import selenium.webdriver.support import expected_conditions as EC \n",
    "            \n",
    "                    el = WebDriverWait(driver,10).until(\n",
    "                        EC.presence_of_element_located(By.ID,\"xxx\")\n",
    "                    )\n",
    "        - 结果：\n",
    "            - 如果超过给出的时间，如上面是10s，抛出TimeoutException\n",
    "            - 如果在10s内找到元素，直接返回\n",
    "            - WebDriverWait默认每500毫秒调用一下expected_conditions，直到返回成功为止"
   ]
  },
  {
   "cell_type": "code",
   "execution_count": null,
   "metadata": {},
   "outputs": [],
   "source": [
    "# WebDriverWait：方法原型\n",
    "'''\n",
    "参数介绍：\n",
    "1.driver：webdriver\n",
    "2.timeout：报timeout之前的等待时间\n",
    "3.poll_frequency：每次调用之间停留的时间,默认0.5s\n",
    "4.ignored_exceptions：调用过程中忽略异常类的元组，默认为都不忽略\n",
    "'''\n",
    "WebDriverWait(driver,timeout,poll_frequency=POLL_FREQUENCY,ignored_exceptions=None)"
   ]
  },
  {
   "cell_type": "markdown",
   "metadata": {},
   "source": [
    "- 隐式等待：\n",
    "    - implicitly_wait(10) # 单位s"
   ]
  }
 ],
 "metadata": {
  "kernelspec": {
   "display_name": "Python 3",
   "language": "python",
   "name": "python3"
  },
  "language_info": {
   "codemirror_mode": {
    "name": "ipython",
    "version": 3
   },
   "file_extension": ".py",
   "mimetype": "text/x-python",
   "name": "python",
   "nbconvert_exporter": "python",
   "pygments_lexer": "ipython3",
   "version": "3.7.0"
  }
 },
 "nbformat": 4,
 "nbformat_minor": 2
}
