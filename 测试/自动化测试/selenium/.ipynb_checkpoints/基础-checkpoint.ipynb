{
 "cells": [
  {
   "cell_type": "markdown",
   "metadata": {},
   "source": [
    "# 基础知识\n",
    "- selenium实现自动化的原理\n",
    "    - 提供了web自动化的各种语言的调用接口库\n",
    "    - 通过各种浏览器的驱动来驱动浏览器\n",
    "- 安装\n",
    "    - pip install selenium\n",
    "- 卸载\n",
    "    - pip uninstall selenium\n",
    "- 安装各浏览器的Driver\n",
    "    - chrome driver的下载地址：http://chromedriver.storage.googleapis.com/index.html\n",
    "        - LATEST_RELEASE文件会介绍当前的最新版本，如果不更新的话会导致无法启动chrome浏览器"
   ]
  },
  {
   "cell_type": "markdown",
   "metadata": {},
   "source": [
    "# selenium 包里都有什么\n",
    "- web Driver：各浏览器的驱动\n",
    "- selenium IDE：窗口化得selenium，可以进行简单的网页元素操作\n",
    "- selenium Grid：可以用来在多台机器上同时执行selenium自动测试"
   ]
  }
 ],
 "metadata": {
  "kernelspec": {
   "display_name": "Python 3",
   "language": "python",
   "name": "python3"
  },
  "language_info": {
   "codemirror_mode": {
    "name": "ipython",
    "version": 3
   },
   "file_extension": ".py",
   "mimetype": "text/x-python",
   "name": "python",
   "nbconvert_exporter": "python",
   "pygments_lexer": "ipython3",
   "version": "3.7.0"
  }
 },
 "nbformat": 4,
 "nbformat_minor": 2
}
