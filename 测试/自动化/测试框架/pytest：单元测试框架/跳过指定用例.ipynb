{
 "cells": [
  {
   "cell_type": "markdown",
   "metadata": {},
   "source": [
    "# 跳过指定用例\n",
    "- pytest.mark.skip：标记无法在某些平台上运行的测试功能，或者希望失败的测试功能"
   ]
  },
  {
   "cell_type": "code",
   "execution_count": null,
   "metadata": {},
   "outputs": [],
   "source": [
    "# skip的基本写法：@pytest.mark.skip(reason='')\n",
    "@pytest.mark.skip(reason=\"reason\")\n",
    "def test_xxx():\n",
    "    return 0\n",
    "\n",
    "# 在用例执行时跳过\n",
    "def test_function():\n",
    "    if 1 = \"1\"():\n",
    "        pytest.skip(\"reason\")\n",
    "        \n",
    "# 跳过整个模块：pytest.skip(reason,allow_module_level=True)\n",
    "if 1 == '1':\n",
    "    pytest.skip(\"reason\",allow_module_level=True)"
   ]
  },
  {
   "cell_type": "markdown",
   "metadata": {},
   "source": []
  }
 ],
 "metadata": {
  "kernelspec": {
   "display_name": "Python 3",
   "language": "python",
   "name": "python3"
  },
  "language_info": {
   "codemirror_mode": {
    "name": "ipython",
    "version": 3
   },
   "file_extension": ".py",
   "mimetype": "text/x-python",
   "name": "python",
   "nbconvert_exporter": "python",
   "pygments_lexer": "ipython3",
   "version": "3.7.0"
  }
 },
 "nbformat": 4,
 "nbformat_minor": 2
}
