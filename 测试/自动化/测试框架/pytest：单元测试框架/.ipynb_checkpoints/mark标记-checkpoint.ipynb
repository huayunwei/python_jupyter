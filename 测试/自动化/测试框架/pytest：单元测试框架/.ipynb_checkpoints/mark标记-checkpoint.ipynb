{
 "cells": [
  {
   "cell_type": "markdown",
   "metadata": {},
   "source": [
    "# mark标记"
   ]
  },
  {
   "cell_type": "code",
   "execution_count": null,
   "metadata": {},
   "outputs": [],
   "source": [
    "# 自定义mark标记\n",
    "import pytest\n",
    "\n",
    "@pytest.mark.webtest\n",
    "def test_send_http():\n",
    "    pass\n",
    "\n",
    "def test_another():\n",
    "    pass\n",
    "\n",
    "# 只会执行mark为webtest的用例\n",
    "if __name__ == \"__main__\":\n",
    "    pytest.main([\"-s\",\"test_server.py\",\"-m=webtest\"])"
   ]
  },
  {
   "cell_type": "markdown",
   "metadata": {},
   "source": [
    "# 执行指定的函数：-v"
   ]
  },
  {
   "cell_type": "code",
   "execution_count": null,
   "metadata": {},
   "outputs": [],
   "source": [
    "if __name__ == \"__main__\":\n",
    "    # test_server文件下的TestClass类下的test_method函数\n",
    "    pytest.main([\"-v\", \"test_server.py::TestClass::test_method\"])"
   ]
  },
  {
   "cell_type": "code",
   "execution_count": null,
   "metadata": {},
   "outputs": [],
   "source": [
    "if __name__ == \"__main__\":\n",
    "    # 多个节点执行\n",
    "    pytest.main([\"-v\", \"test_server.py::TestClass::test_method test_server.py::TestClass\"])"
   ]
  },
  {
   "cell_type": "markdown",
   "metadata": {},
   "source": [
    "# 排除掉指定用例 -k"
   ]
  },
  {
   "cell_type": "code",
   "execution_count": null,
   "metadata": {},
   "outputs": [],
   "source": [
    "# 运行指定用例\n",
    "pytest -v -k \"http\"\n",
    "\n",
    "# 运行多个匹配用例\n",
    "pytest -k \"http or quick\" -v\n",
    "\n",
    "# 排除指定用例\n",
    "pytest -k \"not send_http\" -v"
   ]
  }
 ],
 "metadata": {
  "kernelspec": {
   "display_name": "Python 3",
   "language": "python",
   "name": "python3"
  },
  "language_info": {
   "codemirror_mode": {
    "name": "ipython",
    "version": 3
   },
   "file_extension": ".py",
   "mimetype": "text/x-python",
   "name": "python",
   "nbconvert_exporter": "python",
   "pygments_lexer": "ipython3",
   "version": "3.7.0"
  }
 },
 "nbformat": 4,
 "nbformat_minor": 2
}
