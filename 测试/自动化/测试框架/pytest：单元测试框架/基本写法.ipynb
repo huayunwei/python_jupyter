{
 "cells": [
  {
   "cell_type": "code",
   "execution_count": null,
   "metadata": {},
   "outputs": [],
   "source": [
    "'''\n",
    "数组内容：\n",
    "    0：\n",
    "        -s：显示用例的打印信息\n",
    "        -q：只显示结果，不显示过程\n",
    "'''\n",
    "# 在文件末尾添加main函数\n",
    "if __name__ == \"__main__\":\n",
    "    pytest.main(['-s','该文件名'])\n",
    "    \n"
   ]
  }
 ],
 "metadata": {
  "kernelspec": {
   "display_name": "Python 3",
   "language": "python",
   "name": "python3"
  },
  "language_info": {
   "codemirror_mode": {
    "name": "ipython",
    "version": 3
   },
   "file_extension": ".py",
   "mimetype": "text/x-python",
   "name": "python",
   "nbconvert_exporter": "python",
   "pygments_lexer": "ipython3",
   "version": "3.7.0"
  }
 },
 "nbformat": 4,
 "nbformat_minor": 2
}
