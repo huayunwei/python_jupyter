{
 "cells": [
  {
   "cell_type": "markdown",
   "metadata": {},
   "source": [
    "# 学习路线\n",
    "1.python\n",
    "\n",
    "2.selenium基础：Selenium2自动化测试实战–基于Python语言\n",
    "\n",
    "3.selenium爬虫\n",
    "\n",
    "4.python的unittest测试框架：学习怎么用断言来添加检查点,将代码中公共部分抽取出来，把测试和业务分离开\n",
    "\n",
    "5.用testsuite组织测试用例，学HTMLTestRunner，怎么输出报告\n",
    "\n",
    "6.学习xlrd、xlwt操作excel文件，学习xml库操作xml文件，实现参数化\n",
    "\n",
    "7.学习configParser、pyyaml模块，进行配置文件的操作，将用例中的配置提取出来，写在配置文件中\n",
    "\n",
    "8.学习logging库，学会怎么记录日志，在用例中添加日志记录\n",
    "\n",
    "9.搭建一个轻量级的测试框架\n",
    "    - https://blog.csdn.net/huilan\\_same/article/details/52319537\n",
    "    - https://blog.csdn.net/column/details/16677.html\n",
    "\n",
    "10.学习Jenkins，实现自动执行，学习smtplib模块，以邮件的形式发送测试内容\n",
    "\n",
    "11.selenium的grid可以实现分布式\n",
    "\n",
    "12.用django、flask、web2py、web.py实现一个界面\n",
    "\n",
    "13.配置一个数据库\n",
    "\n",
    "14.看request、suds、socket将接口测试整合进来\n",
    "\n",
    "15.将单元测试整合进来\n",
    "\n",
    "16.集成性能测试\n",
    "\n"
   ]
  },
  {
   "cell_type": "code",
   "execution_count": null,
   "metadata": {},
   "outputs": [],
   "source": []
  }
 ],
 "metadata": {
  "kernelspec": {
   "display_name": "Python 3",
   "language": "python",
   "name": "python3"
  },
  "language_info": {
   "codemirror_mode": {
    "name": "ipython",
    "version": 3
   },
   "file_extension": ".py",
   "mimetype": "text/x-python",
   "name": "python",
   "nbconvert_exporter": "python",
   "pygments_lexer": "ipython3",
   "version": "3.7.0"
  },
  "toc": {
   "base_numbering": 1,
   "nav_menu": {},
   "number_sections": false,
   "sideBar": true,
   "skip_h1_title": false,
   "title_cell": "Table of Contents",
   "title_sidebar": "Contents",
   "toc_cell": false,
   "toc_position": {},
   "toc_section_display": true,
   "toc_window_display": false
  }
 },
 "nbformat": 4,
 "nbformat_minor": 2
}
