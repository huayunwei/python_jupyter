{
 "cells": [
  {
   "cell_type": "markdown",
   "metadata": {},
   "source": [
    "# expected_conditions\n",
    "- 作用：各种判断函数"
   ]
  },
  {
   "cell_type": "markdown",
   "metadata": {},
   "source": [
    "## 常用需要导入的库"
   ]
  },
  {
   "cell_type": "code",
   "execution_count": null,
   "metadata": {},
   "outputs": [],
   "source": [
    "# 与webDriverWait来判断元素是否已经可以查找到\n",
    "from selenium.webdriver.common.by import By\n",
    "from selenium.webdriver.support import expected_conditions as EC\n",
    "from selenium.webdriver.support.wait import WebDriverWait"
   ]
  },
  {
   "cell_type": "markdown",
   "metadata": {},
   "source": [
    "## 方法"
   ]
  },
  {
   "cell_type": "markdown",
   "metadata": {},
   "source": [
    "### title_is(xx)\n",
    "- 判断title是否为xx，返回布尔值"
   ]
  },
  {
   "cell_type": "code",
   "execution_count": null,
   "metadata": {},
   "outputs": [],
   "source": [
    "# 判断当前页面的题目是否为xxx\n",
    "WebDriverWait(driver,10).until(EC.title_is('xxx'))"
   ]
  },
  {
   "cell_type": "markdown",
   "metadata": {},
   "source": [
    "### title_contains(xxx)\n",
    "- 判断title是否包含xxx，返回布尔值"
   ]
  },
  {
   "cell_type": "code",
   "execution_count": null,
   "metadata": {},
   "outputs": [],
   "source": [
    "# 判断当前页面的题目是否包含xxx\n",
    "WebDriverWait(driver,10).unit(EC.title_contains('xxx'))"
   ]
  },
  {
   "cell_type": "markdown",
   "metadata": {},
   "source": [
    "### presence_*\n",
    "- presence_of_element_located：判断某个元素是否在dom树中，可以不可见，返回布尔值\n",
    "- presence_of_all_elements_located：判断是否至少有一个元素在页面中可见，如果有返回列表"
   ]
  },
  {
   "cell_type": "code",
   "execution_count": null,
   "metadata": {},
   "outputs": [],
   "source": [
    "# 判断根据xx来找xxx元素是否在dom树中,找到返回webElement\n",
    "WebDriverWait(driver,10).unit(EC.presence_of_element_located(By.xx,'xxx'))"
   ]
  },
  {
   "cell_type": "markdown",
   "metadata": {},
   "source": [
    "### visibility\n",
    "- visibility_of_element_located：判断某个元素是否在dom树中，并且可见（元素显示且宽高都大于0）\n",
    "- visibility_of_any_elements_located：判断是否至少有一个元素在页面中可见\n",
    "- visibility_all_elements_located：判断是否所有元素都在dom树中，并且可见\n",
    "- invisibility_of_element_located：判断元素是否存在dom树中且不可见"
   ]
  },
  {
   "cell_type": "code",
   "execution_count": null,
   "metadata": {},
   "outputs": [],
   "source": [
    "# 判断根据xx来找xxx元素是否在dom树中\n",
    "WebDriverWait(driver,10).unit(EC.visibility_of_element_located(By.xx,'xxx'))"
   ]
  },
  {
   "cell_type": "markdown",
   "metadata": {},
   "source": [
    "- visibility_of：判断元素是否可见，如果可见则返回\n",
    "- invisibility_of_element：判断元素是否不可见且不再dom树上"
   ]
  },
  {
   "cell_type": "code",
   "execution_count": null,
   "metadata": {},
   "outputs": [],
   "source": [
    "# 判断根据xx来找xxx，找到的元素如果可见，则返回\n",
    "WebDriverWait(driver,10).unit(EC.visibility_of(driver.find_element(by=By.xx,value='xxx')))"
   ]
  },
  {
   "cell_type": "markdown",
   "metadata": {},
   "source": [
    "### text_*\n",
    "- text_to_be_present_in_element：判断元素是否包含了预期的字符串，返回布尔值\n",
    "- text_to_be_present_in_element_value：判断元素的value属性是否包含了预期的字符串，返回布尔值"
   ]
  },
  {
   "cell_type": "code",
   "execution_count": null,
   "metadata": {},
   "outputs": [],
   "source": [
    "# 判断根据xx来找xxx，这个元素是否有value这个元素，如果有返回true\n",
    "WebDriverWait(driver,10).unit(EC.text_to_be_present_in_element(By.xx,'xxx','value'))"
   ]
  },
  {
   "cell_type": "markdown",
   "metadata": {},
   "source": [
    "### element_*\n",
    "- element_to_be_clickable：判断元素是否可点击的"
   ]
  },
  {
   "cell_type": "code",
   "execution_count": null,
   "metadata": {},
   "outputs": [],
   "source": [
    "# 根据xx查找元素，如果元素可点击则返回\n",
    "WebDriverWait(driver,10).unit(EC.element_to_be_clickable((By.XPATH,'xx')))"
   ]
  },
  {
   "cell_type": "markdown",
   "metadata": {},
   "source": [
    "- element_to_be_selected：判断元素是否是选中状态"
   ]
  },
  {
   "cell_type": "code",
   "execution_count": null,
   "metadata": {},
   "outputs": [],
   "source": [
    "# 根据xx查找元素，判断元素是否处于选中状态\n",
    "WebDriverWait(driver,10).unit(EC.element_to_be_selected(By.XPATH,'xx'))"
   ]
  },
  {
   "cell_type": "markdown",
   "metadata": {},
   "source": [
    "- element_selection_state_to_be：判断某个元素的选中状态是否为给出的状态\n",
    "- element_located_selection_state_to_be：判断某个元素的选中状态是否为给出的状态"
   ]
  },
  {
   "cell_type": "code",
   "execution_count": null,
   "metadata": {},
   "outputs": [],
   "source": [
    "# 参数2：选中-True，没有选中False\n",
    "# 判断某个元素的选中状态是否符合预期\n",
    "WebDriverWait(driver,10).until(EC.element_selection_state_to_be(driver.find_element(By.XPATH,\"//*[@id='nr']/option[1]\"),True))\n",
    "\n",
    "# 判断某个元素的选中状态是否符合预期\n",
    "WebDriverWait(driver,10).until(EC.element_located_selection_state_to_be((By.XPATH,\"//*[@id='nr']/option[1]\"),True))"
   ]
  },
  {
   "cell_type": "markdown",
   "metadata": {},
   "source": [
    "### alert_is_present\n",
    "- 判断是否有alert存在，如果有返回alert"
   ]
  },
  {
   "cell_type": "code",
   "execution_count": null,
   "metadata": {},
   "outputs": [],
   "source": [
    "WebDriverWait(driver,10).until(EC.alert_is_present())"
   ]
  },
  {
   "cell_type": "markdown",
   "metadata": {},
   "source": [
    "### url_*\n",
    "- url_contains：判断当前url包含给定的字符串，返回true或false\n",
    "- url_matches：判断当前字符串是否符合某正则表达式，返回true或false\n",
    "- url_to_be：判断当前url是否和给定的字符串完全一致，返回true或false\n",
    "- url_changes：判断当前url和给定的字符串是否不同，不同返回true，相同返回false"
   ]
  },
  {
   "cell_type": "code",
   "execution_count": null,
   "metadata": {},
   "outputs": [],
   "source": [
    "WebDriverWait(driver,10).until(EC.url_changes(\"xxx\"))"
   ]
  },
  {
   "cell_type": "markdown",
   "metadata": {},
   "source": [
    "### frame_to_be_avilable_and_switch_to_it\n",
    "- 判断iframe是否可以切换过去，如果可以切换到该iframe"
   ]
  },
  {
   "cell_type": "code",
   "execution_count": null,
   "metadata": {},
   "outputs": [],
   "source": [
    "WebDriverWait(driver,10).until(EC.frame_to_be_avilable_and_switch_to_it(\"iframe\"))"
   ]
  },
  {
   "cell_type": "markdown",
   "metadata": {},
   "source": [
    "### staleness_of\n",
    "- 等待直到元素不再在dom树上，如果仍然在返回false"
   ]
  },
  {
   "cell_type": "code",
   "execution_count": null,
   "metadata": {},
   "outputs": [],
   "source": [
    "WebDriverWait(driver,10).until(EC.staleness_of(\"xxx\"))"
   ]
  },
  {
   "cell_type": "markdown",
   "metadata": {},
   "source": [
    "### windonws\n",
    "- number_of_windows_to_be：判断是否打开了该窗口\n",
    "- new_window_is_opened：判断一个新窗口将被打开，并且当前窗口列表的长度增长"
   ]
  },
  {
   "cell_type": "code",
   "execution_count": null,
   "metadata": {},
   "outputs": [],
   "source": []
  }
 ],
 "metadata": {
  "kernelspec": {
   "display_name": "Python 3",
   "language": "python",
   "name": "python3"
  },
  "language_info": {
   "codemirror_mode": {
    "name": "ipython",
    "version": 3
   },
   "file_extension": ".py",
   "mimetype": "text/x-python",
   "name": "python",
   "nbconvert_exporter": "python",
   "pygments_lexer": "ipython3",
   "version": "3.7.0"
  },
  "toc": {
   "base_numbering": 1,
   "nav_menu": {},
   "number_sections": false,
   "sideBar": true,
   "skip_h1_title": false,
   "title_cell": "Table of Contents",
   "title_sidebar": "Contents",
   "toc_cell": false,
   "toc_position": {},
   "toc_section_display": true,
   "toc_window_display": true
  }
 },
 "nbformat": 4,
 "nbformat_minor": 2
}
