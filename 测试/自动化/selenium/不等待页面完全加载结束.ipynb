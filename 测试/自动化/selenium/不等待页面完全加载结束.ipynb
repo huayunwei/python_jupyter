{
 "cells": [
  {
   "cell_type": "markdown",
   "metadata": {},
   "source": [
    "# 不等待页面完全加载结束\n",
    "- 在页面没有完全加载结束之前，想要操作的元素就已经显示在页面上并且可以获取到了\n",
    "- 如果依旧让页面完全加载结束，会导致整个程序的执行时间过长\n",
    "- 对于一个新加载的dom，页面什么时候开始接受命令由页面的加载策略决定，默认是等待页面完全加载结束后才会改变"
   ]
  },
  {
   "cell_type": "markdown",
   "metadata": {},
   "source": [
    "## pageLoadStrategy设置\n",
    "- 属性：\n",
    "    - normal：正常情况下，selenium会等待整个页面加载完成（对html和子资源的下载与解析，不包括ajax）\n",
    "    - eager：等待整个dom树加载完成，即DomContentLoaded整个事件完成，仅对html内容进行下载解析\n",
    "    - none：当html下载完成之后，不等待解析完成，selenium会直接返回"
   ]
  },
  {
   "cell_type": "code",
   "execution_count": null,
   "metadata": {},
   "outputs": [],
   "source": [
    "# 一定要和WebDriverWait\n",
    "from selenium import webdriver\n",
    "from selenium.webdriver.common.desired_capabilities import DesiredCapabilities\n",
    "from selenium.webdriver.support.ui import WebDriverWait\n",
    "\n",
    "desired_capabilities = DesiredCapbilities.CHROME #想要修改的加载策略对应的浏览器\n",
    "desired_capabilities[\"pageLoadStrategy\"] = \"none\" #修改加载策略\n",
    "\n",
    "driver = webdriver.Chrome('xxx')\n",
    "wait = WebDriverWait(driver,10)\n",
    "\n",
    "driver.get('xxxx')"
   ]
  },
  {
   "cell_type": "code",
   "execution_count": null,
   "metadata": {},
   "outputs": [],
   "source": [
    "https://www.cnblogs.com/chromecs/p/6224498.html"
   ]
  }
 ],
 "metadata": {
  "kernelspec": {
   "display_name": "Python 3",
   "language": "python",
   "name": "python3"
  },
  "language_info": {
   "codemirror_mode": {
    "name": "ipython",
    "version": 3
   },
   "file_extension": ".py",
   "mimetype": "text/x-python",
   "name": "python",
   "nbconvert_exporter": "python",
   "pygments_lexer": "ipython3",
   "version": "3.7.0"
  }
 },
 "nbformat": 4,
 "nbformat_minor": 2
}
