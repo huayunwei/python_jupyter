{
 "cells": [
  {
   "cell_type": "markdown",
   "metadata": {},
   "source": [
    "# 驱动选择\n",
    "- 通过config.ini文件来获取选择的驱动引擎"
   ]
  },
  {
   "cell_type": "code",
   "execution_count": null,
   "metadata": {},
   "outputs": [],
   "source": [
    "# config.ini文件\n",
    "# 注意该文件如果写中文，不做处理的话，会报错\n",
    "# this set browser type \n",
    "\n",
    "[browserType]\n",
    "#browserName = Firefox\n",
    "#browserName = IE\n",
    "#browserName = Edge\n",
    "browserName = Chrome"
   ]
  },
  {
   "cell_type": "code",
   "execution_count": null,
   "metadata": {},
   "outputs": [],
   "source": [
    "from selenium import webdriver\n",
    "import os\n",
    "import configparser\n",
    "\n",
    "class BrowerEngine():\n",
    "    '''\n",
    "        封装浏览器引擎类\n",
    "        调用方式：\n",
    "            a = BrowerEngine()\n",
    "            a.open_browser(\"http://www.baidu.com\")\n",
    "    '''\n",
    "    # 相对路径的值:不论在那个位置执行，run_path的值都为文件当前所在位置\n",
    "    run_path = os.path.dirname(__file__)\n",
    "    def __init__(self,dr_path=run_path):\n",
    "        self.run_path = dr_path\n",
    "\n",
    "    def open_browser(self,url):\n",
    "        # 获取配置文件中的浏览器类型\n",
    "        config = configparser.ConfigParser()\n",
    "        config_file = self.run_path + '\\\\browser_type.ini'\n",
    "        config.read(config_file)\n",
    "        browser_type = config.get(\"browserType\",\"browserName\")\n",
    "\n",
    "        # python需要在使用之前定义\n",
    "        driver = None\n",
    "\n",
    "        # 默认是Chrome的驱动，如果需要修改，在browser_type.ini中修改\n",
    "        if browser_type == \"Chrome\":\n",
    "            driver = webdriver.Chrome(self.run_path + '\\\\driver\\\\chromedriver.exe')\n",
    "        elif browser_type == \"IE\":\n",
    "            driver = webdriver.Ie(self.run_path + '\\\\driver\\\\IEDriverServer.exe')\n",
    "        elif browser_type == \"Firefox\":\n",
    "            driver = webdriver.Firefox(executable_path=self.run_path + '\\\\driver\\\\geckodriver.exe')\n",
    "        elif browser_type == \"Edge\":\n",
    "            driver = webdriver.Edge(self.run_path + '\\\\driver\\\\MicrosoftWebDriver.exe')\n",
    "        else:\n",
    "            print(\"没有这个类型的浏览器驱动\")\n",
    "\n",
    "        if driver:\n",
    "            # 开启页面\n",
    "            driver.get(url)\n",
    "\n",
    "            # 将页面最大化\n",
    "            driver.maximize_window()\n",
    "\n",
    "            # 设置等待时间\n",
    "            driver.implicitly_wait(10)\n",
    "\n",
    "            return driver\n",
    "        else:\n",
    "            raise Exception(\"driver没有获取到\")\n",
    "\n"
   ]
  }
 ],
 "metadata": {
  "kernelspec": {
   "display_name": "Python 3",
   "language": "python",
   "name": "python3"
  },
  "language_info": {
   "codemirror_mode": {
    "name": "ipython",
    "version": 3
   },
   "file_extension": ".py",
   "mimetype": "text/x-python",
   "name": "python",
   "nbconvert_exporter": "python",
   "pygments_lexer": "ipython3",
   "version": "3.7.0"
  }
 },
 "nbformat": 4,
 "nbformat_minor": 2
}
