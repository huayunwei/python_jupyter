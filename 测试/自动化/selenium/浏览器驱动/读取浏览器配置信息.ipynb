{
 "cells": [
  {
   "cell_type": "markdown",
   "metadata": {},
   "source": [
    "# 读取浏览器配置信息\n",
    "- 默认直接使用代码启动的浏览器是初始化状态，即没有任何配置的\n",
    "- 如果没有配置就需要，每次都需要重新登录\n",
    "- 使用下面的方式可以读取浏览器的配置信息"
   ]
  },
  {
   "cell_type": "markdown",
   "metadata": {},
   "source": [
    "## chrome浏览器\n",
    "- 获取浏览器配置信息的位置\n",
    "- 在地址栏输入地址链接：chrome://version/\n",
    "- 个人资料路径为配置信息需要读取的位置，其中要去掉地址最后的default，否则仍然为一个新的用户\n",
    "![](img/chrome_1.png)"
   ]
  },
  {
   "cell_type": "code",
   "execution_count": null,
   "metadata": {},
   "outputs": [],
   "source": [
    "from selenium import webdriver\n",
    "import sys\n",
    "\n",
    "# Chrome:个人信息配置,必须在所有其他chrome页面都关闭的情况下才可以使用\n",
    "path = r\"--user-data-dir=C:\\Users\\MissFe\\AppData\\Local\\Google\\Chrome\\User Data\"\n",
    "\n",
    "option = webdriver.ChromeOptions()\n",
    "option.add_argument(path)\n",
    "\n",
    "driver = webdriver.Chrome(options=option,executable_path=sys.path[0]+\"\\\\driver\\\\chromedriver.exe\")\n",
    "\n",
    "driver.get(\"http://qz.6kena.com/manage/index\")"
   ]
  },
  {
   "cell_type": "markdown",
   "metadata": {},
   "source": [
    "## Firefox\n",
    "- 获取配置的位置：\n",
    "    - 设置 - 帮助 - 故障排除信息 - 配置文件夹的地址\n",
    "    ![](img/firfox_1.png)\n",
    "    ![](img/firfox_2.png)\n",
    "    ![](img/firfox_3.png)"
   ]
  },
  {
   "cell_type": "code",
   "execution_count": null,
   "metadata": {},
   "outputs": [],
   "source": [
    "path = r'C:\\Users\\MissFe\\AppData\\Roaming\\Mozilla\\Firefox\\Profiles\\5yk8dx8i.default'\n",
    "\n",
    "profile = webdriver.FirefoxProfile(path)\n",
    "driver = webdriver.Firefox(firefox_profile=profile,executable_path=sys.path[0]+\"\\\\driver\\\\geckodriver.exe\")\n",
    "driver.get(\"http://qz.6kena.com/manage/index\")"
   ]
  }
 ],
 "metadata": {
  "kernelspec": {
   "display_name": "Python 3",
   "language": "python",
   "name": "python3"
  },
  "language_info": {
   "codemirror_mode": {
    "name": "ipython",
    "version": 3
   },
   "file_extension": ".py",
   "mimetype": "text/x-python",
   "name": "python",
   "nbconvert_exporter": "python",
   "pygments_lexer": "ipython3",
   "version": "3.7.0"
  },
  "toc": {
   "base_numbering": 1,
   "nav_menu": {},
   "number_sections": false,
   "sideBar": true,
   "skip_h1_title": false,
   "title_cell": "Table of Contents",
   "title_sidebar": "Contents",
   "toc_cell": false,
   "toc_position": {},
   "toc_section_display": true,
   "toc_window_display": false
  }
 },
 "nbformat": 4,
 "nbformat_minor": 2
}
