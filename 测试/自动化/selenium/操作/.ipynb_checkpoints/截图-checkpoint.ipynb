{
 "cells": [
  {
   "cell_type": "markdown",
   "metadata": {},
   "source": [
    "# 截图\n",
    "## 截取整个浏览器\n",
    "- 返回截屏的base64编码：driver.get_screenshot_as_base64()\n",
    "- 返回截屏的二进制编码：driver.get_screenshot_as_png()\n",
    "- 保存截屏为文件：driver.get_screenshot_as_file('C:\\\\Users\\\\Desktop\\\\pic.png')\n",
    "    - 如果保存的图片不是.png后缀，会报错，但是不影响截屏文件的保存"
   ]
  },
  {
   "cell_type": "markdown",
   "metadata": {},
   "source": [
    "## 只截屏某个元素\n",
    "- 获取元素\n",
    "    - element = driver.find_element_by_id('xx')\n",
    "- 获取某个元素的位置\n",
    "    - x = element.location['x']\n",
    "    - y = element.location['y']\n",
    "- 获取某个元素的大小\n",
    "    - w = element.size['width']\n",
    "    - h = element.size['height']\n",
    "- 使用pillow进行截屏\n",
    "    - 安装pillow：pip install pillow\n",
    "    - 导入：from PIL import Image"
   ]
  },
  {
   "cell_type": "code",
   "execution_count": null,
   "metadata": {},
   "outputs": [],
   "source": [
    "# 实例\n",
    "from selenium import webdriver\n",
    "from PIL import Image\n",
    "\n",
    "driver = webdriver.Chrome()\n",
    "driver.get(url)\n",
    "\n",
    "driver.save_screenshot('xx.png')\n",
    "element = driver.find_element_by_id(\"id\")\n",
    "\n",
    "# 获取元素的位置\n",
    "left = element.location['x']\n",
    "top = element.location['y']\n",
    "right = element.location['x'] + element.size['width']\n",
    "bottom = element.location['y'] + element.size['height']\n",
    "\n",
    "# 打开之前的截图\n",
    "im = Image.open('xx.png')\n",
    "# 截屏\n",
    "im = im.crop((left,top,right,bottom))\n",
    "# 保存\n",
    "im.save('xx.png')"
   ]
  }
 ],
 "metadata": {
  "kernelspec": {
   "display_name": "Python 3",
   "language": "python",
   "name": "python3"
  },
  "language_info": {
   "codemirror_mode": {
    "name": "ipython",
    "version": 3
   },
   "file_extension": ".py",
   "mimetype": "text/x-python",
   "name": "python",
   "nbconvert_exporter": "python",
   "pygments_lexer": "ipython3",
   "version": "3.7.4"
  }
 },
 "nbformat": 4,
 "nbformat_minor": 2
}
