{
 "cells": [
  {
   "cell_type": "markdown",
   "metadata": {},
   "source": [
    "# 执行JS语句\n",
    "\n",
    "- 执行语句：\n",
    "    - execute_script()\n",
    "- 控制滚动条 \n",
    "    - 滚动条回底部\n",
    "        - driver.execute_script(\"window.scrollTo(0,document.bodu.scrollHeight)\")\n",
    "        - window.scrollTo(0,document.documentElement.scrollHeight)\n",
    "    - 滚动条回到顶部\n",
    "        - driver.execute_script(\"window.scrollTo(0,0)\")\n",
    "        - driver.execute_script(\"var q=document.documentElement/body.scrollTop=0\")\n",
    "    - 滚动滚动条\n",
    "        - driver.execute_script('window.scrollBy(x,y)')\n",
    "    - 元素聚集\n",
    "        - driver.execute_script('find_element_by_xx()[0].scrollIntoView()',target)"
   ]
  },
  {
   "cell_type": "code",
   "execution_count": null,
   "metadata": {},
   "outputs": [],
   "source": [
    "#隐藏文字信息\n",
    "driver.execute_script('$(\"#tooltip\").fadeOut();')"
   ]
  }
 ],
 "metadata": {
  "kernelspec": {
   "display_name": "Python 3",
   "language": "python",
   "name": "python3"
  },
  "language_info": {
   "codemirror_mode": {
    "name": "ipython",
    "version": 3
   },
   "file_extension": ".py",
   "mimetype": "text/x-python",
   "name": "python",
   "nbconvert_exporter": "python",
   "pygments_lexer": "ipython3",
   "version": "3.7.0"
  },
  "toc": {
   "base_numbering": 1,
   "nav_menu": {},
   "number_sections": false,
   "sideBar": true,
   "skip_h1_title": false,
   "title_cell": "Table of Contents",
   "title_sidebar": "Contents",
   "toc_cell": false,
   "toc_position": {},
   "toc_section_display": true,
   "toc_window_display": false
  }
 },
 "nbformat": 4,
 "nbformat_minor": 2
}
