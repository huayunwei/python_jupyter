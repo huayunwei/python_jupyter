{
 "cells": [
  {
   "cell_type": "markdown",
   "metadata": {},
   "source": [
    "# H5页面的设置和操作\n",
    "## H5页面的设置"
   ]
  },
  {
   "cell_type": "code",
   "execution_count": null,
   "metadata": {},
   "outputs": [],
   "source": [
    "from selenium import webdriver\n",
    "from selenium.webdriver.chrom.options import Options\n",
    "\n",
    "url = \"xxx\"\n",
    "\n",
    "mobile_emulation = {\"deviceName\":\"iPhone6\"}\n",
    "options = Options()\n",
    "options.add_experimental_option(\"mobileEmulation\",mobile_emulation)\n",
    "driver = webdriver.Chrome(chrome_options = options)\n",
    "\n",
    "driver.get(url)"
   ]
  },
  {
   "cell_type": "markdown",
   "metadata": {},
   "source": [
    "## H5页面的操作 -- TouchActions\n",
    "- 导入：from selenium.webdriver.common.touch_actions import TouchActions\n",
    "- 方法：\n",
    "    - tap(self,on_element)：模拟手指点击元素\n",
    "    - double_tap(self,on_element)：模拟双击元素\n",
    "    - tap_and_hold(self,x,y)：在x，y位置点击\n",
    "    - move(self,x,y)：移动到指定的位置\n",
    "    - release(self,x,y)：在x,y位置释放\n",
    "    - scroll(self,x,y)：点击后移动到x,y位置\n",
    "    - scroll_from_element(self,on_element,x,y)：从element开始，移动到x,y位置\n",
    "    - long_press(self,on_element)：在element上长按\n",
    "    - flick(self,xspeed,yspeed)：在屏幕的任意位置以x,y的速度轻弹？\n",
    "    - flick(self,on_element,xoffset,yoffset,speed)：从el元素开始，移动到x,y，速度为speed\n",
    "    - perform(self)：执行所有设置的操作"
   ]
  }
 ],
 "metadata": {
  "kernelspec": {
   "display_name": "Python 3",
   "language": "python",
   "name": "python3"
  },
  "language_info": {
   "codemirror_mode": {
    "name": "ipython",
    "version": 3
   },
   "file_extension": ".py",
   "mimetype": "text/x-python",
   "name": "python",
   "nbconvert_exporter": "python",
   "pygments_lexer": "ipython3",
   "version": "3.7.0"
  }
 },
 "nbformat": 4,
 "nbformat_minor": 2
}
