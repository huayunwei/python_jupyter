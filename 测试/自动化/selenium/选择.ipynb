{
 "cells": [
  {
   "cell_type": "markdown",
   "metadata": {},
   "source": [
    "# selenium两个主要类\n",
    "## WebDriver\n",
    "- 作用：操作整个浏览器和当前整个页面\n",
    "- 功能：\n",
    "    - 打开网址，回退，前进，刷新网页\n",
    "    - 获取、改变浏览器窗口大小，关闭浏览器，截屏\n",
    "    - 获取、设置cookie\n",
    "    \n",
    "   \n",
    "## WebElement\n",
    "- 作用：当前web元素的所有子元素里面符合查找条件的对象\n",
    "- 功能 -- 操作web元素例如：\n",
    "    - 点击元素\n",
    "    - 输入字符\n",
    "    - 获取元素坐标、尺寸、文本内容、其他的属性信息"
   ]
  },
  {
   "cell_type": "markdown",
   "metadata": {},
   "source": [
    "# 选择"
   ]
  },
  {
   "cell_type": "markdown",
   "metadata": {},
   "source": [
    "## 通过id选择元素\n",
    "- 写法1：\n",
    "    - element = driver.find_element_by_id(\"id名\")\n",
    "- 写法2：\n",
    "    - from selenium.webdriver.common.by import By\n",
    "    - element = driver.find_element(by=By.ID,value=\"id名\")\n",
    "- 没有找到的时候的报错\n",
    "    - selenium.common.exceptions.NoSuchElementException"
   ]
  },
  {
   "cell_type": "markdown",
   "metadata": {},
   "source": [
    "## 通过name选择元素\n",
    "- 返回第一个匹配的元素：\n",
    "    - 写法1：\n",
    "        - el = driver.find_element_by_name(\"name名\")\n",
    "    - 写法2：\n",
    "        - import selenium.webdriver.common.by import By\n",
    "        - el = driver.find_element(By.Name,\"name名\")\n",
    "- 返回所有匹配的元素，返回列表，没有找到，返回空列表\n",
    "    - 写法1：\n",
    "        - el = driver.find_elements_by_name(\"name名\")\n",
    "    - 写法2：\n",
    "        - import selenium.webdriver.common.by import By\n",
    "        - el = driver.find_elements(By.Name,\"name名\")"
   ]
  },
  {
   "cell_type": "markdown",
   "metadata": {},
   "source": [
    "## 通过class选择元素\n",
    "- 返回所有匹配的元素\n",
    "    - 写法1:\n",
    "        - el = driver.find_elements_by_class_name(\"class名\")\n",
    "    - 写法2：\n",
    "        - from element.webdriver.common.by import By\n",
    "        - el = driver.find_elements(By.CLASS_NAME,\"class名\")"
   ]
  },
  {
   "cell_type": "markdown",
   "metadata": {},
   "source": [
    "## 通过标签名选择元素\n",
    "- 返回匹配的元素\n",
    "    - 写法1：\n",
    "        - el = driver.find_element_by_tag_name(\"tag名\")\n",
    "    - 写法2：\n",
    "        - from element.webdriver.common.by import By\n",
    "        - el = driver.find_element(By.TAG_NAME,\"tag名\")"
   ]
  },
  {
   "cell_type": "markdown",
   "metadata": {},
   "source": [
    "## 通过链接文本选择元素\n",
    "- 返回匹配的元素\n",
    "    - 写法1：\n",
    "        - el = driver.find_element_by_link_text('链接文本')\n",
    "    - 写法2：\n",
    "        - import element.webdriver.common.by import By\n",
    "        - el = driver.find_element(By.LINK_TEXT,'链接文本')\n",
    "    - 写法3：模糊匹配\n",
    "        - el = driver.find_element_by_partial_link_text('链接文本')"
   ]
  },
  {
   "cell_type": "markdown",
   "metadata": {},
   "source": [
    "## 根据css选择器选择元素\n",
    "- 写法：driver.find_elements_by_css_selector(参数)\n",
    "    - 参数值\n",
    "        - tag名\n",
    "        - id值：#id名\n",
    "        - class值：.class名\n",
    "        - 后代选择器：parent child（所有后代）\n",
    "        - 元素的子元素：parent>child(仅第一级的子孙)\n",
    "        - 组选择器：同时选择多个\n",
    "            - #food > span,p  - 选择id为food下的所有span子元素和所有p元素（整个p是所有的p不光是food下的）\n",
    "            - #food > span,#food > p - 选择food下的所有span子元素和p元素\n",
    "            - #food > *  - 选择id为food下的所有子元素"
   ]
  },
  {
   "cell_type": "markdown",
   "metadata": {},
   "source": [
    "- css常用选择器：\n",
    "    - \\*：通用元素选择器，匹配任何元素\n",
    "    - E： 标签选择器，匹配所有使用E 标签的元素\n",
    "    - .info： class选择器，匹配所有class 属性中包含info 的元素\n",
    "    - #footer： id 选择器，匹配所有id 属性等于footer 的元素\n",
    "    - E,F： 多元素选择器，同时匹配所有E 元素或F 元素，E 和F 之间用逗号分隔\n",
    "    - E F： 后代元素选择器，匹配所有属于E 元素后代的F 元素，E 和F 之间用空格分隔\n",
    "    - E > F： 子元素选择器，匹配所有E 元素的子元素F\n",
    "    - E + F： 毗邻元素选择器，匹配紧随E 元素之后的同级元素F （只匹配第一个）\n",
    "    - E ~ F： 同级元素选择器，匹配所有在E 元素之后的同级F 元素\n",
    "    - E[att='val']： 属性att 的值为val 的E 元素（区分大小写）\n",
    "    - E[att^='val']： 属性att 的值以val 开头的E 元素（区分大小写）\n",
    "    - E\\[att$='val'\\]： 属性att 的值以val 结尾的E 元素（区分大小写）\n",
    "    - E[att*='val']： 属性att 的值包含val 的E 元素（区分大小写）\n",
    "    - E[att1='v1'][att2*='v2']： 属性att1 的值为v1，att2 的值包含v2 （区分大小写）\n",
    "    - E:contains('xxxx')： 内容中包含xxxx 的E 元素\n",
    "    - E:not(s)： 匹配不符合当前选择器的任何元素\n",
    "    - E:nth(n)，E:eq(n)：在其父元素中的E 子元素集合中排在第n+1 个的E 元素(第一个n=0)\n",
    "    - E:first： 在其父元素中的E 子元素集合中排在第1 个的E 元素\n",
    "    - E:last： 在其父元素中的E 子元素集合中排在最后1 个的E 元素\n",
    "    - E:even： 在其父元素中的E 子元素集合中排在偶数位的E 元素(0,2,4…)\n",
    "    - E:odd： 在其父元素中的E 子元素集合中排在奇数的E 元素(1,3,5…)\n",
    "    - E:lt(n)： 在其父元素中的E 子元素集合中排在n 位之前的E 元素(n=2,则匹配0,1)\n",
    "    - E:gt(n)： 在其父元素中的E 子元素集合中排在n 位之后的E 元素(n=2，在匹配3,4)\n",
    "    - E:only-child： 父元素的唯一一个子元素且标签为E\n",
    "    - E:empty： 不包含任何子元素的E 元素，注意，文本节点也被看作子元素"
   ]
  },
  {
   "cell_type": "markdown",
   "metadata": {},
   "source": [
    "## [根据xpath选择](../Xpath.ipynb)"
   ]
  },
  {
   "cell_type": "code",
   "execution_count": null,
   "metadata": {},
   "outputs": [],
   "source": []
  }
 ],
 "metadata": {
  "kernelspec": {
   "display_name": "Python 3",
   "language": "python",
   "name": "python3"
  },
  "language_info": {
   "codemirror_mode": {
    "name": "ipython",
    "version": 3
   },
   "file_extension": ".py",
   "mimetype": "text/x-python",
   "name": "python",
   "nbconvert_exporter": "python",
   "pygments_lexer": "ipython3",
   "version": "3.7.0"
  },
  "toc": {
   "base_numbering": 1,
   "nav_menu": {},
   "number_sections": false,
   "sideBar": true,
   "skip_h1_title": false,
   "title_cell": "Table of Contents",
   "title_sidebar": "Contents",
   "toc_cell": false,
   "toc_position": {},
   "toc_section_display": true,
   "toc_window_display": false
  }
 },
 "nbformat": 4,
 "nbformat_minor": 2
}
