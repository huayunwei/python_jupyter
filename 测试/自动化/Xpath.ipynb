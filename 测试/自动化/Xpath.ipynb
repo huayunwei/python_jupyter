{
 "cells": [
  {
   "cell_type": "markdown",
   "metadata": {},
   "source": [
    "# Xpath -- 根据xpath获取元素\n",
    "- 定义：xpath使用路径表达式在xml文档中进行导航\n",
    "- 使用\n",
    "    - driver.find_elements_by_xpath('路径')\n",
    "- 在浏览器中的开发者工具中使用ctrl+f可以直接写xpath代码，来判断xpath写的是否正确"
   ]
  },
  {
   "cell_type": "markdown",
   "metadata": {},
   "source": [
    "## 路径\n",
    "- /：从根节点选\n",
    "- //：搜索所有节点\n",
    "- .//：搜索当前节点下的所有节点\n",
    "- //A | //B：选取所有A和B元素"
   ]
  },
  {
   "cell_type": "markdown",
   "metadata": {},
   "source": [
    "## 位置\n",
    "- //book[1]：第一值为book的元素\n",
    "- //book[last()]：最后一个为book的元素\n",
    "- //book[position() > 1]：所有下标大于1的book元素\n",
    "- //book[text()='文本内容']：选取所有book的"
   ]
  },
  {
   "cell_type": "markdown",
   "metadata": {},
   "source": [
    "## 属性及属性值\n",
    "- //B[@id]：所有B有id属性的\n",
    "- //B[@\\*]：所有有属性的B\n",
    "- //B[not(@\\*)]：所有没有属性的B\n",
    "- //B[@id=\"value\"]：所有id的属性为value的B"
   ]
  },
  {
   "cell_type": "markdown",
   "metadata": {},
   "source": [
    "## 关系节点"
   ]
  },
  {
   "cell_type": "markdown",
   "metadata": {},
   "source": [
    "- ancestor：选取当前节点的所有先辈（父、祖父等）\n",
    "- ancestor-or-self：选取当前节点的所有先辈（父、祖父等）以及当前节点本身\n",
    "- attribute：选取当前节点的所有属性\n",
    "- child：选取当前节点的所有子元素\n",
    "- descendant：选取当前节点的所有后代元素（子、孙等）\n",
    "- descendant-or-self：选取当前节点的所有后代元素（子、孙等）以及当前节点本身\n",
    "- following：选取文档中当前节点的结束标签之后的所有节点\n",
    "- parent：选取当前节点的父节点\n",
    "- preceding：选取文档中当前节点的开始标签之前的所有节点\n",
    "- preceding-sibling：选取当前节点之前的所有同级节点\n",
    "- self：选取当前节点"
   ]
  },
  {
   "cell_type": "code",
   "execution_count": null,
   "metadata": {},
   "outputs": [],
   "source": [
    "//div[@id=\"testid\"]/child::ul  # 子元素为ul的元素\n",
    "\n",
    "//div[@id=\"testid\"]/child::*  # 所有子元素\n",
    "        \n",
    "//div[@id=\"testid\"]/attribute::*  # 当前元素的所有属性        "
   ]
  },
  {
   "cell_type": "markdown",
   "metadata": {},
   "source": [
    "## 函数\n",
    "- count：统计\n",
    "- concat：字符串连接\n",
    "- string：解析当前节点下的字符\n",
    "- contains：如果string1包含string2，则返回true，否则返回false\n",
    "    - //h3[contains(text(),\"h3\")]\n",
    "- not：布尔值（否）\n",
    "    - //li[not(@data)]\n",
    "- string-length：返回指定字符串的长度\n",
    "    - //\\*[string-length(text())>2]\n",
    "- starts-with：以什么开始\n",
    "- ends-with：以什么结束"
   ]
  }
 ],
 "metadata": {
  "kernelspec": {
   "display_name": "Python 3",
   "language": "python",
   "name": "python3"
  },
  "language_info": {
   "codemirror_mode": {
    "name": "ipython",
    "version": 3
   },
   "file_extension": ".py",
   "mimetype": "text/x-python",
   "name": "python",
   "nbconvert_exporter": "python",
   "pygments_lexer": "ipython3",
   "version": "3.7.0"
  }
 },
 "nbformat": 4,
 "nbformat_minor": 2
}
