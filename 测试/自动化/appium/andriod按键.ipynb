{
 "cells": [
  {
   "cell_type": "markdown",
   "metadata": {},
   "source": [
    "# 按键对应的keyCode\n",
    "- 拨号键：KEYCODE_CALL - 5\n",
    "- 挂机键：KEYCODE_ENDCALL - 6\n",
    "- 按键HOME：KEYCODE_HOME - 3\n",
    "- 菜单键：KEYCODE_MENU - 82\n",
    "- 返回键：KEYCODE_BACK - 4\n",
    "- 搜索键：KEYCODE_SEARCH - 84\n",
    "- 拍照键：KEYCODE_CAMERA - 27\n",
    "- 拍照对焦键：KEYCODE_FOCUS - 80\n",
    "- 电源键：KEYCODE_POWER - 26\n",
    "- 通知键：KEYCODE_NOTIFICATION - 83\n",
    "- 话筒静音键：KEYCODE_MUTE - 91\n",
    "- 扬声器静音键：KEYCODE_VOLUME_MUTE - 164\n",
    "- 音量增加键：KEYCODE_VOLUME_UP - 24\n",
    "- 音量减小键：KEYCODE_VOLUME_DOWN - 25"
   ]
  },
  {
   "cell_type": "markdown",
   "metadata": {},
   "source": [
    "## 使用方式\n",
    "- driver.press_keycode(4) #发送keycode\n",
    "- driver.keyevent(4) # 发送keycode和press_keycode无区别\n",
    "- driver.hide_keyboard() # 隐藏键盘：IOS使用key_name隐藏，安卓不使用参数\n",
    "- driver.long_press_keycode(4) # 发送keycode，长按键"
   ]
  },
  {
   "cell_type": "code",
   "execution_count": null,
   "metadata": {},
   "outputs": [],
   "source": []
  }
 ],
 "metadata": {
  "kernelspec": {
   "display_name": "Python 3",
   "language": "python",
   "name": "python3"
  },
  "language_info": {
   "codemirror_mode": {
    "name": "ipython",
    "version": 3
   },
   "file_extension": ".py",
   "mimetype": "text/x-python",
   "name": "python",
   "nbconvert_exporter": "python",
   "pygments_lexer": "ipython3",
   "version": "3.7.4"
  },
  "toc": {
   "base_numbering": 1,
   "nav_menu": {},
   "number_sections": false,
   "sideBar": true,
   "skip_h1_title": false,
   "title_cell": "Table of Contents",
   "title_sidebar": "Contents",
   "toc_cell": false,
   "toc_position": {},
   "toc_section_display": true,
   "toc_window_display": false
  }
 },
 "nbformat": 4,
 "nbformat_minor": 2
}
