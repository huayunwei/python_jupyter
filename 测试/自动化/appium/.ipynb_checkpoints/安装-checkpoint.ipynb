{
 "cells": [
  {
   "cell_type": "markdown",
   "metadata": {},
   "source": [
    "# appium安装\n",
    "- 安装node\n",
    "    - 修改npm的安装源\n",
    "        \n",
    "            npm config get registry\n",
    "    - 修改源\n",
    "            \n",
    "            永久修改：npm config set registry https://registry.npm.taobao.org\n",
    "            临时修改：npm --registry=http://registry.npm.taobao.org\n",
    "- 安装appium\n",
    "    - [下载地址](https://testerhome.com/topics/680)\n",
    "- 安装JDK，配置JDK环境\n",
    "- 安装SDK\n",
    "    - 由于官网SDK和其他网站的SDK都已经不再更新，所以使用Android Studio\n",
    "    - 在官网下载Android Studio：http://www.androiddevtools.cn/\n",
    "    - Android Studio默认不会安装SDK，打开Android Studio后会默认自动安装SDK\n",
    "    - 在设置里面可以看到SDK的安装位置，默认在C:\\Users\\用户名\\AppData\\Local\\Android\\Sdk\\platform-tools\n",
    "    - 环境配置：\n",
    "        - 设置ANDROID_HOME变量：为SDK的安装位置\n",
    "        - 把tools和platform-tools两个目录加入到系统的path路径里：\n",
    "            - %ANDROID_HOME%\\tools\n",
    "            - %ANDROID_HOME%\\platform-tools\n",
    "        - 检查配置是否成功：在cmd中输入adb\n",
    "    - Android Studio安装图解\n",
    "    ![](img/sdk_manager.png)\n",
    "- 检查appium环境配置是否安装\n",
    "    - 安装appium-doctor：npm install -g appium-doctor\n",
    "    - 在cmd中执行appium-doctor\n",
    "- 安装appium-python-client：客户端环境\n",
    "    - pip install Appium-Python-Client\n",
    "    - 安装后，python中可以直接使用appium包"
   ]
  },
  {
   "cell_type": "markdown",
   "metadata": {},
   "source": [
    "## 注意：appium最多等待60s的时间，如果这个期间不做任何操作，appium会自动停掉应用"
   ]
  }
 ],
 "metadata": {
  "kernelspec": {
   "display_name": "Python 3",
   "language": "python",
   "name": "python3"
  },
  "language_info": {
   "codemirror_mode": {
    "name": "ipython",
    "version": 3
   },
   "file_extension": ".py",
   "mimetype": "text/x-python",
   "name": "python",
   "nbconvert_exporter": "python",
   "pygments_lexer": "ipython3",
   "version": "3.7.0"
  }
 },
 "nbformat": 4,
 "nbformat_minor": 2
}
