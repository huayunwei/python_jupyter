{
 "cells": [
  {
   "cell_type": "markdown",
   "metadata": {},
   "source": [
    "# adb"
   ]
  },
  {
   "cell_type": "markdown",
   "metadata": {},
   "source": [
    "## adb环境和手机连接"
   ]
  },
  {
   "cell_type": "markdown",
   "metadata": {},
   "source": [
    "## adb命令\n",
    "- adb devices：获取连接的手机列表\n",
    "- adb shell getprop ro.build.version.release：获取手机系统版本\n",
    "    - 结果：8.1.0\n",
    "- adb shell getprop ro.build.version.sdk：获取手机系统api版本\n",
    "    - 结果：27\n",
    "- adb install 安装包地址：安装\n",
    "- adb uninstall 包名：卸载\n",
    "- adb kill-server：杀掉adb进程\n",
    "- adb start-server：重启adb服务\n",
    "- adb reboot：重启手机\n",
    "- adb shell：进入shell模式\n",
    "- adb remout：挂载\n",
    "- adb push <本地路径><远程路径>：从电脑发文件到手机\n",
    "- adb pull <远程路径><本地路径>：从手机下载文件到本地\n",
    "- adb logcat > 路径：输出日志到路径"
   ]
  },
  {
   "cell_type": "markdown",
   "metadata": {},
   "source": [
    "## adb中的input命令\n",
    "- 输入文本信息：input text xxx\n",
    "    - 本身不支持中文输入\n",
    "    - 可以使用第三方插件：[ADBKeyBoard](https://www.cnblogs.com/yoyoketang/p/8998789.html)\n",
    "- 物理按键操作：input keyevent KEYCODE_VOLUME_DOWN\n",
    "- 点击操作(DOWN_UP)操作：input tap x y\n",
    "- 模拟滑动操作：input swipe x y x1 y1\n",
    "- 模拟轨迹球操作：input roll x y"
   ]
  },
  {
   "cell_type": "code",
   "execution_count": null,
   "metadata": {},
   "outputs": [],
   "source": [
    "# 物理按键操作封装\n",
    "class keyevent():\n",
    "    '''常用的keyevent事件'''\n",
    "    KEYCODE_HOME = 3 # home键\n",
    "    KEYCODE_MENU = 82 # menu键\n",
    "    KEYCODE_BACK = 4 # back键\n",
    "    KEYCODE_POWER = 26 # power键\n",
    "    KEYCODE_DPAD_UP = 19 # 向上键\n",
    "    KEYCODE_DPAD_DOWN = 20 #向下键\n",
    "    KEYCODE_DPAD_LEFT = 21 # 向左\n",
    "    KEYCODE_DPAD_RIGHT = 22 # 想右\n",
    "    KEYCODE_NOTIFICATION = 83 # 解锁\n",
    "    \n",
    "    def adbKeyEvent(keyname=keyevent.KEYCODE_BACK):\n",
    "        '''执行adb命令'''\n",
    "        adb = 'adb shell input keyevent %s' % keyname\n",
    "        os.system(adb)"
   ]
  },
  {
   "cell_type": "markdown",
   "metadata": {},
   "source": [
    "## adb logcat - 日志"
   ]
  },
  {
   "cell_type": "code",
   "execution_count": null,
   "metadata": {},
   "outputs": [],
   "source": [
    "# 获取日志\n",
    "adb logcat # 所有的系统日志\n",
    "\n",
    "# 获取某个app的日志\n",
    "adb logcat | find \"app名\"\n",
    "\n",
    "# 结束logcat\n",
    "# 使用ctrl+c或通过命令查询pid，然后kill掉\n",
    "adb shell ps | findstr logcat\n",
    "adb shell kill -9 [logcat]\n",
    "\n",
    "# 参数选项\n",
    "# -s：设置输出日志的标签，只显示该标签的日志\n",
    "# -f：将日志输出到文件，默认输出到标准输出流中，-f参数执行不成功\n",
    "# -r：按照每千字节输出日志，需要-f参数\n",
    "# -n：设置日志输出的最大数目，需要-r参数\n",
    "# -v：设置日志的输出格式，只能设置一项\n",
    "# -c：清空所有的日志缓存信息\n",
    "# -d：将缓存的日志输出到屏幕上，并且不会阻塞\n",
    "# -t：输出最近的几行日志，输出完退出，不堵塞\n",
    "# -g：查看日志缓冲区信息\n",
    "# -b：加载一个日志缓冲区，默认是main\n",
    "# -B：以二进制形式输出日志\n",
    "\n",
    "# 过滤项格式\n",
    "# V：verbose明细\n",
    "# D：Debug调试\n",
    "# I：Info信息\n",
    "# W：warn警告\n",
    "# E：Error错误\n",
    "# F：Fatal严重错误\n",
    "# S：Silent最高的优先级"
   ]
  },
  {
   "cell_type": "code",
   "execution_count": null,
   "metadata": {},
   "outputs": [],
   "source": []
  }
 ],
 "metadata": {
  "kernelspec": {
   "display_name": "Python 3",
   "language": "python",
   "name": "python3"
  },
  "language_info": {
   "codemirror_mode": {
    "name": "ipython",
    "version": 3
   },
   "file_extension": ".py",
   "mimetype": "text/x-python",
   "name": "python",
   "nbconvert_exporter": "python",
   "pygments_lexer": "ipython3",
   "version": "3.7.0"
  }
 },
 "nbformat": 4,
 "nbformat_minor": 2
}
