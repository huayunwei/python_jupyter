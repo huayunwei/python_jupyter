{
 "cells": [
  {
   "cell_type": "markdown",
   "metadata": {},
   "source": [
    "# appium\n",
    "- appium有两种模式，一个是桌面模式，一个是命令行模式\n",
    "- 桌面模式需要在官网下载.exe文件\n",
    "- 命令行模式需要使用npm安装\n",
    "    - 最好用淘宝源安装，用国外的源需要安装chromedriver\n",
    "    - npm install appium\n",
    "    - 检测：在cmd中输入appium命令，如果能开启appium服务则代表成功"
   ]
  },
  {
   "cell_type": "markdown",
   "metadata": {},
   "source": [
    "![](img/appium_ml.png)"
   ]
  },
  {
   "cell_type": "markdown",
   "metadata": {},
   "source": [
    "# 使用命令行的形式开启appium服务"
   ]
  },
  {
   "cell_type": "code",
   "execution_count": null,
   "metadata": {},
   "outputs": [],
   "source": [
    "# 后面的内容无法执行，会被阻塞\n",
    "os.system(\"appium -a 127.0.0.1 -p 4723 -U devicesName --session-override\")\n",
    "# 会单独弹出一个cmd窗口，后面的内容可以正常执行\n",
    "os.system(\"start appium -a 127.0.0.1 -p 4723 -U devicesName --session-override\")\n",
    "# 后面的内容无法执行，会被阻塞\n",
    "subprocess.run(\"appium -a 127.0.0.1 -p 4723 -U D3H5T18312000636 --session-override\",shell=True)\n",
    "# 单独开启一个cmd窗口用来执行appium命令\n",
    "subprocess.run(\"start appium -a 127.0.0.1 -p 4723 -U D3H5T18312000636 --session-override\",shell=True)"
   ]
  },
  {
   "cell_type": "code",
   "execution_count": null,
   "metadata": {},
   "outputs": [],
   "source": [
    "# 使用双线程的方式\n",
    "import os\n",
    "import subprocess\n",
    "import threading\n",
    "import time\n",
    "from appium import webdriver\n",
    "caps = {\n",
    "    \"platformName\": \"Android\",\n",
    "    \"deviceName\": \"D3H5T18312000636\",\n",
    "    \"platformVersion\": \"8.1.0\",\n",
    "    \"appPackage\": \"com.liukena.android\",\n",
    "    \"appActivity\": \"com.liukena.android.activity.StartActivity\",\n",
    "    \"automationName\": \"uiautomator2\",\n",
    "    \"unicodeKeyboard\": True,\n",
    "    \"resetKeyboard\": True\n",
    "}\n",
    "con = threading.Condition\n",
    "class P1(threading.Thread):\n",
    "    def __init__(self):\n",
    "        threading.Thread.__init__(self)\n",
    "    def run(self):\n",
    "        subprocess.run(\"appium -a 127.0.0.1 -p 4723 -U D3H5T18312000636 --session-override\",shell=True)\n",
    "\n",
    "class P2(threading.Thread):\n",
    "    def __init__(self):\n",
    "        threading.Thread.__init__(self)\n",
    "    def run(self):\n",
    "        time.sleep(10)\n",
    "        driver = webdriver.Remote(\"http://127.0.0.1:4723/wd/hub\",caps)\n",
    "        driver.implicitly_wait(5)\n",
    "\n",
    "        if driver.wait_activity(\".activity.ChooseStateActivity\", 10):\n",
    "            time.sleep(1)\n",
    "            driver.find_element_by_id(\"com.liukena.android:id/logintext\").click()\n",
    "        driver.quit()\n",
    "\n",
    "a = P1()\n",
    "b = P2()\n",
    "a.start()\n",
    "b.start()"
   ]
  },
  {
   "cell_type": "code",
   "execution_count": null,
   "metadata": {},
   "outputs": [],
   "source": [
    "# 监控appium服务是否开启，如果已经开启\n",
    "# 监控语句：subprocess.getoutput(\"netstat -ano | findstr 4723\")，\n",
    "# 没有这个端口号的进程则返回空，有则返回 TCP    0.0.0.0:4723           0.0.0.0:0              LISTENING       13688\n",
    "flag = subprocess.getoutput(\"netstat -ano | findstr 4723\")\n",
    "if flag:\n",
    "    # 有内容\n",
    "    print()"
   ]
  }
 ],
 "metadata": {
  "kernelspec": {
   "display_name": "Python 3",
   "language": "python",
   "name": "python3"
  },
  "language_info": {
   "codemirror_mode": {
    "name": "ipython",
    "version": 3
   },
   "file_extension": ".py",
   "mimetype": "text/x-python",
   "name": "python",
   "nbconvert_exporter": "python",
   "pygments_lexer": "ipython3",
   "version": "3.7.4"
  }
 },
 "nbformat": 4,
 "nbformat_minor": 2
}
