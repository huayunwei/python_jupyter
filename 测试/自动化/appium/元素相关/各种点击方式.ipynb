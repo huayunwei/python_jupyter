{
 "cells": [
  {
   "cell_type": "markdown",
   "metadata": {},
   "source": [
    "# 各种点击方式"
   ]
  },
  {
   "cell_type": "markdown",
   "metadata": {},
   "source": [
    "## click"
   ]
  },
  {
   "cell_type": "code",
   "execution_count": null,
   "metadata": {},
   "outputs": [],
   "source": [
    "driver.get_element_by_xpath(\"xxx\").click()"
   ]
  },
  {
   "cell_type": "markdown",
   "metadata": {},
   "source": [
    "## tap\n",
    "- 以目前测试的情况，不能点击手机桌面上的图标"
   ]
  },
  {
   "cell_type": "code",
   "execution_count": null,
   "metadata": {},
   "outputs": [],
   "source": [
    "tap(self, positions, duration=None):\n",
    "    '''\n",
    "    Taps on an particular place with up to five fingers, holding for a certain time\n",
    "    \n",
    "    模拟手指点击（最多五个手指），可设置按住时间长度（毫秒）\n",
    "    \n",
    "    :Args:\n",
    "    \n",
    "    - positions - list类型，里面对象是元组，最多五个。如：[(100, 20), (100, 60)]\n",
    "    \n",
    "    - duration - 持续时间，单位毫秒，如：500\n",
    "    '''\n",
    "    driver.tap([(100, 20), (100, 60), (100, 100)], 500)"
   ]
  },
  {
   "cell_type": "markdown",
   "metadata": {},
   "source": [
    "## adb - input\n",
    "- 输入文本信息：input text yoyo\n",
    "- 物理按键操作：input keyevent KEYCODE_VOLUMNE_DOMN\n",
    "- 点击操作：input tap 500 500\n",
    "- 模拟滑动操作：input swipe 200 500 400 500\n",
    "- 模拟轨迹球操作：input roll 100 200"
   ]
  },
  {
   "cell_type": "code",
   "execution_count": null,
   "metadata": {},
   "outputs": [],
   "source": [
    "import os \n",
    "adb1 = \"adb shell input tap 200 500\"\n",
    "os.system(adb1)"
   ]
  }
 ],
 "metadata": {
  "kernelspec": {
   "display_name": "Python 3",
   "language": "python",
   "name": "python3"
  },
  "language_info": {
   "codemirror_mode": {
    "name": "ipython",
    "version": 3
   },
   "file_extension": ".py",
   "mimetype": "text/x-python",
   "name": "python",
   "nbconvert_exporter": "python",
   "pygments_lexer": "ipython3",
   "version": "3.7.1"
  },
  "toc": {
   "base_numbering": 1,
   "nav_menu": {},
   "number_sections": false,
   "sideBar": true,
   "skip_h1_title": false,
   "title_cell": "Table of Contents",
   "title_sidebar": "Contents",
   "toc_cell": false,
   "toc_position": {},
   "toc_section_display": true,
   "toc_window_display": false
  }
 },
 "nbformat": 4,
 "nbformat_minor": 2
}
