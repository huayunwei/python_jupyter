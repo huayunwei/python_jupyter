{
 "cells": [
  {
   "cell_type": "markdown",
   "metadata": {},
   "source": [
    "# toast\n",
    "- 定义：该元素为提示信息，比如点击一个按钮后显示的一定时间的提示信息\n",
    "- 自动化测试的引擎必须为Uiautomator2才可以定位到\n",
    "- toast的文本可以通过text属性获取"
   ]
  },
  {
   "cell_type": "code",
   "execution_count": null,
   "metadata": {},
   "outputs": [],
   "source": [
    "def is_toast_exist(driver,text,timeout=30,poll_frequency=0.5):\n",
    "    '''is toast exist, return True or False\n",
    "    :Agrs:\n",
    "     - driver - 传driver\n",
    "     - text   - 页面上看到的文本内容\n",
    "     - timeout - 最大超时时间，默认30s\n",
    "     - poll_frequency  - 间隔查询时间，默认0.5s查询一次\n",
    "    :Usage:\n",
    "     is_toast_exist(driver, \"看到的内容\")\n",
    "    '''\n",
    "    try:\n",
    "        toast_loc = (\"xpath\", \".//*[contains(@text,'%s')]\"%text)\n",
    "        WebDriverWait(driver, timeout, poll_frequency).until(EC.presence_of_element_located(toast_loc))\n",
    "        return True\n",
    "    except:\n",
    "        return False"
   ]
  }
 ],
 "metadata": {
  "kernelspec": {
   "display_name": "Python 3",
   "language": "python",
   "name": "python3"
  },
  "language_info": {
   "codemirror_mode": {
    "name": "ipython",
    "version": 3
   },
   "file_extension": ".py",
   "mimetype": "text/x-python",
   "name": "python",
   "nbconvert_exporter": "python",
   "pygments_lexer": "ipython3",
   "version": "3.7.0"
  }
 },
 "nbformat": 4,
 "nbformat_minor": 2
}
