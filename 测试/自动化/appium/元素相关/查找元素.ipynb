{
 "cells": [
  {
   "cell_type": "markdown",
   "metadata": {},
   "source": [
    "# 通过id -- resource-id"
   ]
  },
  {
   "cell_type": "code",
   "execution_count": null,
   "metadata": {},
   "outputs": [],
   "source": [
    "driver.find_element_by_name(\"resource-id的值\")"
   ]
  },
  {
   "cell_type": "markdown",
   "metadata": {},
   "source": [
    "# 通过class"
   ]
  },
  {
   "cell_type": "code",
   "execution_count": null,
   "metadata": {},
   "outputs": [],
   "source": [
    "driver.find_element_by_class_name(\"class属性\")"
   ]
  },
  {
   "cell_type": "markdown",
   "metadata": {},
   "source": [
    "# 通过accessibility_id"
   ]
  },
  {
   "cell_type": "code",
   "execution_count": null,
   "metadata": {},
   "outputs": [],
   "source": [
    "driver.find_element_by_accessibility_id(\"content-desc的值\")"
   ]
  },
  {
   "cell_type": "markdown",
   "metadata": {},
   "source": [
    "# 使用UiAutomator选择元素\n",
    "- UIAutomator测试框架提供了一组API来构建UI测试，用于在用户应用和系统应用中执行交互\n",
    "- 要求android 4.3(API级别18)或更高版本"
   ]
  },
  {
   "cell_type": "code",
   "execution_count": null,
   "metadata": {},
   "outputs": [],
   "source": [
    "# 通过text文本定位\n",
    "code = 'new UiSelector().text(\"文本\")'\n",
    "code = 'new UiSelector().textContains(\"包含text文本\")' # 模糊匹配\n",
    "code = 'new UiSelector().textStartsWith(\"以text文本开头\")' # 以text文本开头\n",
    "code = 'new UiSelector().textMathces(\"正则表达式\")'\n",
    "\n",
    "# 使用方式\n",
    "el = driver.find_element_by_android_uiautomator(code)"
   ]
  },
  {
   "cell_type": "code",
   "execution_count": null,
   "metadata": {},
   "outputs": [],
   "source": [
    "# 根据resource id 属性\n",
    "code = 'new UiSelector().resourceId(\"id\")'\n",
    "\n",
    "# 使用方式\n",
    "el = driver.find_element_by_android_uiautomator(code)"
   ]
  },
  {
   "cell_type": "code",
   "execution_count": null,
   "metadata": {},
   "outputs": [],
   "source": [
    "# 根据className定位\n",
    "code = 'new UiSelector().className(\"className\")'\n",
    "els = driver.find_elements_by_android_uiautomator(code)"
   ]
  },
  {
   "cell_type": "code",
   "execution_count": null,
   "metadata": {},
   "outputs": [],
   "source": [
    "# 根据content-des属性定位\n",
    "code = 'new UiSelector().description(\"contenet-desc属性\")'"
   ]
  },
  {
   "cell_type": "code",
   "execution_count": null,
   "metadata": {},
   "outputs": [],
   "source": [
    "# 组合定位，id和text和class和text\n",
    "id_text = 'resourceId(\"id值\").text(\"文本值\")'\n",
    "driver.find_element_by_android_uiautomator(id_text).click()\n",
    "\n",
    "class_text = 'className(\"class值\")'.text(\"文本值\")\n",
    "driver.find_element_by_android_uiautomator(class_text).click()"
   ]
  },
  {
   "cell_type": "code",
   "execution_count": null,
   "metadata": {},
   "outputs": [],
   "source": [
    "# 父子关系childSelector\n",
    "son = 'resourceId(\"id值\").childSelector(text(\"text值\"))'\n",
    "driver.find_element_by_android_uiautomator(son).click()"
   ]
  },
  {
   "cell_type": "code",
   "execution_count": null,
   "metadata": {},
   "outputs": [],
   "source": [
    "# 兄弟定位fromParent\n",
    "brother = 'resourceId(\"id值\").fromParent(text(\"text值\"))'\n",
    "driver.find_element_by_android_uiautomator(brother).click()"
   ]
  }
 ],
 "metadata": {
  "kernelspec": {
   "display_name": "Python 3",
   "language": "python",
   "name": "python3"
  },
  "language_info": {
   "codemirror_mode": {
    "name": "ipython",
    "version": 3
   },
   "file_extension": ".py",
   "mimetype": "text/x-python",
   "name": "python",
   "nbconvert_exporter": "python",
   "pygments_lexer": "ipython3",
   "version": "3.7.0"
  },
  "toc": {
   "base_numbering": 1,
   "nav_menu": {},
   "number_sections": false,
   "sideBar": true,
   "skip_h1_title": false,
   "title_cell": "Table of Contents",
   "title_sidebar": "Contents",
   "toc_cell": false,
   "toc_position": {},
   "toc_section_display": true,
   "toc_window_display": false
  }
 },
 "nbformat": 4,
 "nbformat_minor": 2
}
