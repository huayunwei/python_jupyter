{
 "cells": [
  {
   "cell_type": "markdown",
   "metadata": {},
   "source": [
    "# WebView的自动化\n",
    "- 1.WebView的内容不依赖所在的app\n",
    "    - 是一个url\n",
    "    - 使用电脑端的浏览器打开\n",
    "    - 浏览器使用手机模式\n",
    "- 2.Appium自动化webview\n",
    "    - appium中把所有的界面环境称之为context\n",
    "    - native部分的context名字一般为NATIVE_APP\n",
    "    - webview部分的context则为WEBVIEW_XXX\n",
    "    - 显示当前所有的context：driver.contexts\n",
    "    - 显示当前的context：driver.current_context"
   ]
  },
  {
   "cell_type": "markdown",
   "metadata": {},
   "source": [
    "# 原生Native和H5页面webview的切换\n",
    "- 切换的原因：H5页面无法使用原生的方法获取元素\n",
    "- 元素的识别：\n",
    "    - 1.通过工具查看元素的的时候，如果工具有webview文字的都是H5页面\n",
    "    - 2.通过context上下文来判断当前页面是否为H5页面"
   ]
  },
  {
   "cell_type": "code",
   "execution_count": null,
   "metadata": {},
   "outputs": [],
   "source": [
    "# 获取当前页面的环境\n",
    "driver.contexts # 返回一个列表【\"NATIVE_APP\",\"WEBVIEW_com.xxxx\"】  其中NATIVE_APP为原生APP，WEBVIEW_com.xxxx为H5页面\n",
    "\n",
    "# 切换到相应的环境\n",
    "# 方法1：直接使用contexts返回的列表项\n",
    "driver.switch_to.context(driver.contexts[1])\n",
    "\n",
    "# 方法2：使用contexts返回的列表项的文本值\n",
    "driver.switch_to.context(\"WEBVIEW_com.xxxx\")\n",
    "\n",
    "# 获取当前环境\n",
    "driver.current_context"
   ]
  }
 ],
 "metadata": {
  "kernelspec": {
   "display_name": "Python 3",
   "language": "python",
   "name": "python3"
  },
  "language_info": {
   "codemirror_mode": {
    "name": "ipython",
    "version": 3
   },
   "file_extension": ".py",
   "mimetype": "text/x-python",
   "name": "python",
   "nbconvert_exporter": "python",
   "pygments_lexer": "ipython3",
   "version": "3.7.0"
  },
  "toc": {
   "base_numbering": 1,
   "nav_menu": {},
   "number_sections": false,
   "sideBar": true,
   "skip_h1_title": false,
   "title_cell": "Table of Contents",
   "title_sidebar": "Contents",
   "toc_cell": false,
   "toc_position": {},
   "toc_section_display": true,
   "toc_window_display": false
  }
 },
 "nbformat": 4,
 "nbformat_minor": 2
}
