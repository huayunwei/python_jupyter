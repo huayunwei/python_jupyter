{
 "cells": [
  {
   "cell_type": "markdown",
   "metadata": {},
   "source": [
    "# 滑动 - swipe"
   ]
  },
  {
   "cell_type": "code",
   "execution_count": null,
   "metadata": {},
   "outputs": [],
   "source": [
    "# swipe源码\n",
    "swipe(self,start_x,start_y,end_x.end_y,duration=None)\n",
    "'''\n",
    "参数说明：\n",
    "坐标起始位置为屏幕左上角，横向为x，纵向为y\n",
    "start_x：开始滑动的x坐标\n",
    "start_y：开始滑动的y坐标\n",
    "end_x：结束点x坐标\n",
    "end_y：结束点y坐标\n",
    "duration：持续时间，单位毫秒\n",
    "'''"
   ]
  },
  {
   "cell_type": "markdown",
   "metadata": {},
   "source": [
    "## 获取屏幕宽高"
   ]
  },
  {
   "cell_type": "code",
   "execution_count": null,
   "metadata": {},
   "outputs": [],
   "source": [
    "size = driver.get_window_size()\n",
    "print(size)\n",
    "print(size['width'])\n",
    "print(size['height'])"
   ]
  },
  {
   "cell_type": "markdown",
   "metadata": {},
   "source": [
    "## 滑动封装 -- 整屏滑动"
   ]
  },
  {
   "cell_type": "code",
   "execution_count": null,
   "metadata": {},
   "outputs": [],
   "source": [
    "'''t：持续时间--不要太短，太短会导致点击效果，n滑动次数'''\n",
    "def swipeUp(driver,t=500,n=1):\n",
    "    '''向上滑动屏幕'''\n",
    "    l = driver.get_window_size()\n",
    "    x1 = l['width'] * 0.5 #x坐标\n",
    "    y1 = l['height'] * 0.75 # 起始y坐标\n",
    "    y2 = l['height'] * 0.25 # 终点y坐标\n",
    "    for i in range(n):\n",
    "        driver.swipe(x1,y1,x1,y2,t) # x1,y1为起始位置，x1,y2为终止内容\n",
    "        \n",
    "def swipeDown(driver,t=500,n=1):\n",
    "    '''向下滑动屏幕'''\n",
    "    l = driver.get_window_size()\n",
    "    x1 = l['width'] * 0.5\n",
    "    y1 = l['height'] * 0.25\n",
    "    y2 = l['height'] * 0.75\n",
    "    for i in range(n):\n",
    "        driver.swipe(x1,y1,x1,y2,t)\n",
    "        \n",
    "def swipeLeft(driver,t=500,n=1):\n",
    "    '''向左滑动屏幕'''\n",
    "    l = driver.get_window_size()\n",
    "    x1 = l['width'] * 0.75\n",
    "    y1 = l['height'] * 0.5\n",
    "    x2 = l['width'] * 0.25\n",
    "    for i in range(n):\n",
    "        driver.swipe(x1,y1,x2,y1,t)\n",
    "        \n",
    "def swipeRight(driver,t=500,n=1):\n",
    "    '''向右滑动屏幕'''\n",
    "    l = driver.get_window_size()\n",
    "    x1 = l['width'] * 0.25\n",
    "    y1 = l['height'] * 0.5\n",
    "    x2 = l['width'] * 0.75\n",
    "    for i in range(n):\n",
    "        driver.swipe(x1,y1,x2,y1,t)"
   ]
  }
 ],
 "metadata": {
  "kernelspec": {
   "display_name": "Python 3",
   "language": "python",
   "name": "python3"
  },
  "language_info": {
   "codemirror_mode": {
    "name": "ipython",
    "version": 3
   },
   "file_extension": ".py",
   "mimetype": "text/x-python",
   "name": "python",
   "nbconvert_exporter": "python",
   "pygments_lexer": "ipython3",
   "version": "3.7.0"
  }
 },
 "nbformat": 4,
 "nbformat_minor": 2
}
