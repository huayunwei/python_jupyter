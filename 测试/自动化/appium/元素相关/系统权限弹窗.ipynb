{
 "cells": [
  {
   "cell_type": "code",
   "execution_count": null,
   "metadata": {},
   "outputs": [],
   "source": [
    "# 处理系统弹窗\n",
    "def always_allow(driver,number=5):\n",
    "    '''\n",
    "    number：默认处理弹窗的次数\n",
    "    '''\n",
    "    for i in range(number):\n",
    "        loc = (\"xpath\",\"//*[@text='始终允许']\")\n",
    "        try:\n",
    "            e = WebDriverWait(driver,1,0.5).until(EC.presence_of_element_located(loc))\n",
    "            e.click()\n",
    "        except:\n",
    "            pass"
   ]
  }
 ],
 "metadata": {
  "kernelspec": {
   "display_name": "Python 3",
   "language": "python",
   "name": "python3"
  },
  "language_info": {
   "codemirror_mode": {
    "name": "ipython",
    "version": 3
   },
   "file_extension": ".py",
   "mimetype": "text/x-python",
   "name": "python",
   "nbconvert_exporter": "python",
   "pygments_lexer": "ipython3",
   "version": "3.7.0"
  }
 },
 "nbformat": 4,
 "nbformat_minor": 2
}
