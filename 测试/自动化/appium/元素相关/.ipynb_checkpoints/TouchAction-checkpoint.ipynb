{
 "cells": [
  {
   "cell_type": "markdown",
   "metadata": {},
   "source": [
    "# TouchAction 触摸操作"
   ]
  },
  {
   "cell_type": "code",
   "execution_count": null,
   "metadata": {},
   "outputs": [],
   "source": [
    "class TouchAction(object):\n",
    "    def __init__(self,driver=None):\n",
    "        self._driver = driver\n",
    "        self._action = []\n",
    "    def tap(self,element=None,x=None,y=None,count=1):\n",
    "        # 模拟手指触摸屏\n",
    "    \n",
    "    def press(self,el=None,x=None,y=None):\n",
    "        # 短按：模拟手指按住一个元素或者坐标\n",
    "        \n",
    "    def long_press(self,el=None,x=None,y=None,duration=1000):\n",
    "        # 长按：模拟按住一个元素，或者坐标\n",
    "        \n",
    "    def wait(self,ms=0):\n",
    "        # 按住元素后的等待时间\n",
    "    \n",
    "    def move_to(self,el=None,x=None,y=None)\n",
    "        # 移动手指到另外一个元素，或者坐标，注意这里坐标不是绝对坐标，是偏移量\n",
    "        \n",
    "    def release(self):\n",
    "        # 释放手指\n",
    "        \n",
    "    def perform(self):\n",
    "        # 执行前面的动作"
   ]
  },
  {
   "cell_type": "markdown",
   "metadata": {},
   "source": [
    "# MultiAction 多点触控\n",
    "- 实现方式\n",
    "    - add添加多个触控操作到多点触控\n",
    "    - perform执行被调用时，添加到多点触摸的所有触摸动作都被发送到AppII，并执行\n",
    "    - appium首先执行所有触摸操作的第一个动作，然后执行所有的第二个，依次执行"
   ]
  },
  {
   "cell_type": "code",
   "execution_count": null,
   "metadata": {},
   "outputs": [],
   "source": [
    "class MultiAction(object):\n",
    "    def __init__(self,driver,element=None):\n",
    "        self._driver = driver\n",
    "        self._element = element\n",
    "        self._touch_actions = []\n",
    "    def add(self,*touch_actions):\n",
    "        '''添加TouchAction事件'''\n",
    "    \n",
    "    def perform(self)：\n",
    "        '''执行多点触控事件'''"
   ]
  },
  {
   "cell_type": "code",
   "execution_count": null,
   "metadata": {},
   "outputs": [],
   "source": [
    "# 多点触控实例：\n",
    "from appium.webdriver.common.touch_action import TouchAction\n",
    "from appium.webdriver.commom.multi_action import MultiAction\n",
    "\n",
    "action0 = TouchAction().tap(e1)\n",
    "action1 = TouchAction().tap(e1)\n",
    "MultiAction().add(action0).add(action1).perform()"
   ]
  }
 ],
 "metadata": {
  "kernelspec": {
   "display_name": "Python 3",
   "language": "python",
   "name": "python3"
  },
  "language_info": {
   "codemirror_mode": {
    "name": "ipython",
    "version": 3
   },
   "file_extension": ".py",
   "mimetype": "text/x-python",
   "name": "python",
   "nbconvert_exporter": "python",
   "pygments_lexer": "ipython3",
   "version": "3.7.0"
  }
 },
 "nbformat": 4,
 "nbformat_minor": 2
}
