{
 "cells": [
  {
   "cell_type": "markdown",
   "metadata": {},
   "source": [
    "# 活动页面"
   ]
  },
  {
   "cell_type": "code",
   "execution_count": null,
   "metadata": {},
   "outputs": [],
   "source": [
    "# 根据提供的活动页面启动软件\n",
    "driver.start_activity(\"pageName\", \"ActivityName\")\n",
    "\n",
    "# 当前软件活动页面的名字\n",
    "driver.current_activity\n",
    "\n",
    "# 当前软件的包名\n",
    "driver.current_package"
   ]
  },
  {
   "cell_type": "markdown",
   "metadata": {},
   "source": [
    "# 软件"
   ]
  },
  {
   "cell_type": "code",
   "execution_count": null,
   "metadata": {},
   "outputs": [],
   "source": [
    "# 安装软件\n",
    "driver.install_app('软件地址')\n",
    "\n",
    "# 判断设备是否安装软件\n",
    "driver.is_app_installed('包名')\n",
    "\n",
    "# 开启软件\n",
    "driver.launch_app()\n",
    "\n",
    "# 将软件退到后台，然后等待给定时间后回到前台\n",
    "driver.background_app(time)\n",
    "\n",
    "# 关闭软件\n",
    "driver.close_app()\n",
    "\n",
    "# 重启软件\n",
    "driver.reset()\n",
    "\n",
    "# 卸载软件\n",
    "remove_app('包名')"
   ]
  },
  {
   "cell_type": "markdown",
   "metadata": {},
   "source": [
    "# 文件"
   ]
  },
  {
   "cell_type": "code",
   "execution_count": null,
   "metadata": {},
   "outputs": [],
   "source": [
    "# 将文件上传到指定位置\n",
    "driver.push_file('上传位置（有文件名的）', '文件内容的base64编码')\n",
    "\n",
    "# 取出文件，返回base64位内容\n",
    "driver.pull_file('文件地址')\n",
    "\n",
    "# 取出文件夹，返回base64位内容，zip的base64位内容\n",
    "driver.pull_folder('/path/to/device/foo.bar')"
   ]
  },
  {
   "cell_type": "markdown",
   "metadata": {},
   "source": [
    "# 互动"
   ]
  },
  {
   "cell_type": "code",
   "execution_count": null,
   "metadata": {},
   "outputs": [],
   "source": [
    "# 摇动\n",
    "driver.shake()\n",
    "\n",
    "# 锁屏\n",
    "driver.lock()\n",
    "\n",
    "# 解锁\n",
    "driver.unlock()"
   ]
  },
  {
   "cell_type": "markdown",
   "metadata": {},
   "source": [
    "# 键盘"
   ]
  },
  {
   "cell_type": "code",
   "execution_count": null,
   "metadata": {},
   "outputs": [],
   "source": [
    "# 按键盘上的指定键\n",
    "driver.press_keycode(key)\n",
    "\n",
    "# 长时间按键盘上的指定键\n",
    "driver.long_press_keycode(key)\n",
    "\n",
    "# 隐藏键盘\n",
    "driver.hide_keyboard()"
   ]
  },
  {
   "cell_type": "markdown",
   "metadata": {},
   "source": [
    "# 录像"
   ]
  },
  {
   "cell_type": "code",
   "execution_count": null,
   "metadata": {},
   "outputs": [],
   "source": [
    "# 开启录像\n",
    "driver.start_recording_screen()\n",
    "\n",
    "# 关闭录像\n",
    "driver.stop_recording_screen()"
   ]
  },
  {
   "cell_type": "markdown",
   "metadata": {},
   "source": [
    "# 系统"
   ]
  },
  {
   "cell_type": "code",
   "execution_count": null,
   "metadata": {},
   "outputs": [],
   "source": [
    "# 获取系统时间\n",
    "driver.device_time()"
   ]
  }
 ],
 "metadata": {
  "kernelspec": {
   "display_name": "Python 3",
   "language": "python",
   "name": "python3"
  },
  "language_info": {
   "codemirror_mode": {
    "name": "ipython",
    "version": 3
   },
   "file_extension": ".py",
   "mimetype": "text/x-python",
   "name": "python",
   "nbconvert_exporter": "python",
   "pygments_lexer": "ipython3",
   "version": "3.7.4"
  }
 },
 "nbformat": 4,
 "nbformat_minor": 2
}
