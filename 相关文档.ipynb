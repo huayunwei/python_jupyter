{
 "cells": [
  {
   "cell_type": "markdown",
   "metadata": {},
   "source": [
    "# 提高\n",
    "- 刷题网址：\n",
    "    - [lintcode](https://www.lintcode.com/problem/)\n",
    "    - [leetcode](https://leetcode.com/)\n",
    "    - [游戏刷题](https://checkio.org/)\n",
    "- 工具网站\n",
    "    - [淘宝镜像站](http://npm.taobao.org/mirrors/)\n",
    "- 书：\n",
    "    - [数据结构](https://facert.gitbooks.io/python-data-structure-cn/1.%E4%BB%8B%E7%BB%8D/1.1.%E7%9B%AE%E6%A0%87/)"
   ]
  },
  {
   "cell_type": "markdown",
   "metadata": {},
   "source": [
    "# 基础文档\n",
    "- 博客\n",
    "    - 未整理\n",
    "        - [python学习中：python基础文章70多篇](https://www.cnblogs.com/c-x-a/)\n",
    "        - [廖雪峰-全](https://www.liaoxuefeng.com/wiki/0014316089557264a6b348958f449949df42a6d3a2e542c000)\n",
    "        - [知乎-全](https://zhuanlan.zhihu.com/python2018)\n",
    "        \n",
    "        - [日志-logging1](https://www.cnblogs.com/liujiacai/p/7804848.html)\n",
    "        - [日志-logging2](http://www.cnblogs.com/dkblog/archive/2011/08/26/2155018.html)\n",
    "        - [各种类型](https://foofish.net/categories.html)\n",
    "        - [基础](https://blog.csdn.net/liang19890820/article/category/6136595)\n",
    "    - 已整理\n",
    "        - [os，subprocess讲解](https://www.cnblogs.com/yyds/p/7288916.html)"
   ]
  },
  {
   "cell_type": "markdown",
   "metadata": {},
   "source": [
    "# 测试\n",
    "- 松勤：\n",
    "    - [赠送视频](https://pan.baidu.com/s/1u0_KGQ7evMILF9_wDK09dw)\n",
    "\n",
    "    - 密码：1yq0\n",
    "\n",
    "    - [课程视频](https://pan.baidu.com/s/1xQVyljDdjZX1pfwTQSiLcA)\n",
    "\n",
    "    - 密码：syw4\n",
    "\n",
    "    - 松勤播放器激活码：华芸玮21\n",
    "    - [面试题](https://github.com/jcyrss/songqin-testdev/wiki/%E6%B5%8B%E8%AF%95%E8%87%AA%E5%8A%A8%E5%8C%96%E9%9D%A2%E8%AF%95%E9%A2%98)\n",
    "\n",
    "- 其他\n",
    "    - 博客\n",
    "        - [上海-悠悠 - 全面](https://www.cnblogs.com/yoyoketang/p/6123890.html)\n",
    "        - [Anthony_tester - 全面](https://blog.csdn.net/u011541946)\n",
    "\n",
    "- appium\n",
    "    - 官方\n",
    "        - [官方api](http://appium.io/docs/en/about-appium/api/)\n",
    "        - [官方文档-中文](https://github.com/appium/appium/tree/master/docs/cn)\n",
    "        - [UIAutomator API官网](https://developer.android.google.cn/reference/android/support/test/uiautomator/UiDevice)\n",
    "        \n",
    "    - 博客\n",
    "        - [lurunxiu - 少](https://www.cnblogs.com/testlurunxiu/p/6013605.html)\n",
    "        - [yipianfeng_ye的专栏](https://blog.csdn.net/sunfengye/article/category/7118398)\n",
    "        - [杂乱-少](https://www.cnblogs.com/bendouyao/p/)\n",
    "        - [UIAutomator定位](https://www.cnblogs.com/cnkemi/p/9185253.html)\n",
    "- selenium\n",
    "    - 博客\n",
    "        - [python+selenium](https://www.cnblogs.com/mengyu/)\n",
    "        - [java/python+selenium](https://www.cnblogs.com/dieyaxianju/p/8540740.html)\n",
    "        - [eastonliu](https://www.cnblogs.com/eastonliu/category/1222465.html)\n",
    "- beautifulSoup\n",
    "    - 官方\n",
    "        - [beautifulsoup官方中文文档](https://www.crummy.com/software/BeautifulSoup/bs4/doc.zh/)\n",
    "- 接口测试\n",
    "    - requests：\n",
    "        - [官方中文文档](http://cn.python-requests.org/zh_CN/latest/)\n",
    "- jenkins\n",
    "    - 官方\n",
    "        - [官网英语](https://jenkins.io/doc/)\n",
    "        - [w3c中文](https://www.w3cschool.cn/jenkins/)\n",
    "    - 博客\n",
    "        - [少](https://blog.csdn.net/huaqiangli?t=1)\n",
    "    - 插件\n",
    "        - [介绍-运维空间](http://www.ttlsa.com/auto/jenkins-plugin-recommend/)"
   ]
  },
  {
   "cell_type": "markdown",
   "metadata": {},
   "source": [
    "# 数据分析"
   ]
  },
  {
   "cell_type": "markdown",
   "metadata": {},
   "source": [
    "# 前端文档\n",
    "- 博客\n",
    "    - [刘江的博客及教程](http://www.liujiangblog.com/course/django/2)\n",
    "    - [基于django的博客开发教程](https://juejin.im/post/59489de7128fe1006a576ddc)\n",
    "    - [自强学堂-django](https://code.ziqiangxuetang.com/django/django-intro.html)\n",
    "    - [django](https://www.zmrenwu.com/post/2/)"
   ]
  },
  {
   "cell_type": "markdown",
   "metadata": {},
   "source": [
    "# 网络\n",
    "- requests库\n",
    "    - 官方\n",
    "        - [2.18.1中文文档](http://docs.python-requests.org/zh_CN/latest/user/quickstart.html)\n",
    "- 爬虫\n",
    "    - 官方\n",
    "        - [scrapy官方教程](https://scrapy-chs.readthedocs.io/zh_CN/1.0/intro/tutorial.html)\n",
    "    - 博客\n",
    "        - [Kosmoo](https://blog.csdn.net/zwq912318834/article/details/78933910)\n",
    "        - [c406495762](https://blog.csdn.net/column/details/15321.html)"
   ]
  },
  {
   "cell_type": "markdown",
   "metadata": {},
   "source": [
    "# 邮箱"
   ]
  },
  {
   "cell_type": "markdown",
   "metadata": {},
   "source": [
    "# 其他\n",
    "- [一些python项目-有源码](https://hellogithub.com/periodical/category/Python%20%E9%A1%B9%E7%9B%AE/)\n",
    "- [练手项目](http://blog.jobbole.com/49762/)\n",
    "- [算法文字课程](https://time.geekbang.org/column/intro/126?code=o73kDIvW5e%2FOz7d3KTu0P3nTyKETIyI%2FKyfg4SKO6P0%3D)：极客时间，算法之美\n",
    "- [微信机器人](https://wxpy.readthedocs.io/zh/latest/index.html)\n",
    "- [解析器 - 英文](https://ruslanspivak.com/archives.html)\n",
    "- [项目-英文](http://www.aosabook.org/en/index.html)"
   ]
  },
  {
   "cell_type": "markdown",
   "metadata": {},
   "source": [
    "# 各大视频网站\n",
    "- [实验楼](https://www.shiyanlou.com/courses/?tag=Python)"
   ]
  },
  {
   "cell_type": "code",
   "execution_count": null,
   "metadata": {},
   "outputs": [],
   "source": []
  }
 ],
 "metadata": {
  "kernelspec": {
   "display_name": "Python 3",
   "language": "python",
   "name": "python3"
  },
  "language_info": {
   "codemirror_mode": {
    "name": "ipython",
    "version": 3
   },
   "file_extension": ".py",
   "mimetype": "text/x-python",
   "name": "python",
   "nbconvert_exporter": "python",
   "pygments_lexer": "ipython3",
   "version": "3.7.0"
  }
 },
 "nbformat": 4,
 "nbformat_minor": 2
}
