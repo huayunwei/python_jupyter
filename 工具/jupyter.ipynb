{
 "cells": [
  {
   "cell_type": "markdown",
   "metadata": {},
   "source": [
    "# jupter 基本操作"
   ]
  },
  {
   "cell_type": "markdown",
   "metadata": {},
   "source": [
    "## 安装"
   ]
  },
  {
   "cell_type": "code",
   "execution_count": null,
   "metadata": {},
   "outputs": [],
   "source": [
    "# 升级 pip\n",
    "pip3 install --upgrade pip\n",
    "\n",
    "# 安装jupyter\n",
    "pip3 install jupyter"
   ]
  },
  {
   "cell_type": "markdown",
   "metadata": {},
   "source": [
    "## 启动\n",
    "- 在哪里启动，就会显示哪个位置的文件目录树\n",
    "- 启动后，不要关闭，否则无法做操作"
   ]
  },
  {
   "cell_type": "code",
   "execution_count": null,
   "metadata": {},
   "outputs": [],
   "source": [
    "# 使用默认端口启动：8888，浏览器会默认打开，并显示jupyter页面\n",
    "jupyter notebook\n",
    "\n",
    "# 指定端口号启动\n",
    "jupyter notebook --port number\n",
    "\n",
    "# 启动但不直接开启浏览器\n",
    "jupyter noterbook --no-browser"
   ]
  },
  {
   "cell_type": "markdown",
   "metadata": {},
   "source": [
    "# jupyter 扩展 - Nbextensions\n",
    "- [官网](https://github.com/ipython-contrib/jupyter_contrib_nbextensions)"
   ]
  },
  {
   "cell_type": "markdown",
   "metadata": {},
   "source": [
    "## 安装"
   ]
  },
  {
   "cell_type": "markdown",
   "metadata": {},
   "source": [
    "- 1.安装nbextensions的python包"
   ]
  },
  {
   "cell_type": "code",
   "execution_count": null,
   "metadata": {},
   "outputs": [],
   "source": [
    "# 使用pip安装\n",
    "pip install jupyter_contrib_nbextensions\n",
    "\n",
    "# 使用conda安装\n",
    "conda install -c conda-forge jupyter_contrib_nbextensions #这个安装会自动进行第二步，所以可以跳过\n",
    "\n",
    "# 编译源代码的方式\n",
    "git clone https://github.com/ipython-contrib/jupyter_contrib_nbextensions.git\n",
    "git install -e jupyter_contrib_nbextensions"
   ]
  },
  {
   "cell_type": "markdown",
   "metadata": {},
   "source": [
    "- 2.安装javascript和css文件\n",
    "    - 步骤1：将nbextensions的javascript和css文件复制到jupyter服务器的搜索目录中\n",
    "    - 步骤2：:编辑一些jupyter配置文件：jupyter_nbconvert_config.json和jupyter_notebook_config.json"
   ]
  },
  {
   "cell_type": "code",
   "execution_count": null,
   "metadata": {},
   "outputs": [],
   "source": [
    "'''\n",
    "参数说明：\n",
    "    -- user：安装到用户的家jupyter目录中\n",
    "    -- system：在系统范围的jupyter目录中执行安装\n",
    "    -- sys-prefix：安装到python中的sys.prefix，在虚拟环境中有用，例如conda\n",
    "    -- symlink\n",
    "    -- debug：更详细的输出\n",
    "    -- only-files：安装nbextension文件而不编辑任何配置文件\n",
    "    -- only-config：编辑配置文件而不复制任何nbextension文件\n",
    "    -- perform-running-check：防止jupyter正在运行时继续安装（默认是在运行中也可以安装）\n",
    "'''\n",
    "# 安装\n",
    "jupter contrib nbextension install --user \n",
    "\n",
    "# 卸载\n",
    "jupter contrib nbextension uninstall --user"
   ]
  },
  {
   "cell_type": "markdown",
   "metadata": {},
   "source": [
    "## 扩展目录功能"
   ]
  },
  {
   "cell_type": "markdown",
   "metadata": {},
   "source": [
    "- 安装好Nbextension后，在jupyter的菜单栏中会出现Nbextensions选项\n",
    "- 进入Nbextensions后，开启Table of Contents (2)功能\n",
    "![](img/jupyter_1.png)\n",
    "![](img/jupyter_2.png)\n",
    "![](img/jupyter_3.png)"
   ]
  },
  {
   "cell_type": "markdown",
   "metadata": {},
   "source": [
    "# jupyter 主题"
   ]
  },
  {
   "cell_type": "markdown",
   "metadata": {},
   "source": [
    "- [官网地址](https://github.com/dunovank/jupyter-themes)\n",
    "- 安装：pip install jupyterthemes\n",
    "- 更新到最新版本：pip install --upgrade jupyterthemes\n",
    "- 查看已经安装的主题列表：jt -l\n",
    "- 使用指定的主题：jt -t 主题名 -T -N"
   ]
  },
  {
   "cell_type": "markdown",
   "metadata": {},
   "source": [
    "# jupyter 使用中遇到的问题"
   ]
  },
  {
   "cell_type": "markdown",
   "metadata": {},
   "source": [
    "## 1. jupyter怎么显示HTML样式"
   ]
  },
  {
   "cell_type": "code",
   "execution_count": 3,
   "metadata": {
    "code_folding": []
   },
   "outputs": [
    {
     "data": {
      "text/html": [
       "\n",
       "    <label style='color:red;'>单选框1：</label>\n",
       "    <input type='radio'>\n"
      ],
      "text/plain": [
       "<IPython.core.display.HTML object>"
      ]
     },
     "metadata": {},
     "output_type": "display_data"
    }
   ],
   "source": [
    "# 使用代码方式\n",
    "from IPython.display import HTML,display\n",
    "\n",
    "str = '''\n",
    "    <label style='color:red;'>单选框1：</label>\n",
    "    <input type='radio'>\n",
    "'''\n",
    "chart = HTML(str)\n",
    "display(chart)"
   ]
  },
  {
   "cell_type": "markdown",
   "metadata": {},
   "source": [
    "**直接使用Markdown，完美兼容html代码**\n",
    "\n",
    "<label style='color:green;'>单选框2：</label>\n",
    "<input type='radio'>"
   ]
  },
  {
   "cell_type": "code",
   "execution_count": null,
   "metadata": {},
   "outputs": [],
   "source": []
  }
 ],
 "metadata": {
  "kernelspec": {
   "display_name": "Python 3",
   "language": "python",
   "name": "python3"
  },
  "language_info": {
   "codemirror_mode": {
    "name": "ipython",
    "version": 3
   },
   "file_extension": ".py",
   "mimetype": "text/x-python",
   "name": "python",
   "nbconvert_exporter": "python",
   "pygments_lexer": "ipython3",
   "version": "3.7.0"
  },
  "toc": {
   "base_numbering": "1",
   "nav_menu": {},
   "number_sections": false,
   "sideBar": true,
   "skip_h1_title": false,
   "title_cell": "Table of Contents",
   "title_sidebar": "Contents",
   "toc_cell": false,
   "toc_position": {
    "height": "calc(100% - 180px)",
    "left": "10px",
    "top": "150px",
    "width": "252.188px"
   },
   "toc_section_display": true,
   "toc_window_display": true
  }
 },
 "nbformat": 4,
 "nbformat_minor": 2
}
