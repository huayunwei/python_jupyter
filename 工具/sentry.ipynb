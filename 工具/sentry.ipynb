{
 "cells": [
  {
   "cell_type": "markdown",
   "metadata": {},
   "source": [
    "# [sentry](https://sentry.io/)\n",
    "- 用于实时的监听、管理、解决报错"
   ]
  },
  {
   "cell_type": "markdown",
   "metadata": {},
   "source": [
    "## sentry在django中\n",
    "- 安装：pip install --upgrade 'sentry-sdk==0.10.1'\n",
    "- 在django的setting.py中进行设置"
   ]
  },
  {
   "cell_type": "code",
   "execution_count": null,
   "metadata": {},
   "outputs": [],
   "source": [
    "import sentry_sdk\n",
    "from sentry_sdk.integrations.django import DjangoIntegration\n",
    "\n",
    "sentry_sdk.init(\n",
    "    dsn=\"https://60916386730340e1be2011aded2ace2e@sentry.io/1502168\",\n",
    "    integrations=[DjangoIntegration()]\n",
    ")"
   ]
  },
  {
   "cell_type": "markdown",
   "metadata": {},
   "source": [
    "- 可以创建一个路由，用于查看报错"
   ]
  },
  {
   "cell_type": "code",
   "execution_count": null,
   "metadata": {},
   "outputs": [],
   "source": [
    "from django.urls import path\n",
    "\n",
    "def trigger_error(request):\n",
    "    division_by_zero = 1 / 0\n",
    "\n",
    "urlpatterns = [\n",
    "    path('sentry-debug/', trigger_error),\n",
    "    # ...\n",
    "]"
   ]
  },
  {
   "cell_type": "markdown",
   "metadata": {},
   "source": [
    "- 或者可以直接在官网对应的项目中查看到报错信息"
   ]
  },
  {
   "cell_type": "markdown",
   "metadata": {},
   "source": [
    "## sentry在React\n",
    "- react和react native，其中react是用来渲染PC端的，react native是渲染手机端的"
   ]
  },
  {
   "cell_type": "markdown",
   "metadata": {},
   "source": [
    "- 安装"
   ]
  },
  {
   "cell_type": "code",
   "execution_count": null,
   "metadata": {},
   "outputs": [],
   "source": [
    "# Using yarn\n",
    "$ yarn add @sentry/browser\n",
    "\n",
    "# Using npm\n",
    "$ npm install @sentry/browser"
   ]
  },
  {
   "cell_type": "markdown",
   "metadata": {},
   "source": [
    "- 链接上sentry"
   ]
  },
  {
   "cell_type": "code",
   "execution_count": null,
   "metadata": {},
   "outputs": [],
   "source": [
    "import React from 'react';\n",
    "import * as Sentry from '@sentry/browser';\n",
    "import App from 'src/App';\n",
    "\n",
    "Sentry.init({dsn: \"https://9dca3a2621504b7e84690e5e32a12253@sentry.io/1502210\"});\n",
    "\n",
    "ReactDOM.render(<App />, document.getElementById('root'));"
   ]
  }
 ],
 "metadata": {
  "kernelspec": {
   "display_name": "Python 3",
   "language": "python",
   "name": "python3"
  },
  "language_info": {
   "codemirror_mode": {
    "name": "ipython",
    "version": 3
   },
   "file_extension": ".py",
   "mimetype": "text/x-python",
   "name": "python",
   "nbconvert_exporter": "python",
   "pygments_lexer": "ipython3",
   "version": "3.7.1"
  },
  "toc": {
   "base_numbering": 1,
   "nav_menu": {},
   "number_sections": false,
   "sideBar": true,
   "skip_h1_title": false,
   "title_cell": "Table of Contents",
   "title_sidebar": "Contents",
   "toc_cell": false,
   "toc_position": {},
   "toc_section_display": true,
   "toc_window_display": false
  }
 },
 "nbformat": 4,
 "nbformat_minor": 2
}
