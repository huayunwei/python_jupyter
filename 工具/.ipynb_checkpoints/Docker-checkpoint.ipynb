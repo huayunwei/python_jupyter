{
 "cells": [
  {
   "cell_type": "markdown",
   "metadata": {},
   "source": [
    "# Docker\n",
    "- [中文教程](http://www.docker.org.cn/index.html)\n",
    "- [加速器](http://guide.daocloud.io/dcs/%20daocloud-9153151.html)"
   ]
  },
  {
   "cell_type": "markdown",
   "metadata": {},
   "source": [
    "## 介绍\n",
    "- docker是一个开源的引擎，可以轻松的为任何应用创建一个轻量级的、可移植的、自给自足的容器。\n",
    "- 容器：\n",
    "    - 在沙盒中运行的进程\n",
    "    - 这个沙盒包含了该进程运行所必须的资源，包含文件系统、系统类库、shell环境等\n",
    "    - 这个沙盒不会运行任何程序\n",
    "- 可用场景：\n",
    "    - web应用的自动化打包和发布\n",
    "    - 自动化测试和持续集成、发布\n",
    "    - 在服务型环境中部署和调整数据库或其他的后台应用\n",
    "    - 从头编译或扩展现有的OpenShift或Cloud Foundry平台来搭建自己的PaaS环境\n",
    "- docker系统：一般docker服务端和客户端运行在一台机器上\n",
    "    - docker服务端：服务进程，管理着所有的容器\n",
    "    - docker客户端：docker服务端的远程控制器，可以用来控制docker的服务端进程"
   ]
  },
  {
   "cell_type": "markdown",
   "metadata": {},
   "source": [
    "## 下载和安装\n",
    "- [下载地址](https://www.docker.com/get-started)"
   ]
  },
  {
   "cell_type": "markdown",
   "metadata": {},
   "source": [
    "### windows下的安装\n",
    "- 64位windows 10 系统，推荐安装Docker for windows\n",
    "- 不是的，下载[Docker Toolbox](https://docs.docker.com/toolbox/)"
   ]
  },
  {
   "cell_type": "markdown",
   "metadata": {},
   "source": [
    "## 使用\n",
    "- 注意在登录到windows桌面版时，账号需要用账号名而不能是邮箱，否则在pull时会报账号和密码错误"
   ]
  },
  {
   "cell_type": "markdown",
   "metadata": {},
   "source": [
    "### 查看目前运行的用户ID"
   ]
  },
  {
   "cell_type": "code",
   "execution_count": null,
   "metadata": {},
   "outputs": [],
   "source": [
    "docker ps -l"
   ]
  },
  {
   "cell_type": "markdown",
   "metadata": {},
   "source": [
    "### 搜索可用的镜像\n",
    "- Docker官方网站专门有一个页面来存储所有可用的镜像，[网址](https://hub.docker.com/search?image_filter=official&type=image)"
   ]
  },
  {
   "cell_type": "code",
   "execution_count": null,
   "metadata": {},
   "outputs": [],
   "source": [
    "# 使用命令行来检索名字叫tutorial的镜像\n",
    "docker search 镜像名字"
   ]
  },
  {
   "cell_type": "markdown",
   "metadata": {},
   "source": [
    "### 下载镜像"
   ]
  },
  {
   "cell_type": "code",
   "execution_count": null,
   "metadata": {},
   "outputs": [],
   "source": [
    "docker pull 镜像名"
   ]
  },
  {
   "cell_type": "markdown",
   "metadata": {},
   "source": [
    "### 运行程序"
   ]
  },
  {
   "cell_type": "code",
   "execution_count": null,
   "metadata": {},
   "outputs": [],
   "source": [
    "# docker run 镜像名 在镜像中运行的命令\n",
    "docker run learn/tutorial echo \"hello world\""
   ]
  },
  {
   "cell_type": "markdown",
   "metadata": {},
   "source": [
    "### 安装程序"
   ]
  },
  {
   "cell_type": "code",
   "execution_count": null,
   "metadata": {},
   "outputs": [],
   "source": [
    "# 以ubuntu的apt-get命令为例\n",
    "docker run learn/tutorial apt-get install -y ping"
   ]
  },
  {
   "cell_type": "markdown",
   "metadata": {},
   "source": [
    "### 保存对容器的修改\n",
    "- 当你对某个容器做了修改之后，可以把对容器的修改保存下来，这样下次可以从保存后的最新状态运行该容器"
   ]
  },
  {
   "cell_type": "code",
   "execution_count": null,
   "metadata": {},
   "outputs": [],
   "source": [
    "# 运行docker commit ，可以查看该命令的参数列表\n",
    "# 无需拷贝完整的id，通常最开始的三至四个字母即可区分\n",
    "docker commit 698 learn/ping\n",
    "# 执行完毕之后，会返回新版本镜像的id号"
   ]
  },
  {
   "cell_type": "markdown",
   "metadata": {},
   "source": [
    "### 运行新的镜像"
   ]
  },
  {
   "cell_type": "code",
   "execution_count": null,
   "metadata": {},
   "outputs": [],
   "source": [
    "docker run lean/ping ping www.google.com"
   ]
  },
  {
   "cell_type": "markdown",
   "metadata": {},
   "source": [
    "### 检查运行中的镜像\n",
    "- docker ps命令：查看所有正在运行中的容器列表\n",
    "- docker inspect命令：查看更详细的关于某一个容器的信息"
   ]
  },
  {
   "cell_type": "code",
   "execution_count": null,
   "metadata": {},
   "outputs": [],
   "source": [
    "docker inspect 容器id"
   ]
  },
  {
   "cell_type": "markdown",
   "metadata": {},
   "source": [
    "### 发布镜像\n",
    "- docker images：列出所有安装过的镜像\n",
    "- docker push：将某个镜像发布到官方网站"
   ]
  },
  {
   "cell_type": "code",
   "execution_count": null,
   "metadata": {},
   "outputs": [],
   "source": [
    "docker push 镜像名字"
   ]
  }
 ],
 "metadata": {
  "kernelspec": {
   "display_name": "Python 3",
   "language": "python",
   "name": "python3"
  },
  "language_info": {
   "codemirror_mode": {
    "name": "ipython",
    "version": 3
   },
   "file_extension": ".py",
   "mimetype": "text/x-python",
   "name": "python",
   "nbconvert_exporter": "python",
   "pygments_lexer": "ipython3",
   "version": "3.7.0"
  },
  "toc": {
   "base_numbering": 1,
   "nav_menu": {},
   "number_sections": false,
   "sideBar": true,
   "skip_h1_title": false,
   "title_cell": "Table of Contents",
   "title_sidebar": "Contents",
   "toc_cell": false,
   "toc_position": {},
   "toc_section_display": true,
   "toc_window_display": false
  }
 },
 "nbformat": 4,
 "nbformat_minor": 2
}
