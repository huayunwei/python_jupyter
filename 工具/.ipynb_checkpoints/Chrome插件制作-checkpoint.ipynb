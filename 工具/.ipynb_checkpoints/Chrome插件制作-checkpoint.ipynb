{
 "cells": [
  {
   "cell_type": "markdown",
   "metadata": {},
   "source": [
    "# Chrome插件制作"
   ]
  },
  {
   "cell_type": "markdown",
   "metadata": {},
   "source": [
    "## Chrome插件（即Chrome扩展）\n",
    "- chrome插件是更底层的浏览器功能扩展，可能需要对浏览器代码有一定掌握才有能力去开发，不过chrome插件的叫法已经习惯，所以统一将扩展叫为插件\n",
    "- chrome插件是一个用web技术开发、用来增强浏览器功能的软件，它其实就是一个由HTML，CSS，JS，图片等资源组成的一个.crx后缀的压缩包"
   ]
  },
  {
   "cell_type": "markdown",
   "metadata": {},
   "source": [
    "## manifest.json\n",
    "- 一个Chrome插件最重要也是必不可少的文件，用来配置所有和插件相关的配置，必须放在根目录\n",
    "- 必须参数\n",
    "    - manifest_version\n",
    "    - name\n",
    "    - version\n",
    "- 推荐\n",
    "    - description\n",
    "    - icons"
   ]
  },
  {
   "cell_type": "code",
   "execution_count": null,
   "metadata": {},
   "outputs": [],
   "source": [
    "# 基本内容\n",
    "{\n",
    "    //清单文件的版本\n",
    "    \"manifest_version\":2,\n",
    "    //插件的名称\n",
    "    \"name\":\"demo\",\n",
    "    //插件的版本\n",
    "    \"version\":\"1.0.0\",\n",
    "    //插件的描述\n",
    "    \"description\":\"简单的chrome扩展demo\",\n",
    "    //图标，一般偷懒全部用一个尺寸的也没问题\n",
    "    \"icons\":{\n",
    "        \"16\":\"\",\n",
    "        \"48\":\"\",\n",
    "        \"128\":\"\"\n",
    "    },\n",
    "    \"background\":{\n",
    "        //2种指定方式，如果指定JS，会自动生成一个背景页\n",
    "        \"page\":\"background.html\",\n",
    "        //\"scripts\":[\"js/background.js\"]\n",
    "    },\n",
    "    //浏览器右上角图标设置：browser_action、page_action、app必须三选一\n",
    "    \"browser_action\":{\n",
    "        \"default_icon\":\"img/icon.png\",\n",
    "        //图标悬停时的标题，可选\n",
    "        \"default_title\":\"这是一个实例Chrome插件\",\n",
    "        \"default_popup\":\"popup.html\"\n",
    "    },\n",
    "    //当某些特定页面打开才显示的图标\n",
    "    /*\n",
    "    \"page_action\":{\n",
    "        \"default_icon\":\"img/icon.png\",\n",
    "        \"default_title\":\"我是一个pageAction\",\n",
    "        \"default_popup\":\"popup.html\"\n",
    "    }\n",
    "    */\n",
    "    //需要直接注入页面的JS\n",
    "    \"content_scripts\":[\n",
    "        {\n",
    "            //\"matches\":[\"http://*/*\",\"https://*/*\"],\n",
    "            //\"<all_urls>\"表示匹配所有地址\n",
    "            \"mathces\":[\"<all_urls>\"],\n",
    "            //多个JS按顺序注入\n",
    "            \"js\":[\"js/query-1.8.3.js\",\"js/content-script.js\"],\n",
    "            \"css\":[\"css/custom.css\"],\n",
    "            \"run_at\":\"document_start\"\n",
    "        },\n",
    "        //仅为演示contetn-script可以匹配多个规则\n",
    "        {\n",
    "            \"matches\":[\"*://*/*.png\",\"*://*/*.jpg\",\"*://*/*.gif\",\"*://*/*.bmp\"],\n",
    "            \"js\":[\"js/show-image-content-size.js\"]\n",
    "        }\n",
    "    ],\n",
    "    //权限申请\n",
    "    \"permissions\":\n",
    "    [\n",
    "        \"contextMenus\",//右键菜单\n",
    "        \"tabs\",//标签\n",
    "        \"notifications\",//通知\n",
    "        \"webRequest\",//web请求\n",
    "        \"webRequestBlocking\",\n",
    "        \"storage\",//插件本地存储\n",
    "        \"http://*/*\",//可以通过execiteScript或者insertCss访问的网站\n",
    "        \"https://*/*\"//可以通过execiteScript或者insertCss访问的网站\n",
    "    ],\n",
    "    // 普通页面能够直接访问的插件资源列表，如果不设置是无法直接访问\n",
    "    \"web_accessible_resources\":[\"js/inject.js\"],\n",
    "    // 插件主页\n",
    "    \"homepage_url\":\"https://www.baidu.com\",\n",
    "    // 覆盖浏览器默认页面\n",
    "    \"chrome_url_overriders\":{\n",
    "        //覆盖浏览器默认的新标签页\n",
    "        \"newtab\":\"newtab.html\"\n",
    "    },\n",
    "    // chrome40以后的插件配置页写法\n",
    "    \"options_ui\":{\n",
    "        \"page\":\"options.html\",\n",
    "        //添加一些默认的样式，推荐使用\n",
    "        \"chrome_style\":true\n",
    "    },\n",
    "    //向地址栏注册一个关键字以提供搜索建议，只能设置一个关键字\n",
    "    \"omnibox\":{\"keyword\":\"go\"},\n",
    "    // 默认语言\n",
    "    \"default_locale\":\"zh_CN\",\n",
    "    // devtools页面入口，注意只能指向一个HTML文件，不能是JS文件\n",
    "    \"devtools_page\":\"devtools.html\"\n",
    "}"
   ]
  },
  {
   "cell_type": "markdown",
   "metadata": {},
   "source": [
    "### content-scripts\n",
    "- 向页面注入js和css\n",
    "- 和原始页面共享DOM，但是不共享JS\n",
    "- 不能访问绝大部分chrome.xxx.api，除了下面几种：\n",
    "    - chrome.extension(getURL,inIncognitoContext,lastError,onReuqest,sendRequest)\n",
    "    - chrome.i18n\n",
    "    - chrome.runtime(connect,getManifest,getURL,id,onConnect,onMessage,sendMessage)\n",
    "    - chrome.storage"
   ]
  },
  {
   "cell_type": "code",
   "execution_count": null,
   "metadata": {},
   "outputs": [],
   "source": [
    "{\n",
    "    //\"matches\"：[\"http://*/*\",\"https://*/*\"],\n",
    "    //\"<all_urls>\"：表示匹配所有地址\n",
    "    \"matches\":[\"<all_urls>\"],\n",
    "    // 多个JS按顺序注入\n",
    "    \"js\":[\"js/jquery-1.8.3.js\",\"js/content-script.js\"],\n",
    "    //css，小心不要影响全局布局\n",
    "    \"css\":[\"css/custom.css\"],\n",
    "    //代码注入的时间，可选值：\"document_start\",\"document_end\",\"document_idle\"，最后一个表示页面空闲时，默认为document_idle\n",
    "    \"run_at\":\"document_start\"\n",
    "}"
   ]
  },
  {
   "cell_type": "markdown",
   "metadata": {},
   "source": [
    "### background\n",
    "- 一个常驻页面，它的生命周期是插件中所有类型页面中最长的，它随着浏览器的打开而打开，随着浏览器的关闭而关闭\n",
    "- 把需要一直运行的、启动就运行的、全局的代码放在background里面\n",
    "- 权限很高，几乎可以调用所有的Chrome扩展API，而且它可以无限制跨域"
   ]
  },
  {
   "cell_type": "code",
   "execution_count": null,
   "metadata": {},
   "outputs": [],
   "source": [
    "{\n",
    "    // 会一直常驻的后台JS或后台页面\n",
    "    \"background\":\n",
    "    {\n",
    "        // 2种指定方式，如果指定JS，那么会自动生成一个背景页\n",
    "        \"page\": \"background.html\"\n",
    "        //\"scripts\": [\"js/background.js\"]\n",
    "    },\n",
    "}"
   ]
  },
  {
   "cell_type": "markdown",
   "metadata": {},
   "source": [
    "### event-pages\n",
    "- 由于background生命周期太长，长时间挂载后台可能会影响性能，所以出现了evnet-pages\n",
    "- 生命周期为：需要时加载，在空闲时被关闭"
   ]
  },
  {
   "cell_type": "code",
   "execution_count": null,
   "metadata": {},
   "outputs": [],
   "source": [
    "{\n",
    "    \"background\":\n",
    "    {\n",
    "        \"scripts\": [\"event-page.js\"],\n",
    "        \"persistent\": false\n",
    "    },\n",
    "}"
   ]
  },
  {
   "cell_type": "markdown",
   "metadata": {},
   "source": [
    "### popup\n",
    "- 点击browser_action或page_action图标时打开一个小窗口页面，焦点离开网页立即关闭，一般用来做一些临时性的交互\n",
    "- popup可以包含任意你想要的HTML内容，并且会自适应大小\n",
    "- 可以通过default_popup字段来指定popup页面或调用setPopup()方法"
   ]
  },
  {
   "cell_type": "code",
   "execution_count": null,
   "metadata": {},
   "outputs": [],
   "source": [
    "{\n",
    "    \"browser_action\":\n",
    "    {\n",
    "        \"default_icon\": \"img/icon.png\",\n",
    "        // 图标悬停时的标题，可选\n",
    "        \"default_title\": \"这是一个示例Chrome插件\",\n",
    "        \"default_popup\": \"popup.html\"\n",
    "    }\n",
    "}"
   ]
  },
  {
   "cell_type": "markdown",
   "metadata": {},
   "source": [
    "### injected-script\n",
    "- content-script无法访问页面中的JS，可以操作DOM，但是DOM不能调用它，即无法在DOM中通过绑定事件的方式调用content-script中的代码\n",
    "- content-script中通过DOM方式向页面注入inject-script的代码如下"
   ]
  },
  {
   "cell_type": "code",
   "execution_count": null,
   "metadata": {},
   "outputs": [],
   "source": [
    "// 向页面注入JS,inject.js文件\n",
    "function injectCustomJs(jsPath)\n",
    "{\n",
    "    jsPath = jsPath || 'js/inject.js';\n",
    "    var temp = document.createElement('script');\n",
    "    temp.setAttribute('type', 'text/javascript');\n",
    "    // 获得的地址类似：chrome-extension://ihcokhadfjfchaeagdoclpnjdiokfakg/js/inject.js\n",
    "    temp.src = chrome.extension.getURL(jsPath);\n",
    "    temp.onload = function()\n",
    "    {\n",
    "        // 放在页面不好看，执行完后移除掉\n",
    "        this.parentNode.removeChild(this);\n",
    "    };\n",
    "    document.head.appendChild(temp);\n",
    "}"
   ]
  },
  {
   "cell_type": "code",
   "execution_count": null,
   "metadata": {},
   "outputs": [],
   "source": [
    "//并且在manifest.json文件中配置如下参数\n",
    "{\n",
    "    \"web_accessible_resources\":[\"js/inject.js\"]\n",
    "}"
   ]
  },
  {
   "cell_type": "markdown",
   "metadata": {},
   "source": [
    "### chrome插件8中展示形式"
   ]
  },
  {
   "cell_type": "markdown",
   "metadata": {},
   "source": [
    "#### browserAction - 浏览器右上角\n",
    "- 配置browser_action参数"
   ]
  },
  {
   "cell_type": "code",
   "execution_count": null,
   "metadata": {},
   "outputs": [],
   "source": [
    "\"browser_action\":{\n",
    "    /*\n",
    "        图标：推荐使用宽高都为19像素的图片，格式一般推荐png\n",
    "        配置default_icon字段配置，或者调用setIcon()方法都行\n",
    "    */\n",
    "    \"default_icon\":\"img/icon.png\",\n",
    "    //图标悬停时的标题，可选\n",
    "    \"default_title\":\"这是一个实例Chrome插件\", #或者调用setTitle()方法\n",
    "    \"default_popup\":\"popup.html\"\n",
    "}"
   ]
  },
  {
   "cell_type": "code",
   "execution_count": null,
   "metadata": {},
   "outputs": [],
   "source": [
    "/*\n",
    "    badge：图标上显示的一些文本，可以用来更新一些小的扩展状态提示信息\n",
    "            只能支持4个以下的字符（英文4个，中文2个）\n",
    "            不能使用配置文件置顶，需要通过代码实现\n",
    "*/\n",
    "# 设置badge的文字\n",
    "chrome.browserAction.setBadgeText({text:'new'})\n",
    "# 设置badge的颜色\n",
    "chrome.browserAction.setBadgeBackgroundColor({color:[255,0,0,255]})"
   ]
  },
  {
   "cell_type": "markdown",
   "metadata": {},
   "source": [
    "#### pageAction(地址栏右侧)\n",
    "- 当某些特定页面打开才显示的图标，和browserAction最大的区别是一个始终都显示，一个只在特定情况才显示"
   ]
  },
  {
   "cell_type": "code",
   "execution_count": null,
   "metadata": {},
   "outputs": [],
   "source": [
    "'''\n",
    "chrome.pageAction.show(tabld)：显示图标\n",
    "chrome.pageAction.hide(tabld)：隐藏图标\n",
    "'''\n",
    "manifest.json\n",
    "{\n",
    "    \"page_action\":{\n",
    "        \"default_icon\":\"img/icon.png\",\n",
    "        \"default_title\":\"我是pageAction\",\n",
    "        \"default_popup\":\"popup.html\"\n",
    "    }\n",
    "}\n",
    "\n",
    "//background.js文件\n",
    "chrome.runtime.onInstalled.addListener(function(){\n",
    "    chrome.declarativeContent.onPageChanged.removeRules(undefined,function(){\n",
    "        chrome.declarativeContent.onPageChanged.addRules([\n",
    "            {\n",
    "                conditions:[\n",
    "                    //只有打开百度才显示pageAction\n",
    "                    new chrome.declarativeContent.PageStateMatcher({\n",
    "                        pageUrl:{\n",
    "                            urlContains:'baidu.com'\n",
    "                        }\n",
    "                    })\n",
    "                ],\n",
    "                actions:[new chrome.declarativeContent.ShowPageAction()]\n",
    "            }\n",
    "        ]);\n",
    "    });\n",
    "});"
   ]
  },
  {
   "cell_type": "markdown",
   "metadata": {},
   "source": [
    "#### 右键菜单\n",
    "- 通过chrome.contextMenus API实现，右键菜单可以出现在不同的上下文\n",
    "- 如果有同一个插件里面定义了多个菜单，Chrome会自动组合放到以插件名称命名的二级菜单里"
   ]
  },
  {
   "cell_type": "code",
   "execution_count": null,
   "metadata": {},
   "outputs": [],
   "source": [
    "chrome.contextMenus.create({\n",
    "    type:'nromal', //类型，可选：['normal','checkbox','radio','separator']默认normal\n",
    "    title:'菜单的名字', \n",
    "    /*\n",
    "        显示的文字，除非为\"separator\"类型否则此参数必需，如果类型为selection,\n",
    "        可以使用%s显示选定的文本\n",
    "    */\n",
    "    contexts:['page'], \n",
    "    /*\n",
    "        上下文环境，可选:\n",
    "        [\"all\",\"page\",\"frame\",\"selection\",\"link\",\"editable\",\"image\",\"video\",\"audio\"]\n",
    "        默认为page\n",
    "    */\n",
    "    onclick:function(){},//单击时触发的方法\n",
    "    parentId:1, //右键菜单项的父菜单项ID，指定父菜单项将会使此菜单项成为父菜单项的子菜单\n",
    "    documentUrlPatterns:'https://*.baidu.com/*' //只在某些页面显示此右键菜单\n",
    "})\n",
    "\n",
    "chrome.contextMenus.remove(menuItemId) //删除某一个菜单项\n",
    "\n",
    "chrome.contextMenus.removeAll() //删除所有自定义右键菜单\n",
    "\n",
    "chrome.contextMenus.update(menuItemId,updateProperties) //更新某一个菜单项"
   ]
  },
  {
   "cell_type": "code",
   "execution_count": null,
   "metadata": {},
   "outputs": [],
   "source": [
    "// manifest.json\n",
    "{\"permissions\":[\"contextMenus\"]}\n",
    "\n",
    "//background.js\n",
    "chrome.contextMenus.create({\n",
    "    title:\"测试右键菜单\",\n",
    "    onclick:function(){alert('你点击了右键菜单！');}\n",
    "})"
   ]
  },
  {
   "cell_type": "code",
   "execution_count": null,
   "metadata": {},
   "outputs": [],
   "source": [
    "# 添加右键百度搜索\n",
    "//manifest.json\n",
    "{\"permissions\":[\"contextMenus\",\"tabs\"]}\n",
    "\n",
    "//background.js\n",
    "chrome.contextMenus.create({\n",
    "    title:'使用度娘搜索：%s', //%s表示选中的文字\n",
    "    contexts:['selection'],//只有当选中文字时才会出现右键菜单\n",
    "    onclick:function(params){\n",
    "        chrome.tabs.create({\n",
    "            url:'https://www.baidu.com/s?ie=utf-8&wd='+encodeURI(params.selectionText)\n",
    "        })\n",
    "    }\n",
    "})"
   ]
  },
  {
   "cell_type": "markdown",
   "metadata": {},
   "source": [
    "#### override：覆盖特定页面\n",
    "- overrider页可以将Chrome默认的一些特定页面替换掉，改为使用扩展提供的页面\n",
    "- 扩展可以替代如下页面\n",
    "    - 历史记录\n",
    "    - 新标签页\n",
    "    - 书签\n",
    "- 注：\n",
    "    - 一个扩展只能替代一个页面\n",
    "    - 不能替代隐身窗口的新标签页\n",
    "    - 网页必须设置title，否则用户可能会看到页面URL，造成困扰"
   ]
  },
  {
   "cell_type": "code",
   "execution_count": null,
   "metadata": {},
   "outputs": [],
   "source": [
    "\"chrome_url_overrides\":\n",
    "{\n",
    "    \"newtab\":\"newtab.html\",\n",
    "    \"history\":\"history.html\",\n",
    "    \"bookmarks\":\"bookmarks.html\"\n",
    "}"
   ]
  },
  {
   "cell_type": "markdown",
   "metadata": {},
   "source": [
    "#### devtools - 开发者工具\n",
    "- 自定义一个或多个和Elements，Console，Sources等同级别的面板\n",
    "- 自定义侧边栏（sidebar），目前只能自定义Elements面板的侧边栏\n",
    "- devtools页面可以访问一组特有的DevTools API以及优先的扩展API，这组特有的DevTools API只有devtools页面才可以访问\n",
    "    - chrome.devtools.panels：面板相关\n",
    "    - chrome.devtools.inspectedWindow：获取被审查窗口的有关消息\n",
    "    - chrome.devtools.network：获取有关网络请求的信息"
   ]
  },
  {
   "cell_type": "code",
   "execution_count": null,
   "metadata": {},
   "outputs": [],
   "source": [
    "# manifest.json文件\n",
    "{\n",
    "    # 只能指向一个HTML文件，不能是JS文件\n",
    "    \"devtools_page\":\"devtools.html\"\n",
    "}\n",
    "\n",
    "# devtools.html文件：只引入一个js，其他内容一般都没有\n",
    "<html>\n",
    "    <head></head>\n",
    "    <body>\n",
    "        <script type=\"text/javascript\" src=\"js/devtools.js\"></script>\n",
    "    </body>\n",
    "</html>\n",
    "\n",
    "# devtools.js代码\n",
    "# 创建自定义面板，同一个插件可以创建多个自定义面板\n",
    "chrome.devtools.panels.create('MyPanel','img/icon.png','mypanel.html',function(panel){\n",
    "    # 参数1：panel标题\n",
    "    # 参数2：图标\n",
    "    # 参数3：要加载的页面\n",
    "    # 参数4：加载成功后的回调\n",
    "    console.log(\"自定义面板创建成功\") # 这个log一般看不到\n",
    "})\n",
    "\n",
    "# 创建自定义侧边栏\n",
    "chrome.devtools.panels.elements.createSidebarPane(\"Images\",function(sidebar){\n",
    "    # sidebar.setPage('../sidebar.html'); //指定加载某个页面\n",
    "    sidebar.setExpression('document.querySelectorAll(\"img\")','All Images');//通过表达式来指定\n",
    "    # sidebar.setObject({aaa:111,bbb:'xxxx'}) // 直接设置显示某个对象\n",
    "})\n",
    "\n",
    "# 一些方法\n",
    "# 检测jQuery\n",
    "document.getElementById('check_jquery').addEventListener('click',function(){\n",
    "    # 访问被检查的页面DOM需要使用inspectedWindow\n",
    "    # 例：检测被检查页面是否使用了jQuery\n",
    "    chrome.devtools.inspectedWindow.eval(\"jQuery.fn.jquery\",function(result,isException){\n",
    "        var html = '';\n",
    "        if (isException) html = '当前页面没有使用jQuery';\n",
    "        else html = '当前页面使用了jQuery，版本为：+result'\n",
    "        alert(html)\n",
    "    });\n",
    "});\n",
    "\n",
    "# 打开某个资源\n",
    "document.getElementById('open_resource').addEventListener('click',function(){\n",
    "    chrome.devtools.inspectedWindow.eval(\"window.location.href\",function(result,isException){\n",
    "        chrome.devtools.panels.openResource(result,20,function(){\n",
    "            console.log('资源打开成功！');\n",
    "        })\n",
    "    })\n",
    "})\n",
    "\n",
    "# 审查元素\n",
    "document.getElementById('test_inspect').addEventListener('click',function(){\n",
    "    chrome.devtools.inspectedWindow.eval(\"inspect(document.images[0])\",function(result,isException){})\n",
    "})\n",
    "\n",
    "# 获取所有元素\n",
    "document.getElementById('get_all_resources').addEventListener('click',function(){\n",
    "    chrome.devtools.inspectedWindow.getResources(function(resources){\n",
    "        alert(JSON.stringify(resources));\n",
    "    })\n",
    "})"
   ]
  },
  {
   "cell_type": "markdown",
   "metadata": {},
   "source": [
    "#### option：选项页"
   ]
  },
  {
   "cell_type": "code",
   "execution_count": null,
   "metadata": {},
   "outputs": [],
   "source": [
    "# options中不能使用alert\n",
    "# 数据存储建议用chrome.storage,可以随用户自动同步\n",
    "{\n",
    "    \"options_ui\":\n",
    "        {\n",
    "            \"page\":\"options.html\",\n",
    "            //添加一些默认的样式，推荐使用\n",
    "            \"chrome_style\":true\n",
    "        }\n",
    "}"
   ]
  },
  {
   "cell_type": "markdown",
   "metadata": {},
   "source": [
    "#### omnibox：向用户提供搜索建议的一种方式\n",
    "- 注册某个关键字以触发插件自己的搜索建议界面"
   ]
  },
  {
   "cell_type": "code",
   "execution_count": null,
   "metadata": {},
   "outputs": [],
   "source": [
    "{\n",
    "    \"omnibox\":{\"keyword\":\"go\"}\n",
    "}\n",
    "\n",
    "# background.js\n",
    "chrome.omnibox.onInputChanged.addListener((text,suggest)=>{\n",
    "    console.log(\"inputChanged\"+text);\n",
    "    if(!text) return;\n",
    "    if(text == '美女'){\n",
    "        suggest([\n",
    "            {content:'中国' + text,description:'你要找\"中国美女吗\"'}，\n",
    "            ,,,,,,\n",
    "        ])\n",
    "    }\n",
    "    else if (text == '微博'){\n",
    "        suggest([\n",
    "            {content:'新浪' + text ,description:'新浪'+text}\n",
    "            ......\n",
    "        ])\n",
    "    }else{\n",
    "        suggest([\n",
    "            {content:'报读搜索'+text,description:'百度搜索'+text}\n",
    "        ])\n",
    "    }\n",
    "})\n",
    "\n",
    "//当用户接收关键字建议时触发\n",
    "chrome.omnibox.onInputEntered.addListener((text)=>{\n",
    "    console.log('inputEntered:'+text)\n",
    "    if(!text) return;\n",
    "    var href = '';\n",
    "    if(text.endsWith('美女')) href='xxxx'\n",
    "    else if(text.startsWith('百度搜索')) href=''\n",
    "    else href = 'xxxx'\n",
    "    openUrlCurrentTab(href);\n",
    "});\n",
    "\n",
    "//获取当前选项卡ID\n",
    "function getCurrentTabId(callback){\n",
    "    chrome.tabs.query({\n",
    "        active:true,\n",
    "        currentWindow:true\n",
    "    },function(tabs){\n",
    "       if(callback) callback(tabs.length?tabs[0].id:null) \n",
    "    });\n",
    "}\n",
    "\n",
    "//当前标签打开某个链接\n",
    "function openUrlCurrentTab(url){\n",
    "    getCurrentTabId(tabId =>{\n",
    "        chrome.tabs.update(tabId,{url:url})\n",
    "    })\n",
    "}"
   ]
  },
  {
   "cell_type": "markdown",
   "metadata": {},
   "source": [
    "#### 桌面通知\n",
    "- chrome.notifications API"
   ]
  },
  {
   "cell_type": "code",
   "execution_count": null,
   "metadata": {},
   "outputs": [],
   "source": [
    "chrome.notifications.create(null,{\n",
    "    type:'basic',\n",
    "    iconUrl:'img/icon.png',\n",
    "    title:'这是标题',\n",
    "    message:'您刚才点击自定义右键菜单'\n",
    "})"
   ]
  }
 ],
 "metadata": {
  "kernelspec": {
   "display_name": "Python 3",
   "language": "python",
   "name": "python3"
  },
  "language_info": {
   "codemirror_mode": {
    "name": "ipython",
    "version": 3
   },
   "file_extension": ".py",
   "mimetype": "text/x-python",
   "name": "python",
   "nbconvert_exporter": "python",
   "pygments_lexer": "ipython3",
   "version": "3.7.1"
  },
  "toc": {
   "base_numbering": 1,
   "nav_menu": {},
   "number_sections": false,
   "sideBar": true,
   "skip_h1_title": false,
   "title_cell": "Table of Contents",
   "title_sidebar": "Contents",
   "toc_cell": false,
   "toc_position": {
    "height": "calc(100% - 180px)",
    "left": "10px",
    "top": "150px",
    "width": "182.62px"
   },
   "toc_section_display": true,
   "toc_window_display": true
  }
 },
 "nbformat": 4,
 "nbformat_minor": 2
}
