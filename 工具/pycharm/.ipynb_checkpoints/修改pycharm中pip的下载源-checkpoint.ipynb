{
 "cells": [
  {
   "cell_type": "markdown",
   "metadata": {},
   "source": [
    "# pip下载源\n",
    "- 国内的pip源：清华: https://pypi.tuna.tsinghua.edu.cn/simple\n",
    "- 设置方式\n",
    "    - 进入settings界面\n",
    "        ![](img/1.png)\n",
    "    - 进入Project Interpreter后，点击加号按钮\n",
    "        ![](img/2.png)\n",
    "    - 点击Manage Repositories\n",
    "        ![](img/3.png)"
   ]
  }
 ],
 "metadata": {
  "kernelspec": {
   "display_name": "Python 3",
   "language": "python",
   "name": "python3"
  },
  "language_info": {
   "codemirror_mode": {
    "name": "ipython",
    "version": 3
   },
   "file_extension": ".py",
   "mimetype": "text/x-python",
   "name": "python",
   "nbconvert_exporter": "python",
   "pygments_lexer": "ipython3",
   "version": "3.7.0"
  }
 },
 "nbformat": 4,
 "nbformat_minor": 2
}
