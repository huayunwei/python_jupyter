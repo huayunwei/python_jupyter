{
 "cells": [
  {
   "cell_type": "markdown",
   "metadata": {},
   "source": [
    "# JVM报错\n",
    "- 报错如下图时\n",
    "![](img/4.png)\n",
    "- 解决办法\n",
    "    - 在官网（ https://www.oracle.com/index.html ）下载安装JDK\n",
    "    - 配置环境\n",
    "        - 新建->变量名\"JAVA_HOME\"，变量值\"C:\\Java\\jdk1.8.0_05\"（即JDK的安装路径） \n",
    "        - 编辑->变量名\"Path\"，值：“;%JAVA_HOME%\\bin;%JAVA_HOME%\\jre\\bin” \n",
    "        - 新建->变量名“CLASSPATH”，“.;%JAVA_HOME%\\lib;%JAVA_HOME%\\lib\\dt.jar;%JAVA_HOME%\\lib\\tools.jar”\n",
    "    - 配置检查\n",
    "        - 输入 java,javac,java -version命令"
   ]
  }
 ],
 "metadata": {
  "kernelspec": {
   "display_name": "Python 3",
   "language": "python",
   "name": "python3"
  },
  "language_info": {
   "codemirror_mode": {
    "name": "ipython",
    "version": 3
   },
   "file_extension": ".py",
   "mimetype": "text/x-python",
   "name": "python",
   "nbconvert_exporter": "python",
   "pygments_lexer": "ipython3",
   "version": "3.7.0"
  }
 },
 "nbformat": 4,
 "nbformat_minor": 2
}
