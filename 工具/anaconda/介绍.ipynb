{
 "cells": [
  {
   "cell_type": "markdown",
   "metadata": {},
   "source": [
    "# 介绍"
   ]
  },
  {
   "cell_type": "markdown",
   "metadata": {},
   "source": [
    "- Anaconda是Python的包管理器和环境管理器\n",
    "- 优点：\n",
    "    - Anaconda附带了一大批常用数据科学包，它附带了conda，python和150多个科学包及其依赖项\n",
    "    - 管理包，conda（包管理器）可以很好的帮助你在计算机上安装和管理这些包，包括安装、卸载、更新包\n",
    "    - 管理环境："
   ]
  },
  {
   "cell_type": "code",
   "execution_count": null,
   "metadata": {},
   "outputs": [],
   "source": [
    "https://mirrors.tuna.tsinghua.edu.cn/help/anaconda/：清华镜像\n",
    "    \n",
    "报错：https://github.com/conda/conda/issues/6064\n",
    "    \n",
    "https://www.anaconda.com/download/#windows\n",
    "    \n",
    "https://www.jianshu.com/p/eaee1fadc1e9\n",
    "\n",
    "https://www.jianshu.com/p/169403f7e40c\n",
    "\n",
    "https://www.jianshu.com/p/62f155eb6ac5"
   ]
  }
 ],
 "metadata": {
  "kernelspec": {
   "display_name": "Python 3",
   "language": "python",
   "name": "python3"
  },
  "language_info": {
   "codemirror_mode": {
    "name": "ipython",
    "version": 3
   },
   "file_extension": ".py",
   "mimetype": "text/x-python",
   "name": "python",
   "nbconvert_exporter": "python",
   "pygments_lexer": "ipython3",
   "version": "3.7.2"
  },
  "toc": {
   "base_numbering": 1,
   "nav_menu": {},
   "number_sections": false,
   "sideBar": true,
   "skip_h1_title": false,
   "title_cell": "Table of Contents",
   "title_sidebar": "Contents",
   "toc_cell": false,
   "toc_position": {},
   "toc_section_display": true,
   "toc_window_display": false
  }
 },
 "nbformat": 4,
 "nbformat_minor": 2
}
