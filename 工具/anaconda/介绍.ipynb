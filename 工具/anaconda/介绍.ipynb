{
 "cells": [
  {
   "cell_type": "markdown",
   "metadata": {},
   "source": [
    "# 介绍"
   ]
  },
  {
   "cell_type": "markdown",
   "metadata": {},
   "source": [
    "## 什么是Anaconda\n",
    "- 专注于数据分析的Python发行版本，包含了conda、Python等190多个科学包及其依赖项"
   ]
  },
  {
   "cell_type": "markdown",
   "metadata": {},
   "source": [
    "## 什么是conda\n",
    "- 开源包和虚拟环境的管理系统"
   ]
  },
  {
   "cell_type": "markdown",
   "metadata": {},
   "source": [
    "### 包管理\n",
    "- 可以使用conda来安装、更新、卸载工具包，并且它更关注与数据科学相关的工具包\n",
    "- 不仅仅管理python的工具包，也能安装非python的包"
   ]
  },
  {
   "cell_type": "markdown",
   "metadata": {},
   "source": [
    "### 虚拟环境管理\n",
    "- 可以创建多个虚拟环境，用于隔离不同项目所需的不同版本的工具包，以防止版本上的冲突"
   ]
  },
  {
   "cell_type": "markdown",
   "metadata": {},
   "source": [
    "### conda和pip\n",
    "- 依赖项检查\n",
    "    - pip：不一定会展示所需其他依赖包，安装包时或许会直接忽略依赖项而安装，仅在结果中提示错误\n",
    "    - conda：列出所需其他依赖包，安装包时自动安装其他依赖项，可以便捷地在包的不同版本中自由切换\n",
    "- 环境管理\n",
    "    - pip：维护多个环境难度大\n",
    "    - conda：比较方便地在不同环境之间进行切换，环境管理较为简单\n",
    "- 对系统自带python的影响\n",
    "    - pip：在系统自带python中包的更新/回退版本/卸载将影响其他程序\n",
    "    - conda：不会影响系统自带python\n",
    "- conda结合和pip和virtualenv的功能"
   ]
  },
  {
   "cell_type": "markdown",
   "metadata": {},
   "source": [
    "# 安装"
   ]
  },
  {
   "cell_type": "markdown",
   "metadata": {},
   "source": [
    "- [官网下载地址](https://www.anaconda.com/download/)\n",
    "- [清华大学开源镜像下载地址](https://mirrors.tuna.tsinghua.edu.cn/anaconda/archive/)\n",
    "- 下载.exe文件，然后不断下一步即可"
   ]
  },
  {
   "cell_type": "markdown",
   "metadata": {},
   "source": [
    "## 安装后默认带的工具\n",
    "- Anaconda Navigator：用于管理工具包和环境的图形用户界面\n",
    "- jupyter notebook：文档编辑工具\n",
    "- qtconsole：一个可执行ipython的仿中断图形界面程序，相比python shell界面，qtconsole可以直接显示代码生成的图形，实现多行代码输入执行\n",
    "- spyder：一个使用python语言，跨平台的、科学运算集成开发环境"
   ]
  },
  {
   "cell_type": "markdown",
   "metadata": {},
   "source": [
    "# 配置"
   ]
  },
  {
   "cell_type": "markdown",
   "metadata": {},
   "source": [
    "## 配置环境变量\n",
    "- anaconda的安装位置：例 - E:\\anaconda\n",
    "- anaconda安装位置下的scripts文件：例 - E:\\anaconda\\Scripts\n",
    "- 如果报错：\"CondaHTTPError: HTTP 000 CONNECTION FAILED for url <https://conda.anaconda.org/anaconda/linux-64/repodata.json>\"\n",
    "    - 将anaconda安装目录下的Library\\bin目录添加到环境变量中\n",
    "    - 例 - E:\\anaconda\\Library\\bin"
   ]
  },
  {
   "cell_type": "markdown",
   "metadata": {},
   "source": [
    "## 仓库镜像配置为国内清华镜像\n",
    "- conda config --add channels https://mirrors.tuna.tsinghua.edu.cn/anaconda/pkgs/free/\n",
    "- conda config --add channels https://mirrors.tuna.tsinghua.edu.cn/anaconda/pkgs/main/\n",
    "- conda config --set show_channel_urls yes"
   ]
  },
  {
   "cell_type": "markdown",
   "metadata": {},
   "source": [
    "## 更新所有工具包\n",
    "- conda upgrade --all"
   ]
  }
 ],
 "metadata": {
  "kernelspec": {
   "display_name": "Python 3",
   "language": "python",
   "name": "python3"
  },
  "language_info": {
   "codemirror_mode": {
    "name": "ipython",
    "version": 3
   },
   "file_extension": ".py",
   "mimetype": "text/x-python",
   "name": "python",
   "nbconvert_exporter": "python",
   "pygments_lexer": "ipython3",
   "version": "3.7.2"
  },
  "toc": {
   "base_numbering": 1,
   "nav_menu": {},
   "number_sections": false,
   "sideBar": true,
   "skip_h1_title": false,
   "title_cell": "Table of Contents",
   "title_sidebar": "Contents",
   "toc_cell": false,
   "toc_position": {},
   "toc_section_display": true,
   "toc_window_display": true
  }
 },
 "nbformat": 4,
 "nbformat_minor": 2
}
