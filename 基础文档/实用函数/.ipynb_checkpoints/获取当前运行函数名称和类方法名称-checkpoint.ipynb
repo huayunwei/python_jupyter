{
 "cells": [
  {
   "cell_type": "markdown",
   "metadata": {},
   "source": [
    "# 获取函数名称\n",
    "- 在函数外部获取函数名称：fnc.\\_\\_name\\_\\_属性获取\n",
    "- 在函数内部获取函数名称：sys.\\_getframe().f_code.co_name"
   ]
  },
  {
   "cell_type": "code",
   "execution_count": 3,
   "metadata": {},
   "outputs": [
    {
     "name": "stdout",
     "output_type": "stream",
     "text": [
      "P3\n",
      "函数名 P3\n"
     ]
    }
   ],
   "source": [
    "import sys\n",
    "def P3():\n",
    "    print(\"函数名\",sys._getframe().f_code.co_name)\n",
    "\n",
    "print(P3.__name__)\n",
    "P3()"
   ]
  },
  {
   "cell_type": "markdown",
   "metadata": {},
   "source": [
    "# 类和方法名称获取\n",
    "- 在类里面获取类名称self.\\_\\_class__.\\_\\_name__\n",
    "- 获取类里面方法名称，跟获取函数名称一样sys.\\_\\_getframe().f_code.co_name"
   ]
  },
  {
   "cell_type": "code",
   "execution_count": 2,
   "metadata": {},
   "outputs": [
    {
     "name": "stdout",
     "output_type": "stream",
     "text": [
      "类名 XX\n",
      "函数名 P3\n"
     ]
    }
   ],
   "source": [
    "import sys\n",
    "class XX():\n",
    "    def P3(self):\n",
    "        print(\"类名\",self.__class__.__name__)\n",
    "        print(\"函数名\",sys._getframe().f_code.co_name)\n",
    "\n",
    "a = XX()\n",
    "a.P3()"
   ]
  },
  {
   "cell_type": "markdown",
   "metadata": {},
   "source": [
    "## 使用inspect模块动态获取当前运行的函数名（或类方法名）"
   ]
  },
  {
   "cell_type": "code",
   "execution_count": 5,
   "metadata": {},
   "outputs": [
    {
     "data": {
      "text/plain": [
       "'\\n\\n'"
      ]
     },
     "execution_count": 5,
     "metadata": {},
     "output_type": "execute_result"
    }
   ],
   "source": [
    "import inspect\n",
    "def get_function_info():\n",
    "    return inspect.stack()\n",
    "\n",
    "def P1():\n",
    "    print(get_function_info())\n",
    "\n",
    "'''\n",
    "输出一个list\n",
    "\n",
    "[\n",
    "# 第一个值：inspect.stack相关\n",
    "FrameInfo(frame=<frame at 0x02EC6320, file 'F:/hyw/python/autoTest/ss_test.py', line 65, code get_function_name>, \n",
    "filename='F:/hyw/python/autoTest/ss_test.py', lineno=65, function='get_function_name', \n",
    "code_context=['    return inspect.stack()\\n'], index=0), \n",
    "# 第二个值：执行的函数相关，其中第三个值为函数名\n",
    "FrameInfo(frame=<frame at 0x02D04C78, file 'F:/hyw/python/autoTest/ss_test.py', line 73, code P3>, \n",
    "filename='F:/hyw/python/autoTest/ss_test.py', lineno=73, function='P3', \n",
    "code_context=['        print(\"函数名\",get_function_name())\\n'], index=0), \n",
    "# 第三个值：函数执行的位置相关\n",
    "FrameInfo(frame=<frame at 0x007E1C30, file 'F:/hyw/python/autoTest/ss_test.py', line 76, code <module>>, \n",
    "filename='F:/hyw/python/autoTest/ss_test.py', lineno=76, function='<module>', code_context=['a.P3()\\n'], index=0)\n",
    "]\n",
    "'''"
   ]
  },
  {
   "cell_type": "code",
   "execution_count": 7,
   "metadata": {},
   "outputs": [
    {
     "name": "stdout",
     "output_type": "stream",
     "text": [
      "当前函数名 P4\n",
      "类名 XX\n",
      "当前函数名 P3\n"
     ]
    }
   ],
   "source": [
    "def get_function_name():\n",
    "    return inspect.stack()[1][3]\n",
    "\n",
    "def P4():\n",
    "    print(\"当前函数名\",get_function_name())\n",
    "\n",
    "class XX():\n",
    "    def P3(self):\n",
    "        print(\"类名\",self.__class__.__name__)\n",
    "        print(\"当前函数名\",get_function_name())\n",
    "P4()\n",
    "a = XX()\n",
    "a.P3()"
   ]
  },
  {
   "cell_type": "code",
   "execution_count": null,
   "metadata": {},
   "outputs": [],
   "source": []
  }
 ],
 "metadata": {
  "kernelspec": {
   "display_name": "Python 3",
   "language": "python",
   "name": "python3"
  },
  "language_info": {
   "codemirror_mode": {
    "name": "ipython",
    "version": 3
   },
   "file_extension": ".py",
   "mimetype": "text/x-python",
   "name": "python",
   "nbconvert_exporter": "python",
   "pygments_lexer": "ipython3",
   "version": "3.7.0"
  }
 },
 "nbformat": 4,
 "nbformat_minor": 2
}
