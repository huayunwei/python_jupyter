{
 "cells": [
  {
   "cell_type": "markdown",
   "metadata": {},
   "source": [
    "# sort和sorted\n",
    "- list对象的sort方法：仅针对list对象排序，无返回值，会改变原来队列顺序\n",
    "- builtin函数里的sorted方法：可以对可迭代对象排序，不局限于list，不改变原生数据，重新生成一个新的队列"
   ]
  },
  {
   "cell_type": "code",
   "execution_count": null,
   "metadata": {},
   "outputs": [],
   "source": [
    "List.sort(key=None,reverse=False) \n",
    "'''\n",
    "key：用列表元素的某个属性或函数作为关键字（函数只能有一个参数）\n",
    "reverse：排序规则，reverse=True 降序 或者 reverse=False 升序，默认升序\n",
    "return 无返回值\n",
    "'''"
   ]
  }
 ],
 "metadata": {
  "kernelspec": {
   "display_name": "Python 3",
   "language": "python",
   "name": "python3"
  },
  "language_info": {
   "codemirror_mode": {
    "name": "ipython",
    "version": 3
   },
   "file_extension": ".py",
   "mimetype": "text/x-python",
   "name": "python",
   "nbconvert_exporter": "python",
   "pygments_lexer": "ipython3",
   "version": "3.7.0"
  }
 },
 "nbformat": 4,
 "nbformat_minor": 2
}
