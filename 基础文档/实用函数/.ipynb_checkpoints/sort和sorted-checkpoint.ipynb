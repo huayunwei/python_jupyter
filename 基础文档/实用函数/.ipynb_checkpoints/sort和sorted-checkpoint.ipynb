{
 "cells": [
  {
   "cell_type": "markdown",
   "metadata": {},
   "source": [
    "# sort和sorted\n",
    "- list对象的sort方法：仅针对list对象排序，无返回值，会改变原来队列顺序\n",
    "- builtin函数里的sorted方法：可以对可迭代对象排序，不局限于list，不改变原生数据，重新生成一个新的队列"
   ]
  },
  {
   "cell_type": "code",
   "execution_count": null,
   "metadata": {},
   "outputs": [],
   "source": [
    "List.sort(key=None,reverse=False) \n",
    "'''\n",
    "key：用列表元素的某个属性或函数作为关键字（函数只能有一个参数）\n",
    "reverse：排序规则，reverse=True 降序 或者 reverse=False 升序，默认升序\n",
    "return 无返回值\n",
    "'''\n",
    "# 按绝对值排序\n",
    "def f(x):\n",
    "    return ads(x)\n",
    "a.sort(key=f)\n",
    "print(a)\n",
    "\n",
    "# 列表对象是字符串\n",
    "b = [\"hello\", \"helloworld\", \"he\", \"hao\", \"good\"]\n",
    "# 按列表单词长度倒叙\n",
    "b.sort(key=lambda x:len(x),reverse=True)\n",
    "print(b)\n",
    "\n",
    "# list对象是元祖\n",
    "c = [(\"a\":9),(\"b\",2),(\"c\",5)]\n",
    "c.sort(key=lambda x:x[1])\n",
    "print(c)"
   ]
  }
 ],
 "metadata": {
  "kernelspec": {
   "display_name": "Python 3",
   "language": "python",
   "name": "python3"
  },
  "language_info": {
   "codemirror_mode": {
    "name": "ipython",
    "version": 3
   },
   "file_extension": ".py",
   "mimetype": "text/x-python",
   "name": "python",
   "nbconvert_exporter": "python",
   "pygments_lexer": "ipython3",
   "version": "3.7.0"
  }
 },
 "nbformat": 4,
 "nbformat_minor": 2
}
