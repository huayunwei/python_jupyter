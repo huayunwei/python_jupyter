{
 "cells": [
  {
   "cell_type": "markdown",
   "metadata": {},
   "source": [
    "# sort和sorted\n",
    "- list对象的sort方法：仅针对list对象排序，无返回值，会改变原来队列顺序\n",
    "- builtin函数里的sorted方法：可以对可迭代对象排序，不局限于list，不改变原生数据，重新生成一个新的队列"
   ]
  },
  {
   "cell_type": "code",
   "execution_count": 6,
   "metadata": {},
   "outputs": [
    {
     "name": "stdout",
     "output_type": "stream",
     "text": [
      "[-1, -2, -7, -9]\n",
      "['helloworld', 'hello', 'good', 'hao', 'he']\n",
      "[('b', 2), ('c', 5), ('a', 9)]\n",
      "[{'b': 2}, {'d': 5}, {'a': 9}]\n"
     ]
    }
   ],
   "source": [
    "#List.sort(key=None,reverse=False) \n",
    "'''\n",
    "key：用列表元素的某个属性或函数作为关键字（函数只能有一个参数）\n",
    "reverse：排序规则，reverse=True 降序 或者 reverse=False 升序，默认升序\n",
    "return 无返回值\n",
    "'''\n",
    "# 按绝对值排序\n",
    "a = [-1,-2,-9,-7]\n",
    "def f(x):\n",
    "    return abs(x)\n",
    "a.sort(key=f)\n",
    "print(a)\n",
    "\n",
    "# 列表对象是字符串\n",
    "b = [\"hello\", \"helloworld\", \"he\", \"hao\", \"good\"]\n",
    "# 按列表单词长度倒叙\n",
    "b.sort(key=lambda x:len(x),reverse=True)\n",
    "print(b)\n",
    "\n",
    "# list对象是元祖\n",
    "c = [(\"a\",9),(\"b\",2),(\"c\",5)]\n",
    "c.sort(key=lambda x:x[1])\n",
    "print(c)\n",
    "\n",
    "# list对象是字典\n",
    "d = [{\"a\": 9}, {\"b\": 2}, {\"d\":5}]\n",
    "d.sort(key=lambda x:list(x.values())[0])\n",
    "print(d)"
   ]
  },
  {
   "cell_type": "markdown",
   "metadata": {},
   "source": [
    "## sorted\n",
    "- python里面的一个内建函数"
   ]
  },
  {
   "cell_type": "code",
   "execution_count": 9,
   "metadata": {},
   "outputs": [
    {
     "name": "stdout",
     "output_type": "stream",
     "text": [
      "[-9, 2, 3, 5, 7]\n",
      "[('b', 2), ('d', 5), ('a', 9)]\n",
      "[('a', 9), ('b', 2), ('d', 5)]\n"
     ]
    }
   ],
   "source": [
    "'''\n",
    "sorted(iterable,key=None,reverse=False)   \n",
    "iterable：可迭代对象，如str,list,tuple,dict，该对象不改变，返回新值\n",
    "key：列表元素的某个属性或函数作为关键字，函数只能有一个参数\n",
    "reverse规则：reverse=True降序或者reverse=False升序，默认升序\n",
    "return：返回一个新队列\n",
    "'''\n",
    "# 元组也可以排序\n",
    "t = (-9, 2, 7, 3, 5)\n",
    "n = sorted(t)\n",
    "print(n)  # 结果：[-9, 2, 3, 5, 7]\n",
    "\n",
    "# dict按value排序\n",
    "f = { \"b\": 2, \"d\": 5,\"a\": 9}\n",
    "# 按value排序\n",
    "g = sorted(f.items(), key=lambda x: x[1])\n",
    "print(g)  # 结果：[('b', 2), ('d', 5), ('a', 9)]\n",
    "# 按key排序\n",
    "x = sorted(f.items(),key=lambda x:x[0])\n",
    "print(x)"
   ]
  },
  {
   "cell_type": "code",
   "execution_count": null,
   "metadata": {},
   "outputs": [],
   "source": []
  }
 ],
 "metadata": {
  "kernelspec": {
   "display_name": "Python 3",
   "language": "python",
   "name": "python3"
  },
  "language_info": {
   "codemirror_mode": {
    "name": "ipython",
    "version": 3
   },
   "file_extension": ".py",
   "mimetype": "text/x-python",
   "name": "python",
   "nbconvert_exporter": "python",
   "pygments_lexer": "ipython3",
   "version": "3.7.0"
  }
 },
 "nbformat": 4,
 "nbformat_minor": 2
}
