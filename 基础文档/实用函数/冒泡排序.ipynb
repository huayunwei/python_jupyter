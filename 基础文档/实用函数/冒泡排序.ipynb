{
 "cells": [
  {
   "cell_type": "markdown",
   "metadata": {},
   "source": [
    "# 冒泡排序\n",
    "- 一种排序算法\n",
    "- 重复的走访过要排序的数列，一次比较两个元素，如果他们的顺序错误就把他们交换过来，走访数列的工作是重复地进行直到没有再需要交换，也就是说该数列已经排序完成\n",
    "- 原理\n",
    "    - 比较相邻的元素，如果第一个比第二个大，就交换他们两个\n",
    "    - 对每一个相邻的元素作同样的工作，从开始第一对到结尾的最后一对，此时最后一个应该是最大的\n",
    "    - 针对除了最后一个元素的元素，重复上面两步\n",
    "    - 一致持续到没有任何一个数字需要比较"
   ]
  },
  {
   "cell_type": "code",
   "execution_count": 1,
   "metadata": {},
   "outputs": [
    {
     "name": "stdout",
     "output_type": "stream",
     "text": [
      "2 1\n"
     ]
    }
   ],
   "source": [
    "# 交换的写法\n",
    "# 1.使用临时变量c\n",
    "# 2.直接交换\n",
    "a = 1\n",
    "b = 2\n",
    "a,b = b,a\n",
    "print(a,b)"
   ]
  },
  {
   "cell_type": "code",
   "execution_count": 3,
   "metadata": {},
   "outputs": [
    {
     "name": "stdout",
     "output_type": "stream",
     "text": [
      "[1, 3, 9, 10, 21, 4, 6, 35]\n"
     ]
    }
   ],
   "source": [
    "# 遍历一次的写法：比较相邻的两个值，如果第一个值大于第二个，交换，直到比较到最后一个\n",
    "li = [1,3,10,9,21,35,4,6]\n",
    "for i in range(0,len(li)-1):\n",
    "    if li[i] > li[i+1]:\n",
    "        li[i],li[i+1] = li[i+1],li[i]\n",
    "print(li)"
   ]
  },
  {
   "cell_type": "code",
   "execution_count": 8,
   "metadata": {},
   "outputs": [
    {
     "name": "stdout",
     "output_type": "stream",
     "text": [
      "7\n",
      "[1, 3, 9, 10, 21, 4, 6, 35]\n",
      "6\n",
      "[1, 3, 9, 10, 4, 6, 21, 35]\n",
      "5\n",
      "[1, 3, 9, 4, 6, 10, 21, 35]\n",
      "4\n",
      "[1, 3, 4, 6, 9, 10, 21, 35]\n",
      "3\n",
      "[1, 3, 4, 6, 9, 10, 21, 35]\n",
      "2\n",
      "[1, 3, 4, 6, 9, 10, 21, 35]\n",
      "1\n",
      "[1, 3, 4, 6, 9, 10, 21, 35]\n",
      "0\n",
      "[1, 3, 4, 6, 9, 10, 21, 35]\n"
     ]
    }
   ],
   "source": [
    "# 冒泡排序的写法\n",
    "li = [1,3,10,9,21,35,4,6]\n",
    "# 计算每次循环后的列表长度\n",
    "s = range(len(li))[::-1]\n",
    "# 循环直到最后一次\n",
    "for i in s:\n",
    "    print(i)\n",
    "    # 其中i为当前li的长度，第一次为7\n",
    "    for j in range(i):\n",
    "        if li[j] > li[j+1]:\n",
    "            li[j],li[j+1] = li[j+1],li[j]\n",
    "    print(li)"
   ]
  }
 ],
 "metadata": {
  "kernelspec": {
   "display_name": "Python 3",
   "language": "python",
   "name": "python3"
  },
  "language_info": {
   "codemirror_mode": {
    "name": "ipython",
    "version": 3
   },
   "file_extension": ".py",
   "mimetype": "text/x-python",
   "name": "python",
   "nbconvert_exporter": "python",
   "pygments_lexer": "ipython3",
   "version": "3.7.0"
  }
 },
 "nbformat": 4,
 "nbformat_minor": 2
}
