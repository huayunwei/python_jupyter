{
 "cells": [
  {
   "cell_type": "markdown",
   "metadata": {},
   "source": [
    "# threading"
   ]
  },
  {
   "cell_type": "code",
   "execution_count": null,
   "metadata": {},
   "outputs": [],
   "source": [
    "class Thread:\n",
    "    def __init__(self, group=None, target=None, name=None,args=(), kwargs=None, *, daemon=None):\n",
    "    '''\n",
    "    group：group参数必须为空，参数group是预留的，用于将来扩展\n",
    "    target：可调用对象，在线程启动后执行\n",
    "    name：参数name是线程的名字，默认值为Thread-N,N是一个数字\n",
    "    args：参数给线程函数target的参数，必须是tuple类型\n",
    "    kwargs：关键字参数，字典类型{}\n",
    "    '''"
   ]
  },
  {
   "cell_type": "markdown",
   "metadata": {},
   "source": [
    "## 函数式"
   ]
  },
  {
   "cell_type": "code",
   "execution_count": null,
   "metadata": {},
   "outputs": [],
   "source": [
    "# 不带参数的多线程\n",
    "import threading\n",
    "import time\n",
    "\n",
    "def chi():\n",
    "    print(\"%s 吃着火锅开始：\" % time.ctime())\n",
    "    time.sleep(1)\n",
    "    print(\"%s 吃着火锅：涮羊肉\" % time.ctime())\n",
    "    time.sleep(1)\n",
    "    print(\"%s 吃着火锅：涮牛肉\" % time.ctime())\n",
    "    time.sleep(1)\n",
    "    print(\"%s 吃着火锅：贡丸\" % time.ctime())\n",
    "    time.sleep(1)\n",
    "    print(\"%s 吃火锅结束！\" % time.ctime())\n",
    "def ting():\n",
    "    print(\"%s 哼着小曲1！\" % time.ctime())\n",
    "    time.sleep(2)\n",
    "    print(\"%s 哼着小曲2！\" % time.ctime())\n",
    "    time.sleep(2)\n",
    "    print(\"%s 哼着小曲3！\" % time.ctime())\n",
    "    time.sleep(2)\n",
    "    print(\"%s 哼着小曲4！\" % time.ctime())\n",
    "    time.sleep(2)\n",
    "    print(\"%s 哼着小曲5！\" % time.ctime())\n",
    "    time.sleep(2)\n",
    "\n",
    "# 创建线程数组\n",
    "threads = []\n",
    "# 创建线程t1，并添加到线程数组\n",
    "t1 = threading.Thread(target=chi)\n",
    "threads.append(t1)\n",
    "# 创建线程t2，并添加到线程数组\n",
    "t2 = threading.Thread(target=ting)\n",
    "threads.append(t2)\n",
    "\n",
    "if __name__ == '__main__':\n",
    "    # 启动线程\n",
    "    for t in threads:\n",
    "        t.start()"
   ]
  },
  {
   "cell_type": "code",
   "execution_count": null,
   "metadata": {},
   "outputs": [],
   "source": [
    "# 带参数的多线程\n",
    "# coding:utf-8\n",
    "import threading\n",
    "import time\n",
    "\n",
    "def chi(threadName,name):\n",
    "    print(\"%s 吃着%s开始：\" % (time.ctime(),threadName))\n",
    "    print(\"%s 吃着火锅：涮羊肉\" % time.ctime())\n",
    "    time.sleep(1)\n",
    "    time.sleep(1)\n",
    "    print(\"%s 吃着火锅：涮牛肉\" % time.ctime())\n",
    "    time.sleep(1)\n",
    "    print(\"%s 吃着火锅：贡丸\" % time.ctime())\n",
    "    time.sleep(1)\n",
    "    print(\"%s 吃着%s结束--\" % (time.ctime(),threadName))\n",
    "    print(\"%s 运行结束！\"%name)\n",
    "\n",
    "\n",
    "def ting(threadName):\n",
    "    print(\"%s 哼着%s1！\" % (time.ctime(),threadName))\n",
    "    time.sleep(2)\n",
    "    print(\"%s 哼着小曲2！\" % time.ctime())\n",
    "    time.sleep(2)\n",
    "    print(\"%s 哼着小曲3！\" % time.ctime())\n",
    "    time.sleep(2)\n",
    "    print(\"%s 哼着小曲4！\" % time.ctime())\n",
    "    time.sleep(2)\n",
    "    print(\"%s 哼着小曲5！\" % time.ctime())\n",
    "    time.sleep(2)\n",
    "\n",
    "# 创建线程数组\n",
    "threads = []\n",
    "# 创建线程t1，并添加到线程数组\n",
    "# t1 = threading.Thread(target=chi, args=(\"火锅\",\"吃火锅\",))\n",
    "\n",
    "# 传kwargs参数\n",
    "t1 = threading.Thread(target=chi, kwargs={\"threadName\":\"火锅\",\"name\":\"吃火锅\"})\n",
    "\n",
    "threads.append(t1)\n",
    "# 创建线程t2，并添加到线程数组\n",
    "t2 = threading.Thread(target=ting,args=(\"小曲\",))\n",
    "threads.append(t2)\n",
    "\n",
    "if __name__ == '__main__':\n",
    "    # 启动线程\n",
    "    for t in threads:\n",
    "        t.start()"
   ]
  }
 ],
 "metadata": {
  "kernelspec": {
   "display_name": "Python 3",
   "language": "python",
   "name": "python3"
  },
  "language_info": {
   "codemirror_mode": {
    "name": "ipython",
    "version": 3
   },
   "file_extension": ".py",
   "mimetype": "text/x-python",
   "name": "python",
   "nbconvert_exporter": "python",
   "pygments_lexer": "ipython3",
   "version": "3.7.0"
  }
 },
 "nbformat": 4,
 "nbformat_minor": 2
}
