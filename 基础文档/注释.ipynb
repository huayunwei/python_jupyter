{
 "cells": [
  {
   "cell_type": "markdown",
   "metadata": {},
   "source": [
    "# 注释\n",
    "- 单行：#\n",
    "- 多行：''' 注释信息  '''\n",
    "- 在注释信息中增加变量：docstring\n",
    "    - 在docstring里面添加变量内容，变量的部分用%s代替，最后取值的时候，前面加一行代码，用变量替换里面的%s部分"
   ]
  },
  {
   "cell_type": "code",
   "execution_count": 1,
   "metadata": {},
   "outputs": [
    {
     "name": "stdout",
     "output_type": "stream",
     "text": [
      "添加的注释部分，这里是变量内容\n"
     ]
    }
   ],
   "source": [
    "c = \"这里是变量内容\"\n",
    "def hello():\n",
    "    '''添加的注释部分，%s'''\n",
    "    print(\"hello world!\")\n",
    "\n",
    "hello.__doc__ %= c # 使用c替换到%s的内容\n",
    "a = hello.__doc__\n",
    "print(a)"
   ]
  },
  {
   "cell_type": "code",
   "execution_count": 2,
   "metadata": {},
   "outputs": [
    {
     "name": "stdout",
     "output_type": "stream",
     "text": [
      "实现功能：打印hello world\n"
     ]
    }
   ],
   "source": [
    "# 使用装饰器decorator\n",
    "def docstring_parameter(*sub):\n",
    "    def dec(obj):\n",
    "        obj.__doc__ = obj.__doc__.format(*sub)\n",
    "        return obj\n",
    "    return dec\n",
    "\n",
    "@docstring_parameter(\"打印hello world\")\n",
    "def hello():\n",
    "    '''实现功能：{0}'''\n",
    "    print(\"hello world\")\n",
    "\n",
    "print(hello.__doc__)"
   ]
  },
  {
   "cell_type": "code",
   "execution_count": null,
   "metadata": {},
   "outputs": [],
   "source": []
  }
 ],
 "metadata": {
  "kernelspec": {
   "display_name": "Python 3",
   "language": "python",
   "name": "python3"
  },
  "language_info": {
   "codemirror_mode": {
    "name": "ipython",
    "version": 3
   },
   "file_extension": ".py",
   "mimetype": "text/x-python",
   "name": "python",
   "nbconvert_exporter": "python",
   "pygments_lexer": "ipython3",
   "version": "3.7.0"
  }
 },
 "nbformat": 4,
 "nbformat_minor": 2
}
