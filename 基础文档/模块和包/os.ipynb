{
 "cells": [
  {
   "cell_type": "markdown",
   "metadata": {},
   "source": [
    "# OS模块\n",
    "- 跟操作系统相关，主要是文件操作\n",
    "- 三个模块\n",
    "    - os：操作系统目录相关\n",
    "    - os.path：系统路径相关操作\n",
    "    - shutil：高级文件操作，目录树的操作，文件赋值，删除，移动"
   ]
  },
  {
   "cell_type": "code",
   "execution_count": 1,
   "metadata": {},
   "outputs": [
    {
     "name": "stdout",
     "output_type": "stream",
     "text": [
      "C:\\Users\\MissFe\\Desktop\\文档\\学习\\python\\python_jupyter\\基础文档\\模块和包\n"
     ]
    }
   ],
   "source": [
    "import os\n",
    "# getcwd：获取当前的工作目录\n",
    "print(os.getcwd())"
   ]
  },
  {
   "cell_type": "code",
   "execution_count": 2,
   "metadata": {},
   "outputs": [
    {
     "name": "stdout",
     "output_type": "stream",
     "text": [
      "C:\\Users\\MissFe\\Desktop\\文档\\学习\\python\\python_jupyter\\基础文档\n"
     ]
    }
   ],
   "source": [
    "# chdir：改变当前的工作目录\n",
    "os.chdir(r'C:\\Users\\MissFe\\Desktop\\文档\\学习\\python\\python_jupyter\\基础文档')\n",
    "print(os.getcwd())"
   ]
  },
  {
   "cell_type": "code",
   "execution_count": 3,
   "metadata": {},
   "outputs": [
    {
     "name": "stdout",
     "output_type": "stream",
     "text": [
      "['.ipynb_checkpoints', 'calendar.ipynb', 'math.ipynb', 'os.ipynb', 'shutil.ipynb', 'string.ipynb', 'time和datetime和timeit.ipynb', 'zip.ipynb', '包和模块.ipynb']\n"
     ]
    }
   ],
   "source": [
    "# listdir：获取一个目录中所有子目录和文件的名称列表\n",
    "print(os.listdir(r'C:\\Users\\MissFe\\Desktop\\文档\\学习\\python\\python_jupyter\\基础文档\\模块和包'))"
   ]
  },
  {
   "cell_type": "code",
   "execution_count": 5,
   "metadata": {},
   "outputs": [
    {
     "data": {
      "text/plain": [
       "0"
      ]
     },
     "execution_count": 5,
     "metadata": {},
     "output_type": "execute_result"
    }
   ],
   "source": [
    "# makedirs：递归创建文件夹\n",
    "# os.makedirs(递归路径)\n",
    "\n",
    "# system：运行系统shell命令\n",
    "# os.system(命令)\n",
    "os.system('cd')"
   ]
  },
  {
   "cell_type": "code",
   "execution_count": 6,
   "metadata": {},
   "outputs": [
    {
     "data": {
      "text/plain": [
       "'C:\\\\WINDOWS\\\\system32;C:\\\\WINDOWS;C:\\\\WINDOWS\\\\System32\\\\Wbem;C:\\\\WINDOWS\\\\System32\\\\WindowsPowerShell\\\\v1.0\\\\;F:\\\\Java\\\\jdk1.7.0_79\\\\bin;F:\\\\Java\\\\jdk1.7.0_79\\\\jre\\\\bin;C:\\\\WINDOWS\\\\System32\\\\OpenSSH\\\\;F:\\\\node\\\\;C:\\\\Users\\\\MissFe\\\\AppData\\\\Local\\\\Android\\\\Sdk\\\\tools;C:\\\\Users\\\\MissFe\\\\AppData\\\\Local\\\\Android\\\\Sdk\\\\platform-tools;C:\\\\Users\\\\MissFe\\\\AppData\\\\Local\\\\Programs\\\\Python\\\\Python37-32\\\\Scripts\\\\;C:\\\\Users\\\\MissFe\\\\AppData\\\\Local\\\\Programs\\\\Python\\\\Python37-32\\\\;C:\\\\Users\\\\MissFe\\\\AppData\\\\Local\\\\Microsoft\\\\WindowsApps;;C:\\\\Users\\\\MissFe\\\\AppData\\\\Roaming\\\\npm;E:\\\\Fiddler'"
      ]
     },
     "execution_count": 6,
     "metadata": {},
     "output_type": "execute_result"
    }
   ],
   "source": [
    "# getenv()：获取指定的系统环境变量值\n",
    "# os.getenv('环境变量名')\n",
    "os.getenv('PATH')"
   ]
  },
  {
   "cell_type": "code",
   "execution_count": 12,
   "metadata": {},
   "outputs": [
    {
     "name": "stdout",
     "output_type": "stream",
     "text": [
      ".\n",
      "..\n",
      "\\\n",
      "\r\n",
      "\n",
      "nt\n"
     ]
    }
   ],
   "source": [
    "# 当前目录\n",
    "print(os.curdir)\n",
    "# 父亲目录\n",
    "print(os.pardir)\n",
    "# 当前系统的路径分隔符\n",
    "print(os.sep)\n",
    "# 当前系统的换行符号\n",
    "print(os.linesep)\n",
    "# 当前系统的名字，nt为windows\n",
    "print(os.name)"
   ]
  },
  {
   "cell_type": "markdown",
   "metadata": {},
   "source": [
    "## os.path 模块，跟路径相关的模块"
   ]
  },
  {
   "cell_type": "code",
   "execution_count": 14,
   "metadata": {},
   "outputs": [
    {
     "name": "stdout",
     "output_type": "stream",
     "text": [
      "基础文档\n"
     ]
    }
   ],
   "source": [
    "import os.path as op\n",
    "# abspath：将路径转化为绝对路径\n",
    "# 返回值：路径的绝对路径形式\n",
    "\n",
    "# basename：获取路径中的文件名部分\n",
    "print(op.basename(os.getcwd()))"
   ]
  },
  {
   "cell_type": "code",
   "execution_count": 16,
   "metadata": {},
   "outputs": [
    {
     "name": "stdout",
     "output_type": "stream",
     "text": [
      "home\\dana.haha\n"
     ]
    }
   ],
   "source": [
    "# join：将多个路径拼合成一个路径\n",
    "# os.path.join(路径1，路径2，。。。。)\n",
    "a = \"home\"\n",
    "b = \"dana.haha\"\n",
    "\n",
    "p = op.join(a,b)\n",
    "print(p)"
   ]
  },
  {
   "cell_type": "code",
   "execution_count": 17,
   "metadata": {},
   "outputs": [
    {
     "name": "stdout",
     "output_type": "stream",
     "text": [
      "('/home/xx', 'yy.zz')\n"
     ]
    }
   ],
   "source": [
    "# split：将路径切割为文件夹部分和当前文件部分\n",
    "# 格式：os.path.split(路径)\n",
    "# 返回：路径和文件名组成的元组\n",
    "\n",
    "t = op.split(\"/home/xx/yy.zz\")\n",
    "print(t)"
   ]
  },
  {
   "cell_type": "code",
   "execution_count": 19,
   "metadata": {},
   "outputs": [
    {
     "data": {
      "text/plain": [
       "False"
      ]
     },
     "execution_count": 19,
     "metadata": {},
     "output_type": "execute_result"
    }
   ],
   "source": [
    "# isdir：检测是否是目录\n",
    "# 格式：os.path.isdir(路径)\n",
    "# 返回：布尔值\n",
    "op.isdir(\"/home/xx/yy.zz\")"
   ]
  },
  {
   "cell_type": "code",
   "execution_count": 20,
   "metadata": {},
   "outputs": [
    {
     "data": {
      "text/plain": [
       "False"
      ]
     },
     "execution_count": 20,
     "metadata": {},
     "output_type": "execute_result"
    }
   ],
   "source": [
    "# exists：检测文件或目录是否存在\n",
    "# 格式：os.path.exists(路径)\n",
    "# 返回值：布尔值\n",
    "op.exists(\"/home/xx/yy.zz\")"
   ]
  },
  {
   "cell_type": "code",
   "execution_count": null,
   "metadata": {},
   "outputs": [],
   "source": [
    "import os\n",
    "# 当前目录的相对路径\n",
    "print(os.path.dirname(__file__))"
   ]
  },
  {
   "cell_type": "markdown",
   "metadata": {},
   "source": [
    "## shutil模块"
   ]
  },
  {
   "cell_type": "code",
   "execution_count": 21,
   "metadata": {},
   "outputs": [],
   "source": [
    "import shutil\n",
    "# copy：复制文件\n",
    "# 格式：shutil.copy(来源路劲，目标路径)\n",
    "# 返回值：返回目标路径\n",
    "\n",
    "# copy2：复制文件\n",
    "# 格式：shutil.copy2(来源路径，目标路径)\n",
    "# 返回值：返回目标路径\n",
    "# copy和copy2的唯一区别在于copy2复制文件时尽量保留元数据\n",
    "\n",
    "# copyfile：将一个文件中的内容复制到另外一个文件当中\n",
    "# 格式：shutil.copyfile(原路径，目标路径)\n",
    "# 返回值：无\n",
    "\n",
    "# move：移动文件/文件夹\n",
    "# 格式：shutil.move(源目录，目标路径)\n",
    "# 返回值：目标路径"
   ]
  }
 ],
 "metadata": {
  "kernelspec": {
   "display_name": "Python 3",
   "language": "python",
   "name": "python3"
  },
  "language_info": {
   "codemirror_mode": {
    "name": "ipython",
    "version": 3
   },
   "file_extension": ".py",
   "mimetype": "text/x-python",
   "name": "python",
   "nbconvert_exporter": "python",
   "pygments_lexer": "ipython3",
   "version": "3.7.0"
  }
 },
 "nbformat": 4,
 "nbformat_minor": 2
}
