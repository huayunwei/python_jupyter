{
 "cells": [
  {
   "cell_type": "markdown",
   "metadata": {},
   "source": [
    "# 包和模块\n",
    "## 模块\n",
    "- 使用模块的原因：\n",
    "    - 程序太大，编写维护非常不方便，需要拆分\n",
    "    - 模块可以增加代码重复利用的方式\n",
    "    - 当做命名空间使用，避免命名冲突\n",
    "- 模块的定义：\n",
    "    - 一个普通的文件，所以任何代码可以直接书写\n",
    "    - 根据模块的规范，最好在模块中编写以下内容\n",
    "        - 函数（单一功能）\n",
    "        - 类（相似功能的组合或类似业务模块）\n",
    "        - 测试代码\n",
    "- 模块的使用\n",
    "    - 模块直接导入：如果模块名称直接以数字开头，需要借助importlib帮助\n",
    "    - 语法：\n",
    "        - import module_name/module_name.function_name/module_name.class_name\n",
    "        - import 模块 as 别名\n",
    "        - from module_name import func_name,class_name\n",
    "        - from module_name import *\n",
    "    - if \\__name__ == \"\\__main__\" 含义：\n",
    "        - 可以有效避免模块代码被导入的时候被动执行的问题\n",
    "        - 主模块\n",
    "        \n",
    "- 模块的搜索路径\n",
    "    - 什么是模块的搜索路径：加载的时候，系统会从那些地方寻找此模块\n",
    "    - 系统默认的模块搜索路径：sys.path\n",
    "    - 添加搜索路径：sys.path.append(dir)\n",
    "    - 模块的搜索顺序：\n",
    "        - 搜索内存已经加载好的模块\n",
    "        - 搜索python的内置模块\n",
    "        - 搜索sys.path路径"
   ]
  },
  {
   "cell_type": "markdown",
   "metadata": {},
   "source": [
    "## 包\n",
    "- 定义：包是一种组织管理代码的方式，包里存放的是模块，用于模块包含在一起的文件夹就是包\n",
    "- 包的导入方式\n",
    "    - import package_name\n",
    "    - import package_name as p\n",
    "    - import package.module\n",
    "    - import package.module as pm\n",
    "    - from package import module1,module2,...\n",
    "    - from package import *\n",
    "    - from package.module import *\n",
    "- \\__all__的用法：\n",
    "    \n",
    "- [pycharm中包内文件引入会出现红线的解决办法](https://blog.csdn.net/zhanguang000/article/details/53197600)"
   ]
  },
  {
   "cell_type": "markdown",
   "metadata": {},
   "source": [
    "## 命名空间\n",
    "- 作用：用于区分不同位置不同功能但相同名称的函数或者变量的一个特定前缀"
   ]
  }
 ],
 "metadata": {
  "kernelspec": {
   "display_name": "Python 3",
   "language": "python",
   "name": "python3"
  },
  "language_info": {
   "codemirror_mode": {
    "name": "ipython",
    "version": 3
   },
   "file_extension": ".py",
   "mimetype": "text/x-python",
   "name": "python",
   "nbconvert_exporter": "python",
   "pygments_lexer": "ipython3",
   "version": "3.7.0"
  }
 },
 "nbformat": 4,
 "nbformat_minor": 2
}
