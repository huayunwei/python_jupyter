{
 "cells": [
  {
   "cell_type": "markdown",
   "metadata": {},
   "source": [
    "# configparser模块\n",
    "- 用来读取.ini配置文件，可以包括一个或多个节（section），每个节可以有多个参数（键=值）"
   ]
  },
  {
   "cell_type": "code",
   "execution_count": null,
   "metadata": {},
   "outputs": [],
   "source": [
    "import configparser\n",
    "conf = configparser.ConfigParser()\n",
    "\n",
    "# 读取ini文件\n",
    "conf.read(file_path)\n",
    "\n",
    "# 获取配置文件所有的section，即文件中的[]中的内容，返回列表\n",
    "sections = conf.sections()\n",
    "\n",
    "# 获取指定section下所有option，返回列表\n",
    "options = conf.options('section的名字')\n",
    "\n",
    "# 获取指定section下所有的options的值，返回列表，其中options以元组的方式返回\n",
    "items = conf.items('sections的名字')\n",
    "\n",
    "# 后去指定section下指定option的值，返回字符串\n",
    "value = conf.get('sections的名字','options的名字')"
   ]
  },
  {
   "cell_type": "markdown",
   "metadata": {},
   "source": [
    "## configparser模块在使用时的问题\n"
   ]
  },
  {
   "cell_type": "markdown",
   "metadata": {},
   "source": [
    "- 获取的options的值会使用完全小写的形式返回，因为configparser的源码就是以lower()的方式返回\n",
    "    - 解决办法1：该源码\n",
    "    - 解决办法2：自己写一个configparser类，继承python的原始类，然后重写这个方法"
   ]
  },
  {
   "cell_type": "code",
   "execution_count": null,
   "metadata": {},
   "outputs": [],
   "source": [
    "# 用于处理在使用configparser时，options的名字返回全小写\n",
    "import configparser\n",
    "\n",
    "class MyConfig(configparser.ConfigParser):\n",
    "    def __init__(self,defaults=None):\n",
    "        configparser.ConfigParser.__init__(self,defaults=defaults)\n",
    "\n",
    "    # 直接返回optionstr，不做任何处理\n",
    "    def optionxform(self,optionstr):\n",
    "        return optionstr"
   ]
  }
 ],
 "metadata": {
  "kernelspec": {
   "display_name": "Python 3",
   "language": "python",
   "name": "python3"
  },
  "language_info": {
   "codemirror_mode": {
    "name": "ipython",
    "version": 3
   },
   "file_extension": ".py",
   "mimetype": "text/x-python",
   "name": "python",
   "nbconvert_exporter": "python",
   "pygments_lexer": "ipython3",
   "version": "3.7.0"
  }
 },
 "nbformat": 4,
 "nbformat_minor": 2
}
