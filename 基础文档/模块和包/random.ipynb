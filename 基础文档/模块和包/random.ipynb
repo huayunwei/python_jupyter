{
 "cells": [
  {
   "cell_type": "markdown",
   "metadata": {},
   "source": [
    "# random：随机数"
   ]
  },
  {
   "cell_type": "markdown",
   "metadata": {},
   "source": [
    "- 定义：实现了一个伪随机数生成器，可用来生成随机数以及完成与随机数相关的功能\n",
    "- 函数：\n",
    "    - random.random()：用于生成半开区间0闭1开内的一个随机浮点数\n",
    "    - random.uniform(a,b)：用于生成一个指定范围内[a,b]的随机浮点数\n",
    "    - random.randint(a,b)：用于生成一个指定范围内[a,b]的整数\n",
    "    - random.randrange(start,stop[,step])：用于从指定范围start闭，stop开，按照基数step递增的集合中获取一个随机数\n",
    "    - random.randrange(stop)：等价于random.randrange(0,stop)\n",
    "    - random.choice(seq)：从指定序列seq中随机获取一个元素\n",
    "    - random.sample(population,k)：从指定序列中随机获取k个不重复的元素，并以列表形式返回，用于不进行内容替换的随机抽样\n",
    "    - random.shuffle(x[,random])：用于随机打乱一个列表中元素，需要注意的是该函数操作的是列表对象，且没有返回值"
   ]
  },
  {
   "cell_type": "code",
   "execution_count": 2,
   "metadata": {},
   "outputs": [
    {
     "name": "stdout",
     "output_type": "stream",
     "text": [
      "0.3869391734173736\n"
     ]
    }
   ],
   "source": [
    "import random\n",
    "# random()：获取0-1之间的随机小数\n",
    "print(random.random())"
   ]
  },
  {
   "cell_type": "code",
   "execution_count": 3,
   "metadata": {},
   "outputs": [
    {
     "name": "stdout",
     "output_type": "stream",
     "text": [
      "8\n"
     ]
    }
   ],
   "source": [
    "# 随机返回序列的某个值\n",
    "# 格式：random.choice(序列)\n",
    "l = [i for i in range(10)]\n",
    "print(random.choice(l))"
   ]
  },
  {
   "cell_type": "code",
   "execution_count": 5,
   "metadata": {},
   "outputs": [
    {
     "name": "stdout",
     "output_type": "stream",
     "text": [
      "[1, 9, 0, 8, 2, 6, 5, 7, 3, 4]\n"
     ]
    }
   ],
   "source": [
    "# 随机打乱列表\n",
    "# 格式：random.shuffle(列表),改变原列表\n",
    "l = [i for i in range(10)]\n",
    "random.shuffle(l)\n",
    "print(l)"
   ]
  },
  {
   "cell_type": "code",
   "execution_count": 6,
   "metadata": {},
   "outputs": [
    {
     "name": "stdout",
     "output_type": "stream",
     "text": [
      "17\n"
     ]
    }
   ],
   "source": [
    "# 返回a到b之间的随机整数，包含a和b\n",
    "print(random.randint(0,30))"
   ]
  }
 ],
 "metadata": {
  "kernelspec": {
   "display_name": "Python 3",
   "language": "python",
   "name": "python3"
  },
  "language_info": {
   "codemirror_mode": {
    "name": "ipython",
    "version": 3
   },
   "file_extension": ".py",
   "mimetype": "text/x-python",
   "name": "python",
   "nbconvert_exporter": "python",
   "pygments_lexer": "ipython3",
   "version": "3.7.0"
  }
 },
 "nbformat": 4,
 "nbformat_minor": 2
}
