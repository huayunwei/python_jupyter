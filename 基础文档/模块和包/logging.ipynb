{
 "cells": [
  {
   "cell_type": "markdown",
   "metadata": {},
   "source": [
    "# Logging 模块\n",
    "- 日志级别\n",
    "    - DEBUG\n",
    "    - INFO\n",
    "    - WARNING\n",
    "    - ERROR\n",
    "    - CRITICAL\n",
    "- 函数\n",
    "    - logging.debug(msg,*args,\\**kwargs)：创建一条严重级别为debug的日志记录\n",
    "    - logging.info()：创建一条严重级别为info的日志记录\n",
    "    - logging.warning()：创建一条严重级别为warning的日志记录\n",
    "    - logging.error()：创建一条严重级别为error的日志记录\n",
    "    - logging.critical()：创建一个严重级别为critical的日志记录\n",
    "    - logging.log()：创建一条严重级别为level的日志记录\n",
    "    - logging.basicConfig()：对root logger进行一次性配置\n",
    "    - logger.setLevel()：设置日志器将会处理的日志信息的最低严重级别\n",
    "    - logger.addHandler() 和 logger.removeHandler()：对该logger对象添加和移除一个handler对象\n",
    "    - logger.debug()：产生一条debug级别的日志"
   ]
  }
 ],
 "metadata": {
  "kernelspec": {
   "display_name": "Python 3",
   "language": "python",
   "name": "python3"
  },
  "language_info": {
   "codemirror_mode": {
    "name": "ipython",
    "version": 3
   },
   "file_extension": ".py",
   "mimetype": "text/x-python",
   "name": "python",
   "nbconvert_exporter": "python",
   "pygments_lexer": "ipython3",
   "version": "3.7.0"
  }
 },
 "nbformat": 4,
 "nbformat_minor": 2
}
