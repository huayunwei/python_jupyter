{
 "cells": [
  {
   "cell_type": "markdown",
   "metadata": {},
   "source": [
    "- [官网](https://pypi.org/project/Jinja2/#description)"
   ]
  },
  {
   "cell_type": "markdown",
   "metadata": {},
   "source": [
    "# jinja2"
   ]
  },
  {
   "cell_type": "markdown",
   "metadata": {},
   "source": [
    "- 安装：pip install jinja2\n",
    "- 三种语法：\n",
    "    - 控制结构：{% %}\n",
    "    - 变量取值：{{ }}\n",
    "    - 注释：{# #}"
   ]
  },
  {
   "cell_type": "code",
   "execution_count": null,
   "metadata": {},
   "outputs": [],
   "source": [
    "# 模板文件\n",
    "# -*- coding: utf-8 -*-\n",
    "\n",
    "from page import tools\n",
    "\n",
    "pages = tools.parseyaml()\n",
    "\n",
    "\n",
    "def get_locater(clazz_name, method_name):\n",
    "    locators = pages[clazz_name]['locators']\n",
    "    for locator in locators:\n",
    "        if locator['name'] == method_name:\n",
    "            return locator\n",
    "\n",
    "{% for page, locators in page_list.items() %}\n",
    "class {{page}}:{% for locator in locators %}\n",
    "    {{locator}} = get_locater('{{page}}', '{{locator}}'){% endfor %}\n",
    "\n",
    "    {% endfor %}"
   ]
  },
  {
   "cell_type": "code",
   "execution_count": null,
   "metadata": {},
   "outputs": [],
   "source": [
    "# 按照模板文件写入到其他文件中的方法\n",
    "def create_pages_py(page_list):\n",
    "    # 模板文件的环境\n",
    "    template_loader = jinja2.FileSystemLoader(searchpath=basepath)\n",
    "    template_env = jinja2.Environment(loader=template_loader)\n",
    "    # 模板文件中使用到的变量\n",
    "    templateVars = {\n",
    "        'page_list':page_list\n",
    "    }\n",
    "    template = template_env.get_template(\"模板文件名字\")\n",
    "    # 读取文件，按照模板文件写入到文件中\n",
    "    with open(os.path.join(basepath,\"要写入模板文件的名字\"),'w',encoding='utf-8') as f:\n",
    "        f.write(template.render(templateVars))"
   ]
  }
 ],
 "metadata": {
  "kernelspec": {
   "display_name": "Python 3",
   "language": "python",
   "name": "python3"
  },
  "language_info": {
   "codemirror_mode": {
    "name": "ipython",
    "version": 3
   },
   "file_extension": ".py",
   "mimetype": "text/x-python",
   "name": "python",
   "nbconvert_exporter": "python",
   "pygments_lexer": "ipython3",
   "version": "3.7.0"
  }
 },
 "nbformat": 4,
 "nbformat_minor": 2
}
