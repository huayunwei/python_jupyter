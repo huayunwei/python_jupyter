{
 "cells": [
  {
   "cell_type": "markdown",
   "metadata": {},
   "source": [
    "# time模块\n",
    "- 时间戳\n",
    "    - 从1970年1月1日0时0分0秒到现在经历的秒数\n",
    "    - 如果表示的时间是1970年以前或者太遥远的未来，可能出现异常\n",
    "- UTC时间\n",
    "    - UTC又称为世界协调时间，一英国的格林尼治天文所在地区的时间作为参考\n",
    "    - 中国为UTC+8 东八区\n",
    "- 夏令时\n",
    "    - 在夏天的时候将时间调快一个小时 "
   ]
  },
  {
   "cell_type": "code",
   "execution_count": 1,
   "metadata": {},
   "outputs": [
    {
     "name": "stdout",
     "output_type": "stream",
     "text": [
      "-28800\n",
      "-32400\n",
      "0\n"
     ]
    }
   ],
   "source": [
    "import time\n",
    "# 时间模块的属性\n",
    "# timezone：当前时区和UTC时间相差的秒数，在没有夏令营的情况下的间隔\n",
    "print(time.timezone)\n",
    "# altzone：获取当前时区与UTC时间相差的秒数，在有夏令时的情况下\n",
    "print(time.altzone)\n",
    "# daylight：测当前是否是夏令时时间状态，0表示是\n",
    "print(time.daylight)"
   ]
  },
  {
   "cell_type": "code",
   "execution_count": 2,
   "metadata": {},
   "outputs": [
    {
     "data": {
      "text/plain": [
       "1537325887.9324625"
      ]
     },
     "execution_count": 2,
     "metadata": {},
     "output_type": "execute_result"
    }
   ],
   "source": [
    "# time：时间戳\n",
    "time.time()"
   ]
  },
  {
   "cell_type": "code",
   "execution_count": 4,
   "metadata": {},
   "outputs": [
    {
     "name": "stdout",
     "output_type": "stream",
     "text": [
      "time.struct_time(tm_year=2018, tm_mon=9, tm_mday=19, tm_hour=10, tm_min=58, tm_sec=53, tm_wday=2, tm_yday=262, tm_isdst=0)\n",
      "10\n"
     ]
    }
   ],
   "source": [
    "# localtime：得到当前时间的时间结构\n",
    "t = time.localtime()\n",
    "print(t)\n",
    "print(t.tm_hour)"
   ]
  },
  {
   "cell_type": "code",
   "execution_count": 5,
   "metadata": {},
   "outputs": [
    {
     "name": "stdout",
     "output_type": "stream",
     "text": [
      "Wed Sep 19 11:11:39 2018\n"
     ]
    }
   ],
   "source": [
    "# asctime：返回元组的正常字符串化之后的时间格式\n",
    "# 格式：time.asctime(时间元组)\n",
    "# 返回值：字符串 Tue Jun 6 11:11：00 2017\n",
    "t = time.localtime()\n",
    "tt = time.asctime(t)\n",
    "print(tt)"
   ]
  },
  {
   "cell_type": "code",
   "execution_count": 6,
   "metadata": {},
   "outputs": [
    {
     "name": "stdout",
     "output_type": "stream",
     "text": [
      "Wed Sep 19 11:12:23 2018\n"
     ]
    }
   ],
   "source": [
    "# ctime：获取字符串化的当前时间\n",
    "t = time.ctime()\n",
    "print(t)"
   ]
  },
  {
   "cell_type": "code",
   "execution_count": 8,
   "metadata": {},
   "outputs": [
    {
     "name": "stdout",
     "output_type": "stream",
     "text": [
      "1537326816.0\n"
     ]
    }
   ],
   "source": [
    "# mktime：使用时间元组获取对应的时间戳\n",
    "t = time.localtime()\n",
    "ts = time.mktime(t)\n",
    "print(ts)"
   ]
  },
  {
   "cell_type": "code",
   "execution_count": 14,
   "metadata": {},
   "outputs": [],
   "source": [
    "# sleep：使程序进入睡眠，n秒后继续"
   ]
  },
  {
   "cell_type": "markdown",
   "metadata": {},
   "source": [
    "## datetime模块\n",
    "- datetime提供日期和时间的运算和表示"
   ]
  },
  {
   "cell_type": "code",
   "execution_count": 15,
   "metadata": {},
   "outputs": [
    {
     "name": "stdout",
     "output_type": "stream",
     "text": [
      "2018-09-19\n",
      "2018\n",
      "9\n",
      "19\n"
     ]
    }
   ],
   "source": [
    "# datetime.date：一个日期，有属性year,month,day来提供对应的值\n",
    "import datetime\n",
    "dt = datetime.date(2018,9,19)\n",
    "\n",
    "print(dt)\n",
    "print(dt.year)\n",
    "print(dt.month)\n",
    "print(dt.day)"
   ]
  },
  {
   "cell_type": "code",
   "execution_count": 28,
   "metadata": {},
   "outputs": [
    {
     "name": "stdout",
     "output_type": "stream",
     "text": [
      "12:55:41.209903\n",
      "12\n",
      "55\n",
      "41\n",
      "209903\n"
     ]
    }
   ],
   "source": [
    "from datetime import datetime\n",
    "# datetime.time：提供一个时间，有hour,minute,second,microsecond\n",
    "dd = datetime.time(datetime.now())\n",
    "print(dd)\n",
    "print(dd.hour)\n",
    "print(dd.minute)\n",
    "print(dd.second)\n",
    "print(dd.microsecond)"
   ]
  },
  {
   "cell_type": "code",
   "execution_count": 21,
   "metadata": {},
   "outputs": [
    {
     "name": "stdout",
     "output_type": "stream",
     "text": [
      "2018-09-19 12:51:00.524214\n",
      "2018-09-19 12:51:00.524213\n",
      "2018-09-19 04:51:00.524213\n",
      "2018-09-19 12:51:00.524214\n"
     ]
    }
   ],
   "source": [
    "# datetime.datetime：提供日期跟时间的组合\n",
    "from datetime import datetime\n",
    "dt = datetime(2018,3,26)\n",
    "# today：\n",
    "print(dt.today())\n",
    "# now\n",
    "print(dt.now())\n",
    "# utcnow\n",
    "print(dt.utcnow())\n",
    "# fromtimestamp：从时间戳中返回本地时间\n",
    "print(dt.fromtimestamp(time.time()))"
   ]
  },
  {
   "cell_type": "code",
   "execution_count": 30,
   "metadata": {},
   "outputs": [
    {
     "name": "stdout",
     "output_type": "stream",
     "text": [
      "1:00:00\n",
      "2018-09-19 14:00:09\n"
     ]
    }
   ],
   "source": [
    "# datetime.timedelta：提供一个时间差\n",
    "from datetime import datetime,timedelta\n",
    "t1 = datetime.now()\n",
    "\n",
    "td = timedelta(hours=1)\n",
    "print(td)\n",
    "# 当前时间+一个小时后的时间，格式化输出\n",
    "print((t1+td).strftime(\"%Y-%m-%d %H:%M:%S\"))"
   ]
  },
  {
   "cell_type": "code",
   "execution_count": null,
   "metadata": {},
   "outputs": [],
   "source": [
    "# timeit - 时间测量工具"
   ]
  },
  {
   "cell_type": "markdown",
   "metadata": {},
   "source": [
    "## datetime.datetime模块\n",
    "- datetime.today()：返回当前本地datetime\n",
    "- datetime.date()：返回同年月日的date对象\n",
    "- datetime.time()：返回相同年月日的date对象"
   ]
  }
 ],
 "metadata": {
  "kernelspec": {
   "display_name": "Python 3",
   "language": "python",
   "name": "python3"
  },
  "language_info": {
   "codemirror_mode": {
    "name": "ipython",
    "version": 3
   },
   "file_extension": ".py",
   "mimetype": "text/x-python",
   "name": "python",
   "nbconvert_exporter": "python",
   "pygments_lexer": "ipython3",
   "version": "3.7.0"
  }
 },
 "nbformat": 4,
 "nbformat_minor": 2
}
