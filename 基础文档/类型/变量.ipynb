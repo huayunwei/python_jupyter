{
 "cells": [
  {
   "cell_type": "markdown",
   "metadata": {},
   "source": [
    "# 变量\n",
    "\n",
    "- 定义：变量就是可以重复使用的一个量，或者一个代号\n",
    "- 命名规则：\n",
    "    - 可以包含数字，大小写字母，下划线\n",
    "    - 数字不能开头\n",
    "    - 一般不建议以下划线开头，因为在python中下划线开头的变量有特殊的意义\n",
    "    - 大小写敏感\n",
    "    - 避免以保留字和关键字命名\n",
    "    - 推荐写法：\n",
    "        - 驼峰命名法：\n",
    "            - 大驼峰：每个单词的第一个字母均大写，一般用于对类的命名\n",
    "            - 小驼峰：类似大驼峰，但是第一个字母小写，一般用于普通的变量和函数命名\n",
    "        - posix写法：\n",
    "            - 多个单词用下划线链接\n",
    "            - 所有单词小写\n",
    "            "
   ]
  },
  {
   "cell_type": "code",
   "execution_count": 1,
   "metadata": {},
   "outputs": [
    {
     "name": "stdout",
     "output_type": "stream",
     "text": [
      "['False', 'None', 'True', 'and', 'as', 'assert', 'async', 'await', 'break', 'class', 'continue', 'def', 'del', 'elif', 'else', 'except', 'finally', 'for', 'from', 'global', 'if', 'import', 'in', 'is', 'lambda', 'nonlocal', 'not', 'or', 'pass', 'raise', 'return', 'try', 'while', 'with', 'yield']\n"
     ]
    }
   ],
   "source": [
    "# 查看关键字的方法\n",
    "import keyword\n",
    "print(keyword.kwlist)"
   ]
  },
  {
   "cell_type": "markdown",
   "metadata": {},
   "source": [
    "- 变量的声明：\n",
    "    - 一般方式：var_name = var_value\n",
    "    - 多个变量同一个值：var_1 = var_2 = var_3 = var_value  -- 其中赋值是从右向左的\n",
    "    - 多个变量不同的值：var_1, var_2, var_3 = value1, value2, value3\n",
    "- 变量的类型\n",
    "    - 严格意义上讲：python只有一个类型，就是对象\n",
    "    - 标准划分：\n",
    "        - 数字：number\n",
    "        - 字符串：str\n",
    "        - 列表：list\n",
    "        - 元组：tuple\n",
    "        - 字典：dict\n",
    "        - 集合：set\n",
    " - 变量的方法：\n",
    "     - 查看变量的类型：type(var_name)\n",
    "     - 查看变量的地址：id(var_name)"
   ]
  },
  {
   "cell_type": "code",
   "execution_count": 4,
   "metadata": {},
   "outputs": [
    {
     "name": "stdout",
     "output_type": "stream",
     "text": [
      "数字： <class 'int'>\n",
      "字符串： <class 'str'>\n",
      "列表： <class 'list'>\n",
      "元组只有一个元素的写法： <class 'int'>\n",
      "元组只有一个元素的写法： <class 'tuple'>\n",
      "字典： <class 'dict'>\n"
     ]
    }
   ],
   "source": [
    "# 查看变量的类型\n",
    "age = 1\n",
    "print(\"数字：\",type(age))\n",
    "\n",
    "age = '1'\n",
    "print(\"字符串：\",type(age))\n",
    "\n",
    "age = [1]\n",
    "print(\"列表：\",type(age))\n",
    "\n",
    "age = (1)\n",
    "print(\"元组只有一个元素的写法：\",type(age))\n",
    "age = (1,)\n",
    "print(\"元组只有一个元素的写法：\",type(age))\n",
    "\n",
    "age = {'value':1}\n",
    "print(\"字典：\",type(age))"
   ]
  }
 ],
 "metadata": {
  "kernelspec": {
   "display_name": "Python 3",
   "language": "python",
   "name": "python3"
  },
  "language_info": {
   "codemirror_mode": {
    "name": "ipython",
    "version": 3
   },
   "file_extension": ".py",
   "mimetype": "text/x-python",
   "name": "python",
   "nbconvert_exporter": "python",
   "pygments_lexer": "ipython3",
   "version": "3.7.0"
  }
 },
 "nbformat": 4,
 "nbformat_minor": 2
}
