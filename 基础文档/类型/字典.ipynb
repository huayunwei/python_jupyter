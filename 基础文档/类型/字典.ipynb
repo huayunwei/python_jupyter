{
 "cells": [
  {
   "cell_type": "markdown",
   "metadata": {},
   "source": [
    "# 字典\n",
    "- 字典是一种组合数据，没有顺序的组合数据，数据以键值对形式出现\n",
    "- 特点\n",
    "    - 字典是序列类型，但是是无序序列，所有没有分片和索引\n",
    "    - 字典中的数据每个都是有键值对组成\n",
    "        - key：必须是哈希值，比如int,string,float,tuple，但是list,set,dict不行\n",
    "        - value：任何值\n",
    "        \n",
    "## 字典的创建"
   ]
  },
  {
   "cell_type": "code",
   "execution_count": 7,
   "metadata": {},
   "outputs": [
    {
     "name": "stdout",
     "output_type": "stream",
     "text": [
      "{}\n",
      "{}\n",
      "{'one': 1, 'two': 2}\n",
      "{'one': 1, 'two': 2}\n",
      "{'one': 1, 'two': 2}\n"
     ]
    }
   ],
   "source": [
    "# 空字典\n",
    "d = {}\n",
    "print(d)\n",
    "\n",
    "# 创建空字典\n",
    "d = dict()\n",
    "print(d)\n",
    "\n",
    "# 创建非空字典\n",
    "d = dict({\"one\":1,\"two\":2})\n",
    "print(d)\n",
    "\n",
    "d = dict(one=1,two=2)\n",
    "print(d)\n",
    "\n",
    "d = dict([(\"one\",1),(\"two\",2)])\n",
    "print(d)"
   ]
  },
  {
   "cell_type": "markdown",
   "metadata": {},
   "source": [
    "## 字典键对应值的获取"
   ]
  },
  {
   "cell_type": "code",
   "execution_count": 1,
   "metadata": {},
   "outputs": [
    {
     "name": "stdout",
     "output_type": "stream",
     "text": [
      "1\n"
     ]
    }
   ],
   "source": [
    "a = {'a':1,'b':2}\n",
    "print(a['a'])"
   ]
  },
  {
   "cell_type": "markdown",
   "metadata": {},
   "source": [
    "## 字典增加内容"
   ]
  },
  {
   "cell_type": "code",
   "execution_count": 4,
   "metadata": {},
   "outputs": [
    {
     "name": "stdout",
     "output_type": "stream",
     "text": [
      "{'a': 1, 'b': 2, 'c': 3}\n",
      "{'a': 4, 'b': 2, 'c': 3}\n"
     ]
    }
   ],
   "source": [
    "a = {'a':1,'b':2}\n",
    "a['c'] = 3\n",
    "print(a)\n",
    "a['a'] = 4\n",
    "print(a)"
   ]
  },
  {
   "cell_type": "markdown",
   "metadata": {},
   "source": [
    "## 字典的方法\n",
    "- 删除\n",
    "    - clear\n",
    "    - del\n",
    "    - pop\n",
    "    - popitem：随机删除并返回字典内某个键的值\n",
    "- keys：所有键\n",
    "- values：所有值\n",
    "- items：所有键值\n",
    "- get：获取值"
   ]
  },
  {
   "cell_type": "code",
   "execution_count": 9,
   "metadata": {},
   "outputs": [
    {
     "name": "stdout",
     "output_type": "stream",
     "text": [
      "['__class__', '__contains__', '__delattr__', '__delitem__', '__dir__', '__doc__', '__eq__', '__format__', '__ge__', '__getattribute__', '__getitem__', '__gt__', '__hash__', '__init__', '__init_subclass__', '__iter__', '__le__', '__len__', '__lt__', '__ne__', '__new__', '__reduce__', '__reduce_ex__', '__repr__', '__setattr__', '__setitem__', '__sizeof__', '__str__', '__subclasshook__', 'clear', 'copy', 'fromkeys', 'get', 'items', 'keys', 'pop', 'popitem', 'setdefault', 'update', 'values']\n"
     ]
    }
   ],
   "source": [
    "print(dir(dict))"
   ]
  },
  {
   "cell_type": "code",
   "execution_count": 8,
   "metadata": {},
   "outputs": [
    {
     "name": "stdout",
     "output_type": "stream",
     "text": [
      "********** del **********\n",
      "{'two': 2}\n",
      "********** pop **********\n",
      "{'two': 2}\n",
      "********** popitem **********\n",
      "{'one': 1}\n",
      "********** clear **********\n",
      "{}\n",
      "********** keys **********\n",
      "one\n",
      "two\n",
      "********** values **********\n",
      "1\n",
      "2\n",
      "********** items **********\n",
      "one 1\n",
      "two 2\n",
      "********** get **********\n",
      "1\n"
     ]
    }
   ],
   "source": [
    "# del\n",
    "print(\"*\"*10,\"del\",\"*\"*10)\n",
    "d = {\"one\":1,\"two\":2}\n",
    "del d[\"one\"]\n",
    "print(d)\n",
    "\n",
    "# pop\n",
    "print(\"*\"*10,\"pop\",\"*\"*10)\n",
    "d = {\"one\":1,\"two\":2}\n",
    "d.pop('one')\n",
    "print(d)\n",
    "\n",
    "# popitem\n",
    "print(\"*\"*10,\"popitem\",\"*\"*10)\n",
    "d = {\"one\":1,\"two\":2}\n",
    "d.popitem()\n",
    "print(d)\n",
    "\n",
    "# clear\n",
    "print(\"*\"*10,\"clear\",\"*\"*10)\n",
    "d = {\"one\":1,\"two\":2}\n",
    "d.clear()\n",
    "print(d)\n",
    "\n",
    "# keys\n",
    "print(\"*\"*10,\"keys\",\"*\"*10)\n",
    "d = {\"one\":1,\"two\":2}\n",
    "for i in d.keys():\n",
    "    print(i)\n",
    "    \n",
    "# values\n",
    "print(\"*\"*10,\"values\",\"*\"*10)\n",
    "d = {\"one\":1,\"two\":2}\n",
    "for i in d.values():\n",
    "    print(i)\n",
    "\n",
    "# items\n",
    "print(\"*\"*10,\"items\",\"*\"*10)\n",
    "d = {\"one\":1,\"two\":2}\n",
    "for i,j in d.items():\n",
    "    print(i,j)\n",
    "\n",
    "# get\n",
    "print(\"*\"*10,\"get\",\"*\"*10)\n",
    "d = {\"one\":1,\"two\":2}\n",
    "print(d.get(\"one\"))"
   ]
  },
  {
   "cell_type": "markdown",
   "metadata": {},
   "source": [
    "## 字典生成式"
   ]
  },
  {
   "cell_type": "code",
   "execution_count": 10,
   "metadata": {},
   "outputs": [
    {
     "name": "stdout",
     "output_type": "stream",
     "text": [
      "{'one': 2, 'two': 4}\n"
     ]
    }
   ],
   "source": [
    "d = {\"one\":1,\"two\":2}\n",
    "\n",
    "dd = {k:v*2 for k,v in d.items()}\n",
    "print(dd)"
   ]
  }
 ],
 "metadata": {
  "kernelspec": {
   "display_name": "Python 3",
   "language": "python",
   "name": "python3"
  },
  "language_info": {
   "codemirror_mode": {
    "name": "ipython",
    "version": 3
   },
   "file_extension": ".py",
   "mimetype": "text/x-python",
   "name": "python",
   "nbconvert_exporter": "python",
   "pygments_lexer": "ipython3",
   "version": "3.7.0"
  }
 },
 "nbformat": 4,
 "nbformat_minor": 2
}
