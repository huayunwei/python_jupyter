{
 "cells": [
  {
   "cell_type": "markdown",
   "metadata": {},
   "source": [
    "# 列表\n",
    "## 列表的创建\n",
    "    - 以字面量的方式：lis = []\n",
    "    - 使用函数：lis = list(),注：list函数只能接受一个参数"
   ]
  },
  {
   "cell_type": "code",
   "execution_count": 4,
   "metadata": {},
   "outputs": [
    {
     "name": "stdout",
     "output_type": "stream",
     "text": [
      "[1, 2, 3, 4]\n",
      "[1, 2, 3, 4]\n"
     ]
    }
   ],
   "source": [
    "lis = list((1,2,3,4))\n",
    "print(lis)\n",
    "\n",
    "lis = list([1,2,3,4])\n",
    "print(lis)"
   ]
  },
  {
   "cell_type": "markdown",
   "metadata": {},
   "source": [
    "## 列表的方法：\n",
    "- 合并：list1 + list2"
   ]
  },
  {
   "cell_type": "code",
   "execution_count": 6,
   "metadata": {},
   "outputs": [
    {
     "name": "stdout",
     "output_type": "stream",
     "text": [
      "[1, 2, 3, 2, 3, 4]\n"
     ]
    }
   ],
   "source": [
    "lis1 = [1,2,3]\n",
    "lis2 = [2,3,4]\n",
    "\n",
    "print(lis1+lis2)"
   ]
  },
  {
   "cell_type": "markdown",
   "metadata": {},
   "source": [
    "   - 重复：*"
   ]
  },
  {
   "cell_type": "code",
   "execution_count": 7,
   "metadata": {},
   "outputs": [
    {
     "name": "stdout",
     "output_type": "stream",
     "text": [
      "[1, 2, 3, 1, 2, 3, 1, 2, 3]\n"
     ]
    }
   ],
   "source": [
    "lis1 = [1,2,3]\n",
    "print(lis1*3)"
   ]
  },
  {
   "cell_type": "markdown",
   "metadata": {},
   "source": [
    "- 添加\n",
    "    - append，extend：在末尾添加\n",
    "    - insert：在列表任意位置添加\n",
    "        - 参数1：插入的位置\n",
    "        - 参数2：插入的值"
   ]
  },
  {
   "cell_type": "code",
   "execution_count": 19,
   "metadata": {},
   "outputs": [
    {
     "name": "stdout",
     "output_type": "stream",
     "text": [
      "--------- append -------------\n",
      "[1, 2, 3, 4]\n",
      "[1, 2, 3, [1, 2, 3]]\n",
      "--------- extend -------------\n",
      "[1, 2, 3, 1, 2, 3]\n",
      "[1, 2, 3, 'a', 's', 'd', 'c']\n",
      "[1, 2, 3, 1, 2, 3]\n",
      "[1, 2, 3, 'key', 'key2']\n",
      "----------- insert ----------\n",
      "[1, 'a', 2, 3]\n"
     ]
    }
   ],
   "source": [
    "print(\"--------- append -------------\")\n",
    "lis1 = [1,2,3]\n",
    "lis1.append(4)\n",
    "print(lis1)\n",
    "\n",
    "lis1 = [1,2,3]\n",
    "lis1.append([1,2,3])\n",
    "print(lis1)\n",
    "\n",
    "print(\"--------- extend -------------\")\n",
    "\n",
    "lis1 = [1,2,3]\n",
    "lis1.extend([1,2,3])\n",
    "print(lis1)\n",
    "\n",
    "lis1 = [1,2,3]\n",
    "lis1.extend('asdc')\n",
    "print(lis1)\n",
    "\n",
    "lis1 = [1,2,3]\n",
    "lis1.extend((1,2,3))\n",
    "print(lis1)\n",
    "\n",
    "lis1 = [1,2,3]\n",
    "lis1.extend({'key':1,'key2':2})\n",
    "print(lis1)\n",
    "\n",
    "print(\"----------- insert ----------\")\n",
    "\n",
    "lis1 = [1,2,3]\n",
    "lis1.insert(1,'a')\n",
    "print(lis1)"
   ]
  },
  {
   "cell_type": "markdown",
   "metadata": {},
   "source": [
    "- 删除\n",
    "    - remove：删除指定元素\n",
    "        - 参数1：self\n",
    "        - 参数2：要删除的元素的值\n",
    "    - del：删除某个位置的元素\n",
    "    - pop：删除末尾的元素\n",
    "    - clear：清空所有元素"
   ]
  },
  {
   "cell_type": "code",
   "execution_count": 18,
   "metadata": {},
   "outputs": [
    {
     "name": "stdout",
     "output_type": "stream",
     "text": [
      "---------- remove -------------\n",
      "['a', 'c']\n",
      "---------- del -------------\n",
      "['a', 'c']\n",
      "---------- pop -------------\n",
      "['a', 'b']\n",
      "---------- clear -------------\n",
      "[]\n"
     ]
    }
   ],
   "source": [
    "print(\"---------- remove -------------\")\n",
    "lis1 = ['a','b','c']\n",
    "lis1.remove('b')\n",
    "print(lis1)\n",
    "\n",
    "\n",
    "print(\"---------- del -------------\")\n",
    "lis1 = ['a','b','c']\n",
    "del lis1[1]\n",
    "print(lis1)\n",
    "\n",
    "print(\"---------- pop -------------\")\n",
    "lis1 = ['a','b','c']\n",
    "lis1.pop()\n",
    "print(lis1)\n",
    "\n",
    "print(\"---------- clear -------------\")\n",
    "lis1 = ['a','b','c']\n",
    "lis1.clear()\n",
    "print(lis1)"
   ]
  },
  {
   "cell_type": "markdown",
   "metadata": {},
   "source": [
    "- 排序\n",
    "    - sorted：临时排序\n",
    "    - sort：永久排序\n",
    "    - reverse：永久反向排序"
   ]
  },
  {
   "cell_type": "code",
   "execution_count": 22,
   "metadata": {},
   "outputs": [
    {
     "name": "stdout",
     "output_type": "stream",
     "text": [
      "------ sorted -----\n",
      "排序： [1, 2, 3, 4]\n",
      "排序后列表的值： [4, 3, 2, 1]\n",
      "------ sort -------\n",
      "排序\n",
      "排序后列表的值： [1, 2, 3, 4]\n",
      "----- reverse -----\n",
      "反向排序\n",
      "反向排序后列表的值： [4, 3, 2, 1]\n"
     ]
    }
   ],
   "source": [
    "lis = [4,3,2,1]\n",
    "print(\"------ sorted -----\")\n",
    "print(\"排序：\",sorted(lis))\n",
    "print(\"排序后列表的值：\",lis)\n",
    "\n",
    "print(\"------ sort -------\")\n",
    "print(\"排序\")\n",
    "lis.sort()\n",
    "print(\"排序后列表的值：\",lis)\n",
    "\n",
    "print(\"----- reverse -----\")\n",
    "print(\"反向排序\")\n",
    "lis.reverse()\n",
    "print(\"反向排序后列表的值：\",lis)"
   ]
  },
  {
   "cell_type": "markdown",
   "metadata": {},
   "source": [
    "- 判断\n",
    "    - 判断列表是否为空\n",
    "        - list == []\n",
    "        - len(list) == 0\n",
    "        - list 如果不为空，则在判断语句中默认为True，如果为空，默认为False\n",
    "    - 判断值是否在列表内\n",
    "        - in/not in"
   ]
  },
  {
   "cell_type": "markdown",
   "metadata": {},
   "source": [
    "- 列表循环\n",
    "    - 双层列表循环\n",
    "        \n",
    "            for k,v in a:\n",
    "                print(\"xxxx\")\n",
    "                \n",
    "- 列表生成式\n",
    "    - x = [ 表达式 for x in list (可以有判断语句if xxx) ]"
   ]
  },
  {
   "cell_type": "markdown",
   "metadata": {},
   "source": [
    "- 其他方法\n",
    "    - min：列表最小值\n",
    "    - max：列表最大值\n",
    "    - count：列表中某个值出现的次数\n",
    "    - sum：列表所有值的和\n",
    "    - list：列表转换\n",
    "    - copy：拷贝"
   ]
  }
 ],
 "metadata": {
  "kernelspec": {
   "display_name": "Python 3",
   "language": "python",
   "name": "python3"
  },
  "language_info": {
   "codemirror_mode": {
    "name": "ipython",
    "version": 3
   },
   "file_extension": ".py",
   "mimetype": "text/x-python",
   "name": "python",
   "nbconvert_exporter": "python",
   "pygments_lexer": "ipython3",
   "version": "3.7.0"
  }
 },
 "nbformat": 4,
 "nbformat_minor": 2
}
