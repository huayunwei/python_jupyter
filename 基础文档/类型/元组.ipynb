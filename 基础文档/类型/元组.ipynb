{
 "cells": [
  {
   "cell_type": "markdown",
   "metadata": {},
   "source": [
    "# 元组\n",
    "- 元组可以看成是一个不可改变的list\n",
    "- 特点\n",
    "    - 是序列表，有序\n",
    "    - 元组数据值可以访问，不能修改\n",
    "    - 元组数据可以是任意类型\n",
    "    - 除了不可修改之外，其他的和list一样\n",
    "- 和列表相同的操作\n",
    "    - 使用方括号加下标访问元素\n",
    "    - 切片：形成新元组对象\n",
    "    - count()/index()\n",
    "    - len()/max()/min()/tuple()"
   ]
  },
  {
   "cell_type": "markdown",
   "metadata": {},
   "source": [
    "## 元组方法"
   ]
  },
  {
   "cell_type": "code",
   "execution_count": 3,
   "metadata": {},
   "outputs": [
    {
     "name": "stdout",
     "output_type": "stream",
     "text": [
      "['__add__', '__class__', '__contains__', '__delattr__', '__dir__', '__doc__', '__eq__', '__format__', '__ge__', '__getattribute__', '__getitem__', '__getnewargs__', '__gt__', '__hash__', '__init__', '__init_subclass__', '__iter__', '__le__', '__len__', '__lt__', '__mul__', '__ne__', '__new__', '__reduce__', '__reduce_ex__', '__repr__', '__rmul__', '__setattr__', '__sizeof__', '__str__', '__subclasshook__', 'count', 'index']\n"
     ]
    }
   ],
   "source": [
    "print(dir(tuple))"
   ]
  },
  {
   "cell_type": "markdown",
   "metadata": {},
   "source": [
    "## 元组的创建"
   ]
  },
  {
   "cell_type": "code",
   "execution_count": 1,
   "metadata": {},
   "outputs": [],
   "source": [
    "# 创建空元组\n",
    "t = ()\n",
    "\n",
    "# 创建一个只有一个值的元组\n",
    "t = (1,)\n",
    "\n",
    "t = 1,\n",
    "\n",
    "# 创建多个值的元组\n",
    "t = (1,2,3)\n",
    "\n",
    "t = 1,2,3"
   ]
  },
  {
   "cell_type": "markdown",
   "metadata": {},
   "source": [
    "# 元组只保证它的一级子元素不可变，对于嵌套的元素内部，不保证不可变\n"
   ]
  },
  {
   "cell_type": "code",
   "execution_count": 2,
   "metadata": {},
   "outputs": [
    {
     "name": "stdout",
     "output_type": "stream",
     "text": [
      "(1, 2, [1, 5, 3])\n"
     ]
    }
   ],
   "source": [
    "tup = (1,2,[1,2,3])\n",
    "tup[2][1] = 5\n",
    "print(tup)"
   ]
  }
 ],
 "metadata": {
  "kernelspec": {
   "display_name": "Python 3",
   "language": "python",
   "name": "python3"
  },
  "language_info": {
   "codemirror_mode": {
    "name": "ipython",
    "version": 3
   },
   "file_extension": ".py",
   "mimetype": "text/x-python",
   "name": "python",
   "nbconvert_exporter": "python",
   "pygments_lexer": "ipython3",
   "version": "3.7.0"
  }
 },
 "nbformat": 4,
 "nbformat_minor": 2
}
