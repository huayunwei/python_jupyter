{
 "cells": [
  {
   "cell_type": "markdown",
   "metadata": {},
   "source": [
    "# bytes -- 字节类型\n",
    "## 创建bytes对象"
   ]
  },
  {
   "cell_type": "code",
   "execution_count": 1,
   "metadata": {},
   "outputs": [
    {
     "name": "stdout",
     "output_type": "stream",
     "text": [
      "<class 'bytes'>\n"
     ]
    }
   ],
   "source": [
    "# 字面量的方式\n",
    "b = b'' #创建一个空的bytes对象\n",
    "print(type(b))"
   ]
  },
  {
   "cell_type": "code",
   "execution_count": 4,
   "metadata": {},
   "outputs": [
    {
     "name": "stdout",
     "output_type": "stream",
     "text": [
      "b'string' <class 'bytes'>\n",
      "b'string' <class 'bytes'>\n"
     ]
    }
   ],
   "source": [
    "# bytes函数方式\n",
    "b = bytes('string',encoding='utf-8')\n",
    "print(b,type(b))\n",
    "c = bytes('string',encoding='GBK')\n",
    "print(c,type(c))"
   ]
  },
  {
   "cell_type": "code",
   "execution_count": 8,
   "metadata": {},
   "outputs": [
    {
     "name": "stdout",
     "output_type": "stream",
     "text": [
      "b'1' <class 'bytes'>\n",
      "b'2' <class 'bytes'>\n"
     ]
    }
   ],
   "source": [
    "# 使用字符串的编码函数\n",
    "d = '1'.encode('utf-8')\n",
    "print(d,type(d))\n",
    "d = '2'.encode()\n",
    "print(d,type(d))"
   ]
  },
  {
   "cell_type": "markdown",
   "metadata": {},
   "source": [
    "## 将bytes转换成字符串"
   ]
  },
  {
   "cell_type": "code",
   "execution_count": 7,
   "metadata": {},
   "outputs": [
    {
     "name": "stdout",
     "output_type": "stream",
     "text": [
      "b'123' 123\n"
     ]
    }
   ],
   "source": [
    "a = b'123'\n",
    "b = a.decode('utf-8')\n",
    "print(a,b)"
   ]
  }
 ],
 "metadata": {
  "kernelspec": {
   "display_name": "Python 3",
   "language": "python",
   "name": "python3"
  },
  "language_info": {
   "codemirror_mode": {
    "name": "ipython",
    "version": 3
   },
   "file_extension": ".py",
   "mimetype": "text/x-python",
   "name": "python",
   "nbconvert_exporter": "python",
   "pygments_lexer": "ipython3",
   "version": "3.7.0"
  }
 },
 "nbformat": 4,
 "nbformat_minor": 2
}
