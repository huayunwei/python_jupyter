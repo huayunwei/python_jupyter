{
 "cells": [
  {
   "cell_type": "markdown",
   "metadata": {},
   "source": [
    "# 集合\n",
    "\n",
    "- 确定的无序的唯一的数据，集合中每一个数据成为一个元素\n",
    "- 特点\n",
    "    - 集合内数据是无序，无法使用索引和分片\n",
    "    - 集合内部数据元素具有唯一性，可以用来排除重复数据"
   ]
  },
  {
   "cell_type": "markdown",
   "metadata": {},
   "source": [
    "## 集合的定义"
   ]
  },
  {
   "cell_type": "code",
   "execution_count": 1,
   "metadata": {},
   "outputs": [
    {
     "name": "stdout",
     "output_type": "stream",
     "text": [
      "<class 'set'>\n",
      "<class 'dict'>\n"
     ]
    }
   ],
   "source": [
    "s = {1,2,3} # 必须要有数值，否则定义的为dict\n",
    "print(type(s))\n",
    "\n",
    "s = {}\n",
    "print(type(s))"
   ]
  },
  {
   "cell_type": "markdown",
   "metadata": {},
   "source": [
    "## 集合方法\n",
    "- set：生成一个集合\n",
    "- add：添加\n",
    "- 删除\n",
    "    - clear：清空\n",
    "    - pop：移除\n",
    "    - remove：移除指定的值，直接改变原有值，如果要删除的值不存在，报错\n",
    "    - discard：移除指定的值，和remove一样，如果要删除的值不存在，不报错\n",
    "- copy：拷贝\n",
    "- intersection：交集\n",
    "- difference：差集\n",
    "- union：并集\n",
    "- issubset：检查一个集合是否为另一个子集\n",
    "- issuperset：检查一个集合是否为另一个超集"
   ]
  },
  {
   "cell_type": "code",
   "execution_count": 2,
   "metadata": {},
   "outputs": [
    {
     "name": "stdout",
     "output_type": "stream",
     "text": [
      "{1, 3}\n"
     ]
    }
   ],
   "source": [
    "# add：向集合内添加元素\n",
    "s = {1}\n",
    "s.add(3)\n",
    "print(s)"
   ]
  },
  {
   "cell_type": "code",
   "execution_count": 7,
   "metadata": {},
   "outputs": [
    {
     "name": "stdout",
     "output_type": "stream",
     "text": [
      "********** clear **********\n",
      "set()\n",
      "********** pop **********\n",
      "{2, 3}\n",
      "********** remove **********\n",
      "{1, 3}\n",
      "********** discard **********\n",
      "{1, 3}\n",
      "{1, 3}\n"
     ]
    }
   ],
   "source": [
    "# clear：清空\n",
    "print(\"*\"*10,\"clear\",\"*\"*10)\n",
    "s = {1,2,3}\n",
    "s.clear()\n",
    "print(s)\n",
    "\n",
    "# pop\n",
    "print(\"*\"*10,\"pop\",\"*\"*10)\n",
    "s = {1,2,3}\n",
    "s.pop()\n",
    "print(s)\n",
    "\n",
    "# remove\n",
    "print(\"*\"*10,\"remove\",\"*\"*10)\n",
    "s = {1,2,3}\n",
    "s.remove(2)\n",
    "print(s)\n",
    "# s.remove(111000)  --- 会报错\n",
    "\n",
    "# discard\n",
    "print(\"*\"*10,\"discard\",\"*\"*10)\n",
    "s = {1,2,3}\n",
    "s.discard(2)\n",
    "print(s)\n",
    "s.discard(111000) #--- 不报错也不删除\n",
    "print(s)"
   ]
  },
  {
   "cell_type": "code",
   "execution_count": 10,
   "metadata": {},
   "outputs": [
    {
     "name": "stdout",
     "output_type": "stream",
     "text": [
      "********** intersection **********\n",
      "{5, 6}\n",
      "********** difference **********\n",
      "{1, 2, 3, 4}\n",
      "********** union **********\n",
      "{1, 2, 3, 4, 5, 6, 7, 8, 9}\n",
      "********** issubset **********\n",
      "False\n"
     ]
    }
   ],
   "source": [
    "# 集合函数\n",
    "\n",
    "s1 = {1,2,3,4,5,6}\n",
    "s2 = {5,6,7,8,9}\n",
    "\n",
    "# intersection：交集\n",
    "print(\"*\"*10,\"intersection\",\"*\"*10)\n",
    "s_1_2 = s1.intersection(s2)\n",
    "print(s_1_2)\n",
    "\n",
    "# difference：差集\n",
    "print(\"*\"*10,\"difference\",\"*\"*10)\n",
    "s_1_2 = s1.difference(s2)\n",
    "print(s_1_2)\n",
    "\n",
    "# union：并集\n",
    "print(\"*\"*10,\"union\",\"*\"*10)\n",
    "s_1_2 = s1.union(s2)\n",
    "print(s_1_2)\n",
    "\n",
    "# issubset：检查一个集合是否为另一个子集\n",
    "print(\"*\"*10,\"issubset\",\"*\"*10)\n",
    "s_1_2 = s1.issubset(s2)\n",
    "print(s_1_2)"
   ]
  },
  {
   "cell_type": "code",
   "execution_count": 11,
   "metadata": {},
   "outputs": [
    {
     "name": "stdout",
     "output_type": "stream",
     "text": [
      "{1, 2, 3, 4}\n"
     ]
    },
    {
     "ename": "TypeError",
     "evalue": "unsupported operand type(s) for +: 'set' and 'set'",
     "output_type": "error",
     "traceback": [
      "\u001b[1;31m---------------------------------------------------------------------------\u001b[0m",
      "\u001b[1;31mTypeError\u001b[0m                                 Traceback (most recent call last)",
      "\u001b[1;32m<ipython-input-11-4ef8278d9380>\u001b[0m in \u001b[0;36m<module>\u001b[1;34m()\u001b[0m\n\u001b[0;32m      6\u001b[0m \u001b[0mprint\u001b[0m\u001b[1;33m(\u001b[0m\u001b[0ms_1\u001b[0m\u001b[1;33m)\u001b[0m\u001b[1;33m\u001b[0m\u001b[0m\n\u001b[0;32m      7\u001b[0m \u001b[1;33m\u001b[0m\u001b[0m\n\u001b[1;32m----> 8\u001b[1;33m \u001b[0ms_2\u001b[0m \u001b[1;33m=\u001b[0m \u001b[0ms1\u001b[0m \u001b[1;33m+\u001b[0m \u001b[0ms2\u001b[0m\u001b[1;33m\u001b[0m\u001b[0m\n\u001b[0m\u001b[0;32m      9\u001b[0m \u001b[0mprint\u001b[0m\u001b[1;33m(\u001b[0m\u001b[0ms_2\u001b[0m\u001b[1;33m)\u001b[0m\u001b[1;33m\u001b[0m\u001b[0m\n",
      "\u001b[1;31mTypeError\u001b[0m: unsupported operand type(s) for +: 'set' and 'set'"
     ]
    }
   ],
   "source": [
    "# 集合的数学操作\n",
    "s1 = {1,2,3,4,5,6}\n",
    "s2 = {5,6,7,8,9}\n",
    "\n",
    "s_1 = s1 - s2\n",
    "print(s_1)\n",
    "\n",
    "s_2 = s1 + s2\n",
    "print(s_2)"
   ]
  }
 ],
 "metadata": {
  "kernelspec": {
   "display_name": "Python 3",
   "language": "python",
   "name": "python3"
  },
  "language_info": {
   "codemirror_mode": {
    "name": "ipython",
    "version": 3
   },
   "file_extension": ".py",
   "mimetype": "text/x-python",
   "name": "python",
   "nbconvert_exporter": "python",
   "pygments_lexer": "ipython3",
   "version": "3.7.0"
  }
 },
 "nbformat": 4,
 "nbformat_minor": 2
}
