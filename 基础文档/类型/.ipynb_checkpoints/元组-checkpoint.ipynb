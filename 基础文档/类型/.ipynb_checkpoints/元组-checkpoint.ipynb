{
 "cells": [
  {
   "cell_type": "markdown",
   "metadata": {},
   "source": [
    "# 元组\n",
    "- 元组可以看成是一个不可改变的list\n",
    "- 特点\n",
    "    - 是序列表，有序\n",
    "    - 元组数据值可以访问，不能修改\n",
    "    - 元组数据可以是任意类型\n",
    "    - 除了不可修改之外，其他的和list一样"
   ]
  },
  {
   "cell_type": "markdown",
   "metadata": {},
   "source": [
    "## 元组的创建"
   ]
  },
  {
   "cell_type": "code",
   "execution_count": 1,
   "metadata": {},
   "outputs": [],
   "source": [
    "# 创建空元组\n",
    "t = ()\n",
    "\n",
    "# 创建一个只有一个值的元组\n",
    "t = (1,)\n",
    "\n",
    "t = 1,\n",
    "\n",
    "# 创建多个值的元组\n",
    "t = (1,2,3)\n",
    "\n",
    "t = 1,2,3"
   ]
  }
 ],
 "metadata": {
  "kernelspec": {
   "display_name": "Python 3",
   "language": "python",
   "name": "python3"
  },
  "language_info": {
   "codemirror_mode": {
    "name": "ipython",
    "version": 3
   },
   "file_extension": ".py",
   "mimetype": "text/x-python",
   "name": "python",
   "nbconvert_exporter": "python",
   "pygments_lexer": "ipython3",
   "version": "3.7.0"
  }
 },
 "nbformat": 4,
 "nbformat_minor": 2
}
