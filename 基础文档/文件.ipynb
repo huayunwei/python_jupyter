{
 "cells": [
  {
   "cell_type": "markdown",
   "metadata": {},
   "source": [
    "# 文件\n",
    "- 长久保存信息的一种数据信息集合\n",
    "- 操作\n",
    "    - 打开文件：open\n",
    "        - 参数1：dir -- 文件的路径和名称，名称要有后缀名吗？\n",
    "        - 参数2：mode -- 表名文件用什么方式打开\n",
    "            - r：只读\n",
    "            - w：写，覆盖以前的内容\n",
    "            - x：创建，如果文件已经存在，则报错\n",
    "            - a：追加，以追加的方式对文件内容进行写入\n",
    "            - b：binary，二进制方式写入\n",
    "            - t：文本方式打开\n",
    "            - +：可读写"
   ]
  },
  {
   "cell_type": "code",
   "execution_count": 1,
   "metadata": {},
   "outputs": [],
   "source": [
    "# 打开文件\n",
    "# r表示后面字符串内容不需要转义\n",
    "f = open(r\"test01.txt\",\"w\")\n",
    "f.close()"
   ]
  },
  {
   "cell_type": "markdown",
   "metadata": {},
   "source": [
    "## with语句\n",
    "- with语句使用的技术是一种称为上下文管理协议的技术\n",
    "- 自动判断文件的作用域，自动关闭不再使用的文件\n",
    "## seek（offset,from）\n",
    "- 移动文件的读取位置，也叫读取指针\n",
    "- from的取值范围\n",
    "    - 0：从文件头开始偏移\n",
    "    - 1：从文件当前位置开始偏移\n",
    "    - 2：从文件末尾开始偏移\n",
    "- 移动的单位是字节\n",
    "- 一个汉字由若干字节构成\n",
    "- 返回文件只针对当前位置\n",
    "## 文件的写操作\n",
    "- write(str)：把字符串写入文件\n",
    "- writeline(str)：吧字符串按行写入文件\n",
    "- 区别：\n",
    "    - write函数参数只能是字符串\n",
    "    - writeline函数参数可以是字符串，也可以是字符序列"
   ]
  }
 ],
 "metadata": {
  "kernelspec": {
   "display_name": "Python 3",
   "language": "python",
   "name": "python3"
  },
  "language_info": {
   "codemirror_mode": {
    "name": "ipython",
    "version": 3
   },
   "file_extension": ".py",
   "mimetype": "text/x-python",
   "name": "python",
   "nbconvert_exporter": "python",
   "pygments_lexer": "ipython3",
   "version": "3.7.0"
  }
 },
 "nbformat": 4,
 "nbformat_minor": 2
}
