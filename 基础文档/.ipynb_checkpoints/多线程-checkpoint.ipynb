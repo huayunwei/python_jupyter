{
 "cells": [
  {
   "cell_type": "markdown",
   "metadata": {},
   "source": [
    "# threading"
   ]
  },
  {
   "cell_type": "code",
   "execution_count": null,
   "metadata": {},
   "outputs": [],
   "source": [
    "class Thread:\n",
    "    def __init__(self, group=None, target=None, name=None,args=(), kwargs=None, *, daemon=None):\n",
    "    '''\n",
    "    group：group参数必须为空，参数group是预留的，用于将来扩展\n",
    "    target：可调用对象，在线程启动后执行\n",
    "    name：参数name是线程的名字，默认值为Thread-N,N是一个数字\n",
    "    args：参数给线程函数target的参数，必须是tuple类型\n",
    "    kwargs：关键字参数，字典类型{}\n",
    "    '''"
   ]
  },
  {
   "cell_type": "markdown",
   "metadata": {},
   "source": [
    "## start方法和run方法的区别\n",
    "- start方法 开始线程活动\n",
    "    - 每个线程对象来说它只能被调用一次， 它安排对象在一个另外的单独线程中调用run方法\n",
    "    - 当该方法在同一个线程对象中被调用超过一次时，会引入RuntimeError（运行时错误）\n",
    "- run方法 代表了线程活动的方法\n",
    "    - 可以在子类中重写此方法\n",
    "    - 标准run方法调用了传递给对象的构造函数的可调对象作为目标参数，如果有这样的参数的话，顺序和关键字参数分别从args和kargs取得"
   ]
  },
  {
   "cell_type": "markdown",
   "metadata": {},
   "source": [
    "## 线程的属性值\n",
    "- daemon：表示线程是否是守护线程，默认"
   ]
  },
  {
   "cell_type": "markdown",
   "metadata": {},
   "source": [
    "## 函数式"
   ]
  },
  {
   "cell_type": "code",
   "execution_count": null,
   "metadata": {},
   "outputs": [],
   "source": [
    "# 不带参数的多线程\n",
    "import threading\n",
    "import time\n",
    "\n",
    "def chi():\n",
    "    print(\"%s 吃着火锅开始：\" % time.ctime())\n",
    "    time.sleep(1)\n",
    "    print(\"%s 吃着火锅：涮羊肉\" % time.ctime())\n",
    "    time.sleep(1)\n",
    "    print(\"%s 吃着火锅：涮牛肉\" % time.ctime())\n",
    "    time.sleep(1)\n",
    "    print(\"%s 吃着火锅：贡丸\" % time.ctime())\n",
    "    time.sleep(1)\n",
    "    print(\"%s 吃火锅结束！\" % time.ctime())\n",
    "def ting():\n",
    "    print(\"%s 哼着小曲1！\" % time.ctime())\n",
    "    time.sleep(2)\n",
    "    print(\"%s 哼着小曲2！\" % time.ctime())\n",
    "    time.sleep(2)\n",
    "    print(\"%s 哼着小曲3！\" % time.ctime())\n",
    "    time.sleep(2)\n",
    "    print(\"%s 哼着小曲4！\" % time.ctime())\n",
    "    time.sleep(2)\n",
    "    print(\"%s 哼着小曲5！\" % time.ctime())\n",
    "    time.sleep(2)\n",
    "\n",
    "# 创建线程数组\n",
    "threads = []\n",
    "# 创建线程t1，并添加到线程数组\n",
    "t1 = threading.Thread(target=chi)\n",
    "threads.append(t1)\n",
    "# 创建线程t2，并添加到线程数组\n",
    "t2 = threading.Thread(target=ting)\n",
    "threads.append(t2)\n",
    "\n",
    "if __name__ == '__main__':\n",
    "    # 启动线程\n",
    "    for t in threads:\n",
    "        t.start()"
   ]
  },
  {
   "cell_type": "code",
   "execution_count": null,
   "metadata": {},
   "outputs": [],
   "source": [
    "# 带参数的多线程\n",
    "# coding:utf-8\n",
    "import threading\n",
    "import time\n",
    "\n",
    "def chi(threadName,name):\n",
    "    print(\"%s 吃着%s开始：\" % (time.ctime(),threadName))\n",
    "    print(\"%s 吃着火锅：涮羊肉\" % time.ctime())\n",
    "    time.sleep(1)\n",
    "    time.sleep(1)\n",
    "    print(\"%s 吃着火锅：涮牛肉\" % time.ctime())\n",
    "    time.sleep(1)\n",
    "    print(\"%s 吃着火锅：贡丸\" % time.ctime())\n",
    "    time.sleep(1)\n",
    "    print(\"%s 吃着%s结束--\" % (time.ctime(),threadName))\n",
    "    print(\"%s 运行结束！\"%name)\n",
    "\n",
    "\n",
    "def ting(threadName):\n",
    "    print(\"%s 哼着%s1！\" % (time.ctime(),threadName))\n",
    "    time.sleep(2)\n",
    "    print(\"%s 哼着小曲2！\" % time.ctime())\n",
    "    time.sleep(2)\n",
    "    print(\"%s 哼着小曲3！\" % time.ctime())\n",
    "    time.sleep(2)\n",
    "    print(\"%s 哼着小曲4！\" % time.ctime())\n",
    "    time.sleep(2)\n",
    "    print(\"%s 哼着小曲5！\" % time.ctime())\n",
    "    time.sleep(2)\n",
    "\n",
    "# 创建线程数组\n",
    "threads = []\n",
    "# 创建线程t1，并添加到线程数组\n",
    "# t1 = threading.Thread(target=chi, args=(\"火锅\",\"吃火锅\",))\n",
    "\n",
    "# 传kwargs参数\n",
    "t1 = threading.Thread(target=chi, kwargs={\"threadName\":\"火锅\",\"name\":\"吃火锅\"})\n",
    "\n",
    "threads.append(t1)\n",
    "# 创建线程t2，并添加到线程数组\n",
    "t2 = threading.Thread(target=ting,args=(\"小曲\",))\n",
    "threads.append(t2)\n",
    "\n",
    "if __name__ == '__main__':\n",
    "    # 启动线程\n",
    "    for t in threads:\n",
    "        t.start()"
   ]
  },
  {
   "cell_type": "markdown",
   "metadata": {},
   "source": [
    "# 类"
   ]
  },
  {
   "cell_type": "code",
   "execution_count": null,
   "metadata": {},
   "outputs": [],
   "source": [
    "import threading\n",
    "import time\n",
    "\n",
    "# 要执行的任务\n",
    "def chiHuoGuo(people):\n",
    "    print(\"%s 吃火锅的小伙伴-羊肉：%s\" % (time.ctime(),people))\n",
    "    time.sleep(1)\n",
    "    print(\"%s 吃火锅的小伙伴-鱼丸：%s\" % (time.ctime(),people))\n",
    "\n",
    "class myThread(threading.Thread):\n",
    "    # 继承父类threading.Thread\n",
    "    def __init__(self,people,name):\n",
    "        threading.Thread.__init__(self)\n",
    "        self.threadName = name\n",
    "        self.people = people\n",
    "        \n",
    "    def run(self):\n",
    "        # 把要执行的代码写到run函数里面 线程在创建后会直接运行run函数\n",
    "        print(\"开始线程: \" + self.threadName)\n",
    "\n",
    "        chiHuoGuo(self.people)     # 执行任务\n",
    "        print(\"结束线程: \" + self.name)\n",
    "        \n",
    "    # 创建新线程\n",
    "    thread1 = myThread(\"xiaoming\", \"Thread-1\")\n",
    "    thread2 = myThread(\"xiaowang\", \"Thread-2\")\n",
    "\n",
    "\n",
    "    # 开启线程\n",
    "    thread1.start()\n",
    "    thread2.start()\n",
    "\n",
    "    time.sleep(0.5)\n",
    "    print(\"退出主线程\")"
   ]
  },
  {
   "cell_type": "markdown",
   "metadata": {},
   "source": [
    "## 主线程和子线程的结束顺序\n",
    "- 场景一：主线程已经结束了，子线程还在跑 -- 正常情况下\n",
    "- 场景二：主线程结束了，子线程也必须结束 -- 将主线程设置为守护线程\n",
    "- 场景三：主线程等待子线程结束后才继续运行 -- 对主线程设置阻塞"
   ]
  },
  {
   "cell_type": "code",
   "execution_count": null,
   "metadata": {},
   "outputs": [],
   "source": [
    "# 场景一\n",
    "import threading\n",
    "import time\n",
    "\n",
    "def chiHuoGuo(people):\n",
    "    print(\"%s 吃火锅的小伙伴-羊肉：%s\" % (time.ctime(),people))\n",
    "    time.sleep(1)\n",
    "    print(\"%s 吃火锅的小伙伴-鱼丸：%s\" % (time.ctime(),people))\n",
    "\n",
    "\n",
    "class myThread (threading.Thread):   # 继承父类threading.Thread\n",
    "    def __init__(self, people, name):\n",
    "        '''重写threading.Thread初始化内容'''\n",
    "        threading.Thread.__init__(self)\n",
    "        self.threadName = name\n",
    "        self.people = people\n",
    "\n",
    "    def run(self):   # 把要执行的代码写到run函数里面 线程在创建后会直接运行run函数\n",
    "        '''重写run方法'''\n",
    "        print(\"开始线程: \" + self.threadName)\n",
    "\n",
    "        chiHuoGuo(self.people)     # 执行任务\n",
    "        print(\"结束线程: \" + self.name)\n",
    "\n",
    "print(\"yoyo请小伙伴开始吃火锅：！！！\")\n",
    "\n",
    "# 创建新线程\n",
    "thread1 = myThread(\"xiaoming\", \"Thread-1\")\n",
    "thread2 = myThread(\"xiaowang\", \"Thread-2\")\n",
    "\n",
    "# 开启线程\n",
    "thread1.start()\n",
    "thread2.start()\n",
    "\n",
    "time.sleep(0.1)\n",
    "print(\"退出主线程：吃火锅结束，结账走人\")"
   ]
  },
  {
   "cell_type": "code",
   "execution_count": null,
   "metadata": {},
   "outputs": [],
   "source": [
    "# 场景二：\n",
    "'''\n",
    "主线程中，创建了子线程thread1和thread2，并且在主线程中调用了thread.setDaemon()\n",
    "这个函数必须在start方法调用之前设置\n",
    "'''"
   ]
  }
 ],
 "metadata": {
  "kernelspec": {
   "display_name": "Python 3",
   "language": "python",
   "name": "python3"
  },
  "language_info": {
   "codemirror_mode": {
    "name": "ipython",
    "version": 3
   },
   "file_extension": ".py",
   "mimetype": "text/x-python",
   "name": "python",
   "nbconvert_exporter": "python",
   "pygments_lexer": "ipython3",
   "version": "3.7.0"
  }
 },
 "nbformat": 4,
 "nbformat_minor": 2
}
