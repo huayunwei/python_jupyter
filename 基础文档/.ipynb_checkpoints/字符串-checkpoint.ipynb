{
 "cells": [
  {
   "cell_type": "markdown",
   "metadata": {},
   "source": [
    "# 字符串\n",
    "- 定义：用来表示一串文字信息\n",
    "- 表示方式\n",
    "    - 单引号\n",
    "    - 双引号\n",
    "    - 三引号（三个单或三个双）"
   ]
  },
  {
   "cell_type": "markdown",
   "metadata": {},
   "source": [
    "## 字符串格式化\n",
    "- 利用百分号（%）\n",
    "- 利用format函数"
   ]
  },
  {
   "cell_type": "markdown",
   "metadata": {},
   "source": [
    "### 利用百分号格式化\n",
    "- 在字符串中，利用%表示一个特殊的含义，表示对字符进行格式化\n",
    "- 格式：%[(name)][flags][width].[precision] typecode\n",
    "    - (name)：命名\n",
    "    - flags：+,-,''或0,\n",
    "        - +：右对齐\n",
    "        - -：左对齐\n",
    "        - ''：少的项由空格填补\n",
    "        - 0：少的项由0填补\n",
    "    - width：显示的长度\n",
    "    - precision：小数位数后的精度\n",
    "    - typecode：类型\n",
    "        - %d：此处应该放入一个整数\n",
    "        - %s：此处应该放入一个字符串\n",
    "        - %b：二进制整数"
   ]
  },
  {
   "cell_type": "code",
   "execution_count": 16,
   "metadata": {},
   "outputs": [
    {
     "name": "stdout",
     "output_type": "stream",
     "text": [
      "ni hao\n",
      "ni hao,wo shi 13\n",
      " 2.300\n",
      "02.300\n",
      "2.300 \n"
     ]
    },
    {
     "ename": "TypeError",
     "evalue": "%d format: a number is required, not str",
     "output_type": "error",
     "traceback": [
      "\u001b[1;31m---------------------------------------------------------------------------\u001b[0m",
      "\u001b[1;31mTypeError\u001b[0m                                 Traceback (most recent call last)",
      "\u001b[1;32m<ipython-input-16-0ba0b59b5742>\u001b[0m in \u001b[0;36m<module>\u001b[1;34m()\u001b[0m\n\u001b[0;32m     11\u001b[0m \u001b[0mprint\u001b[0m\u001b[1;33m(\u001b[0m\u001b[1;34m\"%-6.3f\"\u001b[0m \u001b[1;33m%\u001b[0m \u001b[1;36m2.3\u001b[0m\u001b[1;33m)\u001b[0m \u001b[1;31m# 左对齐\u001b[0m\u001b[1;33m\u001b[0m\u001b[0m\n\u001b[0;32m     12\u001b[0m \u001b[1;33m\u001b[0m\u001b[0m\n\u001b[1;32m---> 13\u001b[1;33m \u001b[0ms\u001b[0m \u001b[1;33m=\u001b[0m \u001b[1;34m\"ni %s,wo shi %d\"\u001b[0m \u001b[1;33m%\u001b[0m \u001b[1;33m(\u001b[0m\u001b[1;34m\"hao\"\u001b[0m\u001b[1;33m,\u001b[0m\u001b[1;34m\"xxx\"\u001b[0m\u001b[1;33m)\u001b[0m  \u001b[1;31m# 注意%d 必须由数字替换\u001b[0m\u001b[1;33m\u001b[0m\u001b[0m\n\u001b[0m",
      "\u001b[1;31mTypeError\u001b[0m: %d format: a number is required, not str"
     ]
    }
   ],
   "source": [
    "s = \"ni %s\" % \"hao\"\n",
    "print(s)\n",
    "\n",
    "s = \"ni %s,wo shi %d\" % (\"hao\",13)\n",
    "print(s)\n",
    "\n",
    "print(\"%6.3f\" % 2.3) # 长度为6，小数为3位，即小数为3位，整数3位\n",
    "\n",
    "print(\"%06.3f\" % 2.3) # 右对齐以0补齐\n",
    "\n",
    "print(\"%-6.3f\" % 2.3) # 左对齐\n",
    "\n",
    "s = \"ni %s,wo shi %d\" % (\"hao\",\"xxx\")  # 注意%d 必须由数字替换"
   ]
  },
  {
   "cell_type": "markdown",
   "metadata": {},
   "source": [
    "### format函数格式化字符串\n",
    "- 方式1：\"xx{}\".format()\n",
    "- 方式2：\"xx{1},{0}\".format(0,1)\n",
    "- 方式3：使用其他类型设置参数，例如字典等\n",
    "- 数字格式化\n",
    "    - :.2f  保留小数点后两位\n",
    "    - :+.2f 带符号保留小数点后两位\n",
    "    - :.0f 不带小数\n",
    "    - :0>2d 数字补零(填充左边，宽度为2)\n",
    "    - :x<4d 数字补×（填充右边，宽度为4）\n",
    "    - :, 以逗号分割的数字格式\n",
    "    - :10d 默认右对齐（宽度为10）\n",
    "    - :<10d 左对齐\n",
    "    - :^10d 中间对齐\n",
    "    - :b 二进制\n",
    "    - :o 八进制\n",
    "    - :x 十六进制\n",
    "- {{   }} --  {}的转义"
   ]
  },
  {
   "cell_type": "code",
   "execution_count": 11,
   "metadata": {},
   "outputs": [
    {
     "name": "stdout",
     "output_type": "stream",
     "text": [
      "ni hao xxx\n",
      "ni hao xx1,wo shi xx0\n",
      "ni hao x1,wo shi x2\n",
      "ni hao x,wo shi y\n"
     ]
    }
   ],
   "source": [
    "s = \"ni hao {}\".format(\"xxx\")\n",
    "print(s)\n",
    "\n",
    "# 可以指定参数插入的位置\n",
    "s = \"ni hao {1},wo shi {0}\".format(\"xx0\",\"xx1\")\n",
    "print(s)\n",
    "\n",
    "# 通过字典设置参数\n",
    "dict_s = {\"x\":\"x1\",\"y\":\"x2\"}\n",
    "s = \"ni hao {x},wo shi {y}\".format(**dict_s)\n",
    "print(s)\n",
    "\n",
    "# 通过列表索引设置参数\n",
    "list_s = [\"x\",\"y\"]\n",
    "s = \"ni hao {0[0]},wo shi {0[1]}\".format(list_s)\n",
    "print(s)"
   ]
  },
  {
   "cell_type": "markdown",
   "metadata": {},
   "source": [
    "## 内置方法\n",
    "1. count：字符串中包含多少个指定字符串"
   ]
  },
  {
   "cell_type": "code",
   "execution_count": 17,
   "metadata": {},
   "outputs": [
    {
     "name": "stdout",
     "output_type": "stream",
     "text": [
      "2\n"
     ]
    }
   ],
   "source": [
    "str = 'abcacd'\n",
    "print(str.count('a')) # str中字符a出现的次数"
   ]
  },
  {
   "cell_type": "markdown",
   "metadata": {},
   "source": [
    "2. endswith、startswith：检查字符串是否以指定的字符串结尾/开头"
   ]
  },
  {
   "cell_type": "code",
   "execution_count": 20,
   "metadata": {},
   "outputs": [
    {
     "name": "stdout",
     "output_type": "stream",
     "text": [
      "True\n",
      "True\n",
      "False\n"
     ]
    }
   ],
   "source": [
    "str = 'abcacd'\n",
    "print(str.endswith('d'))\n",
    "print(str.startswith('a'))\n",
    "print(str.startswith('b'))"
   ]
  },
  {
   "cell_type": "markdown",
   "metadata": {},
   "source": [
    "3. find：返回指定字符串在字符串中出现的位置(第一次出现的位置)，找不到返回-1"
   ]
  },
  {
   "cell_type": "code",
   "execution_count": 22,
   "metadata": {},
   "outputs": [
    {
     "name": "stdout",
     "output_type": "stream",
     "text": [
      "0\n",
      "-1\n"
     ]
    }
   ],
   "source": [
    "str = 'abcacd'\n",
    "print(str.find('a'))\n",
    "print(str.find('z'))"
   ]
  },
  {
   "cell_type": "markdown",
   "metadata": {},
   "source": [
    "4. isalpha：检查字符串中是否都是字母, isdigit：检查字符串是否都是数字"
   ]
  },
  {
   "cell_type": "code",
   "execution_count": 30,
   "metadata": {},
   "outputs": [
    {
     "name": "stdout",
     "output_type": "stream",
     "text": [
      "True\n",
      "False\n",
      "True\n",
      "False\n",
      "False\n"
     ]
    }
   ],
   "source": [
    "str = 'abcacd'\n",
    "print(str.isalpha())\n",
    "print(str.isdigit())\n",
    "\n",
    "str = '123'\n",
    "print(str.isdigit())\n",
    "\n",
    "str = 'abc123'\n",
    "print(str.isalpha())\n",
    "print(str.isdigit())"
   ]
  },
  {
   "cell_type": "markdown",
   "metadata": {},
   "source": [
    "5. join：合并多个字符串,可以指定合并的间隔符,只能有一个参数"
   ]
  },
  {
   "cell_type": "code",
   "execution_count": 33,
   "metadata": {},
   "outputs": [
    {
     "data": {
      "text/plain": [
       "'1,2,3,4'"
      ]
     },
     "execution_count": 33,
     "metadata": {},
     "output_type": "execute_result"
    }
   ],
   "source": [
    "','.join(['1','2','3','4'])"
   ]
  },
  {
   "cell_type": "markdown",
   "metadata": {},
   "source": [
    "6. split：分割字符串，参数为分割符，返回列表"
   ]
  },
  {
   "cell_type": "code",
   "execution_count": 34,
   "metadata": {},
   "outputs": [
    {
     "data": {
      "text/plain": [
       "['1', '2', '3', '4']"
      ]
     },
     "execution_count": 34,
     "metadata": {},
     "output_type": "execute_result"
    }
   ],
   "source": [
    "str = '1,2,3,4'\n",
    "str.split(',')"
   ]
  },
  {
   "cell_type": "markdown",
   "metadata": {},
   "source": [
    "7. lower：将字符串转换成小写字母,upper：将字符串转换成大写字母"
   ]
  },
  {
   "cell_type": "code",
   "execution_count": 35,
   "metadata": {},
   "outputs": [
    {
     "name": "stdout",
     "output_type": "stream",
     "text": [
      "abcd\n",
      "ABCD\n"
     ]
    }
   ],
   "source": [
    "str = 'aBcD'\n",
    "print(str.lower())\n",
    "print(str.upper())"
   ]
  },
  {
   "cell_type": "markdown",
   "metadata": {},
   "source": [
    "8. replace：替换字符串里面指定的字符,替换所有匹配到的内容"
   ]
  },
  {
   "cell_type": "code",
   "execution_count": 36,
   "metadata": {},
   "outputs": [
    {
     "name": "stdout",
     "output_type": "stream",
     "text": [
      "a23a45\n"
     ]
    }
   ],
   "source": [
    "str = \"123145\"\n",
    "print(str.replace('1','a'))"
   ]
  },
  {
   "cell_type": "markdown",
   "metadata": {},
   "source": [
    "9.删除空格：strip：删除左右的空格，lstrip：删除左边的空格，rstrip：删除右边的空格"
   ]
  },
  {
   "cell_type": "code",
   "execution_count": 37,
   "metadata": {},
   "outputs": [
    {
     "name": "stdout",
     "output_type": "stream",
     "text": [
      "123\n",
      "123  \n",
      " 123\n"
     ]
    }
   ],
   "source": [
    "str = ' 123  '\n",
    "print(str.strip())\n",
    "print(str.lstrip())\n",
    "print(str.rstrip())"
   ]
  }
 ],
 "metadata": {
  "kernelspec": {
   "display_name": "Python 3",
   "language": "python",
   "name": "python3"
  },
  "language_info": {
   "codemirror_mode": {
    "name": "ipython",
    "version": 3
   },
   "file_extension": ".py",
   "mimetype": "text/x-python",
   "name": "python",
   "nbconvert_exporter": "python",
   "pygments_lexer": "ipython3",
   "version": "3.7.0"
  }
 },
 "nbformat": 4,
 "nbformat_minor": 2
}
