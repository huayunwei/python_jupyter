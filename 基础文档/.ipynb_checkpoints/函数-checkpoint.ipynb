{
 "cells": [
  {
   "cell_type": "markdown",
   "metadata": {},
   "source": [
    "# 函数\n",
    "## 函数的定义\n",
    "- 参数：负责给函数传递一些必要的数据或信息\n",
    "    - 形参（形式参数）：在函数定义的时候用到的参数没有具体值，只是一个占位的符号\n",
    "    - 实参（实际参数）：在调用函数的时候输入的值\n",
    "    - 类型：\n",
    "        - 普通参数\n",
    "        - 默认参数\n",
    "        - 关键字参数\n",
    "        - 收集参数\n",
    "- 返回值：函数的执行结果\n",
    "    - 使用return关键字\n",
    "    - 如果没有return，默认返回None\n",
    "    - 函数一旦碰到return，则无条件返回，即终止函数的执行"
   ]
  },
  {
   "cell_type": "code",
   "execution_count": 11,
   "metadata": {},
   "outputs": [
    {
     "name": "stdout",
     "output_type": "stream",
     "text": [
      "我是一个函数\n",
      "二： (1, 2)\n",
      "三： (2, 1)\n",
      "四： (1, 3) (1, 2)\n",
      "五：\n",
      "param (1, 2, 3)\n",
      "name 4\n",
      "六：\n",
      "param (2, 3, 4)\n",
      "name 1\n",
      "七：\n",
      "{'name': 1, 'age': 2}\n",
      "八：\n",
      "('1', '2', '3')\n",
      "九：\n",
      "1 2\n"
     ]
    }
   ],
   "source": [
    "# 1、常用定义\n",
    "def func():\n",
    "    print('我是一个函数')\n",
    "\n",
    "func()\n",
    "\n",
    "# 2、多个返回值的参数\n",
    "def func(name,age):\n",
    "    return name,age\n",
    "\n",
    "print(\"二：\",func(1,2))\n",
    "\n",
    "# 3、关键字参数\n",
    "def func(name,age):\n",
    "    return name,age\n",
    "\n",
    "print(\"三：\",func(age=1,name=2))\n",
    "\n",
    "# 4、默认值参数\n",
    "def func(name,age=2):\n",
    "    return name,age\n",
    "\n",
    "print(\"四：\",func(1,3),func(1))\n",
    "\n",
    "# 5、接受可变长度的参数  --- 元组形式\n",
    "def func(*param,name):\n",
    "    print(\"五：\")\n",
    "    print(\"param\",param)\n",
    "    print(\"name\",name)\n",
    "    \n",
    "# 6、func(1,2,3,4) -- 会报错，此时name必须指定\n",
    "func(1,2,3,name=4)\n",
    "\n",
    "def func(name,*param):\n",
    "    print(\"六：\")\n",
    "    print(\"param\",param)\n",
    "    print(\"name\",name)\n",
    "\n",
    "func(1,2,3,4)\n",
    "\n",
    "# 7、接受可变长度的参数  --- 字典形式\n",
    "def func(**param): # 只有一个参数，接受一个字典\n",
    "    print(\"七：\")\n",
    "    print(param)\n",
    "    \n",
    "func(name=1,age=2)\n",
    "\n",
    "\n",
    "# 8、参数的解包\n",
    "def func(*param):\n",
    "    print(\"八：\")\n",
    "    print(param)\n",
    "    \n",
    "lis = ['1','2','3']    \n",
    "func(*lis)\n",
    "\n",
    "def func(kwy1,kwy2):\n",
    "    print(\"九：\")\n",
    "    print(kwy1,kwy2)\n",
    "    \n",
    "lis = {'kwy1':1,'kwy2':2}\n",
    "func(**lis)"
   ]
  }
 ],
 "metadata": {
  "kernelspec": {
   "display_name": "Python 3",
   "language": "python",
   "name": "python3"
  },
  "language_info": {
   "codemirror_mode": {
    "name": "ipython",
    "version": 3
   },
   "file_extension": ".py",
   "mimetype": "text/x-python",
   "name": "python",
   "nbconvert_exporter": "python",
   "pygments_lexer": "ipython3",
   "version": "3.7.0"
  }
 },
 "nbformat": 4,
 "nbformat_minor": 2
}
