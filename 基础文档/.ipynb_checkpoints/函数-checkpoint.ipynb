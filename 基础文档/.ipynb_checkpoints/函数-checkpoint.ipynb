{
 "cells": [
  {
   "cell_type": "markdown",
   "metadata": {},
   "source": [
    "# 函数\n",
    "## 函数的定义\n",
    "- 参数：负责给函数传递一些必要的数据或信息\n",
    "    - 形参（形式参数）：在函数定义的时候用到的参数没有具体值，只是一个占位的符号\n",
    "    - 实参（实际参数）：在调用函数的时候输入的值\n",
    "    - 类型：\n",
    "        - 普通参数\n",
    "        - 默认参数\n",
    "        - 关键字参数\n",
    "        - 收集参数\n",
    "- 返回值：函数的执行结果\n",
    "    - 使用return关键字\n",
    "    - 如果没有return，默认返回None\n",
    "    - 函数一旦碰到return，则无条件返回，即终止函数的执行"
   ]
  },
  {
   "cell_type": "code",
   "execution_count": 11,
   "metadata": {},
   "outputs": [
    {
     "name": "stdout",
     "output_type": "stream",
     "text": [
      "我是一个函数\n",
      "二： (1, 2)\n",
      "三： (2, 1)\n",
      "四： (1, 3) (1, 2)\n",
      "五：\n",
      "param (1, 2, 3)\n",
      "name 4\n",
      "六：\n",
      "param (2, 3, 4)\n",
      "name 1\n",
      "七：\n",
      "{'name': 1, 'age': 2}\n",
      "八：\n",
      "('1', '2', '3')\n",
      "九：\n",
      "1 2\n"
     ]
    }
   ],
   "source": [
    "# 1、常用定义\n",
    "def func():\n",
    "    print('我是一个函数')\n",
    "\n",
    "func()\n",
    "\n",
    "# 2、多个返回值的参数\n",
    "def func(name,age):\n",
    "    return name,age\n",
    "\n",
    "print(\"二：\",func(1,2))\n",
    "\n",
    "# 3、关键字参数\n",
    "def func(name,age):\n",
    "    return name,age\n",
    "\n",
    "print(\"三：\",func(age=1,name=2))\n",
    "\n",
    "# 4、默认值参数\n",
    "def func(name,age=2):\n",
    "    return name,age\n",
    "\n",
    "print(\"四：\",func(1,3),func(1))\n",
    "\n",
    "# 5、接受可变长度的参数  --- 元组形式\n",
    "def func(*param,name):\n",
    "    print(\"五：\")\n",
    "    print(\"param\",param)\n",
    "    print(\"name\",name)\n",
    "    \n",
    "# 6、func(1,2,3,4) -- 会报错，此时name必须指定\n",
    "func(1,2,3,name=4)\n",
    "\n",
    "def func(name,*param):\n",
    "    print(\"六：\")\n",
    "    print(\"param\",param)\n",
    "    print(\"name\",name)\n",
    "\n",
    "func(1,2,3,4)\n",
    "\n",
    "# 7、接受可变长度的参数  --- 字典形式\n",
    "def func(**param): # 只有一个参数，接受一个字典\n",
    "    print(\"七：\")\n",
    "    print(param)\n",
    "    \n",
    "func(name=1,age=2)\n",
    "\n",
    "\n",
    "# 8、参数的解包\n",
    "def func(*param):\n",
    "    print(\"八：\")\n",
    "    print(param)\n",
    "    \n",
    "lis = ['1','2','3']    \n",
    "func(*lis)\n",
    "\n",
    "def func(kwy1,kwy2):\n",
    "    print(\"九：\")\n",
    "    print(kwy1,kwy2)\n",
    "    \n",
    "lis = {'kwy1':1,'kwy2':2}\n",
    "func(**lis)"
   ]
  },
  {
   "cell_type": "markdown",
   "metadata": {},
   "source": [
    "# 函数式编程\n",
    "- 定义：程序中只有函数，函数可以作为参数，函数可以作为返回值\n",
    "\n",
    "## 高阶函数\n",
    "- 定义：把函数作为参数使用的函数"
   ]
  },
  {
   "cell_type": "code",
   "execution_count": 2,
   "metadata": {},
   "outputs": [
    {
     "name": "stdout",
     "output_type": "stream",
     "text": [
      "300\n"
     ]
    }
   ],
   "source": [
    "# 高阶函数\n",
    "def funA(n):\n",
    "    return n * 100\n",
    "\n",
    "def funC(n,f):\n",
    "    return f(n) * 3\n",
    "\n",
    "print(funC(1,funA))"
   ]
  },
  {
   "cell_type": "markdown",
   "metadata": {},
   "source": [
    "### 系统高阶函数\n",
    "#### map\n",
    "- 映射，即把集合或者列表的元素，每一个元素都按照一定规则进行操作，生成一个新的列表或集合\n",
    "- map函数是系统提供的具有映射功能的函数，返回值是一个迭代对象\n",
    "- 参数：\n",
    "    - 1：函数\n",
    "    - 2：可迭代的对象"
   ]
  },
  {
   "cell_type": "code",
   "execution_count": 4,
   "metadata": {},
   "outputs": [
    {
     "name": "stdout",
     "output_type": "stream",
     "text": [
      "0\n",
      "10\n",
      "20\n",
      "30\n",
      "40\n",
      "50\n",
      "60\n",
      "70\n",
      "80\n",
      "90\n"
     ]
    }
   ],
   "source": [
    "list1 = [ i for i in range(10) ]\n",
    "\n",
    "def fun1(n):\n",
    "    return n * 10\n",
    "\n",
    "fun2 = map(fun1,list1)\n",
    "\n",
    "for i in fun2:\n",
    "    print(i)"
   ]
  },
  {
   "cell_type": "markdown",
   "metadata": {},
   "source": [
    "#### reduce\n",
    "- 作用：把一个可迭代对象最后归并成一个结果\n",
    "- 需要导入functools包\n",
    "- 参数\n",
    "    - 1、函数\n",
    "    - 2、可迭代对象"
   ]
  },
  {
   "cell_type": "code",
   "execution_count": 6,
   "metadata": {},
   "outputs": [
    {
     "name": "stdout",
     "output_type": "stream",
     "text": [
      "21\n"
     ]
    }
   ],
   "source": [
    "# reduce\n",
    "from functools import reduce\n",
    "\n",
    "def myAdd(x,y):\n",
    "    return x + y\n",
    "\n",
    "list1 = [ i for i in range(1,7) ]\n",
    "\n",
    "res = reduce(myAdd,list1)\n",
    "print(res)"
   ]
  },
  {
   "cell_type": "markdown",
   "metadata": {},
   "source": [
    "#### filter函数\n",
    "- 过滤函数：对一组数据进行过滤，符合条件的数据会生成一个新的列表并返回\n",
    "- 跟map相比较：\n",
    "    - 相同：都对列表的每一个元素逐一进行操作\n",
    "    - 不同：\n",
    "        - map会生成一个跟原来数据相对应的新队列\n",
    "        - filter不一定，只有符合条件的才会进入\n",
    "- 参数：\n",
    "    - 1、函数：要是一个可以返回布尔值的值\n",
    "    - 2、可以迭代的数据"
   ]
  },
  {
   "cell_type": "code",
   "execution_count": 7,
   "metadata": {},
   "outputs": [
    {
     "name": "stdout",
     "output_type": "stream",
     "text": [
      "[4, 56, 2, 4556, 4, 4]\n"
     ]
    }
   ],
   "source": [
    "# filter\n",
    "def isEven(a):\n",
    "    return a % 2 == 0\n",
    "\n",
    "list1 = [3,4,56,3,2,3,4556,67,4,4,3,23455,43]\n",
    "\n",
    "ret = filter(isEven,list1)\n",
    "\n",
    "print([i for i in ret])"
   ]
  },
  {
   "cell_type": "markdown",
   "metadata": {},
   "source": [
    "#### sorted - 排序\n",
    "- 把一个序列按照给定算法进行排序\n",
    "- 参数\n",
    "    - 1、列表，可迭代的对象\n",
    "    - 2、key：对可迭代对象的每一个值进行计算\n",
    "    - 3、reverse：是否逆序"
   ]
  },
  {
   "cell_type": "code",
   "execution_count": 8,
   "metadata": {},
   "outputs": [
    {
     "name": "stdout",
     "output_type": "stream",
     "text": [
      "[-4345, 45, -43, 23, -23, 6, 2]\n"
     ]
    }
   ],
   "source": [
    "a = [-43,23,45,6,-23,2,-4345]\n",
    "\n",
    "al = sorted(a, key=abs, reverse=True)\n",
    "\n",
    "print(al)"
   ]
  },
  {
   "cell_type": "markdown",
   "metadata": {},
   "source": [
    "## 闭包\n",
    "- 当一个函数在内部定义函数，并且内部的函数应用外部函数的参数或者局部变量，当内部函数被当做返回值的时候，相关参数和变量保存在返回的函数中，这种结果，叫闭包"
   ]
  },
  {
   "cell_type": "code",
   "execution_count": 9,
   "metadata": {},
   "outputs": [
    {
     "name": "stdout",
     "output_type": "stream",
     "text": [
      "9\n",
      "9\n",
      "9\n"
     ]
    }
   ],
   "source": [
    "# 闭包1\n",
    "def count():\n",
    "    fs = []\n",
    "    for i in range(1,4):\n",
    "        def f():\n",
    "            return i * i\n",
    "        fs.append(f)\n",
    "    return fs\n",
    "\n",
    "f1,f2,f3 = count()\n",
    "print(f1())\n",
    "print(f2())\n",
    "print(f3())"
   ]
  },
  {
   "cell_type": "code",
   "execution_count": 11,
   "metadata": {},
   "outputs": [
    {
     "name": "stdout",
     "output_type": "stream",
     "text": [
      "1\n",
      "4\n",
      "9\n"
     ]
    }
   ],
   "source": [
    "# 闭包2\n",
    "def count2():\n",
    "        def f(j):\n",
    "            def g():\n",
    "                return j * j\n",
    "            return g\n",
    "        fs = []\n",
    "        for i in range(1,4):\n",
    "            fs.append(f(i))\n",
    "        return fs\n",
    "f1,f2,f3 = count2()\n",
    "print(f1())\n",
    "print(f2())\n",
    "print(f3())"
   ]
  },
  {
   "cell_type": "markdown",
   "metadata": {},
   "source": [
    "## 装饰器\n",
    "- 在不改动函数代码的基础上无限扩展函数功能的一种机制，本质上讲，装饰器是一个返回函数的高阶函数\n",
    "- 装饰器的使用：使用@语法，即在每次要扩展到函数定义前使用@+函数名"
   ]
  },
  {
   "cell_type": "code",
   "execution_count": 12,
   "metadata": {},
   "outputs": [
    {
     "name": "stdout",
     "output_type": "stream",
     "text": [
      "Time： Wed Sep 19 09:53:40 2018\n",
      "Hello world\n"
     ]
    }
   ],
   "source": [
    "import time\n",
    "\n",
    "# 高阶函数，以函数作为参数\n",
    "def printTime(f):\n",
    "    def wrapper(*args,**kwargs):\n",
    "        print(\"Time：\",time.ctime())\n",
    "        return f(*args,**kwargs)\n",
    "    return wrapper\n",
    "\n",
    "@printTime\n",
    "def hello():\n",
    "    print(\"Hello world\")\n",
    "    \n",
    "hello()"
   ]
  },
  {
   "cell_type": "markdown",
   "metadata": {},
   "source": [
    "## 偏函数\n",
    "- 参数固定的函数，相当于一个由特定参数的函数体\n",
    "- functools.partial的作用是，把一个函数某些函数固定，返回一个新函数"
   ]
  },
  {
   "cell_type": "code",
   "execution_count": 13,
   "metadata": {},
   "outputs": [
    {
     "data": {
      "text/plain": [
       "74565"
      ]
     },
     "execution_count": 13,
     "metadata": {},
     "output_type": "execute_result"
    }
   ],
   "source": [
    "import functools\n",
    "\n",
    "def int16(x,base=16):\n",
    "    return int(x,base)\n",
    "\n",
    "int16 = functools.partial(int,base=16)\n",
    "\n",
    "int16(\"12345\")"
   ]
  }
 ],
 "metadata": {
  "kernelspec": {
   "display_name": "Python 3",
   "language": "python",
   "name": "python3"
  },
  "language_info": {
   "codemirror_mode": {
    "name": "ipython",
    "version": 3
   },
   "file_extension": ".py",
   "mimetype": "text/x-python",
   "name": "python",
   "nbconvert_exporter": "python",
   "pygments_lexer": "ipython3",
   "version": "3.7.0"
  }
 },
 "nbformat": 4,
 "nbformat_minor": 2
}
