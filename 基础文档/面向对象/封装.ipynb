{
 "cells": [
  {
   "cell_type": "markdown",
   "metadata": {},
   "source": [
    "# 封装\n",
    "- 定义：对对象的成员进行访问限制\n",
    "- 级别\n",
    "    - 公开：public\n",
    "    - 受保护的：protected\n",
    "    - 私有的：private\n",
    "    - 上面三个都不是关键字\n",
    "- 私有\n",
    "    - 私有成员是最高级别的封装，只能在当前类或对象中访问\n",
    "    - 方法：在成员前面添加两个下划线即可\n",
    "    - python的私有并不是真的私有"
   ]
  },
  {
   "cell_type": "code",
   "execution_count": 1,
   "metadata": {},
   "outputs": [],
   "source": [
    "class Person():\n",
    "    # 共有的成员\n",
    "    name = \"liuying\"\n",
    "    # 私有成员\n",
    "    __age = 18"
   ]
  },
  {
   "cell_type": "markdown",
   "metadata": {},
   "source": [
    "- 受保护的封装\n",
    "    - 受保护的封装是将对象成员进行一定级别的封装，然后在类中或子类中都可以访问，但是在外部不可以\n",
    "    - 方法：在成员名称前加一个下划线即可\n",
    "- 公开的\n",
    "    - 公共的封装实际对成员没有任何操作，任何地方都可以访问"
   ]
  }
 ],
 "metadata": {
  "kernelspec": {
   "display_name": "Python 3",
   "language": "python",
   "name": "python3"
  },
  "language_info": {
   "codemirror_mode": {
    "name": "ipython",
    "version": 3
   },
   "file_extension": ".py",
   "mimetype": "text/x-python",
   "name": "python",
   "nbconvert_exporter": "python",
   "pygments_lexer": "ipython3",
   "version": "3.7.0"
  }
 },
 "nbformat": 4,
 "nbformat_minor": 2
}
