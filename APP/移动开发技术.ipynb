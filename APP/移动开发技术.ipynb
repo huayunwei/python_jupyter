{
 "cells": [
  {
   "cell_type": "markdown",
   "metadata": {},
   "source": [
    "#  移动开发技术"
   ]
  },
  {
   "cell_type": "markdown",
   "metadata": {},
   "source": [
    "## 原生开发\n",
    "- 定义：某一移动平台所特有的应用，使用相应平台支持的开发工具和语言，并直接调用系统提供的SDK API\n",
    "- 语言：\n",
    "    - 安卓：JAVA或Kotlin\n",
    "    - 苹果：Objective-C或Swift\n",
    "- 优势：\n",
    "    - 可访问平台全部功能\n",
    "    - 速度快、性能高、可以实现复杂动画及绘制，整体用户体验好\n",
    "- 缺点：\n",
    "    - 平台特定，开发成本高，不同平台必须维护不同代码，人力成本随之变大\n",
    "    - 内容固定，动态化弱，大多数情况下，有新功能更新时只能发版"
   ]
  },
  {
   "cell_type": "markdown",
   "metadata": {},
   "source": [
    "## 跨平台开发"
   ]
  },
  {
   "cell_type": "markdown",
   "metadata": {},
   "source": [
    "### Hybrid技术（H5+原生- Cordova、Ionic、微信小程序）\n",
    "- 定义：H5+原生的开发模式，采用混合模式开发APP称为混合应用或Hybrid App\n",
    "- 优点：动态内容是H5，web技术栈，社区及资源丰富\n",
    "- 缺点：性能不好，对于复杂用户界面或动画，webview不堪重任"
   ]
  },
  {
   "cell_type": "markdown",
   "metadata": {},
   "source": [
    "### JavaScript开发+原生渲染（React Native、Weex、快应用）\n",
    "- 优点：\n",
    "    - 采用web开发技术栈，社区庞大、上手快、开发成本相对较低\n",
    "    - 原生渲染，性能相比H5提高很多\n",
    "    - 动态化较好，支持热更新\n",
    "- 缺点：\n",
    "    - 渲染时需要javascript和原生之间通信\n",
    "    - javascript为脚本语言，执行时需要just in time，执行效率和ahead of time代码仍有差距\n",
    "    - 由于渲染依赖原生控件，不同平台的控件需要单独维护"
   ]
  },
  {
   "cell_type": "markdown",
   "metadata": {},
   "source": [
    "### 自绘UI+原生（QT、Flutter）\n",
    "- 定义：通过在不同平台实现一个统一接口的渲染引擎来绘制UI，而不依赖系统原生控件，所以可以做到不同平台UI的一致性\n",
    "- 优点：\n",
    "    - 心梗高\n",
    "    - 灵活，组件库易维护，UI外观保真度和一致性高\n",
    "- 缺点：\n",
    "    - 动态性不足\n",
    "    - 开发效率低"
   ]
  },
  {
   "cell_type": "code",
   "execution_count": null,
   "metadata": {},
   "outputs": [],
   "source": []
  }
 ],
 "metadata": {
  "kernelspec": {
   "display_name": "Python 3",
   "language": "python",
   "name": "python3"
  },
  "language_info": {
   "codemirror_mode": {
    "name": "ipython",
    "version": 3
   },
   "file_extension": ".py",
   "mimetype": "text/x-python",
   "name": "python",
   "nbconvert_exporter": "python",
   "pygments_lexer": "ipython3",
   "version": "3.7.4"
  }
 },
 "nbformat": 4,
 "nbformat_minor": 2
}
