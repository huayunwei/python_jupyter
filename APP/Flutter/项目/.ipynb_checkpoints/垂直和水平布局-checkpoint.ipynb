{
 "cells": [
  {
   "cell_type": "markdown",
   "metadata": {},
   "source": [
    "# 垂直和水平布局"
   ]
  },
  {
   "cell_type": "markdown",
   "metadata": {},
   "source": [
    "## 水平排列控件 -- Row"
   ]
  },
  {
   "cell_type": "markdown",
   "metadata": {},
   "source": [
    "## 垂直排列控件 -- Column"
   ]
  },
  {
   "cell_type": "markdown",
   "metadata": {},
   "source": [
    "## 行对齐控件 -- mainAxisAlignment"
   ]
  },
  {
   "cell_type": "markdown",
   "metadata": {},
   "source": [
    "## 列对齐控件 -- CrossAxisAlignment"
   ]
  },
  {
   "cell_type": "code",
   "execution_count": null,
   "metadata": {},
   "outputs": [],
   "source": [
    "body: new Center(\n",
    "  child: new Row(\n",
    "    mainAxisAlignment: MainAxisAlignment.spaceEvenly, // 均匀分割空闲的水平空间\n",
    "    children: [\n",
    "      new Image.asset('images/pic1.jpg'),\n",
    "      new Image.asset('images/pic2.jpg'),\n",
    "      new Image.asset('images/pic3.jpg'),\n",
    "    ]\n",
    "  ),\n",
    "),"
   ]
  },
  {
   "cell_type": "code",
   "execution_count": null,
   "metadata": {},
   "outputs": [],
   "source": [
    "body: new Center(\n",
    "  child: new Row(\n",
    "    crossAxisAlignment: CrossAxisAlignment.center,\n",
    "    children: [\n",
    "      new Expanded( // 默认每个控件的弹性系数为1\n",
    "        child: new Image.asset('images/pic1.jpg')\n",
    "      ),\n",
    "      new Expanded(\n",
    "        child: new Image.asset('images/pic2.jpg')\n",
    "      ),\n",
    "      new Expanded(\n",
    "        child: new Image.asset('images/pic3.jpg')\n",
    "      ),\n",
    "    ]\n",
    "  ),\n",
    "),\n",
    "\n",
    "\n",
    "body: new Center(\n",
    "  child: new Row(\n",
    "    crossAxisAlignment: CrossAxisAlignment.center,\n",
    "    children: [\n",
    "      new Expanded(\n",
    "        child: new Image.asset('images/pic1.jpg')\n",
    "      ),\n",
    "      new Expanded(\n",
    "        flex: 2, // 会比其他的组件大\n",
    "        child: new Image.asset('images/pic2.jpg')\n",
    "      ),\n",
    "      new Expanded(\n",
    "        child: new Image.asset('images/pic3.jpg')\n",
    "      ),\n",
    "    ]\n",
    "  ),\n",
    "),\n"
   ]
  },
  {
   "cell_type": "code",
   "execution_count": null,
   "metadata": {},
   "outputs": [],
   "source": [
    "new Row(\n",
    "    mainAxisSize: MainAxisSize.min, # 默认行或列在其主轴上占用的空间尽可能的多，设置为min则为内部child的最小空间\n",
    "    children: [\n",
    "      new Icon(Icons.star, color: Colors.green[500]),\n",
    "      new Icon(Icons.star, color: Colors.green[500]),\n",
    "      new Icon(Icons.star, color: Colors.green[500]),\n",
    "      new Icon(Icons.star, color: Colors.black),\n",
    "      new Icon(Icons.star, color: Colors.black),\n",
    "    ]\n",
    "  );\n"
   ]
  }
 ],
 "metadata": {
  "kernelspec": {
   "display_name": "Python 3",
   "language": "python",
   "name": "python3"
  },
  "language_info": {
   "codemirror_mode": {
    "name": "ipython",
    "version": 3
   },
   "file_extension": ".py",
   "mimetype": "text/x-python",
   "name": "python",
   "nbconvert_exporter": "python",
   "pygments_lexer": "ipython3",
   "version": "3.7.4"
  }
 },
 "nbformat": 4,
 "nbformat_minor": 2
}
