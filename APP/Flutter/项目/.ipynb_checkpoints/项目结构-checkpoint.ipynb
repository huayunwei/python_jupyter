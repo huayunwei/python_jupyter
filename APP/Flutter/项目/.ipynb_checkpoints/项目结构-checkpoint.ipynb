{
 "cells": [
  {
   "cell_type": "markdown",
   "metadata": {},
   "source": [
    "# 项目结构"
   ]
  },
  {
   "cell_type": "markdown",
   "metadata": {},
   "source": [
    "- lib\n",
    "    - blocs(bloc相关)\n",
    "    - common（常用类，例如常量Constant）\n",
    "    - data（网络数据层）\n",
    "        - api（url字段）\n",
    "        - net(单例DioUtil)\n",
    "        - protocol（请求与返回实体类）\n",
    "        - repository（接口请求和解析）\n",
    "    - db（数据库）\n",
    "    - event（事件类）\n",
    "    - models（实体类）\n",
    "    - res（资源文件，string，color，dimens，styles）\n",
    "    - ui（界面相关page，dialog，widgets）\n",
    "    - utils（工具类）\n",
    "    - main.dart（入口文件，全局处理）\n",
    "    - root.dart（逻辑处理）\n",
    "    - global.dart（全局内容的export）"
   ]
  },
  {
   "cell_type": "code",
   "execution_count": null,
   "metadata": {},
   "outputs": [],
   "source": []
  }
 ],
 "metadata": {
  "kernelspec": {
   "display_name": "Python 3",
   "language": "python",
   "name": "python3"
  },
  "language_info": {
   "codemirror_mode": {
    "name": "ipython",
    "version": 3
   },
   "file_extension": ".py",
   "mimetype": "text/x-python",
   "name": "python",
   "nbconvert_exporter": "python",
   "pygments_lexer": "ipython3",
   "version": "3.7.4"
  }
 },
 "nbformat": 4,
 "nbformat_minor": 2
}
