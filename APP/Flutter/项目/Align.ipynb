{
 "cells": [
  {
   "cell_type": "markdown",
   "metadata": {},
   "source": [
    "# Align"
   ]
  },
  {
   "cell_type": "code",
   "execution_count": null,
   "metadata": {},
   "outputs": [],
   "source": [
    "Align({\n",
    "    Key key,\n",
    "    this.alignment = Alignment.center, // 设置对齐方向\n",
    "    this.widthFactor,\n",
    "    this.heightFatctor,\n",
    "    Widget child\n",
    "})\n",
    "\n",
    "\n",
    "\n",
    "  /// The top left corner.\n",
    "  static const Alignment topLeft = Alignment(-1.0, -1.0);\n",
    "\n",
    "  /// The center point along the top edge.\n",
    "  static const Alignment topCenter = Alignment(0.0, -1.0);\n",
    "\n",
    "  /// The top right corner.\n",
    "  static const Alignment topRight = Alignment(1.0, -1.0);\n",
    "\n",
    "  /// The center point along the left edge.\n",
    "  static const Alignment centerLeft = Alignment(-1.0, 0.0);\n",
    "\n",
    "  /// The center point, both horizontally and vertically.\n",
    "  static const Alignment center = Alignment(0.0, 0.0);\n",
    "\n",
    "  /// The center point along the right edge.\n",
    "  static const Alignment centerRight = Alignment(1.0, 0.0);\n",
    "\n",
    "  /// The bottom left corner.\n",
    "  static const Alignment bottomLeft = Alignment(-1.0, 1.0);\n",
    "\n",
    "  /// The center point along the bottom edge.\n",
    "  static const Alignment bottomCenter = Alignment(0.0, 1.0);\n",
    "\n",
    "  /// The bottom right corner.\n",
    "  static const Alignment bottomRight = Alignment(1.0, 1.0);\n",
    "\n"
   ]
  }
 ],
 "metadata": {
  "kernelspec": {
   "display_name": "Python 3",
   "language": "python",
   "name": "python3"
  },
  "language_info": {
   "codemirror_mode": {
    "name": "ipython",
    "version": 3
   },
   "file_extension": ".py",
   "mimetype": "text/x-python",
   "name": "python",
   "nbconvert_exporter": "python",
   "pygments_lexer": "ipython3",
   "version": "3.7.4"
  }
 },
 "nbformat": 4,
 "nbformat_minor": 2
}
