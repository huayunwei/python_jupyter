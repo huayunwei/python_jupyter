{
 "cells": [
  {
   "cell_type": "markdown",
   "metadata": {},
   "source": [
    "# 图片\n",
    "- 数据源可以是asset，文件，内存以及网络"
   ]
  },
  {
   "cell_type": "markdown",
   "metadata": {},
   "source": [
    "## 从asset中加载图片"
   ]
  },
  {
   "cell_type": "code",
   "execution_count": null,
   "metadata": {},
   "outputs": [],
   "source": [
    "# 1. 图片保存在images/avatar.png 图片\n",
    "# 2. 在pubspec.yaml 中添加\n",
    "    assets:\n",
    "        - image/avatar.png\n",
    "# 3. 加载该图片\n",
    "    Image(\n",
    "        image:AssetImage(\"images/avatar.png\"),\n",
    "        width:100.0\n",
    "    )\n",
    "    # 或\n",
    "    Image.asset(\"images/avatar.png\",width:100.0)"
   ]
  },
  {
   "cell_type": "markdown",
   "metadata": {},
   "source": [
    "## 从网络加载图片"
   ]
  },
  {
   "cell_type": "code",
   "execution_count": null,
   "metadata": {},
   "outputs": [],
   "source": [
    "Image(\n",
    "    image:NetworkImage(\"https://www.baidu.com\"),\n",
    "    width:100.0,\n",
    ")\n",
    "\n",
    "# 或\n",
    "\n",
    "Image.network(\n",
    "    \"http://www.baidu.com\",\n",
    "    width:100.0\n",
    ")"
   ]
  },
  {
   "cell_type": "markdown",
   "metadata": {},
   "source": [
    "## 图片参数"
   ]
  },
  {
   "cell_type": "code",
   "execution_count": null,
   "metadata": {},
   "outputs": [],
   "source": [
    "const Image({\n",
    "  ...\n",
    "  this.width, //图片的宽\n",
    "  this.height, //图片高度\n",
    "  this.color, //图片的混合色值\n",
    "  this.colorBlendMode, //混合模式\n",
    "  this.fit,//缩放模式 \n",
    "        - fill：会拉伸填充满显示空间，图片本身长宽比会发生变化，图片会变形\n",
    "        - cover：会按图片的长宽比放大后居中填满显示空间，图片不会变形，超出显示空间部分会被剪裁\n",
    "        - contain：图片的默认适应规则，图片会在保证图片本身长宽比不变的情况下缩放以适应当前显示空间，图片不会变形\n",
    "        - fitwidth：图片的宽度会缩放到显示空间的宽度，高度会按比例缩放，然后居中显示，图片不会变形，超出显示空间部分会被剪裁\n",
    "        - fitHeight：图片的高度会缩放到显示空间的高度，宽度会按比例缩放，然后居中显示，图片不会变形，超出显示空间部分会被剪裁\n",
    "        - none：图片没有适应策略，会在显示空间内显示图片，如果图片比显示空间大，则显示空间只会显示图片中间部分\n",
    "  this.alignment = Alignment.center, //对齐方式\n",
    "  this.repeat = ImageRepeat.noRepeat, //重复方式\n",
    "  ...\n",
    "})"
   ]
  },
  {
   "cell_type": "markdown",
   "metadata": {},
   "source": [
    "## Image缓存\n",
    "- 默认最大缓存数量是1000，最大缓存空间100M"
   ]
  },
  {
   "cell_type": "markdown",
   "metadata": {},
   "source": [
    "# ICON"
   ]
  },
  {
   "cell_type": "markdown",
   "metadata": {},
   "source": [
    "## 使用Material Design字体图标\n",
    "- [图标编号网址](https://material.io/tools/icons/)"
   ]
  },
  {
   "cell_type": "code",
   "execution_count": null,
   "metadata": {},
   "outputs": [],
   "source": [
    "# pubspec.yaml 中字体图标的配置\n",
    "flutter:\n",
    "  uses-material-design: true\n",
    "    \n",
    "    \n",
    "# 使用方式\n",
    "Icon(Icons.accessible//字体图标中的内容,color: Colors.green,)"
   ]
  },
  {
   "cell_type": "markdown",
   "metadata": {},
   "source": [
    "## 自定义字体图标"
   ]
  },
  {
   "cell_type": "code",
   "execution_count": null,
   "metadata": {},
   "outputs": [],
   "source": [
    "# 导入自定义的文字\n",
    "fonts:\n",
    "  - family: myIcon  #指定一个字体名\n",
    "    fonts:\n",
    "      - asset: fonts/iconfont.ttf\n",
    "        \n",
    "# 定义一个MyIcons类，将字体文件中所有图片都定义成静态变量\n",
    "class MyIcons{\n",
    "    \n",
    "    static const IconData book = const IconData(\n",
    "        0xe614,\n",
    "        fontFamily:'myIcon',\n",
    "        matchTextDirection:true\n",
    "    )\n",
    "    \n",
    "}\n",
    "\n",
    "# 使用\n",
    "Icon(MyIcons.book,color: Colors.purple,)"
   ]
  }
 ],
 "metadata": {
  "kernelspec": {
   "display_name": "Python 3",
   "language": "python",
   "name": "python3"
  },
  "language_info": {
   "codemirror_mode": {
    "name": "ipython",
    "version": 3
   },
   "file_extension": ".py",
   "mimetype": "text/x-python",
   "name": "python",
   "nbconvert_exporter": "python",
   "pygments_lexer": "ipython3",
   "version": "3.7.4"
  }
 },
 "nbformat": 4,
 "nbformat_minor": 2
}
