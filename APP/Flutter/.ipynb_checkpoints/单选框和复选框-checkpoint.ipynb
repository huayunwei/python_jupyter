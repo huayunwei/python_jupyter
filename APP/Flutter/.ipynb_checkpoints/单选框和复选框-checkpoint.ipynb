{
 "cells": [
  {
   "cell_type": "markdown",
   "metadata": {},
   "source": [
    "# 单选开关和复选框\n",
    "- 单选：switch\n",
    "- 多选：checkbox"
   ]
  },
  {
   "cell_type": "code",
   "execution_count": null,
   "metadata": {},
   "outputs": [],
   "source": [
    "class SwitchAndCheckBoxTestRoute extends StatefulWidget {\n",
    "  @override\n",
    "  _SwitchAndCheckBoxTestRouteState createState() => new _SwitchAndCheckBoxTestRouteState();\n",
    "}\n",
    "\n",
    "class _SwitchAndCheckBoxTestRouteState extends State<SwitchAndCheckBoxTestRoute> {\n",
    "  bool _switchSelected=true; //维护单选开关状态\n",
    "  bool _checkboxSelected=true;//维护复选框状态\n",
    "  @override\n",
    "  Widget build(BuildContext context) {\n",
    "    return Column(\n",
    "      children: <Widget>[\n",
    "        Switch(\n",
    "          value: _switchSelected,//当前状态\n",
    "          onChanged:(value){ // 点击的回调\n",
    "            //重新构建页面  \n",
    "            setState(() {\n",
    "              _switchSelected=value;\n",
    "            });\n",
    "          },\n",
    "        ),\n",
    "        Checkbox(\n",
    "          value: _checkboxSelected,\n",
    "          activeColor: Colors.red, //选中时的颜色\n",
    "          onChanged:(value){\n",
    "            setState(() {\n",
    "              _checkboxSelected=value;\n",
    "            });\n",
    "          } ,\n",
    "        )\n",
    "      ],\n",
    "    );\n",
    "  }\n",
    "}"
   ]
  }
 ],
 "metadata": {
  "kernelspec": {
   "display_name": "Python 3",
   "language": "python",
   "name": "python3"
  },
  "language_info": {
   "codemirror_mode": {
    "name": "ipython",
    "version": 3
   },
   "file_extension": ".py",
   "mimetype": "text/x-python",
   "name": "python",
   "nbconvert_exporter": "python",
   "pygments_lexer": "ipython3",
   "version": "3.7.4"
  }
 },
 "nbformat": 4,
 "nbformat_minor": 2
}
