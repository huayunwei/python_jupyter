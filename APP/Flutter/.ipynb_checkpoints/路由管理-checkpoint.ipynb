{
 "cells": [
  {
   "cell_type": "markdown",
   "metadata": {},
   "source": [
    "# 路由管理 "
   ]
  },
  {
   "cell_type": "markdown",
   "metadata": {},
   "source": [
    "# MaterialPageRoute - 继承自PageRoute类\n",
    "- 安卓：当打开新页面时，新的页面会从屏幕底部滑动到屏幕顶部，关闭时，当前页面会从屏幕顶部滑动到屏幕底部后消失，同时上一个页面会显示到屏幕上\n",
    "- 苹果：当打开页面时，新的页面会从屏幕右侧边缘一致滑动到屏幕左边，直到新页面全部显示到屏幕上，而上一个页面则会从当前屏幕滑动到屏幕左侧而消失；当关闭页面时，正好相反，当前页面会从屏幕右侧滑出，同时上一个页面会从屏幕左侧滑入"
   ]
  },
  {
   "cell_type": "code",
   "execution_count": null,
   "metadata": {},
   "outputs": [],
   "source": [
    "MaterialPageRoute({\n",
    "    WidgetBuilder builder, // WidgetBuilder类型的回调函数，用于构建路由页面的具体内容\n",
    "    RouteSettings settings, // 包含路由的配置信息，如路由名称，是否初始路由（首页）\n",
    "    bool maintainState = true, // true：当入栈一个新路由时，原来的路由仍会被保存在内存中，false：在路由没用时释放其所占的所有资源\n",
    "    bool fullscreenDialog = false, // 新的路由页面是否是一个全屏的模拟对话框\n",
    "})"
   ]
  },
  {
   "cell_type": "markdown",
   "metadata": {},
   "source": [
    "# Navigator - 一个路由管理组件，提供了打开和退出路由页的方法"
   ]
  },
  {
   "cell_type": "code",
   "execution_count": null,
   "metadata": {},
   "outputs": [],
   "source": [
    "Future push(BuildContext context,Route route) // 将给定的路由入栈（既打开新的页面），返回值是一个Future对象，用以接收新路由出栈（即关闭）时的返回数\n",
    "bool pop(BuildContext context,[result]) //将栈顶路由出栈，result为页面关闭时返回给上一个页面的数据"
   ]
  },
  {
   "cell_type": "code",
   "execution_count": null,
   "metadata": {},
   "outputs": [],
   "source": [
    "Navigator.push(context,MaterialPageRoute(builder:(context){\n",
    "    return NewRoute();\n",
    "}))"
   ]
  },
  {
   "cell_type": "markdown",
   "metadata": {},
   "source": [
    "# 路由传值"
   ]
  },
  {
   "cell_type": "code",
   "execution_count": null,
   "metadata": {},
   "outputs": [],
   "source": [
    "# 页面2：点击返回返回页面1\n",
    "class TipRoute extends StatelessWidget {\n",
    "  TipRoute({\n",
    "    Key key,\n",
    "    @required this.text,  // 接收一个text参数\n",
    "  }) : super(key: key);\n",
    "  final String text;\n",
    "\n",
    "  @override\n",
    "  Widget build(BuildContext context) {\n",
    "    return Scaffold(\n",
    "      appBar: AppBar(\n",
    "        title: Text(\"提示\"),\n",
    "      ),\n",
    "      body: Padding(\n",
    "        padding: EdgeInsets.all(18),\n",
    "        child: Center(\n",
    "          child: Column(\n",
    "            children: <Widget>[\n",
    "              Text(text),\n",
    "              RaisedButton(\n",
    "                onPressed: () => Navigator.pop(context, \"我是返回值\"),\n",
    "                child: Text(\"返回\"),\n",
    "              )\n",
    "            ],\n",
    "          ),\n",
    "        ),\n",
    "      ),\n",
    "    );\n",
    "  }\n",
    "}"
   ]
  },
  {
   "cell_type": "code",
   "execution_count": null,
   "metadata": {},
   "outputs": [],
   "source": [
    "# 页面1：主页面，点击链接进入页面2\n",
    "class RouterTestRoute extends StatelessWidget {\n",
    "  @override\n",
    "  Widget build(BuildContext context) {\n",
    "    return Center(\n",
    "      child: RaisedButton(\n",
    "        onPressed: () async {\n",
    "          // 打开`TipRoute`，并等待返回结果\n",
    "          var result = await Navigator.push(\n",
    "            context,\n",
    "            MaterialPageRoute(\n",
    "              builder: (context) {\n",
    "                return TipRoute(\n",
    "                  // 路由参数\n",
    "                  text: \"我是提示xxxx\",\n",
    "                );\n",
    "              },\n",
    "            ),\n",
    "          );\n",
    "          //输出`TipRoute`路由返回结果\n",
    "          print(\"路由返回值: $result\");\n",
    "        },\n",
    "        child: Text(\"打开提示页\"),\n",
    "      ),\n",
    "    );\n",
    "  }\n",
    "}"
   ]
  },
  {
   "cell_type": "markdown",
   "metadata": {},
   "source": [
    "# 注册路由"
   ]
  },
  {
   "cell_type": "code",
   "execution_count": null,
   "metadata": {},
   "outputs": [],
   "source": [
    "MaterialApp(\n",
    "  title: 'Flutter Demo',\n",
    "  theme: ThemeData(\n",
    "    primarySwatch: Colors.blue,\n",
    "  ),\n",
    "  //注册路由表\n",
    "  routes:{\n",
    "   \"new_page\":(context)=>NewRoute(), // 注册路由\n",
    "    \"/\":(context)=> MyHomePage(title: 'Flutter Demo Home Page'), //注册首页路由\n",
    "    ... // 省略其它路由注册信息\n",
    "  } \n",
    ");"
   ]
  },
  {
   "cell_type": "markdown",
   "metadata": {},
   "source": [
    "# 通过路由名打来新路由页\n",
    "- future pushName(BuildContext context,String routeName,{Object arguments})"
   ]
  },
  {
   "cell_type": "code",
   "execution_count": null,
   "metadata": {},
   "outputs": [],
   "source": [
    "onPressed:(){\n",
    "    Navigator.pushName(context,\"new_page\");\n",
    "}"
   ]
  },
  {
   "cell_type": "code",
   "execution_count": null,
   "metadata": {},
   "outputs": [],
   "source": [
    "# 打开路由时传递参数\n",
    "onPressed:(){\n",
    "    Navigator.pushName(context,\"new_page\",arguments:\"h1\");\n",
    "}\n",
    "    \n",
    "# 接收路由传递的参数\n",
    "Widget build(BuildContext context){\n",
    "    var args=ModalRoute.of(context).settings.arguments\n",
    "}\n",
    "\n",
    "// 简化版\n",
    "MaterialApp(\n",
    "  //注册路由表\n",
    "  routes:{\n",
    "   \"new_page\":(context)=>NewRoute(), // 注册路由\n",
    "    \"/\":(context)=> MyHomePage(title: 'Flutter Demo Home Page'), //注册首页路由\n",
    "    \"tip\":(context)=>TipRoute(text:ModalRoute.of(context).settings.arguments) // 通过路由名打开路由，同时传递参数\n",
    "  ... // 省略其它路由注册信息\n",
    "  } "
   ]
  },
  {
   "cell_type": "markdown",
   "metadata": {},
   "source": [
    "# OnGenerateRoute\n",
    "- 在打开命名路由时可能被调用（如果路由没有在路由表中注册，则会调用，如果注册了，则调用builder函数）"
   ]
  },
  {
   "cell_type": "code",
   "execution_count": null,
   "metadata": {},
   "outputs": [],
   "source": [
    "MaterialApp(\n",
    "    onGenerateRoute:(RouteSetting settings){\n",
    "        return MaterialPageRoute(builder:(context){\n",
    "            // 如果想要在每个跳转的页面时做处理，可以放在这个位置，如是否处于登录状态\n",
    "        })\n",
    "    }\n",
    ")"
   ]
  }
 ],
 "metadata": {
  "kernelspec": {
   "display_name": "Python 3",
   "language": "python",
   "name": "python3"
  },
  "language_info": {
   "codemirror_mode": {
    "name": "ipython",
    "version": 3
   },
   "file_extension": ".py",
   "mimetype": "text/x-python",
   "name": "python",
   "nbconvert_exporter": "python",
   "pygments_lexer": "ipython3",
   "version": "3.7.4"
  }
 },
 "nbformat": 4,
 "nbformat_minor": 2
}
