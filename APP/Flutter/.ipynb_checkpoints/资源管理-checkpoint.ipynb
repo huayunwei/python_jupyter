{
 "cells": [
  {
   "cell_type": "markdown",
   "metadata": {},
   "source": [
    "# assets资源管理\n",
    "- 依旧是放在pubspec.yaml文件中"
   ]
  },
  {
   "cell_type": "code",
   "execution_count": null,
   "metadata": {},
   "outputs": [],
   "source": [
    "# pubspec.yaml文件\n",
    "flutter:\n",
    "  assets:\n",
    "    - assets/my_icon.png\n",
    "    - assets/background.png"
   ]
  },
  {
   "cell_type": "markdown",
   "metadata": {},
   "source": [
    "## 加载文本assets"
   ]
  },
  {
   "cell_type": "code",
   "execution_count": null,
   "metadata": {},
   "outputs": [],
   "source": [
    "import 'dart:async' show Future;\n",
    "import 'package:flutter/services.dart' show rootBundle;\n",
    "\n",
    "Future<String> loadAsset() async {\n",
    "  return await rootBundle.loadString('assets/config.json');\n",
    "}"
   ]
  },
  {
   "cell_type": "markdown",
   "metadata": {},
   "source": [
    "## 加载图片\n",
    "- 目录样式\n",
    "    …/my_icon.png\n",
    "    …/2.0x/my_icon.png\n",
    "    …/3.0x/my_icon.png\n",
    "- 设备像素比率为1.8的设备上，2.0x里面的图片将被选择\n",
    "- 如果后面的资源没有指定大小，则将使用主资源的大小，即使用最上层目录的资源的宽高"
   ]
  },
  {
   "cell_type": "code",
   "execution_count": null,
   "metadata": {},
   "outputs": [],
   "source": []
  }
 ],
 "metadata": {
  "kernelspec": {
   "display_name": "Python 3",
   "language": "python",
   "name": "python3"
  },
  "language_info": {
   "codemirror_mode": {
    "name": "ipython",
    "version": 3
   },
   "file_extension": ".py",
   "mimetype": "text/x-python",
   "name": "python",
   "nbconvert_exporter": "python",
   "pygments_lexer": "ipython3",
   "version": "3.7.4"
  }
 },
 "nbformat": 4,
 "nbformat_minor": 2
}
