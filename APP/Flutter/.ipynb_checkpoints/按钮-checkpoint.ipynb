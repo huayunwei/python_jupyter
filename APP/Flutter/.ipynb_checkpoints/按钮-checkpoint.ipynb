{
 "cells": [
  {
   "cell_type": "markdown",
   "metadata": {},
   "source": [
    "# 按钮"
   ]
  },
  {
   "cell_type": "markdown",
   "metadata": {},
   "source": [
    "## RaisedButton - 悬浮按钮\n",
    "- 默认带有阴影和灰色背景，按下后，阴影变大"
   ]
  },
  {
   "cell_type": "code",
   "execution_count": null,
   "metadata": {},
   "outputs": [],
   "source": [
    "RaisedButton(\n",
    "  child: Text(\"normal\"), // 按钮名\n",
    "  onPressed: () {}, // 设置点击回调\n",
    ");"
   ]
  },
  {
   "cell_type": "markdown",
   "metadata": {},
   "source": [
    "## FlatButton - 扁平按钮\n",
    "- 默认背景透明并不带阴影，按下后，会有背景色"
   ]
  },
  {
   "cell_type": "code",
   "execution_count": null,
   "metadata": {},
   "outputs": [],
   "source": [
    "FlatButton(\n",
    "  child: Text(\"normal\"),\n",
    "  onPressed: () {},\n",
    ")"
   ]
  },
  {
   "cell_type": "markdown",
   "metadata": {},
   "source": [
    "## OutlineButton\n",
    "- 默认有一个边框，不带阴影且背影透明，按下后，边框颜色会变量，同时出现背影和阴影"
   ]
  },
  {
   "cell_type": "code",
   "execution_count": null,
   "metadata": {},
   "outputs": [],
   "source": [
    "OutlineButton(\n",
    "  child: Text(\"normal\"),\n",
    "  onPressed: () {},\n",
    ")"
   ]
  },
  {
   "cell_type": "markdown",
   "metadata": {},
   "source": [
    "## IconButton\n",
    "- 可点击icon，不包含文字，默认没有背景，点击后会出现背景"
   ]
  },
  {
   "cell_type": "code",
   "execution_count": null,
   "metadata": {},
   "outputs": [],
   "source": [
    "IconButton(\n",
    "  icon: Icon(Icons.thumb_up),\n",
    "  onPressed: () {},\n",
    ")"
   ]
  },
  {
   "cell_type": "markdown",
   "metadata": {},
   "source": [
    "## 带图标的按钮"
   ]
  },
  {
   "cell_type": "code",
   "execution_count": null,
   "metadata": {},
   "outputs": [],
   "source": [
    "RaisedButton.icon(\n",
    "  icon: Icon(Icons.send), // 按钮图标\n",
    "  label: Text(\"发送\"), // 按钮文字\n",
    "  onPressed: _onPressed, // 按钮点击回调\n",
    "),\n",
    "OutlineButton.icon(\n",
    "  icon: Icon(Icons.add),\n",
    "  label: Text(\"添加\"),\n",
    "  onPressed: _onPressed,\n",
    "),\n",
    "FlatButton.icon(\n",
    "  icon: Icon(Icons.info),\n",
    "  label: Text(\"详情\"),\n",
    "  onPressed: _onPressed,\n",
    "),"
   ]
  },
  {
   "cell_type": "markdown",
   "metadata": {},
   "source": [
    "## 自定义按钮外观"
   ]
  },
  {
   "cell_type": "code",
   "execution_count": null,
   "metadata": {},
   "outputs": [],
   "source": [
    "const FlatButton({\n",
    "  ...  \n",
    "  @required this.onPressed, //按钮点击回调\n",
    "  this.textColor, //按钮文字颜色\n",
    "  this.disabledTextColor, //按钮禁用时的文字颜色\n",
    "  this.color, //按钮背景颜色\n",
    "  this.disabledColor,//按钮禁用时的背景颜色\n",
    "  this.highlightColor, //按钮按下时的背景颜色\n",
    "  this.splashColor, //点击时，水波动画中水波的颜色\n",
    "  this.colorBrightness,//按钮主题，默认是浅色主题 \n",
    "  this.padding, //按钮的填充\n",
    "  this.shape, //外形\n",
    "  @required this.child, //按钮的内容\n",
    "})\n",
    "\n",
    "\n",
    "# 自定义按钮\n",
    "FlatButton(\n",
    "  color: Colors.blue, //按钮背景颜色\n",
    "  highlightColor: Colors.blue[700], //按钮按下时的背景颜色\n",
    "  colorBrightness: Brightness.dark, //按钮主题，默认是浅色主题 \n",
    "  splashColor: Colors.grey, //点击时，水波动画中水波的颜色\n",
    "  child: Text(\"Submit\"), //按钮的内容\n",
    "  shape:RoundedRectangleBorder(borderRadius: BorderRadius.circular(20.0)), //外形\n",
    "  onPressed: () {},  //按钮点击回调\n",
    ")"
   ]
  }
 ],
 "metadata": {
  "kernelspec": {
   "display_name": "Python 3",
   "language": "python",
   "name": "python3"
  },
  "language_info": {
   "codemirror_mode": {
    "name": "ipython",
    "version": 3
   },
   "file_extension": ".py",
   "mimetype": "text/x-python",
   "name": "python",
   "nbconvert_exporter": "python",
   "pygments_lexer": "ipython3",
   "version": "3.7.4"
  }
 },
 "nbformat": 4,
 "nbformat_minor": 2
}
