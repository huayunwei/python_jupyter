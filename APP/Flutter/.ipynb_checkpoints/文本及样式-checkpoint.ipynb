{
 "cells": [
  {
   "cell_type": "markdown",
   "metadata": {},
   "source": [
    "# 文本及样式"
   ]
  },
  {
   "cell_type": "markdown",
   "metadata": {},
   "source": [
    "## Text"
   ]
  },
  {
   "cell_type": "code",
   "execution_count": null,
   "metadata": {},
   "outputs": [],
   "source": [
    "Text(\"Hello world\", # 文本\n",
    "     textAlign: TextAlign.left, # 文本的对其方式，可以选择左对齐。右对齐还是居中\n",
    "     maxLines:1 # 指定文本显示的最大行数，默认情况下，文本自动换行\n",
    "     overflow:TextOverflow.ellipsis # 将多余文本截断后以省略符表示\n",
    "     textScaleFactor: 1.0 # x 相对于当前字体大小的缩放因子\n",
    "     style: TextStyle( # 文本显示的样式\n",
    "                color: Colors.blue, # \n",
    "                fontSize: 18.0,\n",
    "                height: 1.2,  \n",
    "                fontFamily: \"Courier\",\n",
    "                background: new Paint()..color=Colors.yellow,\n",
    "                decoration:TextDecoration.underline,\n",
    "                decorationStyle: TextDecorationStyle.dashed\n",
    "              ),\n",
    ");"
   ]
  },
  {
   "cell_type": "markdown",
   "metadata": {},
   "source": [
    "## TextSpan\n",
    "- 如果一个文本想要分成多种样式，可以使用"
   ]
  },
  {
   "cell_type": "code",
   "execution_count": null,
   "metadata": {},
   "outputs": [],
   "source": [
    "Text.rich(TextSpan(\n",
    "    children: [\n",
    "     TextSpan(\n",
    "       text: \"Home: \"\n",
    "     ),\n",
    "     TextSpan(\n",
    "       text: \"https://flutterchina.club\",\n",
    "       style: TextStyle(\n",
    "         color: Colors.blue\n",
    "       ),  \n",
    "       recognizer: _tapRecognizer\n",
    "     ),\n",
    "    ]\n",
    "))"
   ]
  },
  {
   "cell_type": "markdown",
   "metadata": {},
   "source": [
    "## DefaultTextStyle\n",
    "- 文本的默认样式"
   ]
  },
  {
   "cell_type": "code",
   "execution_count": null,
   "metadata": {},
   "outputs": [],
   "source": [
    "DefaultTextStyle(\n",
    "  //1.设置文本默认样式  \n",
    "  style: TextStyle(\n",
    "    color:Colors.red,\n",
    "    fontSize: 20.0,\n",
    "  ),\n",
    "  textAlign: TextAlign.start,\n",
    "  child: Column(\n",
    "    crossAxisAlignment: CrossAxisAlignment.start,\n",
    "    children: <Widget>[\n",
    "      Text(\"hello world\"),\n",
    "      Text(\"I am Jack\"),\n",
    "      Text(\"I am Jack\",\n",
    "        style: TextStyle(\n",
    "          inherit: false, //2.不继承默认样式\n",
    "          color: Colors.grey\n",
    "        ),\n",
    "      ),\n",
    "    ],\n",
    "  ),\n",
    ");"
   ]
  }
 ],
 "metadata": {
  "kernelspec": {
   "display_name": "Python 3",
   "language": "python",
   "name": "python3"
  },
  "language_info": {
   "codemirror_mode": {
    "name": "ipython",
    "version": 3
   },
   "file_extension": ".py",
   "mimetype": "text/x-python",
   "name": "python",
   "nbconvert_exporter": "python",
   "pygments_lexer": "ipython3",
   "version": "3.7.4"
  }
 },
 "nbformat": 4,
 "nbformat_minor": 2
}
