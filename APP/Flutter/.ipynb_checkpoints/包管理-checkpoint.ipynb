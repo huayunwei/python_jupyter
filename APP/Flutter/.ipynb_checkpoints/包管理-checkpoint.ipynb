{
 "cells": [
  {
   "cell_type": "markdown",
   "metadata": {},
   "source": [
    "# 包管理 -- yaml"
   ]
  },
  {
   "cell_type": "code",
   "execution_count": null,
   "metadata": {},
   "outputs": [],
   "source": [
    "# pubspec.yaml 文件\n",
    "\n",
    "name: flutter_in_action  # 应用或者包名称\n",
    "description: First Flutter application. # 应用或包的描述、简介\n",
    "\n",
    "version: 1.0.0+1 # 应用或包的版本号\n",
    "\n",
    "dependencies: # 应用或包以来的其他包或插件，如果flutter本身所依赖的包，需要在这个下面\n",
    "  flutter:\n",
    "    sdk: flutter\n",
    "  cupertino_icons: ^0.1.2\n",
    "\n",
    "dev_dependencies: # 开发环境依赖的工具包，不包括flutter本身包括的包\n",
    "  flutter_test:\n",
    "    sdk: flutter\n",
    "\n",
    "flutter:  # flutter相关的配置选项\n",
    "  uses-material-design: true"
   ]
  },
  {
   "cell_type": "markdown",
   "metadata": {},
   "source": [
    "## 依赖于Pub仓库 -- 官方库"
   ]
  },
  {
   "cell_type": "code",
   "execution_count": null,
   "metadata": {},
   "outputs": [],
   "source": [
    "dependencies:\n",
    "  flutter:\n",
    "    sdk: flutter\n",
    "\n",
    "  cupertino_icons: ^0.1.0\n",
    "  # 新添加的依赖\n",
    "  english_words: ^3.1.3"
   ]
  },
  {
   "cell_type": "markdown",
   "metadata": {},
   "source": [
    "## 依赖于本地包"
   ]
  },
  {
   "cell_type": "code",
   "execution_count": null,
   "metadata": {},
   "outputs": [],
   "source": [
    "dependencies:\n",
    "    pkg1:\n",
    "        path: ../../code/pkg1"
   ]
  },
  {
   "cell_type": "markdown",
   "metadata": {},
   "source": [
    "## 依赖于git"
   ]
  },
  {
   "cell_type": "code",
   "execution_count": null,
   "metadata": {},
   "outputs": [],
   "source": [
    "# git根目录\n",
    "dependencies:\n",
    "  pkg1:\n",
    "    git:\n",
    "      url: git://github.com/xxx/pkg1.git\n",
    "            \n",
    "            \n",
    "# git某路径下\n",
    "dependencies:\n",
    "  package1:\n",
    "    git:\n",
    "      url: git://github.com/flutter/packages.git\n",
    "      path: packages/package1"
   ]
  }
 ],
 "metadata": {
  "kernelspec": {
   "display_name": "Python 3",
   "language": "python",
   "name": "python3"
  },
  "language_info": {
   "codemirror_mode": {
    "name": "ipython",
    "version": 3
   },
   "file_extension": ".py",
   "mimetype": "text/x-python",
   "name": "python",
   "nbconvert_exporter": "python",
   "pygments_lexer": "ipython3",
   "version": "3.7.4"
  }
 },
 "nbformat": 4,
 "nbformat_minor": 2
}
