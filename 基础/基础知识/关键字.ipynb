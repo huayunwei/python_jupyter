{
 "cells": [
  {
   "cell_type": "markdown",
   "metadata": {},
   "source": [
    "# 关键字\n",
    "- 关键字是预先保留的标识符，每个关键字都有特殊的含义"
   ]
  },
  {
   "cell_type": "markdown",
   "metadata": {},
   "source": [
    "## 关键字列表"
   ]
  },
  {
   "cell_type": "code",
   "execution_count": 1,
   "metadata": {},
   "outputs": [
    {
     "name": "stdout",
     "output_type": "stream",
     "text": [
      "\n",
      "Here is a list of the Python keywords.  Enter any keyword to get more help.\n",
      "\n",
      "False               class               from                or\n",
      "None                continue            global              pass\n",
      "True                def                 if                  raise\n",
      "and                 del                 import              return\n",
      "as                  elif                in                  try\n",
      "assert              else                is                  while\n",
      "async               except              lambda              with\n",
      "await               finally             nonlocal            yield\n",
      "break               for                 not                 \n",
      "\n"
     ]
    }
   ],
   "source": [
    "# 获取关键字列表\n",
    "help('keywords')"
   ]
  },
  {
   "cell_type": "code",
   "execution_count": 2,
   "metadata": {},
   "outputs": [
    {
     "name": "stdout",
     "output_type": "stream",
     "text": [
      "['False', 'None', 'True', 'and', 'as', 'assert', 'async', 'await', 'break', 'class', 'continue', 'def', 'del', 'elif', 'else', 'except', 'finally', 'for', 'from', 'global', 'if', 'import', 'in', 'is', 'lambda', 'nonlocal', 'not', 'or', 'pass', 'raise', 'return', 'try', 'while', 'with', 'yield']\n"
     ]
    }
   ],
   "source": [
    "# 获取关键字列表\n",
    "import keyword\n",
    "print(keyword.kwlist)"
   ]
  },
  {
   "cell_type": "code",
   "execution_count": 3,
   "metadata": {},
   "outputs": [
    {
     "data": {
      "text/plain": [
       "True"
      ]
     },
     "execution_count": 3,
     "metadata": {},
     "output_type": "execute_result"
    }
   ],
   "source": [
    "# 关键字判断\n",
    "keyword.iskeyword('and')"
   ]
  },
  {
   "cell_type": "code",
   "execution_count": 4,
   "metadata": {},
   "outputs": [
    {
     "data": {
      "text/plain": [
       "False"
      ]
     },
     "execution_count": 4,
     "metadata": {},
     "output_type": "execute_result"
    }
   ],
   "source": [
    "# 关键字判断\n",
    "keyword.iskeyword('123')"
   ]
  },
  {
   "cell_type": "markdown",
   "metadata": {},
   "source": [
    "## 关键字含义解释"
   ]
  },
  {
   "cell_type": "markdown",
   "metadata": {},
   "source": [
    "- False：布尔值类型的值，表示假，与True相反\n",
    "- None：None比较特殊，表示什么也没有，它有自己的数据类型 - NoneType\n",
    "- True：布尔值类型的值，表示真，与False相反\n",
    "- and：用于表达式运算，逻辑与操作\n",
    "- as：用于类型转换\n",
    "- assert：断言，用于判断变量或条件表达式的值是否为真\n",
    "- break：中断循环语句的执行\n",
    "- class：定义类\n",
    "- continue：跳出本次循环，继续执行下一次循环\n",
    "- def：用于定义函数或方法\n",
    "- del：删除变量或序列的值\n",
    "- elif：条件语句，与if，else结合使用\n",
    "- else：条件语句，与if,elif结合使用，也可用于异常和循环语句\n",
    "- except：except包含捕获异常后的操作代码块，与try和finally结合使用\n",
    "- finally：用于异常语句，出现异常后，始终要执行finally包含的代码块，与try，except结合使用\n",
    "- for：for循环语句\n",
    "- from：用于导入模块，与import结合使用\n",
    "- global：定义全局变量\n",
    "- if：条件语句，与else，elif结合使用\n",
    "- import：用于导入模块，与from结合使用\n",
    "- in：判断变量是否在序列中\n",
    "- is：判断变量是否为某个类的实例\n",
    "- lambda：定义匿名函数\n",
    "- nonlocal：用于标识外部作用域的变量\n",
    "- not：用于表达式运算，逻辑非操作\n",
    "- or：用于表达式运算，逻辑或操作\n",
    "- pass：空的类，方法或函数的占位符\n",
    "- raise：异常抛出操作\n",
    "- return：用于从函数返回计算结果\n",
    "- try：try包含可能会出现异常的语句，与except，finally结合使用\n",
    "- while：while循环语句\n",
    "- with：简化python的语句\n",
    "- yield：用于从函数依次返回值"
   ]
  },
  {
   "cell_type": "code",
   "execution_count": null,
   "metadata": {},
   "outputs": [],
   "source": []
  }
 ],
 "metadata": {
  "kernelspec": {
   "display_name": "Python 3",
   "language": "python",
   "name": "python3"
  },
  "language_info": {
   "codemirror_mode": {
    "name": "ipython",
    "version": 3
   },
   "file_extension": ".py",
   "mimetype": "text/x-python",
   "name": "python",
   "nbconvert_exporter": "python",
   "pygments_lexer": "ipython3",
   "version": "3.7.0"
  }
 },
 "nbformat": 4,
 "nbformat_minor": 2
}
