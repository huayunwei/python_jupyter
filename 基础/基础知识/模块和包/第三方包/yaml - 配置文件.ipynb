{
 "cells": [
  {
   "cell_type": "markdown",
   "metadata": {},
   "source": [
    "# yaml"
   ]
  },
  {
   "cell_type": "markdown",
   "metadata": {},
   "source": [
    "- 基本语法规则：\n",
    "    - 大小写敏感\n",
    "    - 使用缩进时不允许使用Tab键，只允许使用空格\n",
    "    - 缩进的空格数目不重要，只要相同层级的元素左侧对齐即可\n",
    "    - #表示注释，从这个字符一直到行尾，都会被解析器忽略\n",
    "- 支持的结构：\n",
    "    - 对象：键值对的集合，又称为映射/哈希/字典\n",
    "    - 数组：一组按次序排列的值，又称为序列/列表\n",
    "    - 存量：单个的、不可再分的值，字符串、布尔值、整数、浮点数、Null、时间、日期"
   ]
  },
  {
   "cell_type": "markdown",
   "metadata": {},
   "source": [
    "- 安装：pip install pyyaml"
   ]
  },
  {
   "cell_type": "markdown",
   "metadata": {},
   "source": [
    "## 字典的写法"
   ]
  },
  {
   "cell_type": "code",
   "execution_count": null,
   "metadata": {},
   "outputs": [],
   "source": [
    "'''\n",
    "{\n",
    "    \"user\":\"admin\",\n",
    "    \"psw\":\"1234\"\n",
    "}\n",
    "'''\n",
    "\n",
    "# 1.yaml文件\n",
    "user: admin\n",
    "psw: 1234\n",
    "    \n",
    "'''\n",
    "{\n",
    "    \"nb1\":{\n",
    "        \"user\":\"admin\",\n",
    "        \"psw\":\"1234\"\n",
    "    }\n",
    "}\n",
    "'''\n",
    "\n",
    "# 1.yaml文件\n",
    "nb1:\n",
    "    user: admin\n",
    "    psw: 1234"
   ]
  },
  {
   "cell_type": "markdown",
   "metadata": {},
   "source": [
    "## 列表写法"
   ]
  },
  {
   "cell_type": "code",
   "execution_count": null,
   "metadata": {},
   "outputs": [],
   "source": [
    "'''\n",
    "[\n",
    "    {'admin1':1234},\n",
    "    {'admin2':2345},\n",
    "    {'admin3':4567}\n",
    "]\n",
    "'''\n",
    "- admin1: 1234\n",
    "- admin2: 2345\n",
    "- admin3: 4567"
   ]
  },
  {
   "cell_type": "markdown",
   "metadata": {},
   "source": [
    "## 字符串写法"
   ]
  },
  {
   "cell_type": "code",
   "execution_count": null,
   "metadata": {},
   "outputs": [],
   "source": [
    "'''\n",
    "{'n1':None}\n",
    "'''\n",
    "n1: ~\n",
    "\n",
    "'''\n",
    "时间采用ISO8601格式\n",
    "{'time':datetime.datetime(2001,12,15,21,59,43,100000)}\n",
    "{'time1':datetime.date(2017,7,31)}\n",
    "'''\n",
    "time: 2001-12-14t21:59:43.10-05:00\n",
    "time1: 2017-07-31\n",
    "    \n",
    "'''\n",
    "使用两个感叹号，强制转换数据类型\n",
    "{n2:'123'}\n",
    "'''\n",
    "# 将int 的 123转换成str\n",
    "n2: !!str 123"
   ]
  },
  {
   "cell_type": "markdown",
   "metadata": {},
   "source": [
    "# 读取yaml文件\n",
    "- 使用open方法读取文件\n",
    "- 使用load方式转成字典"
   ]
  },
  {
   "cell_type": "code",
   "execution_count": null,
   "metadata": {},
   "outputs": [],
   "source": [
    "import yaml\n",
    "import os\n",
    "\n",
    "# 获取当前脚本所在文件夹的路径\n",
    "curPath = os.path.dirname(os.path.realpath(__file__))\n",
    "\n",
    "# 获取yaml文件路径\n",
    "yamlPath = os.path.join(curPath,\"yaml文件的名字\")\n",
    "\n",
    "# 使用open方式打开并读取文件\n",
    "f = open(yamlPath,'r',encoding='utf-8')\n",
    "cfg = f.read()\n",
    "\n",
    "# 使用load方式将读取出来的字符串转成字典\n",
    "d = yaml.load(cfg)"
   ]
  }
 ],
 "metadata": {
  "kernelspec": {
   "display_name": "Python 3",
   "language": "python",
   "name": "python3"
  },
  "language_info": {
   "codemirror_mode": {
    "name": "ipython",
    "version": 3
   },
   "file_extension": ".py",
   "mimetype": "text/x-python",
   "name": "python",
   "nbconvert_exporter": "python",
   "pygments_lexer": "ipython3",
   "version": "3.7.0"
  }
 },
 "nbformat": 4,
 "nbformat_minor": 2
}
