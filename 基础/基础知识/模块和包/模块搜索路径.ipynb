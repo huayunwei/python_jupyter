{
 "cells": [
  {
   "cell_type": "markdown",
   "metadata": {},
   "source": [
    "# 模块搜索路径\n",
    "- 当导入一个模块时，解释器会按照如下顺序搜索\n",
    "    - 搜索具有该名称的内置模块\n",
    "    - 没有找到，在sys.path给出的目录列表中搜索\n",
    "        - sys.path初始化位置\n",
    "            - 输入脚本的目录（当前目录，当没有指定文件时）\n",
    "            - PYTHONPATH（window的坏境变量）\n",
    "            - 与安装相关的默认值"
   ]
  },
  {
   "cell_type": "markdown",
   "metadata": {},
   "source": [
    "# 添加模块搜索路径\n",
    "- 动态增加路径：临时生效，多用于不经常使用的模块\n",
    "    - import sys\n",
    "    - sys.path.append('...')\n",
    "- 修改PYTHONPATH变量：永久生效，多用于在许多程序中都是用模块，会改变所有python应用的搜索路径\n",
    "    - window：直接改pythonpath环境变量\n",
    "    - linux：修改~/.bashrc\n",
    "- 增加.pth文件：永久生效，python在遍历已知的库文件目录过程中，如果遇到.pth文件，便会将其中的路径加入到sys.path中\n",
    "    - 库文件目录：path/site-packages\n",
    "    - 增加.pth配置文件：内容为要添加的路径"
   ]
  },
  {
   "cell_type": "code",
   "execution_count": null,
   "metadata": {},
   "outputs": [],
   "source": []
  }
 ],
 "metadata": {
  "kernelspec": {
   "display_name": "Python 3",
   "language": "python",
   "name": "python3"
  },
  "language_info": {
   "codemirror_mode": {
    "name": "ipython",
    "version": 3
   },
   "file_extension": ".py",
   "mimetype": "text/x-python",
   "name": "python",
   "nbconvert_exporter": "python",
   "pygments_lexer": "ipython3",
   "version": "3.7.0"
  }
 },
 "nbformat": 4,
 "nbformat_minor": 2
}
