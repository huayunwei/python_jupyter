{
 "cells": [
  {
   "cell_type": "markdown",
   "metadata": {},
   "source": [
    "# timeit模块"
   ]
  },
  {
   "cell_type": "markdown",
   "metadata": {},
   "source": [
    "## Timer类\n",
    "- 初始化参数：\n",
    "    - stmt：需要测量的语句或函数\n",
    "    - setup：初始化代码或构建环境的导入语句\n",
    "    - timer：计时函数，默认为time.perf_counter函数 - 能够提供最好精度的计时器"
   ]
  },
  {
   "cell_type": "markdown",
   "metadata": {},
   "source": [
    "### timeit方法\n",
    "- 参数：number - 每一次测量中语句被执行的次数，默认为1000000"
   ]
  },
  {
   "cell_type": "code",
   "execution_count": null,
   "metadata": {},
   "outputs": [],
   "source": [
    "Timer(\"create1()\", \"from __main__ import create1\").timeit(number=1000)"
   ]
  },
  {
   "cell_type": "markdown",
   "metadata": {},
   "source": [
    "## repeat 方法 - 指定重复执行的次数，然后返回一个每次执行时间的列表\n",
    "- 参数： \n",
    "    - repeat： 重复次数，默认为5\n",
    "    - number：同timeit方法的该参数"
   ]
  },
  {
   "cell_type": "code",
   "execution_count": null,
   "metadata": {},
   "outputs": [],
   "source": [
    "Timer(\"create1()\", \"from __main__ import create1\").repeat(repeat=1,number=1000)"
   ]
  },
  {
   "cell_type": "markdown",
   "metadata": {},
   "source": [
    "## timeit方法\n",
    "- 调用Timer类中的timeit方法"
   ]
  },
  {
   "cell_type": "code",
   "execution_count": null,
   "metadata": {},
   "outputs": [],
   "source": [
    "def timeit(stmt=\"pass\", setup=\"pass\", timer=default_timer,number=default_number, globals=None):\n",
    "    \"\"\"Convenience function to create Timer object and call timeit method.\"\"\"\n",
    "    return Timer(stmt, setup, timer, globals).timeit(number)"
   ]
  },
  {
   "cell_type": "markdown",
   "metadata": {},
   "source": [
    "## repeat方法\n",
    "- 调用Timer类中的repeat方法"
   ]
  },
  {
   "cell_type": "code",
   "execution_count": null,
   "metadata": {},
   "outputs": [],
   "source": [
    "def repeat(stmt=\"pass\", setup=\"pass\", timer=default_timer,repeat=default_repeat, number=default_number, globals=None):\n",
    "    \"\"\"Convenience function to create Timer object and call repeat method.\"\"\"\n",
    "    return Timer(stmt, setup, timer, globals).repeat(repeat, number)"
   ]
  },
  {
   "cell_type": "markdown",
   "metadata": {},
   "source": []
  }
 ],
 "metadata": {
  "kernelspec": {
   "display_name": "Python 3",
   "language": "python",
   "name": "python3"
  },
  "language_info": {
   "codemirror_mode": {
    "name": "ipython",
    "version": 3
   },
   "file_extension": ".py",
   "mimetype": "text/x-python",
   "name": "python",
   "nbconvert_exporter": "python",
   "pygments_lexer": "ipython3",
   "version": "3.7.0"
  },
  "toc": {
   "base_numbering": 1,
   "nav_menu": {},
   "number_sections": false,
   "sideBar": true,
   "skip_h1_title": false,
   "title_cell": "Table of Contents",
   "title_sidebar": "Contents",
   "toc_cell": false,
   "toc_position": {},
   "toc_section_display": true,
   "toc_window_display": false
  }
 },
 "nbformat": 4,
 "nbformat_minor": 2
}
