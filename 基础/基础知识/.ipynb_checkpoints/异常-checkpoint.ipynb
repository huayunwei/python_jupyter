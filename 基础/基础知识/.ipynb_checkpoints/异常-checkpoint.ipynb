{
 "cells": [
  {
   "cell_type": "markdown",
   "metadata": {},
   "source": [
    "# 异常\n",
    "- 广义上的错误分为错误和异常\n",
    "- python中异常是一个类，可以处理和使用\n",
    "\n",
    "## 异常的分类\n",
    "    BaseException\n",
    "     +-- SystemExit\n",
    "     +-- KeyboardInterrupt\n",
    "     +-- GeneratorExit\n",
    "     +-- Exception\n",
    "          +-- StopIteration\n",
    "          +-- StopAsyncIteration\n",
    "          +-- ArithmeticError\n",
    "          |    +-- FloatingPointError\n",
    "          |    +-- OverflowError\n",
    "          |    +-- ZeroDivisionError\n",
    "          +-- AssertionError\n",
    "          +-- AttributeError\n",
    "          +-- BufferError\n",
    "          +-- EOFError\n",
    "          +-- ImportError\n",
    "               +-- ModuleNotFoundError\n",
    "          +-- LookupError\n",
    "          |    +-- IndexError\n",
    "          |    +-- KeyError\n",
    "          +-- MemoryError\n",
    "          +-- NameError\n",
    "          |    +-- UnboundLocalError\n",
    "          +-- OSError\n",
    "          |    +-- BlockingIOError\n",
    "          |    +-- ChildProcessError\n",
    "          |    +-- ConnectionError\n",
    "          |    |    +-- BrokenPipeError\n",
    "          |    |    +-- ConnectionAbortedError\n",
    "          |    |    +-- ConnectionRefusedError\n",
    "          |    |    +-- ConnectionResetError\n",
    "          |    +-- FileExistsError\n",
    "          |    +-- FileNotFoundError\n",
    "          |    +-- InterruptedError\n",
    "          |    +-- IsADirectoryError\n",
    "          |    +-- NotADirectoryError\n",
    "          |    +-- PermissionError\n",
    "          |    +-- ProcessLookupError\n",
    "          |    +-- TimeoutError\n",
    "          +-- ReferenceError\n",
    "          +-- RuntimeError\n",
    "          |    +-- NotImplementedError\n",
    "          |    +-- RecursionError\n",
    "          +-- SyntaxError\n",
    "          |    +-- IndentationError\n",
    "          |         +-- TabError\n",
    "          +-- SystemError\n",
    "          +-- TypeError\n",
    "          +-- ValueError\n",
    "          |    +-- UnicodeError\n",
    "          |         +-- UnicodeDecodeError\n",
    "          |         +-- UnicodeEncodeError\n",
    "          |         +-- UnicodeTranslateError\n",
    "          +-- Warning\n",
    "               +-- DeprecationWarning\n",
    "               +-- PendingDeprecationWarning\n",
    "               +-- RuntimeWarning\n",
    "               +-- SyntaxWarning\n",
    "               +-- UserWarning\n",
    "               +-- FutureWarning\n",
    "               +-- ImportWarning\n",
    "               +-- UnicodeWarning\n",
    "               +-- BytesWarning\n",
    "               +-- ResourceWarning"
   ]
  },
  {
   "cell_type": "markdown",
   "metadata": {},
   "source": [
    "## 异常处理\n",
    "- 语法\n",
    "    \n",
    "        try:\n",
    "            执行某些操作\n",
    "            如果没有异常，任务就可以完成\n",
    "            如果出现异常，将异常从当前代码块扔出去尝试解决\n",
    "        except 异常类型:\n",
    "            解决方式\n",
    "        except 异常类型1，异常类型2：\n",
    "            两种类型方式都用同一种方式解决\n",
    "        else：\n",
    "            如果没有出现任何异常，将会执行此处代码\n",
    "        finally：\n",
    "            不论有没有异常都会执行的代码\n",
    "\n",
    "- 多种error的情况\n",
    "    - 处理异常时，一旦拦截到某一个异常，则不再继续往下看，直接进行下一个\n",
    "    - 所有异常都是继承自Exception\n",
    "        - 如果except Exception as e：则捕获所有的异常"
   ]
  },
  {
   "cell_type": "code",
   "execution_count": 7,
   "metadata": {},
   "outputs": [
    {
     "name": "stdout",
     "output_type": "stream",
     "text": [
      "try...\n",
      "捕获特定异常 division by zero\n"
     ]
    }
   ],
   "source": [
    "# 有一个捕获到异常后就不会继续下面的捕获操作了\n",
    "try:\n",
    "    print('try...')\n",
    "    r = 10/0\n",
    "    print(\"无法输出\")\n",
    "except ZeroDivisionError as e:\n",
    "    print(\"捕获特定异常\",e)\n",
    "except Exception as e:\n",
    "    print(\"捕获所有异常\",e)"
   ]
  },
  {
   "cell_type": "code",
   "execution_count": 8,
   "metadata": {},
   "outputs": [
    {
     "name": "stdout",
     "output_type": "stream",
     "text": [
      "try...\n",
      "捕获所有异常 division by zero\n"
     ]
    }
   ],
   "source": [
    "# 有一个捕获到异常后就不会继续下面的捕获操作了\n",
    "try:\n",
    "    print('try...')\n",
    "    r = 10/0\n",
    "    print(\"无法输出\")\n",
    "except Exception as e:\n",
    "    print(\"捕获所有异常\",e)\n",
    "except ZeroDivisionError as e:\n",
    "    print(\"捕获特定异常\",e)"
   ]
  },
  {
   "cell_type": "markdown",
   "metadata": {},
   "source": [
    "- 手动抛出异常\n",
    "    - raise errorType：抛出异常，其中整个type必须是系统异常类型的子类\n",
    "    - raise [Exception[,args[,traceback]]]：\n",
    "        - Exception：异常的类型，必须是标准异常的一种\n",
    "        - args：自己提供的异常参数\n",
    "        - traceback：跟踪的异常对象"
   ]
  },
  {
   "cell_type": "code",
   "execution_count": 4,
   "metadata": {},
   "outputs": [
    {
     "name": "stdout",
     "output_type": "stream",
     "text": [
      "1 手动抛出的异常\n"
     ]
    }
   ],
   "source": [
    "def my(level):\n",
    "    if level < 1:\n",
    "        raise Exception(\"手动抛出的异常\")\n",
    "try:\n",
    "    my(0)\n",
    "except Exception as e:\n",
    "    print(1,e)\n",
    "else:\n",
    "    print(2)"
   ]
  },
  {
   "cell_type": "code",
   "execution_count": null,
   "metadata": {},
   "outputs": [],
   "source": []
  }
 ],
 "metadata": {
  "kernelspec": {
   "display_name": "Python 3",
   "language": "python",
   "name": "python3"
  },
  "language_info": {
   "codemirror_mode": {
    "name": "ipython",
    "version": 3
   },
   "file_extension": ".py",
   "mimetype": "text/x-python",
   "name": "python",
   "nbconvert_exporter": "python",
   "pygments_lexer": "ipython3",
   "version": "3.7.4"
  }
 },
 "nbformat": 4,
 "nbformat_minor": 2
}
