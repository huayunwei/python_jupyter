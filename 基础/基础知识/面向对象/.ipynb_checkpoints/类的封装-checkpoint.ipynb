{
 "cells": [
  {
   "cell_type": "markdown",
   "metadata": {},
   "source": [
    "# 类的封装\n",
    "- 封装：面向对象的主要特征之一，是对象和类概念的主要特性\n",
    "    - 一个类就是一个封装了数据以及操作这些数据的方法的逻辑实体\n",
    "    - 在一个对象内部，某些数据或方法可以是私有的，这些私有的数据或方法是不允许外界访问的，可以对对象的私有部分进行保护"
   ]
  },
  {
   "cell_type": "markdown",
   "metadata": {},
   "source": [
    "## 类的定义\n",
    "- 是对显示事务的抽象过程和能力\n",
    "- 类是一个对象/实例的模板，也是一个特殊的对象/实例\n",
    "- 类的命名\n",
    "    - 遵守变量命名规则\n",
    "    - 大驼峰（由一个或多个单词构成，单个单词首字母大写，单词跟单词直接相连）"
   ]
  },
  {
   "cell_type": "code",
   "execution_count": null,
   "metadata": {},
   "outputs": [],
   "source": [
    "# 类的定义\n",
    "\n",
    "# 定义一个空类\n",
    "class Student():\n",
    "    pass\n",
    "\n",
    "# 定义一个类\n",
    "class Student():\n",
    "    # 用None给不确定的值赋值\n",
    "    name = None\n",
    "    age = 18\n",
    "    \n",
    "    def doHomeWork(self):\n",
    "        print(\"xxx\")"
   ]
  },
  {
   "cell_type": "markdown",
   "metadata": {},
   "source": [
    "### 类相关函数\n",
    "- issubclass：检测一个类是否是另一个类的子类\n",
    "- isinstance：检测一个对象是否是一个类的实例\n",
    "- hasattr：检测一个对象是否有成员属性xxx\n",
    "- getattr：获取属性\n",
    "- setattr：设置属性\n",
    "- delattr：删除属性\n",
    "- dir：获取对象的成员列表"
   ]
  },
  {
   "cell_type": "markdown",
   "metadata": {},
   "source": [
    "### 类的内置属性\n",
    "- \\__dict__：以字典的方式显示类的成员组成\n",
    "    - 实例对象.\\_\\_dict__和类.\\_\\_dict的值是不同的\n",
    "        - 实例对象：只包含成员属性和私有属性\n",
    "        - 类：包含共有属性/类属性和所有类型的方法\n",
    "- \\__doc__：获取类的文档信息\n",
    "- \\__name__：获取类的名称，如果在模板中使用，获取模块的名称\n",
    "- \\__bases__：获取某个类的所有父类，以元组的方式显示"
   ]
  },
  {
   "cell_type": "markdown",
   "metadata": {},
   "source": [
    "### 类的常用魔术方法\n",
    "- 魔术方法：不需要人为调用的方法，基本是特定的时刻自动触发\n",
    "- 操作类：\n",
    "    - \\__init__：构造函数，通过类创建对象时会自动触发执行该方法\n",
    "    - \\__new__：对象实例化方法，此函数较特殊，一般不需要使用\n",
    "    - \\__call__：对象当函数使用的触发\n",
    "    - \\__str__：当对象被当作字符串使用的时候调用,返回用户好读的字符串\n",
    "    - \\__repr__：返回字符串\n",
    "    - \\__del__：析构方法，当对象被内存释放时，会自动触发执行该方法\n",
    "- 属性操作相关：\n",
    "    - \\__getattr__：访问一个不存在的属性时触发\n",
    "    - \\__setattr__：对成员属性进行设置时触发"
   ]
  },
  {
   "cell_type": "markdown",
   "metadata": {},
   "source": [
    "## 类的实例化\n",
    "- 类名([参数,....])，参数是\\_\\_init\\_\\_方法中除了第一个self参数之外的其他参数"
   ]
  },
  {
   "cell_type": "markdown",
   "metadata": {},
   "source": [
    "## 不同保护等级的属性说明\n",
    "### 属性\n",
    "- 公有属性/类属性\n",
    "    - 直接定义在classs下的属性就是公有属性/类属性\n",
    "    - 该类的所有实例对象共同所有的，所以该值只保留一份，而不是每个实例保存一份\n",
    "    - 可以通过类直接访问，也可以直接通过实例进行访问\n",
    "    - 修改实例调用的共有属性，不会影响其他实例和类中该共有属性的值\n",
    "    - 修改类调用的共有属性，会影响该类的所有实例\n",
    "- 成员属性/实例属性\n",
    "    - 又称成员变量或实例属性，也就是说这些属性是该类的某个实例对象单独持有的属性\n",
    "    - 属性需要在类的\\_\\_init__方法中进行声明\n",
    "    - 可以通过实例对象来访问和更改\n",
    "    - 成员属性是每个实例对线独有的，某个实例对象的成员属性被更改不影响其他实例对象的相同属性的值\n",
    "    - 成员属性不能通过类来访问和修改\n",
    "- 私有属性\n",
    "    - 和成员属性一样，在\\_\\_init__方法中进行声明，但是属性名需要以双下划线开头\n",
    "    - 只允许在实例对象的内部（成员方法或私有方法中）访问，而不允许在实例对象的外部通过实例对象或类来直接访问，也不能被子类继承\n",
    "    - 外部访问方式：\n",
    "        - 在类中定义一个函数，返回该私有变量的值\n",
    "        - 通过实例对象.\\_类名__私有变量名\n",
    "        \n",
    "### 方法\n",
    "- 成员方法：通过类的实例对象去访问，成员方法的第一个参数必须是当前实例对象，通常写为self\n",
    "- 私有方法：以双下划线开头的成员方法，与私有属性类似，只能在实例对象内部访问，且不能被子类继承，第一个参数必须是当前实例对象，通常为self\n",
    "- 类方法：以@classmethod来装饰的成员方法就叫类方法，要求第一参数必须是当前类，通常写为cls，只能访问公有属性\n",
    "- 静态方法：以@staticmethod来装饰的成员方法叫静态方法，静态方法通常通过类名去访问\n",
    "- 属性方法：指可以像访问成员属性那样访问这个方法，第一个参数必须是当前实例对象，且必须有返回值"
   ]
  },
  {
   "cell_type": "code",
   "execution_count": null,
   "metadata": {},
   "outputs": [],
   "source": [
    "class Person(object):\n",
    "    nationality = 'China'\n",
    "\n",
    "    def __init__(self, name, age):\n",
    "        self.name = name\n",
    "        self.age = age\n",
    "        self.__id = str(uuid.uuid1())\n",
    "\n",
    "    # 成员方法/实例方法\n",
    "    def sayHello(self):\n",
    "        print('Hello, i am %s from %s, i am %d years old.' % (self.name, self.nationality, self.age))\n",
    "\n",
    "    # 私有方法\n",
    "    def __func0(self):\n",
    "        print('private method: func0')\n",
    "        print(self.name, self.age, self.__id, self.nationality)\n",
    "\n",
    "    # 类方法\n",
    "    @classmethod\n",
    "    def func1(cls):\n",
    "        print(cls.nationality)\n",
    "\n",
    "    # 静态方法\n",
    "    @staticmethod\n",
    "    def func2(a, b):\n",
    "        print(a + b)\n",
    "\n",
    "    #　属性方法\n",
    "    @property\n",
    "    def func3(self):\n",
    "        return '%s: %d' % (self.name, self.age)"
   ]
  },
  {
   "cell_type": "markdown",
   "metadata": {},
   "source": [
    "### self：\n",
    "- self在对象的方法中表示当前对象本身，如果通过对象调用一个方法，那么改对象会自动传入到当前方法的第一个参数中\n",
    "- self不是关键字，只是一个用于接收对象的普通参数，理论上可以用任何一个普通变量代替\n",
    "- 方法中有self形参的方法成为非绑定类的方法，可以通过对象访问，没有self的是绑定类的方法，只能通过类访问\n",
    "- 使用类访问绑定类的方法时，如果类方法中需要访问当前类的成员，可以通过__class__成员名来访问"
   ]
  },
  {
   "cell_type": "code",
   "execution_count": null,
   "metadata": {},
   "outputs": [],
   "source": []
  }
 ],
 "metadata": {
  "kernelspec": {
   "display_name": "Python 3",
   "language": "python",
   "name": "python3"
  },
  "language_info": {
   "codemirror_mode": {
    "name": "ipython",
    "version": 3
   },
   "file_extension": ".py",
   "mimetype": "text/x-python",
   "name": "python",
   "nbconvert_exporter": "python",
   "pygments_lexer": "ipython3",
   "version": "3.7.0"
  }
 },
 "nbformat": 4,
 "nbformat_minor": 2
}
