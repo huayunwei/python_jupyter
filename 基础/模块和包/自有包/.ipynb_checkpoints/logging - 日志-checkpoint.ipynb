{
 "cells": [
  {
   "cell_type": "markdown",
   "metadata": {},
   "source": [
    "[log的高级使用方式](https://docs.python.org/3.5/howto/logging-cookbook.html)"
   ]
  },
  {
   "cell_type": "markdown",
   "metadata": {},
   "source": [
    "# 日志\n",
    "- 一条日志信息对应的是一个事件的发生，而一个事件通常包括以下几个内容\n",
    "    - 事件发生的时间\n",
    "    - 事件发生的位置\n",
    "    - 事件的严重程度 --- 日志级别\n",
    "    - 事件内容\n",
    "- 日志级别\n",
    "    - DEBUG\n",
    "    - INFO\n",
    "    - NOTICE\n",
    "    - WARNING\n",
    "    - ERROR\n",
    "    - CRITICAL(严重的)\n",
    "    - ALERT\n",
    "    - EMERGENCY（紧急的）"
   ]
  },
  {
   "cell_type": "markdown",
   "metadata": {},
   "source": [
    "# Logging模块"
   ]
  },
  {
   "cell_type": "markdown",
   "metadata": {},
   "source": [
    "## logging模块的日志级别\n",
    "- debug：最详细的日志信息\n",
    "- info：信息详细程度仅次于debug，通常只记录关键节点信息\n",
    "- warning：当某些不期望的事情发生时记录的信息，但是此时应用程序还是正常运行的\n",
    "- error：由于一个严重的问题导致某些功能不能正常运行时记录的信息\n",
    "- critical：当发生严重错误，导致应用程序不能继续运行时记录的信息"
   ]
  },
  {
   "cell_type": "markdown",
   "metadata": {},
   "source": [
    "## logging模块的使用方式\n",
    "- 使用logging提供的模块级别的函数\n",
    "- 使用logging日志系统的四大组件\n",
    "    - loggers：提供应用程序代码直接使用的接口\n",
    "    - handlers：用于将日志记录发送到指定的目的位置\n",
    "    - filters：提供更细粒度的日志过滤功能，用于决定哪些日志记录将会被输出\n",
    "    - formatters：用于控制日志信息的最终输出格式"
   ]
  },
  {
   "cell_type": "code",
   "execution_count": null,
   "metadata": {},
   "outputs": [],
   "source": [
    "# logging提供的模块级别的函数\n",
    "'''\n",
    "**kwargs参数的三个关键字参数\n",
    "    - exc_info：布尔值，如果该参数的值设置为True，则会将异常信息添加到日志消息中，如果没有则添加None\n",
    "    - stack_info：布尔值，默认为False，如果该参数的值为True，栈信息会被添加到日志信息中\n",
    "    - extra：字典，它可以用来自定义消息格式中所包含的字段，但是他的key不能与logging模块定义的字段冲突\n",
    "'''\n",
    "#创建一条严重级别为DEBUG的日志记录\n",
    "logging.debug(msg, *args, **kwargs) \n",
    "#创建一条严重级别为INFO的日志记录\n",
    "logging.info(msg, *args, **kwargs) \n",
    "#创建一条严重级别为WARNING的日志记录\n",
    "logging.warning(msg, *args, **kwargs)\n",
    "#创建一条严重级别为ERROR的日志记录\n",
    "logging.error(msg, *args, **kwargs)\n",
    "#创建一条严重级别为CRITICAL的日志记录\n",
    "logging.critical(msg, *args, **kwargs)\n",
    "#创建一条严重级别为level的日志记录\n",
    "logging.log(level, *args, **kwargs)\n",
    "#对root logger进行一次性配置，指定“要记录的日志级别”、“日志格式”、“日志输出位置”、“日志文件的打开模式”等信息\n",
    "logging.basicConfig(**kwargs)"
   ]
  },
  {
   "cell_type": "markdown",
   "metadata": {},
   "source": [
    "## logging的配置 -- 使用函数方式\n",
    "- 默认情况下：\n",
    "    - logging的日志级别为warning，即小于warning的debug和info不会输出\n",
    "    - logging的输出格式为：\"%{levelname}s:%{name}s:%{message}s\" -- 日志级别:日志器名称:日志内容\n",
    "    - logging的输出位置为：控制台，sys.stderr\n",
    "- 在没有做任何配置的情况下，默认是通过调用logging.basicConfig(\\*\\*kwargs)方法，且不会向该方法传递任何参数\n",
    "- 如果要修改配置，需要调用basicConfig方法，且将要设置的内容以参数的方式传递"
   ]
  },
  {
   "cell_type": "code",
   "execution_count": 1,
   "metadata": {},
   "outputs": [
    {
     "name": "stderr",
     "output_type": "stream",
     "text": [
      "WARNING:root:This is a warning log.\n",
      "ERROR:root:This is a error log.\n",
      "CRITICAL:root:This is a critical log.\n"
     ]
    }
   ],
   "source": [
    "import logging\n",
    "\n",
    "logging.debug(\"This is a debug log.\")\n",
    "logging.info(\"This is a info log.\")\n",
    "logging.warning(\"This is a warning log.\")\n",
    "logging.error(\"This is a error log.\")\n",
    "logging.critical(\"This is a critical log.\")"
   ]
  },
  {
   "cell_type": "code",
   "execution_count": 2,
   "metadata": {},
   "outputs": [
    {
     "name": "stderr",
     "output_type": "stream",
     "text": [
      "WARNING:root:This is a warning log.\n",
      "ERROR:root:This is a error log.\n",
      "CRITICAL:root:This is a critical log.\n"
     ]
    }
   ],
   "source": [
    "logging.log(logging.DEBUG, \"This is a debug log.\")\n",
    "logging.log(logging.INFO, \"This is a info log.\")\n",
    "logging.log(logging.WARNING, \"This is a warning log.\")\n",
    "logging.log(logging.ERROR, \"This is a error log.\")\n",
    "logging.log(logging.CRITICAL, \"This is a critical log.\")"
   ]
  },
  {
   "cell_type": "markdown",
   "metadata": {},
   "source": [
    "### basicConfig函数介绍\n",
    "- 一个一次性的配置工具，只有在第一次调用该函数时会起作用，后续再次调用该函数不会产生任何操作\n",
    "- 可以接受的关键字参数名：\n",
    "    - filename：指定日志输出目标文件的文件名，指定该设置项后日志就不会被输出到控制台了\n",
    "    - filemode：打开文件的方式，默认为a，只有指定filename才有效\n",
    "    - format：指定日志格式字符串，即指定日志输出时所包含的字段信息以及它们的顺序\n",
    "    - datefmt：指定日期/时间格式，需要format中包含时间字段%(asctime)s时才有效\n",
    "    - level：指定日志器的日志级别\n",
    "    - stream：指定日志输出目标stream，stream和filename不能同时提供\n",
    "    - style：3.2新添加的配置项，指定format格式字符串的风格\n",
    "    - handlers：3.3新增，创建多个，stream和filename和handlers不能同时提供\n",
    "- format的值：\n",
    "    - %(asctime)s：日志事件发生的时间--人类可读时间\n",
    "    - %(created)f：日志事件发生的时间--时间戳，就是当时调用time.time()函数返回的值\n",
    "    - %(relativeCreated)d：日志事件发生的时间相对于logging模块加载时间的相对毫秒数\n",
    "    - %(msecs)d：日志事件发生时的毫秒部分\n",
    "    - %(levelname)s：日志记录的文字形式的日志级别\n",
    "    - %(levelno)s：日志记录的数字形式的日志级别（10,20,30,40,50）\n",
    "    - %(name)s：所使用的日志器的名称，默认为root\n",
    "    - %(message)s：日志记录的文本内容，通过msg%args计算得到\n",
    "    - %(pathname)s：调用日志记录函数的原文件的全路径\n",
    "    - %(filename)s：pathname的文件名部分，包括后缀\n",
    "    - %(module)s：filename的名称部分，不包含后缀\n",
    "    - %(lineno)d：调用日志记录函数的源码所在行的行号\n",
    "    - %(funcName)s：调用日志记录函数的函数名\n",
    "    - %(process)d：进程ID\n",
    "    - %(processName)s：进程名称，py3.1新增\n",
    "    - %(thread)d：线程ID\n",
    "    - %(threadName)s：线程名称"
   ]
  },
  {
   "cell_type": "code",
   "execution_count": 6,
   "metadata": {},
   "outputs": [],
   "source": [
    "import logging\n",
    "LOG_FORMAT = \"%(asctime)s - %(levelname)s - %(message)s\"\n",
    "DATE_FORMAT = \"%m/%d/%Y %H:%M:%S %p\"\n",
    "\n",
    "logging.basicConfig(level=logging.DEBUG,format=LOG_FORMAT,datefmt=DATE_FORMAT)"
   ]
  },
  {
   "cell_type": "markdown",
   "metadata": {},
   "source": [
    "## logging的配置 -- 使用四大组件的方式\n",
    "- 组件之间的关系\n",
    "    - 日志器（logger）需要通过处理器（handler）将日志信息输出到目标位置\n",
    "    - 不同的处理器（handler）可以将日志输出到不同的位置\n",
    "    - 日志器（logger）可以设置多个处理器（handler）将同一条日志输出到不同位置\n",
    "    - 每个处理器（handler）都可以设置自己的过滤器（filter）实现日志过滤，从而只保留感兴趣的日志\n",
    "    - 每个处理器（handler）都可以设置自己的格式器（formatter）实现同一条日志以不同的格式输出到不同的地方\n",
    "- logger是入口，通过handler处理，filter和formatter对处理的内容做处理"
   ]
  },
  {
   "cell_type": "markdown",
   "metadata": {},
   "source": [
    "### Logger类\n",
    "- 创建Logger对象：\n",
    "    - 通过Logger类实例化方法创建一个Logger对象\n",
    "    - 通过logging.getLogger(name)方法\n",
    "        - name：表示返回的日志器的名称标识，如果不提供，默认为root\n",
    "        - 如果以相同的name参数多次调用getLogger()方法，将会返回指向同一个logger对象的引用\n",
    "- 配置\n",
    "    - logger.setLevel()：设置日志器将会处理的日志消息的最低严重级别\n",
    "    - logger.addHandler()和logger.removeHdler()：为该logger对象添加和移除一个handler对象\n",
    "    - logger.addFilter()和logger.removeFilter()：为该logger对象添加和移除一个filter对象\n",
    "- 创建日志\n",
    "    - logger.debug()、info()、warnging()、error()、critical()：创建一个与他们的方法名对应等级的日志记录\n",
    "    - logger.exception()：创建一个类似于logger.error()的日志消息\n",
    "    - logger.log()：需要获取一个明确的日志level参数来创建一个日志记录"
   ]
  },
  {
   "cell_type": "code",
   "execution_count": null,
   "metadata": {},
   "outputs": [],
   "source": [
    " # 创建一个logger\n",
    "logger = logging.getLogger(\"name\")\n",
    "logger.setLevel(logging.DEBUG)"
   ]
  },
  {
   "cell_type": "markdown",
   "metadata": {},
   "source": [
    "### Handler类\n",
    "- 作用：将消息分发到handler指定的位置（文件、网络、邮件等），可以添加0个或更多个\n",
    "- 常用handler：\n",
    "    - logging.StreamHandler\t将日志消息发送到输出到Stream，如std.out, std.err或任何file-like对象。\n",
    "    - logging.FileHandler\t将日志消息发送到磁盘文件，默认情况下文件大小会无限增长\n",
    "    - logging.handlers.RotatingFileHandler\t将日志消息发送到磁盘文件，并支持日志文件按大小切割\n",
    "    - logging.hanlders.TimedRotatingFileHandler\t将日志消息发送到磁盘文件，并支持日志文件按时间切割\n",
    "    - logging.handlers.HTTPHandler\t将日志消息以GET或POST的方式发送给一个HTTP服务器\n",
    "    - logging.handlers.SMTPHandler\t将日志消息发送给一个指定的email地址\n",
    "    - logging.NullHandler\t该Handler实例会忽略error messages，通常被想使用logging的library开发者使用来避免'No handlers could be found for logger XXX'信息的出现。\n",
    "- 配置\n",
    "    - Handler.setLevel()\t设置handler将会处理的日志消息的最低严重级别\n",
    "    - Handler.setFormatter()\t为handler设置一个格式器对象\n",
    "    - Handler.addFilter() 和 Handler.removeFilter()\t为handler添加 和 删除一个过滤器对象"
   ]
  },
  {
   "cell_type": "markdown",
   "metadata": {},
   "source": [
    "### Formatter类\n",
    "- 作用：配置日志信息的最终顺序、结构和内容\n",
    "- 创建：\n",
    "    - logging.Formatter.\\_\\_init__(fmt=None,datefmt=None,style='%')\n",
    "        - fmt：指定消息格式化字符串，如果不指定该参数则默认使用message的原始值\n",
    "        - datefmt：指定日期格式字符串，如果不指定默认使用%Y-%m-%d %H:%M:%S\n",
    "        - sytle：可以取值为%,{,$，如果不指定，默认使用%"
   ]
  },
  {
   "cell_type": "code",
   "execution_count": null,
   "metadata": {},
   "outputs": [],
   "source": [
    "ch = logging.StreamHandler()\n",
    "ch.setLevel(logging.INFO)\n",
    "\n",
    "# 定义handler的输出格式\n",
    "formatter = logging.Formatter('%(asctime)s - %(name)s - %(levelname)s - %(message)s')\n",
    "#给handler添加格式器对象\n",
    "ch.setFormatter(formatter)\n",
    "# 给logger添加handler\n",
    "logging.getLogger(\"name\").addHandler(ch)"
   ]
  },
  {
   "cell_type": "markdown",
   "metadata": {},
   "source": [
    "### Filter类"
   ]
  }
 ],
 "metadata": {
  "kernelspec": {
   "display_name": "Python 3",
   "language": "python",
   "name": "python3"
  },
  "language_info": {
   "codemirror_mode": {
    "name": "ipython",
    "version": 3
   },
   "file_extension": ".py",
   "mimetype": "text/x-python",
   "name": "python",
   "nbconvert_exporter": "python",
   "pygments_lexer": "ipython3",
   "version": "3.7.0"
  }
 },
 "nbformat": 4,
 "nbformat_minor": 2
}
