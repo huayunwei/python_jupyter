{
 "cells": [
  {
   "cell_type": "markdown",
   "metadata": {},
   "source": [
    "# 时间处理模块\n",
    "- 内置模块：time，datetime和calendar模块"
   ]
  },
  {
   "cell_type": "markdown",
   "metadata": {},
   "source": [
    "## 一、相关术语\n",
    "- UTC time：格林尼治天文时间，时间标准时间，与UTC time对应的是各个时区的local time\n",
    "    - 东N区的时间比UTC时间早N个小时，因此UTC time+N小时，即为东N区的本地时间（中国在东8区，所以时间为UCT+8）\n",
    "    - 西N区的时间比UTC时间晚N个小时，因此UTC time-N小时，即为西N区的本地时间\n",
    "- epoch time：时间开始的起点，不同平台时间不同\n",
    "- timestamp：时间戳，Unix时间，一种时间表示方式，表示从格林尼治时间1970年1月1日0时0分0秒开始到现在所经过的毫秒数\n",
    "    - 有些变成语言的相关方法返回的是秒数，比如python\n",
    "    - 一个差值，与那个时区没有关系"
   ]
  },
  {
   "cell_type": "markdown",
   "metadata": {},
   "source": [
    "## 二、time模块"
   ]
  },
  {
   "cell_type": "markdown",
   "metadata": {},
   "source": [
    "### 1.方法列表"
   ]
  },
  {
   "cell_type": "markdown",
   "metadata": {},
   "source": [
    "#### process_time - 当前进程所消耗处理器运行时间（秒）"
   ]
  },
  {
   "cell_type": "code",
   "execution_count": 4,
   "metadata": {},
   "outputs": [
    {
     "name": "stdout",
     "output_type": "stream",
     "text": [
      "1.9375\n",
      "1937500000\n"
     ]
    }
   ],
   "source": [
    "import time\n",
    "print(time.process_time())\n",
    "print(time.process_time_ns())"
   ]
  },
  {
   "cell_type": "markdown",
   "metadata": {},
   "source": [
    "#### ctime([secs])：将一个秒数时间戳表示的时间转换为一个表示本地时间的字符串\n",
    "- sesc没有提供，则默认是用time()方法的返回值作为默认值"
   ]
  },
  {
   "cell_type": "markdown",
   "metadata": {},
   "source": [
    "#### time()：返回时间戳\n",
    "- 自1970-1-1 0:00:00至今所经历的秒数"
   ]
  },
  {
   "cell_type": "code",
   "execution_count": 6,
   "metadata": {},
   "outputs": [
    {
     "name": "stdout",
     "output_type": "stream",
     "text": [
      "1545271139.540166\n",
      "Thu Dec 20 09:58:59 2018\n"
     ]
    }
   ],
   "source": [
    "import time \n",
    "a = time.time()\n",
    "print(a)\n",
    "print(time.ctime(a))"
   ]
  },
  {
   "cell_type": "markdown",
   "metadata": {},
   "source": [
    "#### localtime([secs])：返回以指定时间戳对应的本地时间的struct_time对象"
   ]
  },
  {
   "cell_type": "markdown",
   "metadata": {},
   "source": [
    "#### gmtime([secs])：返回指定时间戳对应的utc时间的struct_time对象格式"
   ]
  },
  {
   "cell_type": "code",
   "execution_count": 8,
   "metadata": {},
   "outputs": [
    {
     "name": "stdout",
     "output_type": "stream",
     "text": [
      "time.struct_time(tm_year=2018, tm_mon=12, tm_mday=20, tm_hour=10, tm_min=2, tm_sec=32, tm_wday=3, tm_yday=354, tm_isdst=0)\n",
      "time.struct_time(tm_year=2018, tm_mon=12, tm_mday=20, tm_hour=2, tm_min=2, tm_sec=32, tm_wday=3, tm_yday=354, tm_isdst=0)\n"
     ]
    }
   ],
   "source": [
    "import time\n",
    "a = time.time()\n",
    "# gmtime和localtime差8个小时，因为中国是东8区\n",
    "print(time.localtime(a))\n",
    "print(time.gmtime(a))"
   ]
  },
  {
   "cell_type": "markdown",
   "metadata": {},
   "source": [
    "#### strptime(time_str,time_format_str)：将时间字符串转换成struct_time对象"
   ]
  },
  {
   "cell_type": "code",
   "execution_count": 9,
   "metadata": {},
   "outputs": [
    {
     "name": "stdout",
     "output_type": "stream",
     "text": [
      "time.struct_time(tm_year=2018, tm_mon=12, tm_mday=20, tm_hour=0, tm_min=0, tm_sec=0, tm_wday=3, tm_yday=354, tm_isdst=-1)\n"
     ]
    }
   ],
   "source": [
    "import time\n",
    "print(time.strptime('2018-12-20','%Y-%m-%d'))"
   ]
  },
  {
   "cell_type": "markdown",
   "metadata": {},
   "source": [
    "#### mktime(struct_time)：将struct_time对象转换成时间戳"
   ]
  },
  {
   "cell_type": "code",
   "execution_count": 10,
   "metadata": {},
   "outputs": [
    {
     "name": "stdout",
     "output_type": "stream",
     "text": [
      "time.struct_time(tm_year=2018, tm_mon=12, tm_mday=20, tm_hour=2, tm_min=6, tm_sec=28, tm_wday=3, tm_yday=354, tm_isdst=0)\n",
      "1545242788.0\n"
     ]
    }
   ],
   "source": [
    "import time\n",
    "a = time.gmtime()\n",
    "print(a)\n",
    "print(time.mktime(a))"
   ]
  },
  {
   "cell_type": "markdown",
   "metadata": {},
   "source": [
    "### 2.时间格式转换"
   ]
  },
  {
   "cell_type": "markdown",
   "metadata": {},
   "source": [
    "![](img/time_1.png)"
   ]
  },
  {
   "cell_type": "markdown",
   "metadata": {},
   "source": [
    "## 三、datetime模块"
   ]
  },
  {
   "cell_type": "markdown",
   "metadata": {},
   "source": [
    "### 1.datetime模块中定义的常量\n",
    "- datetime.MINYEAR：datetime.date或datetime.datetime对象所允许的年份的最小值，值为1\n",
    "- datetime.MAXYEAR：datetime.date或datetime.datetime对象所允许的年份的最大值，值为9999"
   ]
  },
  {
   "cell_type": "markdown",
   "metadata": {},
   "source": [
    "### 2.datetime模块中定义的类"
   ]
  },
  {
   "cell_type": "markdown",
   "metadata": {},
   "source": [
    "#### date类 - 表示日期\n",
    "- 类方法/属性：\n",
    "    - date.max：date对象所能表示的最大日期：9999-12-31\n",
    "    - date.min：date对象所能表示的最小日期：0001-01-01\n",
    "    - date.resoluation：date对象表示的日期的最小单位：天\n",
    "    - date.today()：返回一个表示当前本地日期的date对象\n",
    "    - date.fromtimestamp(timestamp)：根据给定的时间戳，返回一个date对象\n",
    "- 对象方法/属性：\n",
    "    - d.year：年\n",
    "    - d.month：月\n",
    "    - d.day：日\n",
    "    - d.replace(year[,month[,day]])：生成并返回一个新的日期对象，原日期对象不变\n",
    "    - d.timetuple()：返回日期对应的time.struct_time对象\n",
    "    - d.toordinal()：返回日期是字0001-01-01开启的第多少天\n",
    "    - d.weekday()：返回日期是星期几，[0,6],0表示日期一\n",
    "    - d.isoweekday()：返回日期是星期几，[1,7]，1表示星期一\n",
    "    - d.isocalendar()：返回一个元组，格式为(year,weekday,isoweekday)\n",
    "    - d.isoformat()：返回'YYYY-MM-DD'格式的日期字符串\n",
    "    - d.strftime(format)：返回指定格式的日期字符串，与time模块的strftime(format,struct_time)功能相同"
   ]
  },
  {
   "cell_type": "markdown",
   "metadata": {},
   "source": [
    "#### time类 - 表示时间\n",
    "- 类方法/属性：\n",
    "    - time.max：time类所能表示的最大时间：time(23,59,59,999999)\n",
    "    - time.min：time类所能表示的最小时间：time(0,0,0,0)\n",
    "    - time.resolution：时间的最小单位，即两个不同时间的最小差值：1微秒\n",
    "    \n",
    "- 对象方法/属性名称：\n",
    "    - t.hour：时\n",
    "    - t.minute：分\n",
    "    - t.second：秒\n",
    "    - t.microsecond：微秒\n",
    "    - t.tzinfo：返回传递给time构造方法的tzinfo对象，如果该参数未给出，则返回None\n",
    "    - t.replace(hour[,minute[,second[,microsecond[.tzinfo]]]])：生成并返回一个新的时间对象，原时间对象不变\n",
    "    - t.isoformat()：返回一个HH:MM:SS.%f 格式的时间字符串\n",
    "    - t.strftime()：返回指定格式的时间字符串，与time模块的strftime功能相同"
   ]
  },
  {
   "cell_type": "markdown",
   "metadata": {},
   "source": [
    "#### datetime - 表示日期时间\n",
    "- 类方法和属性：\n",
    "    - datetime.today()：返回一个表示当前本期日期时间的datetime对象\n",
    "    - datetime.now([tz])：返回指定时区日期时间的datetime对象，如果不指定tz参数，则结果同上\n",
    "    - datetime.utcnow()：返回当前utc日期大datetime对象\n",
    "    - datetime.fromtimestamp(timestamp[,tz])：根据指定的时间戳创建一个datetime对象\n",
    "    - datetime.utcfromtimestamp(timestamp)：根据指定时间戳创建一个datetime对象\n",
    "    - datetime.combine(date,time)：把指定的date和time对象整合成一个datetime对象\n",
    "    - datetime.strptime(date_str,format)：将时间字符串转换为datetime对象\n",
    "- 对象方法和属性：\n",
    "    - dt.year,dt.month,dt.day：年，月，日\n",
    "    - dt.hour,dt.minute,dt.second：时，分，秒\n",
    "    - dt.microsecond,dt.tzinfo：微秒，时区信息\n",
    "    - dt.date()：获取datetime对象对应的date对象\n",
    "    - dt.time()：获取datetime对象对应的time对象,tzinfo为None\n",
    "    - dt.timetz()：获取datetime对象对应的time对象，tzinfo与datetime对象的tzinfo相同\n",
    "    - dt.replace([year[,month[,day[,hour[,minute[,second[,microsecond[,tzinfo]]]]]]]])：生成并返回一个新的datetime对象\n",
    "        - 如果所有参数都没有指定，则返回一个与原对象相同的对象\n",
    "    - dt.timetuple()：返回datetime对象对应的tuple（不包括tzinfo）\n",
    "    - dt.utctimetuple()：返回datetime对象对应的utc时间的tuple\n",
    "    - dt.timestamp()：返回datetime对象对应的时间戳，返回值是一个类似time.time()返回的浮点型值\n",
    "    - dt.toordinal()：同date对象\n",
    "    - dt.weekday()：同date对象\n",
    "    - dt.isocalendar()：同date对象\n",
    "    - dt.isoformat([sep])：返回一个'%Y-%m-%d'\n",
    "    - dt.ctime()：等价于time模块的time.ctime\n",
    "    - dt.strftime(format)：返回指定格式的时间字符串\n",
    "- 使用datetime.datetime类对时间戳与时间字符串进行转换\n",
    "![](img/time_2.png)"
   ]
  },
  {
   "cell_type": "markdown",
   "metadata": {},
   "source": [
    "#### timedelta - 表示两个date、time、datetime实例之间的时间间隔"
   ]
  },
  {
   "cell_type": "code",
   "execution_count": null,
   "metadata": {},
   "outputs": [],
   "source": [
    "# 定义\n",
    "'''\n",
    "内部只存储days，seconds，microseconds\n",
    "1毫秒转换为1000微秒\n",
    "1分钟转为60秒\n",
    "1小时转为3600秒\n",
    "1周转为7天\n",
    "'''\n",
    "class datetime.timedelta(days=0,seconds=0,microseconds=0,milliseconds=0,hours=0,weeks=0)"
   ]
  },
  {
   "cell_type": "code",
   "execution_count": 11,
   "metadata": {},
   "outputs": [
    {
     "name": "stdout",
     "output_type": "stream",
     "text": [
      "31536000.0\n",
      "2018-12-23 12:55:25.752943\n"
     ]
    }
   ],
   "source": [
    "import datetime\n",
    "a = datetime.timedelta(365).total_seconds() # 一年包含的总秒数\n",
    "print(a)\n",
    "\n",
    "dt = datetime.datetime.now()\n",
    "print(dt + datetime.timedelta(3)) # 3天后"
   ]
  },
  {
   "cell_type": "markdown",
   "metadata": {},
   "source": [
    "#### tzinfo - 时区相关信息对象的抽象基类\n",
    "- 由datetime和time类使用，以提供自定义时间的而调用"
   ]
  },
  {
   "cell_type": "markdown",
   "metadata": {},
   "source": [
    "#### timezone：实现tzinfo抽象基类的类，表示与UTC固定偏移量"
   ]
  },
  {
   "cell_type": "markdown",
   "metadata": {},
   "source": [
    "## 四、时间格式码\n",
    "![](img/time_3.png)"
   ]
  },
  {
   "cell_type": "markdown",
   "metadata": {},
   "source": [
    "## 五、常用功能"
   ]
  },
  {
   "cell_type": "markdown",
   "metadata": {},
   "source": [
    "### 1. 指定时间段的随机时间"
   ]
  },
  {
   "cell_type": "code",
   "execution_count": 18,
   "metadata": {},
   "outputs": [
    {
     "name": "stdout",
     "output_type": "stream",
     "text": [
      "2017 8 14\n"
     ]
    }
   ],
   "source": [
    "import datetime\n",
    "import random\n",
    "# 题目：获取当前时间到去年1月1日之间的随机时间\n",
    "start = datetime.datetime.now()\n",
    "end = datetime.datetime.strptime('{}-01-01'.format(start.year-1),'%Y-%m-%d')\n",
    "\n",
    "# 在randint里要求end和start必须是整数\n",
    "start = int(start.timestamp())\n",
    "end = int(end.timestamp())\n",
    "\n",
    "# 在randint里要求end和start在没有规定step时，end必须大于start\n",
    "t = random.randint(end,start)\n",
    "\n",
    "res = datetime.datetime.fromtimestamp(t)\n",
    "print(res.year,res.month,res.day)"
   ]
  },
  {
   "cell_type": "code",
   "execution_count": null,
   "metadata": {},
   "outputs": [],
   "source": []
  }
 ],
 "metadata": {
  "kernelspec": {
   "display_name": "Python 3",
   "language": "python",
   "name": "python3"
  },
  "language_info": {
   "codemirror_mode": {
    "name": "ipython",
    "version": 3
   },
   "file_extension": ".py",
   "mimetype": "text/x-python",
   "name": "python",
   "nbconvert_exporter": "python",
   "pygments_lexer": "ipython3",
   "version": "3.7.0"
  },
  "toc": {
   "base_numbering": 1,
   "nav_menu": {},
   "number_sections": false,
   "sideBar": true,
   "skip_h1_title": false,
   "title_cell": "Table of Contents",
   "title_sidebar": "Contents",
   "toc_cell": false,
   "toc_position": {},
   "toc_section_display": true,
   "toc_window_display": true
  }
 },
 "nbformat": 4,
 "nbformat_minor": 2
}
