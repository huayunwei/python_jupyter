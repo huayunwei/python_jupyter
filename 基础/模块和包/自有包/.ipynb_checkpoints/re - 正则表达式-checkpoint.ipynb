{
 "cells": [
  {
   "cell_type": "markdown",
   "metadata": {},
   "source": [
    "[正则表达式的讲解](https://www.cnblogs.com/yyds/p/6913550.html)"
   ]
  },
  {
   "cell_type": "markdown",
   "metadata": {},
   "source": [
    "\n",
    "# re模块\n",
    "- re模块提供了一个正则表达式引擎接口"
   ]
  },
  {
   "cell_type": "markdown",
   "metadata": {},
   "source": [
    "## 正则表达式对象中的方法和属性\n",
    "- 通过re模块的compile()函数编译得到的正则表达式对象支持的方法\n",
    "- 下列方法的参数说明\n",
    "    - string：要匹配或处理的字符串\n",
    "    - pos：可选参数，表示从string字符串的哪个位置开始，相当于先对字符串做切片处理string[pos:]\n",
    "    - endpos：可选参数，表示到string字符串的哪个位置开始结束（不包含该位置）\n",
    "    - maxsplit：regex.split()方法的可选参数，表示最大切割次数，默认值为0，表示能切割多少次就尽可能多的切割多少次\n",
    "    - count：regex.sub()和regex.subn()方法的可选参数，表示最大替换次数，默认为0，表示能替换多少次就尽可能替换多少次\n",
    "    - repl：sub和subn函数中的repl表示replacement，用于指定将匹配到的子串替换成什么内容，可以为字符串或函数\n",
    "![](img/re_1.png)"
   ]
  },
  {
   "cell_type": "markdown",
   "metadata": {},
   "source": [
    "- 调用正则表达式对象的regex.match()，regex.fullmatch()和regex.search()得到的结果就是一个匹配对象，匹配对象支持以下方法和属性\n",
    "- 下面函数说明：\n",
    "    - template：模板字符串\n",
    "    - default：m.groups()与m.groupdict()方法中的default都是未匹配成功的捕获组提供默认匹配值的\n",
    "    - group：m.group()、m.start()、m.end()和m.span()方法中的group参数都表示要选择的分组索引值，1表示第一个分组，2表示第二个分组，默认为0，表示整个正则表达式所匹配的内容\n",
    "![](img/re_2.png)"
   ]
  },
  {
   "cell_type": "markdown",
   "metadata": {},
   "source": [
    "- re模块级别的函数\n",
    "- 参数\n",
    "    - string：需要用正则表达式来匹配的字符串对象\n",
    "    - flags：一个标志为，会影响正则表达式对象匹配行为\n",
    "    - repl：用于指定将匹配到的字符串替换成什么内容\n",
    "    - count：sub和subn函数中的count表示最多可替换次数\n",
    "    - maxsplit：split函数中的maxsplit表示最大分隔次数\n",
    "![](img/re_3.png)"
   ]
  },
  {
   "cell_type": "markdown",
   "metadata": {},
   "source": [
    "- flags标志位\n",
    "![](img/re_4.png)"
   ]
  },
  {
   "cell_type": "markdown",
   "metadata": {},
   "source": [
    "## re模块的使用\n",
    "- 匹配测试\n",
    "    - 通过特定的正则表达式对一个指定的字符串进行匹配来判断该字符串是否符合这个正则表达式所要求的格式\n",
    "    - 使用的函数或方法：\n",
    "        - re模块的match()和fullmatch()函数\n",
    "        - 正则表达式对象的match()和fullmatch()方法"
   ]
  },
  {
   "cell_type": "code",
   "execution_count": 1,
   "metadata": {},
   "outputs": [
    {
     "name": "stdout",
     "output_type": "stream",
     "text": [
      "Regex Match Success! <re.Match object; span=(0, 5), match='hello'>\n",
      "Regex Match Success! <re.Match object; span=(0, 5), match='hello'>\n",
      "Regex Match Success! <re.Match object; span=(0, 5), match='hello'>\n",
      "Regex Match Fail!\n",
      "Regex Match Fail!\n",
      "Regex Match Success! <re.Match object; span=(3, 8), match='hello'>\n"
     ]
    }
   ],
   "source": [
    "import re\n",
    "\n",
    "# 定义一个函数来对匹配结果进行展示 \n",
    "def display_match_obj(match_obj):\n",
    "    if match_obj is None:\n",
    "        print('Regex Match Fail!')\n",
    "    else:\n",
    "        print('Regex Match Success!', match_obj)\n",
    "\n",
    "if __name__ == '__main__':\n",
    "    p = re.compile(r'[a-z]+')\n",
    "    display_match_obj(p.match('hello'))\n",
    "    display_match_obj(p.match('hello123'))\n",
    "    display_match_obj(p.fullmatch('hello'))\n",
    "    display_match_obj(p.fullmatch('hello123'))\n",
    "    \n",
    "    display_match_obj(p.match('123hello'))\n",
    "    display_match_obj(p.match('123hello', 3))"
   ]
  },
  {
   "cell_type": "markdown",
   "metadata": {},
   "source": [
    "- 内容查找\n",
    "    - 通过特定的正则表达式对一个指定的字符串的内容进行扫描来判断该字符串中是否包含与换这个正则表达式相匹配的内容\n",
    "    - 使用的函数或方法\n",
    "        - re模块级别的search()、findall()和finditer()函数\n",
    "        - 正则表达式对象的search()、findall()和finditer()方法"
   ]
  },
  {
   "cell_type": "code",
   "execution_count": 2,
   "metadata": {},
   "outputs": [
    {
     "name": "stdout",
     "output_type": "stream",
     "text": [
      "None\n",
      "<re.Match object; span=(2, 3), match='c'>\n"
     ]
    }
   ],
   "source": [
    "'''\n",
    "re.match()：该函数仅是在字符串的开始位置进行匹配检测\n",
    "re.search()：该函数会在字符串的任意位置进行匹配检测\n",
    "'''\n",
    "import re\n",
    "\n",
    "string = 'abcdef'\n",
    "print(re.match(r'c', string))\n",
    "print(re.search(r'c', string))"
   ]
  },
  {
   "cell_type": "code",
   "execution_count": 3,
   "metadata": {},
   "outputs": [
    {
     "name": "stdout",
     "output_type": "stream",
     "text": [
      "07-16: carefully\n",
      "40-47: quickly\n"
     ]
    }
   ],
   "source": [
    "'''\n",
    "findall和finditer用来查找一个字符串中与正则表达式相匹配的内容，会找到所有与正则表达式匹配的内容\n",
    "findall返回的是所有匹配到的子串所组成的列表，finditer返回的是一个迭代器对象，该迭代器对象会将每次匹配到的结果作为一个匹配对象返回\n",
    "'''\n",
    "#获取一个字符串中所有副词以及它们各自在字符串中的切片位置\n",
    "import re\n",
    "\n",
    "text = \"He was carefully disguised but captured quickly by police.\"\n",
    "\n",
    "for m in re.finditer(r\"\\w+ly\", text):\n",
    "    print(\"%02d-%02d: %s\" % (m.start(), m.end(), m.group()))"
   ]
  },
  {
   "cell_type": "markdown",
   "metadata": {},
   "source": [
    "- 内容替换：\n",
    "    - 默认对一个字符串中所有与正则表达式相匹配的内容进行替换，也可以指定替换次数\n",
    "    - 函数和方法\n",
    "        - re模块sub()和subn()函数\n",
    "        - 正则表达式对象的sub和subn()方法\n",
    "        - sub返回被替换后的字符串，没有相匹配的时候，返回原始字符串\n",
    "        - subn返回除了被替换后的字符串，还返回一个替换次数，以元组形式返回"
   ]
  },
  {
   "cell_type": "code",
   "execution_count": 4,
   "metadata": {},
   "outputs": [
    {
     "name": "stdout",
     "output_type": "stream",
     "text": [
      "program files\n",
      "('program files', 2)\n"
     ]
    }
   ],
   "source": [
    "def dashrepl(match_obj):\n",
    "    if match_obj.group() == '-':\n",
    "        return ' '\n",
    "    else:\n",
    "        return ''\n",
    "\n",
    "if __name__ == '__main__':\n",
    "    text = 'pro----gram-files'\n",
    "    print(re.sub(r'-+', dashrepl, text))\n",
    "    print(re.subn(r'-+', dashrepl, text))"
   ]
  },
  {
   "cell_type": "markdown",
   "metadata": {},
   "source": [
    "- 字符串分隔\n",
    "    - 查找与正则表达式匹配的内容，然后以该内容作为分隔符对字符串进行分隔，最终返回被分隔后的子串列表\n",
    "    - 函数和方法\n",
    "        - re模块的split函数\n",
    "        - 正则表达式对象的split方法"
   ]
  },
  {
   "cell_type": "code",
   "execution_count": 5,
   "metadata": {},
   "outputs": [
    {
     "name": "stdout",
     "output_type": "stream",
     "text": [
      "['Words', 'words', 'words', '']\n",
      "['Words', 'words, words.']\n",
      "['0', '3', '9']\n"
     ]
    }
   ],
   "source": [
    "print(re.split(r'\\W+', 'Words, words, words.'))\n",
    "# 限制最大的分隔次数\n",
    "print(re.split(r'\\W+', 'Words, words, words.', 1))\n",
    "# 不区分大小写\n",
    "print(re.split(r'[a-f]+', '0a3B9', flags=re.IGNORECASE))"
   ]
  },
  {
   "cell_type": "code",
   "execution_count": null,
   "metadata": {},
   "outputs": [],
   "source": []
  }
 ],
 "metadata": {
  "kernelspec": {
   "display_name": "Python 3",
   "language": "python",
   "name": "python3"
  },
  "language_info": {
   "codemirror_mode": {
    "name": "ipython",
    "version": 3
   },
   "file_extension": ".py",
   "mimetype": "text/x-python",
   "name": "python",
   "nbconvert_exporter": "python",
   "pygments_lexer": "ipython3",
   "version": "3.7.0"
  }
 },
 "nbformat": 4,
 "nbformat_minor": 2
}
