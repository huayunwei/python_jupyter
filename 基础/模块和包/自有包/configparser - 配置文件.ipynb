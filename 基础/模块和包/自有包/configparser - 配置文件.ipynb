{
 "cells": [
  {
   "cell_type": "markdown",
   "metadata": {},
   "source": [
    "# configparser模块\n",
    "- 用来读取.ini配置文件，可以包括一个或多个节（section），每个节可以有多个参数（键=值）"
   ]
  },
  {
   "cell_type": "code",
   "execution_count": null,
   "metadata": {},
   "outputs": [],
   "source": [
    "# ini文件的格式\n",
    "；这一行为注释\n",
    "[section0] # 不能重复，根据这个获取内部的值\n",
    "key0 = value0\n",
    "key1 = value1\n",
    "\n",
    "[section1]\n",
    "key0 = value0\n",
    "key1 = value1"
   ]
  },
  {
   "cell_type": "code",
   "execution_count": null,
   "metadata": {},
   "outputs": [],
   "source": [
    "import configparser\n",
    "conf = configparser.ConfigParser()\n",
    "\n",
    "# 读取ini文件\n",
    "conf.read(file_path)\n",
    "# 读取的文件中有中文\n",
    "conf.read(file_path,encoding=\"utf-8\")\n",
    "\n",
    "# 获取配置文件所有的section，即文件中的[]中的内容，返回列表\n",
    "sections = conf.sections()\n",
    "\n",
    "# 获取指定section下所有option，返回列表\n",
    "options = conf.options('section的名字')\n",
    "\n",
    "# 获取指定section下所有的options的值，返回列表，其中options以元组的方式返回\n",
    "items = conf.items('sections的名字')\n",
    "\n",
    "# 后去指定section下指定option的值，返回字符串\n",
    "value = conf.get('sections的名字','options的名字')"
   ]
  },
  {
   "cell_type": "code",
   "execution_count": null,
   "metadata": {},
   "outputs": [],
   "source": [
    "# 删除 -  remove\n",
    "# 删除section中的一个item\n",
    "conf.remove_option('section','item_key')\n",
    "\n",
    "# 删除整个section\n",
    "conf.remove_section('section')"
   ]
  },
  {
   "cell_type": "code",
   "execution_count": null,
   "metadata": {},
   "outputs": [],
   "source": [
    "# 新增\n",
    "# 新增一个section\n",
    "conf.add_section('section')\n",
    "\n",
    "# section里面新增key和value\n",
    "conf.set('section','key','value')"
   ]
  },
  {
   "cell_type": "code",
   "execution_count": null,
   "metadata": {},
   "outputs": [],
   "source": [
    "# 写入\n",
    "# 写入有两种方式，一种是删除原文件内容，重新写入\n",
    "conf.write(open(cfgpath,'w'))  # 删除原文件重新写入\n",
    "conf.writ(open(cfgpath,'a')) # 追加模式写入\n",
    "\n",
    "# 追加一个section\n",
    "# coding:utf-8\n",
    "import configparser\n",
    "import os\n",
    "curpath = os.path.dirname(os.path.realpath(__file__))\n",
    "cfgpath = os.path.join(curpath, \"cfg.ini\")\n",
    "print(cfgpath)  # cfg.ini的路径\n",
    "\n",
    "# 创建管理对象\n",
    "conf = configparser.ConfigParser()\n",
    "\n",
    "# 添加一个select\n",
    "conf.add_section(\"emali_tel\")\n",
    "print(conf.sections())\n",
    "\n",
    "# 往select添加key和value\n",
    "conf.set(\"emali_tel\", \"sender\", \"yoyo1@tel.com\")\n",
    "conf.set(\"emali_tel\", \"port\", \"265\")\n",
    "items = conf.items('emali_tel')\n",
    "print(items)  # list里面对象是元祖\n",
    "\n",
    "conf.write(open(cfgpath, \"a\"))  # 追加模式写入"
   ]
  },
  {
   "cell_type": "code",
   "execution_count": null,
   "metadata": {},
   "outputs": [],
   "source": [
    "# 修改 - set\n",
    "# coding:utf-8\n",
    "import configparser\n",
    "import os\n",
    "\n",
    "curpath = os.path.dirname(os.path.realpath(__file__))\n",
    "cfgpath = os.path.join(curpath, \"cfg.ini\")\n",
    "\n",
    "# 创建管理对象\n",
    "conf = configparser.ConfigParser()\n",
    "\n",
    "# 先读出来\n",
    "conf.read(cfgpath, encoding=\"utf-8\")\n",
    "\n",
    "# 修改section里面的值\n",
    "conf.set(\"email_163\", \"port\", \"中文\")  # 写入中文\n",
    "\n",
    "conf.write(open(cfgpath, \"r+\", encoding=\"utf-8\"))  # r+模式"
   ]
  },
  {
   "cell_type": "markdown",
   "metadata": {},
   "source": [
    "## configparser模块在使用时的问题\n"
   ]
  },
  {
   "cell_type": "markdown",
   "metadata": {},
   "source": [
    "- 获取的options的值会使用完全小写的形式返回，因为configparser的源码就是以lower()的方式返回\n",
    "    - 解决办法1：该源码\n",
    "    - 解决办法2：自己写一个configparser类，继承python的原始类，然后重写这个方法"
   ]
  },
  {
   "cell_type": "code",
   "execution_count": null,
   "metadata": {},
   "outputs": [],
   "source": [
    "# 用于处理在使用configparser时，options的名字返回全小写\n",
    "import configparser\n",
    "\n",
    "class MyConfig(configparser.ConfigParser):\n",
    "    def __init__(self,defaults=None):\n",
    "        configparser.ConfigParser.__init__(self,defaults=defaults)\n",
    "\n",
    "    # 直接返回optionstr，不做任何处理\n",
    "    def optionxform(self,optionstr):\n",
    "        return optionstr"
   ]
  }
 ],
 "metadata": {
  "kernelspec": {
   "display_name": "Python 3",
   "language": "python",
   "name": "python3"
  },
  "language_info": {
   "codemirror_mode": {
    "name": "ipython",
    "version": 3
   },
   "file_extension": ".py",
   "mimetype": "text/x-python",
   "name": "python",
   "nbconvert_exporter": "python",
   "pygments_lexer": "ipython3",
   "version": "3.7.0"
  }
 },
 "nbformat": 4,
 "nbformat_minor": 2
}
