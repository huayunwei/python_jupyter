{
 "cells": [
  {
   "cell_type": "markdown",
   "metadata": {},
   "source": [
    "# 简单介绍\n",
    "- json：用于实现python数据类型与通用json字符串之间的转换\n",
    "- pickle：用于实现python数据类型与python特定二进制格式之间的转换\n",
    "- shelve：用于将python数据类型的数据持久化到磁盘，shelve是一个类似dict的对象"
   ]
  },
  {
   "cell_type": "markdown",
   "metadata": {},
   "source": [
    "## json模块\n",
    "- 2.6之后增加\n",
    "- 序列化和反序列化\n",
    "    - encoding：把python对象转换成json字符串\n",
    "    - decoding：把json字符串转换成python对象\n",
    "- python转json后的数据类型\n",
    "    - dict --> object\n",
    "    - list,tuple --> array\n",
    "    - str --> string\n",
    "    - int,float,int --> numbers\n",
    "    - True --> true\n",
    "    - False --> false\n",
    "    - None --> null\n",
    "- json转python\n",
    "    - object --> dict\n",
    "    - array --> list\n",
    "    - string --> str\n",
    "    - number(int) --> int\n",
    "    - number(real) --> float\n",
    "    - true --> True\n",
    "    - false --> False\n",
    "    - null --> None"
   ]
  },
  {
   "cell_type": "code",
   "execution_count": null,
   "metadata": {},
   "outputs": [],
   "source": [
    "# encoding：dumps函数\n",
    "'''\n",
    "参数：\n",
    "    sort_keys -- 表示序列化时是否对dict的key进行排序\n",
    "    indent -- 缩进，如果是非负数或字符串，则以对应的缩进输出，如果是0或负数或空字符串，则只插入换行，不缩进\n",
    "    separators -- 指定分隔符，去除index用于填充缩进的空白，默认值为(',',':')\n",
    "        -- 值为tuple(item_separator,key_separator)\n",
    "    ensure_ascii -- 当该参数的值为True时，输出中的所有非ASCII字符会被转义成'\\uXXXX'组成的序列\n",
    "'''\n",
    "dumps(obj, skipkeys=False, ensure_ascii=True, check_circular=True, allow_nan=True, cls=None, indent=None, \n",
    "      separators=None, default=None, sort_keys=False, **kw)\n",
    "\n",
    "# decoding：loads函数\n",
    "loads(s, encoding=None, cls=None, object_hook=None, parse_float=None, parse_int=None, parse_constant=None, object_pairs_hook=None, **kw)"
   ]
  },
  {
   "cell_type": "code",
   "execution_count": null,
   "metadata": {},
   "outputs": [],
   "source": [
    "# 提供两个额外的方法允许将序列化后的json数据保存在文件中，以及直接读取文件中的json数据进行反序列化操作\n",
    "\n",
    "# 序列化：将Python对象转换成json字符串并存储到文件中\n",
    "dump(obj, fp, skipkeys=False, ensure_ascii=True, check_circular=True, allow_nan=True, cls=None, indent=None, \n",
    "     separators=None, default=None, sort_keys=False, **kw)\n",
    "\n",
    "# 反序列化：读取指定文件中的json字符串并转换成Python对象\n",
    "load(fp, cls=None, object_hook=None, parse_float=None, parse_int=None, parse_constant=None, object_pairs_hook=None, **kw)"
   ]
  },
  {
   "cell_type": "code",
   "execution_count": null,
   "metadata": {},
   "outputs": [],
   "source": [
    "# 序列化到文件中\n",
    ">>> with open('test.json', 'w') as fp:\n",
    "...     json.dump({'a':'str中国', 'c': True, 'e': 10, 'b': 11.1, 'd': None, 'f': [1, 2, 3], 'g':(4, 5, 6)}, fp, indent=4)\n",
    "\n",
    "# 反序列化文件中的内容\n",
    ">>> with open('test.json', 'r') as fp:\n",
    "...     json.load(fp)\n",
    "{'e': 10, 'g': [4, 5, 6], 'b': 11.1, 'c': True, 'd': None, 'a': 'str中国', 'f': [1, 2, 3]}"
   ]
  },
  {
   "cell_type": "markdown",
   "metadata": {},
   "source": [
    "## pickle模块"
   ]
  },
  {
   "cell_type": "code",
   "execution_count": null,
   "metadata": {},
   "outputs": [],
   "source": [
    "# 将指定的Python对象通过pickle序列化作为bytes对象返回，而不是将其写入文件\n",
    "dumps(obj, protocol=None, *, fix_imports=True)\n",
    "\n",
    "# 将通过pickle序列化后得到的字节对象进行反序列化，转换为Python对象并返回\n",
    "loads(bytes_object, *, fix_imports=True, encoding=\"ASCII\", errors=\"strict\")\n",
    "\n",
    "# 将指定的Python对象通过pickle序列化后写入打开的文件对象中，等价于`Pickler(file, protocol).dump(obj)`\n",
    "dump(obj, file, protocol=None, *, fix_imports=True)\n",
    "\n",
    "# 从打开的文件对象中读取pickled对象表现形式并返回通过pickle反序列化后得到的Python对象\n",
    "load(file, *, fix_imports=True, encoding=\"ASCII\", errors=\"strict\")"
   ]
  },
  {
   "cell_type": "markdown",
   "metadata": {},
   "source": [
    "## shelve模块\n",
    "- 方法：\n",
    "    - open：用于打开指定的文件，然后返回一个shelf对象\n",
    "        - open(filename, flag='c', protocol=None, writeback=False)\n",
    "            - flag参数\n",
    "                - r：以只读模式打开一个已经存在的数据存储文件\n",
    "                - w：以读写模式打开一个已经存在的数据存储文件\n",
    "                - c：以读写模式打开一个数据存储文件，如果不存在则创建\n",
    "                - n：总是创建一个新的、空数据存储文件，并以读写模式打开\n",
    "            - protocol：序列化数据所使用的协议版本，默认是pickle v3\n",
    "            - writeback：是否开启回写功能"
   ]
  },
  {
   "cell_type": "code",
   "execution_count": null,
   "metadata": {},
   "outputs": [],
   "source": [
    "# 保存数据\n",
    "with shelve.open('student') as db:\n",
    "    db['name'] = 'Tom'\n",
    "    db['age'] = 19\n",
    "    db['hobby'] = ['篮球', '看电影', '弹吉他']\n",
    "    db['other_info'] = {'sno': 1, 'addr': 'xxxx'}\n",
    "\n",
    "# 读取数据\n",
    "with shelve.open('student') as db:\n",
    "    for key,value in db.items():\n",
    "        print(key, ': ', value)"
   ]
  }
 ],
 "metadata": {
  "kernelspec": {
   "display_name": "Python 3",
   "language": "python",
   "name": "python3"
  },
  "language_info": {
   "codemirror_mode": {
    "name": "ipython",
    "version": 3
   },
   "file_extension": ".py",
   "mimetype": "text/x-python",
   "name": "python",
   "nbconvert_exporter": "python",
   "pygments_lexer": "ipython3",
   "version": "3.7.0"
  }
 },
 "nbformat": 4,
 "nbformat_minor": 2
}
