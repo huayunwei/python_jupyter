{
 "cells": [
  {
   "cell_type": "markdown",
   "metadata": {},
   "source": [
    "# 面向对象 -- OOP\n",
    "- 面向对象：是一种编程范式，编程范式是按照不同的编程特点总结出来的编程方式\n",
    "- 常见的编程范式：\n",
    "    - 面向过程编程：OPP（Procedure Oriented Programing）\n",
    "    - 面向对象编程：OOP（Object Oriented Programing）\n",
    "    - 函数式变成：Functional Programing\n",
    "- 面向过程编程步骤：\n",
    "    - 分析出解决问题所需要的步骤\n",
    "    - 用函数把这些步骤一次实现\n",
    "    - 一个一个地调用这些函数来解决问题\n",
    "- 面向对象的编程步骤：\n",
    "    - 把构成问题的事务分解、抽象成各个对象\n",
    "    - 结合这些对象的共有属性，抽象出类\n",
    "    - 类层次化结构设计，继承和合成\n",
    "    - 用类和实例进行设计和实现来解决问题\n",
    "- 面向对象编程的特点\n",
    "    - 面向对象编程达到了软件工程的3个目标：重用性，灵活性，扩展性，这些目标是通过以下几个重要特点实现的\n",
    "        - 封装：可以隐藏实现细节，使代码模块化\n",
    "        - 继承：可以通过扩展已存在的类来实现代码重用，避免重复编写相同的代码\n",
    "        - 多态：封装和继承的目的都是为了实现代码重用，而多态是为了实现接口重用，使得类在继承和派生的时候能保证任何一个类的实例都能正确调用约定好的属性和方法，简单说就是为了约定相同的属性和方法名称\n",
    "- 面向对象编程的使用场景\n",
    "    - 实现一个复杂的系统时\n",
    "    - 场景1：当多个函数需要传入共同的参数时，可以将这些函数封装到一个类中，并将这些参数提取为这个类的属性\n",
    "    - 场景2：当需要根据一个模板来创建某些东西时，可以通过类来完成"
   ]
  }
 ],
 "metadata": {
  "kernelspec": {
   "display_name": "Python 3",
   "language": "python",
   "name": "python3"
  },
  "language_info": {
   "codemirror_mode": {
    "name": "ipython",
    "version": 3
   },
   "file_extension": ".py",
   "mimetype": "text/x-python",
   "name": "python",
   "nbconvert_exporter": "python",
   "pygments_lexer": "ipython3",
   "version": "3.7.0"
  }
 },
 "nbformat": 4,
 "nbformat_minor": 2
}
