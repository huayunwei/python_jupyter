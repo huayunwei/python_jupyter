{
 "cells": [
  {
   "cell_type": "markdown",
   "metadata": {},
   "source": [
    "# 继承\n",
    "- 继承是一个类可以获得另外一个类中成员属性和成员方法\n",
    "- 作用：减少代码，增加代码的复用功能，同时可以设置类与类直接的关系\n",
    "- 继承与被继承的概念\n",
    "    - 被继承的类叫父类，也叫基类，也叫超类\n",
    "    - 用于继承的类，叫子类，也叫派生类\n",
    "- 继承的特征\n",
    "    - 所有的类都继承自object类，即所有的类都是object类的子类\n",
    "    - 子类一旦继承父类，则可以使用父类中除私有成员外的所有内容\n",
    "    - 子类继承父类后并没有将父类成员完全赋值到子类中，而是通过引用关系访问调用\n",
    "    - 子类中可以定义独有的成员属性和方式\n",
    "    - 子类中定义的成员和父类成员如果相同，则优先使用子类成员\n",
    "    - 子类如果想扩充父类的方法，可以在定义新方法的同时访问父类成员来进行代码重用，可以使用【父类名.父类成员】的格式来调用父类成员，也可以使用super().父类成员的格式来调用\n",
    "- 继承变量函数的查找顺序问题\n",
    "    - 优先查找自己的变量\n",
    "    - 没有则查找父类\n",
    "    - 构造函数如果本类中没有定义，则自动查找调用父类构造函数\n",
    "    - 如果本类有定义，则不再继续向上查找\n",
    "- 构造函数\n",
    "     - 是一类特殊的函数，在类进行实例化之前进行调用\n",
    "     - 如果定义了构造函数，则实例化时使用时使用构造函数，不查找父类构造函数\n",
    "     - 如果没有定义，则自动查找父类构造函数\n",
    "     - 如果子类没有定义，父类的构造函数带参数，则构造对象时的参数应该按照父类参数构造\n",
    "- super\n",
    "    - super不是关键字，而是一个类\n",
    "    - super的作用是获取MRO列表中第一个类\n",
    "    - 通过super可以调用到父类\n",
    "- 单继承和多继承\n",
    "    - 单继承：每个类只能继承一个类\n",
    "        - 继承有序逻辑清晰语法简单隐患少\n",
    "        - 功能不能无限扩展，只能在当前唯一的继承链中扩展\n",
    "    - 多继承：每个类允许继承多个类\n",
    "        - 类的功能扩展方便\n",
    "        - 继承关系混乱\n",
    "- 菱形继承/钻石继承\n",
    "    - 定义：多个子类继承自同一父类，这些子类又被同一类继承，于是继承关系图行程一个菱形图谱"
   ]
  },
  {
   "cell_type": "code",
   "execution_count": null,
   "metadata": {},
   "outputs": [],
   "source": [
    "# 父类\n",
    "class Person(object):\n",
    "    def __init__(self, name, age):\n",
    "        self.name = name\n",
    "        self.age = age\n",
    "    \n",
    "    def walk(self):\n",
    "        print('%s is walking...' % self.name)\n",
    "        \n",
    "    def talk(self):\n",
    "        print('%s is talking...' % self.name )\n",
    "        \n",
    "# 子类\n",
    "class Teacher(Person):\n",
    "    def __init__(self, name, age, level, salary):\n",
    "        super(Teacher, self).__init__(name, age)\n",
    "        self.level = level\n",
    "        self.salary = salary\n",
    "\n",
    "    def teach(self):\n",
    "        print('%s is teaching...' % self.name)\n",
    "        \n"
   ]
  },
  {
   "cell_type": "markdown",
   "metadata": {},
   "source": [
    "## 继承层级关系中子类的实例对象对属性的查找顺序问题"
   ]
  },
  {
   "cell_type": "markdown",
   "metadata": {},
   "source": [
    "- 单继承：\n",
    "    - 如果本身有对应的属性或函数，则使用本身的，如果本身没有，则查找父元素的\n",
    "- 多继承\n",
    "    - 经典类和新式类\n",
    "        - python2.x中，默认是经典类，只有显示继承了object的才是新式类\n",
    "        - python3.x中，默认是新式类，经典类被废弃\n",
    "        - 新式类的子类也是新式类\n",
    "    - 深度和广度优先\n",
    "        - 深度优先：竖直方向优先 -- 父类和子类是竖直方向的层级关系\n",
    "        - 广度优先：水平方向优先 -- 同一个父类的多个直接子类是水平方向的同级关系\n",
    "![](img/1.png)\n"
   ]
  },
  {
   "cell_type": "markdown",
   "metadata": {},
   "source": [
    "- 图中A是父类，B和C为继承A的子类，D是同时继承B和C的子类\n",
    "- 如果D的一个实例要寻找一个父类中的属性或方法，按照深度和广度的查找顺序为\n",
    "    - 第一个查找永远为第一个继承父元素的子类，如果B先继承A则为B，如果C先继承A，则为C，图中为B，则永远先查找B\n",
    "    - B-->A-->C：深度优先\n",
    "    - B-->C-->A：广度优先（python3后走广度优先）"
   ]
  },
  {
   "cell_type": "code",
   "execution_count": 1,
   "metadata": {},
   "outputs": [
    {
     "name": "stdout",
     "output_type": "stream",
     "text": [
      "class B:fun1\n"
     ]
    }
   ],
   "source": [
    "# 如果B中有对应的函数\n",
    "\n",
    "class A():\n",
    "    def fun1(self):\n",
    "        print('class A:fun1')\n",
    "class B(A):\n",
    "    def fun1(self):\n",
    "        print('class B:fun1')\n",
    "class C(A):\n",
    "    def fun1(self):\n",
    "        print('class C:fun1')\n",
    "class D(B,C):\n",
    "    pass\n",
    "\n",
    "d = D()\n",
    "d.fun1()"
   ]
  },
  {
   "cell_type": "code",
   "execution_count": 3,
   "metadata": {},
   "outputs": [
    {
     "name": "stdout",
     "output_type": "stream",
     "text": [
      "class C:fun1\n"
     ]
    }
   ],
   "source": [
    "# 如果C在B之前先继承A\n",
    "\n",
    "class A():\n",
    "    def fun1(self):\n",
    "        print('class A:fun1')\n",
    "class C(A):\n",
    "    def fun1(self):\n",
    "        print('class B:fun1')\n",
    "class B(A):\n",
    "    def fun1(self):\n",
    "        print('class C:fun1')\n",
    "class D(B,C):\n",
    "    pass\n",
    "\n",
    "d = D()\n",
    "d.fun1()"
   ]
  },
  {
   "cell_type": "code",
   "execution_count": 2,
   "metadata": {},
   "outputs": [
    {
     "name": "stdout",
     "output_type": "stream",
     "text": [
      "class C:fun1\n"
     ]
    }
   ],
   "source": [
    "# 如果B中没有对应的函数\n",
    "\n",
    "class A():\n",
    "    def fun1(self):\n",
    "        print('class A:fun1')\n",
    "    def fun2(self):\n",
    "        print('class A:fun1')\n",
    "class B(A):\n",
    "    def fun2(self):\n",
    "        print('class B:fun1')\n",
    "class C(A):\n",
    "    def fun1(self):\n",
    "        print('class C:fun1')\n",
    "class D(B,C):\n",
    "    pass\n",
    "\n",
    "d = D()\n",
    "d.fun1()"
   ]
  },
  {
   "cell_type": "code",
   "execution_count": null,
   "metadata": {},
   "outputs": [],
   "source": []
  }
 ],
 "metadata": {
  "kernelspec": {
   "display_name": "Python 3",
   "language": "python",
   "name": "python3"
  },
  "language_info": {
   "codemirror_mode": {
    "name": "ipython",
    "version": 3
   },
   "file_extension": ".py",
   "mimetype": "text/x-python",
   "name": "python",
   "nbconvert_exporter": "python",
   "pygments_lexer": "ipython3",
   "version": "3.7.0"
  }
 },
 "nbformat": 4,
 "nbformat_minor": 2
}
