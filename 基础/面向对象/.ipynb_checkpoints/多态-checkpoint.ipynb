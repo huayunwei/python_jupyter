{
 "cells": [
  {
   "cell_type": "markdown",
   "metadata": {},
   "source": [
    "# 多态\n",
    "- 相同的成员方法名称，但是成员方法的行为（代码实现）却各不相同"
   ]
  },
  {
   "cell_type": "code",
   "execution_count": null,
   "metadata": {},
   "outputs": [],
   "source": [
    "class Animal(object):\n",
    "    def __init__(self, name):\n",
    "        self.name = name\n",
    "\n",
    "    def walk(self):\n",
    "        raise NotImplemented('Subclass must implement the abstract method by self')\n",
    "\n",
    "    def talk(self):\n",
    "        raise NotImplemented('Subclass must implement the abstract method by self')\n",
    "        \n",
    "        \n",
    "        \n",
    "class Dog(Animal):\n",
    "    def talk(self):\n",
    "        print('%s is talking：旺旺...' % self.name)\n",
    "\n",
    "    def walk(self):\n",
    "        print('%s 是一条小狗，用4条腿走路' % self.name)\n",
    "\n",
    "class Duck(Animal):\n",
    "    def talk(self):\n",
    "        print('%s is talking: 嘎嘎...' % self.name)\n",
    "\n",
    "    def walk(self):\n",
    "        print('%s 是一只鸭子，用两条腿走路' % self.name)"
   ]
  }
 ],
 "metadata": {
  "kernelspec": {
   "display_name": "Python 3",
   "language": "python",
   "name": "python3"
  },
  "language_info": {
   "codemirror_mode": {
    "name": "ipython",
    "version": 3
   },
   "file_extension": ".py",
   "mimetype": "text/x-python",
   "name": "python",
   "nbconvert_exporter": "python",
   "pygments_lexer": "ipython3",
   "version": "3.7.0"
  }
 },
 "nbformat": 4,
 "nbformat_minor": 2
}
