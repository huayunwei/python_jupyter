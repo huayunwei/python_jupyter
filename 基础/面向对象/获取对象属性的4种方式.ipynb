{
 "cells": [
  {
   "cell_type": "markdown",
   "metadata": {},
   "source": [
    "# 获取对象属性的4中方式"
   ]
  },
  {
   "cell_type": "markdown",
   "metadata": {},
   "source": [
    "- 方法1：使用属性运算符\n",
    "- 方法2：通过属性字典\\_\\_dict\\_\\_['属性名']\n",
    "- 方法3：使用getattr()函数\n",
    "- 方法4：使用operator.attrgetter"
   ]
  },
  {
   "cell_type": "code",
   "execution_count": 1,
   "metadata": {},
   "outputs": [
    {
     "name": "stdout",
     "output_type": "stream",
     "text": [
      "name1\n",
      "name1\n",
      "name1\n",
      "name1\n"
     ]
    }
   ],
   "source": [
    "class Person(object):\n",
    "    def __init__(self, name, age):\n",
    "        self.name = name\n",
    "        self.age = age\n",
    "        \n",
    "    def __str__(self):\n",
    "        return 'name=%s, age=%s' % (self.name, self.age)\n",
    "    \n",
    "per = Person('name1','age1')  \n",
    "    \n",
    "# 方法1：\n",
    "print(per.name)\n",
    "\n",
    "# 方法2：\n",
    "print(per.__dict__['name'])\n",
    "\n",
    "# 方法3：\n",
    "print(getattr(per,'name'))\n",
    "\n",
    "import operator\n",
    "\n",
    "op = operator.attrgetter('name')\n",
    "print(op(per))"
   ]
  },
  {
   "cell_type": "code",
   "execution_count": null,
   "metadata": {},
   "outputs": [],
   "source": []
  }
 ],
 "metadata": {
  "kernelspec": {
   "display_name": "Python 3",
   "language": "python",
   "name": "python3"
  },
  "language_info": {
   "codemirror_mode": {
    "name": "ipython",
    "version": 3
   },
   "file_extension": ".py",
   "mimetype": "text/x-python",
   "name": "python",
   "nbconvert_exporter": "python",
   "pygments_lexer": "ipython3",
   "version": "3.7.0"
  },
  "toc": {
   "base_numbering": 1,
   "nav_menu": {},
   "number_sections": false,
   "sideBar": true,
   "skip_h1_title": false,
   "title_cell": "Table of Contents",
   "title_sidebar": "Contents",
   "toc_cell": false,
   "toc_position": {},
   "toc_section_display": true,
   "toc_window_display": false
  }
 },
 "nbformat": 4,
 "nbformat_minor": 2
}
