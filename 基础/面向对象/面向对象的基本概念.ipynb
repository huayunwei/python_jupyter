{
 "cells": [
  {
   "cell_type": "markdown",
   "metadata": {},
   "source": [
    "# 面向对象\n",
    "- 几个名词：\n",
    "    - OO：面向对象\n",
    "    - OOA：面向对象的分析\n",
    "    - OOD：面向对象的设计\n",
    "    - OOI：面向对象的实现\n",
    "    - OOP：面向对象的编程\n",
    "    - 面向对象的实现过程：OOA->OOD->OOI\n",
    "- 类和对象：\n",
    "    - 类：抽象名词，代表一个集合，共性的事务\n",
    "    - 对象：具象的事务，单个个体\n",
    "- 类中的内容：\n",
    "    - 表明事物的特征，叫做属性（变量）\n",
    "    - 表明事务功能或动作，称为成员方法（函数）\n"
   ]
  },
  {
   "cell_type": "markdown",
   "metadata": {},
   "source": [
    "## 面向对象的三大特性\n",
    "- 封装\n",
    "- 继承\n",
    "- 多态"
   ]
  },
  {
   "cell_type": "markdown",
   "metadata": {},
   "source": [
    "## 类的实现\n",
    "- 类的命名：\n",
    "    - 遵守变量命名规则\n",
    "    - 大驼峰（由一个或多个单词构成，单个单词首字母大写，单词跟单词直接相连）\n",
    "- 声明类：\n",
    "    - 必须有class关键字\n",
    "    - 类由属性和方法构成，其他不允许出现\n",
    "    - 成员属性定义可以直接使用变量赋值"
   ]
  },
  {
   "cell_type": "code",
   "execution_count": 1,
   "metadata": {},
   "outputs": [],
   "source": [
    "# 类的声明\n",
    "\n",
    "# 定义一个空类\n",
    "class Student():\n",
    "    pass\n",
    "\n",
    "# 定义一个类\n",
    "class Student():\n",
    "    # 用None给不确定的值赋值\n",
    "    name = None\n",
    "    age = 18\n",
    "    \n",
    "    def doHomeWork(self):\n",
    "        print(\"xxx\")"
   ]
  },
  {
   "cell_type": "markdown",
   "metadata": {},
   "source": [
    "- 类的实例化\n",
    "    \n",
    "        变量 = 类名（）\n",
    "- 访问对象成员\n",
    "    \n",
    "        obj.成员属性名\n",
    "        obj.成员方法\n",
    "- self：\n",
    "    - self在对象的方法中表示当前对象本身，如果通过对象调用一个方法，那么改对象会自动传入到当前方法的第一个参数中\n",
    "    - self不是关键字，只是一个用于接收对象的普通参数，理论上可以用任何一个普通变量代替\n",
    "    - 方法中有self形参的方法成为非绑定类的方法，可以通过对象访问，没有self的是绑定类的方法，只能通过类访问\n",
    "    - 使用类访问绑定类的方法时，如果类方法中需要访问当前类的成员，可以通过__class__成员名来访问"
   ]
  },
  {
   "cell_type": "markdown",
   "metadata": {},
   "source": [
    "## 类相关函数\n",
    "- issubclass：检测一个类是否是另一个类的子类\n",
    "- isinstance：检测一个对象是否是一个类的实例\n",
    "- hasattr：检测一个对象是否有成员属性xxx\n",
    "- getattr：获取属性\n",
    "- setattr：设置属性\n",
    "- delattr：删除属性\n",
    "- dir：获取对象的成员列表"
   ]
  },
  {
   "cell_type": "markdown",
   "metadata": {},
   "source": [
    "## 类的内置属性\n",
    "- \\__dict__：以字典的方式显示类的成员组成\n",
    "- \\__doc__：获取类的文档信息\n",
    "- \\__name__：获取类的名称，如果在模板中使用，获取模块的名称\n",
    "- \\__bases__：获取某个类的所有父类，以元组的方式显示"
   ]
  },
  {
   "cell_type": "markdown",
   "metadata": {},
   "source": [
    "## 类的常用魔术方法\n",
    "- 魔术方法：不需要人为调用的方法，基本是特定的时刻自动触发\n",
    "- 操作类：\n",
    "    - \\__init__：构造函数\n",
    "    - \\__new__：对象实例化方法，此函数较特殊，一般不需要使用\n",
    "    - \\__call__：对象当函数使用的触发\n",
    "    - \\__str__：当对象被当作字符串使用的时候调用,返回用户好读的字符串\n",
    "    - \\__repr__：返回字符串\n",
    "- 属性操作相关：\n",
    "    - \\__getattr__：访问一个不存在的属性时触发\n",
    "    - \\__setattr__：对成员属性进行设置时触发"
   ]
  },
  {
   "cell_type": "markdown",
   "metadata": {},
   "source": [
    "## 类和对象的三种方法\n",
    "- 实例方法\n",
    "    - 通过实例化对象才能使用的方法\n",
    "- 静态方法\n",
    "    - 不需要实例化，通过类直接方法\n",
    "- 类方法\n",
    "    - 不需要实例化"
   ]
  },
  {
   "cell_type": "markdown",
   "metadata": {},
   "source": [
    "## 抽象类\n",
    "- 抽象方法：没有具体实现内容的方法成为抽象方法\n",
    "- 抽象方法的主要意义是规范了子类的行为和接口\n",
    "- 抽象类的使用需要借助abc模块\n",
    "- 抽象类：包含抽象方法的类\n",
    "- 抽象类的使用\n",
    "    - 抽象类可以包含抽象方法，也可以包含具体方法\n",
    "    - 抽象类中可以有方法也可以有属性\n",
    "    - 抽象类不允许直接实例化\n",
    "    - 必须继承才可以使用，且继承的子类必须实现所有继承来的抽象方法\n",
    "    - 假定子类没有实现所有继承的抽象方法，则子类也不能实例化\n",
    "    - 抽象类的主要作用是设定类的标准，以便于开发的时候统一的规范"
   ]
  }
 ],
 "metadata": {
  "kernelspec": {
   "display_name": "Python 3",
   "language": "python",
   "name": "python3"
  },
  "language_info": {
   "codemirror_mode": {
    "name": "ipython",
    "version": 3
   },
   "file_extension": ".py",
   "mimetype": "text/x-python",
   "name": "python",
   "nbconvert_exporter": "python",
   "pygments_lexer": "ipython3",
   "version": "3.7.0"
  }
 },
 "nbformat": 4,
 "nbformat_minor": 2
}
