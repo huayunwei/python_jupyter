{
 "cells": [
  {
   "cell_type": "code",
   "execution_count": null,
   "metadata": {},
   "outputs": [],
   "source": [
    "# 问题：unicode码中收录了2万多个汉字,包含很多生僻的繁体字\n",
    "import random\n",
    "\n",
    "def Unicode():\n",
    "    val = random.randint(0x4e00, 0x9fbf)\n",
    "    return chr(val)"
   ]
  },
  {
   "cell_type": "code",
   "execution_count": null,
   "metadata": {},
   "outputs": [],
   "source": [
    "# GBK2312收录了6千多常用汉字\n",
    "import random\n",
    "\n",
    "def GBK2312():\n",
    "    head = random.randint(0xb0, 0xf7)\n",
    "    body = random.randint(0xa1, 0xf9)   # 在head区号为55的那一块最后5个汉字是乱码,为了方便缩减下范围\n",
    "    val = f'{head:x}{body:x}'\n",
    "    str = bytes.fromhex(val).decode('gb2312')\n",
    "    return str"
   ]
  }
 ],
 "metadata": {
  "kernelspec": {
   "display_name": "Python 3",
   "language": "python",
   "name": "python3"
  },
  "language_info": {
   "codemirror_mode": {
    "name": "ipython",
    "version": 3
   },
   "file_extension": ".py",
   "mimetype": "text/x-python",
   "name": "python",
   "nbconvert_exporter": "python",
   "pygments_lexer": "ipython3",
   "version": "3.7.0"
  }
 },
 "nbformat": 4,
 "nbformat_minor": 2
}
