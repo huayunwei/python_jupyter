{
 "cells": [
  {
   "cell_type": "code",
   "execution_count": 5,
   "metadata": {},
   "outputs": [
    {
     "name": "stdout",
     "output_type": "stream",
     "text": [
      "res {'b': 2, 'a': 4, 'e': 1, 'c': 4, 'd': 1}\n",
      "res.items dict_items([('b', 2), ('a', 4), ('e', 1), ('c', 4), ('d', 1)])\n",
      "排序后的结果： [('a', 4), ('c', 4), ('b', 2), ('e', 1), ('d', 1)]\n"
     ]
    }
   ],
   "source": [
    "# 题目1：统计数组中出现次数最多的数据，按出现次数由大到小排序\n",
    "a = [\"a\", \"b\", \"a\", \"c\", \"a\", \"c\", \"b\", \"d\", \"e\", \"c\", \"a\", \"c\"]\n",
    "\n",
    "# set集合去重\n",
    "dui = set(a)\n",
    "\n",
    "# 计算每个set中每个元素在list中出现的次数，保存在字典中\n",
    "res = {}\n",
    "for i in dui:\n",
    "    res[i] = a.count(i)\n",
    "print('res',res)\n",
    "print('res.items',res.items())\n",
    "# 将字典按照value排序\n",
    "a = sorted(res.items(),key=lambda x:x[1],reverse=True)\n",
    "print('排序后的结果：',a)"
   ]
  },
  {
   "cell_type": "code",
   "execution_count": null,
   "metadata": {},
   "outputs": [],
   "source": []
  }
 ],
 "metadata": {
  "kernelspec": {
   "display_name": "Python 3",
   "language": "python",
   "name": "python3"
  },
  "language_info": {
   "codemirror_mode": {
    "name": "ipython",
    "version": 3
   },
   "file_extension": ".py",
   "mimetype": "text/x-python",
   "name": "python",
   "nbconvert_exporter": "python",
   "pygments_lexer": "ipython3",
   "version": "3.7.1"
  },
  "toc": {
   "base_numbering": 1,
   "nav_menu": {},
   "number_sections": false,
   "sideBar": true,
   "skip_h1_title": false,
   "title_cell": "Table of Contents",
   "title_sidebar": "Contents",
   "toc_cell": false,
   "toc_position": {},
   "toc_section_display": true,
   "toc_window_display": false
  }
 },
 "nbformat": 4,
 "nbformat_minor": 2
}
