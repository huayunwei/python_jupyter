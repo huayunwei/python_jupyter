{
 "cells": [
  {
   "cell_type": "markdown",
   "metadata": {},
   "source": [
    "[博客2](http://www.cnblogs.com/evening/archive/2012/04/19/2457440.html)"
   ]
  },
  {
   "cell_type": "markdown",
   "metadata": {},
   "source": [
    "# 数据加密和解密"
   ]
  },
  {
   "cell_type": "markdown",
   "metadata": {},
   "source": [
    "## python内置的加密模块演化过程\n",
    "- python内置的加密模块主要是提供单向加密功能\n",
    "- python2.5之前的版本所提供的加密模块：md5、sha和hmac\n",
    "- python2.5将md5和sha算法整合为hashlib模块\n",
    "- python3.x开始去掉了md5和sha模块，剩下hashlib和hmac模块\n",
    "- python3.6增加了一个新的可以产生用于密钥管理的安全随机数的模块：secrets"
   ]
  },
  {
   "cell_type": "markdown",
   "metadata": {},
   "source": [
    "## hashlib模块\n",
    "- 为不同的安全哈希/安全散列和信息摘要算法实现了一个公共的、通用的接口\n",
    "- 函数和属性\n",
    "    - hashlib.new(name[,data])：通用的哈希对象构造函数，用于构造指定的哈希算法所对应的哈希对象\n",
    "        - name：指定哈希算法名称，如'md5','sha1'\n",
    "        - data：可选参数，表示初始数据\n",
    "    - hashlib.哈希算法名称()：是hashlib.new的替换方式，可以直接通过具体的哈希算法名称对应的函数来获取哈希对象\n",
    "    - hashlib.algorithms_guaranteed：python3.2新增的属性，值是一个该模块在所有平台都会支持的哈希算法的名称集合\n",
    "    - hashlib.algorithms_available：python3.2新增的属性，值是一个当前运行python解释器中可用的哈希算法的名称集合\n",
    "- hash对象的方法和属性\n",
    "    - hash.update(data)：更新哈希对象所要计算的数据，多次调用为累加效果，如m.update(a);m.update(b)等价于m.update(a+b)\n",
    "    - hash.digest()：返回传递给update()函数的所有数据的摘要信息-二进制格式的字符串\n",
    "    - hash.hexdigest()：返回传递给update()函数的所有数据的摘要信息-十六进制格式的字符串\n",
    "    - hash.copy()：返回该哈希对象的一个copy('clone')，这个函数可以用来有效的计算共享一个公共初始子串的数据的摘要信息\n",
    "    - hash.digest_size：hash结果的字节大小，对于哈希对象是固定的,md5:16,sha1:20,sha224:28\n",
    "    - hash.block_size：hash算法内部块的字节大小\n",
    "    - hash.name：当前hash对象对应的哈希算法的标准名称--小写形式"
   ]
  },
  {
   "cell_type": "code",
   "execution_count": 2,
   "metadata": {},
   "outputs": [
    {
     "name": "stdout",
     "output_type": "stream",
     "text": [
      "<class 'bytes'> 16 b'e\\xa8\\xe2}\\x88y(81\\xb6d\\xbd\\x8b\\x7f\\n\\xd4'\n",
      "<class 'str'> 32 65a8e27d8879283831b664bd8b7f0ad4\n"
     ]
    }
   ],
   "source": [
    "import hashlib\n",
    "\n",
    "hash  = hashlib.md5()\n",
    "hash.update(b'Hello, ')\n",
    "hash.update(b'World!')\n",
    "ret1 = hash.digest()\n",
    "print(type(ret1), len(ret1), ret1)\n",
    "ret2 = hash.hexdigest()\n",
    "print(type(ret2), len(ret2), ret2)"
   ]
  },
  {
   "cell_type": "markdown",
   "metadata": {},
   "source": [
    "## hmac模块\n",
    "- 模块提供函数\n",
    "    - hmac.new(key,msg=None,digestmod=None)：创建一个hmac对象\n",
    "        - key为密钥\n",
    "        - msg为初始数据\n",
    "        - digestmod为所使用的哈希算法，默认为hashlib.md5\n",
    "    - hmac.compare_digest(a,b)：比较两个hmac对象，返回a==b的值\n",
    "- hmac对象中的方法和属性\n",
    "    - HMAC.update(msg)：同hashlib.update(msg)\n",
    "    - HMAC.digest()\t同hashlib.digest()\n",
    "    - HMAC.hexdigest()\t同hashlib.hexdigest()\n",
    "    - HMAC.copy()\t同hashlib.copy()\n",
    "    - HMAC.digest_size\t同hashlib.digest_size\n",
    "    - HMAC.block_size\t同hashlib.block_size\n",
    "    - HMAC.name\t同hashlib.name"
   ]
  },
  {
   "cell_type": "code",
   "execution_count": 7,
   "metadata": {},
   "outputs": [
    {
     "name": "stdout",
     "output_type": "stream",
     "text": [
      "<class 'str'> 32 cfad9d610c1e548a03562f8eac399033\n",
      "<class 'str'> 32 cfad9d610c1e548a03562f8eac399033\n"
     ]
    }
   ],
   "source": [
    "import hmac\n",
    "import hashlib\n",
    "\n",
    "h1 = hmac.new(b'key', b'Hello, ')\n",
    "h1.update(b'World!')\n",
    "ret1 = h1.hexdigest()\n",
    "print(type(ret1), len(ret1), ret1)\n",
    "\n",
    "h2 = hmac.new(b'key', digestmod=hashlib.md5)\n",
    "h2.update(b'Hello, World!')\n",
    "ret2 = h2.hexdigest()\n",
    "print(type(ret2), len(ret2), ret2)"
   ]
  },
  {
   "cell_type": "markdown",
   "metadata": {},
   "source": [
    "## secrets模块介绍\n",
    "- secrets模块是python3.6新增的内置模块，可以用于生成管理密码，账户验证信息，安全令牌和相关秘密信息等数据的密码强随机数\n",
    "- secrets可以完成下面两个操作\n",
    "    - 生成安全随机数\n",
    "    - 生成一个笃定长度的随机字符串--可用作令牌和安全URL\n",
    "- secrets模块提供的函数\n",
    "    - secrets.choice(sequence)：功能与random.choice(seq)相同，从指定的非空序列中随机选择一个元素并返回\n",
    "    - secrets.randbelow(n)：功能与random.randrange(n)相同，从半开区间[0,n)内随机返回一个整数\n",
    "    - secrets.randbits(k)：返回一个带有K个随机位的整数\n",
    "    - secrets.token_bytes([bytes=None])：返回一个包含nbytes个字节的随机字节串\n",
    "    - secrets.token_hex([nbytes=None])：返回一个包含nbytes字节的16进制格式的随机文本字符串，每个字节被转成2个16进制数字\n",
    "    - screts.token_urlsafe([nbtyes])：返回一个包含nbytes个字节的随机安全URL文本字符串，这个可以在提供重置密码的应用中用来生成一个临时的随机令牌\n",
    "    - secrets.compare_digest(a,b)：比较字符串a和字符串b是否相等，相等则返回True，苟泽返回False"
   ]
  },
  {
   "cell_type": "code",
   "execution_count": 10,
   "metadata": {},
   "outputs": [
    {
     "name": "stdout",
     "output_type": "stream",
     "text": [
      "abcdefghijklmnopqrstuvwxyzABCDEFGHIJKLMNOPQRSTUVWXYZ0123456789\n",
      "4o3WE6cP\n"
     ]
    }
   ],
   "source": [
    "# 生成一个由8位数字和字母组成的随机密码\n",
    "import secrets\n",
    "import string\n",
    "\n",
    "alphanum = string.ascii_letters + string.digits\n",
    "password = ''.join(secrets.choice(alphanum) for i in range(8))\n",
    "print(alphanum)\n",
    "print(password)"
   ]
  },
  {
   "cell_type": "code",
   "execution_count": 12,
   "metadata": {},
   "outputs": [
    {
     "name": "stdout",
     "output_type": "stream",
     "text": [
      "aF6Mt88S2y\n"
     ]
    }
   ],
   "source": [
    "# 生成一个由10位数字和字母组成的随机密码，要求至少有一个小写字符，至少一个大写字符和至少3个数字\n",
    "import secrets\n",
    "import string\n",
    "\n",
    "alphanum = string.ascii_letters + string.digits\n",
    "while True:\n",
    "    password = ''.join(secrets.choice(alphanum) for i in range(10))\n",
    "    if (any(c.islower() for c in password)\n",
    "            and any(c.isupper() for c in password)\n",
    "            and sum(c.isdigit() for c in password) >= 3):\n",
    "        break\n",
    "print(password)"
   ]
  },
  {
   "cell_type": "code",
   "execution_count": 13,
   "metadata": {},
   "outputs": [
    {
     "name": "stdout",
     "output_type": "stream",
     "text": [
      "https://mydomain.com/reset=afsOycqGtxkB4HqwYsi7viNcdhqCqH6jd9YgI5FX7R0\n"
     ]
    }
   ],
   "source": [
    "# 给链接增加一个token值\n",
    "import secrets\n",
    "url = 'https://mydomain.com/reset=' + secrets.token_urlsafe()\n",
    "print(url)"
   ]
  },
  {
   "cell_type": "markdown",
   "metadata": {},
   "source": [
    "## base64\n",
    "- base64是一种用64个字符来表示任意二进制数据的方法，一种通过查表对二进制数据进行编码的方法，不能用于数据加密\n",
    "- 适用于小段内容的编码，比如数字证书的签名、URL、Cookie信息等需要通过网络进行传输的小段数据\n",
    "- 函数\n",
    "    - base64.b64encode(s,altchars=None)：对二进制数据（字节串）s通过base64进行编码，返回编码后的自节串\n",
    "    - base64.b64decode(s,altchars=None,validate=False)：对通过base64编码的字节对象或ASCII字符串s进行解码，返回解码后的字节串\n",
    "    - base64.urlsafe_b64encode(s)：与b64encode()函数不同的是，它会把标准Base64编码结果中的字符+和字符/替换成字符-和字符_\n",
    "    - base64.urlsafe_b64decode(s)：解码通过base64.urlsafe_b64encode()编码的字节对象或ASCII字符串s"
   ]
  },
  {
   "cell_type": "code",
   "execution_count": 24,
   "metadata": {},
   "outputs": [
    {
     "name": "stdout",
     "output_type": "stream",
     "text": [
      "b'aGVsbG8sIHdvcmxk77yB'\n",
      "b'aGVsbG8sIHdvcmxk77yB'\n",
      "hello, world！\n",
      "hello, world！\n"
     ]
    }
   ],
   "source": [
    "import base64\n",
    "\n",
    "data = 'hello, world！'.encode('utf-8')\n",
    "based_data1 = base64.b64encode(data)\n",
    "plain_data1 = base64.b64decode(based_data1)\n",
    "based_data2 = base64.urlsafe_b64encode(data)\n",
    "plain_data2 = base64.urlsafe_b64decode(based_data2)\n",
    "print(based_data1)\n",
    "print(based_data2)\n",
    "print(plain_data1.decode('utf-8'))\n",
    "print(plain_data2.decode('utf-8'))"
   ]
  },
  {
   "cell_type": "markdown",
   "metadata": {},
   "source": [
    "- base64编码结果后的等号 '='\n",
    "    - base64编码的过程中会把原来数据中的每3个字节的二进制数据编码为4个字节的文本数据\n",
    "    - 当原始数据最后不满3个字节时用'\\00'字节进行补位\n",
    "    - 而且会在编码结果的最后加上对应个数的'='号表示补了多少个字节\n",
    "- base64编码后的结果的末尾可能存在字符'='个数分别为0,1,2个\n",
    "- base64编码后的结果应该是4的倍数"
   ]
  },
  {
   "cell_type": "markdown",
   "metadata": {},
   "source": [
    "## pycrypto模块"
   ]
  },
  {
   "cell_type": "markdown",
   "metadata": {},
   "source": [
    "- 非内置模块\n",
    "- 不同于上面只实现单向加密，这个模块提供各种加密码方式-包括单向加密，对称加密以及公钥加密和随机数操作\n",
    "- [博客](https://www.cnblogs.com/yyds/p/7072492.html)"
   ]
  },
  {
   "cell_type": "code",
   "execution_count": null,
   "metadata": {},
   "outputs": [],
   "source": []
  }
 ],
 "metadata": {
  "kernelspec": {
   "display_name": "Python 3",
   "language": "python",
   "name": "python3"
  },
  "language_info": {
   "codemirror_mode": {
    "name": "ipython",
    "version": 3
   },
   "file_extension": ".py",
   "mimetype": "text/x-python",
   "name": "python",
   "nbconvert_exporter": "python",
   "pygments_lexer": "ipython3",
   "version": "3.7.0"
  }
 },
 "nbformat": 4,
 "nbformat_minor": 2
}
