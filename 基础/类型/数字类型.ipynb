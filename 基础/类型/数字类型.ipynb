{
 "cells": [
  {
   "cell_type": "markdown",
   "metadata": {},
   "source": [
    "## 数字类型\n",
    "- 整数：int\n",
    "    - python2和python3的区别：\n",
    "        - python2中整数分为两种：一种为一般整数32位，一种为长整数无穷位\n",
    "        - python3中整数只有一种，拥有无穷精度\n",
    "    - 进制：\n",
    "        - 类型\n",
    "            - 十进制\n",
    "            - 二进制：以0b开头 + 0,1数字\n",
    "            - 八进制：以0o开头 + 0-7数字\n",
    "            - 十六进制：以0x开头 + 0-9/a-f\n",
    "        - 转换：\n",
    "            - hex：将10进制转为16进制\n",
    "            - oct：将10进制转为8进制\n",
    "            - bin：将10进制转为2进制\n",
    "- 浮点数：float\n",
    "    - 0.xx可以简写为.xx\n",
    "    - 只能精确到15位小数\n",
    "    - 科学计数法：\n",
    "        - 用e/E后面跟整数表示10的指数\n",
    "        - 例：176.23 ==> 1.7623e^2\n",
    "- 复数：complex\n",
    "    - 实部 + 虚部（虚部以j或J结尾）\n",
    "    - 创建方式：complex(实部,虚部)\n",
    "- bool：布尔值是int类型的子类"
   ]
  },
  {
   "cell_type": "markdown",
   "metadata": {},
   "source": [
    "## 类型间的转换\n",
    "- 强制类型转换：\n",
    "    - 把一个数据类型强制转换为另一个数据类型\n",
    "    - int与bool类型：\n",
    "        - bool转int，使用int()方法，True为1,False为0\n",
    "        - int转bool，使用bool()方法，非0为True，0为False\n",
    "    - int、bool、float、complex\n",
    "        - complex类型不能强制转换成int和float类型\n",
    "- 自动类型转换：\n",
    "    - 两个不同类型的操作数参与运算时，python会先按照以下规则对其中一个操作数进行自动类型转换，然后再进行运算\n",
    "    - 转换规则：\n",
    "        - 如果有一个操作数是复数，另一个操作数会被转换为复数\n",
    "        - 如果有一个操作数是浮点型，另一个操作数会被转换成浮点型\n",
    "        - 如果有一个是整型，另一个是布尔型，则布尔型会被转换成整型0或1\n",
    "        - 如果两个都是相同数据类型，无需类型转换"
   ]
  },
  {
   "cell_type": "code",
   "execution_count": 2,
   "metadata": {},
   "outputs": [
    {
     "name": "stdout",
     "output_type": "stream",
     "text": [
      "16进制： 0x12\n",
      "8进制： 0o22\n",
      "2进制： 0b10010\n"
     ]
    }
   ],
   "source": [
    "# 10进制转换其他进制\n",
    "age = 18\n",
    "\n",
    "print(\"16进制：\",hex(age))\n",
    "print(\"8进制：\",oct(age))\n",
    "print(\"2进制：\",bin(age))"
   ]
  },
  {
   "cell_type": "code",
   "execution_count": 5,
   "metadata": {},
   "outputs": [
    {
     "name": "stdout",
     "output_type": "stream",
     "text": [
      "复数： (1+2j)\n"
     ]
    }
   ],
   "source": [
    "print(\"复数：\",complex(1,2))"
   ]
  },
  {
   "cell_type": "markdown",
   "metadata": {},
   "source": [
    "## 运算符\n",
    "- 算术运算符\n",
    "    - +，-：和数学中的算术运算符一样\n",
    "    - *：乘\n",
    "    - %：取余，只获得结果中的余数\n",
    "    - /：除法，数学中的除法，有商和余数的\n",
    "    - //：取商运算，只有整数部分，取地板\n",
    "    - ** ：幂运算\n",
    "- 比较运算符\n",
    "    - =：等于\n",
    "    - !=：不等于\n",
    "    - 等\n",
    "- 赋值运算符\n",
    "    - =：\n",
    "    - +=：等同于x + x = x\n",
    "    - -=,x=,/=,//=等\n",
    "- 逻辑运算符\n",
    "    - and\n",
    "    - or\n",
    "    - not\n",
    "- 成员运算\n",
    "    - in：检测某个变量是否是另一个变量的成员\n",
    "    - not in\n",
    "- 身份运算\n",
    "    - is：检测两个变量是否是同一变量\n",
    "    - is not\n",
    "- 运算符优先级\n",
    "      **  指数 (最高优先级)\n",
    "      ~ + -   按位翻转, 一元加号和减号 (最后两个的方法名为 +@ 和 -@)\n",
    "      * / % //    乘，除，取模和取整除\n",
    "      + - 加法减法\n",
    "      >> <<   右移，左移运算符\n",
    "      &   位 'AND'\n",
    "      ^ | 位运算符\n",
    "      <= < > >=   比较运算符\n",
    "      <> == !=    等于运算符\n",
    "      = %= /= //= -= += *= **=    赋值运算符\n",
    "      is is not   身份运算符\n",
    "      in not in   成员运算符\n",
    "      not or and  逻辑运算符"
   ]
  },
  {
   "cell_type": "markdown",
   "metadata": {},
   "source": [
    "## Decimal\n",
    "- 作用：在使用内置类float时，会执行一些\"匪夷所思\"的计算"
   ]
  },
  {
   "cell_type": "code",
   "execution_count": 1,
   "metadata": {},
   "outputs": [
    {
     "name": "stdout",
     "output_type": "stream",
     "text": [
      "0.3333333333333333\n",
      "0.30000000000000004\n"
     ]
    }
   ],
   "source": [
    "'''\n",
    "浮点数在计算机硬件中以二进制小数来表示，因为计算机只能理解二进制）（0和1）\n",
    "出于这个原因，大部分十进制小数都不能准确地存储在计算机中\n",
    "\n",
    "例如：十进制小数0.1，转换为无限长的二进制小数0.0001100110011....，而计算机存储的位数是有限的\n",
    "转换成二进制后，只会接近十进制的0.1，但永远不会相等\n",
    "\n",
    "'''\n",
    "print(1/3)\n",
    "print(0.1+0.2) # 是计算机硬件的局限性，不是python中的错误"
   ]
  },
  {
   "cell_type": "markdown",
   "metadata": {},
   "source": [
    "- decimal模块，可以自定义精度"
   ]
  },
  {
   "cell_type": "code",
   "execution_count": 9,
   "metadata": {},
   "outputs": [
    {
     "name": "stdout",
     "output_type": "stream",
     "text": [
      "0.1\n",
      "0.1000000000000000055511151231257827021181583404541015625\n",
      "当前上下文，即decimal的默认值： Context(prec=28, rounding=ROUND_HALF_EVEN, Emin=-999999, Emax=999999, capitals=1, clamp=0, flags=[Inexact, FloatOperation, Rounded], traps=[InvalidOperation, DivisionByZero, Overflow])\n",
      "默认精度： 28\n",
      "0.1111111111111111111111111111\n",
      "修改精度为3\n",
      "0.111\n"
     ]
    }
   ],
   "source": [
    "import decimal\n",
    "print(0.1)\n",
    "print(decimal.Decimal(0.1))\n",
    "\n",
    "decimal.getcontext().prec=28 # 防止下面修改全局的该精度属性后，该值变化\n",
    "print(\"当前上下文，即decimal的默认值：\",decimal.getcontext()) # 当前上下文\n",
    "print(\"默认精度：\",decimal.getcontext().prec) # 精度默认28位\n",
    "\n",
    "d = decimal.Decimal(1)/decimal.Decimal(9)\n",
    "print(d)\n",
    "\n",
    "print(\"修改精度为3\")\n",
    "decimal.getcontext().prec = 3 # 会修改全局的\n",
    "d = decimal.Decimal(1) / decimal.Decimal(9)\n",
    "print(d)"
   ]
  },
  {
   "cell_type": "markdown",
   "metadata": {},
   "source": [
    "- 为什么不使用decimal，而使用float呢？float比decimal运算要快\n",
    "- 何时使用decinal，而不是float：\n",
    "    - 做金融引用，需要精确表示\n",
    "    - 当想要控制所需的精度级别时\n",
    "    - 当想要实现有效的小数位概念时\n",
    "    - 当想像在学校里学习的小数运算一样运算时"
   ]
  },
  {
   "cell_type": "markdown",
   "metadata": {},
   "source": [
    "## fractions（有理数）\n",
    "- 涉及分数的操作，该模块支持有理数运算"
   ]
  },
  {
   "cell_type": "code",
   "execution_count": 11,
   "metadata": {},
   "outputs": [
    {
     "name": "stdout",
     "output_type": "stream",
     "text": [
      "f1 3/2\n",
      "f2 3/5\n",
      "f3 3/2\n"
     ]
    }
   ],
   "source": [
    "import fractions\n",
    "f1 = fractions.Fraction(1.5)\n",
    "print(\"f1\",f1)\n",
    "f2 = fractions.Fraction(3,5)\n",
    "print(\"f2\",f2)\n",
    "f3 = fractions.Fraction(1.5)\n",
    "print(\"f3\",f3)\n"
   ]
  },
  {
   "cell_type": "code",
   "execution_count": null,
   "metadata": {},
   "outputs": [],
   "source": []
  }
 ],
 "metadata": {
  "kernelspec": {
   "display_name": "Python 3",
   "language": "python",
   "name": "python3"
  },
  "language_info": {
   "codemirror_mode": {
    "name": "ipython",
    "version": 3
   },
   "file_extension": ".py",
   "mimetype": "text/x-python",
   "name": "python",
   "nbconvert_exporter": "python",
   "pygments_lexer": "ipython3",
   "version": "3.7.0"
  }
 },
 "nbformat": 4,
 "nbformat_minor": 2
}
