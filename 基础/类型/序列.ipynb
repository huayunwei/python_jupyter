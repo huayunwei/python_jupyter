{
 "cells": [
  {
   "cell_type": "markdown",
   "metadata": {},
   "source": [
    "# 序列\n",
    "- 序列的类型\n",
    "    - 3中基本序列类型：[list](序列/列表.ipynb)，[tuple](序列/元组.ipynb)，range\n",
    "    - 专门处理文本的附加序列类型：[str](序列/字符串.ipynb)\n",
    "    - 专门处理二进制数据的附加序列类型：[bytes](序列/字节.ipynb)\n",
    "- 按照序列是否可被改变分类：\n",
    "    - 可变序列：list\n",
    "    - 不可变序列：tuple，str"
   ]
  },
  {
   "cell_type": "markdown",
   "metadata": {},
   "source": [
    "## 通用序列操作 -  可变序列和不可变都支持的操作\n",
    "- x in s ：x是否包含在s中，如果包含，返回true，否则返回false\n",
    "- x not in s：x是否不包含在s中，如果包含，返回true，否则返回false\n",
    "- s + t：对序列s和t做链接操作，其中s和t是相同类型的序列\n",
    "- s * n或n * s：序列s和数字n相乘，等同于n个s相加\n",
    "    - 如果n为0，则生成和s相同类型的空序列\n",
    "    - 如果n小于0，则n作为0处理\n",
    "- s[i]：表示序列s的第i个元素，i初始值为0\n",
    "- s[i:j]：表示序列s的第i到j-1的元素\n",
    "- s[i:j:k]：表示序列s的第i到j-1，且步长为k的序列\n",
    "    - 其中i，j，k可以为负数\n",
    "    - 如果i，j为负数，等于从末尾计算，i = len(s)+i,j=len(s)+j\n",
    "    - 如果k为负数，则代表从后往前的步长计算\n",
    "    - 如果i或j大于len(s)，其值取len(s)\n",
    "    - 如果i被忽略或为None，其值取0\n",
    "    - 如果j被忽略或为None，其值取len(s)\n",
    "    - 如果i的值比j大，则切片结果为空序列\n",
    "    - k的值不能为0，如果为None则为1\n",
    "- len(s)：序列s的长度\n",
    "- min(s)：序列s中的最小值\n",
    "- max(s)：序列s中的最大值\n",
    "- s.index(x[,i[,j]])：x在序列中从下标i到下标j范围内第一次出现的位置\n",
    "- s.count(x)：x在s序列中出现的次数"
   ]
  },
  {
   "cell_type": "markdown",
   "metadata": {},
   "source": [
    "## 可变序列支持的操作\n",
    "- s[i]=x：将序列s中下标为i的元素用x替换\n",
    "- s[i:j]=t：将序列s中从i到j的切片用可迭代对象t的内容替换\n",
    "- s[i:j:k]=t：将切片对象替换成t中的内容\n",
    "- s * = n：更新序列s为s的n次重复的结果\n",
    "- del s[i:j]：删除序列s中从i到j的切片，等价于s[i:j] = []\n",
    "- del s[i:j:k]：从序列s中删除s[i:j:k]中的元素\n",
    "- s.pop()/s.pop(i)：获取序列s中下标为i的元素，并从序列s中删除该元素，i默认为-1（最后一位）\n",
    "- s.remove(x)：从序列s中移除第一个等于x的元素，如果x在序列中不存在，则抛出ValueError异常\n",
    "- s.clear()：移除序列s中所有元素，等价于del s[:]\n",
    "- s.append(x)：将x追加到s末尾\n",
    "- s.extend(t)：将序列t中的内容添加到s的末尾，s[len(s):len(s)] = t\n",
    "- s.insert(i,x)：在序列s中的i位置插入x\n",
    "- s.copy()：创建一个s的浅拷贝，等同于s[:]\n",
    "- s.reverse()：反转s，该方法直接对序列s本身做修改"
   ]
  },
  {
   "cell_type": "code",
   "execution_count": null,
   "metadata": {},
   "outputs": [],
   "source": []
  }
 ],
 "metadata": {
  "kernelspec": {
   "display_name": "Python 3",
   "language": "python",
   "name": "python3"
  },
  "language_info": {
   "codemirror_mode": {
    "name": "ipython",
    "version": 3
   },
   "file_extension": ".py",
   "mimetype": "text/x-python",
   "name": "python",
   "nbconvert_exporter": "python",
   "pygments_lexer": "ipython3",
   "version": "3.7.0"
  },
  "toc": {
   "base_numbering": 1,
   "nav_menu": {},
   "number_sections": false,
   "sideBar": true,
   "skip_h1_title": false,
   "title_cell": "Table of Contents",
   "title_sidebar": "Contents",
   "toc_cell": false,
   "toc_position": {},
   "toc_section_display": true,
   "toc_window_display": false
  }
 },
 "nbformat": 4,
 "nbformat_minor": 2
}
