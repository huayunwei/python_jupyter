{
 "cells": [
  {
   "cell_type": "markdown",
   "metadata": {},
   "source": [
    "# 列表生成式\n",
    "- 列表生成式是一个用来生成列表的特定语法形式的表达式\n",
    "- 基本语法格式:[exp for iter_var in iterable]\n",
    "    - 工作过程：\n",
    "        - 迭代iterable中的每个元素\n",
    "        - 把每个元素赋值给iter_var，然后通过exp得到一个新的计算值\n",
    "        - 把所有通过exp得到的计算值以一个新的列表形式返回"
   ]
  },
  {
   "cell_type": "code",
   "execution_count": null,
   "metadata": {},
   "outputs": [],
   "source": [
    "L = []\n",
    "for iter_var in iterable:\n",
    "    L.appen(exp)"
   ]
  },
  {
   "cell_type": "markdown",
   "metadata": {},
   "source": [
    "- 带过滤功能：[exp for iter_var in iterable if_exp]\n",
    "    - 工作过程：\n",
    "        - 迭代iterable中的每个元素，每次迭代都先判断if_exp表达式结果为真，如果为真则进行下一步，为假进行下一个迭代\n",
    "        - 把迭代结果赋值给iter_var，然后通过exp得到一个新的计算值\n",
    "        - 把所有通过exp得到的计算值以一个新的列表形式返回"
   ]
  },
  {
   "cell_type": "code",
   "execution_count": null,
   "metadata": {},
   "outputs": [],
   "source": [
    "L = []\n",
    "for iter_var in iterable:\n",
    "    if if_exp:\n",
    "        L.append(exp)"
   ]
  },
  {
   "cell_type": "markdown",
   "metadata": {},
   "source": [
    "- 循环嵌套语法：[exp for iter_var_A in iterable_A for iter_var_B in iterable_B]\n",
    "    - 工作过程：每迭代iterable_A中的一个元素，就把iterable_B总的所有元素都迭代一遍"
   ]
  },
  {
   "cell_type": "code",
   "execution_count": null,
   "metadata": {},
   "outputs": [],
   "source": [
    "L = []\n",
    "for iter_var_A in iterable_A:\n",
    "    for iter_var_B in iterable_B:\n",
    "        L.append(exp)"
   ]
  },
  {
   "cell_type": "markdown",
   "metadata": {},
   "source": [
    "# 生成器（Generator）\n",
    "- 作用：按照某种算法不断生成新的数据，直到满足某个指定的条件结束\n",
    "- 构造生成器的两种方式：\n",
    "    - 使用类似列表生成式的方式\n",
    "    - 使用yield的函数来生成"
   ]
  },
  {
   "cell_type": "code",
   "execution_count": 1,
   "metadata": {},
   "outputs": [
    {
     "name": "stdout",
     "output_type": "stream",
     "text": [
      "7\n",
      "9\n",
      "11\n",
      "7\n",
      "9\n",
      "11\n"
     ]
    }
   ],
   "source": [
    "# 使用类似列表生成式的方式构造生成器\n",
    "g1 = (2*n + 1 for n in range(3,6))\n",
    "\n",
    "# 使用包含yield的函数构成生成器\n",
    "def my_range(start,end):\n",
    "    for n in range(start,end):\n",
    "        yield 2*n + 1\n",
    "g2 = my_range(3,6)\n",
    "\n",
    "for x in g1:\n",
    "    print(x)\n",
    "    \n",
    "for y in g2:\n",
    "    print(y)"
   ]
  },
  {
   "cell_type": "markdown",
   "metadata": {},
   "source": [
    "- 生成器对象的方法\n",
    "    - next：会调用yield，但不会给yield传值\n",
    "    - send：会调用yield，也会给它传值,值会成为当前yield的结果值"
   ]
  },
  {
   "cell_type": "code",
   "execution_count": 2,
   "metadata": {},
   "outputs": [
    {
     "name": "stdout",
     "output_type": "stream",
     "text": [
      "7\n",
      "hell01\n",
      "9\n",
      "hell02\n",
      "11\n"
     ]
    }
   ],
   "source": [
    "def my_range(start,end):\n",
    "    for n in range(start,end):\n",
    "        ret = yield 2*n + 1\n",
    "        print(ret)\n",
    "\n",
    "g3 = my_range(3,6)\n",
    "print(g3.send(None))\n",
    "print(g3.send('hell01'))\n",
    "print(g3.send('hell02'))"
   ]
  },
  {
   "cell_type": "markdown",
   "metadata": {},
   "source": [
    "# 可迭代对象\n",
    "- 定义：可直接用于for循环的对象统称为可迭代对象\n",
    "- 可迭代数据类型：\n",
    "    - 集合数据类型：list，tuple，dict，set，str等\n",
    "    - 生成器：generator\n",
    "- 迭代类型的判断：\n",
    "    - 使用isinstance()函数来判断"
   ]
  },
  {
   "cell_type": "markdown",
   "metadata": {},
   "source": [
    "# 迭代器\n",
    "- 可以被next函数调用并不断返回下一个值的对象"
   ]
  }
 ],
 "metadata": {
  "kernelspec": {
   "display_name": "Python 3",
   "language": "python",
   "name": "python3"
  },
  "language_info": {
   "codemirror_mode": {
    "name": "ipython",
    "version": 3
   },
   "file_extension": ".py",
   "mimetype": "text/x-python",
   "name": "python",
   "nbconvert_exporter": "python",
   "pygments_lexer": "ipython3",
   "version": "3.7.0"
  }
 },
 "nbformat": 4,
 "nbformat_minor": 2
}
