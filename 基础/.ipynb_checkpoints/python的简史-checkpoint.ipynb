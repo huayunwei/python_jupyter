{
 "cells": [
  {
   "cell_type": "markdown",
   "metadata": {},
   "source": [
    "# python简史\n",
    "- 既然用了这门语言，怎么能不知道这个语言的发明者"
   ]
  },
  {
   "cell_type": "markdown",
   "metadata": {},
   "source": [
    "- python之父：Guido - 荷兰人（吉多范罗苏姆）"
   ]
  },
  {
   "cell_type": "markdown",
   "metadata": {},
   "source": [
    "- python的诞生："
   ]
  },
  {
   "cell_type": "markdown",
   "metadata": {},
   "source": [
    "> 1989 年的圣诞节期间，Guido 为了在阿姆斯特丹打发时间，决心开发一个新的脚本解释程序，作为 ABC 语言的一种继承。之所以选中 Python（大蟒蛇的意思）作为程序的名字，是因为他是 BBC 电视剧 - 蒙提·派森的飞行马戏团（Monty Python’s Flying Circus）的爱好者。ABC 是由 Guido 参加设计的一种教学语言。就 Guido 本人看来，ABC 这种语言非常优美和强大，是专门为非专业程序员设计的。但是 ABC 语言并没有成功，究其原因，Guido 认为是非开放造成的。Guido 决心在 Python 中避免这一错误，并获取了非常好的效果，完美结合了 C 和其他一些语言。"
   ]
  },
  {
   "cell_type": "markdown",
   "metadata": {},
   "source": [
    "- python的版本：\n",
    "    - python2\n",
    "        - 上世纪90年代，随着python的发展，因为python对Guido的依赖，导致大家担心因为Guido的原因，导致python无法再继续发展下去\n",
    "        - 2000年：python由BeOpen PythonLabs 团队发布，2.0的理念是在其发展过程中更加开放，并以社区为向导，透明度更高\n",
    "            - 2.0中最重要的变化可能根本不是代码，而是Python的开发方式\n",
    "        - python2的最后一个版本2.7，目前依旧处于支持当中\n",
    "    - python3.0\n",
    "        - 2008年，python3发布，python3不向后兼容\n",
    "            - 不兼容的原因：\n",
    "                - 在python2中，文本和二进制数据是一个烂摊子\n",
    "                - 其他语言都已经完成支持Unicode\n",
    "                - 设想python将越来越受欢迎"
   ]
  },
  {
   "cell_type": "markdown",
   "metadata": {},
   "source": [
    "- python的菜单：python之禅（总结了python的风格，指导pythonista的编程）\n",
    "![](img/base_1.png)"
   ]
  },
  {
   "cell_type": "markdown",
   "metadata": {},
   "source": [
    "- Python 之禅， by Tim Peters\n",
    "- 优美胜于丑陋（Python 以编写优美的代码为目标） \n",
    "- 明了胜于晦涩（优美的代码应当是明了的，命名规范，风格相似） \n",
    "- 简洁胜于复杂（优美的代码应当是简洁的，不要有复杂的内部实现） \n",
    "- 复杂胜于凌乱（如果复杂不可避免，那代码间也不能有难懂的关系，要保持接口简洁） \n",
    "- 扁平胜于嵌套（优美的代码应当是扁平的，不能有太多的嵌套） \n",
    "- 间隔胜于紧凑（优美的代码有适当的间隔，不要奢望一行代码解决问题） \n",
    "- 可读性很重要（优美的代码是可读的） \n",
    "- 即便假借特例的实用性之名，也不可违背这些规则（这些规则至高无上） \n",
    "- 不要包容所有错误，除非你确定需要这样做（精准地捕获异常，不写except:pass风格的代码） \n",
    "- 当存在多种可能，不要尝试去猜测 \n",
    "- 而是尽量找一种，最好是唯一一种明显的解决方案（如果不确定，就用穷举法） \n",
    "- 虽然这并不容易，因为你不是 Python 之父（这里的 Dutch 是指 Guido） \n",
    "- 做也许好过不做，但不假思索就动手还不如不做（动手之前要细思量） \n",
    "- 如果你无法向人描述你的方案，那肯定不是一个好方案；反之亦然（方案测评标准） \n",
    "- 命名空间是一种绝妙的理念，我们应当多加利用（倡导与号召）"
   ]
  },
  {
   "cell_type": "markdown",
   "metadata": {},
   "source": [
    "- 最后：Life is short,you need Python"
   ]
  }
 ],
 "metadata": {
  "kernelspec": {
   "display_name": "Python 3",
   "language": "python",
   "name": "python3"
  },
  "language_info": {
   "codemirror_mode": {
    "name": "ipython",
    "version": 3
   },
   "file_extension": ".py",
   "mimetype": "text/x-python",
   "name": "python",
   "nbconvert_exporter": "python",
   "pygments_lexer": "ipython3",
   "version": "3.7.0"
  }
 },
 "nbformat": 4,
 "nbformat_minor": 2
}
