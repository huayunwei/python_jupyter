{
 "cells": [
  {
   "cell_type": "code",
   "execution_count": null,
   "metadata": {},
   "outputs": [],
   "source": [
    "def sumofN3(n):\n",
    "    return (n*(n+1))/2"
   ]
  },
  {
   "cell_type": "markdown",
   "metadata": {},
   "source": [
    "# T(n) - 解决问题大小为n所花费的时间\n"
   ]
  },
  {
   "cell_type": "markdown",
   "metadata": {},
   "source": [
    "- 上面算法的T(n)=n+1 -- 参数n为问题规模\n",
    "- 当问题规模变大时，T(n)函数某些部分的分量会超过其他部分，即n趋向无穷时，一些常数，或趋向于无穷速度慢的n函数，可以忽略不计"
   ]
  },
  {
   "cell_type": "markdown",
   "metadata": {},
   "source": [
    "# O(f(n)) - 函数f(n)的数量级\n",
    "- 函数的数量级表示了随着n的值增加而增加最快的那些部分，即在n趋向无穷时，趋向于无穷最快的f(n)\n",
    "- 它表示对计算中的实际步数的近似"
   ]
  },
  {
   "cell_type": "code",
   "execution_count": null,
   "metadata": {},
   "outputs": [],
   "source": [
    "当 T(n) = n + 1 时，在n趋向无穷时，常数1可以省略，即O(n) = n\n",
    "\n",
    "# 当同时存在下面中多个关于n的函数时，在n值增大时，哪个会是更快的部分，即成为函数的数量级的部分\n",
    "2^n > n^3 > n^2 > nlogn > n > logn > 1"
   ]
  },
  {
   "cell_type": "code",
   "execution_count": null,
   "metadata": {},
   "outputs": [],
   "source": [
    "a = 5\n",
    "b = 6\n",
    "c = 10\n",
    "for i in range(n):\n",
    "    for j in range(n):\n",
    "        x = i * i\n",
    "        y = j * j\n",
    "        z = i * j\n",
    "for k in range(n):\n",
    "    w = a * k + 45\n",
    "    v = b * b\n",
    "d = 33\n",
    "\n",
    "上式中：\n",
    "Tn = 3 + 3n^2 + 2n + 1（所有语句执行的次数）\n",
    "0(n) = n^2"
   ]
  }
 ],
 "metadata": {
  "kernelspec": {
   "display_name": "Python 3",
   "language": "python",
   "name": "python3"
  },
  "language_info": {
   "codemirror_mode": {
    "name": "ipython",
    "version": 3
   },
   "file_extension": ".py",
   "mimetype": "text/x-python",
   "name": "python",
   "nbconvert_exporter": "python",
   "pygments_lexer": "ipython3",
   "version": "3.7.0"
  },
  "toc": {
   "base_numbering": 1,
   "nav_menu": {},
   "number_sections": false,
   "sideBar": true,
   "skip_h1_title": false,
   "title_cell": "Table of Contents",
   "title_sidebar": "Contents",
   "toc_cell": false,
   "toc_position": {},
   "toc_section_display": true,
   "toc_window_display": false
  }
 },
 "nbformat": 4,
 "nbformat_minor": 2
}
