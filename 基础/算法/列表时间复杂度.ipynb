{
 "cells": [
  {
   "cell_type": "markdown",
   "metadata": {},
   "source": [
    "# 列表操作的时间复杂度"
   ]
  },
  {
   "cell_type": "markdown",
   "metadata": {},
   "source": [
    "- 索引和分配到索引：无论列表有多大，这两个操作都需要相同的时间，O(1)\n",
    "- 增加一个列表：\n",
    "    - append：O(1)\n",
    "    - 拼接运算符+：O(k) - k为要拼接的列表的大小\n",
    "- 创建列表："
   ]
  },
  {
   "cell_type": "code",
   "execution_count": 4,
   "metadata": {},
   "outputs": [
    {
     "name": "stdout",
     "output_type": "stream",
     "text": [
      "concat  1.8410414479999417 milliseconds\n",
      "append  0.12229289099991547 milliseconds\n",
      "comprehension  0.0558037250000325 milliseconds\n",
      "list range  0.02737188200012497 milliseconds\n"
     ]
    }
   ],
   "source": [
    "from timeit import Timer\n",
    "# for循环 + 拼接运算符\n",
    "def create1():\n",
    "    l = []\n",
    "    for i in range(1000):\n",
    "        l = l + [i]\n",
    "    \n",
    "# for循环 + append函数\n",
    "def create2():\n",
    "    l = []\n",
    "    for i in range(1000):\n",
    "        l.append(i)\n",
    "        \n",
    "# 列表生成器\n",
    "def create3():\n",
    "    l = [i for i in range(1000)]\n",
    "    \n",
    "# 列表函数 + range函数\n",
    "def create4():\n",
    "    l = list(range(1000))\n",
    "    \n",
    "t1 = Timer(\"create1()\", \"from __main__ import create1\")\n",
    "print(\"concat \",t1.timeit(number=1000), \"milliseconds\")\n",
    "t2 = Timer(\"create2()\", \"from __main__ import create2\")\n",
    "print(\"append \",t2.timeit(number=1000), \"milliseconds\")\n",
    "t3 = Timer(\"create3()\", \"from __main__ import create3\")\n",
    "print(\"comprehension \",t3.timeit(number=1000), \"milliseconds\")\n",
    "t4 = Timer(\"create4()\", \"from __main__ import create4\")\n",
    "print(\"list range \",t4.timeit(number=1000), \"milliseconds\")"
   ]
  },
  {
   "cell_type": "markdown",
   "metadata": {},
   "source": [
    "- index : O(1)\n",
    "- index assignment : O(1)\n",
    "- append : O(1)\n",
    "- pop : O(1)\n",
    "- pop(i) : O(n)\n",
    "- insert(i,item) : O(n)\n",
    "- del operator : O(n)\n",
    "- iteration : O(n)\n",
    "- contains(in) : O(n)\n",
    "- get slice[x:y] : O(k)\n",
    "- del slice : O(n)\n",
    "- set slice : O(n+k)\n",
    "- reverse : O(n)\n",
    "- concatenate : O(k)\n",
    "- sort : O(nlogn)\n",
    "- multiply : O(nk)"
   ]
  },
  {
   "cell_type": "code",
   "execution_count": null,
   "metadata": {},
   "outputs": [],
   "source": []
  }
 ],
 "metadata": {
  "kernelspec": {
   "display_name": "Python 3",
   "language": "python",
   "name": "python3"
  },
  "language_info": {
   "codemirror_mode": {
    "name": "ipython",
    "version": 3
   },
   "file_extension": ".py",
   "mimetype": "text/x-python",
   "name": "python",
   "nbconvert_exporter": "python",
   "pygments_lexer": "ipython3",
   "version": "3.7.0"
  },
  "toc": {
   "base_numbering": 1,
   "nav_menu": {},
   "number_sections": false,
   "sideBar": true,
   "skip_h1_title": false,
   "title_cell": "Table of Contents",
   "title_sidebar": "Contents",
   "toc_cell": false,
   "toc_position": {},
   "toc_section_display": true,
   "toc_window_display": false
  }
 },
 "nbformat": 4,
 "nbformat_minor": 2
}
