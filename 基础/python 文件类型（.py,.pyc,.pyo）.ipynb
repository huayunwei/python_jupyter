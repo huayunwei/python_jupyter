{
 "cells": [
  {
   "cell_type": "markdown",
   "metadata": {},
   "source": [
    "# python文件类型"
   ]
  },
  {
   "cell_type": "markdown",
   "metadata": {},
   "source": [
    "- python并非完全是解释性语言，也存在编译，先将源码文件.py编译为.pyc/.pyo，然后由python的虚拟机执行"
   ]
  },
  {
   "cell_type": "markdown",
   "metadata": {},
   "source": [
    "- 文件类型：\n",
    "    - .py：源码文件，由python程序解释\n",
    "    - .pyc：源码经编译后生成的二进制字节码文件\n",
    "    - .pyo：优化编译后的程序，也是二进制字节码文件"
   ]
  },
  {
   "cell_type": "markdown",
   "metadata": {},
   "source": [
    "- 生成.pyc文件\n",
    "    - 引入py_compile模块，在交互模式下输入：\n",
    "        - import py_compile \n",
    "        - py_comile.compile(\"xx.py\")"
   ]
  },
  {
   "cell_type": "markdown",
   "metadata": {},
   "source": [
    "- 生成.pyo文件（3.5不再使用）\n",
    "    - 通过python解释器的选项去编译:\n",
    "        - python -O -m py_compile xxx.py"
   ]
  },
  {
   "cell_type": "markdown",
   "metadata": {},
   "source": [
    "- 三种文件类型的区别：\n",
    "    - 三种格式的文件都可以被执行\n",
    "    - 三种文件在运行速度上相差无几，加载速度.pyc/.pyo稍占优势\n",
    "    - .pyc/.pyo编译成二进制，可以隐藏源码"
   ]
  },
  {
   "cell_type": "code",
   "execution_count": null,
   "metadata": {},
   "outputs": [],
   "source": []
  }
 ],
 "metadata": {
  "kernelspec": {
   "display_name": "Python 3",
   "language": "python",
   "name": "python3"
  },
  "language_info": {
   "codemirror_mode": {
    "name": "ipython",
    "version": 3
   },
   "file_extension": ".py",
   "mimetype": "text/x-python",
   "name": "python",
   "nbconvert_exporter": "python",
   "pygments_lexer": "ipython3",
   "version": "3.7.0"
  }
 },
 "nbformat": 4,
 "nbformat_minor": 2
}
