{
 "cells": [
  {
   "cell_type": "markdown",
   "metadata": {},
   "source": [
    "# PyMongo"
   ]
  },
  {
   "cell_type": "markdown",
   "metadata": {},
   "source": [
    "## 连接MongoDB"
   ]
  },
  {
   "cell_type": "code",
   "execution_count": null,
   "metadata": {},
   "outputs": [],
   "source": [
    "import pymongo\n",
    "client = pymongo.MongoClient(host='localhost',port=27017)"
   ]
  },
  {
   "cell_type": "markdown",
   "metadata": {},
   "source": [
    "## 指定使用的数据库"
   ]
  },
  {
   "cell_type": "code",
   "execution_count": null,
   "metadata": {},
   "outputs": [],
   "source": [
    "db = client.test\n",
    "# 或\n",
    "db = client['test']"
   ]
  },
  {
   "cell_type": "markdown",
   "metadata": {},
   "source": [
    "## 指定要使用的表"
   ]
  },
  {
   "cell_type": "code",
   "execution_count": null,
   "metadata": {},
   "outputs": [],
   "source": [
    "collection = db.students\n",
    "# 或\n",
    "collection = db['students']"
   ]
  },
  {
   "cell_type": "markdown",
   "metadata": {},
   "source": [
    "## 插入"
   ]
  },
  {
   "cell_type": "code",
   "execution_count": null,
   "metadata": {},
   "outputs": [],
   "source": [
    "student = {\n",
    "    'id':'123'\n",
    "}\n",
    "# 不再推荐使用\n",
    "result = collection.insert(student)\n",
    "print(result)\n",
    "\n",
    "# 插入多条\n",
    "result = collection.insert([stu1,stu2])\n",
    "\n",
    "# 推荐使用\n",
    "result = collection.insert_one(student)\n",
    "result = collection.insert_many([student1,student2])"
   ]
  },
  {
   "cell_type": "markdown",
   "metadata": {},
   "source": [
    "## 查询"
   ]
  },
  {
   "cell_type": "code",
   "execution_count": null,
   "metadata": {},
   "outputs": [],
   "source": [
    "result = collection.find_one({'name':'Mike'}) # 查询单个结果，返回一个字典类型结果\n",
    "\n",
    "results = collection.find({'name':'Mike'}) # 返回一个生成器对象\n",
    "for result in results:\n",
    "    print(result)\n",
    "\n",
    "# 通过ObjectId来查询\n",
    "from bson.objectid import ObjectId\n",
    "result = collection.find_one({'_id':ObjectId('13221312')}) # 返回一个字典类型"
   ]
  },
  {
   "cell_type": "markdown",
   "metadata": {},
   "source": [
    "## 计数"
   ]
  },
  {
   "cell_type": "code",
   "execution_count": null,
   "metadata": {},
   "outputs": [],
   "source": [
    "count = collection.find().count()\n",
    "print(count)"
   ]
  },
  {
   "cell_type": "markdown",
   "metadata": {},
   "source": [
    "## 排序"
   ]
  },
  {
   "cell_type": "code",
   "execution_count": null,
   "metadata": {},
   "outputs": [],
   "source": [
    "results = collection.find().sort('name',pymongo.ASCENDING)"
   ]
  },
  {
   "cell_type": "markdown",
   "metadata": {},
   "source": [
    "## 偏移"
   ]
  },
  {
   "cell_type": "code",
   "execution_count": null,
   "metadata": {},
   "outputs": [],
   "source": [
    "# 跳过\n",
    "results = collection.find().sort('name',pymongo.ASCENDING).skip(2)\n",
    "\n",
    "# 限制选取的大小\n",
    "results = collection.find().sort('name',pymongo.ASCENDING).skip(2).limit(2)"
   ]
  },
  {
   "cell_type": "markdown",
   "metadata": {},
   "source": [
    "## 更新"
   ]
  },
  {
   "cell_type": "code",
   "execution_count": null,
   "metadata": {},
   "outputs": [],
   "source": [
    "condition = {'name':'1'}\n",
    "student = collection.find_one(condition)\n",
    "student['age'] = 25\n",
    "result = collection.update(condition,student)\n",
    "print(result)\n",
    "\n",
    "# 直接更新\n",
    "result = collection.update(condition,{'$set':student})\n",
    "\n",
    "# 使用官方推荐的方法\n",
    "condition = {'name':'Kevin'}\n",
    "student = collection.find_one(condition) # 找到要修改内容\n",
    "student['age'] = 26 # 设置要修改的值\n",
    "result = conllection.update_one(condition,{'$set':student}) # 更新\n",
    "result = conllection.update_many(condition,{'$set':student}) # 将所有符合条件的数据都更新\n",
    "print(result)\n",
    "\n"
   ]
  },
  {
   "cell_type": "markdown",
   "metadata": {},
   "source": [
    "## 删除"
   ]
  },
  {
   "cell_type": "code",
   "execution_count": null,
   "metadata": {},
   "outputs": [],
   "source": [
    "result = collection.remove({'name':'kevin'})\n",
    "result = collection.delete_one({'name':'Kevin'})\n",
    "result = collection.delete_many({'age':{'$lt':25}})"
   ]
  }
 ],
 "metadata": {
  "kernelspec": {
   "display_name": "Python 3",
   "language": "python",
   "name": "python3"
  },
  "language_info": {
   "codemirror_mode": {
    "name": "ipython",
    "version": 3
   },
   "file_extension": ".py",
   "mimetype": "text/x-python",
   "name": "python",
   "nbconvert_exporter": "python",
   "pygments_lexer": "ipython3",
   "version": "3.7.0"
  },
  "toc": {
   "base_numbering": 1,
   "nav_menu": {},
   "number_sections": false,
   "sideBar": true,
   "skip_h1_title": false,
   "title_cell": "Table of Contents",
   "title_sidebar": "Contents",
   "toc_cell": false,
   "toc_position": {},
   "toc_section_display": true,
   "toc_window_display": false
  }
 },
 "nbformat": 4,
 "nbformat_minor": 2
}
