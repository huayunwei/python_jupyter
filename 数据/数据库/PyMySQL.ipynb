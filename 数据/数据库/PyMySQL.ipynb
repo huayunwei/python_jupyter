{
 "cells": [
  {
   "cell_type": "markdown",
   "metadata": {},
   "source": [
    "# PyMySQL\n",
    "- 想要将数据存储到MySql，需要借助该存储库"
   ]
  },
  {
   "cell_type": "markdown",
   "metadata": {},
   "source": [
    "## 安装"
   ]
  },
  {
   "cell_type": "code",
   "execution_count": null,
   "metadata": {},
   "outputs": [],
   "source": [
    "# 安装\n",
    "pip install pymysql\n",
    "\n",
    "# 验证\n",
    "import pymysql\n",
    "print(pymysql.VERSION)"
   ]
  },
  {
   "cell_type": "markdown",
   "metadata": {},
   "source": [
    "## 链接数据库"
   ]
  },
  {
   "cell_type": "code",
   "execution_count": null,
   "metadata": {},
   "outputs": [],
   "source": [
    "'''\n",
    "前提：mysql运行在本地，用户名为root，密码为123456，运行端口为3306\n",
    "'''\n",
    "import pymysql\n",
    "\n",
    "db = pymysql.connect(host='localhost',user='root',password='123456',port=3306)\n",
    "cursor = db.cursor() # 游标\n",
    "cursor.execute('CREATE DATABASE spiders DEFAULT CHARACTER SET utf8') # 创建一个数据库\n",
    "db.close()"
   ]
  },
  {
   "cell_type": "markdown",
   "metadata": {},
   "source": [
    "## 创建表"
   ]
  },
  {
   "cell_type": "code",
   "execution_count": null,
   "metadata": {},
   "outputs": [],
   "source": [
    "sql = '\n",
    "    CREATE TABLE IF NOT EXISTS students (\n",
    "        id VARCHAR(255) NOT NULL,\n",
    "        name VARCHAR(255) NOT NULL,\n",
    "        age INT NOT NULL,\n",
    "        PRIMARY KEY(ID)\n",
    "    )'\n",
    "    \n",
    "cursor.execute(sq)\n",
    "db.close()"
   ]
  },
  {
   "cell_type": "markdown",
   "metadata": {},
   "source": [
    "## 插入数据"
   ]
  },
  {
   "cell_type": "code",
   "execution_count": null,
   "metadata": {},
   "outputs": [],
   "source": [
    "sql = 'INSERT INTO students(id,name,age) values(10,11,12)'\n",
    "try:\n",
    "    cursor.execute(sql)\n",
    "    db.commit()\n",
    "except:\n",
    "    db.rollback() # 回滚\n",
    "db.close()\n",
    "\n",
    "\n",
    "# 插入字典内容\n",
    "data = {\n",
    "    'id':'xxx',\n",
    "    'name':'aaa'\n",
    "}\n",
    "table = 'students'\n",
    "keys = ','.join(data.keys())\n",
    "values =  ','.join(['%s'] * len(data)) # 形成%s %s %s，从而在执行插入语句时能使用tuple(data.values())\n",
    "sql = 'INSERT INTO {table}({key}) VALUES ({values})'.format(table=table,keys=keys,values=values)\n",
    "try:\n",
    "    if cursor.execute(sql,tuple(data.values())):\n",
    "        print('Successfule')\n",
    "except:\n",
    "    print('Failed')\n",
    "    db.rollback()\n",
    "db.close()"
   ]
  },
  {
   "cell_type": "markdown",
   "metadata": {},
   "source": [
    "## 更新数据"
   ]
  },
  {
   "cell_type": "code",
   "execution_count": null,
   "metadata": {},
   "outputs": [],
   "source": [
    "data = {\n",
    "    'id':1\n",
    "}\n",
    "table = 'student'\n",
    "keys = ','.join(data.keys())\n",
    "values = ','.join(['%s'] * len(data))\n",
    "\n",
    "sql = 'INSERT INTO{table}({keys}) VALUES ({values}) ON DUPLICATE KEY UPDATE'.format(table=table,keys=keys,values=values)\n",
    "update = ','.join([\"{key} = %s\".format(key=key) for key in data])\n",
    "sql += update\n",
    "try:\n",
    "    if cursor.execute(sql,tuple(data.values())*2):\n",
    "        print('Successful')\n",
    "        db.commit()\n",
    "except:\n",
    "    print('Failed')\n",
    "    db.rollback()\n",
    "db.close()"
   ]
  },
  {
   "cell_type": "markdown",
   "metadata": {},
   "source": [
    "## 删除数据"
   ]
  },
  {
   "cell_type": "markdown",
   "metadata": {},
   "source": [
    "table = 'students'\n",
    "condition = 'age > 20'\n",
    "\n",
    "sql = 'DELETE FROM {table} WHERE {condition}'.format(table=table,condition=condition)\n",
    "try:\n",
    "    cursor.execute(sql)\n",
    "    db.commit()\n",
    "except:\n",
    "    db.rollback()\n",
    "    \n",
    "db.close()"
   ]
  },
  {
   "cell_type": "markdown",
   "metadata": {},
   "source": [
    "## 查询数据"
   ]
  },
  {
   "cell_type": "code",
   "execution_count": null,
   "metadata": {},
   "outputs": [],
   "source": [
    "sql = 'SELECT * FROM students WHERE age >= 20'\n",
    "\n",
    "try:\n",
    "    cursor.execute(sql)\n",
    "    print('Count:',cursor.rowcount)\n",
    "    one = cursor.fetchone() # 第一条数据，返回结果是元组形式\n",
    "    print('One:',one)\n",
    "    results = cursor.fetchall() # 所有数据，返回二重元组，如果数据量大时，会占用很大的开销\n",
    "    print('Results:',results) \n",
    "    for row in results:\n",
    "        print(row)\n",
    "except:\n",
    "    print('ERROR')"
   ]
  }
 ],
 "metadata": {
  "kernelspec": {
   "display_name": "Python 3",
   "language": "python",
   "name": "python3"
  },
  "language_info": {
   "codemirror_mode": {
    "name": "ipython",
    "version": 3
   },
   "file_extension": ".py",
   "mimetype": "text/x-python",
   "name": "python",
   "nbconvert_exporter": "python",
   "pygments_lexer": "ipython3",
   "version": "3.7.0"
  },
  "toc": {
   "base_numbering": 1,
   "nav_menu": {},
   "number_sections": false,
   "sideBar": true,
   "skip_h1_title": false,
   "title_cell": "Table of Contents",
   "title_sidebar": "Contents",
   "toc_cell": false,
   "toc_position": {},
   "toc_section_display": true,
   "toc_window_display": true
  }
 },
 "nbformat": 4,
 "nbformat_minor": 2
}
