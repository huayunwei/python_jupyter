{
 "cells": [
  {
   "cell_type": "markdown",
   "metadata": {},
   "source": [
    "# Tornadis"
   ]
  },
  {
   "cell_type": "markdown",
   "metadata": {},
   "source": [
    "### Tornadis.Client\n",
    "- 与Redis交互的高级对象"
   ]
  },
  {
   "cell_type": "code",
   "execution_count": null,
   "metadata": {},
   "outputs": [],
   "source": [
    "__init__(autoconnect=True,password=None,db=0,**connection_kwargs)\n",
    "# autoconnect（boolean）：如果客户端处于自动连接模式，则为True\n",
    "# password（字符串）：用来验证的密码\n",
    "# db（int）：数据库号\n",
    "# connection_kwargs（dict）：connect对象kwargs\n",
    "\n",
    "\n",
    "async_call(*args,**kwargs)\n",
    "# 调用redis命令，等待回复并调用回调\n",
    "\n",
    "call(*args,**kwargs)\n",
    "# 调用redis命令并返回Futrue答复\n",
    "\n",
    "connect(*args,**kwargs)\n",
    "# 将客户端对象连接到redis\n",
    "\n",
    "disconnect()\n",
    "# 断开客户端对象与redis的链接\n",
    "\n",
    "is_connected()\n",
    "# 如果客户端已连接到redis，则返回"
   ]
  },
  {
   "cell_type": "markdown",
   "metadata": {},
   "source": [
    "### tornadis.ClientPool"
   ]
  },
  {
   "cell_type": "code",
   "execution_count": null,
   "metadata": {},
   "outputs": [],
   "source": [
    "__init__(max_size=-1,client_timeout=-1,autoclose=False,**client_kwargs)\n",
    "# 构造函数\n",
    "# max_size(int)：池的最大大小\n",
    "# client_timeout(int)：释放到池中的链接的超时（以秒为单位，-1标识无超时）\n",
    "# autoclose(boolean)：自动断开生命周期\n",
    "\n",
    "\n",
    "connected_client()\n",
    "# 返回要在with语句中产生的ContextManagerFuture\n",
    "\n",
    "destroy()\n",
    "# 断开所有合并的客户端对象\n",
    "\n",
    "get_client_nowait()\n",
    "# 获取一个client对象\n",
    "\n",
    "get_connected_client(*args,**kwargs)\n",
    "# 获取连接的Client对象\n",
    "\n",
    "preconnect(*args,**kwargs)\n",
    "# 连接池中的部分或全部Redis客户端\n",
    "\n",
    "release_client(client)\n",
    "# 将客户端对象释放到池中"
   ]
  }
 ],
 "metadata": {
  "kernelspec": {
   "display_name": "Python 3",
   "language": "python",
   "name": "python3"
  },
  "language_info": {
   "codemirror_mode": {
    "name": "ipython",
    "version": 3
   },
   "file_extension": ".py",
   "mimetype": "text/x-python",
   "name": "python",
   "nbconvert_exporter": "python",
   "pygments_lexer": "ipython3",
   "version": "3.7.4"
  },
  "toc": {
   "base_numbering": 1,
   "nav_menu": {},
   "number_sections": false,
   "sideBar": true,
   "skip_h1_title": false,
   "title_cell": "Table of Contents",
   "title_sidebar": "Contents",
   "toc_cell": false,
   "toc_position": {},
   "toc_section_display": true,
   "toc_window_display": false
  }
 },
 "nbformat": 4,
 "nbformat_minor": 4
}
