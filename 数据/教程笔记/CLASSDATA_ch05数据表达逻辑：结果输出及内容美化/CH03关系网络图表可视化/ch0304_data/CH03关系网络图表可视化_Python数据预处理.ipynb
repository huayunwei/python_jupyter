{
 "cells": [
  {
   "cell_type": "code",
   "execution_count": null,
   "metadata": {
    "collapsed": true
   },
   "outputs": [],
   "source": [
    "'''\n",
    "【课程3.4】  Python数据预处理\n",
    "\n",
    "将数据中导演与演员的关系整理出来，得到导演与演员的关系数据，并统计合作次数\n",
    "\n",
    "'''"
   ]
  },
  {
   "cell_type": "code",
   "execution_count": 1,
   "metadata": {
    "collapsed": true
   },
   "outputs": [],
   "source": [
    "import numpy as np\n",
    "import pandas as pd\n",
    "import matplotlib.pyplot as plt\n",
    "% matplotlib inline\n",
    "\n",
    "import warnings\n",
    "warnings.filterwarnings('ignore') \n",
    "# 不发出警告"
   ]
  },
  {
   "cell_type": "code",
   "execution_count": 2,
   "metadata": {
    "collapsed": false
   },
   "outputs": [
    {
     "name": "stdout",
     "output_type": "stream",
     "text": [
      "数据总共2876条\n",
      "数据字段为：\n",
      " ['imdb_id', 'imdb_n_comment', 'imdb_score', 'name', 'rating_people', 'score', '上映日期', '主演', '制片国家/地区', '又名', '导演', '片长', '类型', '编剧', '语言', '主演人数', 'r5', 'r4', 'r3', 'r2', 'r1']\n"
     ]
    },
    {
     "data": {
      "text/html": [
       "<div>\n",
       "<table border=\"1\" class=\"dataframe\">\n",
       "  <thead>\n",
       "    <tr style=\"text-align: right;\">\n",
       "      <th></th>\n",
       "      <th>imdb_id</th>\n",
       "      <th>imdb_n_comment</th>\n",
       "      <th>imdb_score</th>\n",
       "      <th>name</th>\n",
       "      <th>rating_people</th>\n",
       "      <th>score</th>\n",
       "      <th>上映日期</th>\n",
       "      <th>主演</th>\n",
       "      <th>制片国家/地区</th>\n",
       "      <th>又名</th>\n",
       "      <th>...</th>\n",
       "      <th>片长</th>\n",
       "      <th>类型</th>\n",
       "      <th>编剧</th>\n",
       "      <th>语言</th>\n",
       "      <th>主演人数</th>\n",
       "      <th>r5</th>\n",
       "      <th>r4</th>\n",
       "      <th>r3</th>\n",
       "      <th>r2</th>\n",
       "      <th>r1</th>\n",
       "    </tr>\n",
       "  </thead>\n",
       "  <tbody>\n",
       "    <tr>\n",
       "      <th>0</th>\n",
       "      <td>tt1587878</td>\n",
       "      <td>222.0</td>\n",
       "      <td>7.0</td>\n",
       "      <td>团圆</td>\n",
       "      <td>4247.0</td>\n",
       "      <td>7.6</td>\n",
       "      <td>2013-09-19(中国大陆) / 2010-02-11(柏林电影节)</td>\n",
       "      <td>卢燕 / 凌峰 / 徐才根 / 马晓晴 / 莫小棋</td>\n",
       "      <td>中国大陆</td>\n",
       "      <td>Apart Together</td>\n",
       "      <td>...</td>\n",
       "      <td>97分钟</td>\n",
       "      <td>剧情 / 家庭</td>\n",
       "      <td>金娜 / 王全安</td>\n",
       "      <td>上海话 / 汉语普通话</td>\n",
       "      <td>5</td>\n",
       "      <td>0.177</td>\n",
       "      <td>0.497</td>\n",
       "      <td>0.283</td>\n",
       "      <td>0.034</td>\n",
       "      <td>0.008</td>\n",
       "    </tr>\n",
       "    <tr>\n",
       "      <th>1</th>\n",
       "      <td>tt1810602</td>\n",
       "      <td>999.0</td>\n",
       "      <td>6.0</td>\n",
       "      <td>非诚勿扰2</td>\n",
       "      <td>216051.0</td>\n",
       "      <td>6.5</td>\n",
       "      <td>2010-12-22(中国大陆)</td>\n",
       "      <td>葛优 / 舒淇 / 孙红雷 / 姚晨 / 安以轩 / 邵兵 / 廖凡 / 邬逸聪 / 关晓...</td>\n",
       "      <td>中国大陆</td>\n",
       "      <td>不省心 / If You Are The One 2</td>\n",
       "      <td>...</td>\n",
       "      <td>120分钟</td>\n",
       "      <td>喜剧 / 爱情</td>\n",
       "      <td>王朔 / 冯小刚</td>\n",
       "      <td>汉语普通话</td>\n",
       "      <td>15</td>\n",
       "      <td>0.077</td>\n",
       "      <td>0.285</td>\n",
       "      <td>0.486</td>\n",
       "      <td>0.124</td>\n",
       "      <td>0.029</td>\n",
       "    </tr>\n",
       "  </tbody>\n",
       "</table>\n",
       "<p>2 rows × 21 columns</p>\n",
       "</div>"
      ],
      "text/plain": [
       "      imdb_id  imdb_n_comment  imdb_score   name  rating_people  score  \\\n",
       "0   tt1587878           222.0         7.0     团圆         4247.0    7.6   \n",
       "1   tt1810602           999.0         6.0  非诚勿扰2       216051.0    6.5   \n",
       "\n",
       "                                    上映日期  \\\n",
       "0   2013-09-19(中国大陆) / 2010-02-11(柏林电影节)   \n",
       "1                       2010-12-22(中国大陆)   \n",
       "\n",
       "                                                  主演 制片国家/地区  \\\n",
       "0                          卢燕 / 凌峰 / 徐才根 / 马晓晴 / 莫小棋    中国大陆   \n",
       "1   葛优 / 舒淇 / 孙红雷 / 姚晨 / 安以轩 / 邵兵 / 廖凡 / 邬逸聪 / 关晓...    中国大陆   \n",
       "\n",
       "                            又名  ...        片长        类型         编剧  \\\n",
       "0               Apart Together  ...      97分钟   剧情 / 家庭   金娜 / 王全安   \n",
       "1   不省心 / If You Are The One 2  ...     120分钟   喜剧 / 爱情   王朔 / 冯小刚   \n",
       "\n",
       "             语言 主演人数     r5     r4     r3     r2     r1  \n",
       "0   上海话 / 汉语普通话    5  0.177  0.497  0.283  0.034  0.008  \n",
       "1         汉语普通话   15  0.077  0.285  0.486  0.124  0.029  \n",
       "\n",
       "[2 rows x 21 columns]"
      ]
     },
     "execution_count": 2,
     "metadata": {},
     "output_type": "execute_result"
    }
   ],
   "source": [
    "# 读取数据\n",
    "\n",
    "import os\n",
    "os.chdir('C:/Users/Hjx/Desktop/')\n",
    "\n",
    "df = pd.read_excel('豆瓣电影数据.xlsx',sheetname=0,header=0)\n",
    "print('数据总共%i条' % len(df))\n",
    "print('数据字段为：\\n',df.columns.tolist())\n",
    "df.head(2)\n",
    "# 查看数据"
   ]
  },
  {
   "cell_type": "code",
   "execution_count": 3,
   "metadata": {
    "collapsed": false
   },
   "outputs": [
    {
     "name": "stdout",
     "output_type": "stream",
     "text": [
      "    name    导演                                                 主演\n",
      "0     团圆   王全安                          卢燕 / 凌峰 / 徐才根 / 马晓晴 / 莫小棋\n",
      "1  非诚勿扰2   冯小刚   葛优 / 舒淇 / 孙红雷 / 姚晨 / 安以轩 / 邵兵 / 廖凡 / 邬逸聪 / 关晓...\n",
      "-------\n",
      "    yy0  yy1   yy2   yy3   yy4   yy5   yy6   yy7   yy8   yy9  ...   yy55  \\\n",
      "0   卢燕   凌峰   徐才根   马晓晴    莫小棋  None  None  None  None  None  ...   None   \n",
      "1   葛优   舒淇   孙红雷    姚晨   安以轩    邵兵    廖凡   邬逸聪   关晓彤   窦文涛   ...   None   \n",
      "\n",
      "   yy56  yy57  yy58  yy59  yy60  yy61  yy62  yy63  yy64  \n",
      "0  None  None  None  None  None  None  None  None  None  \n",
      "1  None  None  None  None  None  None  None  None  None  \n",
      "\n",
      "[2 rows x 65 columns]\n",
      "-------\n",
      "    dy0   dy1   dy2   dy3   dy4   dy5   dy6   dy7   dy8   dy9  dy10  dy11\n",
      "0   王全安  None  None  None  None  None  None  None  None  None  None  None\n",
      "1   冯小刚  None  None  None  None  None  None  None  None  None  None  None\n",
      "-------\n",
      "    dy0   dy1   dy2   dy3   dy4   dy5   dy6   dy7   dy8   dy9  ...    yy56  \\\n",
      "0   王全安  None  None  None  None  None  None  None  None  None  ...    None   \n",
      "1   冯小刚  None  None  None  None  None  None  None  None  None  ...    None   \n",
      "\n",
      "   yy57  yy58  yy59  yy60  yy61  yy62  yy63  yy64   name  \n",
      "0  None  None  None  None  None  None  None  None     团圆  \n",
      "1  None  None  None  None  None  None  None  None  非诚勿扰2  \n",
      "\n",
      "[2 rows x 78 columns]\n"
     ]
    }
   ],
   "source": [
    "# 数据清洗\n",
    "\n",
    "data = df[['name','导演','主演']]\n",
    "print(data.head(2))\n",
    "print('-------')\n",
    "# 查看数据\n",
    "\n",
    "data.dropna(inplace=True)  \n",
    "# 删除缺失值\n",
    "\n",
    "data_yy = data['主演'].str.split('/ ', expand=True)  \n",
    "col_len1 = len(data_yy.columns)\n",
    "data_yy.columns = ['yy'+str(i) for i in range(col_len1)]\n",
    "print(data_yy.head(2))\n",
    "print('-------')\n",
    "# 演员数据分列\n",
    "\n",
    "data_dy = data['导演'].str.split('/ ', expand=True) \n",
    "col_len2 = len(data_dy.columns)\n",
    "data_dy.columns = ['dy'+str(i) for i in range(col_len2)]\n",
    "print(data_dy.head(2))\n",
    "print('-------')\n",
    "# 导演数据分列\n",
    "\n",
    "data2 = data_dy.join(data_yy).join(data['name'])\n",
    "print(data2.head(2))\n",
    "# 数据合并\n",
    "\n",
    "#data2[data2['yy64'].notnull()]  # 可以看看分出64个演员的数据 → 海角七号"
   ]
  },
  {
   "cell_type": "code",
   "execution_count": 4,
   "metadata": {
    "collapsed": false
   },
   "outputs": [
    {
     "name": "stdout",
     "output_type": "stream",
     "text": [
      "       name    导演     演员\n",
      "0        团圆   王全安    卢燕 \n",
      "1     非诚勿扰2   冯小刚    葛优 \n",
      "2     无蝉的夏天    苗月   吕聿来 \n",
      "3  狄仁杰之通天帝国    徐克   刘德华 \n",
      "4     我是植物人    王竞   李乃文 \n"
     ]
    }
   ],
   "source": [
    "# 数据拆分、合并\n",
    "\n",
    "data_re = pd.DataFrame(columns=['name','导演','演员'])  \n",
    "# 创建一个空的Dataframe\n",
    "\n",
    "col_yy = data_yy.columns\n",
    "col_dy = data_dy.columns\n",
    "# 提取演员、导演的列名\n",
    "\n",
    "for dy in col_dy:\n",
    "    for yy in col_yy:\n",
    "        data_i = data2[['name',dy,yy]].dropna()  # 提取数据\n",
    "        data_i.columns = ['name','导演','演员']  # 列名重命名\n",
    "        #print(data_i)\n",
    "        data_re = pd.concat([data_re,data_i])    # 添加数据\n",
    "print(data_re.head())\n",
    "# 遍历数据后，得到一个导演与演员的关系数据，并做去重处理\n",
    "# 这里index是有重复的，但作为过程数据可忽略"
   ]
  },
  {
   "cell_type": "code",
   "execution_count": 5,
   "metadata": {
    "collapsed": false
   },
   "outputs": [
    {
     "name": "stdout",
     "output_type": "stream",
     "text": [
      "       导演    演员  合作次数\n",
      "0   (小)徐克   张欣      2\n",
      "1   (小)徐克   黄莺      1\n",
      "2   (小)徐克   刘彬      1\n",
      "3   (小)徐克   叶露      1\n",
      "4   (小)徐克   姜玉玲     2\n",
      "finished！\n"
     ]
    }
   ],
   "source": [
    "# 汇总统计导演和演员的合作次数\n",
    "\n",
    "result = data_re.groupby(['导演','演员']).count()\n",
    "result.reset_index(inplace=True)\n",
    "result.columns = ['导演','演员','合作次数']\n",
    "print(result.head())\n",
    "# 按照导演-演员进行计数统计，得到结果数据\n",
    "# reset_index() → 将所有索引级别转换为列\n",
    "\n",
    "writer = pd.ExcelWriter('output.xlsx')\n",
    "result.to_excel(writer,'sheet1')\n",
    "writer.save()\n",
    "# 存为excel\n",
    "# 注意：output.xlsx文件不能是打开状态\n",
    "\n",
    "print('finished！')"
   ]
  }
 ],
 "metadata": {
  "anaconda-cloud": {},
  "kernelspec": {
   "display_name": "Python [default]",
   "language": "python",
   "name": "python3"
  },
  "language_info": {
   "codemirror_mode": {
    "name": "ipython",
    "version": 3
   },
   "file_extension": ".py",
   "mimetype": "text/x-python",
   "name": "python",
   "nbconvert_exporter": "python",
   "pygments_lexer": "ipython3",
   "version": "3.5.2"
  }
 },
 "nbformat": 4,
 "nbformat_minor": 1
}
