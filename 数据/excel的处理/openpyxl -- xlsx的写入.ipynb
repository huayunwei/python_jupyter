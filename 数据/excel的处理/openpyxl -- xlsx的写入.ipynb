{
 "cells": [
  {
   "cell_type": "markdown",
   "metadata": {},
   "source": [
    "- 没有删除功能的"
   ]
  },
  {
   "cell_type": "markdown",
   "metadata": {},
   "source": [
    "# workbook对象\n",
    "## 1.获取workbook对象 -- 即excel\n",
    "- 1.没有excel，进行创建 -- Workbook()\n",
    "- 2.有excel，进行获取 -- load_workbook(filepath)"
   ]
  },
  {
   "cell_type": "code",
   "execution_count": null,
   "metadata": {},
   "outputs": [],
   "source": [
    "import openpyxl\n",
    "# 创建一个excel\n",
    "wb = openpyxl.Workbook()\n",
    "\n",
    "# 获取一个已有的excel\n",
    "wb = openpyxl.load_workbook('c:\\1.xlsx')"
   ]
  },
  {
   "cell_type": "markdown",
   "metadata": {},
   "source": [
    "## 2.workbook属性\n",
    "- sheetnames：返回所有WorkSheet的名字列表，类型为list\n",
    "- worksheets：返回所有WorkSheet的列表，类型为list\n",
    "- active：返回当前默认选中的workSheet,首次获取或创建的excel一般为第一个sheet页"
   ]
  },
  {
   "cell_type": "code",
   "execution_count": null,
   "metadata": {},
   "outputs": [],
   "source": [
    "wb.sheetnames\n",
    "wb.worksheets\n",
    "table = wb.active"
   ]
  },
  {
   "cell_type": "markdown",
   "metadata": {},
   "source": [
    "## 3.Workbook方法\n",
    "- get_sheet_names()：同sheetnames，返回所有WorkSheet的名字列表，类型为list\n",
    "- get_active_sheet()：同active，返回当前默认选中的workSheet\n",
    "- get_sheet_by_name(name)：根据sheet页的名字获取sheet\n",
    "- remove(worksheet)：删除一个workSheet\n",
    "- save(filepath)：保存到文件"
   ]
  },
  {
   "cell_type": "markdown",
   "metadata": {},
   "source": [
    "# workSheet对象"
   ]
  },
  {
   "cell_type": "markdown",
   "metadata": {},
   "source": [
    "## 1.获取workSheet对象\n",
    "- wb.active：获取当前excel的活动sheet页\n",
    "- wb['sheetName']：根据sheetName的名字获取sheet页\n",
    "- wb.create_sheet(title,index)：创建一个sheet页，title为sheet页的名字，index为sheet页的位置，默认插到最后\n",
    "- wb.copy_worksheet(ws)：复制一个sheet"
   ]
  },
  {
   "cell_type": "markdown",
   "metadata": {},
   "source": [
    "## 2.WorkSheet属性\n",
    "- rows：返回所有有效数据行，有数据时为generator，无数据时为tuple\n",
    "- columns：返回所有有效数据列，类型同rows\n",
    "- max_column：有效数据最大列\n",
    "- max_row：有效数据最大行\n",
    "- min_column：有效数据最小列，起始为1\n",
    "- min_row：有效数据最大列，起始为1\n",
    "- values：返回所有单元格的值得列表，类型为tuple\n",
    "- title：sheet页的名字，可设置"
   ]
  },
  {
   "cell_type": "markdown",
   "metadata": {},
   "source": [
    "## 3.WorkSheet方法\n",
    "- cell(coordinate=None,row=None,column=None,value=None)：获取指定单元格或设置单元格的值\n",
    "- iter_rows()：\n",
    "- iter_cols()："
   ]
  },
  {
   "cell_type": "markdown",
   "metadata": {},
   "source": [
    "# cell -- 单元格"
   ]
  },
  {
   "cell_type": "markdown",
   "metadata": {},
   "source": [
    "## 1.获取单元格\n",
    "- ws.cell('A1')：通过cell的名字来获取单元格\n",
    "- ws.cell(row=1,column=1)：通过row和column获取单元格\n",
    "- ws['A1']：通过cell的名字来获取单元格\n",
    "- ws['A1-E5']：获取多行数据，类型为tuple"
   ]
  },
  {
   "cell_type": "markdown",
   "metadata": {},
   "source": [
    "## 2.设置cell的值\n",
    "- ws.cell(row=1,column=1,value=10)：直接使用workSheet的cell方法设置\n",
    "- ws.cell('A1').value = 'xxx'：设置cell对象的value属性\n",
    "- ws.append([1,2,34])：写入多个单元格，值为1,2,34"
   ]
  },
  {
   "cell_type": "markdown",
   "metadata": {},
   "source": [
    "## 3.Cell属性\n",
    "- column：所在列，起始为1\n",
    "- row：所在行，起始为1\n",
    "- coordinate：所在坐标\n",
    "- parent：所属的worksheet\n",
    "- value：单元格的值"
   ]
  },
  {
   "cell_type": "markdown",
   "metadata": {},
   "source": [
    "## cell方法\n",
    "- offset(row=0,column=0)：偏移"
   ]
  },
  {
   "cell_type": "code",
   "execution_count": null,
   "metadata": {},
   "outputs": [],
   "source": [
    "# 使用公式\n",
    "from openpyxl import Workbook\n",
    "from openpyxl import load_workbook\n",
    "\n",
    "wb = load_workbook('e:\\\\sample.xlsx')\n",
    "ws1=wb.active\n",
    "\n",
    "ws1[\"A1\"]=1\n",
    "ws1[\"A2\"]=2\n",
    "ws1[\"A3\"]=3\n",
    "\n",
    "ws1[\"A4\"] = \"=SUM(1, 1)\"\n",
    "ws1[\"A5\"] = \"=SUM(A1:A3)\"\n",
    "\n",
    "print ws1[\"A4\"].value  #打印的是公式内容，不是公式计算后的值,程序无法取到计算后的值\n",
    "print ws1[\"A5\"].value  #打印的是公式内容，不是公式计算后的值,程序无法取到计算后的值\n",
    "\n",
    "# Save the file\n",
    "wb.save(\"e:\\\\sample.xlsx\")"
   ]
  },
  {
   "cell_type": "code",
   "execution_count": null,
   "metadata": {},
   "outputs": [],
   "source": [
    "# 合并单元格\n",
    "# -*- coding: utf-8 -*-\n",
    "from openpyxl import Workbook\n",
    "from openpyxl import load_workbook\n",
    "\n",
    "wb = load_workbook('e:\\\\sample.xlsx')\n",
    "ws1=wb.active\n",
    "\n",
    "ws.merge_cells('A2:D2')\n",
    "ws.unmerge_cells('A2:D2')  #合并后的单元格，脚本单独执行拆分操作会报错，需要重新执行合并操作再拆分\n",
    "\n",
    "# or equivalently\n",
    "ws.merge_cells(start_row=2,start_column=1,end_row=2,end_column=4)\n",
    "ws.unmerge_cells(start_row=2,start_column=1,end_row=2,end_column=4)\n",
    "\n",
    "# Save the file\n",
    "wb.save(\"e:\\\\sample.xlsx\")"
   ]
  },
  {
   "cell_type": "code",
   "execution_count": null,
   "metadata": {},
   "outputs": [],
   "source": [
    "# 隐藏单元格\n",
    "from openpyxl import load_workbook\n",
    "from openpyxl.drawing.image import Image\n",
    "\n",
    "wb = load_workbook('e:\\\\sample.xlsx')\n",
    "ws1=wb.active\n",
    "\n",
    "ws1.column_dimensions.group('A', 'D', hidden=True)   #隐藏a到d列范围内的列\n",
    "#ws1.row_dimensions 无group方法\n",
    "# Save the file\n",
    "wb.save(\"e:\\\\sample.xlsx\")"
   ]
  },
  {
   "cell_type": "code",
   "execution_count": null,
   "metadata": {},
   "outputs": [],
   "source": [
    "# 设置单元格的字体颜色\n",
    "from openpyxl import Workbook\n",
    "from openpyxl.styles import colors\n",
    "from openpyxl.styles import Font\n",
    "\n",
    "wb = Workbook()\n",
    "ws = wb.active\n",
    "\n",
    "a1 = ws['A1']\n",
    "d4 = ws['D4']\n",
    "ft = Font(color=colors.RED)  # color=\"FFBB00\"，颜色编码也可以设定颜色\n",
    "a1.font = ft\n",
    "d4.font = ft\n",
    "\n",
    "# If you want to change the color of a Font, you need to reassign it::\n",
    "#italic 倾斜字体\n",
    "a1.font = Font(color=colors.RED, italic=True) # the change only affects A1\n",
    "a1.value = \"abc\"\n",
    "\n",
    "# Save the file\n",
    "wb.save(\"e:\\\\sample.xlsx\")"
   ]
  },
  {
   "cell_type": "code",
   "execution_count": null,
   "metadata": {},
   "outputs": [],
   "source": [
    "# 设置字体和大小\n",
    "from openpyxl import Workbook\n",
    "from openpyxl.styles import colors\n",
    "from openpyxl.styles import Font\n",
    "\n",
    "wb = Workbook()\n",
    "ws = wb.active\n",
    "\n",
    "a1 = ws['A1']\n",
    "d4 = ws['D4']\n",
    "a1.value = \"abc\"\n",
    "\n",
    "from openpyxl.styles import Font\n",
    "from copy import copy\n",
    "\n",
    "ft1 = Font(name=u'宋体', size=14)\n",
    "ft2 = copy(ft1)   #复制字体对象\n",
    "ft2.name = \"Tahoma\"\n",
    "\n",
    "print ft1.name\n",
    "print ft2.name\n",
    "print ft2.size # copied from the\n",
    "\n",
    "a1.font = ft1\n",
    "# Save the file\n",
    "wb.save(\"e:\\\\sample.xlsx\")"
   ]
  },
  {
   "cell_type": "code",
   "execution_count": null,
   "metadata": {},
   "outputs": [],
   "source": [
    "# 设置行和列的字体\n",
    "from openpyxl import Workbook\n",
    "from openpyxl.styles import Font\n",
    "wb = Workbook()\n",
    "ws = wb.active\n",
    "\n",
    "col = ws.column_dimensions['A']\n",
    "col.font = Font(bold=True)   #将A列设定为粗体\n",
    "row = ws.row_dimensions[1]\n",
    "row.font = Font(underline=\"single\")  #将第一行设定为下划线格式\n",
    "\n",
    "# Save the file\n",
    "wb.save(\"e:\\\\sample.xlsx\")"
   ]
  },
  {
   "cell_type": "code",
   "execution_count": null,
   "metadata": {},
   "outputs": [],
   "source": [
    "# 设置单元格的边框、字体、颜色、大小和边框背景色\n",
    "from openpyxl import Workbook\n",
    "from openpyxl.styles import Font\n",
    "from openpyxl.styles import NamedStyle, Font, Border, Side,PatternFill\n",
    "\n",
    "wb = Workbook()\n",
    "ws = wb.active\n",
    "\n",
    "highlight = NamedStyle(name=\"highlight\")\n",
    "highlight.font = Font(bold=True, size=20,color= \"ff0100\")\n",
    "highlight.fill = PatternFill(\"solid\", fgColor=\"DDDDDD\")#背景填充\n",
    "bd = Side(style='thick', color=\"000000\")\n",
    "highlight.border = Border(left=bd, top=bd, right=bd, bottom=bd)\n",
    "\n",
    "print dir(ws[\"A1\"])\n",
    "ws[\"A1\"].style =highlight\n",
    "\n",
    "# Save the file\n",
    "wb.save(\"e:\\\\sample.xlsx\")"
   ]
  }
 ],
 "metadata": {
  "kernelspec": {
   "display_name": "Python 3",
   "language": "python",
   "name": "python3"
  },
  "language_info": {
   "codemirror_mode": {
    "name": "ipython",
    "version": 3
   },
   "file_extension": ".py",
   "mimetype": "text/x-python",
   "name": "python",
   "nbconvert_exporter": "python",
   "pygments_lexer": "ipython3",
   "version": "3.7.0"
  }
 },
 "nbformat": 4,
 "nbformat_minor": 2
}
