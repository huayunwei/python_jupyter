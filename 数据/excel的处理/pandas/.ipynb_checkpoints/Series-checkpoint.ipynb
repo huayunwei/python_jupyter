{
 "cells": [
  {
   "cell_type": "markdown",
   "metadata": {},
   "source": [
    "# Series\n",
    "- 带有标签的一维数组，可以保存任何数据类型（整数，字符串，浮点数，python对象等），轴标签统称为索引"
   ]
  },
  {
   "cell_type": "code",
   "execution_count": 1,
   "metadata": {},
   "outputs": [
    {
     "name": "stdout",
     "output_type": "stream",
     "text": [
      "0    0.862635\n",
      "1    0.313600\n",
      "2    0.579789\n",
      "3    0.712433\n",
      "4    0.312322\n",
      "dtype: float64\n",
      "<class 'pandas.core.series.Series'>\n",
      "RangeIndex(start=0, stop=5, step=1) <class 'pandas.core.indexes.range.RangeIndex'>\n",
      "[0.8626352  0.31360002 0.57978888 0.7124334  0.3123223 ] <class 'numpy.ndarray'>\n"
     ]
    }
   ],
   "source": [
    "import numpy as np\n",
    "import pandas as pd\n",
    "\n",
    "s = pd.Series(np.random.rand(5))\n",
    "print(s)\n",
    "print(type(s))\n",
    "\n",
    "# .index查看series索引值，类型为rangeindex\n",
    "# .values查看serirs值，类型是ndarray\n",
    "print(s.index,type(s.index))\n",
    "print(s.values,type(s.values))"
   ]
  },
  {
   "cell_type": "markdown",
   "metadata": {},
   "source": [
    "# Series创建方法"
   ]
  },
  {
   "cell_type": "code",
   "execution_count": 2,
   "metadata": {},
   "outputs": [
    {
     "name": "stdout",
     "output_type": "stream",
     "text": [
      "a    1\n",
      "b    2\n",
      "c    3\n",
      "4    4\n",
      "5    5\n",
      "dtype: int64\n"
     ]
    }
   ],
   "source": [
    "# 1.通过字典创建，字典的key就是index，values就是values\n",
    "dic = {'a':1,'b':2,'c':3,'4':4,'5':5}\n",
    "s = pd.Series(dic)\n",
    "print(s)"
   ]
  },
  {
   "cell_type": "code",
   "execution_count": 4,
   "metadata": {},
   "outputs": [
    {
     "name": "stdout",
     "output_type": "stream",
     "text": [
      "[-2.13484296 -0.74861614 -0.79320521  0.25209303 -0.60185881]\n",
      "0   -2.134843\n",
      "1   -0.748616\n",
      "2   -0.793205\n",
      "3    0.252093\n",
      "4   -0.601859\n",
      "dtype: float64\n",
      "a    -2.13484\n",
      "b   -0.748616\n",
      "c   -0.793205\n",
      "d    0.252093\n",
      "e   -0.601859\n",
      "dtype: object\n"
     ]
    }
   ],
   "source": [
    "# 方法2：由数组创建(一维数组)\n",
    "# 默认index是从0开始，步长为1的数字\n",
    "arr = np.random.randn(5)\n",
    "s = pd.Series(arr)\n",
    "print(arr)\n",
    "print(s)\n",
    "\n",
    "# 设置index和dtype\n",
    "s = pd.Series(arr,index=['a','b','c','d','e'],dtype=np.object)\n",
    "print(s)"
   ]
  },
  {
   "cell_type": "code",
   "execution_count": 5,
   "metadata": {},
   "outputs": [
    {
     "name": "stdout",
     "output_type": "stream",
     "text": [
      "0    10\n",
      "1    10\n",
      "2    10\n",
      "3    10\n",
      "dtype: int64\n"
     ]
    }
   ],
   "source": [
    "# 方法3：由标量创建\n",
    "# 如果data是标量，则必须提供索引，该值会重复，来匹配索引的长度\n",
    "s = pd.Series(10,index=range(4))\n",
    "print(s)"
   ]
  },
  {
   "cell_type": "code",
   "execution_count": 6,
   "metadata": {},
   "outputs": [
    {
     "name": "stdout",
     "output_type": "stream",
     "text": [
      "0   -0.312242\n",
      "1   -0.878823\n",
      "2    1.251027\n",
      "3   -0.603434\n",
      "4   -0.239842\n",
      "dtype: float64\n",
      "----------\n",
      "0   -0.577718\n",
      "1   -1.400919\n",
      "2   -0.166261\n",
      "3   -0.274031\n",
      "4   -0.639755\n",
      "Name: test, dtype: float64\n",
      "None test <class 'str'>\n",
      "0   -0.577718\n",
      "1   -1.400919\n",
      "2   -0.166261\n",
      "3   -0.274031\n",
      "4   -0.639755\n",
      "Name: hehehe, dtype: float64\n",
      "hehehe test\n"
     ]
    }
   ],
   "source": [
    "# Series 名称属性：name\n",
    "# name为Series的一个参数，创建一个数组的名称\n",
    "# .name方法：输出数组的名称，输出格式为str，如果没有定义输出名称，输出为None\n",
    "s1 = pd.Series(np.random.randn(5))\n",
    "print(s1)\n",
    "print('-'*10)\n",
    "s2 = pd.Series(np.random.randn(5),name='test')\n",
    "print(s2)\n",
    "print(s1.name,s2.name,type(s2.name))\n",
    "\n",
    "# .rename()重命名一个数组的名称，并且新指向一个数组，原数组不变\n",
    "s3 = s2.rename('hehehe')\n",
    "print(s3)\n",
    "print(s3.name,s2.name)"
   ]
  },
  {
   "cell_type": "code",
   "execution_count": 7,
   "metadata": {},
   "outputs": [
    {
     "name": "stdout",
     "output_type": "stream",
     "text": [
      "0    0.983443\n",
      "1    0.736079\n",
      "2    0.933357\n",
      "3    0.893932\n",
      "4    0.025307\n",
      "dtype: float64\n",
      "0.9834433471356109 <class 'numpy.float64'> float64\n",
      "0.9834433471356109 <class 'float'>\n",
      "a    0.130533\n",
      "b    0.064540\n",
      "c    0.527872\n",
      "d    0.869899\n",
      "e    0.797566\n",
      "dtype: float64\n",
      "0.13053266270991903 <class 'numpy.float64'> float64\n",
      "a    0.130533\n",
      "b    0.064540\n",
      "c    0.527872\n",
      "dtype: float64 <class 'pandas.core.series.Series'>\n"
     ]
    }
   ],
   "source": [
    "# Series索引：位置下标，标签索引，切片索引，布尔型索引\n",
    "# 下标索引\n",
    "s = pd.Series(np.random.rand(5))\n",
    "print(s)\n",
    "print(s[0],type(s[0]),s[0].dtype)\n",
    "print(float(s[0]),type(float(s[0])))\n",
    "\n",
    "# 标签索引\n",
    "s = pd.Series(np.random.rand(5),index=['a','b','c','d','e'])\n",
    "print(s)\n",
    "print(s['a'],type(s['a']),s['a'].dtype)\n",
    "\n",
    "# 多个标签\n",
    "sci = s[['a','b','c']]\n",
    "print(sci,type(sci))"
   ]
  },
  {
   "cell_type": "code",
   "execution_count": 8,
   "metadata": {},
   "outputs": [
    {
     "name": "stdout",
     "output_type": "stream",
     "text": [
      "1    0.481887\n",
      "2    0.613715\n",
      "3    0.877353\n",
      "dtype: float64 0.761392416790313\n",
      "a    0.647902\n",
      "b    0.734657\n",
      "c    0.456358\n",
      "dtype: float64 0.4563575526368312\n",
      "a    0.647902\n",
      "b    0.734657\n",
      "c    0.456358\n",
      "dtype: float64 0.4348206606715873\n",
      "----------\n",
      "a    0.647902\n",
      "b    0.734657\n",
      "c    0.456358\n",
      "d    0.434821\n",
      "dtype: float64\n",
      "a    0.647902\n",
      "c    0.456358\n",
      "e    0.347548\n",
      "dtype: float64\n"
     ]
    }
   ],
   "source": [
    "# 切片索引\n",
    "s1 = pd.Series(np.random.rand(5))\n",
    "s2 = pd.Series(np.random.rand(5),index=['a','b','c','d','e'])\n",
    "print(s1[1:4],s1[4])\n",
    "print(s2['a':'c'],s2['c'])\n",
    "print(s2[0:3],s2[3])\n",
    "print('-'*10)\n",
    "\n",
    "print(s2[:-1])\n",
    "print(s2[::2])"
   ]
  },
  {
   "cell_type": "code",
   "execution_count": 9,
   "metadata": {},
   "outputs": [
    {
     "name": "stdout",
     "output_type": "stream",
     "text": [
      "0    27.8466\n",
      "1    88.0153\n",
      "2    92.8496\n",
      "4       None\n",
      "dtype: object\n",
      "0    False\n",
      "1     True\n",
      "2     True\n",
      "4    False\n",
      "dtype: bool <class 'pandas.core.series.Series'> bool\n",
      "0    False\n",
      "1    False\n",
      "2    False\n",
      "4     True\n",
      "dtype: bool <class 'pandas.core.series.Series'> bool\n",
      "0     True\n",
      "1     True\n",
      "2     True\n",
      "4    False\n",
      "dtype: bool <class 'pandas.core.series.Series'> bool\n",
      "----------\n",
      "1    88.0153\n",
      "2    92.8496\n",
      "dtype: object\n",
      "0    27.8466\n",
      "1    88.0153\n",
      "2    92.8496\n",
      "dtype: object\n"
     ]
    }
   ],
   "source": [
    "# 布尔型索引\n",
    "s = pd.Series(np.random.rand(3)*100)\n",
    "s[4] = None\n",
    "print(s)\n",
    "bs1 = s > 50\n",
    "bs2 = s.isnull() # .isnull - 判断是否为空值（None代表空值，NaN代表有问题的数值，两个都会识别为空值）\n",
    "bs3 = s.notnull() # .notnull \n",
    "print(bs1,type(bs1),bs1.dtype)\n",
    "print(bs2,type(bs2),bs2.dtype)\n",
    "print(bs3,type(bs3),bs3.dtype)\n",
    "print('-'*10)\n",
    "\n",
    "# 布尔型索引方法\n",
    "print(s[s > 50])\n",
    "print(s[bs3])"
   ]
  },
  {
   "cell_type": "markdown",
   "metadata": {},
   "source": [
    "# Series基本技巧"
   ]
  },
  {
   "cell_type": "code",
   "execution_count": 10,
   "metadata": {},
   "outputs": [
    {
     "name": "stdout",
     "output_type": "stream",
     "text": [
      "0    0.970346\n",
      "1    0.845211\n",
      "2    0.935872\n",
      "3    0.958179\n",
      "4    0.524690\n",
      "5    0.877036\n",
      "6    0.140658\n",
      "7    0.564132\n",
      "8    0.091039\n",
      "9    0.254349\n",
      "dtype: float64\n",
      "45    0.911409\n",
      "46    0.023389\n",
      "47    0.930987\n",
      "48    0.158886\n",
      "49    0.616344\n",
      "dtype: float64\n"
     ]
    }
   ],
   "source": [
    "# 数据查看\n",
    "# .head()查看头部数据\n",
    "# .tail()查看尾部数据\n",
    "s = pd.Series(np.random.rand(50))\n",
    "print(s.head(10))\n",
    "print(s.tail())"
   ]
  },
  {
   "cell_type": "code",
   "execution_count": null,
   "metadata": {},
   "outputs": [],
   "source": [
    "# 重新索引reindex\n",
    "# .reindex将会根据索引重新排序，如果当前索引不存在，则引入缺失值\n",
    "s = pd.Series(np.random.rand(3),index=['a','b','c'])\n",
    "print(s)\n",
    "s1 = s.reindex(['c','b','a','d'])\n",
    "print(s1)\n",
    "\n",
    "# fill_value参数：填充缺失值的值\n",
    "s2 = s.reindex(['c','b','a','d'],fill_value=0)\n",
    "print(s2)"
   ]
  },
  {
   "cell_type": "code",
   "execution_count": 13,
   "metadata": {},
   "outputs": [
    {
     "name": "stdout",
     "output_type": "stream",
     "text": [
      "n    0.727622\n",
      "g    0.908325\n",
      "j    0.391960\n",
      "u    0.985895\n",
      "r    0.119303\n",
      "dtype: float64\n",
      "n    0.727622\n",
      "g    0.908325\n",
      "j    0.391960\n",
      "u    0.985895\n",
      "r    0.119303\n",
      "dtype: float64\n",
      "g    0.908325\n",
      "j    0.391960\n",
      "u    0.985895\n",
      "r    0.119303\n",
      "dtype: float64\n",
      "n    0.727622\n",
      "u    0.985895\n",
      "r    0.119303\n",
      "dtype: float64\n"
     ]
    }
   ],
   "source": [
    "# 删除：.drop,删除后返回副本(inplace=False)\n",
    "s = pd.Series(np.random.rand(5),index=list('ngjur'))\n",
    "print(s)\n",
    "s1 = s.drop('n')\n",
    "s2 = s.drop(['g','j'])\n",
    "print(s)\n",
    "print(s1)\n",
    "print(s2)"
   ]
  },
  {
   "cell_type": "code",
   "execution_count": 14,
   "metadata": {},
   "outputs": [
    {
     "name": "stdout",
     "output_type": "stream",
     "text": [
      "0    0.731020\n",
      "1    0.591488\n",
      "2    0.672731\n",
      "3    0.474557\n",
      "4    0.968795\n",
      "dtype: float64\n",
      "n    0.217407\n",
      "g    0.326707\n",
      "j    0.010252\n",
      "u    0.298753\n",
      "r    0.951276\n",
      "dtype: float64\n",
      "0      0.731020\n",
      "1      0.591488\n",
      "2      0.672731\n",
      "3      0.474557\n",
      "4      0.968795\n",
      "5    100.000000\n",
      "dtype: float64\n",
      "n      0.217407\n",
      "g      0.326707\n",
      "j      0.010252\n",
      "u      0.298753\n",
      "r      0.951276\n",
      "a    100.000000\n",
      "dtype: float64\n",
      "----------\n",
      "0      0.731020\n",
      "1      0.591488\n",
      "2      0.672731\n",
      "3      0.474557\n",
      "4      0.968795\n",
      "5    100.000000\n",
      "n      0.217407\n",
      "g      0.326707\n",
      "j      0.010252\n",
      "u      0.298753\n",
      "r      0.951276\n",
      "a    100.000000\n",
      "dtype: float64\n",
      "0      0.731020\n",
      "1      0.591488\n",
      "2      0.672731\n",
      "3      0.474557\n",
      "4      0.968795\n",
      "5    100.000000\n",
      "dtype: float64\n"
     ]
    }
   ],
   "source": [
    "# 添加\n",
    "# 通过下标添加\n",
    "s1 = pd.Series(np.random.rand(5))\n",
    "s2 = pd.Series(np.random.rand(5),index=list('ngjur'))\n",
    "print(s1)\n",
    "print(s2)\n",
    "s1[5] = 100\n",
    "s2['a'] = 100\n",
    "print(s1)\n",
    "print(s2)\n",
    "print('-'*10)\n",
    "\n",
    "# 通过append添加，生成新数组，不改变之前的数组\n",
    "s3 = s1.append(s2)\n",
    "print(s3)\n",
    "print(s1)"
   ]
  },
  {
   "cell_type": "code",
   "execution_count": 15,
   "metadata": {},
   "outputs": [
    {
     "name": "stdout",
     "output_type": "stream",
     "text": [
      "a    0.506596\n",
      "b    0.357606\n",
      "c    0.785010\n",
      "dtype: float64\n",
      "a    100.0\n",
      "b    200.0\n",
      "c    200.0\n",
      "dtype: float64\n"
     ]
    }
   ],
   "source": [
    "# 修改，通过下标直接修改\n",
    "s = pd.Series(np.random.rand(3),index=['a','b','c'])\n",
    "print(s)\n",
    "s['a'] = 100\n",
    "s[['b','c']] = 200\n",
    "print(s)"
   ]
  },
  {
   "cell_type": "code",
   "execution_count": null,
   "metadata": {},
   "outputs": [],
   "source": []
  }
 ],
 "metadata": {
  "kernelspec": {
   "display_name": "Python 3",
   "language": "python",
   "name": "python3"
  },
  "language_info": {
   "codemirror_mode": {
    "name": "ipython",
    "version": 3
   },
   "file_extension": ".py",
   "mimetype": "text/x-python",
   "name": "python",
   "nbconvert_exporter": "python",
   "pygments_lexer": "ipython3",
   "version": "3.7.0"
  }
 },
 "nbformat": 4,
 "nbformat_minor": 2
}
