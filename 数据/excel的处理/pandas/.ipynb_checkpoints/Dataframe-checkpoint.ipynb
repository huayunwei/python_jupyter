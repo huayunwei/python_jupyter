{
 "cells": [
  {
   "cell_type": "markdown",
   "metadata": {},
   "source": [
    "# Dataframe\n",
    "- 二维数组Dataframe：是一个表格型的数据结构，包含一组有序的列，其列的值类型可以是数值，字符串，布尔值等\n",
    "- Dataframe中的数据以一个或多个二维块存放，不是列表、字典或一维数组结构"
   ]
  },
  {
   "cell_type": "code",
   "execution_count": 2,
   "metadata": {},
   "outputs": [
    {
     "name": "stdout",
     "output_type": "stream",
     "text": [
      "  name  age gender\n",
      "0    a    1      m\n",
      "1    b    2      m\n",
      "2    c    3      w\n",
      "<class 'pandas.core.frame.DataFrame'>\n",
      "RangeIndex(start=0, stop=3, step=1) \n",
      "该数据类型为： <class 'pandas.core.indexes.range.RangeIndex'>\n",
      "Index(['name', 'age', 'gender'], dtype='object') \n",
      "该数据类型为 <class 'pandas.core.indexes.base.Index'>\n",
      "[['a' 1 'm']\n",
      " ['b' 2 'm']\n",
      " ['c' 3 'w']] \n",
      "该数据类型为 <class 'numpy.ndarray'>\n"
     ]
    }
   ],
   "source": [
    "import pandas as pd\n",
    "import numpy as np\n",
    "# Dataframe 带有index行标签和columns列标签\n",
    "# .index：查看行标签\n",
    "# .columns：查看列标签\n",
    "# .values：查看值，数据类型为ndarray\n",
    "data = {'name':['a','b','c'],'age':[1,2,3],'gender':['m','m','w']}\n",
    "frame = pd.DataFrame(data)\n",
    "print(frame)\n",
    "print(type(frame))\n",
    "print(frame.index,'\\n该数据类型为：',type(frame.index))\n",
    "print(frame.columns,'\\n该数据类型为',type(frame.columns))\n",
    "print(frame.values,'\\n该数据类型为',type(frame.values))"
   ]
  },
  {
   "cell_type": "markdown",
   "metadata": {},
   "source": [
    "# Dataframe 创建"
   ]
  },
  {
   "cell_type": "code",
   "execution_count": 6,
   "metadata": {},
   "outputs": [
    {
     "name": "stdout",
     "output_type": "stream",
     "text": [
      "{'a': [1, 2, 3], 'b': [4, 5, 6]}\n",
      "{'one': array([0.51410767, 0.83528956, 0.74199338]), 'two': array([0.00354538, 0.96651467, 0.89534564])}\n",
      "   a  b\n",
      "0  1  4\n",
      "1  2  5\n",
      "2  3  6\n",
      "        one       two\n",
      "0  0.514108  0.003545\n",
      "1  0.835290  0.966515\n",
      "2  0.741993  0.895346\n",
      "   b    c  a  b\n",
      "0  4  NaN  1  4\n",
      "1  5  NaN  2  5\n",
      "2  6  NaN  3  6\n",
      "   b    c\n",
      "0  4  NaN\n",
      "1  5  NaN\n",
      "2  6  NaN\n",
      "         one       two\n",
      "f1  0.514108  0.003545\n",
      "f2  0.835290  0.966515\n",
      "f3  0.741993  0.895346\n"
     ]
    }
   ],
   "source": [
    "# Dataframe创建方式一：由数组/list组成的字典\n",
    "# 创建方法：pandas.Dataframe()\n",
    "\n",
    "data1 = {'a':[1,2,3],'b':[4,5,6]}\n",
    "data2 = {'one':np.random.rand(3),'two':np.random.rand(3)}\n",
    "\n",
    "print(data1)\n",
    "print(data2)\n",
    "\n",
    "df1 = pd.DataFrame(data1)\n",
    "df2 = pd.DataFrame(data2)\n",
    "print(df1)\n",
    "print(df2)\n",
    "\n",
    "# columns参数：可以重新指定列的顺序，格式为list，如果现有数据中没有该列，则产生NaN值\n",
    "# 如果columns重新指定时，列的数量可以小于原数据\n",
    "df1 = pd.DataFrame(data1,columns=['b','c','a','b'])\n",
    "print(df1)\n",
    "df1 = pd.DataFrame(data1,columns=['b','c'])\n",
    "print(df1)\n",
    "\n",
    "# index参数：重新定义index，格式为list，长度必须保持一致\n",
    "df2 = pd.DataFrame(data2,index=['f1','f2','f3'])\n",
    "print(df2)"
   ]
  },
  {
   "cell_type": "code",
   "execution_count": 4,
   "metadata": {},
   "outputs": [
    {
     "name": "stdout",
     "output_type": "stream",
     "text": [
      "{'one': 0    0.253376\n",
      "1    0.694209\n",
      "dtype: float64, 'two': 0    0.243005\n",
      "1    0.252494\n",
      "2    0.618899\n",
      "dtype: float64}\n",
      "{'one': a    0.902048\n",
      "b    0.425521\n",
      "dtype: float64, 'two': a    0.969927\n",
      "b    0.848560\n",
      "c    0.361410\n",
      "dtype: float64}\n",
      "        one       two\n",
      "0  0.253376  0.243005\n",
      "1  0.694209  0.252494\n",
      "2       NaN  0.618899\n",
      "        one       two\n",
      "a  0.902048  0.969927\n",
      "b  0.425521  0.848560\n",
      "c       NaN  0.361410\n"
     ]
    }
   ],
   "source": [
    "# 创建方法二：由Series组成的字典\n",
    "# 其中column为字典的key，index为Series的标签（index），如果没有指定index，则是默认数字标签\n",
    "# 如果两行的数量不一致，会默认用NaN代替\n",
    "data1 = {\n",
    "            'one':pd.Series(np.random.rand(2)),\n",
    "            'two':pd.Series(np.random.rand(3))\n",
    "        }\n",
    "data2 = {\n",
    "            'one':pd.Series(np.random.rand(2),index=['a','b']),\n",
    "            'two':pd.Series(np.random.rand(3),index=['a','b','c'])\n",
    "        }\n",
    "print(data1)\n",
    "print(data2)\n",
    "df1 = pd.DataFrame(data1)\n",
    "df2 = pd.DataFrame(data2)\n",
    "print(df1)\n",
    "print(df2)"
   ]
  },
  {
   "cell_type": "code",
   "execution_count": 5,
   "metadata": {},
   "outputs": [
    {
     "name": "stdout",
     "output_type": "stream",
     "text": [
      "[[0.97620446 0.99309431 0.36477411]\n",
      " [0.46306879 0.62926255 0.80124974]\n",
      " [0.87572901 0.58514006 0.98546744]]\n",
      "          0         1         2\n",
      "0  0.976204  0.993094  0.364774\n",
      "1  0.463069  0.629263  0.801250\n",
      "2  0.875729  0.585140  0.985467\n",
      "        one       two     three\n",
      "a  0.976204  0.993094  0.364774\n",
      "b  0.463069  0.629263  0.801250\n",
      "c  0.875729  0.585140  0.985467\n"
     ]
    }
   ],
   "source": [
    "# 创建方法三：通过二维数组直接创建\n",
    "# 如果不指定index和column，两者均为数字\n",
    "# index和column指定长度与数组的长度要一致\n",
    "ar = np.random.rand(9).reshape(3,3)\n",
    "print(ar)\n",
    "df1 = pd.DataFrame(ar)\n",
    "df2 = pd.DataFrame(ar,index=['a','b','c'],columns = ['one','two','three'])\n",
    "print(df1)\n",
    "print(df2)"
   ]
  },
  {
   "cell_type": "code",
   "execution_count": 7,
   "metadata": {},
   "outputs": [
    {
     "name": "stdout",
     "output_type": "stream",
     "text": [
      "   one  three  two\n",
      "0    1    NaN    2\n",
      "1    5   20.0   10\n",
      "   one  three  two\n",
      "a    1    NaN    2\n",
      "b    5   20.0   10\n",
      "   one  two\n",
      "0    1    2\n",
      "1    5   10\n"
     ]
    }
   ],
   "source": [
    "# 创建方法四：由字典组成的列表\n",
    "# columns为字典的key，index不指定为数组的下标\n",
    "data = [{'one':1,'two':2},{'one':5,'two':10,'three':20}]\n",
    "df1 = pd.DataFrame(data)\n",
    "df2 = pd.DataFrame(data,index=['a','b'])\n",
    "df3 = pd.DataFrame(data,columns=['one','two']) # 只指定了两列，如果字典有多余的内容，则删除\n",
    "print(df1)\n",
    "print(df2)\n",
    "print(df3)"
   ]
  },
  {
   "cell_type": "code",
   "execution_count": 15,
   "metadata": {},
   "outputs": [
    {
     "name": "stdout",
     "output_type": "stream",
     "text": [
      "         Jack  Marry   Tom\n",
      "art        78     92   NaN\n",
      "english    89     95  67.0\n",
      "math       90     82  78.0\n",
      "         Jack   Tom  Bob\n",
      "art        78   NaN  NaN\n",
      "english    89  67.0  NaN\n",
      "math       90  78.0  NaN\n"
     ]
    }
   ],
   "source": [
    "# 创建方法五：由字典组成的字典\n",
    "# columns为字典的key，index为子字典的key\n",
    "data = {'Jack':{'math':90,'english':89,'art':78},\n",
    "       'Marry':{'math':82,'english':95,'art':92},\n",
    "       'Tom':{'math':78,'english':67}}\n",
    "df1 = pd.DataFrame(data)\n",
    "print(df1)\n",
    "\n",
    "df2 = pd.DataFrame(data,columns=['Jack','Tom','Bob'])\n",
    "print(df2)"
   ]
  },
  {
   "cell_type": "markdown",
   "metadata": {},
   "source": [
    "# DataFrame方法"
   ]
  },
  {
   "cell_type": "code",
   "execution_count": 17,
   "metadata": {},
   "outputs": [
    {
     "name": "stdout",
     "output_type": "stream",
     "text": [
      "               a          b          c          d\n",
      "one    38.409709  82.563439  51.273076  56.517761\n",
      "two    31.474211  42.202104  24.396734  15.594921\n",
      "three  73.257897  53.145605  54.743648   0.191099\n",
      "one      38.409709\n",
      "two      31.474211\n",
      "three    73.257897\n",
      "Name: a, dtype: float64 <class 'pandas.core.series.Series'>\n",
      "               a          c\n",
      "one    38.409709  51.273076\n",
      "two    31.474211  24.396734\n",
      "three  73.257897  54.743648 <class 'pandas.core.frame.DataFrame'>\n",
      "a    38.409709\n",
      "b    82.563439\n",
      "c    51.273076\n",
      "d    56.517761\n",
      "Name: one, dtype: float64 <class 'pandas.core.series.Series'>\n",
      "             a          b          c          d\n",
      "one  38.409709  82.563439  51.273076  56.517761\n",
      "two  31.474211  42.202104  24.396734  15.594921 <class 'pandas.core.frame.DataFrame'>\n"
     ]
    }
   ],
   "source": [
    "# 选择行与列的返回值\n",
    "df = pd.DataFrame(np.random.rand(12).reshape(3,4)*100,index=['one','two','three'],columns=['a','b','c','d'])\n",
    "print(df)\n",
    "# 按照列名选择列，只选择一列返回Series，选择多列，返回DataFrame\n",
    "data1 = df['a']\n",
    "data2 = df[['a','c']]\n",
    "print(data1,type(data1))\n",
    "print(data2,type(data2))\n",
    "\n",
    "# 按照index选择行，只选择一行输出Series，选择多行输出DataFrame\n",
    "data3 = df.loc['one']\n",
    "data4 = df.loc[['one','two']]\n",
    "print(data3,type(data3))\n",
    "print(data4,type(data4))"
   ]
  },
  {
   "cell_type": "code",
   "execution_count": 3,
   "metadata": {},
   "outputs": [
    {
     "name": "stdout",
     "output_type": "stream",
     "text": [
      "               a          b          c          d\n",
      "one    89.337397  34.899602  84.852295  67.275818\n",
      "two    95.127221  31.345027  39.463871  87.889717\n",
      "three  86.001285  89.032645  48.574998   0.957820\n",
      "one      89.337397\n",
      "two      95.127221\n",
      "three    86.001285\n",
      "Name: a, dtype: float64\n",
      "               b          c\n",
      "one    34.899602  84.852295\n",
      "two    31.345027  39.463871\n",
      "three  89.032645  48.574998\n",
      "             a          b          c          d\n",
      "one  89.337397  34.899602  84.852295  67.275818 <class 'pandas.core.frame.DataFrame'>\n"
     ]
    }
   ],
   "source": [
    "# df[] - 选择列\n",
    "df = pd.DataFrame(np.random.rand(12).reshape(3,4)*100,index=['one','two','three'],columns=['a','b','c','d'])\n",
    "print(df)\n",
    "\n",
    "# df[]默认选择列，[]中写列名\n",
    "data1 = df['a'] # 单选列，返回Series\n",
    "data2 = df[['b','c']]  # 多选列，选择DataFrame\n",
    "print(data1)\n",
    "print(data2)\n",
    "\n",
    "# df[]中为数字时，默认选择行，且只能进行切片的选择，不能单独选择行 -- df[0]\n",
    "# df[]不能通过索引选择行 --- df['one']\n",
    "data3 = df[:1]\n",
    "print(data3,type(data3))"
   ]
  },
  {
   "cell_type": "code",
   "execution_count": 5,
   "metadata": {},
   "outputs": [
    {
     "name": "stdout",
     "output_type": "stream",
     "text": [
      "               a          b          c          d\n",
      "one    71.552037  80.265062  20.951259  72.541999\n",
      "two    32.854276  66.830525  13.915621  11.994220\n",
      "three   4.748599  38.872146  55.199464  80.208177\n",
      "four   51.202797  97.633333  86.391924  24.158100\n",
      "           a          b          c          d\n",
      "0   3.726300  66.112340  48.220489  93.760402\n",
      "1  39.120391  25.638545  92.493584  44.929521\n",
      "2  67.998094  32.908821  23.708935   0.419288\n",
      "3  82.357372  53.480613  14.556641  79.355039\n",
      "a    71.552037\n",
      "b    80.265062\n",
      "c    20.951259\n",
      "d    72.541999\n",
      "Name: one, dtype: float64\n",
      "a    39.120391\n",
      "b    25.638545\n",
      "c    92.493584\n",
      "d    44.929521\n",
      "Name: 1, dtype: float64\n",
      "             a          b          c          d\n",
      "one  71.552037  80.265062  20.951259  72.541999\n",
      "two  32.854276  66.830525  13.915621  11.994220\n",
      "           a          b          c          d\n",
      "1  39.120391  25.638545  92.493584  44.929521\n",
      "2  67.998094  32.908821  23.708935   0.419288\n",
      "               a          b          c          d\n",
      "one    71.552037  80.265062  20.951259  72.541999\n",
      "two    32.854276  66.830525  13.915621  11.994220\n",
      "three   4.748599  38.872146  55.199464  80.208177\n",
      "           a          b          c          d\n",
      "1  39.120391  25.638545  92.493584  44.929521\n",
      "2  67.998094  32.908821  23.708935   0.419288\n",
      "3  82.357372  53.480613  14.556641  79.355039\n"
     ]
    }
   ],
   "source": [
    "# df.loc[] -- 按index选择行\n",
    "df1 = pd.DataFrame(np.random.rand(16).reshape(4,4)*100,\n",
    "                   index = ['one','two','three','four'],\n",
    "                   columns = ['a','b','c','d'])\n",
    "df2 = pd.DataFrame(np.random.rand(16).reshape(4,4)*100,\n",
    "                   columns = ['a','b','c','d'])\n",
    "print(df1)\n",
    "print(df2)\n",
    "\n",
    "# 按照index查找，如果设置index则不能使用数字进行a\n",
    "data1 = df1.loc['one']\n",
    "# 按照默认index查找，即数字index\n",
    "data2 = df2.loc[1]\n",
    "print(data1)\n",
    "print(data2)\n",
    "\n",
    "# 多个标签索引，如果标签不存在，则返回NaN\n",
    "data3 = df1.loc[['one','two']]\n",
    "data4 = df2.loc[1:2]\n",
    "print(data3)\n",
    "print(data4)\n",
    "\n",
    "# 可以做切片对象\n",
    "data5 = df1.loc['one':'three']\n",
    "data6 = df2.loc[1:3]\n",
    "print(data5)\n",
    "print(data6)"
   ]
  },
  {
   "cell_type": "code",
   "execution_count": 7,
   "metadata": {},
   "outputs": [
    {
     "name": "stdout",
     "output_type": "stream",
     "text": [
      "               a          b          c          d\n",
      "one     5.790416  15.907801  15.346601  41.570169\n",
      "two    62.328093  43.988665  28.834321  68.477525\n",
      "three  89.860261  57.388847  23.542659  98.224468\n",
      "four   51.774764  35.003939  70.082198  73.725810\n",
      "a     5.790416\n",
      "b    15.907801\n",
      "c    15.346601\n",
      "d    41.570169\n",
      "Name: one, dtype: float64\n",
      "a    51.774764\n",
      "b    35.003939\n",
      "c    70.082198\n",
      "d    73.725810\n",
      "Name: four, dtype: float64\n",
      "               a          b          c          d\n",
      "two    62.328093  43.988665  28.834321  68.477525\n",
      "three  89.860261  57.388847  23.542659  98.224468\n",
      "               a          b          c          d\n",
      "one     5.790416  15.907801  15.346601  41.570169\n",
      "three  89.860261  57.388847  23.542659  98.224468\n"
     ]
    }
   ],
   "source": [
    "# df.iloc[] - 按照整数位置（从轴的0到length-1）选择行\n",
    "# 类似list的索引，其顺序就是dataframe的整数位置，从0开始计\n",
    "df = pd.DataFrame(np.random.rand(16).reshape(4,4)*100,index=['one','two','three','four'],columns=['a','b','c','d'])\n",
    "\n",
    "print(df)\n",
    "\n",
    "# iloc中的索引不能超过数据行数的整数位置\n",
    "print(df.iloc[0])\n",
    "print(df.iloc[-1])\n",
    "\n",
    "# 多行索引\n",
    "print(df.iloc[1:3])\n",
    "print(df.iloc[::2])"
   ]
  },
  {
   "cell_type": "code",
   "execution_count": 9,
   "metadata": {},
   "outputs": [
    {
     "name": "stdout",
     "output_type": "stream",
     "text": [
      "               a          b          c          d\n",
      "one    26.308656  29.852513  43.681006  78.972862\n",
      "two    39.015117  83.554890  41.946063  62.653479\n",
      "three  15.172235  42.314596  93.891098  80.769701\n",
      "four   52.062534  92.902764  84.203408  19.350741\n",
      "-----无限定判断-----\n",
      "               a   b   c          d\n",
      "one          NaN NaN NaN        NaN\n",
      "two          NaN NaN NaN        NaN\n",
      "three  15.172235 NaN NaN        NaN\n",
      "four         NaN NaN NaN  19.350741\n",
      "-----单列判断-----\n",
      "one       True\n",
      "two       True\n",
      "three    False\n",
      "four      True\n",
      "Name: a, dtype: bool\n",
      "-----多列判断-----\n",
      "               a          b   c   d\n",
      "one    26.308656  29.852513 NaN NaN\n",
      "two    39.015117  83.554890 NaN NaN\n",
      "three        NaN  42.314596 NaN NaN\n",
      "four   52.062534  92.902764 NaN NaN\n",
      "-----多行判断-----\n",
      "               a          b          c   d\n",
      "one    26.308656  29.852513  43.681006 NaN\n",
      "two          NaN        NaN        NaN NaN\n",
      "three  15.172235  42.314596        NaN NaN\n",
      "four         NaN        NaN        NaN NaN\n"
     ]
    }
   ],
   "source": [
    "# 布尔型索引\n",
    "# 和Series原理相同\n",
    "df = pd.DataFrame(np.random.rand(16).reshape(4,4)*100,index=['one','two','three','four'],columns=['a','b','c','d'])\n",
    "print(df)\n",
    "\n",
    "# 对每个数据都做判断，如果为true返回原数据，false返回值为NaN\n",
    "print('-'*5+'无限定判断'+'-'*5)\n",
    "print(df[df < 20])\n",
    "\n",
    "# 单列的判断，该列结果为True的行数据，包括其他列\n",
    "print('-'*5+'单列判断'+'-'*5)\n",
    "print(df['a'] > 20)\n",
    "\n",
    "# 多列的判断\n",
    "print('-'*5+'多列判断'+'-'*5)\n",
    "print(df[df[['a','b']] > 20 ])\n",
    "\n",
    "# 多行做判断\n",
    "print('-'*5+'多行判断'+'-'*5)\n",
    "print(df[df.loc[['one','three']] < 50])"
   ]
  },
  {
   "cell_type": "code",
   "execution_count": 10,
   "metadata": {},
   "outputs": [
    {
     "name": "stdout",
     "output_type": "stream",
     "text": [
      "               a          b          c          d\n",
      "one    65.317498  80.150041  98.362942  38.044392\n",
      "two    94.181856   1.347843  59.874516  73.530484\n",
      "three  88.830297  20.396915  81.360220  85.787044\n",
      "four   60.314734   1.348655  60.943412  13.315916\n",
      "one      65.317498\n",
      "three    88.830297\n",
      "Name: a, dtype: float64\n",
      "               b          c          d\n",
      "one    80.150041  98.362942  38.044392\n",
      "three  20.396915  81.360220  85.787044\n",
      "Empty DataFrame\n",
      "Columns: [a, b, c, d]\n",
      "Index: []\n"
     ]
    }
   ],
   "source": [
    "# 多重索引：同时索引行和列\n",
    "# 先选择列再选择行 -- 相当于对于一个数据，先筛选字段，在选择数据量\n",
    "df = pd.DataFrame(np.random.rand(16).reshape(4,4)*100,index = ['one','two','three','four'],columns = ['a','b','c','d'])\n",
    "print(df)\n",
    "\n",
    "print(df['a'].loc[['one','three']]) #先选择列a，然后选择列a的one，three行\n",
    "print(df[['b','c','d']].iloc[::2]) #选择多个列的行\n",
    "print(df[df['a'] < 50].iloc[:2]) # 选择满足判断索引的前两行数据"
   ]
  },
  {
   "cell_type": "code",
   "execution_count": 11,
   "metadata": {},
   "outputs": [
    {
     "name": "stdout",
     "output_type": "stream",
     "text": [
      "           a          b\n",
      "0  93.259424  98.421852\n",
      "1  69.010361  83.181006\n",
      "2  28.685085  62.507307\n",
      "3  52.947526  75.253460\n",
      "4  97.742462  40.813481\n",
      "5  15.389640  18.020944\n",
      "6  58.487632  72.754595\n",
      "7  88.341625  63.626585\n",
      "           a          b\n",
      "0  93.259424  98.421852\n",
      "1  69.010361  83.181006\n",
      "           a          b\n",
      "3  52.947526  75.253460\n",
      "4  97.742462  40.813481\n",
      "5  15.389640  18.020944\n",
      "6  58.487632  72.754595\n",
      "7  88.341625  63.626585\n",
      "           0          1          2          3          4          5  \\\n",
      "a  93.259424  69.010361  28.685085  52.947526  97.742462  15.389640   \n",
      "b  98.421852  83.181006  62.507307  75.253460  40.813481  18.020944   \n",
      "\n",
      "           6          7  \n",
      "a  58.487632  88.341625  \n",
      "b  72.754595  63.626585  \n"
     ]
    }
   ],
   "source": [
    "# 数据查看、转置\n",
    "df = pd.DataFrame(np.random.rand(16).reshape(8,2)*100,columns = ['a','b'])\n",
    "print(df)\n",
    "\n",
    "# .head()查看头部数据\n",
    "# .tail()查看尾部数据\n",
    "# 默认查看5条\n",
    "print(df.head(2))\n",
    "print(df.tail())\n",
    "\n",
    "# 转置\n",
    "print(df.T)"
   ]
  },
  {
   "cell_type": "code",
   "execution_count": 12,
   "metadata": {},
   "outputs": [
    {
     "name": "stdout",
     "output_type": "stream",
     "text": [
      "           a          b          c          d\n",
      "0  58.193139  50.961910  94.482855  57.737026\n",
      "1  76.388479  10.338230  98.808006  77.556905\n",
      "2  18.266112  28.249430  40.840480   6.534588\n",
      "3  69.399512  25.392848  92.047405  41.550446\n",
      "           a          b          c          d   e\n",
      "0  58.193139  50.961910  94.482855  57.737026  10\n",
      "1  76.388479  10.338230  98.808006  77.556905  10\n",
      "2  18.266112  28.249430  40.840480   6.534588  10\n",
      "3  69.399512  25.392848  92.047405  41.550446  10\n",
      "4  20.000000  20.000000  20.000000  20.000000  20\n",
      "     a          b    c          d   e\n",
      "0  100  50.961910  100  57.737026  20\n",
      "1  100  10.338230  100  77.556905  20\n",
      "2  100  28.249430  100   6.534588  20\n",
      "3  100  25.392848  100  41.550446  20\n",
      "4  100  20.000000  100  20.000000  20\n"
     ]
    }
   ],
   "source": [
    "# 添加与修改\n",
    "df = pd.DataFrame(np.random.rand(16).reshape(4,4)*100,columns = ['a','b','c','d'])\n",
    "print(df)\n",
    "\n",
    "# 新增列/行并赋值\n",
    "df['e'] = 10\n",
    "df.loc[4] = 20\n",
    "print(df)\n",
    "\n",
    "# 直接修改一整列\n",
    "df['e'] = 20\n",
    "# 修改多个列\n",
    "df[['a','c']] = 100\n",
    "print(df)"
   ]
  },
  {
   "cell_type": "code",
   "execution_count": 14,
   "metadata": {},
   "outputs": [
    {
     "name": "stdout",
     "output_type": "stream",
     "text": [
      "           a          b          c          d\n",
      "0  15.257645  57.188657  96.503310  27.811684\n",
      "1  40.799058  16.626775  89.227109  67.728371\n",
      "2  78.871745  65.838457  53.140350  92.599459\n",
      "3  31.403500  81.353036  94.205857  12.800509\n",
      "           b          c          d\n",
      "0  57.188657  96.503310  27.811684\n",
      "1  16.626775  89.227109  67.728371\n",
      "2  65.838457  53.140350  92.599459\n",
      "3  81.353036  94.205857  12.800509\n",
      "           c          d\n",
      "0  96.503310  27.811684\n",
      "1  89.227109  67.728371\n",
      "2  53.140350  92.599459\n",
      "3  94.205857  12.800509\n",
      "           b          c          d\n",
      "0  57.188657  96.503310  27.811684\n",
      "1  16.626775  89.227109  67.728371\n",
      "2  65.838457  53.140350  92.599459\n",
      "3  81.353036  94.205857  12.800509\n",
      "----------\n",
      "           b          c          d\n",
      "1  16.626775  89.227109  67.728371\n",
      "2  65.838457  53.140350  92.599459\n",
      "3  81.353036  94.205857  12.800509\n",
      "           b          c          d\n",
      "0  57.188657  96.503310  27.811684\n",
      "3  81.353036  94.205857  12.800509\n",
      "           b          c          d\n",
      "0  57.188657  96.503310  27.811684\n",
      "1  16.626775  89.227109  67.728371\n",
      "2  65.838457  53.140350  92.599459\n",
      "3  81.353036  94.205857  12.800509\n",
      "----------\n"
     ]
    }
   ],
   "source": [
    "# 删除 del/drop()\n",
    "\n",
    "df = pd.DataFrame(np.random.rand(16).reshape(4,4)*100,columns = ['a','b','c','d'])\n",
    "\n",
    "print(df)\n",
    "\n",
    "# 删除列：del，删除后df会变化\n",
    "del df['a']\n",
    "print(df)\n",
    "\n",
    "# 删除列：drop 加上 axis=1，inplace=False 删除后生成新的数据，不改变原数据\n",
    "print(df.drop(['b'],axis=1))\n",
    "print(df)\n",
    "print('-'*10)\n",
    "\n",
    "# 删除行：drop，删除后df不变\n",
    "# 参数inplace=False，删除后生成新的数据，原数据不变\n",
    "print(df.drop(0))\n",
    "print(df.drop([1,2]))\n",
    "print(df)\n",
    "print('-'*10)"
   ]
  },
  {
   "cell_type": "markdown",
   "metadata": {},
   "source": [
    "# 排序"
   ]
  },
  {
   "cell_type": "code",
   "execution_count": 16,
   "metadata": {},
   "outputs": [
    {
     "name": "stdout",
     "output_type": "stream",
     "text": [
      "           a          b          c          d\n",
      "0   5.369000  87.414935  84.423568  24.115428\n",
      "1  71.393246  83.025402  20.238562  14.836448\n",
      "2  40.952781  74.388208  56.824483  82.124819\n",
      "3  56.333080  62.993463  46.205342  19.433410\n",
      "----------\n",
      "           a          b          c          d\n",
      "0   5.369000  87.414935  84.423568  24.115428\n",
      "2  40.952781  74.388208  56.824483  82.124819\n",
      "3  56.333080  62.993463  46.205342  19.433410\n",
      "1  71.393246  83.025402  20.238562  14.836448\n",
      "           a          b          c          d\n",
      "1  71.393246  83.025402  20.238562  14.836448\n",
      "3  56.333080  62.993463  46.205342  19.433410\n",
      "2  40.952781  74.388208  56.824483  82.124819\n",
      "0   5.369000  87.414935  84.423568  24.115428\n",
      "----------\n",
      "   a  b  c\n",
      "0  1  0  8\n",
      "1  1  1  7\n",
      "2  1  2  6\n",
      "3  1  3  5\n",
      "4  2  4  4\n",
      "5  2  5  3\n",
      "6  2  6  2\n",
      "7  2  7  1\n",
      "   a  b  c\n",
      "3  1  3  5\n",
      "2  1  2  6\n",
      "1  1  1  7\n",
      "0  1  0  8\n",
      "7  2  7  1\n",
      "6  2  6  2\n",
      "5  2  5  3\n",
      "4  2  4  4\n"
     ]
    }
   ],
   "source": [
    "# 按值排序 .sort_values\n",
    "# # ascending参数：设置升序降序，默认升序\n",
    "df1 = pd.DataFrame(np.random.rand(16).reshape(4,4)*100,columns = ['a','b','c','d'])\n",
    "print(df1)\n",
    "\n",
    "print('-'*10)\n",
    "print(df1.sort_values(['a'],ascending=True)) # 升序\n",
    "print(df1.sort_values(['a'],ascending=False)) # 降序\n",
    "\n",
    "# 多列排序,先按照设置的首列排序，然后首列相同的按照第二列排序\n",
    "print('-'*10)\n",
    "df2 = pd.DataFrame({'a':[1,1,1,1,2,2,2,2],\n",
    "                  'b':list(range(8)),\n",
    "                  'c':list(range(8,0,-1))})\n",
    "print(df2)\n",
    "print(df2.sort_values(['a','c']))"
   ]
  },
  {
   "cell_type": "code",
   "execution_count": 18,
   "metadata": {},
   "outputs": [
    {
     "name": "stdout",
     "output_type": "stream",
     "text": [
      "           a          b          c          d\n",
      "5  70.861323  77.387828  16.508888  39.783136\n",
      "4  40.950611  53.598744  80.824587  13.809055\n",
      "3  72.488587  41.106073   8.523795  24.478620\n",
      "2  87.017575  71.132648  86.882009   5.114085\n",
      "           a          b          c          d\n",
      "2  87.017575  71.132648  86.882009   5.114085\n",
      "3  72.488587  41.106073   8.523795  24.478620\n",
      "4  40.950611  53.598744  80.824587  13.809055\n",
      "5  70.861323  77.387828  16.508888  39.783136\n",
      "           a          b          c          d\n",
      "5  45.900896  66.706248   6.677665   8.861845\n",
      "4  76.593940  65.411763  55.919493  24.744247\n",
      "3  52.938624  42.516864  36.724546  37.207165\n",
      "2  92.684244  60.776301  25.454571   4.832269\n",
      "           a          b          c          d\n",
      "2  92.684244  60.776301  25.454571   4.832269\n",
      "3  52.938624  42.516864  36.724546  37.207165\n",
      "4  76.593940  65.411763  55.919493  24.744247\n",
      "5  45.900896  66.706248   6.677665   8.861845\n"
     ]
    }
   ],
   "source": [
    "# 索引排序 - .sort_index\n",
    "df1 = pd.DataFrame(np.random.rand(16).reshape(4,4)*100,index=[5,4,3,2],columns = ['a','b','c','d'])\n",
    "\n",
    "df2 = pd.DataFrame(np.random.rand(16).reshape(4,4)*100,index=[5,4,3,2],columns = ['a','b','c','d'])\n",
    "\n",
    "# 按照index排序\n",
    "# 默认ascending=True，inplace=False\n",
    "print(df1)\n",
    "print(df1.sort_index())\n",
    "print(df2)\n",
    "print(df2.sort_index())"
   ]
  },
  {
   "cell_type": "code",
   "execution_count": null,
   "metadata": {},
   "outputs": [],
   "source": []
  }
 ],
 "metadata": {
  "kernelspec": {
   "display_name": "Python 3",
   "language": "python",
   "name": "python3"
  },
  "language_info": {
   "codemirror_mode": {
    "name": "ipython",
    "version": 3
   },
   "file_extension": ".py",
   "mimetype": "text/x-python",
   "name": "python",
   "nbconvert_exporter": "python",
   "pygments_lexer": "ipython3",
   "version": "3.7.0"
  }
 },
 "nbformat": 4,
 "nbformat_minor": 2
}
