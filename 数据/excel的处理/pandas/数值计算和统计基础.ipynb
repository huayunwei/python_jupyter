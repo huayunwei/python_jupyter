{
 "cells": [
  {
   "cell_type": "markdown",
   "metadata": {},
   "source": [
    "# 数值计算和统计"
   ]
  },
  {
   "cell_type": "code",
   "execution_count": 2,
   "metadata": {},
   "outputs": [
    {
     "name": "stdout",
     "output_type": "stream",
     "text": [
      "   key1      key2\n",
      "0     0  8.440076\n",
      "1     1  5.701456\n",
      "2     2  1.166046\n",
      "3     3  8.455489\n",
      "4     4  6.668064\n",
      "5     5  1.784346\n",
      "6     6  9.583742\n",
      "7     7  2.047384\n",
      "8     8  8.406314\n",
      "9     9  4.016307\n",
      "count统计非NaN值的数量\n",
      "key1    10\n",
      "key2    10\n",
      "dtype: int64\n",
      "min统计最小值,max统计最大值\n",
      "\n",
      "key1    0.000000\n",
      "key2    1.166046\n",
      "dtype: float64 9.583742275779567\n",
      "qunantile统计分位数，参数q确定位置\n",
      "\n",
      "key1    6.750000\n",
      "key2    8.431635\n",
      "Name: 0.75, dtype: float64\n",
      "sum求和\n",
      "key1    45.000000\n",
      "key2    56.269224\n",
      "dtype: float64\n",
      "mean求平均值\n",
      "key1    4.500000\n",
      "key2    5.626922\n",
      "dtype: float64\n",
      "nedian求算数中位数\n",
      "key1    4.50000\n",
      "key2    6.18476\n",
      "dtype: float64\n",
      "std,var求标准差\n",
      "\n",
      "key1    3.027650\n",
      "key2    3.170306\n",
      "dtype: float64 key1     9.166667\n",
      "key2    10.050842\n",
      "dtype: float64\n",
      "skew样本的偏度\n",
      "key1    0.000000\n",
      "key2   -0.288141\n",
      "dtype: float64\n",
      "kurt样本的峰度\n",
      "key1   -1.200000\n",
      "key2   -1.708807\n",
      "dtype: float64\n"
     ]
    }
   ],
   "source": [
    "import numpy as np\n",
    "import pandas as pd                                       \n",
    "\n",
    "# 主要数学计算方法，可用于Series和DataFrame\n",
    "\n",
    "df = pd.DataFrame({'key1':np.arange(10),'key2':np.random.rand(10)*10})\n",
    "print(df)\n",
    "\n",
    "print('count统计非NaN值的数量')\n",
    "print(df.count())\n",
    "print('min统计最小值,max统计最大值\\n')\n",
    "print(df.min(),df['key2'].max())\n",
    "print('qunantile统计分位数，参数q确定位置\\n')\n",
    "print(df.quantile(q=0.75))\n",
    "print('sum求和')\n",
    "print(df.sum())\n",
    "print('mean求平均值')\n",
    "print(df.mean())\n",
    "print('nedian求算数中位数')\n",
    "print(df.median())\n",
    "print('std,var求标准差\\n')\n",
    "print(df.std(),df.var())\n",
    "print('skew样本的偏度')\n",
    "print(df.skew())\n",
    "print('kurt样本的峰度')\n",
    "print(df.kurt())"
   ]
  },
  {
   "cell_type": "code",
   "execution_count": 2,
   "metadata": {},
   "outputs": [
    {
     "name": "stdout",
     "output_type": "stream",
     "text": [
      "key1    3.5\n",
      "key2    3.0\n",
      "dtype: float64 <class 'pandas.core.series.Series'>\n",
      "3.0\n",
      "a    2.5\n",
      "b    3.5\n",
      "c    3.0\n",
      "d    4.0\n",
      "e    3.5\n",
      "dtype: float64\n",
      "key1   NaN\n",
      "key2   NaN\n",
      "dtype: float64\n"
     ]
    }
   ],
   "source": [
    "df = pd.DataFrame({'key1':[4,5,3,np.nan,2],\n",
    "                 'key2':[1,2,np.nan,4,5],\n",
    "                 'key3':[1,2,3,'j','k']},\n",
    "                 index = ['a','b','c','d','e'])\n",
    "\n",
    "# mean：计算均值，只统计数字列，可以通过索引单独统计一列\n",
    "m1 = df.mean()\n",
    "print(m1,type(m1))\n",
    "# 单独统计一列\n",
    "print(df['key2'].mean())\n",
    "\n",
    "# axis参数：默认为0，以列来计算，axis=1，以行来计算\n",
    "m2 = df.mean(axis=1)\n",
    "print(m2)\n",
    "\n",
    "# skipna参数：是否忽略NaN，默认True，如果False，有NaN的列统计结果仍为NaN\n",
    "m3 = df.mean(skipna=False)\n",
    "print(m3)"
   ]
  },
  {
   "cell_type": "code",
   "execution_count": 5,
   "metadata": {},
   "outputs": [
    {
     "name": "stdout",
     "output_type": "stream",
     "text": [
      "   key1      key2  key1_s     key2_s\n",
      "0     0  9.150646       0   9.150646\n",
      "1     1  5.919352       1  15.069998\n",
      "2     2  0.323754       3  15.393752\n",
      "3     3  0.972282       6  16.366034\n",
      "4     4  5.130167      10  21.496201\n",
      "5     5  8.455466      15  29.951668\n",
      "6     6  8.498757      21  38.450424\n",
      "7     7  5.481035      28  43.931460\n",
      "8     8  5.554689      36  49.486149\n",
      "9     9  9.836869      45  59.323018 → cumsum样本的累计和\n",
      "\n",
      "   key1      key2  key1_s     key2_s  key1_p        key2_p\n",
      "0     0  9.150646       0   9.150646       0  9.150646e+00\n",
      "1     1  5.919352       1  15.069998       0  5.416590e+01\n",
      "2     2  0.323754       3  15.393752       0  1.753641e+01\n",
      "3     3  0.972282       6  16.366034       0  1.705033e+01\n",
      "4     4  5.130167      10  21.496201       0  8.747107e+01\n",
      "5     5  8.455466      15  29.951668       0  7.396087e+02\n",
      "6     6  8.498757      21  38.450424       0  6.285755e+03\n",
      "7     7  5.481035      28  43.931460       0  3.445244e+04\n",
      "8     8  5.554689      36  49.486149       0  1.913726e+05\n",
      "9     9  9.836869      45  59.323018       0  1.882507e+06 → cumprod样本的累计积\n",
      "\n",
      "   key1      key2  key1_s     key2_s  key1_p        key2_p\n",
      "0   0.0  9.150646     0.0   9.150646     0.0  9.150646e+00\n",
      "1   1.0  9.150646     1.0  15.069998     0.0  5.416590e+01\n",
      "2   2.0  9.150646     3.0  15.393752     0.0  5.416590e+01\n",
      "3   3.0  9.150646     6.0  16.366034     0.0  5.416590e+01\n",
      "4   4.0  9.150646    10.0  21.496201     0.0  8.747107e+01\n",
      "5   5.0  9.150646    15.0  29.951668     0.0  7.396087e+02\n",
      "6   6.0  9.150646    21.0  38.450424     0.0  6.285755e+03\n",
      "7   7.0  9.150646    28.0  43.931460     0.0  3.445244e+04\n",
      "8   8.0  9.150646    36.0  49.486149     0.0  1.913726e+05\n",
      "9   9.0  9.836869    45.0  59.323018     0.0  1.882507e+06 \n",
      "    key1      key2  key1_s    key2_s  key1_p    key2_p\n",
      "0   0.0  9.150646     0.0  9.150646     0.0  9.150646\n",
      "1   0.0  5.919352     0.0  9.150646     0.0  9.150646\n",
      "2   0.0  0.323754     0.0  9.150646     0.0  9.150646\n",
      "3   0.0  0.323754     0.0  9.150646     0.0  9.150646\n",
      "4   0.0  0.323754     0.0  9.150646     0.0  9.150646\n",
      "5   0.0  0.323754     0.0  9.150646     0.0  9.150646\n",
      "6   0.0  0.323754     0.0  9.150646     0.0  9.150646\n",
      "7   0.0  0.323754     0.0  9.150646     0.0  9.150646\n",
      "8   0.0  0.323754     0.0  9.150646     0.0  9.150646\n",
      "9   0.0  0.323754     0.0  9.150646     0.0  9.150646 → cummax,cummin分别求累计最大值，累计最小值\n",
      "\n"
     ]
    }
   ],
   "source": [
    "# cummax,cummin分别求累计最大值，累计最小值\n",
    "\n",
    "df['key1_s'] = df['key1'].cumsum()\n",
    "df['key2_s'] = df['key2'].cumsum()\n",
    "print(df,'→ cumsum样本的累计和\\n')\n",
    "\n",
    "df['key1_p'] = df['key1'].cumprod()\n",
    "df['key2_p'] = df['key2'].cumprod()\n",
    "print(df,'→ cumprod样本的累计积\\n')\n",
    "\n",
    "print(df.cummax(),'\\n',df.cummin(),'→ cummax,cummin分别求累计最大值，累计最小值\\n')\n",
    "# 会填充key1，和key2的值"
   ]
  },
  {
   "cell_type": "code",
   "execution_count": 6,
   "metadata": {},
   "outputs": [
    {
     "name": "stdout",
     "output_type": "stream",
     "text": [
      "0     a\n",
      "1     s\n",
      "2     d\n",
      "3     v\n",
      "4     a\n",
      "5     s\n",
      "6     d\n",
      "7     c\n",
      "8     f\n",
      "9     g\n",
      "10    g\n",
      "dtype: object\n",
      "['a' 's' 'd' 'v' 'c' 'f' 'g'] <class 'numpy.ndarray'>\n",
      "0    a\n",
      "1    s\n",
      "2    d\n",
      "3    v\n",
      "4    c\n",
      "5    f\n",
      "6    g\n",
      "dtype: object\n",
      "['a' 'c' 'd' 'f' 'g' 's' 'v']\n"
     ]
    }
   ],
   "source": [
    "# 唯一值：.unique()\n",
    "# 得到一个唯一的值数组\n",
    "# 通过pd.Series重新变成新的Series\n",
    "s = pd.Series(list('asdvasdcfgg'))\n",
    "sq = s.unique()\n",
    "print(s)\n",
    "print(sq,type(sq))\n",
    "print(pd.Series(sq))\n",
    "\n",
    "sq.sort()\n",
    "print(sq)"
   ]
  },
  {
   "cell_type": "code",
   "execution_count": 7,
   "metadata": {},
   "outputs": [
    {
     "name": "stdout",
     "output_type": "stream",
     "text": [
      "v    1\n",
      "d    2\n",
      "a    2\n",
      "s    2\n",
      "f    1\n",
      "c    1\n",
      "g    2\n",
      "dtype: int64\n"
     ]
    }
   ],
   "source": [
    "# 值计数：.value_counts()\n",
    "# 得到一个新的Series，计算出不同值出现的频率\n",
    "# sort参数：排序，默认为True\n",
    "sc = s.value_counts(sort=False) # 也可以按照下面的方式写：pd.value_counts(sc,sort=False)\n",
    "print(sc)"
   ]
  },
  {
   "cell_type": "code",
   "execution_count": 8,
   "metadata": {},
   "outputs": [
    {
     "name": "stdout",
     "output_type": "stream",
     "text": [
      "0    10\n",
      "1    11\n",
      "2    12\n",
      "3    13\n",
      "4    14\n",
      "dtype: int32\n",
      "  key1  key2\n",
      "0    a     4\n",
      "1    s     5\n",
      "2    d     6\n",
      "3    c     7\n",
      "4    b     8\n",
      "5    v     9\n",
      "6    a    10\n",
      "7    s    11\n",
      "8    d    12\n",
      "0    False\n",
      "1    False\n",
      "2    False\n",
      "3    False\n",
      "4     True\n",
      "dtype: bool\n",
      "    key1   key2\n",
      "0   True  False\n",
      "1  False  False\n",
      "2  False  False\n",
      "3  False  False\n",
      "4  False   True\n",
      "5  False  False\n",
      "6   True  False\n",
      "7  False  False\n",
      "8  False  False\n"
     ]
    }
   ],
   "source": [
    "# 成员资格：.isin()\n",
    "s = pd.Series(np.arange(10,15))\n",
    "df = pd.DataFrame({'key1':list('asdcbvasd'),'key2':np.arange(4,13)})\n",
    "print(s)\n",
    "print(df)\n",
    "\n",
    "# 符合某一个列表中的任意值都可以返回\n",
    "print(s.isin([5,14]))\n",
    "print(df.isin(['a','bc','10',8]))"
   ]
  },
  {
   "cell_type": "markdown",
   "metadata": {},
   "source": [
    "## 对每个元素进行字符串操作"
   ]
  },
  {
   "cell_type": "code",
   "execution_count": 3,
   "metadata": {},
   "outputs": [
    {
     "name": "stdout",
     "output_type": "stream",
     "text": [
      "0          A\n",
      "1          b\n",
      "2          C\n",
      "3    bbhello\n",
      "4        123\n",
      "5        NaN\n",
      "6         hj\n",
      "dtype: object\n",
      "  key1  key2\n",
      "0    a   hee\n",
      "1    b    fv\n",
      "2    c     w\n",
      "3    d  hija\n",
      "4    e   123\n",
      "5    f   NaN\n",
      "0    0.0\n",
      "1    1.0\n",
      "2    0.0\n",
      "3    2.0\n",
      "4    0.0\n",
      "5    NaN\n",
      "6    0.0\n",
      "dtype: float64\n",
      "0     HEE\n",
      "1      FV\n",
      "2       W\n",
      "3    HIJA\n",
      "4     123\n",
      "5     NaN\n",
      "Name: key2, dtype: object\n",
      "  KEY1  KEY2\n",
      "0    a   hee\n",
      "1    b    fv\n",
      "2    c     w\n",
      "3    d  hija\n",
      "4    e   123\n",
      "5    f   NaN\n"
     ]
    }
   ],
   "source": [
    "# 通过str调用字符串方法\n",
    "# 可以对Series、DataFrame使用，自动过滤NaN值\n",
    "s = pd.Series(['A','b','C','bbhello','123',np.nan,'hj'])\n",
    "df = pd.DataFrame({'key1':list('abcdef'),\n",
    "                  'key2':['hee','fv','w','hija','123',np.nan]})\n",
    "print(s)\n",
    "print(df)\n",
    "\n",
    "print(s.str.count('b'))\n",
    "print(df['key2'].str.upper())\n",
    "df.columns = df.columns.str.upper()\n",
    "print(df)"
   ]
  },
  {
   "cell_type": "code",
   "execution_count": null,
   "metadata": {},
   "outputs": [],
   "source": [
    "# 字符串常用方法\n",
    "s = pd.Series(['A','b','bbhello','123',np.nan])\n",
    "print(s.str.lower(),'lower小写')\n",
    "print(s.str.upper(),'upper大写')\n",
    "print(s.str.len(),'len字符长度')\n",
    "print(s.str.startswith('b'),'判断起始是否为a')\n",
    "print(s.str.endswith('3'),'判断结束是否为3')\n",
    "print(s.str.strip(),'去除字符串中的空格')\n",
    "print(s.str.lstrip(),'去除字符串中的左空格')\n",
    "print(s.str.rstrip(),'去除字符串中的右空格')\n",
    "print(s.columns.str.replace('a','xx',n=1),'替换') # 替换，n为替换个数\n",
    "print(s.str.split(','),'按照,拆分成数组')\n",
    "print(s.str.split(',').str[0],s.str.split(',').str.get(1),'按照')\n",
    "print(s.str[0]) # 取第一个字符串"
   ]
  },
  {
   "cell_type": "code",
   "execution_count": null,
   "metadata": {},
   "outputs": [],
   "source": [
    "# 合并：merge，join\n",
    "pd.merge(left,right,how='inner',on=None,left_on=None,right_on=None,left_index=False,right_index=False,\n",
    "         sort=True,suffixes=('_x','_y'),copy=True,indicator=False)\n",
    "# left：第一个df\n",
    "# right：第二个df\n",
    "# on：参考链\n",
    "# how的取值\n",
    "    # inner：默认，取交集\n",
    "    # outer：取并集，数据缺失范围NaN\n",
    "    # left：按照第一个参数为参考合并，数据缺失范围NaN\n",
    "    # right：按照第二个参数为参考合并，数据缺失范围NaN\n",
    "# left_on,right_on,left_index,right_index：当键不为一个列时，可以单独设置左键与右键\n",
    "# sort：按照字典顺序通过链接键，对结果DataFrame进行排序，默认为False，设置False会大幅提高性能\n",
    "\n",
    "left = pd.DataFrame({'A': ['A0', 'A1', 'A2'],\n",
    "                     'B': ['B0', 'B1', 'B2']},\n",
    "                    index=['K0', 'K1', 'K2'])\n",
    "right = pd.DataFrame({'C': ['C0', 'C2', 'C3'],\n",
    "                      'D': ['D0', 'D2', 'D3']},\n",
    "                     index=['K0', 'K2', 'K3'])\n",
    "print(left)\n",
    "print(right)\n",
    "print(left.join(right))\n",
    "print(left.join(right, how='outer'))"
   ]
  },
  {
   "cell_type": "code",
   "execution_count": null,
   "metadata": {},
   "outputs": [],
   "source": [
    "# 连接与修补 concat、combine_first\n",
    "# 连接 - 沿轴执行连接操作\n",
    "pd.concat(obj,axis=0,join='outer',join_axes=None,ignore_index=False,keys=None,levels=None,names=None,verify_integrity=False,copy=True)"
   ]
  }
 ],
 "metadata": {
  "kernelspec": {
   "display_name": "Python 3",
   "language": "python",
   "name": "python3"
  },
  "language_info": {
   "codemirror_mode": {
    "name": "ipython",
    "version": 3
   },
   "file_extension": ".py",
   "mimetype": "text/x-python",
   "name": "python",
   "nbconvert_exporter": "python",
   "pygments_lexer": "ipython3",
   "version": "3.7.0"
  }
 },
 "nbformat": 4,
 "nbformat_minor": 2
}
