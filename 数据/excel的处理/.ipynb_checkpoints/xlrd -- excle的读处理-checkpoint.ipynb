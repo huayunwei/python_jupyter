{
 "cells": [
  {
   "cell_type": "markdown",
   "metadata": {},
   "source": [
    "# xlrd -- 对excel的读取\n",
    "- 导入：import xlrd\n",
    "- 打开：data = xlrd.open_workbook('文件地址')\n",
    "- 获取工作表\n",
    "    - table = data.sheets()[index] \n",
    "    - table = data.sheet_by_index(index)\n",
    "    - table = data.sheet_by_name(u'sheet名')\n",
    "- 获取整行和整列的值（返回数组）\n",
    "    - table.row_values(i) # 整行的值\n",
    "    - table.col_values(i) # 整列的值\n",
    "- 获取行数和列数（返回数字）\n",
    "    - table.nrows：行数\n",
    "    - table.ncols：列数\n",
    "- 获取单元格的值\n",
    "    - table.cell(row,col).value"
   ]
  },
  {
   "cell_type": "markdown",
   "metadata": {},
   "source": [
    "## xlrd.xldate\n",
    "- 用于处理excel中的日期和时间样式的文本内容"
   ]
  },
  {
   "cell_type": "code",
   "execution_count": null,
   "metadata": {},
   "outputs": [],
   "source": [
    "def xldate_as_tuple(xldate,datemode):\n",
    "    '''\n",
    "    xldate：excel中的数字\n",
    "    datemode：0 - 1900，1-1904\n",
    "    return (year,month,day,hour,minute,nearest_second)\n",
    "    '''\n",
    "    \n",
    "def xldate_as_datetime(xldate,datemode):\n",
    "    '''\n",
    "    return datetime.datetime类型的对象\n",
    "    '''\n",
    "    \n",
    "def xldate_from_date_tuple(date_tuple,datemode):\n",
    "    '''\n",
    "    date_tuple：(year,month,day)\n",
    "    return：excel中的date类型的文本\n",
    "    '''\n",
    "    \n",
    "def xldate_from_time_tuple(time_tuple):\n",
    "    '''\n",
    "    time_tuple:(hour,month,day)\n",
    "    '''\n",
    "def xldate_from_datetime_tuple(datetime_tuple,datemode):\n",
    "    '''\n",
    "    datetime_tuple：(year,month,day,hour,minute,second)\n",
    "    '''"
   ]
  },
  {
   "cell_type": "markdown",
   "metadata": {},
   "source": [
    "![](img/xlrd_1.png)"
   ]
  },
  {
   "cell_type": "code",
   "execution_count": null,
   "metadata": {},
   "outputs": [],
   "source": []
  }
 ],
 "metadata": {
  "kernelspec": {
   "display_name": "Python 3",
   "language": "python",
   "name": "python3"
  },
  "language_info": {
   "codemirror_mode": {
    "name": "ipython",
    "version": 3
   },
   "file_extension": ".py",
   "mimetype": "text/x-python",
   "name": "python",
   "nbconvert_exporter": "python",
   "pygments_lexer": "ipython3",
   "version": "3.7.1"
  },
  "toc": {
   "base_numbering": 1,
   "nav_menu": {},
   "number_sections": false,
   "sideBar": true,
   "skip_h1_title": false,
   "title_cell": "Table of Contents",
   "title_sidebar": "Contents",
   "toc_cell": false,
   "toc_position": {},
   "toc_section_display": true,
   "toc_window_display": false
  }
 },
 "nbformat": 4,
 "nbformat_minor": 2
}
