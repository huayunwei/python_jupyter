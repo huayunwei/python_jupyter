{
 "cells": [
  {
   "cell_type": "markdown",
   "metadata": {},
   "source": [
    "# CSV 文件的读取和保存"
   ]
  },
  {
   "cell_type": "markdown",
   "metadata": {},
   "source": [
    "## 写入\n",
    "- writerrow：写入一行\n",
    "- writerrows：写入多行\n",
    "- DictWriter：直接写入字典内容，一行"
   ]
  },
  {
   "cell_type": "code",
   "execution_count": null,
   "metadata": {},
   "outputs": [],
   "source": [
    "import csv\n",
    "\n",
    "with open('data.csv','w') as csvfile:\n",
    "    write = csv.writer(csvfile)\n",
    "    write.writerow(['id','name','age'])\n",
    "    \n",
    "# 修改列和列之间的分隔符\n",
    "with open('data.csv','w') as csvfile:\n",
    "    write = csv.writer(csvfile,delimiter=' ')\n",
    "    write.writerrow(['id','name','age'])\n",
    "    \n",
    "# 写入多行\n",
    "with open('data.csv','w') as csvfile:\n",
    "    writer = csv.writer(csvfile)\n",
    "    writer.writerows([['zz','xx','qwe'],['vv','asd','qwe'],['qwe','cvs','re']])\n",
    "    \n",
    "# 写入字典格式内容\n",
    "with open('data.csv','w') as csvfile:\n",
    "    fieldnames = ['id','name','age']\n",
    "    writer = csv.DictWriter(csvfile,fieldnames=fieldnames)\n",
    "    writer.writeheader()\n",
    "    writer.writerow({'id':'asd','zc':'zcq'})"
   ]
  },
  {
   "cell_type": "markdown",
   "metadata": {},
   "source": [
    "## 读取"
   ]
  },
  {
   "cell_type": "code",
   "execution_count": null,
   "metadata": {},
   "outputs": [],
   "source": [
    "import csv\n",
    "with open('data.csv','r',encoding='utf-8') as csvfile:\n",
    "    reader = csv.reader(csvfile)\n",
    "    for row in reader:\n",
    "        print(row)"
   ]
  }
 ],
 "metadata": {
  "kernelspec": {
   "display_name": "Python 3",
   "language": "python",
   "name": "python3"
  },
  "language_info": {
   "codemirror_mode": {
    "name": "ipython",
    "version": 3
   },
   "file_extension": ".py",
   "mimetype": "text/x-python",
   "name": "python",
   "nbconvert_exporter": "python",
   "pygments_lexer": "ipython3",
   "version": "3.7.0"
  },
  "toc": {
   "base_numbering": 1,
   "nav_menu": {},
   "number_sections": false,
   "sideBar": true,
   "skip_h1_title": false,
   "title_cell": "Table of Contents",
   "title_sidebar": "Contents",
   "toc_cell": false,
   "toc_position": {},
   "toc_section_display": true,
   "toc_window_display": false
  }
 },
 "nbformat": 4,
 "nbformat_minor": 2
}
