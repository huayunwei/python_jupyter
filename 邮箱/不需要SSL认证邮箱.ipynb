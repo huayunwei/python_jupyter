{
 "cells": [
  {
   "cell_type": "markdown",
   "metadata": {},
   "source": [
    "# 不需要SSL认证邮箱\n",
    "- 即可以直接通过账号和密码登录发送的\n",
    "- 只需要smtp的服务，不需要pop3服务"
   ]
  },
  {
   "cell_type": "code",
   "execution_count": null,
   "metadata": {},
   "outputs": [],
   "source": [
    "# 导入smtplib用来发送邮件\n",
    "# 导入MIMEText库来做纯文本的邮件模板\n",
    "import smtplib\n",
    "from email.mime.text import MIMEText\n",
    "\n",
    "# 跟发件相关的参数\n",
    "smtpserver = \"smtp.163.com\" # 发件服务器\n",
    "port = 0 # 端口号\n",
    "sender = \"yoyo@163.com\" # 账号\n",
    "pwd = \"xxxxx\" # 密码\n",
    "# receiver = [\"xxxx@qq.com\"]      # 单个接收人也可以是list\n",
    "#receiver = [\"xxxx@qq.com\", \"yoyo@qq.com\"]   # 多个收件人list对象\n",
    "receiver = \"123@qq.com\" # 接收方\n",
    "\n",
    "\n",
    "# 邮件内容\n",
    "subject = \"邮箱的主题\"\n",
    "body = '例如html代码，文本内容'\n",
    "msg = MIMEText(body,'html','utf-8') # 邮件内容\n",
    "msg['from'] = sender # 从谁发送\n",
    "msg['to'] = receiver # 接受人\n",
    "msg['subject'] = subject # 邮件主题\n",
    "\n",
    "# 发送邮件\n",
    "smtp = smtplib.SMTP() \n",
    "smtp.connect(smtpserver) # 链接服务器\n",
    "smtp.login(sender,psw)  # 登录\n",
    "smtp.sendmain(sender,receiver,msg.as_strig()) # 发送\n",
    "smtp.quit() # 关闭"
   ]
  }
 ],
 "metadata": {
  "kernelspec": {
   "display_name": "Python 3",
   "language": "python",
   "name": "python3"
  },
  "language_info": {
   "codemirror_mode": {
    "name": "ipython",
    "version": 3
   },
   "file_extension": ".py",
   "mimetype": "text/x-python",
   "name": "python",
   "nbconvert_exporter": "python",
   "pygments_lexer": "ipython3",
   "version": "3.7.0"
  }
 },
 "nbformat": 4,
 "nbformat_minor": 2
}
