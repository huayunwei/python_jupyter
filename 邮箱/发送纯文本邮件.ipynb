{
 "cells": [
  {
   "cell_type": "code",
   "execution_count": null,
   "metadata": {},
   "outputs": [],
   "source": [
    "import smtplib\n",
    "from email.mime.text import MIMEText\n",
    "'''\n",
    "MIMEText三个主要参数\n",
    "1、邮件内容\n",
    "2、MIME子类型\n",
    "3、邮件编码格式\n",
    "'''\n",
    "msg = MIMEText(\"xxxxx\",\"plain\",\"utf-8\")\n",
    "\n",
    "# 发送email地址\n",
    "from_addr = \"xxx\"\n",
    "# 密码：密码如果是qq等可能会需要授权码，而不是qq邮箱密码\n",
    "from_pwd = \"xxxx\"\n",
    "\n",
    "# 收件人信息\n",
    "to_addr = \"xxxx\"\n",
    "\n",
    "# 输入SMTP服务器地址\n",
    "smtp_srv = \"smtp.xx.xxx\"\n",
    "\n",
    "try:\n",
    "    srv = smtplib.SMTP_SSL(smtp_srv_encode(),465) #SMTP协议默认端口号25\n",
    "    # 登录邮箱\n",
    "    srv.login(from_addr,from_pwd)\n",
    "    # 发送邮件\n",
    "    # 1、发送地址\n",
    "    # 2、接受地址，必须是list形式\n",
    "    # 3、发送内容，作为字符串发送\n",
    "    srv.sendmail(from_addr,[to_addr],msg.as_string())\n",
    "    srv.quit()\n",
    "except Exception as e:\n",
    "    print(e)"
   ]
  }
 ],
 "metadata": {
  "kernelspec": {
   "display_name": "Python 3",
   "language": "python",
   "name": "python3"
  },
  "language_info": {
   "codemirror_mode": {
    "name": "ipython",
    "version": 3
   },
   "file_extension": ".py",
   "mimetype": "text/x-python",
   "name": "python",
   "nbconvert_exporter": "python",
   "pygments_lexer": "ipython3",
   "version": "3.7.0"
  }
 },
 "nbformat": 4,
 "nbformat_minor": 2
}
