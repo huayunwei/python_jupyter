{
 "cells": [
  {
   "cell_type": "markdown",
   "metadata": {},
   "source": [
    "# 邮箱\n",
    "- 相关名词\n",
    "    - MUA：邮箱用户代理\n",
    "    - MTA：邮件传输代理\n",
    "    - MDA：邮箱投递代理\n",
    "- 流程\n",
    "    - MUA -> MTA：邮件已经在服务器上了\n",
    "    - XXX MTA -> YYY MTA：邮件发送到你邮箱所在的第三方服务器上\n",
    "    - YYY MTA --> MDA：邮件在邮箱中\n",
    "    - MDA --> MUA：邮件下载到本地电脑"
   ]
  }
 ],
 "metadata": {
  "kernelspec": {
   "display_name": "Python 3",
   "language": "python",
   "name": "python3"
  },
  "language_info": {
   "codemirror_mode": {
    "name": "ipython",
    "version": 3
   },
   "file_extension": ".py",
   "mimetype": "text/x-python",
   "name": "python",
   "nbconvert_exporter": "python",
   "pygments_lexer": "ipython3",
   "version": "3.7.0"
  }
 },
 "nbformat": 4,
 "nbformat_minor": 2
}
