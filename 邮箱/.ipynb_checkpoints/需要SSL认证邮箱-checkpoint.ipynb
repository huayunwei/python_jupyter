{
 "cells": [
  {
   "cell_type": "markdown",
   "metadata": {},
   "source": [
    "# 需要SSL认证\n",
    "- 会需要一个授权码，由邮箱服务器给出，授权码相当于邮箱的密码\n",
    "- 同时需要pop3和smtp服务"
   ]
  },
  {
   "cell_type": "code",
   "execution_count": null,
   "metadata": {},
   "outputs": [],
   "source": [
    "import smtplib\n",
    "from email.mime.text import MIMEText\n",
    "\n",
    "# ----------1.跟发件相关的参数------\n",
    "smtpserver = \"smtp.163.com\"            # 发件服务器\n",
    "port = 0                                            # 端口 \n",
    "sender = \"yoyo@163.com\"                # 账号\n",
    "psw = \"**************\"                         # 密码，授权码\n",
    "receiver = \"283340479@qq.com\"        # 接收人\n",
    "\n",
    "\n",
    "# ----------2.编辑邮件的内容------\n",
    "subject = \"这个是主题163\"\n",
    "body = '<p>这个是发送的163邮件</p>'  # 定义邮件正文为html格式\n",
    "msg = MIMEText(body, \"html\", \"utf-8\")\n",
    "msg['from'] = sender\n",
    "msg['to'] = \"283340479@qq.com\"\n",
    "msg['subject'] = subject\n",
    "\n",
    "# 发送邮件\n",
    "smtp = smtplib.SMTP_SSL(smtpserver,port) # 连服务器\n",
    "smtp.login(sender,psw)\n",
    "smtp.sendmail(sender,receiver,msg.as_string())\n",
    "smtp.quit()\n"
   ]
  }
 ],
 "metadata": {
  "kernelspec": {
   "display_name": "Python 3",
   "language": "python",
   "name": "python3"
  },
  "language_info": {
   "codemirror_mode": {
    "name": "ipython",
    "version": 3
   },
   "file_extension": ".py",
   "mimetype": "text/x-python",
   "name": "python",
   "nbconvert_exporter": "python",
   "pygments_lexer": "ipython3",
   "version": "3.7.0"
  }
 },
 "nbformat": 4,
 "nbformat_minor": 2
}
