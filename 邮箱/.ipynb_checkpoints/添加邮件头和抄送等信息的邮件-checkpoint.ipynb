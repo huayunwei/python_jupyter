{
 "cells": [
  {
   "cell_type": "code",
   "execution_count": null,
   "metadata": {},
   "outputs": [],
   "source": [
    "from email.mime.text import MIMEText\n",
    "from email.header import Header\n",
    "\n",
    "msg = MIMEText(\"Hello wold\",  \"plain\", \"utf-8\")\n",
    "# 下面代码故意写错，说明，所谓的发送者的地址，只是从一个Header的第一个参数作为字符串构建的内容\n",
    "# 用utf8编码是因为很可能内容包含非英文字符\n",
    "header_from = Header(\"从图灵学院邮箱发出去的<TuLingXueYuan@qq.cn>\", \"utf-8\")\n",
    "msg['From'] = header_from\n",
    "\n",
    "# 填写接受者信息\n",
    "header_to = Header(\"去王晓静的地方<wangxiaojing@sina.com>\", 'utf-8')\n",
    "msg['To'] = header_to\n",
    "\n",
    "header_sub = Header(\"这是图灵学院的主题\", 'utf-8')\n",
    "msg['Subject'] = header_sub\n",
    "\n",
    "\n",
    "\n",
    "# 构建发送者地址和登录信息\n",
    "from_addr = \"1366798119@qq.com\"\n",
    "from_pwd = \"hjpovygcxmrshhcj\"\n",
    "\n",
    "\n",
    "# 构建邮件接受者信息\n",
    "to_addr = \"1366798119@qq.com\"\n",
    "\n",
    "smtp_srv = \"smtp.qq.com\"\n",
    "\n",
    "\n",
    "try:\n",
    "    import smtplib\n",
    "\n",
    "    srv = smtplib.SMTP_SSL(smtp_srv.encode(), 465)\n",
    "\n",
    "    srv.login(from_addr, from_pwd)\n",
    "    srv.sendmail(from_addr, [to_addr], msg.as_string())\n",
    "    srv.quit()\n",
    "\n",
    "except Exception as e:\n",
    "    print(e)"
   ]
  }
 ],
 "metadata": {
  "kernelspec": {
   "display_name": "Python 3",
   "language": "python",
   "name": "python3"
  },
  "language_info": {
   "codemirror_mode": {
    "name": "ipython",
    "version": 3
   },
   "file_extension": ".py",
   "mimetype": "text/x-python",
   "name": "python",
   "nbconvert_exporter": "python",
   "pygments_lexer": "ipython3",
   "version": "3.7.0"
  }
 },
 "nbformat": 4,
 "nbformat_minor": 2
}
