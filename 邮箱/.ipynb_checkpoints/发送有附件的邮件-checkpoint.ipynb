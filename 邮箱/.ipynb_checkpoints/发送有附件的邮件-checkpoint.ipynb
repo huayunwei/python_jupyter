{
 "cells": [
  {
   "cell_type": "code",
   "execution_count": null,
   "metadata": {},
   "outputs": [],
   "source": [
    "from email.mime.text import MIMEText # 构建附件使用\n",
    "from email.mime.multipart import MIMEBase,MIMEMultipart #构建基础邮件使用\n",
    "\n",
    "mail_mul = MIMEMultipart()\n",
    "\n",
    "# 构建邮件正文\n",
    "mail_text = MIMEText(\"xxxx\",\"plain\",\"ytf-8\")\n",
    "# 把构建好的邮件正文附加邮件中\n",
    "mail_mul.attach(mail_text)\n",
    "\n",
    "# 构建附加\n",
    "# 构建附件，需要从本地读入附件\n",
    "# 打开一个本地文件\n",
    "# 以rb格式打开\n",
    "with open(\"02.html\",\"rb\") as f:\n",
    "    s = f.read()\n",
    "    # 设置附件的MIME和文件名\n",
    "    m = MIMEText(s,'base64','utf-8')\n",
    "    m['Content-Type'] = 'application/octet-stream'\n",
    "    \n",
    "    m['Content-Disposition'] = \"attachment;filename='02.html'\"\n",
    "    \n",
    "    mail_mul.attach(m)\n",
    "    \n",
    "\n",
    "from_addr = \"1366798119@qq.com\"\n",
    "\n",
    "from_pwd = \"hjpovygcxmrshhcj\"\n",
    "\n",
    "to_addr = \"1366798119@qq.com\"\n",
    "\n",
    "smtp_srv = \"smtp.qq.com\"\n",
    "\n",
    "try:\n",
    "    import smtplib\n",
    "    srv = smtplib.SMTP_SSL(smtp_srv.encode(), 465)\n",
    "    srv.login(from_addr, from_pwd)\n",
    "    srv.sendmail(from_addr, [to_addr], mail_mul.as_string())\n",
    "    srv.quit()\n",
    "except Exception as e:\n",
    "    print(e)"
   ]
  }
 ],
 "metadata": {
  "kernelspec": {
   "display_name": "Python 3",
   "language": "python",
   "name": "python3"
  },
  "language_info": {
   "codemirror_mode": {
    "name": "ipython",
    "version": 3
   },
   "file_extension": ".py",
   "mimetype": "text/x-python",
   "name": "python",
   "nbconvert_exporter": "python",
   "pygments_lexer": "ipython3",
   "version": "3.7.0"
  }
 },
 "nbformat": 4,
 "nbformat_minor": 2
}
