{
 "cells": [
  {
   "cell_type": "code",
   "execution_count": null,
   "metadata": {},
   "outputs": [],
   "source": [
    "# coding:utf-8\n",
    "import smtplib\n",
    "from email.mime.text import MIMEText\n",
    "from email.mime.multipart import MIMEMultipart\n",
    "\n",
    "# ----------1.跟发件相关的参数------\n",
    "\n",
    "smtpserver = \"smtp.163.com\"           # 发件服务器\n",
    "port = 465                                           # 端口\n",
    "sender = \"yoyo@163.com\"               # 账号\n",
    "psw = \"***********\"                             # 密码\n",
    "receiver = \"283340479@qq.com\"        # 接收人\n",
    "\n",
    "# ----------2.编辑邮件的内容------\n",
    "# 读文件\n",
    "file_path = \"result.html\"\n",
    "with open(file_path, \"rb\") as fp:\n",
    "    mail_body = fp.read()\n",
    "\n",
    "msg = MIMEMultipart()\n",
    "msg[\"from\"] = sender                             # 发件人\n",
    "msg[\"to\"] = receiver                               # 收件人\n",
    "msg[\"subject\"] = \"这个我的主题\"             # 主题\n",
    "\n",
    "# 正文\n",
    "body = MIMEText(mail_body, \"html\", \"utf-8\")\n",
    "msg.attach(body)\n",
    "\n",
    "# 附件\n",
    "att = MIMEText(mail_body, \"base64\", \"utf-8\")\n",
    "att[\"Content-Type\"] = \"application/octet-stream\"\n",
    "att[\"Content-Disposition\"] = 'attachment; filename=\"test_report.html\"'\n",
    "msg.attach(att)\n",
    "\n",
    "# ----------3.发送邮件：需要ssl认证和不用认证的代码------\n",
    "try:\n",
    "    smtp = smtplib.SMTP()\n",
    "    smtp.connect(smtpserver)                      # 连服务器\n",
    "    smtp.login(sender, psw)\n",
    "except:\n",
    "    smtp = smtplib.SMTP_SSL(smtpserver, port)\n",
    "    smtp.login(sender, psw)                       # 登录\n",
    "smtp.sendmail(sender, receiver, msg.as_string())  # 发送\n",
    "smtp.quit()    "
   ]
  }
 ],
 "metadata": {
  "kernelspec": {
   "display_name": "Python 3",
   "language": "python",
   "name": "python3"
  },
  "language_info": {
   "codemirror_mode": {
    "name": "ipython",
    "version": 3
   },
   "file_extension": ".py",
   "mimetype": "text/x-python",
   "name": "python",
   "nbconvert_exporter": "python",
   "pygments_lexer": "ipython3",
   "version": "3.7.0"
  }
 },
 "nbformat": 4,
 "nbformat_minor": 2
}
