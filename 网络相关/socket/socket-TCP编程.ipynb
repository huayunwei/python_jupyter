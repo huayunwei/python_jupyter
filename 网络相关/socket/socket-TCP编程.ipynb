{
 "cells": [
  {
   "cell_type": "code",
   "execution_count": 2,
   "metadata": {},
   "outputs": [
    {
     "name": "stdout",
     "output_type": "stream",
     "text": [
      "start\n"
     ]
    },
    {
     "ename": "UnboundLocalError",
     "evalue": "local variable 'sock' referenced before assignment",
     "output_type": "error",
     "traceback": [
      "\u001b[1;31m---------------------------------------------------------------------------\u001b[0m",
      "\u001b[1;31mUnboundLocalError\u001b[0m                         Traceback (most recent call last)",
      "\u001b[1;32m<ipython-input-2-fc4d6d321774>\u001b[0m in \u001b[0;36m<module>\u001b[1;34m()\u001b[0m\n\u001b[0;32m     34\u001b[0m \u001b[1;32mif\u001b[0m \u001b[0m__name__\u001b[0m \u001b[1;33m==\u001b[0m \u001b[1;34m\"__main__\"\u001b[0m\u001b[1;33m:\u001b[0m\u001b[1;33m\u001b[0m\u001b[0m\n\u001b[0;32m     35\u001b[0m     \u001b[0mprint\u001b[0m\u001b[1;33m(\u001b[0m\u001b[1;34m\"start\"\u001b[0m\u001b[1;33m)\u001b[0m\u001b[1;33m\u001b[0m\u001b[0m\n\u001b[1;32m---> 36\u001b[1;33m     \u001b[0mtcp_srv\u001b[0m\u001b[1;33m(\u001b[0m\u001b[1;33m)\u001b[0m\u001b[1;33m\u001b[0m\u001b[0m\n\u001b[0m\u001b[0;32m     37\u001b[0m     \u001b[0mprint\u001b[0m\u001b[1;33m(\u001b[0m\u001b[1;34m\"end\"\u001b[0m\u001b[1;33m)\u001b[0m\u001b[1;33m\u001b[0m\u001b[0m\n",
      "\u001b[1;32m<ipython-input-2-fc4d6d321774>\u001b[0m in \u001b[0;36mtcp_srv\u001b[1;34m()\u001b[0m\n\u001b[0;32m     12\u001b[0m \u001b[1;32mimport\u001b[0m \u001b[0msocket\u001b[0m\u001b[1;33m\u001b[0m\u001b[0m\n\u001b[0;32m     13\u001b[0m \u001b[1;32mdef\u001b[0m \u001b[0mtcp_srv\u001b[0m\u001b[1;33m(\u001b[0m\u001b[1;33m)\u001b[0m\u001b[1;33m:\u001b[0m\u001b[1;33m\u001b[0m\u001b[0m\n\u001b[1;32m---> 14\u001b[1;33m     \u001b[0msock\u001b[0m \u001b[1;33m=\u001b[0m \u001b[0msocket\u001b[0m\u001b[1;33m.\u001b[0m\u001b[0msocket\u001b[0m\u001b[1;33m(\u001b[0m\u001b[0msocket\u001b[0m\u001b[1;33m.\u001b[0m\u001b[0mAF_INET\u001b[0m\u001b[1;33m,\u001b[0m\u001b[0msock\u001b[0m\u001b[1;33m.\u001b[0m\u001b[0mSOCK_STREAM\u001b[0m\u001b[1;33m)\u001b[0m\u001b[1;33m\u001b[0m\u001b[0m\n\u001b[0m\u001b[0;32m     15\u001b[0m \u001b[1;33m\u001b[0m\u001b[0m\n\u001b[0;32m     16\u001b[0m     \u001b[0maddr\u001b[0m \u001b[1;33m=\u001b[0m \u001b[1;33m(\u001b[0m\u001b[0mip\u001b[0m\u001b[1;33m,\u001b[0m\u001b[0mport\u001b[0m\u001b[1;33m)\u001b[0m\u001b[1;33m\u001b[0m\u001b[0m\n",
      "\u001b[1;31mUnboundLocalError\u001b[0m: local variable 'sock' referenced before assignment"
     ]
    }
   ],
   "source": [
    "'''\n",
    "server端：\n",
    "1、建立socket负责具体通信，这个socket其实只负责接收对方的请求，真正通信的是链接后重新建立的socet\n",
    "2、绑定端口和地址\n",
    "3、监听接入的访问socket\n",
    "4、接受访问的socket，即建立了一个通讯的链接通路\n",
    "5、接收对方的发送内容，利用接收到的socket接收内容\n",
    "6、如果有必要，给对方发送反馈信息\n",
    "7、关闭链接通路\n",
    "'''\n",
    "\n",
    "import socket\n",
    "def tcp_srv():\n",
    "    sock = socket.socket(socket.AF_INET,sock.SOCK_STREAM)\n",
    "    \n",
    "    addr = (ip,port)\n",
    "    \n",
    "    sock.bind(addr)\n",
    "    \n",
    "    sock.listen()\n",
    "    \n",
    "    while True:\n",
    "        skt,addr = sock.accept()\n",
    "        \n",
    "        msg = skt.recv(500)\n",
    "        \n",
    "        msg = msg.decode()\n",
    "        \n",
    "        ret = \"received\"\n",
    "        \n",
    "        skt.send(rst.encode())\n",
    "        \n",
    "        skt.close()\n",
    "if __name__ == \"__main__\":\n",
    "    print(\"start\")\n",
    "    tcp_srv()\n",
    "    print(\"end\")"
   ]
  },
  {
   "cell_type": "code",
   "execution_count": 1,
   "metadata": {
    "scrolled": true
   },
   "outputs": [
    {
     "data": {
      "text/plain": [
       "'\\nClient端：\\n1、建立通信socket\\n2、链接对方，请求跟对方建立通路\\n3、发送内容到对方服务器\\n4、接收对方的反馈\\n5、关闭链接通路\\n'"
      ]
     },
     "execution_count": 1,
     "metadata": {},
     "output_type": "execute_result"
    }
   ],
   "source": [
    "'''\n",
    "Client端：\n",
    "1、建立通信socket\n",
    "2、链接对方，请求跟对方建立通路\n",
    "3、发送内容到对方服务器\n",
    "4、接收对方的反馈\n",
    "5、关闭链接通路\n",
    "'''"
   ]
  },
  {
   "cell_type": "code",
   "execution_count": null,
   "metadata": {},
   "outputs": [],
   "source": [
    "import socket\n",
    "\n",
    "def tcp_clt():\n",
    "    # 1. 建立通信socket\n",
    "    sock = socket.socket(socket.AF_INET, socket.SOCK_STREAM)\n",
    "    # 2. 链接对方，请求跟对方建立通路\n",
    "    addr = (\"127.0.0.1\", 8998)\n",
    "    sock.connect(addr)\n",
    "    # 3. 发送内容到对方服务器\n",
    "    msg = \"I love wangxiaojing\"\n",
    "    sock.send(msg.encode())\n",
    "    # 4. 接受对方的反馈\n",
    "    rst =  sock.recv(500)\n",
    "    print(rst.decode())\n",
    "    # 5. 关闭链接通路\n",
    "    sock.close()\n",
    "\n",
    "\n",
    "if __name__ == \"__main__\":\n",
    "    tcp_clt()"
   ]
  }
 ],
 "metadata": {
  "kernelspec": {
   "display_name": "Python 3",
   "language": "python",
   "name": "python3"
  },
  "language_info": {
   "codemirror_mode": {
    "name": "ipython",
    "version": 3
   },
   "file_extension": ".py",
   "mimetype": "text/x-python",
   "name": "python",
   "nbconvert_exporter": "python",
   "pygments_lexer": "ipython3",
   "version": "3.7.0"
  }
 },
 "nbformat": 4,
 "nbformat_minor": 2
}
