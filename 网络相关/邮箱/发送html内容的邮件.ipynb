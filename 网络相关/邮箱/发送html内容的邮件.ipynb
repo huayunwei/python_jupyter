{
 "cells": [
  {
   "cell_type": "code",
   "execution_count": null,
   "metadata": {},
   "outputs": [],
   "source": [
    "from email.mime.text import  MIMEText\n",
    "\n",
    "mail_content = \"\"\"\n",
    "        <!DOCTYPE html>\n",
    "        <html lang=\"en\">\n",
    "        <head>\n",
    "            <meta charset=\"UTF-8\">\n",
    "            <title>Title</title>\n",
    "        </head>\n",
    "        <body>\n",
    "        <h1> 这是一封HTML格式邮件</h1>\n",
    "        </body>\n",
    "        </html>\n",
    "        \"\"\"\n",
    "\n",
    "#  ----- 和文本文件邮件的不同 -------\n",
    "msg = MIMEText(mail_content, \"html\", \"utf-8\")\n",
    "\n",
    "# 构建发送者地址和登录信息\n",
    "from_addr = \"1366798119@qq.com\"\n",
    "from_pwd = \"hjpovygcxmrshhcj\"\n",
    "\n",
    "\n",
    "# 构建邮件接受者信息\n",
    "to_addr = \"1366798119@qq.com\"\n",
    "\n",
    "smtp_srv = \"smtp.qq.com\"\n",
    "\n",
    "\n",
    "try:\n",
    "    import smtplib\n",
    "\n",
    "    srv = smtplib.SMTP_SSL(smtp_srv.encode(), 465)\n",
    "\n",
    "    srv.login(from_addr, from_pwd)\n",
    "    srv.sendmail(from_addr, [to_addr], msg.as_string())\n",
    "    srv.quit()\n",
    "\n",
    "except Exception as e:\n",
    "    print(e)"
   ]
  }
 ],
 "metadata": {
  "kernelspec": {
   "display_name": "Python 3",
   "language": "python",
   "name": "python3"
  },
  "language_info": {
   "codemirror_mode": {
    "name": "ipython",
    "version": 3
   },
   "file_extension": ".py",
   "mimetype": "text/x-python",
   "name": "python",
   "nbconvert_exporter": "python",
   "pygments_lexer": "ipython3",
   "version": "3.7.0"
  }
 },
 "nbformat": 4,
 "nbformat_minor": 2
}
