{
 "cells": [
  {
   "cell_type": "markdown",
   "metadata": {},
   "source": [
    "# 网络\n",
    "- 网络模型：\n",
    "    - 七层\n",
    "        - 物理层\n",
    "        - 数据链路层\n",
    "        - 网络层\n",
    "        - 传输层\n",
    "        - 会话层\n",
    "        - 表示层\n",
    "        - 应用层\n",
    "    - 四层\n",
    "        - 链路层\n",
    "        - 网络\n",
    "        - 传输层\n",
    "        - 应用层"
   ]
  },
  {
   "cell_type": "markdown",
   "metadata": {},
   "source": [
    "## TCP/IP协议族\n",
    "- IP地址：负责在网络上唯一定位一个机器\n",
    "    - ip地址分为ABCDE类\n",
    "    - 由四个数字段组成，每个数字段的取值是0-255\n",
    "    - 192.168.xxx.xxx是局域网ip\n",
    "    - 127.0.0.1是本机ip\n",
    "    - 目前ip分为ipv4和ipv6两种\n",
    "    \n",
    "- 端口\n",
    "    - 范围：0-65535\n",
    "        - 知名端口：0-1023\n",
    "        - 非知名端口：1024-"
   ]
  },
  {
   "cell_type": "markdown",
   "metadata": {},
   "source": [
    "## TCP/UDP协议\n",
    "- UDP：非安全的不面向链接的传输\n",
    "    - 安全性差\n",
    "    - 大小限制64Kb\n",
    "    - 没有顺序\n",
    "    - 速度快\n",
    "- TCP：基于链接的通信"
   ]
  }
 ],
 "metadata": {
  "kernelspec": {
   "display_name": "Python 3",
   "language": "python",
   "name": "python3"
  },
  "language_info": {
   "codemirror_mode": {
    "name": "ipython",
    "version": 3
   },
   "file_extension": ".py",
   "mimetype": "text/x-python",
   "name": "python",
   "nbconvert_exporter": "python",
   "pygments_lexer": "ipython3",
   "version": "3.7.0"
  }
 },
 "nbformat": 4,
 "nbformat_minor": 2
}
