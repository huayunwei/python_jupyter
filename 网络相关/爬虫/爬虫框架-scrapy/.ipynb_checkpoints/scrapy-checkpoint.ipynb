{
 "cells": [
  {
   "cell_type": "markdown",
   "metadata": {},
   "source": [
    "# Scrapy\n",
    "- 组成\n",
    "    - ScrapyEngine：神经中枢，大脑，核心\n",
    "    - Scheduler调度器：引擎发来的request请求，调度器需要处理，然后交换引擎\n",
    "    - Downloader下载器：把引擎发来的requests发出请求，得到response\n",
    "    - Spider爬虫：负责吧下载器得到的页面/结果进行分解，分解成数据+连接\n",
    "    - ItemPipeline管道：详细处理Item\n",
    "    - DownloaderMiddleware下载中间件：自定义下载的功能扩展组件\n",
    "    - SpiderMiddleware爬虫中间件：对spider进行功能扩展"
   ]
  },
  {
   "cell_type": "code",
   "execution_count": null,
   "metadata": {},
   "outputs": [],
   "source": []
  }
 ],
 "metadata": {
  "kernelspec": {
   "display_name": "Python 3",
   "language": "python",
   "name": "python3"
  },
  "language_info": {
   "codemirror_mode": {
    "name": "ipython",
    "version": 3
   },
   "file_extension": ".py",
   "mimetype": "text/x-python",
   "name": "python",
   "nbconvert_exporter": "python",
   "pygments_lexer": "ipython3",
   "version": "3.7.0"
  }
 },
 "nbformat": 4,
 "nbformat_minor": 2
}
