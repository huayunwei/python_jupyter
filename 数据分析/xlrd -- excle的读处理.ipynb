{
 "cells": [
  {
   "cell_type": "markdown",
   "metadata": {},
   "source": [
    "# xlrd -- 对excel的读取\n",
    "- 导入：import xlrd\n",
    "- 打开：data = xlrd.open_workbook('文件地址')\n",
    "- 获取工作表\n",
    "    - table = data.sheets()[index] \n",
    "    - table = data.sheet_by_index(index)\n",
    "    - table = data.sheet_by_name(u'sheet名')\n",
    "- 获取整行和整列的值（返回数组）\n",
    "    - table.row_values(i) # 整行的值\n",
    "    - table.col_values(i) # 整列的值\n",
    "- 获取行数和列数（返回数字）\n",
    "    - table.nrows：行数\n",
    "    - table.ncols：列数\n",
    "- 获取单元格的值\n",
    "    - table.cell(row,col).value"
   ]
  }
 ],
 "metadata": {
  "kernelspec": {
   "display_name": "Python 3",
   "language": "python",
   "name": "python3"
  },
  "language_info": {
   "codemirror_mode": {
    "name": "ipython",
    "version": 3
   },
   "file_extension": ".py",
   "mimetype": "text/x-python",
   "name": "python",
   "nbconvert_exporter": "python",
   "pygments_lexer": "ipython3",
   "version": "3.7.0"
  }
 },
 "nbformat": 4,
 "nbformat_minor": 2
}
