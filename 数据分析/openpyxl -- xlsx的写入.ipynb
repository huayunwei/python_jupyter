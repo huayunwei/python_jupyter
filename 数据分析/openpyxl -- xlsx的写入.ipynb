{
 "cells": [
  {
   "cell_type": "markdown",
   "metadata": {},
   "source": [
<<<<<<< HEAD
    "# openpyxl\n",
    "- 教程：\n",
    "    - https://www.cnblogs.com/Unikfox/p/9124767.html\n",
    "    - https://www.cnblogs.com/Unikfox/p/9124767.html"
=======
    "[教程](https://www.cnblogs.com/zeke-python-road/p/8986318.html)\n",
    "[教程-简书](https://www.jianshu.com/p/ce2ba7caa414)\n",
    "[教程](https://blog.csdn.net/u014647208/article/details/78684812)\n",
    "- 没有删除功能"
>>>>>>> 7d0c2850dd5f8c2f7205053aa9fda9cfbc0c06c6
   ]
  },
  {
   "cell_type": "markdown",
   "metadata": {},
   "source": []
  }
 ],
 "metadata": {
  "kernelspec": {
   "display_name": "Python 3",
   "language": "python",
   "name": "python3"
  },
  "language_info": {
   "codemirror_mode": {
    "name": "ipython",
    "version": 3
   },
   "file_extension": ".py",
   "mimetype": "text/x-python",
   "name": "python",
   "nbconvert_exporter": "python",
   "pygments_lexer": "ipython3",
   "version": "3.7.0"
  }
 },
 "nbformat": 4,
 "nbformat_minor": 2
}
