{
 "cells": [
  {
   "cell_type": "markdown",
   "metadata": {},
   "source": [
    "# 文件\n",
    "- 长久保存信息的一种数据信息集合\n",
    "- 操作\n",
    "    - 打开文件：open\n",
    "        - 参数1：dir -- 文件的路径和名称和文件后缀名\n",
    "            - 路径写法：\n",
    "                - G:/xx,txt\n",
    "                - G:\\\\xx.txt\n",
    "                - rG:\\xx.txt\n",
    "        - 参数2：mode -- 表名文件用什么方式打开\n",
    "         ![](img/1.png)\n",
    "        - 参数3：encoding=xx -- 编码方式"
   ]
  },
  {
   "cell_type": "code",
   "execution_count": null,
   "metadata": {},
   "outputs": [],
   "source": [
    "# 打开文件\n",
    "# r表示后面字符串内容不需要转义\n",
    "f = open(r\"test01.txt\",\"w\")\n",
    "f.close()\n",
    "\n",
    "# 获取当前指针所在的位置\n",
    "f.tell() #文件指针当前所在的位置\n",
    "\n",
    "# 移动当前指针所在的位置\n",
    "# offset：开始偏移量，代表需要移动偏移的字节数\n",
    "# whence：可选，默认值为0，给offset参数一个定义，表示要从哪个位置开始偏移\n",
    "# whence可选值：0-从文件开头开始算起，1-从当前位置开始算起，2-从文件末尾算起\n",
    "f.seek(offset[,whence])\n",
    "\n",
    "\n",
    "# 读取文件内容：num个字符\n",
    "f.read(num)  \n",
    "\n",
    "# 读取文件内容 ：一行\n",
    "f.readline()\n",
    "\n",
    "# 读取文件内容：所有行，返回列表且去除返回符\n",
    "f.read().splitlines()\n",
    "\n",
    "# 关闭文件\n",
    "f.close()"
   ]
  },
  {
   "cell_type": "markdown",
   "metadata": {},
   "source": [
    "## with语句\n",
    "- with语句使用的技术是一种称为上下文管理协议的技术\n",
    "- 自动判断文件的作用域，自动关闭不再使用的文件"
   ]
  },
  {
   "cell_type": "code",
   "execution_count": null,
   "metadata": {},
   "outputs": [],
   "source": [
    "'''\n",
    "with open(fileDir,mode) as 打开的文件的代名词：\n",
    "    对打开的文件的操作\n",
    "    ....\n",
    "\n",
    "1、在执行结束后，会自动调用f.close()，关闭文件\n",
    "2、支持同时对多个文件的操作\n",
    "    with open(fileDir,mode) as file1,open(fileDir,mode) as file2:\n",
    "            .....\n",
    "'''"
   ]
  }
 ],
 "metadata": {
  "kernelspec": {
   "display_name": "Python 3",
   "language": "python",
   "name": "python3"
  },
  "language_info": {
   "codemirror_mode": {
    "name": "ipython",
    "version": 3
   },
   "file_extension": ".py",
   "mimetype": "text/x-python",
   "name": "python",
   "nbconvert_exporter": "python",
   "pygments_lexer": "ipython3",
   "version": "3.7.0"
  }
 },
 "nbformat": 4,
 "nbformat_minor": 2
}
