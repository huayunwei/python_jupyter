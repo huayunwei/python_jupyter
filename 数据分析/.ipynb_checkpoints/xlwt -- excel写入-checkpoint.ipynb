{
 "cells": [
  {
   "cell_type": "markdown",
   "metadata": {},
   "source": [
    "# xlwt  --- 应该没有更新的对python3不兼容\n",
    "- 导入：import xlwt\n",
    "- 创建workbook，一个excel工作区域：workbook = xlwt.Workbook([encoding=''])\n",
    "- 创建sheet：worksheet = workbook.add_sheet('sheet名字')\n",
    "- 向sheet中写入内容：worksheet.write(row,col,value)\n",
    "- 保存工作区域：worksheet.save('文件名字')"
   ]
  },
  {
   "cell_type": "code",
   "execution_count": null,
   "metadata": {},
   "outputs": [],
   "source": []
  }
 ],
 "metadata": {
  "kernelspec": {
   "display_name": "Python 3",
   "language": "python",
   "name": "python3"
  },
  "language_info": {
   "codemirror_mode": {
    "name": "ipython",
    "version": 3
   },
   "file_extension": ".py",
   "mimetype": "text/x-python",
   "name": "python",
   "nbconvert_exporter": "python",
   "pygments_lexer": "ipython3",
   "version": "3.7.0"
  }
 },
 "nbformat": 4,
 "nbformat_minor": 2
}
