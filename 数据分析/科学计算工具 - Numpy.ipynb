{
 "cells": [
  {
   "cell_type": "markdown",
   "metadata": {},
   "source": [
    "# Numpy基础数据结构\n",
    "- numpy数组是一个多维数组对象，称为ndarray,由两部分组成：\n",
    "    - 实际的数据\n",
    "    - 描述这些数据的元数据\n",
    "- 数组：和列表类似，只是元素之间没有逗号而是空格作为分隔符\n",
    "    - 数组的维度数称为秩（rank），一维数组的秩为1，二维数组的秩为2\n",
    "    - 每个线性的数组称为一个轴axes，秩其实是描述轴的数量"
   ]
  },
  {
   "cell_type": "code",
   "execution_count": 1,
   "metadata": {},
   "outputs": [
    {
     "name": "stdout",
     "output_type": "stream",
     "text": [
      "[1 2 3 4 5]\n",
      "1\n",
      "(5,)\n",
      "5\n",
      "int32\n",
      "<memory at 0x12049C60>\n",
      "4\n"
     ]
    }
   ],
   "source": [
    "# 多维数组ndarray\n",
    "import numpy as np \n",
    "# 数组属性\n",
    "ar = np.array([1,2,3,4,5])\n",
    "print(ar) # 输出数组\n",
    "print(ar.ndim) # 输出数组维度的个数，维度的数量也成为rank\n",
    "print(ar.shape) # 数组的维度，对于n行m列的数组，shape为(n,m)\n",
    "print(ar.size) #数组的元素的总数，对于n行m列的数组，size为n*m\n",
    "print(ar.dtype) #数组中元素的类型\n",
    "print(ar.data) #包含实际数组元素的缓冲区，由于一般通过数组的索引获取元素，所以通常不需要使用这个属性\n",
    "print(ar.itemsize) #数组中每隔元素的字节大小,int类型字节为4，float字节为8"
   ]
  },
  {
   "cell_type": "code",
   "execution_count": 2,
   "metadata": {},
   "outputs": [
    {
     "name": "stdout",
     "output_type": "stream",
     "text": [
      "[0 1 2 3 4 5 6 7 8 9]\n",
      "[0. 1. 2. 3. 4. 5. 6. 7. 8. 9.]\n",
      "[ 5  6  7  8  9 10 11]\n",
      "[ 5.  7.  9. 11.]\n",
      "[   0    1    2 ... 9997 9998 9999]\n"
     ]
    }
   ],
   "source": [
    "# 创建数组：arange(),类似range()，在给定间隔内返回均匀间隔的值\n",
    "print(np.arange(10)) # 返回0-9，整型\n",
    "print(np.arange(10.0)) # 返回0.0 - 9.0，浮点型\n",
    "print(np.arange(5,12)) # 返回5-11\n",
    "print(np.arange(5.0,12,2)) #返回5.0-12.0，步长2\n",
    "print(np.arange(10000)) # 如果数组太大无法打印完全，numpy会自动跳过数组中间部分，以...表示"
   ]
  },
  {
   "cell_type": "code",
   "execution_count": null,
   "metadata": {},
   "outputs": [],
   "source": [
    "# 创建数组：linspace()：返回在间隔[开始,停止]上计算的num个均匀间隔的样本\n",
    "# numpy.linspace(start,stop,num=50,endpoint=True,retstep=False,dtype=None)\n",
    "# start：起始值,stop：结束值，num：生成样本数，默认为50\n",
    "# endpoint：如果为真，则停止是最后一个样本，否则，不包括在内，默认为True\n",
    "# retstep：如果为真，返回（样本，步骤），其中步长是样本之间的间距，输出为一个包含2个元素的元祖，第一个元素为array，第二个为步长实际值\n",
    "ar1 = np.linspace(2.0,3.0,num=5)\n",
    "ar2 = np.linspace(2.0,3.0,num=5,endpoint=False)\n",
    "ar3 = np.linspace(2.0,3.0,num=5,retstep=True)\n",
    "print(ar1,type(ar1))\n",
    "print(ar2)\n",
    "print(ar3,type(ar3))"
   ]
  },
  {
   "cell_type": "code",
   "execution_count": 4,
   "metadata": {},
   "outputs": [
    {
     "name": "stdout",
     "output_type": "stream",
     "text": [
      "[0. 0. 0. 0. 0.] float64\n",
      "[[0 0]\n",
      " [0 0]] int32\n",
      "----------\n",
      "[[0 1 2 3 4]\n",
      " [5 6 7 8 9]]\n",
      "[[0 0 0 0 0]\n",
      " [0 0 0 0 0]]\n",
      "----------\n",
      "[1. 1. 1. 1. 1. 1. 1. 1. 1.]\n",
      "[[[1. 1. 1. 1.]\n",
      "  [1. 1. 1. 1.]\n",
      "  [1. 1. 1. 1.]]\n",
      "\n",
      " [[1. 1. 1. 1.]\n",
      "  [1. 1. 1. 1.]\n",
      "  [1. 1. 1. 1.]]]\n",
      "[[1 1 1 1 1]\n",
      " [1 1 1 1 1]]\n"
     ]
    }
   ],
   "source": [
    "# 创建数组：zeros()/zeros_like()/ones()/ones_like()\n",
    "# numpy.zeros(shape,dtype=float,order='C')：返回给定形状和类型的新数组，用零填充\n",
    "# shape：数组维度，二维以上需要用（），且输入参数为整数\n",
    "# dtype：数据类型，默认numpy.float64\n",
    "# order：是否在存储器中以C或Fortran连续（按行或列方式）存储多维数据\n",
    "ar1 = np.zeros(5)\n",
    "ar2 = np.zeros((2,2),dtype = np.int)\n",
    "print(ar1,ar1.dtype)\n",
    "print(ar2,ar2.dtype)\n",
    "print('-'*10)\n",
    "\n",
    "ar3 = np.array([list(range(5)),list(range(5,10))])\n",
    "ar4 = np.zeros_like(ar3)\n",
    "print(ar3)\n",
    "print(ar4)\n",
    "print('-'*10)\n",
    "\n",
    "# one和zero类似，只是填充为1\n",
    "ar5 = np.ones(9)\n",
    "ar6 = np.ones((2,3,4))\n",
    "ar7 = np.ones_like(ar3)\n",
    "print(ar5)\n",
    "print(ar6)\n",
    "print(ar7)"
   ]
  },
  {
   "cell_type": "code",
   "execution_count": 5,
   "metadata": {},
   "outputs": [
    {
     "name": "stdout",
     "output_type": "stream",
     "text": [
      "[[1. 0. 0. 0. 0.]\n",
      " [0. 1. 0. 0. 0.]\n",
      " [0. 0. 1. 0. 0.]\n",
      " [0. 0. 0. 1. 0.]\n",
      " [0. 0. 0. 0. 1.]]\n"
     ]
    }
   ],
   "source": [
    "# 创建数组：eye()\n",
    "# 创建一个正方的N*N的单位矩阵，对角线值为1，其余为0\n",
    "print(np.eye(5))"
   ]
  },
  {
   "cell_type": "markdown",
   "metadata": {},
   "source": [
    "## ndarry的数据类型\n",
    "ndarray的数据类型\n",
    "\n",
    "bool\t用一个字节存储的布尔类型（True或False）\n",
    "\n",
    "inti\t由所在平台决定其大小的整数（一般为int32或int64）\n",
    "\n",
    "int8\t一个字节大小，-128 至 127\n",
    "\n",
    "int16\t整数，-32768 至 32767\n",
    "\n",
    "int32\t整数，-2 ** 31 至 2 ** 32 -1\n",
    "\n",
    "int64\t整数，-2 ** 63 至 2 ** 63 - 1\n",
    "\n",
    "uint8\t无符号整数，0 至 255\n",
    "\n",
    "uint16\t无符号整数，0 至 65535\n",
    "\n",
    "uint32\t无符号整数，0 至 2 ** 32 - 1\n",
    "\n",
    "uint64\t无符号整数，0 至 2 ** 64 - 1\n",
    "\n",
    "float16\t半精度浮点数：16位，正负号1位，指数5位，精度10位\n",
    "\n",
    "float32\t单精度浮点数：32位，正负号1位，指数8位，精度23位\n",
    "\n",
    "float64或float\t双精度浮点数：64位，正负号1位，指数11位，精度52位\n",
    "\n",
    "complex64\t复数，分别用两个32位浮点数表示实部和虚部\n",
    "\n",
    "complex128或complex\t复数，分别用两个64位浮点数表示实部和虚部"
   ]
  },
  {
   "cell_type": "markdown",
   "metadata": {},
   "source": [
    "## Numpy通用函数"
   ]
  },
  {
   "cell_type": "code",
   "execution_count": 9,
   "metadata": {},
   "outputs": [
    {
     "name": "stdout",
     "output_type": "stream",
     "text": [
      "[0 1 2 3 4 5 6 7 8 9] \n",
      " [0 1 2 3 4 5 6 7 8 9]\n",
      "[[1. 1.]\n",
      " [1. 1.]\n",
      " [1. 1.]\n",
      " [1. 1.]\n",
      " [1. 1.]] \n",
      " [[1. 1. 1. 1. 1.]\n",
      " [1. 1. 1. 1. 1.]]\n",
      "----------\n",
      "[0 1 2 3 4 5 6 7 8 9] \n",
      " [[0 1 2 3 4]\n",
      " [5 6 7 8 9]]\n",
      "[[0. 0. 0. 0. 0. 0. 0. 0.]\n",
      " [0. 0. 0. 0. 0. 0. 0. 0.]\n",
      " [0. 0. 0. 0. 0. 0. 0. 0.]]\n",
      "[[ 0  1  2  3]\n",
      " [ 4  5  6  7]\n",
      " [ 8  9 10 11]]\n",
      "----------\n",
      "[[0 1 2 3]\n",
      " [4 0 1 2]\n",
      " [3 4 0 1]]\n"
     ]
    }
   ],
   "source": [
    "# 数组形状：.T/.reshape()/.resize()，不改变原数组，生成新数组\n",
    "# .T：转置，例如原shape为(3,4)/(2,3,4)，转置结果为(4,3)/(4,3,2)，一维数组转置后结果不变\n",
    "ar1 = np.arange(10)\n",
    "ar2 = np.ones((5,2))\n",
    "print(ar1,'\\n',ar1.T)\n",
    "print(ar2,'\\n',ar2.T)\n",
    "print('-'*10)\n",
    "\n",
    "# .reshape：\n",
    "# numpy.reshape(a,newshape,order='C')：为数组提供新形状，而不改变其数据，所以元素数量需要一致\n",
    "ar1 = np.arange(10)\n",
    "ar3 = ar1.reshape(2,5) # 用法1：直接将已有数组改变形状\n",
    "ar4 = np.zeros((4,6)).reshape(3,8) # 用法2：生成数组后直接改变形状\n",
    "ar5 = np.reshape(np.arange(12),(3,4)) # 用法3：参数内添加数组，目标形状\n",
    "print(ar1,'\\n',ar3)\n",
    "print(ar4)\n",
    "print(ar5)\n",
    "print('-'*10)\n",
    "\n",
    "# numpy.resize(a,new_shape)：返回具有指定形状的新数组，如有必要可重复填充所需数量的元素\n",
    "ar6 = np.resize(np.arange(5),(3,4))\n",
    "print(ar6)"
   ]
  },
  {
   "cell_type": "code",
   "execution_count": 10,
   "metadata": {},
   "outputs": [
    {
     "name": "stdout",
     "output_type": "stream",
     "text": [
      "True\n",
      "[0 1 9 3 4 5 6 7 8 9] [0 1 9 3 4 5 6 7 8 9]\n",
      "False\n",
      "[9 1 9 3 4 5 6 7 8 9] [0 1 9 3 4 5 6 7 8 9]\n"
     ]
    }
   ],
   "source": [
    "# 数组的复制\n",
    "# 浅复制：使用=，指向为同一个内存块，所以一个改变另一个也改变\n",
    "ar1 = np.arange(10)\n",
    "ar2 = ar1\n",
    "print(ar2 is ar1)\n",
    "ar1[2] = 9\n",
    "print(ar1,ar2)\n",
    "\n",
    "# 深复制：copy方法生成数组及其数据的完整拷贝\n",
    "ar3 = ar1.copy()\n",
    "print(ar3 is ar1)\n",
    "ar1[0] = 9\n",
    "print(ar1,ar3)"
   ]
  },
  {
   "cell_type": "code",
   "execution_count": 11,
   "metadata": {},
   "outputs": [
    {
     "name": "stdout",
     "output_type": "stream",
     "text": [
      "[0. 1. 2. 3. 4. 5. 6. 7. 8. 9.] float64\n",
      "----------\n",
      "[0 1 2 3 4 5 6 7 8 9] int32\n",
      "[0. 1. 2. 3. 4. 5. 6. 7. 8. 9.] float64\n"
     ]
    }
   ],
   "source": [
    "# 数组类型转换：.astype()\n",
    "\n",
    "ar1 = np.arange(10,dtype=float)\n",
    "print(ar1,ar1.dtype)\n",
    "print('-'*10)\n",
    "\n",
    "# a.astype()：转换数组类型\n",
    "ar2 = ar1.astype(np.int32)\n",
    "print(ar2,ar2.dtype)\n",
    "print(ar1,ar1.dtype)"
   ]
  },
  {
   "cell_type": "code",
   "execution_count": null,
   "metadata": {},
   "outputs": [],
   "source": [
    "# 数组的堆叠\n",
    "# numpy.hstack(tup)：水平（按列顺序）堆叠数组\n",
    "# numpy.vstack(tup)：垂直（按列顺序）堆叠数组\n",
    "# numpy.stack(array,axis=0)：沿着新轴连接数组的序列\n",
    "# axis：假设两个数组[1,2,3]和[4,5,6]，shape均为(3,0)\n",
    "# axis=0,：[[1 2 3] [4 5 6]]，shape为(2,3)\n",
    "# axis=1：[[1,4] [2,5] [3,6]]，shape为(3,2)"
   ]
  },
  {
   "cell_type": "code",
   "execution_count": 12,
   "metadata": {},
   "outputs": [
    {
     "name": "stdout",
     "output_type": "stream",
     "text": [
      "[[ 0  1  2  3]\n",
      " [ 4  5  6  7]\n",
      " [ 8  9 10 11]\n",
      " [12 13 14 15]]\n",
      "[array([[ 0,  1],\n",
      "       [ 4,  5],\n",
      "       [ 8,  9],\n",
      "       [12, 13]]), array([[ 2,  3],\n",
      "       [ 6,  7],\n",
      "       [10, 11],\n",
      "       [14, 15]])] <class 'list'>\n",
      "[array([[0, 1, 2, 3]]), array([[4, 5, 6, 7]]), array([[ 8,  9, 10, 11]]), array([[12, 13, 14, 15]])] <class 'list'>\n"
     ]
    }
   ],
   "source": [
    "# 数组拆分\n",
    "# numpy.hsplit(ary,indices_or_sections)：将数组水平拆分成多个子元素，按列拆分\n",
    "ar = np.arange(16).reshape(4,4)\n",
    "ar1 = np.hsplit(ar,2)\n",
    "print(ar)\n",
    "print(ar1,type(ar1))\n",
    "\n",
    "# numpy.vsplit(ary,indices_or_sections)：将数组垂直（行方向）拆分成多个子数组，按行拆分\n",
    "ar2 = np.vsplit(ar,4)\n",
    "print(ar2,type(ar2))"
   ]
  },
  {
   "cell_type": "code",
   "execution_count": 18,
   "metadata": {},
   "outputs": [
    {
     "name": "stdout",
     "output_type": "stream",
     "text": [
      "[[10 11 12]\n",
      " [13 14 15]]\n",
      "[[ 0  2  4]\n",
      " [ 6  8 10]]\n",
      "[[1.         0.5        0.33333333]\n",
      " [0.25       0.2        0.16666667]]\n",
      "[[0.         1.         1.41421356]\n",
      " [1.73205081 2.         2.23606798]]\n",
      "2.5\n",
      "5\n",
      "0\n",
      "1.707825127659933\n",
      "2.9166666666666665\n",
      "15 [3 5 7]\n",
      "[1 2 3 4 5 6]\n"
     ]
    }
   ],
   "source": [
    "# 数组简单运算\n",
    "\n",
    "ar = np.arange(6).reshape(2,3)\n",
    "print(ar + 10) # 加\n",
    "print(ar * 2) # 乘\n",
    "print(1 / (ar+1)) # 除\n",
    "print(ar ** 0.5) # 幂\n",
    "\n",
    "print(ar.mean()) # 平均值\n",
    "print(ar.max()) #求最大值\n",
    "print(ar.min()) #求最小值\n",
    "print(ar.std()) #求标准差\n",
    "print(ar.var()) #求方差\n",
    "print(ar.sum(),np.sum(ar,axis=0)) # 求和,axis为0，按列求和，axis为1，按行求和\n",
    "print(np.sort(np.array([1,4,3,2,5,6]))) # 排序"
   ]
  },
  {
   "cell_type": "code",
   "execution_count": 19,
   "metadata": {},
   "outputs": [
    {
     "name": "stdout",
     "output_type": "stream",
     "text": [
      "[ 0  1  2  3  4  5  6  7  8  9 10 11 12 13 14 15 16 17 18 19]\n",
      "4\n",
      "[3 4 5]\n",
      "----------\n",
      "[[ 0  1  2  3]\n",
      " [ 4  5  6  7]\n",
      " [ 8  9 10 11]\n",
      " [12 13 14 15]] 数组轴数为2\n",
      "[ 8  9 10 11] 数组轴数为1\n",
      "9\n",
      "[[ 4  5  6  7]\n",
      " [ 8  9 10 11]]\n",
      "10\n",
      "[[1 2 3]\n",
      " [5 6 7]]\n",
      "[[[0 1]\n",
      "  [2 3]]\n",
      "\n",
      " [[4 5]\n",
      "  [6 7]]] 数组轴数为3\n",
      "[[0 1]\n",
      " [2 3]] 数组轴数为2\n",
      "[0 1]\n",
      "1\n"
     ]
    }
   ],
   "source": [
    "# 索引和切片\n",
    "ar = np.arange(20)\n",
    "print(ar)\n",
    "print(ar[4])\n",
    "print(ar[3:6])\n",
    "print('-'*10)\n",
    "\n",
    "# 一维数组\n",
    "ar = np.arange(16).reshape(4,4)\n",
    "print(ar,'数组轴数为%i' % ar.ndim)\n",
    "print(ar[2],'数组轴数为%i' %ar[2].ndim)\n",
    "print(ar[2][1])\n",
    "print(ar[1:3]) #切片为两个一维数组组成的二维数组\n",
    "print(ar[2,2]) # 切片数组中的第3行第3列\n",
    "print(ar[:2,1:]) # 切片数组中的1,2行，2,3,4列\n",
    "\n",
    "# 二维数组\n",
    "ar = np.arange(8).reshape(2,2,2)\n",
    "print(ar,'数组轴数为%i' % ar.ndim)\n",
    "print(ar[0],'数组轴数为%i' %ar[0].ndim)\n",
    "print(ar[0][0])\n",
    "print(ar[0][0][1])"
   ]
  },
  {
   "cell_type": "code",
   "execution_count": 20,
   "metadata": {},
   "outputs": [
    {
     "name": "stdout",
     "output_type": "stream",
     "text": [
      "[[ 0  1  2  3]\n",
      " [ 4  5  6  7]\n",
      " [ 8  9 10 11]]\n",
      "[ True False  True]\n",
      "[ True  True False False]\n",
      "[[ 0  1  2  3]\n",
      " [ 8  9 10 11]]\n",
      "[[0 1]\n",
      " [4 5]\n",
      " [8 9]]\n"
     ]
    }
   ],
   "source": [
    "# 布尔型索引及切片\n",
    "ar = np.arange(12).reshape(3,4)\n",
    "i = np.array([True,False,True])\n",
    "j = np.array([True,True,False,False])\n",
    "print(ar)\n",
    "print(i)\n",
    "print(j)\n",
    "print(ar[i,:]) # 在第一维度做判断，只保留True，这里第一维度就是行，ar[i,:] = ar[i]\n",
    "print(ar[:,j]) # 在第二维度做判断，这里如果ar[:,i]会有警告，因为i是3个元素，而ar在列上有4个"
   ]
  },
  {
   "cell_type": "code",
   "execution_count": 21,
   "metadata": {},
   "outputs": [
    {
     "name": "stdout",
     "output_type": "stream",
     "text": [
      "[0 1 2 3 4 5 6 7 8 9]\n",
      "[  0   1   2   3   4 100   6 200 200   9]\n",
      "[0 1 2 3 4 5 6 7 8 9]\n",
      "[  0   1   2   3   4   5   6 200 200   9]\n"
     ]
    }
   ],
   "source": [
    "# 数组索引及切片的值更改、复制\n",
    "\n",
    "ar = np.arange(10)\n",
    "print(ar)\n",
    "ar[5] = 100\n",
    "ar[7:9] = 200\n",
    "print(ar)\n",
    "\n",
    "ar = np.arange(10)\n",
    "b = ar.copy()\n",
    "b[7:9] = 200\n",
    "print(ar)\n",
    "print(b)"
   ]
  },
  {
   "cell_type": "code",
   "execution_count": 22,
   "metadata": {},
   "outputs": [
    {
     "name": "stdout",
     "output_type": "stream",
     "text": [
      "[[-0.90300921 -1.41412048  1.44181171 -0.65550627]\n",
      " [ 0.70532332  1.24529658 -0.38640618  0.65872945]\n",
      " [ 1.4955426   0.58959761  0.85144401 -1.27296272]\n",
      " [-0.61630547  0.48309062 -0.03957817 -0.1419201 ]]\n"
     ]
    }
   ],
   "source": [
    "# Numpy随机数：numpy.random\n",
    "# 随机数生成\n",
    "samples = np.random.normal(size=(4,4))\n",
    "print(samples)"
   ]
  },
  {
   "cell_type": "code",
   "execution_count": null,
   "metadata": {},
   "outputs": [],
   "source": [
    "# numpy.random.rand(d0,d1,...,dn)：生成一个[0,1)之间的随机浮点数或N维浮点数组 -- 均匀分布\n",
    "import matplotlib.pyplot as plt\n",
    "% matplotlib inline\n",
    "# 魔法函数，每次运行自动生成图标\n",
    "\n",
    "a = np.random.rand()\n",
    "print(a,type(a)) # 生成一个随机浮点数\n",
    "\n",
    "b = np.random.rand(4)\n",
    "print(b,type(b)) # 生成形状为4的一维数组\n",
    "\n",
    "c = np.random.rand(2,3)\n",
    "print(c,type(c))"
   ]
  },
  {
   "cell_type": "code",
   "execution_count": null,
   "metadata": {},
   "outputs": [],
   "source": [
    "# numpy.random.randn(d0,d1,....,dn)：生成一个浮点数或N维浮点数组 -- 正态分布\n",
    "\n",
    "samples1 = np.random.randn(1000)\n",
    "samples2 = np.random.randn(1000)\n",
    "plt.scatter(samples1,samples2)"
   ]
  },
  {
   "cell_type": "code",
   "execution_count": 24,
   "metadata": {},
   "outputs": [
    {
     "name": "stdout",
     "output_type": "stream",
     "text": [
      "0\n",
      "[1 1 1 1 0]\n",
      "[2 4 3 4 2]\n",
      "[[0 0 0]\n",
      " [1 0 0]]\n",
      "[[5 5 3]\n",
      " [3 5 2]]\n"
     ]
    }
   ],
   "source": [
    "# numpy.random.randint(low,high=None,size=None,dtype='1')：生成一个整数或N维整数数组\n",
    "# 若high不为None时，取[low,high)之间随机整数，否则取值[0,low)之间随机整数，且high必须大于low\n",
    "# dtype参数：只能是int类型\n",
    "\n",
    "# low=2：生成1个[0,2)之间随机整数\n",
    "print(np.random.randint(2))\n",
    "\n",
    "# low=2,size=5：生成5个[0,2)之间随机整数\n",
    "print(np.random.randint(2,size=5))\n",
    "\n",
    "#low=2,height=6,size=5：生成5个[2,6)之间的随机整数\n",
    "print(np.random.randint(2,6,size=5))\n",
    "\n",
    "#low=2,size=(2,3)：生成一个2*3整数数组，取数范围：[0,2)随机整数\n",
    "print(np.random.randint(2,size=(2,3)))\n",
    "\n",
    "#low=2,higt=6,size=(2,3)：生成一个2*3整数数组，取值返回:[2,6)随机整数\n",
    "print(np.random.randint(2,6,(2,3)))\n"
   ]
  },
  {
   "cell_type": "code",
   "execution_count": null,
   "metadata": {},
   "outputs": [],
   "source": [
    "# 存储数组数据 .npy文件\n",
    "ar = np.random.rand(5,5)\n",
    "print(ar)\n",
    "np.save('xxx.npy',ar)"
   ]
  },
  {
   "cell_type": "code",
   "execution_count": null,
   "metadata": {},
   "outputs": [],
   "source": [
    "# 读取数组数据 .npy文件\n",
    "ar_load = np.load('xxx.npy')\n",
    "print(ar_load)"
   ]
  },
  {
   "cell_type": "code",
   "execution_count": null,
   "metadata": {},
   "outputs": [],
   "source": [
    "# 存储/读取文本文件\n",
    "ar = np.random.rand(5,5)\n",
    "#np.savetxt(fname,X,fmt='%.18e',delimiter=' ',newline='\\n',header='',footer='',comments='#')：存储为文本txt文件\n",
    "np.savetxt('array.txt',ar,delimiter=',')\n",
    "\n",
    "ar_loadtxt = np.loadtxt('array.txt',delimiter=',')\n",
    "print(ar_loadtxt)"
   ]
  }
 ],
 "metadata": {
  "kernelspec": {
   "display_name": "Python 3",
   "language": "python",
   "name": "python3"
  },
  "language_info": {
   "codemirror_mode": {
    "name": "ipython",
    "version": 3
   },
   "file_extension": ".py",
   "mimetype": "text/x-python",
   "name": "python",
   "nbconvert_exporter": "python",
   "pygments_lexer": "ipython3",
   "version": "3.7.0"
  }
 },
 "nbformat": 4,
 "nbformat_minor": 2
}
