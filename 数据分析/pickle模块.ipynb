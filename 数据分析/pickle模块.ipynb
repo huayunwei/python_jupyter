{
 "cells": [
  {
   "cell_type": "markdown",
   "metadata": {},
   "source": [
    "# pickle模块\n",
    "- 提供了一个简单的持久化功能，可以将对象以文件的形式存放在磁盘上\n",
    "- 通过pickle模块的序列化操作，可以将程序中运行的对象信息保存到文件中去，永久存储\n",
    "- 通过pickle模块的反序列化操作，我们能够从文件中创建上一次程序保存的对象\n",
    "- 方法：\n",
    "    - pickle.dump()\n",
    "    - pickle.load()"
   ]
  },
  {
   "cell_type": "code",
   "execution_count": null,
   "metadata": {},
   "outputs": [],
   "source": [
    "# 存储：pickle.dump(obj,file[,protocol])\n",
    "import pickle\n",
    "data = {'a':[1,2,3,4]}\n",
    "\n",
    "# 以二进制的方式进行存储\n",
    "pic = open('filepath.pkl','wb')\n",
    "\n",
    "pickle.dump(data,pic)\n",
    "pic.close()\n",
    "# data会以他原本类型的样式存储在.pkl文件中"
   ]
  },
  {
   "cell_type": "code",
   "execution_count": null,
   "metadata": {},
   "outputs": [],
   "source": [
    "# 读取：pickle.load(file)\n",
    "\n",
    "f = open('filepath','rb')\n",
    "\n",
    "st = pickle.load(f)\n",
    "print(st)\n",
    "# 直接读取pkl文件内的数据，该数据为一个字典"
   ]
  }
 ],
 "metadata": {
  "kernelspec": {
   "display_name": "Python 3",
   "language": "python",
   "name": "python3"
  },
  "language_info": {
   "codemirror_mode": {
    "name": "ipython",
    "version": 3
   },
   "file_extension": ".py",
   "mimetype": "text/x-python",
   "name": "python",
   "nbconvert_exporter": "python",
   "pygments_lexer": "ipython3",
   "version": "3.7.0"
  }
 },
 "nbformat": 4,
 "nbformat_minor": 2
}
