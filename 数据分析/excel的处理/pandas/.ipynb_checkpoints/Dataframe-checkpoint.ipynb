{
 "cells": [
  {
   "cell_type": "markdown",
   "metadata": {},
   "source": [
    "# Dataframe\n",
    "- 二维数组Dataframe：是一个表格型的数据结构，包含一组有序的列，其列的值类型可以是数值，字符串，布尔值等\n",
    "- Dataframe中的数据以一个或多个二维块存放，不是列表、字典或一维数组结构"
   ]
  },
  {
   "cell_type": "code",
   "execution_count": 3,
   "metadata": {},
   "outputs": [
    {
     "name": "stdout",
     "output_type": "stream",
     "text": [
      "  name  age gender\n",
      "0    a    1      m\n",
      "1    b    2      m\n",
      "2    c    3      w\n",
      "<class 'pandas.core.frame.DataFrame'>\n",
      "RangeIndex(start=0, stop=3, step=1) \n",
      "该数据类型为： <class 'pandas.core.indexes.range.RangeIndex'>\n",
      "Index(['name', 'age', 'gender'], dtype='object') \n",
      "该数据类型为 <class 'pandas.core.indexes.base.Index'>\n",
      "[['a' 1 'm']\n",
      " ['b' 2 'm']\n",
      " ['c' 3 'w']] \n",
      "该数据类型为 <class 'numpy.ndarray'>\n"
     ]
    }
   ],
   "source": [
    "import pandas as pd\n",
    "import numpy as np\n",
    "# Dataframe 带有index行标签和columns列标签\n",
    "# .index：查看行标签\n",
    "# .columns：查看列标签\n",
    "# .values：查看值，数据类型为ndarray\n",
    "data = {'name':['a','b','c'],'age':[1,2,3],'gender':['m','m','w']}\n",
    "frame = pd.DataFrame(data)\n",
    "print(frame)\n",
    "print(type(frame))\n",
    "print(frame.index,'\\n该数据类型为：',type(frame.index))\n",
    "print(frame.columns,'\\n该数据类型为',type(frame.columns))\n",
    "print(frame.values,'\\n该数据类型为',type(frame.values))"
   ]
  },
  {
   "cell_type": "markdown",
   "metadata": {},
   "source": [
    "# Dataframe 创建"
   ]
  },
  {
   "cell_type": "code",
   "execution_count": 6,
   "metadata": {},
   "outputs": [
    {
     "name": "stdout",
     "output_type": "stream",
     "text": [
      "{'a': [1, 2, 3], 'b': [4, 5, 6]}\n",
      "{'one': array([0.51410767, 0.83528956, 0.74199338]), 'two': array([0.00354538, 0.96651467, 0.89534564])}\n",
      "   a  b\n",
      "0  1  4\n",
      "1  2  5\n",
      "2  3  6\n",
      "        one       two\n",
      "0  0.514108  0.003545\n",
      "1  0.835290  0.966515\n",
      "2  0.741993  0.895346\n",
      "   b    c  a  b\n",
      "0  4  NaN  1  4\n",
      "1  5  NaN  2  5\n",
      "2  6  NaN  3  6\n",
      "   b    c\n",
      "0  4  NaN\n",
      "1  5  NaN\n",
      "2  6  NaN\n",
      "         one       two\n",
      "f1  0.514108  0.003545\n",
      "f2  0.835290  0.966515\n",
      "f3  0.741993  0.895346\n"
     ]
    }
   ],
   "source": [
    "# Dataframe创建方式一：由数组/list组成的字典\n",
    "# 创建方法：pandas.Dataframe()\n",
    "\n",
    "data1 = {'a':[1,2,3],'b':[4,5,6]}\n",
    "data2 = {'one':np.random.rand(3),'two':np.random.rand(3)}\n",
    "\n",
    "print(data1)\n",
    "print(data2)\n",
    "\n",
    "df1 = pd.DataFrame(data1)\n",
    "df2 = pd.DataFrame(data2)\n",
    "print(df1)\n",
    "print(df2)\n",
    "\n",
    "# columns参数：可以重新指定列的顺序，格式为list，如果现有数据中没有该列，则产生NaN值\n",
    "# 如果columns重新指定时，列的数量可以小于原数据\n",
    "df1 = pd.DataFrame(data1,columns=['b','c','a','b'])\n",
    "print(df1)\n",
    "df1 = pd.DataFrame(data1,columns=['b','c'])\n",
    "print(df1)\n",
    "\n",
    "# index参数：重新定义index，格式为list，长度必须保持一致\n",
    "df2 = pd.DataFrame(data2,index=['f1','f2','f3'])\n",
    "print(df2)"
   ]
  },
  {
   "cell_type": "code",
   "execution_count": 4,
   "metadata": {},
   "outputs": [
    {
     "name": "stdout",
     "output_type": "stream",
     "text": [
      "{'one': 0    0.253376\n",
      "1    0.694209\n",
      "dtype: float64, 'two': 0    0.243005\n",
      "1    0.252494\n",
      "2    0.618899\n",
      "dtype: float64}\n",
      "{'one': a    0.902048\n",
      "b    0.425521\n",
      "dtype: float64, 'two': a    0.969927\n",
      "b    0.848560\n",
      "c    0.361410\n",
      "dtype: float64}\n",
      "        one       two\n",
      "0  0.253376  0.243005\n",
      "1  0.694209  0.252494\n",
      "2       NaN  0.618899\n",
      "        one       two\n",
      "a  0.902048  0.969927\n",
      "b  0.425521  0.848560\n",
      "c       NaN  0.361410\n"
     ]
    }
   ],
   "source": [
    "# 创建方法二：由Series组成的字典\n",
    "# 其中column为字典的key，index为Series的标签（index），如果没有指定index，则是默认数字标签\n",
    "# 如果两行的数量不一致，会默认用NaN代替\n",
    "data1 = {\n",
    "            'one':pd.Series(np.random.rand(2)),\n",
    "            'two':pd.Series(np.random.rand(3))\n",
    "        }\n",
    "data2 = {\n",
    "            'one':pd.Series(np.random.rand(2),index=['a','b']),\n",
    "            'two':pd.Series(np.random.rand(3),index=['a','b','c'])\n",
    "        }\n",
    "print(data1)\n",
    "print(data2)\n",
    "df1 = pd.DataFrame(data1)\n",
    "df2 = pd.DataFrame(data2)\n",
    "print(df1)\n",
    "print(df2)"
   ]
  },
  {
   "cell_type": "code",
   "execution_count": 5,
   "metadata": {},
   "outputs": [
    {
     "name": "stdout",
     "output_type": "stream",
     "text": [
      "[[0.97620446 0.99309431 0.36477411]\n",
      " [0.46306879 0.62926255 0.80124974]\n",
      " [0.87572901 0.58514006 0.98546744]]\n",
      "          0         1         2\n",
      "0  0.976204  0.993094  0.364774\n",
      "1  0.463069  0.629263  0.801250\n",
      "2  0.875729  0.585140  0.985467\n",
      "        one       two     three\n",
      "a  0.976204  0.993094  0.364774\n",
      "b  0.463069  0.629263  0.801250\n",
      "c  0.875729  0.585140  0.985467\n"
     ]
    }
   ],
   "source": [
    "# 创建方法三：通过二维数组直接创建\n",
    "# 如果不指定index和column，两者均为数字\n",
    "# index和column指定长度与数组的长度要一致\n",
    "ar = np.random.rand(9).reshape(3,3)\n",
    "print(ar)\n",
    "df1 = pd.DataFrame(ar)\n",
    "df2 = pd.DataFrame(ar,index=['a','b','c'],columns = ['one','two','three'])\n",
    "print(df1)\n",
    "print(df2)"
   ]
  },
  {
   "cell_type": "code",
   "execution_count": 7,
   "metadata": {},
   "outputs": [
    {
     "name": "stdout",
     "output_type": "stream",
     "text": [
      "   one  three  two\n",
      "0    1    NaN    2\n",
      "1    5   20.0   10\n",
      "   one  three  two\n",
      "a    1    NaN    2\n",
      "b    5   20.0   10\n",
      "   one  two\n",
      "0    1    2\n",
      "1    5   10\n"
     ]
    }
   ],
   "source": [
    "# 创建方法四：由字典组成的列表\n",
    "# columns为字典的key，index不指定为数组的下标\n",
    "data = [{'one':1,'two':2},{'one':5,'two':10,'three':20}]\n",
    "df1 = pd.DataFrame(data)\n",
    "df2 = pd.DataFrame(data,index=['a','b'])\n",
    "df3 = pd.DataFrame(data,columns=['one','two']) # 只指定了两列，如果字典有多余的内容，则删除\n",
    "print(df1)\n",
    "print(df2)\n",
    "print(df3)"
   ]
  },
  {
   "cell_type": "code",
   "execution_count": 15,
   "metadata": {},
   "outputs": [
    {
     "name": "stdout",
     "output_type": "stream",
     "text": [
      "         Jack  Marry   Tom\n",
      "art        78     92   NaN\n",
      "english    89     95  67.0\n",
      "math       90     82  78.0\n",
      "         Jack   Tom  Bob\n",
      "art        78   NaN  NaN\n",
      "english    89  67.0  NaN\n",
      "math       90  78.0  NaN\n"
     ]
    }
   ],
   "source": [
    "# 创建方法五：由字典组成的字典\n",
    "# columns为字典的key，index为子字典的key\n",
    "data = {'Jack':{'math':90,'english':89,'art':78},\n",
    "       'Marry':{'math':82,'english':95,'art':92},\n",
    "       'Tom':{'math':78,'english':67}}\n",
    "df1 = pd.DataFrame(data)\n",
    "print(df1)\n",
    "\n",
    "df2 = pd.DataFrame(data,columns=['Jack','Tom','Bob'])\n",
    "print(df2)"
   ]
  },
  {
   "cell_type": "markdown",
   "metadata": {},
   "source": [
    "# DataFrame方法"
   ]
  },
  {
   "cell_type": "code",
   "execution_count": 17,
   "metadata": {},
   "outputs": [
    {
     "name": "stdout",
     "output_type": "stream",
     "text": [
      "               a          b          c          d\n",
      "one    38.409709  82.563439  51.273076  56.517761\n",
      "two    31.474211  42.202104  24.396734  15.594921\n",
      "three  73.257897  53.145605  54.743648   0.191099\n",
      "one      38.409709\n",
      "two      31.474211\n",
      "three    73.257897\n",
      "Name: a, dtype: float64 <class 'pandas.core.series.Series'>\n",
      "               a          c\n",
      "one    38.409709  51.273076\n",
      "two    31.474211  24.396734\n",
      "three  73.257897  54.743648 <class 'pandas.core.frame.DataFrame'>\n",
      "a    38.409709\n",
      "b    82.563439\n",
      "c    51.273076\n",
      "d    56.517761\n",
      "Name: one, dtype: float64 <class 'pandas.core.series.Series'>\n",
      "             a          b          c          d\n",
      "one  38.409709  82.563439  51.273076  56.517761\n",
      "two  31.474211  42.202104  24.396734  15.594921 <class 'pandas.core.frame.DataFrame'>\n"
     ]
    }
   ],
   "source": [
    "# 选择行与列的返回值\n",
    "df = pd.DataFrame(np.random.rand(12).reshape(3,4)*100,index=['one','two','three'],columns=['a','b','c','d'])\n",
    "print(df)\n",
    "# 按照列名选择列，只选择一列返回Series，选择多列，返回DataFrame\n",
    "data1 = df['a']\n",
    "data2 = df[['a','c']]\n",
    "print(data1,type(data1))\n",
    "print(data2,type(data2))\n",
    "\n",
    "# 按照index选择行，只选择一行输出Series，选择多行输出DataFrame\n",
    "data3 = df.loc['one']\n",
    "data4 = df.loc[['one','two']]\n",
    "print(data3,type(data3))\n",
    "print(data4,type(data4))"
   ]
  },
  {
   "cell_type": "code",
   "execution_count": null,
   "metadata": {},
   "outputs": [],
   "source": [
    "# df[] - 选择列\n",
    "# df = pd.DataFrame(np.random.rand(12).reshaoer)"
   ]
  }
 ],
 "metadata": {
  "kernelspec": {
   "display_name": "Python 3",
   "language": "python",
   "name": "python3"
  },
  "language_info": {
   "codemirror_mode": {
    "name": "ipython",
    "version": 3
   },
   "file_extension": ".py",
   "mimetype": "text/x-python",
   "name": "python",
   "nbconvert_exporter": "python",
   "pygments_lexer": "ipython3",
   "version": "3.7.0"
  }
 },
 "nbformat": 4,
 "nbformat_minor": 2
}
