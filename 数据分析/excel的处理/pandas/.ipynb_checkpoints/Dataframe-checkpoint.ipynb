{
 "cells": [
  {
   "cell_type": "markdown",
   "metadata": {},
   "source": [
    "# Dataframe\n",
    "- 二维数组Dataframe：是一个表格型的数据结构，包含一组有序的列，其列的值类型可以是数值，字符串，布尔值等\n",
    "- Dataframe中的数据以一个或多个二维块存放，不是列表、字典或一维数组结构"
   ]
  },
  {
   "cell_type": "code",
   "execution_count": 5,
   "metadata": {},
   "outputs": [
    {
     "name": "stdout",
     "output_type": "stream",
     "text": [
      "  name  age gender\n",
      "0    a    1      m\n",
      "1    b    2      m\n",
      "2    c    3      w\n",
      "<class 'pandas.core.frame.DataFrame'>\n",
      "RangeIndex(start=0, stop=3, step=1) \n",
      "该数据类型为： <class 'pandas.core.indexes.range.RangeIndex'>\n",
      "Index(['name', 'age', 'gender'], dtype='object') \n",
      "该数据类型为 <class 'pandas.core.indexes.base.Index'>\n",
      "[['a' 1 'm']\n",
      " ['b' 2 'm']\n",
      " ['c' 3 'w']] \n",
      "该数据类型为 <class 'numpy.ndarray'>\n"
     ]
    }
   ],
   "source": [
    "import pandas as pd\n",
    "import numpy as np\n",
    "# Dataframe 带有index行标签和columns列标签\n",
    "# .index：查看行标签\n",
    "# .columns：查看列标签\n",
    "# .values：查看值，数据类型为ndarray\n",
    "data = {'name':['a','b','c'],'age':[1,2,3],'gender':['m','m','w']}\n",
    "frame = pd.DataFrame(data)\n",
    "print(frame)\n",
    "print(type(frame))\n",
    "print(frame.index,'\\n该数据类型为：',type(frame.index))\n",
    "print(frame.columns,'\\n该数据类型为',type(frame.columns))\n",
    "print(frame.values,'\\n该数据类型为',type(frame.values))"
   ]
  },
  {
   "cell_type": "markdown",
   "metadata": {},
   "source": [
    "# Dataframe 创建"
   ]
  },
  {
   "cell_type": "code",
   "execution_count": 6,
   "metadata": {},
   "outputs": [
    {
     "name": "stdout",
     "output_type": "stream",
     "text": [
      "{'a': [1, 2, 3], 'b': [4, 5, 6]}\n",
      "{'one': array([0.51410767, 0.83528956, 0.74199338]), 'two': array([0.00354538, 0.96651467, 0.89534564])}\n",
      "   a  b\n",
      "0  1  4\n",
      "1  2  5\n",
      "2  3  6\n",
      "        one       two\n",
      "0  0.514108  0.003545\n",
      "1  0.835290  0.966515\n",
      "2  0.741993  0.895346\n",
      "   b    c  a  b\n",
      "0  4  NaN  1  4\n",
      "1  5  NaN  2  5\n",
      "2  6  NaN  3  6\n",
      "   b    c\n",
      "0  4  NaN\n",
      "1  5  NaN\n",
      "2  6  NaN\n",
      "         one       two\n",
      "f1  0.514108  0.003545\n",
      "f2  0.835290  0.966515\n",
      "f3  0.741993  0.895346\n"
     ]
    }
   ],
   "source": [
    "# Dataframe创建方式一：由数组/list组成的字典\n",
    "# 创建方法：pandas.Dataframe()\n",
    "\n",
    "data1 = {'a':[1,2,3],'b':[4,5,6]}\n",
    "data2 = {'one':np.random.rand(3),'two':np.random.rand(3)}\n",
    "\n",
    "print(data1)\n",
    "print(data2)\n",
    "\n",
    "df1 = pd.DataFrame(data1)\n",
    "df2 = pd.DataFrame(data2)\n",
    "print(df1)\n",
    "print(df2)\n",
    "\n",
    "# columns参数：可以重新指定列的顺序，格式为list，如果现有数据中没有该列，则产生NaN值\n",
    "# 如果columns重新指定时，列的数量可以小于原数据\n",
    "df1 = pd.DataFrame(data1,columns=['b','c','a','b'])\n",
    "print(df1)\n",
    "df1 = pd.DataFrame(data1,columns=['b','c'])\n",
    "print(df1)\n",
    "\n",
    "# index参数：重新定义index，格式为list，长度必须保持一致\n",
    "df2 = pd.DataFrame(data2,index=['f1','f2','f3'])\n",
    "print(df2)"
   ]
  },
  {
   "cell_type": "code",
   "execution_count": null,
   "metadata": {},
   "outputs": [],
   "source": [
    "# "
   ]
  }
 ],
 "metadata": {
  "kernelspec": {
   "display_name": "Python 3",
   "language": "python",
   "name": "python3"
  },
  "language_info": {
   "codemirror_mode": {
    "name": "ipython",
    "version": 3
   },
   "file_extension": ".py",
   "mimetype": "text/x-python",
   "name": "python",
   "nbconvert_exporter": "python",
   "pygments_lexer": "ipython3",
   "version": "3.7.0"
  }
 },
 "nbformat": 4,
 "nbformat_minor": 2
}
