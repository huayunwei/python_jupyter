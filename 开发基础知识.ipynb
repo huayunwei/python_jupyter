{
 "cells": [
  {
   "cell_type": "markdown",
   "metadata": {},
   "source": [
    "# 基础知识"
   ]
  },
  {
   "cell_type": "markdown",
   "metadata": {},
   "source": [
    "## 程序的运行方式\n",
    "- 静态编译：在执行前全部被翻译成机器码，叫提前编译，称为AOT（Athead of time）\n",
    "    - 如C/C++\n",
    "- 动态编译：一句一句边编译边运行，叫即时编译，称为JIT（Just in time）\n",
    "    - 如javascript，python等\n",
    "- 有些语言即可AOT也可以JIT，可以在第一次执行时编译成中间字节码，然后在执行时可以直接执行字节码，如python和java\n"
   ]
  },
  {
   "cell_type": "markdown",
   "metadata": {},
   "source": []
  }
 ],
 "metadata": {
  "kernelspec": {
   "display_name": "Python 3",
   "language": "python",
   "name": "python3"
  },
  "language_info": {
   "codemirror_mode": {
    "name": "ipython",
    "version": 3
   },
   "file_extension": ".py",
   "mimetype": "text/x-python",
   "name": "python",
   "nbconvert_exporter": "python",
   "pygments_lexer": "ipython3",
   "version": "3.7.4"
  }
 },
 "nbformat": 4,
 "nbformat_minor": 2
}
