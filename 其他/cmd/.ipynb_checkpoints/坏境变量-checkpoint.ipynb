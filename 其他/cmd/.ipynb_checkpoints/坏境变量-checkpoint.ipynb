{
 "cells": [
  {
   "cell_type": "markdown",
   "metadata": {},
   "source": [
    "> 注：所有的在cmd命令行下对环境变量的修改只对当前窗口有效，不是永久性的修改，即关闭cmd命令行窗口后，将不再起作用"
   ]
  },
  {
   "cell_type": "markdown",
   "metadata": {},
   "source": [
    "# 环境变量\n",
    "- 定义：是操作系统用来指定运行环境的一些参数，比如临时文件夹位置和系统文件夹位置，当运行某种程序时，除了在当前文件夹中寻找外，还会到这些环境变量中去查找\n",
    "- 什么情况下需要设置：\n",
    "    - 在启动cmd命令行窗口调用某一个命令时，出现\"xxx不是内部或外部命令，也不是可运行的程序或批处理文件\"\n",
    "    - 如果没有拼写错误，且系统中有这个命令，这个提示的意思就是path变量没有设置正确，即默认路径中没有这个命令，同时没有给出程序的绝对路径，操作系统不知道在哪可以找到这个命令，会提示这个问题\n",
    "- 如何修改：\n",
    "    - 查看当前所有可用的环境变量：set\n",
    "    - 查看某个环境变量：set 变量名\n",
    "    - 修改环境变量：set 变量名 = 变量内容1;变量内容2;变量内容3....，注意不要写引号\n",
    "    - 设置为空：set 变量名=\n",
    "    - 追加：set 变量名 = %变量名%;变量内容"
   ]
  },
  {
   "cell_type": "code",
   "execution_count": null,
   "metadata": {},
   "outputs": [],
   "source": []
  }
 ],
 "metadata": {
  "kernelspec": {
   "display_name": "Python 3",
   "language": "python",
   "name": "python3"
  },
  "language_info": {
   "codemirror_mode": {
    "name": "ipython",
    "version": 3
   },
   "file_extension": ".py",
   "mimetype": "text/x-python",
   "name": "python",
   "nbconvert_exporter": "python",
   "pygments_lexer": "ipython3",
   "version": "3.7.0"
  }
 },
 "nbformat": 4,
 "nbformat_minor": 2
}
