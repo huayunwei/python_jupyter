{
 "cells": [
  {
   "cell_type": "markdown",
   "metadata": {},
   "source": [
    "# haystack和solr"
   ]
  },
  {
   "cell_type": "markdown",
   "metadata": {},
   "source": [
    "- 安装配置好haystack，并且安装好solr后，根据下面的步骤，创建一个搜索引擎\n",
    "- 安装pysolr用于使用Solr后端：pip install pysolr"
   ]
  },
  {
   "cell_type": "markdown",
   "metadata": {},
   "source": [
    "## 开启solr并创建一个core"
   ]
  },
  {
   "cell_type": "markdown",
   "metadata": {},
   "source": [
    "### 开启solr\n",
    "- 执行完下面语句后，可以在[localhost:8983](http://localhost:8983/)打开solr管理界面"
   ]
  },
  {
   "cell_type": "code",
   "execution_count": 1,
   "metadata": {},
   "outputs": [],
   "source": [
    "# 在cmd中\n",
    "# 进入solr中的bin目录下\n",
    "cd solr/bin\n",
    "solr.cmd start # 不要以cloud的方式进行创建"
   ]
  },
  {
   "cell_type": "markdown",
   "metadata": {},
   "source": [
    "### 创建一个core\n",
    "- 创建core后可以在如下位置显示\n",
    "![](img/h-s_1.png)"
   ]
  },
  {
   "cell_type": "code",
   "execution_count": null,
   "metadata": {},
   "outputs": [],
   "source": [
    "'''\n",
    "如果solr以cloud开启，则-c会默认创建一个collection\n",
    "如果solr正常开启，则-c会默认创建一个core\n",
    "'''\n",
    "solr.cmd create -c core_name # 按照默认c的指定进行创建\n",
    "solr.cmd create_core core_name # 创建一个core\n",
    "solr.cmd create_collection core_name # 创建一个collection\n",
    "\n",
    "'''\n",
    "创建后core的目录结构：\n",
    "core_name\\\n",
    "    - conf\\\n",
    "        - lang\\\n",
    "        - managed-schema\n",
    "        - params.json\n",
    "        - protwords.txt\n",
    "        - solrconfig.xml\n",
    "        - stopwords.txt\n",
    "        - synonyms.txt\n",
    "    - data\\\n",
    "    - core.properties\n",
    "'''"
   ]
  },
  {
   "cell_type": "markdown",
   "metadata": {},
   "source": [
    "## 配置"
   ]
  },
  {
   "cell_type": "markdown",
   "metadata": {},
   "source": [
    "### 创建索引\n",
    "- 在app\\search_indexes.py文件中建立"
   ]
  },
  {
   "cell_type": "code",
   "execution_count": null,
   "metadata": {},
   "outputs": [],
   "source": [
    "'''\n",
    "searchIndex对象是Haystack确定应该在搜索引擎中放置哪些数据\n",
    "并处理数据流的方式\n",
    "'''\n",
    "\n",
    "from haystack import indexes\n",
    "from .models import Post\n",
    "\n",
    "'''\n",
    "通过这个索引，告诉Haystack这个模型中的哪些数据必须被搜索引擎编入索引\n",
    "text：必须，主要搜索字段，use_template=True,将这个字段渲染成一个数据模板来构建document\n",
    "published,title,body都是Post数据类中的属性，用于后面的索引使用\n",
    "'''\n",
    "class PostIndex(indexes.SearchIndex,indexes.Indexable):\n",
    "    text = indexes.CharField(document=True,use_template=True)\n",
    "    published = indexes.DateTimeField(model_attr='publish')\n",
    "    title = indexes.CharField(model_attr='title')\n",
    "    body = indexes.CharField(model_attr='body')\n",
    "\n",
    "    def get_model(self):\n",
    "        return Post\n",
    "\n",
    "    def index_queryset(self, using=None):\n",
    "        '''\n",
    "        用于更新整个模型的索引\n",
    "        :param using:\n",
    "        :return:\n",
    "        '''\n",
    "        return self.get_model().published.all()"
   ]
  },
  {
   "cell_type": "markdown",
   "metadata": {},
   "source": [
    "### 为text编写document模板\n",
    "- 在templates/search/indexes/app_name/创建appname_text.txt文件"
   ]
  },
  {
   "cell_type": "code",
   "execution_count": null,
   "metadata": {},
   "outputs": [],
   "source": [
    "# 文件内容，里面设置的内容为text的值\n",
    "{{ object.title }}\n",
    "{{ object.tag.all|join:',' }}\n",
    "{{ object.body }}"
   ]
  },
  {
   "cell_type": "markdown",
   "metadata": {},
   "source": [
    "### 将设置的索引配置到solr中"
   ]
  },
  {
   "cell_type": "code",
   "execution_count": null,
   "metadata": {},
   "outputs": [],
   "source": [
    "# 创建出索引对应的xml语句\n",
    "python manage.py build_solr_schema # 会在cmd中输出一段xml代码\n",
    "\n",
    "'''\n",
    "在代码中寻找所有和search_indexes设置相关的内容，包括下面的所有：\n",
    "'''\n",
    "'''\n",
    "必有的内容，如果没有会自动创建，但创建后的django_ct和django_id默认为数组类型，会报错\n",
    "'''\n",
    "<field name=\"django_ct\" type=\"string\" indexed=\"true\" stored=\"true\" multiValued=\"false\"/>\n",
    "<field name=\"django_id\" type=\"string\" indexed=\"true\" stored=\"true\" multiValued=\"false\"/>\n",
    "\n",
    "'''\n",
    "在PostIndex中设置的内容\n",
    "'''\n",
    "<field name=\"body\" type=\"text_general\" multiValued=\"false\" indexed=\"true\" stored=\"true\"/>\n",
    "<field name=\"published\" type=\"pdate\" multiValued=\"false\" indexed=\"true\" stored=\"true\"/>\n",
    "<field name=\"text\" type=\"text_general\" multiValued=\"false\" indexed=\"true\" stored=\"true\"/>\n",
    "<field name=\"title\" type=\"string\" multiValued=\"false\" indexed=\"true\" stored=\"true\"/>\n",
    "\n"
   ]
  },
  {
   "cell_type": "markdown",
   "metadata": {},
   "source": [
    "- 将上面的内容复制到managed-schema文件的filed区域\n",
    "![](img/h-s_2.png)"
   ]
  },
  {
   "cell_type": "code",
   "execution_count": null,
   "metadata": {},
   "outputs": [],
   "source": [
    "# 是否生成索引\n",
    "python manage.py rebuild_index"
   ]
  },
  {
   "cell_type": "markdown",
   "metadata": {},
   "source": [
    "### 检查上面的配置是否成功\n",
    "1. 在solr-core-overview中的Num和Doc都有值\n",
    "2. 在solr-core-query中点击查询有数据"
   ]
  },
  {
   "cell_type": "markdown",
   "metadata": {},
   "source": [
    "## 视图展示"
   ]
  },
  {
   "cell_type": "markdown",
   "metadata": {},
   "source": [
    "### 搜索表单"
   ]
  },
  {
   "cell_type": "code",
   "execution_count": null,
   "metadata": {},
   "outputs": [],
   "source": [
    "# form.py文件\n",
    "# 搜索视图\n",
    "class SearchForm(forms.Form):\n",
    "    query = forms.CharField()"
   ]
  },
  {
   "cell_type": "markdown",
   "metadata": {},
   "source": [
    "### 搜索后台"
   ]
  },
  {
   "cell_type": "code",
   "execution_count": null,
   "metadata": {},
   "outputs": [],
   "source": [
    "# view.py文件\n",
    "# 搜索页面\n",
    "def post_search(request):\n",
    "    form = SearchForm()\n",
    "    cd = None\n",
    "    results = None\n",
    "    total_results = None\n",
    "\n",
    "    if 'query' in request.GET:\n",
    "        form = SearchForm(request.GET)\n",
    "        if form.is_valid():\n",
    "            # 传入的请求内容{'query':xxx}\n",
    "            cd = form.cleaned_data \n",
    "            # 搜索题目中含有query值的或文章主体含有query值的所有帖子\n",
    "            results = SearchQuerySet().models(Post).filter(Q(title__contains=cd['query'])|Q(body__contains=cd['query'])).load_all()\n",
    "            # 数量\n",
    "            total_results = results.count()\n",
    "\n",
    "    return render(request,'blog/post/search.html',{\n",
    "        'form':form,\n",
    "        'cd':cd,\n",
    "        'results':results,\n",
    "        'total_results':total_results\n",
    "    })"
   ]
  },
  {
   "cell_type": "code",
   "execution_count": null,
   "metadata": {},
   "outputs": [],
   "source": [
    "'''\n",
    "filter：在django中默认是and语句来进行筛选\n",
    "filter以or的方式进行筛选：\n",
    "    引入from django.db.models import Q\n",
    "    filter(Q(a='1') | Q(b)='2') ==== select * from xxx where a = 1 or b = 2\n",
    "filter以not的方式进行筛选：\n",
    "    引入from django.db.models import Q\n",
    "    filter(~Q(c='123')) ==== select * from xxx where c != 123\n",
    "\n",
    "filter可用的查询命令：注意双横线\n",
    "    __exact 精确等于 like ‘aaa’\n",
    "    __iexact 精确等于 忽略大小写 ilike ‘aaa’\n",
    "    __contains 包含 like ‘%aaa%’\n",
    "    __icontains 包含 忽略大小写 ilike ‘%aaa%’，但是对于sqlite来说，contains的作用效果等同于icontains。\n",
    "    __gt 大于\n",
    "    __gte 大于等于\n",
    "    __lt 小于\n",
    "    __lte 小于等于\n",
    "    __in 存在于一个list范围内\n",
    "    __startswith 以…开头\n",
    "    __istartswith 以…开头 忽略大小写\n",
    "    __endswith 以…结尾\n",
    "    __iendswith 以…结尾，忽略大小写\n",
    "    __range 在…范围内\n",
    "    __year 日期字段的年份\n",
    "    __month 日期字段的月份\n",
    "    __day 日期字段的日\n",
    "    __isnull=True/False\n",
    "    __isnull=True\n",
    "'''"
   ]
  },
  {
   "cell_type": "markdown",
   "metadata": {},
   "source": [
    "### 前台界面"
   ]
  },
  {
   "cell_type": "code",
   "execution_count": null,
   "metadata": {},
   "outputs": [],
   "source": [
    "{% load staticfiles %}\n",
    "<!DOCTYPE html>\n",
    "<html lang=\"en\">\n",
    "<head>\n",
    "    <meta charset=\"UTF-8\">\n",
    "    <title>Search</title>\n",
    "    <link href=\"{% static \"css/blog.css\" %}\" rel=\"stylesheet\">\n",
    "</head>\n",
    "<body>\n",
    "    <div id=\"content\">\n",
    "         {% if \"query\" in request.GET %}\n",
    "\t\t\t<h1>Posts containing \"{{ cd.query }}\"</h1>\n",
    "\t\t\t<h3>Found {{ total_results }} result{{ total_results|pluralize }}</h3>\n",
    "\t\t\t{% for result in results %}\n",
    "\t\t\t\t{% with post=result.object %}\n",
    "\t\t\t\t\t<h4><a href=\"{{ post.get_absolute_url }}\">{{ post.title }}</a></h4>           \n",
    "\t\t\t\t\t{{ post.body}}\n",
    "\t\t\t\t{% endwith %}\n",
    "\t\t\t\t{% empty %}\n",
    "\t\t\t\t\t<p>There are no results for your query.</p>\n",
    "\t\t\t{% endfor %}    \n",
    "\t\t\t<p><a href=\"{% url \"blog:post_search\" %}\">Search again</a></p>\n",
    "\t\t{% else %}\n",
    "\t\t\t<h1>Search for posts</h1>\n",
    "\t\t\t<form action=\".\" method=\"get\">\n",
    "\t\t\t\t{{ form.as_p }}\n",
    "\t\t\t\t<input type=\"submit\" value=\"Search\">\n",
    "\t\t\t</form>\n",
    "\t\t{% endif %}\n",
    "    </div>\n",
    "</body>\n",
    "</html>"
   ]
  },
  {
   "cell_type": "markdown",
   "metadata": {},
   "source": [
    "### 增加url"
   ]
  },
  {
   "cell_type": "code",
   "execution_count": null,
   "metadata": {},
   "outputs": [],
   "source": [
    "# url.py文件中\n",
    "path('search/',views.post_search,name='post_search')"
   ]
  }
 ],
 "metadata": {
  "kernelspec": {
   "display_name": "Python 3",
   "language": "python",
   "name": "python3"
  },
  "language_info": {
   "codemirror_mode": {
    "name": "ipython",
    "version": 3
   },
   "file_extension": ".py",
   "mimetype": "text/x-python",
   "name": "python",
   "nbconvert_exporter": "python",
   "pygments_lexer": "ipython3",
   "version": "3.7.1"
  },
  "toc": {
   "base_numbering": 1,
   "nav_menu": {},
   "number_sections": false,
   "sideBar": true,
   "skip_h1_title": false,
   "title_cell": "Table of Contents",
   "title_sidebar": "Contents",
   "toc_cell": false,
   "toc_position": {},
   "toc_section_display": true,
   "toc_window_display": true
  }
 },
 "nbformat": 4,
 "nbformat_minor": 2
}
