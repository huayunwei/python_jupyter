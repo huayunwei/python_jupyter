{
 "cells": [
  {
   "cell_type": "markdown",
   "metadata": {},
   "source": [
    "# urls.py\n",
    "- Django项目的URL声明，就像你网站的目录"
   ]
  },
  {
   "cell_type": "markdown",
   "metadata": {},
   "source": [
    "## Django如何处理请求\n",
    "- 当用户从Django支持的站点请求页面时，会进行下面的步骤：\n",
    "    - Django确定要使用的根URLconf模块\n",
    "    - 加载Python模块并查找变量urlpatterns，应该为django.urls.path或django.urls.re_path实例\n",
    "    - Django按顺序遍历每个URL模式，并在匹配请求的URL的第一个模式停止\n",
    "    - 一旦其中一个URL模式匹配，Django会导入并调用给定的视图\n",
    "    - 如果没有一个匹配，则会引发异常"
   ]
  },
  {
   "cell_type": "markdown",
   "metadata": {},
   "source": [
    "## 方法函数"
   ]
  },
  {
   "cell_type": "code",
   "execution_count": null,
   "metadata": {},
   "outputs": [],
   "source": [
    "'''\n",
    "path(route,view,kwargs,name)\n",
    "repath(route,view,kwargs,name)\n",
    "route：\n",
    "    1.参数应该是一个字符串或gettext_lazy()，可能包含尖括号，用于捕获url的一部分并将其作为关键字参数发送到视图\n",
    "    2.参数应该是一个字符串或gettext_lazy()，其中包含与python的兼容的正则表达式re模块，字符串通常使用原始字符串语法(r''),\\d而无需使用零一个反斜杠转义反斜杠\n",
    "view：一个视图函数或as_view()基于类的视图，也可以是一个django.urls.include()\n",
    "kwargs：允许您将其他参数传递给视图函数或方法\n",
    "'''\n",
    "from django.urls import include, path\n",
    "\n",
    "urlpatterns = [\n",
    "    path('index/', views.index, name='main-view'),\n",
    "    path('bio/<username>/', views.bio, name='bio'),\n",
    "    path('articles/<slug:title>/', views.article, name='article-detail'),\n",
    "    path('weblog/', include('blog.urls')),\n",
    "    re_path(r'^index/$', views.index, name='index'),\n",
    "    re_path(r'^bio/(?P<username>\\w+)/$', views.bio, name='bio'),\n",
    "]\n",
    "\n",
    "\n",
    "'''\n",
    "include(module,namespace=None)\n",
    "include(pattern_list)\n",
    "include((pattern_list,app_namespace),namespace=None)\n",
    "    module：URLconf模块\n",
    "    namespace(str)：包含url条目的实例名称空间\n",
    "    pattern_list：path()或re_path()实例\n",
    "    app_namespace(str)：包含的URL条目的应用程序命名空间\n",
    "'''\n",
    "urlpatterns = [\n",
    "    path('weblog/', include('blog.urls'))\n",
    "]\n",
    "\n",
    "'''\n",
    "register_converter()：自定义转换器\n",
    "'''\n",
    "\n",
    "'''\n",
    "static(prefix,view=django.views.static.serve,**kwargs)：函数在调试模式下返回服务文件的URL模式\n",
    "'''\n"
   ]
  },
  {
   "cell_type": "markdown",
   "metadata": {},
   "source": [
    "## 路径转换器\n",
    "### 转换器类型\n",
    "- str- 匹配除路径分隔符之外的任何非空字符串'/'。如果转换器未包含在表达式中，则这是默认值。\n",
    "- int - 匹配零或任何正整数。返回一个int。\n",
    "- slug - 匹配由ASCII字母或数字组成的任何slug字符串，以及连字符和下划线字符。例如， building-your-1st-django-site。\n",
    "- uuid - 匹配格式化的UUID。要防止多个URL映射到同一页面，必须包含短划线，并且字母必须为小写。例如，075194d3-6885-417e-a8a8-6c931e272f00。返回一个 UUID实例。\n",
    "- path- 匹配任何非空字符串，包括路径分隔符 '/'。这允许您匹配完整的URL路径，而不仅仅是URL路径的一部分str。"
   ]
  },
  {
   "cell_type": "code",
   "execution_count": null,
   "metadata": {},
   "outputs": [],
   "source": [
    "# 使用自带的路径转换器\n",
    "from django.urls import path\n",
    "\n",
    "from . import views\n",
    "\n",
    "urlpatterns = [\n",
    "    path('articles/2003/', views.special_case_2003),\n",
    "    path('articles/<int:year>/', views.year_archive),\n",
    "    path('articles/<int:year>/<int:month>/', views.month_archive),\n",
    "    path('articles/<int:year>/<int:month>/<slug:slug>/', views.article_detail),\n",
    "]"
   ]
  },
  {
   "cell_type": "code",
   "execution_count": null,
   "metadata": {},
   "outputs": [],
   "source": [
    "# 注册自定义路径转换器\n",
    "'''\n",
    "包含以下内容的类：\n",
    "    一个regexclass属性，作为字符串\n",
    "    - to_python(self,value)方法：处理匹配的字符串转换成要传递到视图函数的类型\n",
    "    - to_url(self,vlaue)方法：用于处理将python类型转换为要在URL中使用的字符串\n",
    "'''\n",
    "class FourDigitYearConverter:\n",
    "    regex = '[0-9]{4}'\n",
    "\n",
    "    def to_python(self, value):\n",
    "        return int(value)\n",
    "\n",
    "    def to_url(self, value):\n",
    "        return '%04d' % value\n",
    "    \n",
    "# 在url.py中使用注册的自定义路径转换器\n",
    "from django.urls import path, register_converter\n",
    "\n",
    "from . import converters, views\n",
    "\n",
    "register_converter(converters.FourDigitYearConverter, 'yyyy')\n",
    "\n",
    "urlpatterns = [\n",
    "    path('articles/2003/', views.special_case_2003),\n",
    "    path('articles/<yyyy:year>/', views.year_archive),\n",
    "    ...\n",
    "]"
   ]
  },
  {
   "cell_type": "markdown",
   "metadata": {},
   "source": [
    "## 使用正则表达式\n",
    "- 使用re_path()而不是path()\n",
    "- 命名方式\n",
    "    - 命名正则表达式组：(?P\\< name \\>pattern)：name-组的名称，pattern是要匹配的模式\n",
    "    - 未命名正则表达式组：(pattern)"
   ]
  },
  {
   "cell_type": "code",
   "execution_count": null,
   "metadata": {},
   "outputs": [],
   "source": [
    "from django.urls import path, re_path\n",
    "\n",
    "from . import views\n",
    "\n",
    "urlpatterns = [\n",
    "    path('articles/2003/', views.special_case_2003),\n",
    "    re_path(r'^articles/(?P<year>[0-9]{4})/$', views.year_archive),\n",
    "    repath(r'^articles/([0-9]{4})/$',views.year_archive)\n",
    "    re_path(r'^articles/(?P<year>[0-9]{4})/(?P<month>[0-9]{2})/$', views.month_archive),\n",
    "    re_path(r'^articles/(?P<year>[0-9]{4})/(?P<month>[0-9]{2})/(?P<slug>[\\w-]+)/$', views.article_detail),\n",
    "]"
   ]
  },
  {
   "cell_type": "markdown",
   "metadata": {},
   "source": [
    "## 错误处理"
   ]
  },
  {
   "cell_type": "code",
   "execution_count": null,
   "metadata": {},
   "outputs": [],
   "source": [
    "# 404\n",
    "'''\n",
    "如果要使用自己的html文件，需要在模板树的顶层创建一个404.html模板\n",
    "'''\n",
    "from django.http import Http404\n",
    "from django.shortcuts import render\n",
    "from polls.models import Poll\n",
    "\n",
    "def detail(request, poll_id):\n",
    "    try:\n",
    "        p = Poll.objects.get(pk=poll_id)\n",
    "    except Poll.DoesNotExist:\n",
    "        raise Http404(\"Poll does not exist\")\n",
    "    return render(request, 'polls/detail.html', {'poll': p})"
   ]
  },
  {
   "cell_type": "code",
   "execution_count": null,
   "metadata": {},
   "outputs": [],
   "source": [
    "# 自定义错误视图\n",
    "# 在URLconf中指定处理错误的视图函数\n",
    "handler404 = 'mysite.views.my_custom_page_not_found_view'  # 处理404\n",
    "handler500 = 'mysite.views.my_custom_error_view'\n",
    "handler403 = 'mysite.views.my_custom_permission_denied_view'\n",
    "handler400 = 'mysite.views.my_custom_bad_request_view'"
   ]
  },
  {
   "cell_type": "markdown",
   "metadata": {},
   "source": [
    "## 实例"
   ]
  },
  {
   "cell_type": "code",
   "execution_count": null,
   "metadata": {},
   "outputs": [],
   "source": [
    "# 主url.py文件\n",
    "from django.contrib import admin\n",
    "from django.urls import path,include\n",
    "from django.conf import settings\n",
    "from django.conf.urls.static import static\n",
    "\n",
    "urlpatterns = [\n",
    "    path('admin/', admin.site.urls),\n",
    "    # 注：这个namespace是include中的！\n",
    "    path('umeng/',include('umeng.urls',namespace='umeng')),\n",
    "] + static(settings.MEDIA_URL,document_root=settings.MEDIA_ROOT) # media"
   ]
  },
  {
   "cell_type": "code",
   "execution_count": null,
   "metadata": {},
   "outputs": [],
   "source": [
    "# umeng/url.pt文件\n",
    "from django.urls import path,re_path\n",
    "from umeng.views import * # 用于导入对应链接的处理函数\n",
    "\n",
    "app_name = 'umeng' # 如果在主url.py中用到了namespace，那么就需要在这里定义，否则会报错\n",
    "\n",
    "urlpatterns = [\n",
    "    re_path(r'^(\\w+)/$',Index,name='appdata') # url的传参模式\n",
    "]\n",
    "\n",
    "# umeng中的html文件，其中参数可以是数字，字符串，变量，字符串必须有引号\n",
    "<li><a href=\"{% url 'umeng:appdata' 'android' %}\">安卓</a></li>\n",
    "\n",
    "# umeng中的view.py文件\n",
    "def Index(request,appType):\n",
    "    print(appType)# appType为传入的参数，即android"
   ]
  }
 ],
 "metadata": {
  "kernelspec": {
   "display_name": "Python 3",
   "language": "python",
   "name": "python3"
  },
  "language_info": {
   "codemirror_mode": {
    "name": "ipython",
    "version": 3
   },
   "file_extension": ".py",
   "mimetype": "text/x-python",
   "name": "python",
   "nbconvert_exporter": "python",
   "pygments_lexer": "ipython3",
   "version": "3.7.4"
  },
  "toc": {
   "base_numbering": 1,
   "nav_menu": {},
   "number_sections": false,
   "sideBar": true,
   "skip_h1_title": false,
   "title_cell": "Table of Contents",
   "title_sidebar": "Contents",
   "toc_cell": false,
   "toc_position": {},
   "toc_section_display": true,
   "toc_window_display": false
  }
 },
 "nbformat": 4,
 "nbformat_minor": 2
}
