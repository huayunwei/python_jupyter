{
 "cells": [
  {
   "cell_type": "markdown",
   "metadata": {},
   "source": [
    "# 配置信息 -- setting"
   ]
  },
  {
   "cell_type": "markdown",
   "metadata": {},
   "source": [
    "## 配置信息写法"
   ]
  },
  {
   "cell_type": "code",
   "execution_count": null,
   "metadata": {},
   "outputs": [],
   "source": [
    "import tornado.httpserver\n",
    "import tornado.ioloop\n",
    "import tornado.options\n",
    "import tornado.web\n",
    "\n",
    "settings = {\n",
    "    \"cookie_secret\": \"61oETzKXQAGaYdkL5gEmGeJJFuYh7EQnp2XdTP1o/Vo=\",\n",
    "    \"login_url\": \"/login\",\n",
    "    \"xsrf_cookies\": True,\n",
    "}\n",
    "\n",
    "application = tornado.web.Application([\n",
    "    (r\"/\", MainHandler),\n",
    "    (r\"/login\", LoginHandler),\n",
    "], **settings)\n",
    "\n",
    "http_server = tornado.httpserver.HTTPServer(application)\n",
    "http_server.listen(options.port)\n",
    "tornado.ioloop.IOLoop.instance().start()"
   ]
  },
  {
   "cell_type": "markdown",
   "metadata": {},
   "source": [
    "## setting可以设置的值"
   ]
  },
  {
   "cell_type": "code",
   "execution_count": null,
   "metadata": {},
   "outputs": [],
   "source": [
    "#设置templates路径：\n",
    "template_path = os.path.join(os.path.dirname(__file__), \"templates\")\n",
    "\n",
    "#设置静态文件解析路径：\n",
    "static_path = os.path.join(os.path.dirname(__file__), \"static\"),\n",
    "\n",
    "#设置防跨站请求攻击：\n",
    "xsrf_cookies = True,\n",
    "#默认为False，即不可防御。\n",
    "\n",
    "#设置登陆路径，未登陆用户在操作时跳转会用到这个参数：\n",
    "login_url = \"/login-do\",\n",
    "#默认为@tornado.web.authenticated\n",
    "\n",
    "#设置调试模式：\n",
    "debug = True,\n",
    "#默认为False，即不是调试模式，修改后可以自动重启程序\n",
    "\n",
    "#设置cookie密钥：\n",
    "cookie_secret = \"dskfhisdjklagkfdklag;lkjasdklgjkldsjaklgjkldsfksdklf\"\n",
    "#默认为字符串\"secure cookies\"\n",
    "\n",
    "#设置是否自动编码：在2.0以上需要设置此项来兼容您之前的APP\n",
    "autoescape = None,\n",
    "#不设置默认为自动编码。\n",
    "\n",
    "#设置template_loader，可以从独立的路径中导入template：\n",
    "template_loader=utils.ZipLoader,\n",
    "#其中utils为自己定义的模块，ZipLoader是tornado.template.BaseLoader的子类。\n",
    "\n",
    "#设置gzip压缩：\n",
    "gzip=True\n",
    "\n",
    "#设置静态路径头部：\n",
    "static_url_prefix = \"/mystatic/\",\n",
    "#默认是\"/static/\"\n",
    "\n",
    "#设置静态文件处理类：\n",
    "static_handler_class = MyStaticFileHandler,\n",
    "#默认是tornado.web.StaticFileHandler\n",
    "\n",
    "#设置静态文件的参数：\n",
    "static_handler_args = { \"key1\":\"value1\", \"key2\":\"value2\"  }\n",
    "#默认为空字典。\n",
    "\n",
    "#设置日志处理函数\n",
    "log_function = your_fun,\n",
    "# 日志处理函数your_fun，按照自己的意图记录日志。"
   ]
  }
 ],
 "metadata": {
  "kernelspec": {
   "display_name": "Python 3",
   "language": "python",
   "name": "python3"
  },
  "language_info": {
   "codemirror_mode": {
    "name": "ipython",
    "version": 3
   },
   "file_extension": ".py",
   "mimetype": "text/x-python",
   "name": "python",
   "nbconvert_exporter": "python",
   "pygments_lexer": "ipython3",
   "version": "3.7.4"
  }
 },
 "nbformat": 4,
 "nbformat_minor": 4
}
