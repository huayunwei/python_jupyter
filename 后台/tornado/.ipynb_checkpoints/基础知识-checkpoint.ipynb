{
 "cells": [
  {
   "cell_type": "markdown",
   "metadata": {},
   "source": [
    "# Tornado\n",
    "- 一个轻量级的web框架，类似于web.py框架，其拥有异步非阻塞IO的处理方式\n",
    "- 有较为出色的抗负载能力"
   ]
  },
  {
   "cell_type": "markdown",
   "metadata": {},
   "source": [
    "## Tornado调用顺序\n",
    "- set_default_headers()\n",
    "- initialize()\n",
    "- prepare()\n",
    "- HTTP方法\n",
    "- set_default_headers（有错误抛出）\n",
    "- write_error(有错误抛出)\n",
    "- on_finish()"
   ]
  },
  {
   "cell_type": "markdown",
   "metadata": {},
   "source": [
    "# Tornado模块分类"
   ]
  },
  {
   "cell_type": "markdown",
   "metadata": {},
   "source": [
    "## Core web framework\n",
    "- tornado.web：包含web框架的大部分主要功能，包含RequestHandler和Applcation两个重要的类\n",
    "- tornado.httpserver：一个无阻塞HTTP服务的实现\n",
    "- tornado.template：模板系统\n",
    "- tornado.escape：HTML，JSON，URLs等的编码解码和一些字符串操作\n",
    "- tornado.locale：国际化支持"
   ]
  },
  {
   "cell_type": "markdown",
   "metadata": {},
   "source": [
    "## Asyncnronous networking 底层模块\n",
    "- tornado.ioloop：核心的I/O循环\n",
    "- tornado.iostream：对非阻塞式的socket的简单封装，以方便常用读写操作\n",
    "- tornado.httpclient：一个无阻塞的HTTP服务器实现\n",
    "- tornado.netutil：一些网络应用的实现，主要实现TCPServer类"
   ]
  },
  {
   "cell_type": "markdown",
   "metadata": {},
   "source": [
    "## Integration with other services\n",
    "- tornado.auth：使用OpenId和OAuth进行第三方登录\n",
    "- tornado.database：简单的MySQL服务端封装\n",
    "- tornado.platform.twisted：在Tornado上运行为Twisted实现的代码\n",
    "- tornado.websocket：实现和浏览器的双向通信\n",
    "- tornado.wsgi：与其他python网络框架/服务器的相互操作"
   ]
  },
  {
   "cell_type": "markdown",
   "metadata": {},
   "source": [
    "## Utilities\n",
    "- tornado.autoreload：生产环境中自动检查代码更新\n",
    "- tornado.gen：一个基于生产器的接口，使用该模块保证代码异步运行\n",
    "- tornado.httputil：分析HTTP请求内容\n",
    "- tornado.options：解析终端参数\n",
    "- tornado.process：多进程实现的封装\n",
    "- tornado.stack_context：用于异步环境中对回调函数的上下文保存、异常处理\n",
    "- tornado.testing：单元测试"
   ]
  },
  {
   "cell_type": "code",
   "execution_count": null,
   "metadata": {},
   "outputs": [],
   "source": []
  }
 ],
 "metadata": {
  "kernelspec": {
   "display_name": "Python 3",
   "language": "python",
   "name": "python3"
  },
  "language_info": {
   "codemirror_mode": {
    "name": "ipython",
    "version": 3
   },
   "file_extension": ".py",
   "mimetype": "text/x-python",
   "name": "python",
   "nbconvert_exporter": "python",
   "pygments_lexer": "ipython3",
   "version": "3.7.4"
  }
 },
 "nbformat": 4,
 "nbformat_minor": 4
}
