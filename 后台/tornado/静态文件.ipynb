{
 "cells": [
  {
   "cell_type": "markdown",
   "metadata": {},
   "source": [
    "# 静态文件"
   ]
  },
  {
   "cell_type": "markdown",
   "metadata": {},
   "source": [
    "## static_path\n",
    "- 定义静态文件的位置\n",
    "- 可以通过下面的链接来访问\n",
    "    - http://127.0.0.1/static/reset.css"
   ]
  },
  {
   "cell_type": "code",
   "execution_count": null,
   "metadata": {},
   "outputs": [],
   "source": [
    "app = tornado.web.Application(\n",
    "    [(r'/',IndexHandler)],\n",
    "    static_path = os.path.join(os.path.dirname(__file__),\"statics\")\n",
    ")"
   ]
  },
  {
   "cell_type": "markdown",
   "metadata": {},
   "source": [
    "## staticFileHandler\n",
    "- 自由映射静态文件与其访问路径url\n",
    "- 可以通过下面的链接来访问\n",
    "    - http://127.0.0.1/static/html/index.html"
   ]
  },
  {
   "cell_type": "code",
   "execution_count": null,
   "metadata": {},
   "outputs": [],
   "source": [
    "import os\n",
    "import tornado.web.StqaticFileHandler\n",
    "\n",
    "current_path = os.path.dirname(__file__)\n",
    "app = tornado.web.Application(\n",
    "    [\n",
    "        (r'^/()$',StaticFileHnadler,\n",
    "             {\n",
    "                \"path\":os.path.join(current_path,\"statics/html\"),\n",
    "                \"default_filename\":\"index.html\"\n",
    "            }\n",
    "        )\n",
    "    ]\n",
    ")"
   ]
  }
 ],
 "metadata": {
  "kernelspec": {
   "display_name": "Python 3",
   "language": "python",
   "name": "python3"
  },
  "language_info": {
   "codemirror_mode": {
    "name": "ipython",
    "version": 3
   },
   "file_extension": ".py",
   "mimetype": "text/x-python",
   "name": "python",
   "nbconvert_exporter": "python",
   "pygments_lexer": "ipython3",
   "version": "3.7.4"
  }
 },
 "nbformat": 4,
 "nbformat_minor": 4
}
