{
 "cells": [
  {
   "cell_type": "markdown",
   "metadata": {},
   "source": [
    "# Httpclient\n",
    "- 异步HTTP客户端\n",
    "- 阻塞和非阻塞的HTTP客户端接口"
   ]
  },
  {
   "cell_type": "markdown",
   "metadata": {},
   "source": [
    "## 一个阻塞的HTTP客户端"
   ]
  },
  {
   "cell_type": "code",
   "execution_count": null,
   "metadata": {},
   "outputs": [],
   "source": [
    "class tornado.httpclient.HTTPClient(async_client_class=None,**kwargs)\n",
    "\n",
    "http_client = httpclient.HTTPClient()\n",
    "try:\n",
    "    # 执行一个请求，返回一个HTTPResponse对象\n",
    "    response = http_client.fetch(\"http://www.google.com/\")\n",
    "    print(response.body)\n",
    "except httpclient.HTTPError as e:\n",
    "    # HTTPError is raised for non-200 responses;\n",
    "http_client.close() # 关闭该HTTPClient，释放所有使用的资源"
   ]
  },
  {
   "cell_type": "markdown",
   "metadata": {},
   "source": [
    "## 一个非阻塞HTTP客户端"
   ]
  },
  {
   "cell_type": "code",
   "execution_count": null,
   "metadata": {},
   "outputs": [],
   "source": [
    "def handle_request(response):\n",
    "    if response.error:\n",
    "        print(response.error)\n",
    "    else:\n",
    "        print(response.body)\n",
    "\n",
    "http_client = AsyncHTTPClient()\n",
    "http_client.fetch(\"http://www.google.com/\",handle_request)"
   ]
  },
  {
   "cell_type": "markdown",
   "metadata": {},
   "source": [
    "## Request"
   ]
  },
  {
   "cell_type": "code",
   "execution_count": null,
   "metadata": {},
   "outputs": [],
   "source": [
    "class tornado.httpclient.HTTPRequest(\n",
    "    url, # fetch的URL\n",
    "    method='GET',# HTTP方法\n",
    "    header=None,# 额外的HTTP请求头\n",
    "    body=None,# HTTP请求体字符串\n",
    "    body_producer=None,# 可以被用于延迟/异步请求体调用\n",
    "    auth_username=None,# HTTP认证的用户名\n",
    "    auth_password=None,# HTTP认证的密码\n",
    "    auth_mode=\"basic\",# 认证模式\n",
    "    connect_timeout=None,# 初始化连接的超时时间\n",
    "    request_timeout=None,# 整个请求的超时时间\n",
    "    if_modified_since=None,# if_modified_since头的时间戳\n",
    "    follow_redirects=False,# 是否应该自动跟随重定向还是返回3XX响应\n",
    "    max_redirects=0, # follow_redirects的最大次数限制\n",
    "    user_agent=None,# user-agent头\n",
    "    decompress_response=True, # 从服务器请求一个压缩过的响应，在下载后对其解压缩，默认是true\n",
    "    use_gzip=False, # decompress_response的别名，4.0后弃用\n",
    "    network_interface=None, # 请求所使用的网络接口\n",
    "    streaming_callback=None, # 用它接收到的数据块执行\n",
    "    header_callback=None, # 如果设置了，将在接收到每行头信息时运行\n",
    "    prepare_curl_callback=None,# 如果设置，将使用pycurl.Curl对象调用，以允许应用程序进行额外的setopt调用\n",
    "    proxy_host=None,# HTTP代理主机名\n",
    "    proxy_port=None, #HTTP代理用户名\n",
    "    proxy_password=None,# HTTP代理密码\n",
    "    allow_nonstandard_methods=False, # 允许method参数使用未知值\n",
    "    validate_cert=False,# 对于HTTPS请求，是否验证服务器的证书\n",
    "    ca_certs=None,# PEM格式的CA证书的文件名\n",
    "    client_key=None,# 客户端SSL key文件名\n",
    "    ssl_options=None,# 用在simple_httpclient的ssl.sslContext对象\n",
    "    allow_ipv6=True, # 当IPV6可用时是否使用\n",
    "    expect_100_continus=False # 如果为true，发送expect:100-continue头并在发送请求体钱等待继续响应\n",
    ")"
   ]
  }
 ],
 "metadata": {
  "kernelspec": {
   "display_name": "Python 3",
   "language": "python",
   "name": "python3"
  },
  "language_info": {
   "codemirror_mode": {
    "name": "ipython",
    "version": 3
   },
   "file_extension": ".py",
   "mimetype": "text/x-python",
   "name": "python",
   "nbconvert_exporter": "python",
   "pygments_lexer": "ipython3",
   "version": "3.7.4"
  }
 },
 "nbformat": 4,
 "nbformat_minor": 4
}
