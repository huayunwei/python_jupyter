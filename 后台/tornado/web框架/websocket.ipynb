{
 "cells": [
  {
   "cell_type": "markdown",
   "metadata": {},
   "source": [
    "# webscoket"
   ]
  },
  {
   "cell_type": "code",
   "execution_count": null,
   "metadata": {},
   "outputs": [],
   "source": [
    "# 服务端\n",
    "# 通过集成websocket来创建一个基本的websocket handler\n",
    "class EchoWebSocket(tornado.websocket.WebSocketHandler):\n",
    "    def open(self):\n",
    "        # 链接打开\n",
    "        pass\n",
    "    \n",
    "    def on_message(self,message):\n",
    "        # 重写on_message来处理收到的信息\n",
    "        self.write_message(\"123\") # 发送信息到客户端\n",
    "        pass\n",
    "    \n",
    "    def on_close(self):\n",
    "        # 链接关闭\n",
    "        pass"
   ]
  },
  {
   "cell_type": "code",
   "execution_count": null,
   "metadata": {},
   "outputs": [],
   "source": [
    "# 客户端\n",
    "var ws = new WebSocket(\"ws://localhost:8888/websocket\")\n",
    "ws.onopen = function(){\n",
    "  ws.send(\"\")  \n",
    "};\n",
    "\n",
    "ws.onmessage = function(){\n",
    "  alert(evt.data);  \n",
    "};"
   ]
  },
  {
   "cell_type": "markdown",
   "metadata": {},
   "source": [
    "## websocketHandler.open(\\*args,\\*\\*kwargs)\n",
    "- 打开一个新的websocket时调用"
   ]
  },
  {
   "cell_type": "markdown",
   "metadata": {},
   "source": [
    "## webscocketHandler.on_message(message)\n",
    "- 处理在websocket中收到的消息"
   ]
  },
  {
   "cell_type": "markdown",
   "metadata": {},
   "source": [
    "## webscoketHandler.on_close()\n",
    "- 当关闭该websocket时调用"
   ]
  },
  {
   "cell_type": "markdown",
   "metadata": {},
   "source": [
    "## webscoketHandler.write_message(message,binary=False)\n",
    "- 将给出的message发送到客户端\n",
    "- message：可以是string或dict\n",
    "- binary：false，message将会以utf8的编码发送\n",
    "- 如果已经关闭，则会触发websocketCloseError"
   ]
  },
  {
   "cell_type": "markdown",
   "metadata": {},
   "source": [
    "## webscoketHandler.close(code=None,reason=None)\n",
    "- 关闭当前websocket\n",
    "- code：状态码\n",
    "- reason：描述连接关闭的文本消息"
   ]
  },
  {
   "cell_type": "markdown",
   "metadata": {},
   "source": [
    "## websocketHandler.check_origin(origin)\n",
    "- 重写这个方法来实现域的切换\n",
    "- 返回true代表接受，返回false代表拒绝，默认拒绝除host外其他域的请求"
   ]
  },
  {
   "cell_type": "code",
   "execution_count": null,
   "metadata": {},
   "outputs": [],
   "source": [
    "# 允许所有跨域通信\n",
    "def check_origin(self,origin):\n",
    "    return True\n",
    "\n",
    "# 允许所有子域下的链接\n",
    "def check_origin(self,origin):\n",
    "    parsed_origin = urllib.parse.urlparse(origin)\n",
    "    return parsed_origin.netloc.endswith(\".mydomain.com\")"
   ]
  },
  {
   "cell_type": "markdown",
   "metadata": {},
   "source": [
    "## websocketHandler.get_compression_options()\n",
    "- 重写该方法返回当前链接的compression选项"
   ]
  },
  {
   "cell_type": "markdown",
   "metadata": {},
   "source": [
    "## websocketHandler.set_nodelay(value)\n",
    "- 为当前stream设置no-delay"
   ]
  },
  {
   "cell_type": "markdown",
   "metadata": {},
   "source": [
    "## websocketHandler.ping(data)\n",
    "- 发送ping包到远端"
   ]
  },
  {
   "cell_type": "markdown",
   "metadata": {},
   "source": [
    "## websocketHandler.on_pong(data)\n",
    "- 当收到ping包的响应时执行"
   ]
  }
 ],
 "metadata": {
  "kernelspec": {
   "display_name": "Python 3",
   "language": "python",
   "name": "python3"
  },
  "language_info": {
   "codemirror_mode": {
    "name": "ipython",
    "version": 3
   },
   "file_extension": ".py",
   "mimetype": "text/x-python",
   "name": "python",
   "nbconvert_exporter": "python",
   "pygments_lexer": "ipython3",
   "version": "3.7.4"
  }
 },
 "nbformat": 4,
 "nbformat_minor": 4
}
