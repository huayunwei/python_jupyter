{
 "cells": [
  {
   "cell_type": "markdown",
   "metadata": {
    "toc-hr-collapsed": false
   },
   "source": [
    "# tornado.web"
   ]
  },
  {
   "cell_type": "markdown",
   "metadata": {},
   "source": [
    "### RequestHandler和Application类"
   ]
  },
  {
   "cell_type": "code",
   "execution_count": null,
   "metadata": {},
   "outputs": [],
   "source": [
    "class tornado.web.RequestHandler(application,request,**kwargs):\n",
    "        // HTTP请求处理的基类"
   ]
  },
  {
   "cell_type": "markdown",
   "metadata": {},
   "source": [
    "### RequestHandler.initialize() - 子类初始化"
   ]
  },
  {
   "cell_type": "code",
   "execution_count": null,
   "metadata": {},
   "outputs": [],
   "source": [
    "class ProfileHandler(RequestHandler):\n",
    "    def initialize(self,database):\n",
    "        self.database = database\n",
    "    \n",
    "    def get(self,username):\n",
    "        ...\n",
    "    \n",
    "app = Application([\n",
    "    (r'/user/(.*)',ProfileHandler,dict(database=database))\n",
    "])"
   ]
  },
  {
   "cell_type": "markdown",
   "metadata": {},
   "source": [
    "### RequestHandler.prepare() - 在每个请求的最开始被调用，在get/post等方法之前"
   ]
  },
  {
   "cell_type": "markdown",
   "metadata": {},
   "source": [
    "### RequestHandler.on_finish() - 在一个请求结束后被调用\n",
    "    - 在响应被送到客户端后才能被调用"
   ]
  },
  {
   "cell_type": "markdown",
   "metadata": {},
   "source": [
    "### HTTP方法"
   ]
  },
  {
   "cell_type": "code",
   "execution_count": null,
   "metadata": {},
   "outputs": [],
   "source": [
    "RequestHandler.get() #get方法\n",
    "RequestHandler.head() # head方法\n",
    "RequestHandler.post() # post方法\n",
    "RequestHandler.delete() # delete方法\n",
    "RequestHandler.patch() # patch方法\n",
    "RequestHandler.put() # put方法\n",
    "RequestHandler.options() # options方法\n",
    "\n",
    "# 为了支持非上列中的方法，可以复写类变量SUPPORTED_METHODS\n",
    "class ExampleHandler(RequestHandler):\n",
    "    SUPPORTED_METHODS = RequestHandler.SUPPORTED_METHODS + ('PROPFIND',)\n",
    "    \n",
    "    def propfind(self):\n",
    "        pass"
   ]
  },
  {
   "cell_type": "markdown",
   "metadata": {},
   "source": [
    "### 获取传参"
   ]
  },
  {
   "cell_type": "code",
   "execution_count": null,
   "metadata": {},
   "outputs": [],
   "source": [
    "RequestHandler.get_argument(name,default=[],strip=True)\n",
    "    # 返回指定的name参数的值，如果一个参数在url上出现多次，返回最后一个值\n",
    "\n",
    "RequestHandler.get_arguments(name,strip=True)\n",
    "    # 返回指定name的参数列表，如果参数不在，返回一个空列表\n",
    "\n",
    "RequestHandler.get_query_argument(name,default=[],strip=True)\n",
    "    # 从请求的query string返回给定name的参数的值\n",
    "    # 如果没有提供默认值，这个参数值将被视为必须的，如果没有这个参数，会抛出MissingArgumentError\n",
    "    \n",
    "RequestHandler.get_body_arguments(name,strip=True)\n",
    "    #  返回由指定请求体中指定name的参数的列表\n",
    "    # 如果参数不存在，返回一个空列表\n",
    "    \n",
    "RequestHandler.decode_argument(value,name=None)\n",
    "    # 从请求中解码一个参数\n",
    "    \n",
    "RequestHandler.request\n",
    "    # 请求参数包括头部和body数据\n",
    "\n",
    "RequestHandler.path_args\n",
    "RequestHandler.path_kwargs\n",
    "    # 属性包含传递给HTTP 的位置和关键字参数，这些值在prepare之间是可用的"
   ]
  },
  {
   "cell_type": "markdown",
   "metadata": {},
   "source": [
    "### Output"
   ]
  },
  {
   "cell_type": "code",
   "execution_count": null,
   "metadata": {},
   "outputs": [],
   "source": [
    "RequestHandler.set_status(status_code,reason=None)\n",
    "    # 设置响应的状态码\n",
    "    # status_code：响应状态码，如果reason是None，它必须存在于httplib.responses\n",
    "    # reason：用人类可读的原因短语来描述状态码，如果是None，它会由来自httplib.responses的reason填满\n",
    "    \n",
    "\n",
    "RequestHandler.set_header(name,value)\n",
    "    # 给响应设置指定的头部和对应的值\n",
    "    \n",
    "RequestHandler.add_header(name,value)\n",
    "    # 添加指定的响应头和对应的值\n",
    "\n",
    "RequestHandler.clear_header(name)\n",
    "    # 清除输出头，取消之前的set_header调用\n",
    "\n",
    "RequestHandler.set_default_headers()\n",
    "    # 复写这个方法可以在请求开始的时候设置HTTP头\n",
    "    \n",
    "RequestHandler.write(chunk)\n",
    "    # 把给定块写到输出buffer\n",
    "    # 如果给定的块是json，需要把响应头设置为application/json\n",
    "\n",
    "RequestHandler.flush(include_footers=False,callback=None)\n",
    "    # 将当前输出缓冲区写到网络\n",
    "\n",
    "RequestHandler.finish(chunk=None)\n",
    "    # 完成响应，结束HTTP请求\n",
    "    \n",
    "RequestHandler.render(template_name,**kwargs)\n",
    "    # 使用给定参数渲染模板并作为响应\n",
    "\n",
    "RequestHandler.render_string(template_name,**kwargs)\n",
    "    # 使用给定的参数生成指定模板\n",
    "\n",
    "RequestHandler.get_template_namespace()\n",
    "    # 返回一个字典被用做默认的模板命名空间\n",
    "\n",
    "RequestHandler.redirect(url,permanent=False,status=None)\n",
    "    # 重定向到给定的URL（可以选择相对的路径）\n",
    "    # 如果指定status参数，则该参数值会作为HTTP状态码，否则将通过permanent参数选择301,302,默认302\n",
    "\n",
    "RequestHandler.send_error(status_code=500,**kwargs)\n",
    "    # 给浏览器发送给定的HTTP错误码\n",
    "    # 如果flush已经被调用，这个方法将终止响应\n",
    "\n",
    "RequestHandler.write_error(status_code,**kwargs)\n",
    "    # 复写这个方法来实现自定义错误页\n",
    "    \n",
    "RequestHandler.clear()\n",
    "    # 重置这个响应的所有头部和内容\n",
    "\n",
    "RequestHandler.data_received(chunk)\n",
    "    # 处理请求数据流\n",
    "    # 需要stream_request_body装饰器\n"
   ]
  },
  {
   "cell_type": "markdown",
   "metadata": {},
   "source": [
    "### Cookies"
   ]
  },
  {
   "cell_type": "code",
   "execution_count": null,
   "metadata": {},
   "outputs": [],
   "source": [
    "RequestHandler.cookies\n",
    "    # self.request.cookies的别名\n",
    "\n",
    "RequestHandler.get_cookie(name,default=None)\n",
    "    # 获取给定name的cookie值，如果未获取到则返回默认值\n",
    "\n",
    "RequestHandler.set_cookie(name,value,domain=None,expires=None,path='/',expires_days=None,**kwargs)\n",
    "    "
   ]
  }
 ],
 "metadata": {
  "kernelspec": {
   "display_name": "Python 3",
   "language": "python",
   "name": "python3"
  },
  "language_info": {
   "codemirror_mode": {
    "name": "ipython",
    "version": 3
   },
   "file_extension": ".py",
   "mimetype": "text/x-python",
   "name": "python",
   "nbconvert_exporter": "python",
   "pygments_lexer": "ipython3",
   "version": "3.7.4"
  }
 },
 "nbformat": 4,
 "nbformat_minor": 4
}
