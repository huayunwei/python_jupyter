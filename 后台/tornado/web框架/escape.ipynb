{
 "cells": [
  {
   "cell_type": "markdown",
   "metadata": {},
   "source": [
    "# escape - 转义和字符串操作"
   ]
  },
  {
   "cell_type": "code",
   "execution_count": null,
   "metadata": {},
   "outputs": [],
   "source": [
    "tornado.escape.xhtml_escape(value) # 转义一个字符串使它在HTML或XML中有效\n",
    "\n",
    "tornado.excape.xhtml_unescape(value) # 反转义一个已经XML转义过的字符串\n",
    "\n",
    "tornado.escape.url_escape(value,plus=True) # 返回一个给定值的URL编码版本\n",
    "    # plus为true（默认值），空格将标识为+,而不是%20\n",
    "\n",
    "tornado.escape.url_unescape(value,encoding='utf-8',plus=True) # 解码来自URL的给定值\n",
    "\n",
    "tornado.escape.json_encode(value) # 给定python对象进行json编码\n",
    "\n",
    "tornado.escape.json_decode(value) # 返回给定json字符串的python对象\n",
    "\n",
    "tornado.escape.utf8(value) # 将字符串参数转换为字节字符串\n",
    "\n",
    "tornado.escape.to_unicode(value) # 将字符串参数转换为unicode字符串\n",
    "\n",
    "tornado.escape.native_str() # 转换一个byte或unicode字符串到str类型\n",
    "\n",
    "tornado.escape.to_basestring(value) # 将字符串参数转换为basestring的子类\n",
    "\n",
    "tornado.escape.recursive_unicode(obj) # 伴随一个简单的数据结构，转换字节字符串为unicode字符串\n",
    "\n",
    "tornado.escape.linkify(text,shorten=False,extra_params=\"\",require_protocol=Fasle,permitted_protocols=[\"http\",\"https\"])\n",
    "    # 转换纯文本为带有链接的HTML\n",
    "    # shorten：长url将被缩短展示\n",
    "    # extra_params：额外的文本中的链接标签，或一个可调用的\n",
    "    # require_protocol：只有链接url包括一个协议\n",
    "    # permitted_protocols：协议的列表（或集合）\n",
    "    \n",
    "tornado.escape.squeeze(value) # 使用单个空格代替所有空格字符组成的序列"
   ]
  }
 ],
 "metadata": {
  "kernelspec": {
   "display_name": "Python 3",
   "language": "python",
   "name": "python3"
  },
  "language_info": {
   "codemirror_mode": {
    "name": "ipython",
    "version": 3
   },
   "file_extension": ".py",
   "mimetype": "text/x-python",
   "name": "python",
   "nbconvert_exporter": "python",
   "pygments_lexer": "ipython3",
   "version": "3.7.4"
  }
 },
 "nbformat": 4,
 "nbformat_minor": 4
}
