{
 "cells": [
  {
   "cell_type": "markdown",
   "metadata": {},
   "source": [
    "# ioloop"
   ]
  },
  {
   "cell_type": "code",
   "execution_count": null,
   "metadata": {},
   "outputs": [],
   "source": [
    "IOLoop.current(instance=True)\n",
    "# 返回当前线程的IOLoop\n",
    "# 如果ioloop当前正在运行或被标记为当前make_current，则返回该实例"
   ]
  },
  {
   "cell_type": "code",
   "execution_count": null,
   "metadata": {},
   "outputs": [],
   "source": [
    "IOLoop.make_current()\n",
    "# 使该IOLoop成为当前线程"
   ]
  },
  {
   "cell_type": "code",
   "execution_count": null,
   "metadata": {},
   "outputs": [],
   "source": [
    "IOLoop.instance()\n",
    "# 返回一个全局IOLoop实例"
   ]
  },
  {
   "cell_type": "code",
   "execution_count": null,
   "metadata": {},
   "outputs": [],
   "source": [
    "IOLoop.initialized()\n",
    "# 如果已创建单例实例，则返回true"
   ]
  },
  {
   "cell_type": "code",
   "execution_count": null,
   "metadata": {},
   "outputs": [],
   "source": [
    "IOLoop.install()\n",
    "# 将此IOLoop对象安装为单例实例"
   ]
  },
  {
   "cell_type": "code",
   "execution_count": null,
   "metadata": {},
   "outputs": [],
   "source": [
    "IOLoop.clear_instance()\n",
    "# 清除全局IOLoop实例"
   ]
  },
  {
   "cell_type": "code",
   "execution_count": null,
   "metadata": {},
   "outputs": [],
   "source": [
    "IOLoop.start()\n",
    "# 启动I/O循环"
   ]
  },
  {
   "cell_type": "code",
   "execution_count": null,
   "metadata": {},
   "outputs": [],
   "source": [
    "IOLoop.stop()\n",
    "# 停止I/O循环"
   ]
  },
  {
   "cell_type": "code",
   "execution_count": null,
   "metadata": {},
   "outputs": [],
   "source": [
    "IOLoop.run_sync(func,timeout=None)\n",
    "# 启动IOLoop，运行给定的函数，然后停止循环"
   ]
  },
  {
   "cell_type": "code",
   "execution_count": null,
   "metadata": {},
   "outputs": [],
   "source": [
    "IOLoop.close(all_fds=Fasle)\n",
    "# 关闭IOLoop，释放所有使用的资源"
   ]
  },
  {
   "cell_type": "code",
   "execution_count": null,
   "metadata": {},
   "outputs": [],
   "source": [
    "IOLoop.add_handler(fd,handler,events)\n",
    "# 注册给定的吃力程序以接收的给定事件fd"
   ]
  },
  {
   "cell_type": "code",
   "execution_count": null,
   "metadata": {},
   "outputs": [],
   "source": [
    "IOLoop.update_handler(fd,events)\n",
    "# 更改我们收听的事件fd"
   ]
  },
  {
   "cell_type": "code",
   "execution_count": null,
   "metadata": {},
   "outputs": [],
   "source": [
    "IOLoop.remove_handler(fd,event)\n",
    "# 停止收听有关的事件fd"
   ]
  },
  {
   "cell_type": "code",
   "execution_count": null,
   "metadata": {},
   "outputs": [],
   "source": [
    "IOLoop.add_callback(callback,*args,**kwargs)\n",
    "# 注册给定的处理程序以接收的给定事件fd"
   ]
  },
  {
   "cell_type": "code",
   "execution_count": null,
   "metadata": {},
   "outputs": [],
   "source": [
    "IOLoop.add_callback_from_signal(callback,*args,**kwages)\n",
    "# 在下一个I/O循环迭代时调用给定的回调"
   ]
  },
  {
   "cell_type": "code",
   "execution_count": null,
   "metadata": {},
   "outputs": [],
   "source": [
    "IOLoop.add_future(future,callback)\n",
    "# 在给定的future的完成时间安排回调"
   ]
  },
  {
   "cell_type": "code",
   "execution_count": null,
   "metadata": {},
   "outputs": [],
   "source": [
    "IOLoop.add_timeout(deadline,callback,*args,**kwargs)\n",
    "# 在deadline运行callback"
   ]
  },
  {
   "cell_type": "code",
   "execution_count": null,
   "metadata": {},
   "outputs": [],
   "source": [
    "IOLoop.call_at(when,callback,*args,**kwargs)\n",
    "# callback在所指定的绝对时间运行when"
   ]
  },
  {
   "cell_type": "code",
   "execution_count": null,
   "metadata": {},
   "outputs": [],
   "source": [
    "IOLoop.call_later(delay,callback,*args,**kwargs)\n",
    "# callback经过delay几秒后运行"
   ]
  },
  {
   "cell_type": "code",
   "execution_count": null,
   "metadata": {},
   "outputs": [],
   "source": [
    "IOLoop.remove_timeout(timeout)\n",
    "# 取消挂起的超时"
   ]
  },
  {
   "cell_type": "code",
   "execution_count": null,
   "metadata": {},
   "outputs": [],
   "source": [
    "IOLoop.spawn_callback(callback,*args,**kwargs)\n",
    "# 在下一个IOLoop迭代上调用给定的回调"
   ]
  },
  {
   "cell_type": "code",
   "execution_count": null,
   "metadata": {},
   "outputs": [],
   "source": []
  }
 ],
 "metadata": {
  "kernelspec": {
   "display_name": "Python 3",
   "language": "python",
   "name": "python3"
  },
  "language_info": {
   "codemirror_mode": {
    "name": "ipython",
    "version": 3
   },
   "file_extension": ".py",
   "mimetype": "text/x-python",
   "name": "python",
   "nbconvert_exporter": "python",
   "pygments_lexer": "ipython3",
   "version": "3.7.4"
  }
 },
 "nbformat": 4,
 "nbformat_minor": 4
}
