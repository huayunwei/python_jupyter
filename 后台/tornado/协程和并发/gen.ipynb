{
 "cells": [
  {
   "cell_type": "markdown",
   "metadata": {},
   "source": [
    "# gen-简化异步代码\n",
    "- 基于生成器的接口，可以更轻松地在异步环境中工作"
   ]
  },
  {
   "cell_type": "code",
   "execution_count": null,
   "metadata": {},
   "outputs": [],
   "source": [
    "class AsyncHandler(RequestHandler):\n",
    "    @asynchronous\n",
    "    def get(self):\n",
    "        http_client = AsyncHTTPClient()\n",
    "        http_client.fetch(\"\",callback=self.on_fetch)\n",
    "    \n",
    "    def on_fetch(self,response):\n",
    "        do_something_with_response(response)\n",
    "        self.render(\"template.html\")\n",
    "        \n",
    "# 修改成gen\n",
    "class GenAsyncHnadler(RequestHandler):\n",
    "    @gen.coroutine\n",
    "    def get(self):\n",
    "        http_client = AsyncHTTPClient()\n",
    "        response = yield http_client.fetch(\"http://example.com\")\n",
    "        do_something_with_response(response)\n",
    "        self.render(\"template.html\")"
   ]
  },
  {
   "cell_type": "markdown",
   "metadata": {},
   "source": [
    "## 装饰器"
   ]
  },
  {
   "cell_type": "code",
   "execution_count": null,
   "metadata": {},
   "outputs": [],
   "source": [
    "tornado.gen.coroutine(func,replace_callback=True) # 异步发生器的装饰器\n",
    "\n",
    "tornado.gen.engine(func) #异步发生器的面向回调的装饰器"
   ]
  },
  {
   "cell_type": "code",
   "execution_count": null,
   "metadata": {},
   "outputs": [],
   "source": [
    "tornado.gen.Return(value=None) \n",
    "\n",
    "tornado.gen.with_timeout(timeout,future,io_loop=None,quiet_exceptions=())\n",
    "\n",
    "tornado.gen.TimeoutError\n",
    "\n",
    "tornado.gen.sleep\n",
    "\n",
    "tornado.gen.moment\n",
    "\n",
    "tornado.gen.WaitIterator\n",
    "\n",
    "tornado.gen.multi"
   ]
  }
 ],
 "metadata": {
  "kernelspec": {
   "display_name": "Python 3",
   "language": "python",
   "name": "python3"
  },
  "language_info": {
   "codemirror_mode": {
    "name": "ipython",
    "version": 3
   },
   "file_extension": ".py",
   "mimetype": "text/x-python",
   "name": "python",
   "nbconvert_exporter": "python",
   "pygments_lexer": "ipython3",
   "version": "3.7.4"
  }
 },
 "nbformat": 4,
 "nbformat_minor": 4
}
