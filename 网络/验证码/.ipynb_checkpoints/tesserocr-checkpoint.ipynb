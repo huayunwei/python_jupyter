{
 "cells": [
  {
   "cell_type": "markdown",
   "metadata": {},
   "source": [
    "# tesserocer - OCR识别库"
   ]
  },
  {
   "cell_type": "markdown",
   "metadata": {},
   "source": [
    "## OCR介绍\n",
    "- OCR：Optical Character Recognition，光学字符识别，通过扫描字符，然后通过其形状将其翻译成电子文本的过程"
   ]
  },
  {
   "cell_type": "markdown",
   "metadata": {},
   "source": [
    "## tesserocr介绍\n",
    "- 对tesseract做一层python api封装，核心为tesseract，在安装tesserocr之前，需要先安装tesseract\n",
    "- 使用结果：\n",
    "    - 直接使用只能获取白底黑字的内容\n",
    "    - 如果有彩色背景，需要使用PIL转变为灰白层，然后设置阈值，去掉灰色，但是效果特别不好，因为阀值是自己设置的，每一张图可能都不同"
   ]
  },
  {
   "cell_type": "markdown",
   "metadata": {},
   "source": [
    "### 下载"
   ]
  },
  {
   "cell_type": "markdown",
   "metadata": {},
   "source": [
    "- [tesseract下载地址](http://digi.bib.uni-mannheim.de/tesseract)\n",
    "- tesserocer下载：\n",
    "    - pip3 install tesserocr pillow"
   ]
  },
  {
   "cell_type": "markdown",
   "metadata": {},
   "source": [
    "### 使用"
   ]
  },
  {
   "cell_type": "code",
   "execution_count": null,
   "metadata": {},
   "outputs": [],
   "source": [
    "\n",
    "import tesserocr\n",
    "from PIL import Image\n",
    "image = Image.open('xxx')\n",
    "print(tesserocr.image_to_text(image))"
   ]
  }
 ],
 "metadata": {
  "kernelspec": {
   "display_name": "Python 3",
   "language": "python",
   "name": "python3"
  },
  "language_info": {
   "codemirror_mode": {
    "name": "ipython",
    "version": 3
   },
   "file_extension": ".py",
   "mimetype": "text/x-python",
   "name": "python",
   "nbconvert_exporter": "python",
   "pygments_lexer": "ipython3",
   "version": "3.7.0"
  },
  "toc": {
   "base_numbering": 1,
   "nav_menu": {},
   "number_sections": false,
   "sideBar": true,
   "skip_h1_title": false,
   "title_cell": "Table of Contents",
   "title_sidebar": "Contents",
   "toc_cell": false,
   "toc_position": {},
   "toc_section_display": true,
   "toc_window_display": true
  }
 },
 "nbformat": 4,
 "nbformat_minor": 2
}
