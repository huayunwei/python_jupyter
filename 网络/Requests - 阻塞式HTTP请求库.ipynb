{
 "cells": [
  {
   "cell_type": "markdown",
   "metadata": {},
   "source": [
    "# Requests"
   ]
  },
  {
   "cell_type": "markdown",
   "metadata": {},
   "source": [
    "## get请求\n",
    "- requests.get(url)\n",
    "- requests.request(\"get\",url)"
   ]
  },
  {
   "cell_type": "code",
   "execution_count": null,
   "metadata": {},
   "outputs": [],
   "source": [
    "import requests\n",
    "\n",
    "url = \"http://www.baidu.com\"\n",
    "# 两种请求方式\n",
    "# 使用get请求\n",
    "rsp = requests.get(url)\n",
    "print(rsp.text)\n",
    "\n",
    "# 使用request请求\n",
    "rsp = requests.request(\"get\", url)\n",
    "print(rsp.text)"
   ]
  },
  {
   "cell_type": "code",
   "execution_count": null,
   "metadata": {},
   "outputs": [],
   "source": [
    "import requests\n",
    "\n",
    "# 完整访问url是下面url加上参数构成\n",
    "url = \"http://www.baidu.com/s?\"\n",
    "\n",
    "kw = {\n",
    "    \"wd\": \"xxx\"\n",
    "}\n",
    "\n",
    "\n",
    "headers = {\n",
    "    \"User-Agent\":\"Mozilla/5.0 (X11; Linux x86_64) AppleWebKit/537.36 (KHTML, like Gecko) Chrome/64.0.3282.119 Safari/537.36\"\n",
    "}\n",
    "rsp = requests.get(url, params=kw, headers=headers )\n",
    "\n",
    "print(rsp.text) # 响应内容的文本格式\n",
    "print(rsp.json()) # 如果响应为json样式的字符串，使用json函数会转换为dict类型\n",
    "print(rsp.content) # 响应内容的btype格式\n",
    "print(rsp.url) # 请求的url\n",
    "print(rsp.headers) # 响应头文件\n",
    "print(rsp.cookies) # cookie\n",
    "print(rsp.encoding)\n",
    "print(rsp.status_code) # 请求返回码\n",
    "\n",
    "# 保存图片等非文本内容\n",
    "with open('xxx.png','wb') as f:\n",
    "    f.write(rsp.content)"
   ]
  },
  {
   "cell_type": "markdown",
   "metadata": {},
   "source": [
    "## post请求\n",
    "- requests.post(\"xxx\",data={'key1':'value1'})"
   ]
  },
  {
   "cell_type": "markdown",
   "metadata": {},
   "source": [
    "## 文件上传"
   ]
  },
  {
   "cell_type": "code",
   "execution_count": null,
   "metadata": {},
   "outputs": [],
   "source": [
    "import requests\n",
    "\n",
    "files = {'file':open('xxx','rb')}\n",
    "r = requests.post(\"xxxxx\",files=files)"
   ]
  },
  {
   "cell_type": "markdown",
   "metadata": {},
   "source": [
    "## Cookies"
   ]
  },
  {
   "cell_type": "code",
   "execution_count": null,
   "metadata": {},
   "outputs": [],
   "source": [
    "# 1.直接将cookie内容作为header中的参数设置\n",
    "headers = {\n",
    "    'Cookie':'key1=value1;key2=value2;....',\n",
    "}\n",
    "r = requests.get('https://www.zhihu.com',headers=headers)\n",
    "\n",
    "# 创建RequestsCookieJar对象\n",
    "jar = requests.cookie.RequestsCookieJar()\n",
    "jar.set(\"key1\",\"values1\")\n",
    "r = requests.get(\"xxxx\",cookies=jar,headers=headers)"
   ]
  },
  {
   "cell_type": "markdown",
   "metadata": {},
   "source": [
    "## 维持同一个会话 -- session"
   ]
  },
  {
   "cell_type": "code",
   "execution_count": null,
   "metadata": {},
   "outputs": [],
   "source": [
    "import requests\n",
    "\n",
    "s = requests.Session()\n",
    "s.get('xxx') # 使用cookie值登录\n",
    "r = s.get('xxx') # 再次获取时仍为已经设置cookie值的页面\n",
    "print(r.text)"
   ]
  },
  {
   "cell_type": "markdown",
   "metadata": {},
   "source": [
    "## SSL验证"
   ]
  },
  {
   "cell_type": "code",
   "execution_count": null,
   "metadata": {},
   "outputs": [],
   "source": [
    "import requests\n",
    "\n",
    "response = requests.get('http://www.12306.cn',verify=False)\n",
    "print(response.status_code)"
   ]
  },
  {
   "cell_type": "markdown",
   "metadata": {},
   "source": [
    "## 代理设置"
   ]
  },
  {
   "cell_type": "code",
   "execution_count": null,
   "metadata": {},
   "outputs": [],
   "source": [
    "import requests\n",
    "proxies = {\n",
    "    \"http\":\"xxxx\",\n",
    "    \"https\":\"xxxx\"\n",
    "}\n",
    "\n",
    "requests.get(\"https://www.taobao.com\",proxies=proxies)"
   ]
  },
  {
   "cell_type": "markdown",
   "metadata": {},
   "source": [
    "## 身份验证"
   ]
  },
  {
   "cell_type": "code",
   "execution_count": null,
   "metadata": {},
   "outputs": [],
   "source": [
    "import requests\n",
    "from requests.auth import HTTPBasicAuth\n",
    "\n",
    "r = requests.get('http://localhost:5000',auth=HTTPBasicAuth('username','password'))\n",
    "\n",
    "# 等同于\n",
    "r = requests.get('xxxx',auth=('username','password'))\n",
    "print(r.status_code)\n",
    "\n",
    "# OAuth认证\n",
    "# 安装pip3 install requests_oauthlib\n",
    "import requests\n",
    "from requests_oauthlib import OAuth1\n",
    "\n",
    "url = 'xxxx'\n",
    "auth = OAuth1('xxxx','yyyy','zzzz')\n",
    "requests.get(url,auth=auth)"
   ]
  }
 ],
 "metadata": {
  "kernelspec": {
   "display_name": "Python 3",
   "language": "python",
   "name": "python3"
  },
  "language_info": {
   "codemirror_mode": {
    "name": "ipython",
    "version": 3
   },
   "file_extension": ".py",
   "mimetype": "text/x-python",
   "name": "python",
   "nbconvert_exporter": "python",
   "pygments_lexer": "ipython3",
   "version": "3.7.1"
  },
  "toc": {
   "base_numbering": 1,
   "nav_menu": {},
   "number_sections": false,
   "sideBar": true,
   "skip_h1_title": false,
   "title_cell": "Table of Contents",
   "title_sidebar": "Contents",
   "toc_cell": false,
   "toc_position": {},
   "toc_section_display": true,
   "toc_window_display": false
  }
 },
 "nbformat": 4,
 "nbformat_minor": 2
}
