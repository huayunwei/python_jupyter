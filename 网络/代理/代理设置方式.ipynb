{
 "cells": [
  {
   "cell_type": "markdown",
   "metadata": {},
   "source": [
    "# 代理设置方式"
   ]
  },
  {
   "cell_type": "markdown",
   "metadata": {},
   "source": [
    "## urllib"
   ]
  },
  {
   "cell_type": "code",
   "execution_count": null,
   "metadata": {},
   "outputs": [],
   "source": [
    "from urllib.error import URLError\n",
    "from urlli.request import ProxyHandler,build_opener\n",
    "\n",
    "proxy = '127.0.0.1:9743'\n",
    "proxy_handler = ProxyHandler({\n",
    "    'http':'http://' + proxy,\n",
    "    'https':'https://' + proxy\n",
    "})\n",
    "\n",
    "opener = build_opener(proxy_handler)\n",
    "try:\n",
    "    response = opener.open('http://httpbin.org/get')\n",
    "    print(response.read().decode('utf-8'))\n",
    "except URLError as e:\n",
    "    print(e.reason)"
   ]
  },
  {
   "cell_type": "code",
   "execution_count": null,
   "metadata": {},
   "outputs": [],
   "source": [
    "import socks\n",
    "import socket\n",
    "from urllib import request\n",
    "from urllib.error import URLError\n",
    "\n",
    "socks.set_default_proxy(socks.SOCKS5,'127.0.0.1',9742)\n",
    "socket.socket = socks.socksocket\n",
    "try:\n",
    "    response = request.urlopen('http://httpbin.org/get')\n",
    "    print(response.read().decode('utf-8'))\n",
    "except URLError as e:\n",
    "    print(e.reason)"
   ]
  },
  {
   "cell_type": "markdown",
   "metadata": {},
   "source": [
    "## requests"
   ]
  },
  {
   "cell_type": "code",
   "execution_count": null,
   "metadata": {},
   "outputs": [],
   "source": [
    "import requests\n",
    "\n",
    "proxy = '127.0.0.1:9743'\n",
    "proxies = {\n",
    "    'http':'http://' + proxy,\n",
    "    'https':'https://' + proxy\n",
    "}\n",
    "try:\n",
    "    response = requests.get('http://httpbin.org/get',proxies=proxies)\n",
    "    print(response.text)\n",
    "except requests.exceptions.ConnectionError as e:\n",
    "    print('Error',e.args)"
   ]
  },
  {
   "cell_type": "code",
   "execution_count": null,
   "metadata": {},
   "outputs": [],
   "source": [
    "import requests\n",
    "import socks\n",
    "import socket\n",
    "\n",
    "socks.set_default_proxy(socks.SOCKS5,'127.0.0.1',9742)\n",
    "socket.socket = socks.socksocket\n",
    "try:\n",
    "    response = requests.get('http://httpbin.org/get')\n",
    "    print(response.text)\n",
    "except requests.exceptions.ConnctionError as e:\n",
    "    print('Error',e.args)"
   ]
  },
  {
   "cell_type": "markdown",
   "metadata": {},
   "source": [
    "## selenium"
   ]
  },
  {
   "cell_type": "code",
   "execution_count": null,
   "metadata": {},
   "outputs": [],
   "source": [
    "from selenium import webdriver\n",
    "\n",
    "proxy = '127.0.0.1:9743'\n",
    "chrome_options = webdriver.ChromeOptions()\n",
    "chrome_options.add_argument('--prxoy-server=http://'+proxy)\n",
    "browser = webdriver.Chrome(chrome_options=chrome_options)\n",
    "browser.get('http://httpbin.org/get')"
   ]
  }
 ],
 "metadata": {
  "kernelspec": {
   "display_name": "Python 3",
   "language": "python",
   "name": "python3"
  },
  "language_info": {
   "codemirror_mode": {
    "name": "ipython",
    "version": 3
   },
   "file_extension": ".py",
   "mimetype": "text/x-python",
   "name": "python",
   "nbconvert_exporter": "python",
   "pygments_lexer": "ipython3",
   "version": "3.7.0"
  },
  "toc": {
   "base_numbering": 1,
   "nav_menu": {},
   "number_sections": false,
   "sideBar": true,
   "skip_h1_title": false,
   "title_cell": "Table of Contents",
   "title_sidebar": "Contents",
   "toc_cell": false,
   "toc_position": {},
   "toc_section_display": true,
   "toc_window_display": false
  }
 },
 "nbformat": 4,
 "nbformat_minor": 2
}
