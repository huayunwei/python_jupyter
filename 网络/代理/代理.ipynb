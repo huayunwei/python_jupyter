{
 "cells": [
  {
   "cell_type": "markdown",
   "metadata": {},
   "source": [
    "# 代理（proxy server）\n",
    "- 指代理服务器，功能是代理网络用户去取得网络信息"
   ]
  },
  {
   "cell_type": "markdown",
   "metadata": {},
   "source": [
    "## 原理\n",
    "- 它是网络信息的中转站，在正常请求一个网站时，是发送了请求给web服务器，web服务器把响应传回给我们\n",
    "- 如果设置了代理，此时本机不是直接向web服务器发起请求，而是向代理服务器发送请求，请求会发送给代理服务器，然后由代理服务器再发给web服务器，web服务器的响应发给代理服务器，再由代理服务器发送给本机\n",
    "- 此时web服务器识别出访问的ip就是代理服务器的ip，而不是本机的ip了"
   ]
  },
  {
   "cell_type": "markdown",
   "metadata": {},
   "source": [
    "## 作用\n",
    "- 突破自身ip访问限制，访问一些平时补鞥呢访问的站点\n",
    "- 访问一些单位或团体内部资源：使用某个单位的内部地址段作为代理服务器，可以访问某单位的内部内容\n",
    "- 提高访问速度：代理服务器都设置一个较大的硬盘缓冲区，当有外界的信息通过时，同时将信息存到缓冲区，这样再访问时，会直接从缓冲区中取出\n",
    "- 隐藏真实IP"
   ]
  },
  {
   "cell_type": "markdown",
   "metadata": {},
   "source": [
    "## 分类\n",
    "- 根据协议区分：\n",
    "    - FTP代理服务器：主要用于访问FTP服务器，一般有上传、下载以及缓存功能，端口一般为21、2121等\n",
    "    - HTTP代理服务器：主要用于访问网页，一般有内容过滤和缓存功能，端口一般为80、8080、3128等\n",
    "    - SSL/TLS代理：主要用于访问加密网站，一般有SSL或TLS加密功能（最高支持128位加密强度），端口一般为443\n",
    "    - RTSP代理：主要用于访问Real流媒体服务器，一般有缓存功能，端口一般为554\n",
    "    - Telnet代理：主要用于telnet远程控制（黑客入侵计算机时常用语隐藏身份），端口一般为23\n",
    "    - POP3/SMTP代理：主要用于POP3/SMTP方式收发邮件，一般有缓存功能，端口一般为110/25\n",
    "    - SOCKS代理：只是单纯传递数据包，不关心具体协议和用法，所以速度快很多，一般有缓存功能，端口一般为1080\n",
    "- 根据匿名程度区分\n",
    "    - 高度匿名代理：会将数据包原封不动地转发，在服务端看来就好像真的是一个普通客户端在访问，而记录的IP是代理服务器的IP\n",
    "    - 普通匿名代理：会在数据包上做一些改动，服务端上有可能发现这是个代理服务器，也有一定几率追查到客户端的真实IP，代理服务器通常会加入的HTTP头有HTTP_VIA和HTTP_X_FORWARDED_FOR\n",
    "    - 透明代理：不但改动了数据包，还会告诉服务器客户端的真实IP\n",
    "    - 间谍代理：指组织或个人创建的用于记录用户传输的数据，然后进行研究、监控等目的的代理服务器"
   ]
  },
  {
   "cell_type": "markdown",
   "metadata": {},
   "source": [
    "## 常见代理设置\n",
    "- 使用网上的免费代理：最好使用高匿代理\n",
    "- 使用付费代理服务：互联网有很多代理商，可以付费使用，质量比免费代理好很多\n",
    "- ADSL拨号：拨一次号换一次IP，稳定性高，也是一种比较有效的解决方案"
   ]
  },
  {
   "cell_type": "code",
   "execution_count": null,
   "metadata": {},
   "outputs": [],
   "source": []
  }
 ],
 "metadata": {
  "kernelspec": {
   "display_name": "Python 3",
   "language": "python",
   "name": "python3"
  },
  "language_info": {
   "codemirror_mode": {
    "name": "ipython",
    "version": 3
   },
   "file_extension": ".py",
   "mimetype": "text/x-python",
   "name": "python",
   "nbconvert_exporter": "python",
   "pygments_lexer": "ipython3",
   "version": "3.7.0"
  },
  "toc": {
   "base_numbering": 1,
   "nav_menu": {},
   "number_sections": false,
   "sideBar": true,
   "skip_h1_title": false,
   "title_cell": "Table of Contents",
   "title_sidebar": "Contents",
   "toc_cell": false,
   "toc_position": {},
   "toc_section_display": true,
   "toc_window_display": false
  }
 },
 "nbformat": 4,
 "nbformat_minor": 2
}
