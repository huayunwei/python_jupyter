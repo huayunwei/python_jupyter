{
 "cells": [
  {
   "cell_type": "markdown",
   "metadata": {},
   "source": [
    "# session 和 cookie\n",
    "- 用于保持HTTP的链接状态"
   ]
  },
  {
   "cell_type": "markdown",
   "metadata": {},
   "source": [
    "## session - 会话\n",
    "- 会话保存在服务端，即网站的服务器\n",
    "- 会话：用来存储特定用户会话所需的属性及配置信息，这样用户在应用程序的web页之间切换时，存储在会话对象中的变量将不会丢失"
   ]
  },
  {
   "cell_type": "markdown",
   "metadata": {},
   "source": [
    "## cookies\n",
    "- 指某些网站为了辨别用户身份、进行会话跟踪而存储在用户本地终端上的数据\n",
    "- 包含的属性：\n",
    "    - Name：该Cookie的名称\n",
    "    - Value：该Cookie的值\n",
    "    - Domain：可以访问该Cookie的域名\n",
    "    - Max Age：该Cookie失效的时间，单位为秒，如果为正数，则该Cooie在Max Age秒之后失效，如果为负数，则关闭浏览器时失效\n",
    "    - Path：该Cookie的使用路径，如果设置为/path/，则只有path页面可以访问，如果设置为/，则本域名下所有页面都可以访问\n",
    "    - size：Cookie的大小\n",
    "    - http：httponly属性，如果为true则只有在http头中会带有此cookie信息，而且不能通过document.cookie来访问此Cookie\n",
    "    - secure：该cookie是否仅被使用安全协议传输"
   ]
  }
 ],
 "metadata": {
  "kernelspec": {
   "display_name": "Python 3",
   "language": "python",
   "name": "python3"
  },
  "language_info": {
   "codemirror_mode": {
    "name": "ipython",
    "version": 3
   },
   "file_extension": ".py",
   "mimetype": "text/x-python",
   "name": "python",
   "nbconvert_exporter": "python",
   "pygments_lexer": "ipython3",
   "version": "3.7.0"
  },
  "toc": {
   "base_numbering": 1,
   "nav_menu": {},
   "number_sections": false,
   "sideBar": true,
   "skip_h1_title": false,
   "title_cell": "Table of Contents",
   "title_sidebar": "Contents",
   "toc_cell": false,
   "toc_position": {},
   "toc_section_display": true,
   "toc_window_display": true
  }
 },
 "nbformat": 4,
 "nbformat_minor": 2
}
