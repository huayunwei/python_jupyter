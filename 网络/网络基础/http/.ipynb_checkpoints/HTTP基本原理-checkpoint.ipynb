{
 "cells": [
  {
   "cell_type": "markdown",
   "metadata": {},
   "source": [
    "# HTTP基本原理"
   ]
  },
  {
   "cell_type": "markdown",
   "metadata": {},
   "source": [
    "## URI 和URL\n",
    "- URI：Uniform Resource Identifier - 统一资源标志符\n",
    "- URL：Universal Resource Locator - 统一资源定位符\n",
    "- URN：Universal Resource Name-统一资源名称\n",
    "- URL和URI和URN之间的关系：\n",
    "    - URL是URI的子集，及URL都是URI，但不是每一个URI都是URL\n",
    "    - URN是URI的子集\n",
    "    - URN和URL有交集\n",
    "    - 目前互联网中，URN用的很少，所以几乎所有的URI都是URL"
   ]
  },
  {
   "cell_type": "markdown",
   "metadata": {},
   "source": [
    "## HTTP和HTTPS\n",
    "- http和https都是协议类型"
   ]
  },
  {
   "cell_type": "markdown",
   "metadata": {},
   "source": [
    "### HTTP\n",
    "- 全称：Hyper Text Transfer Protocol\n",
    "- 中文名：超文本传输协议\n",
    "- 作用：用于从网络传输超文本数据到本地浏览器的传送协议\n",
    "- 目前使用广泛的为HTTP1.1版本"
   ]
  },
  {
   "cell_type": "markdown",
   "metadata": {},
   "source": [
    "### HTTPS\n",
    "- 全称：Hyper Text Transfer Protocol over Secure Socket Layer\n",
    "- 定义：以安全为目标的HTTP通道，HTTP下加入SSL层，通过它传输的内容都是经过SSL加密的\n",
    "- 作用：\n",
    "    - 建立一个信息安全通道来保证数据传输的安全\n",
    "    - 确认网站的真实性，凡是使用了HTTPS的网站，都可以通过点击浏览器地址栏的锁头标示来查看网站认证之后的真实信息，也可以通过CA机构颁发的安全签章来查询"
   ]
  },
  {
   "cell_type": "markdown",
   "metadata": {},
   "source": [
    "### HTTP请求过程\n",
    "1. 在浏览器输入一个URL，按回车后\n",
    "2. 浏览器向网站所在的服务器发送一个请求\n",
    "3. 网站服务器接受请求后进行处理和解析，并返回对应的响应\n",
    "4. 浏览器对响应中包含的源代码等内容进行解析，并呈现在网页中"
   ]
  },
  {
   "cell_type": "markdown",
   "metadata": {},
   "source": [
    "#### 请求\n",
    "- 请求方法：\n",
    "    - GET和POST方法的区别\n",
    "        - GET请求中的参数包含在URL里，数据可以在URL中看到，而POST请求的URL不会包含这些数据，数据都是通过表单形式传输的，会包含在请求体中\n",
    "        - GET请求提交的数据最多只有1024字节，而POST方式没有限制\n",
    "    - 其他方法：\n",
    "        - HEAD：\n",
    "        - PUT：\n",
    "        - DELETE:\n",
    "        - CONNECT：\n",
    "        - OPTIONS：\n",
    "        - TRACE："
   ]
  },
  {
   "cell_type": "markdown",
   "metadata": {},
   "source": [
    "- 请求的网址：请求的网址，即统一资源定位符URL，它可以唯一确定我们想请求的资源\n",
    "- 请求头：用来说明服务器要使用的附加信息，比较重要的信息有Cookie、Referer、User-Agent等\n",
    "    - Accept：请求报文域，用于指定客户端可接受哪些类型的信息\n",
    "    - Accept-Language：指定客户端可接受的语言类型\n",
    "    - Accept-Encoding：指定客户端可接受的内容编码\n",
    "    - Host：用于指定请求资源的主机IP和端口号，其内容为请求URL的原始服务器或网关的位置\n",
    "    - Cookie：为了辨别用户进行会话跟踪儿存储在用户本地的数据\n",
    "    - Referer：内容用来标识这个请求是从哪个页面发过来的，服务器可以拿到这一信息并做相应的处理\n",
    "    - User-Agent：简称UA，可以使服务器识别客户使用的操作系统及版本、浏览器及版本等信息\n",
    "    - Content-Type：互联网媒体类型或MIME类型\n",
    "- 请求体：\n",
    "    - GET请求：空\n",
    "    - POST请求：表单数据\n",
    "        - 提交数据的方式Content-Type\n",
    "            - application/x-www-form-urlencoded：表单数据\n",
    "            - multipart/form-data：表单文件上传\n",
    "            - application/json：序列化JSON数据\n",
    "            - text/xml：XML数据"
   ]
  },
  {
   "cell_type": "markdown",
   "metadata": {},
   "source": [
    "#### 响应\n",
    "- 响应状态码：\n",
    "![](img/http_1.png)\n",
    "![](img/http_2.png)\n",
    "- 响应头：\n",
    "    - Date：标识响应产生的问题\n",
    "    - Lase-Modified：指定资源的最后修改时间\n",
    "    - Content-Encoding：指定响应内容的编码\n",
    "    - Server：包含服务器的信息，比如名称，版本号\n",
    "    - Content-Type：文档类型，指定返回的数据类型是什么\n",
    "        - text/html：返回HTML文档\n",
    "        - application/x-javascript：返回javascript文件\n",
    "        - image/jpeg：返回图片\n",
    "    - Set-Cookie：设置Cookies，响应头中的Set-Cookie告诉浏览器需要将此内容放在Cookies中，下次请求携带Cookie请求\n",
    "    - Expires：指定响应的过期时间，可以使代理服务器或浏览器将加载的内容更新到缓存中，如果再次访问时，就可以直接从缓存中加载，降低服务器负载，缩短加载时间\n",
    "- 响应体"
   ]
  },
  {
   "cell_type": "code",
   "execution_count": null,
   "metadata": {},
   "outputs": [],
   "source": []
  }
 ],
 "metadata": {
  "kernelspec": {
   "display_name": "Python 3",
   "language": "python",
   "name": "python3"
  },
  "language_info": {
   "codemirror_mode": {
    "name": "ipython",
    "version": 3
   },
   "file_extension": ".py",
   "mimetype": "text/x-python",
   "name": "python",
   "nbconvert_exporter": "python",
   "pygments_lexer": "ipython3",
   "version": "3.7.0"
  },
  "toc": {
   "base_numbering": 1,
   "nav_menu": {},
   "number_sections": false,
   "sideBar": true,
   "skip_h1_title": false,
   "title_cell": "Table of Contents",
   "title_sidebar": "Contents",
   "toc_cell": false,
   "toc_position": {},
   "toc_section_display": true,
   "toc_window_display": true
  }
 },
 "nbformat": 4,
 "nbformat_minor": 2
}
