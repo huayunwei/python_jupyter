{
 "cells": [
  {
   "cell_type": "markdown",
   "metadata": {},
   "source": [
    "# FTP\n",
    "- FTP文件传输协议\n",
    "- 用途：定制一些特殊的上传下载文件的服务\n",
    "- 用户分类：登录FTP服务器必须有一个账号\n",
    "    - Real账户：注册账户\n",
    "    - Guest账户：可能临时对某一类人的行为进行授权\n",
    "    - Anonymous账户：匿名账户，允许任何人\n",
    "- FTP工作流程\n",
    "    - 客户端链接远程主机上的FTP服务器\n",
    "    - 客户端输入用户名和密码\n",
    "    - 客户端和服务器进行各种文件传输和信息查询操作\n",
    "    - 客户端从远程FTP服务器退出，结束传输\n",
    "- FTP文件表示\n",
    "    - 分三段表示FTP服务器上的文件\n",
    "    - HOST：主机地址，类似于ftp.mozilla.org，以ftp开头\n",
    "    - DIR：目录，表示文件所在本地的路径\n",
    "    - File：文件名称\n",
    "    - 如果想完整精确表示ftp上某一文件，需要上述三部分组合在一起"
   ]
  },
  {
   "cell_type": "code",
   "execution_count": null,
   "metadata": {},
   "outputs": [],
   "source": [
    "import ftplib\n",
    "import os\n",
    "import socket\n",
    "\n",
    "# 三部分精确表示在ftp服务器上的某一个文件\n",
    "# 好多公开ftp服务器访问会出错或没有反应\n",
    "HOST = \"ftp.acc.umu.se\"\n",
    "DIR = \"Public/EFLIB\"\n",
    "FILE = 'README'\n",
    "\n",
    "# 1、客户端链接远程主机上的FTP服务器\n",
    "try:\n",
    "    f = ftplib.FTP()\n",
    "    # 设置调试级别\n",
    "    f.set_debugleverl(2)\n",
    "    # 链接主机地址\n",
    "    f.connect(HOST)\n",
    "except Exception as e:\n",
    "    print(e)\n",
    "    exit()\n",
    "print(\"*** connected to host{}\".format(HOST))\n",
    "\n",
    "# 2、客户端输入用户名和密码\n",
    "try:\n",
    "    # 登录如果没有输入用户信息，则默认使用匿名登录\n",
    "    f.login()\n",
    "except Exception as e:\n",
    "    print(e)\n",
    "    exit()\n",
    "print(\"*** Logged in as xxx\")\n",
    "\n",
    "# 3、客户端和服务器进行各种文件传输和信息查询操作\n",
    "try:\n",
    "    # 更改当前目录到制定目录\n",
    "    f.cwd(DIR)\n",
    "except Exception as e:\n",
    "    print(e)\n",
    "    exit()\n",
    "print(\"*** change dir to {}\".format(DIR))\n",
    "\n",
    "try:\n",
    "    # 从FTP服务器上下载文件\n",
    "    # 第一参数是ftp命令\n",
    "    # 第二个参数是回调函数\n",
    "    f.retrbinary('RETR{}'.format(FILE),open(FILE,'wb').write)\n",
    "except Exception as e:\n",
    "    print(e)\n",
    "    exit()\n",
    "    \n",
    "# 4、客户端从远程FTP服务器退出，结束传输\n",
    "f.quit()"
   ]
  }
 ],
 "metadata": {
  "kernelspec": {
   "display_name": "Python 3",
   "language": "python",
   "name": "python3"
  },
  "language_info": {
   "codemirror_mode": {
    "name": "ipython",
    "version": 3
   },
   "file_extension": ".py",
   "mimetype": "text/x-python",
   "name": "python",
   "nbconvert_exporter": "python",
   "pygments_lexer": "ipython3",
   "version": "3.7.0"
  }
 },
 "nbformat": 4,
 "nbformat_minor": 2
}
