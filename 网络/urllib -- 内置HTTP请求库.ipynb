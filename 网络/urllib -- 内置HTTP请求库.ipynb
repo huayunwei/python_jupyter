{
 "cells": [
  {
   "cell_type": "markdown",
   "metadata": {},
   "source": [
    "# urllib"
   ]
  },
  {
   "cell_type": "markdown",
   "metadata": {},
   "source": [
    "## 包含的模块\n",
    "- urllib.request：基本的HTTP请求模块，用来模拟发送请求\n",
    "- urllib.error：包含urllib.request产生的常见的错误，使用try捕获\n",
    "- urllib.parse：一个工具模块，提供了许多URL处理方法，比如拆分、解析、合并等\n",
    "- urllib.robotparse：解析robots.txt文件"
   ]
  },
  {
   "cell_type": "markdown",
   "metadata": {},
   "source": [
    "## request模块\n",
    "- 提供了最基本的构造HTTP请求的方法，利用它可以模拟浏览器的一个请求发起过程，同时它还带有处理授权验证、重定向、浏览器Cookie以及其他内容"
   ]
  },
  {
   "cell_type": "markdown",
   "metadata": {},
   "source": [
    "### urlopen方法\n",
    "- 完成最基本的简单网页的GET请求抓取"
   ]
  },
  {
   "cell_type": "code",
   "execution_count": null,
   "metadata": {},
   "outputs": [],
   "source": [
    "'''\n",
    "urllib.request.urlopen(url,data=None,[timeout,]*,cafile=None,capath=None,cadefault=False,context=None)\n",
    "data：传递了这个参数，则请求方式变为POST\n",
    "timeout：设置超时时间，单位为秒，如果超出了设置的这个时间，还没有得到响应，就会抛出异常（urllib.error.URLError）\n",
    "context：必须为ssl.SSLContext类型，用来指定SSL设置\n",
    "'''\n",
    "import urllib.request\n",
    "response = urllib,request.urlopen('url地址')\n",
    "print(response.read().decode('utf-8'))\n",
    "\n",
    "# 传递data的\n",
    "data = bytes(urllib.parse.urlencode({'word':'hello'}),encoding='utf8')\n",
    "response = urllib.request.urlopen('url地址',data=data)\n"
   ]
  },
  {
   "cell_type": "markdown",
   "metadata": {},
   "source": [
    "### request类"
   ]
  },
  {
   "cell_type": "code",
   "execution_count": null,
   "metadata": {},
   "outputs": [],
   "source": [
    "'''\n",
    "class urllib.request.Request(url,data=None,headers={},origin_req_host=None,unverifiable=False,method=None)\n",
    "url：用于请求URL，必传参数\n",
    "data：必须传bytes类型的\n",
    "headers：请求头，类型为字典\n",
    "    - User-Agent：用来伪装浏览器，默认的User-Agent是Python-urllib，可以通过修改它的值来伪装浏览器，例如伪装火狐可以设置为 Mozilla/s.o (X11; U; Linux i686) Gecko/20071127 Firefox/2.0.0.11\n",
    "origin_req_host：请求方的host名称或者IP地址\n",
    "unverifiable：请求是否是无法验证的，默认为False，用户没有足够权限来选择接收这个请求的结果\n",
    "method：请求的方式\n",
    "'''\n",
    "from urllib import request,parse\n",
    "url = 'xxxx'\n",
    "headers = {\n",
    "    'User-Agent':'xxx',\n",
    "    'Host':'httpbin.org'\n",
    "}\n",
    "dict = {\n",
    "    'name':'xxx'\n",
    "}\n",
    "data = bytes(parse.urlencode(dict),encoding='utf8')\n",
    "req = request.Request(url=url,data=data,headers=headers,method='POST')\n",
    "response = request.urlopen(req)\n",
    "print(response.read().decode('utf-8'))"
   ]
  },
  {
   "cell_type": "markdown",
   "metadata": {},
   "source": [
    "### BaseHandler类\n",
    "- 各种处理器的父类\n",
    "- HITPDefaultErrorHandler：用于处理HTTP响应错误，错误会抛出HTTPError类型的异常\n",
    "- HTTPRedirectHandler：用于处理重定向\n",
    "- HTTPCookieProcessor：用于处理Cookies\n",
    "- ProxyHandler：用于设置代理，默认代理为空\n",
    "- HTTPPasswordMgr：用于管理密码，它维护了用户名和密码的表\n",
    "- HTTPBasicAuthHandler：用于管理认证，如果一个链接打开时需要认证，那么可以用它来解决认证问题"
   ]
  },
  {
   "cell_type": "code",
   "execution_count": null,
   "metadata": {},
   "outputs": [],
   "source": [
    "## 代理\n",
    "from urllib.error import URLError\n",
    "from urllib.request import ProxyHandler,build_opener\n",
    "\n",
    "proxy_handler = ProxyHandler({\n",
    "    'http':'xxxx',\n",
    "    'https':'xxx'\n",
    "})\n",
    "opener = build_opener(proxy_handler)\n",
    "try:\n",
    "    response = opener.open('xxxx')\n",
    "    print(response.read().decode('utf-8'))\n",
    "except URLError as e:\n",
    "    print(e.reason)"
   ]
  },
  {
   "cell_type": "code",
   "execution_count": null,
   "metadata": {},
   "outputs": [],
   "source": [
    "## Cookie\n",
    "import http.cookiejar,urllib.request\n",
    "cookie = http.cookiejar.CookieJar()\n",
    "handler = urllib.request.HTTPCookieProcessor(cookie)\n",
    "opener = urllib.request.build_opener(handler)\n",
    "response = opener.open('xxxx')\n",
    "for item in cookie:\n",
    "    print(item.name+'='+item.value)"
   ]
  },
  {
   "cell_type": "markdown",
   "metadata": {},
   "source": [
    "### 异常\n",
    "- URLError类：由request模块生成的异常都可以通过捕获这个类来处理\n",
    "    - reason属性：返回错误的原因\n",
    "- HTTPError类：URLError的子类，专门用来处理HTTP请求错误\n",
    "    - code属性：返回HTTP状态码\n",
    "    - reason属性：同父类\n",
    "    - headers：返回请求头"
   ]
  },
  {
   "cell_type": "markdown",
   "metadata": {},
   "source": [
    "### 解析链接 - parse"
   ]
  },
  {
   "cell_type": "markdown",
   "metadata": {},
   "source": [
    "#### urlparse - 实现URL的识别和分段"
   ]
  },
  {
   "cell_type": "code",
   "execution_count": null,
   "metadata": {},
   "outputs": [],
   "source": [
    "'''\n",
    "scheme://netloc/path ;params?query#fragment\n",
    "会解析为6部分：\n",
    "scheme：://前面的，代表协议\n",
    "netloc：第一个/符号前面的，即域名\n",
    "path：第一个/符号后面的，即访问路径\n",
    "params：;分号前面的，即参数\n",
    "query：?问号后面的，即查询条件，\n",
    "fragment：#后面的，即锚点\n",
    "'''\n",
    "from urllib.parse import urlparse\n",
    "result = urlparse('xxxx')\n",
    "print(type(result),result)"
   ]
  },
  {
   "cell_type": "markdown",
   "metadata": {},
   "source": [
    "#### urlunparse - 根据参数构造url\n",
    "- 参数为一个可迭代对象，长度必须是6"
   ]
  },
  {
   "cell_type": "code",
   "execution_count": 1,
   "metadata": {},
   "outputs": [
    {
     "name": "stdout",
     "output_type": "stream",
     "text": [
      "http://www.baidu.com/index.html;user?a=6#comment\n"
     ]
    }
   ],
   "source": [
    "from urllib.parse import urlunparse\n",
    "data = ['http','www.baidu.com','index.html','user','a=6','comment']\n",
    "print(urlunparse(data))"
   ]
  },
  {
   "cell_type": "markdown",
   "metadata": {},
   "source": [
    "#### urlsplit - 类似urlparse\n",
    "- 只返回5个结果，params会合并到path中"
   ]
  },
  {
   "cell_type": "markdown",
   "metadata": {},
   "source": [
    "#### urlunsplit - 类似urlunparse\n",
    "- 传入一个可迭代对象，长度为5"
   ]
  },
  {
   "cell_type": "markdown",
   "metadata": {},
   "source": [
    "#### urljoin - 合并为url"
   ]
  },
  {
   "cell_type": "code",
   "execution_count": null,
   "metadata": {},
   "outputs": [],
   "source": [
    "'''\n",
    "参数1：base_url - 基础链接\n",
    "参数2：new_url - 新链接\n",
    "新连接中不存在的部分会从基础链接补充，如果存在则使用新链接的内容\n",
    "'''\n",
    "from urllib.parse import urljoin\n",
    "print(urljoin('http://www.baidu.com','a,html'))"
   ]
  },
  {
   "cell_type": "markdown",
   "metadata": {},
   "source": [
    "#### urlencode - 将序列化转为GET请求参数\n",
    "- 将类似于字典的类型的内容，转为key=value&key=value的形式"
   ]
  },
  {
   "cell_type": "markdown",
   "metadata": {},
   "source": [
    "#### parse_qs - 反序列化\n",
    "- 将GET请求参数形式转为序列化形式"
   ]
  },
  {
   "cell_type": "markdown",
   "metadata": {},
   "source": [
    "#### parse_qsl - 将参数转化为元组组成的列表"
   ]
  },
  {
   "cell_type": "markdown",
   "metadata": {},
   "source": [
    "#### quote - 将内容转化为URL编码的格式"
   ]
  },
  {
   "cell_type": "markdown",
   "metadata": {},
   "source": [
    "#### unquote - 将URL编码解码"
   ]
  },
  {
   "cell_type": "markdown",
   "metadata": {},
   "source": [
    "### robotparser类 - 解析robots.txt\n",
    "- urllib.robotparser.RobotFileParser(url='') ：传入robots.txt的链接即可"
   ]
  },
  {
   "cell_type": "markdown",
   "metadata": {},
   "source": [
    "#### set_url - 用来设置robots.txt文件的链接"
   ]
  },
  {
   "cell_type": "markdown",
   "metadata": {},
   "source": [
    "#### read - 读取robots.txt文件并进行分析"
   ]
  },
  {
   "cell_type": "markdown",
   "metadata": {},
   "source": [
    "#### parse - 用来解析robots.txt文件某些行的内容"
   ]
  },
  {
   "cell_type": "markdown",
   "metadata": {},
   "source": [
    "#### can_fetch - 判断该搜索引擎是否可以抓取这个URL\n",
    "- 参数1：User-agent - 搜索引擎名字\n",
    "- 参数2：URL - 地址\n",
    "- 返回True或False"
   ]
  },
  {
   "cell_type": "markdown",
   "metadata": {},
   "source": [
    "#### mtime - 上次抓取和分析robots.txt的时间"
   ]
  },
  {
   "cell_type": "markdown",
   "metadata": {},
   "source": [
    "#### modified - 将当前时间设置为上次抓取和分析的时间"
   ]
  },
  {
   "cell_type": "code",
   "execution_count": null,
   "metadata": {},
   "outputs": [],
   "source": []
  }
 ],
 "metadata": {
  "kernelspec": {
   "display_name": "Python 3",
   "language": "python",
   "name": "python3"
  },
  "language_info": {
   "codemirror_mode": {
    "name": "ipython",
    "version": 3
   },
   "file_extension": ".py",
   "mimetype": "text/x-python",
   "name": "python",
   "nbconvert_exporter": "python",
   "pygments_lexer": "ipython3",
   "version": "3.7.0"
  },
  "toc": {
   "base_numbering": 1,
   "nav_menu": {},
   "number_sections": false,
   "sideBar": true,
   "skip_h1_title": false,
   "title_cell": "Table of Contents",
   "title_sidebar": "Contents",
   "toc_cell": false,
   "toc_position": {},
   "toc_section_display": true,
   "toc_window_display": true
  }
 },
 "nbformat": 4,
 "nbformat_minor": 2
}
