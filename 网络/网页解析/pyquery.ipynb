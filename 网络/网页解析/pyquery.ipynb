{
 "cells": [
  {
   "cell_type": "markdown",
   "metadata": {},
   "source": [
    "# pyquery\n",
    "- 强大的网页解析工具，提供了和jQuery类似的语法来解析HTML文档，支持CSS选择器\n",
    "- [官方文档](https://pyquery.readthedocs.io/en/latest/)"
   ]
  },
  {
   "cell_type": "markdown",
   "metadata": {},
   "source": [
    "## 安装"
   ]
  },
  {
   "cell_type": "code",
   "execution_count": null,
   "metadata": {},
   "outputs": [],
   "source": [
    "pip install pyquery"
   ]
  },
  {
   "cell_type": "markdown",
   "metadata": {},
   "source": [
    "## 初始化"
   ]
  },
  {
   "cell_type": "code",
   "execution_count": null,
   "metadata": {},
   "outputs": [],
   "source": [
    "# 1.字符串初始化\n",
    "from pyquery import PyQuery as pq\n",
    "str1 = '<div>xccasd</div>'\n",
    "doc = pd(str1) # css选择器\n",
    "print(doc('div'))\n",
    "\n",
    "# 2.URL初始化\n",
    "doc = pq(url='https://www.baidu.com')\n",
    "print(doc('title'))\n",
    "\n",
    "# 3.文件初始化\n",
    "doc = pq(filename='demo.html')\n",
    "print(doc('div'))"
   ]
  },
  {
   "cell_type": "markdown",
   "metadata": {},
   "source": [
    "## 基本css选择器"
   ]
  },
  {
   "cell_type": "code",
   "execution_count": null,
   "metadata": {},
   "outputs": [],
   "source": [
    "from pyquery import PyQuery as pq\n",
    "doc = pq(url='http://www.baidu.com')\n",
    "print(doc('#container .list li')) #所有id为container 下的class 为list下的li\n",
    "print(type(doc('#container .list li'))) # 结果为pyquery类型"
   ]
  },
  {
   "cell_type": "markdown",
   "metadata": {},
   "source": [
    "## 查找节点"
   ]
  },
  {
   "cell_type": "markdown",
   "metadata": {},
   "source": [
    "### 子节点\n",
    "- find：范围是节点的所有子孙节点\n",
    "- children：范围是节点的子节点，不包括孙子节点"
   ]
  },
  {
   "cell_type": "code",
   "execution_count": null,
   "metadata": {},
   "outputs": [],
   "source": [
    "# find\n",
    "doc = pq(html)\n",
    "items = doc('.list')\n",
    "lis = items.find('li') # 找到class为.list下的所有li节点\n",
    "\n",
    "# children\n",
    "lis = items.children() \n",
    "\n",
    "# 指定的children\n",
    "lis = items.children('.class_name') # 找到所有class的名字为class_name的子节点"
   ]
  },
  {
   "cell_type": "markdown",
   "metadata": {},
   "source": [
    "### 父节点\n",
    "- parent：某个节点的直接父节点，不查找祖先节点\n",
    "- parents：祖先节点"
   ]
  },
  {
   "cell_type": "code",
   "execution_count": null,
   "metadata": {},
   "outputs": [],
   "source": [
    "# 直接父节点\n",
    "from pyquery import PyQuery as pq\n",
    "doc = pq(html)\n",
    "items = doc('.list')\n",
    "container = items.parent()\n",
    "\n",
    "# 全部祖先节点\n",
    "container = items.parents()\n",
    "# 或指定的所有祖先节点\n",
    "container = items.parents('.container') # class name为container的祖先节点"
   ]
  },
  {
   "cell_type": "markdown",
   "metadata": {},
   "source": [
    "### 兄弟节点\n",
    "- siblings：所有兄弟节点"
   ]
  },
  {
   "cell_type": "code",
   "execution_count": null,
   "metadata": {},
   "outputs": [],
   "source": [
    "from pyquery import PyQuery as pq\n",
    "doc = pq(html)\n",
    "li = doc('.list')\n",
    "print(li.siblings()) # 所有兄弟节点\n",
    "\n",
    "print(li.siblings('.item')) # 所有classname为item的兄弟节点"
   ]
  },
  {
   "cell_type": "markdown",
   "metadata": {},
   "source": [
    "## 遍历\n",
    "- 使用上面查找节点方法，可能会获得多个节点，此时需要遍历所有节点，再做操作"
   ]
  },
  {
   "cell_type": "code",
   "execution_count": null,
   "metadata": {},
   "outputs": [],
   "source": [
    "from pyquery import PyQuery as pq\n",
    "doc = pq(html)\n",
    "lis = doc('li').items() # 会得到一个生成器\n",
    "for li in lis:\n",
    "    print(li)"
   ]
  },
  {
   "cell_type": "markdown",
   "metadata": {},
   "source": [
    "## 获取信息"
   ]
  },
  {
   "cell_type": "markdown",
   "metadata": {},
   "source": [
    "### 获取属性\n",
    "- attr('name')：获取对应属性名的属性值，如果多个元素，只会返回第一个元素的"
   ]
  },
  {
   "cell_type": "code",
   "execution_count": null,
   "metadata": {},
   "outputs": [],
   "source": [
    "from pyquery import PyQuery as pq\n",
    "doc = pq(html)\n",
    "a = doc('item')\n",
    "print(a.attr('href'))"
   ]
  },
  {
   "cell_type": "markdown",
   "metadata": {},
   "source": [
    "### 获取文本\n",
    "- text()：节点内部所有的文本信息，中间用一个空格分隔开\n",
    "- html()：HTML文本，节点内所有的html文本，只返回第一个匹配节点内部的HTML文本"
   ]
  },
  {
   "cell_type": "markdown",
   "metadata": {},
   "source": [
    "## 节点操作"
   ]
  },
  {
   "cell_type": "markdown",
   "metadata": {},
   "source": [
    "### addClass 和 removeClass\n",
    "- addClass：添加类\n",
    "- removeClass：移除类"
   ]
  },
  {
   "cell_type": "markdown",
   "metadata": {},
   "source": [
    "### attr 、text、html\n",
    "- attr：对属性进行操作\n",
    "    - 参数1：属性名，只有参数1，则获取属性值\n",
    "    - 参数2：属性值，两个参数都有，则修改属性值\n",
    "- text：改变节点内部\n",
    "    - 节点内部被text的参数值替换\n",
    "- html：改变节点内部\n",
    "    - 节点内部被html的参数值替换"
   ]
  },
  {
   "cell_type": "markdown",
   "metadata": {},
   "source": [
    "### remove\n",
    "- 移除节点"
   ]
  },
  {
   "cell_type": "markdown",
   "metadata": {},
   "source": [
    "### append"
   ]
  },
  {
   "cell_type": "markdown",
   "metadata": {},
   "source": [
    "### empty"
   ]
  },
  {
   "cell_type": "markdown",
   "metadata": {},
   "source": [
    "### prepend"
   ]
  },
  {
   "cell_type": "code",
   "execution_count": null,
   "metadata": {},
   "outputs": [],
   "source": []
  }
 ],
 "metadata": {
  "kernelspec": {
   "display_name": "Python 3",
   "language": "python",
   "name": "python3"
  },
  "language_info": {
   "codemirror_mode": {
    "name": "ipython",
    "version": 3
   },
   "file_extension": ".py",
   "mimetype": "text/x-python",
   "name": "python",
   "nbconvert_exporter": "python",
   "pygments_lexer": "ipython3",
   "version": "3.7.0"
  },
  "toc": {
   "base_numbering": 1,
   "nav_menu": {},
   "number_sections": false,
   "sideBar": true,
   "skip_h1_title": false,
   "title_cell": "Table of Contents",
   "title_sidebar": "Contents",
   "toc_cell": false,
   "toc_position": {},
   "toc_section_display": true,
   "toc_window_display": true
  }
 },
 "nbformat": 4,
 "nbformat_minor": 2
}
