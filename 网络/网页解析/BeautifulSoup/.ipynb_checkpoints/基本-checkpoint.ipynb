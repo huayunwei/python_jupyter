{
 "cells": [
  {
   "cell_type": "markdown",
   "metadata": {},
   "source": [
    "# 介绍\n",
    "- 定义：一个可以从html或xml中提取数据的python库"
   ]
  },
  {
   "cell_type": "markdown",
   "metadata": {},
   "source": [
    "# 安装和配置"
   ]
  },
  {
   "cell_type": "markdown",
   "metadata": {},
   "source": [
    "## 解析器\n",
    "- beautiful Soup在解析时实际上依赖解析器\n",
    "- python 标准库 - html.parser\n",
    "    - 优势 ： python的内置标准库，执行速度适中，文档容错能力强\n",
    "    - 劣势：python2.73及python 3.22之前的版本文档容错能力差\n",
    "- lxml HTML解析器 - lxml\n",
    "    - 优势：速度快，文档容错能力强\n",
    "    - 劣势：需要安装C语言库\n",
    "- lxml xml解析器 - xml\n",
    "    - 优势：速度快，唯一支持XML的解析器\n",
    "    - 劣势：需要安装C语言库\n",
    "- html5lib\n",
    "    - 优势：最好的容错性，以浏览器的方式解析文档，生成HTML格式文档\n",
    "    - 劣势：速度慢、不依赖外部扩展"
   ]
  },
  {
   "cell_type": "code",
   "execution_count": null,
   "metadata": {},
   "outputs": [],
   "source": [
    "# 安装\n",
    "pip install beautifulsoup4\n",
    "\n",
    "'''\n",
    "解析器：\n",
    "    如果不配置会使用python自带的内置标准库，html.parser\n",
    "    html5lib：可以解析html5的内容\n",
    "'''\n",
    "# 安装htmllib5解析器\n",
    "pip install html5lib\n",
    "\n",
    "# 使用beautifulsoup4\n",
    "from bs4 import BeautifulSoup\n",
    "soup = BeautifulSoup('html内容','html5lib')\n"
   ]
  }
 ],
 "metadata": {
  "kernelspec": {
   "display_name": "Python 3",
   "language": "python",
   "name": "python3"
  },
  "language_info": {
   "codemirror_mode": {
    "name": "ipython",
    "version": 3
   },
   "file_extension": ".py",
   "mimetype": "text/x-python",
   "name": "python",
   "nbconvert_exporter": "python",
   "pygments_lexer": "ipython3",
   "version": "3.7.0"
  },
  "toc": {
   "base_numbering": 1,
   "nav_menu": {},
   "number_sections": false,
   "sideBar": true,
   "skip_h1_title": false,
   "title_cell": "Table of Contents",
   "title_sidebar": "Contents",
   "toc_cell": false,
   "toc_position": {},
   "toc_section_display": true,
   "toc_window_display": false
  }
 },
 "nbformat": 4,
 "nbformat_minor": 2
}
