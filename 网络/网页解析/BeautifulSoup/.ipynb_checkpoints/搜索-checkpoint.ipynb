{
 "cells": [
  {
   "cell_type": "markdown",
   "metadata": {},
   "source": [
    "# 搜索文档树"
   ]
  },
  {
   "cell_type": "markdown",
   "metadata": {},
   "source": [
    "## 过滤器 -- 搜索的参数\n",
    "- 字符串：会查找和字符串完全匹配的标签\n",
    "- 正则表达式：\n",
    "    - 写法：re.compile(\"str\")\n",
    "    - 会找到所有匹配str的字符串\n",
    "- 列表：返回和列表任意一项匹配的内容\n",
    "- true：返回所有tag，不包括文本节点\n",
    "- 函数：自定义函数\n",
    "    - 函数返回true，当前元素匹配返回true，否则返回false"
   ]
  },
  {
   "cell_type": "markdown",
   "metadata": {},
   "source": [
    "## find_all函数 -- 返回列表，所有匹配的内容\n",
    "- find_all(name,attrs,recursive,text,\\*\\*kwargs)"
   ]
  },
  {
   "cell_type": "markdown",
   "metadata": {},
   "source": [
    "### 参数name\n",
    "- 返回所有标签名为name的标签，文本对象自动忽略"
   ]
  },
  {
   "cell_type": "code",
   "execution_count": null,
   "metadata": {},
   "outputs": [],
   "source": [
    "soup.find_all(\"head\")"
   ]
  },
  {
   "cell_type": "markdown",
   "metadata": {},
   "source": [
    "- 如果name参数为一个赋值表达式，则代表为标签的属性值，返回所有属性为给定值的标签 \n",
    "    - 不能查找自定义的属性值"
   ]
  },
  {
   "cell_type": "code",
   "execution_count": null,
   "metadata": {},
   "outputs": [],
   "source": [
    "# 返回所有id为123的标签\n",
    "soup.find_all(id='123')\n",
    "\n",
    "# 按照class查找，因为class在python中为保留字，所以在bs的4.1.1版本用class_作为参数来搜索\n",
    "# 一个class值：会返回所有匹配的值，模糊匹配\n",
    "# 多个class值：会匹配顺序的，顺序不一致，不会匹配\n",
    "soup.find_all(class_='value1 value2')"
   ]
  },
  {
   "cell_type": "markdown",
   "metadata": {},
   "source": [
    "### 参数attrs\n",
    "- 返回所有属性为指定值的标签\n",
    "    - 可以查找自定义属性"
   ]
  },
  {
   "cell_type": "code",
   "execution_count": null,
   "metadata": {},
   "outputs": [],
   "source": [
    "soup.find_all(attrs=[\"data-xxx\":\"value\"])\n",
    "\n",
    "# 使用class时可以直接使用\n",
    "soup.find_all(attrs=[\"class\":\"value\"])"
   ]
  },
  {
   "cell_type": "markdown",
   "metadata": {},
   "source": [
    "### 参数text\n",
    "- 返回所有匹配的字符串内容\n",
    "- 同时使用参数name和参数text会返回标签内容为text的标签"
   ]
  },
  {
   "cell_type": "code",
   "execution_count": null,
   "metadata": {},
   "outputs": [],
   "source": [
    "soup.find_all(text=\"value\")\n",
    "\n",
    "soup.find_all(text=[\"v1\",\"v2\"])\n",
    "\n",
    "# 返回所有a标签的文本为链接的标签\n",
    "soup.find_all(\"a\",text=\"链接\")"
   ]
  },
  {
   "cell_type": "markdown",
   "metadata": {},
   "source": [
    "### 参数limit\n",
    "- 限制返回数量"
   ]
  },
  {
   "cell_type": "code",
   "execution_count": null,
   "metadata": {},
   "outputs": [],
   "source": [
    "soup.find_all(\"tagName\",limit=num)"
   ]
  },
  {
   "cell_type": "markdown",
   "metadata": {},
   "source": [
    "### 参数recursive\n",
    "- 默认find_all会检索所有的子孙节点\n",
    "- 设置recursive=false，只检索子节点"
   ]
  },
  {
   "cell_type": "code",
   "execution_count": null,
   "metadata": {},
   "outputs": [],
   "source": [
    "soup.find_all(\"tagName\",recursive=False)"
   ]
  },
  {
   "cell_type": "markdown",
   "metadata": {},
   "source": [
    "## find -- 用法同find_all，直接返回结果\n",
    "- find(name,attrs,recursive,text,\\*\\*kwargs)\n",
    "- soup.find(\"tagName\")"
   ]
  },
  {
   "cell_type": "markdown",
   "metadata": {},
   "source": [
    "## find_parents 和 find_parent\n",
    "- 作用：找父元素\n",
    "- find_parent(name,attrs,recursive,text,\\*\\*kwargs)"
   ]
  },
  {
   "cell_type": "markdown",
   "metadata": {},
   "source": [
    "## find_next_siblings 和 find_next_sibling\n",
    "- 作用：找下一个兄弟元素\n",
    "- find_next_sibling(name,attrs,recursive,text,\\*\\*kwargs)"
   ]
  },
  {
   "cell_type": "markdown",
   "metadata": {},
   "source": [
    "## find_previous_siblings 和 find_previous_sibling\n",
    "- 作用：找上一个兄弟元素\n",
    "- find_previous_sibling(name,attrs,recursive,text,\\*\\*kwargs)"
   ]
  },
  {
   "cell_type": "markdown",
   "metadata": {},
   "source": [
    "## find_all_next 和 find_next\n",
    "- 作用：找当前元素的下面的元素\n",
    "- find_next(name,attrs,recursive,text,\\*\\*kwargs)"
   ]
  },
  {
   "cell_type": "markdown",
   "metadata": {},
   "source": [
    "## find_all_previous 和 find_previous\n",
    "- 作用：找当前元素上面的元素\n",
    "- find_previous(name,attrs,recursive,text,\\*\\*kwargs)"
   ]
  },
  {
   "cell_type": "markdown",
   "metadata": {},
   "source": [
    "## select -- css选择器搜索\n",
    "- 作用：根据css选择器，获取元素\n",
    "- soup.select(\"css selector\")"
   ]
  },
  {
   "cell_type": "code",
   "execution_count": null,
   "metadata": {},
   "outputs": [],
   "source": []
  }
 ],
 "metadata": {
  "kernelspec": {
   "display_name": "Python 3",
   "language": "python",
   "name": "python3"
  },
  "language_info": {
   "codemirror_mode": {
    "name": "ipython",
    "version": 3
   },
   "file_extension": ".py",
   "mimetype": "text/x-python",
   "name": "python",
   "nbconvert_exporter": "python",
   "pygments_lexer": "ipython3",
   "version": "3.7.0"
  },
  "toc": {
   "base_numbering": 1,
   "nav_menu": {},
   "number_sections": false,
   "sideBar": true,
   "skip_h1_title": false,
   "title_cell": "Table of Contents",
   "title_sidebar": "Contents",
   "toc_cell": false,
   "toc_position": {},
   "toc_section_display": true,
   "toc_window_display": false
  }
 },
 "nbformat": 4,
 "nbformat_minor": 2
}
