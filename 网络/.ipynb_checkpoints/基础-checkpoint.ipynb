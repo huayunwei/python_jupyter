{
 "cells": [
  {
   "cell_type": "markdown",
   "metadata": {},
   "source": [
    "# 爬虫\n",
    "- 定义：网络爬虫，又称网页蜘蛛，网络机器人，是一种按照一定的规则，自动地抓取万维网信息的程序或脚本\n",
    "- 特征\n",
    "    - 能按作者要求下载数据或内容\n",
    "    - 能自动在网络上流窜\n",
    "- 三大步骤\n",
    "    - 下载网页\n",
    "    - 提取正确的信息\n",
    "    - 根据一定规则自动跳到另外的网页上执行上面两步\n",
    "- 爬虫分类\n",
    "    - 通用爬虫\n",
    "    - 专用爬虫"
   ]
  },
  {
   "cell_type": "markdown",
   "metadata": {},
   "source": [
    "# 网页字符编码方式\n",
    "- ASCII码：能表示128个字符，包括英文，数字，西文字符以及32个控制字符，7位表示字符，第一个为为0\n",
    "- 扩展的ASCII码：增加欧洲国家的一些拼音，最多可以表示256个字符，但是不同的地区显示的拼音不一致\n",
    "- Unicode符号集：包含世界上所有的符号，并且每一个符号都是独一无二的，是一个符号集\n",
    "- UTF-8：是一种可变长的编码方式，是Unicode的实现方式之一，最流行\n",
    "    - 对单字节的符号，字节第一位设为0，后面7位为这个符号的unicode码，UTF-8编码和ASCII码是相同的\n",
    "    - 对于n字节的符号（n>1），第一个字节的前n位都设为1，第n+1位设为0，后面字节的钱两位一律设为10，剩下的为这个符号的unicode码\n",
    "- GBK/GB2312/GB18030：\n",
    "    - GBK和GB2312都是针对简体字的编码\n",
    "        - GBK支持1万多汉字编码\n",
    "        - GBK2312只支持六千多个汉字的编码\n",
    "    - GB18030是针对繁体字的编码"
   ]
  },
  {
   "cell_type": "markdown",
   "metadata": {},
   "source": [
    "# URL\n",
    "- 统一资源定位符\n",
    "- 格式\n",
    "    - protocol：协议，http和https\n",
    "    - hostname:port：主机名和端口号\n",
    "        - 端口号：http：80，https：443\n",
    "        - 如果链接服务器需要用户和密码：username:password@hostname\n",
    "    - path：资源在主机上的具体位置\n",
    "    - paramenter：参数\n",
    "    - query：查询\n",
    "        - 用于给动态网页传递参数，用&隔开，每个参数由参数名和值组成，之间用=链接\n",
    "    - frament：信息片段，定位页面中的某一位置\n",
    "        protocol://hostname[:port]/path/[;paramenters][?query][#fragment]"
   ]
  }
 ],
 "metadata": {
  "kernelspec": {
   "display_name": "Python 3",
   "language": "python",
   "name": "python3"
  },
  "language_info": {
   "codemirror_mode": {
    "name": "ipython",
    "version": 3
   },
   "file_extension": ".py",
   "mimetype": "text/x-python",
   "name": "python",
   "nbconvert_exporter": "python",
   "pygments_lexer": "ipython3",
   "version": "3.7.0"
  }
 },
 "nbformat": 4,
 "nbformat_minor": 2
}
