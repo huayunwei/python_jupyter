{
 "cells": [
  {
   "cell_type": "markdown",
   "metadata": {},
   "source": [
    "# Requests"
   ]
  },
  {
   "cell_type": "markdown",
   "metadata": {},
   "source": [
    "- get请求\n",
    "    - requests.get(url)\n",
    "    - requests.request(\"get\",url)\n",
    "    - 可以有headers和parmas参数"
   ]
  },
  {
   "cell_type": "code",
   "execution_count": null,
   "metadata": {},
   "outputs": [],
   "source": [
    "import requests\n",
    "\n",
    "\n",
    "url = \"http://www.baidu.com\"\n",
    "# 两种请求方式\n",
    "# 使用get请求\n",
    "rsp = requests.get(url)\n",
    "print(rsp.text)\n",
    "\n",
    "# 使用request请求\n",
    "rsp = requests.request(\"get\", url)\n",
    "print(rsp.text)"
   ]
  },
  {
   "cell_type": "code",
   "execution_count": null,
   "metadata": {},
   "outputs": [],
   "source": [
    "import requests\n",
    "\n",
    "# 完整访问url是下面url加上参数构成\n",
    "url = \"http://www.baidu.com/s?\"\n",
    "\n",
    "kw = {\n",
    "    \"wd\": \"xxx\"\n",
    "}\n",
    "\n",
    "\n",
    "headers = {\n",
    "    \"User-Agent\":\"Mozilla/5.0 (X11; Linux x86_64) AppleWebKit/537.36 (KHTML, like Gecko) Chrome/64.0.3282.119 Safari/537.36\"\n",
    "}\n",
    "rsp = requests.get(url, params=kw, headers=headers )\n",
    "\n",
    "print(rsp.text)\n",
    "print(rsp.content)\n",
    "print(rsp.url)\n",
    "print(rsp.encoding)\n",
    "print(rsp.status_code) # 请求返回码"
   ]
  },
  {
   "cell_type": "markdown",
   "metadata": {},
   "source": [
    "- post\n",
    "    - rsp = requests.post(url,data=data)"
   ]
  }
 ],
 "metadata": {
  "kernelspec": {
   "display_name": "Python 3",
   "language": "python",
   "name": "python3"
  },
  "language_info": {
   "codemirror_mode": {
    "name": "ipython",
    "version": 3
   },
   "file_extension": ".py",
   "mimetype": "text/x-python",
   "name": "python",
   "nbconvert_exporter": "python",
   "pygments_lexer": "ipython3",
   "version": "3.7.0"
  }
 },
 "nbformat": 4,
 "nbformat_minor": 2
}
