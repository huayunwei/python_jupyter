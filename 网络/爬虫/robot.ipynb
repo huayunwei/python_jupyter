{
 "cells": [
  {
   "cell_type": "markdown",
   "metadata": {},
   "source": [
    "# Robots 协议"
   ]
  },
  {
   "cell_type": "markdown",
   "metadata": {},
   "source": [
    "- 称为爬虫协议，机器人协议，全名为网络爬虫排除标准，从来告诉爬虫和搜索引擎哪些页面可以抓取，哪些不可以抓取\n",
    "- 通常是一个叫robots.txt的文本文件，一般放在网站的根目录下\n",
    "- 爬虫访问一个站点时，首先会检查一个网站目录下是否存在robots.txt文件，如果存在，搜索爬虫会根据其中定义的爬取范围来爬取，没有找到，会访问所有可直接访问的页面"
   ]
  },
  {
   "cell_type": "code",
   "execution_count": null,
   "metadata": {},
   "outputs": [],
   "source": [
    "## robots.txt文件\n",
    "'''\n",
    "User-agent：描述搜索爬虫的名称\n",
    "Disallow：指定了不允许抓取的目录\n",
    "Allow：一般和Disallow一起使用，一般不会单独使用，用来排除某些限制\n",
    "'''\n",
    "User-agent: *\n",
    "Disabllow: /\n",
    "Allow: /public/"
   ]
  },
  {
   "cell_type": "markdown",
   "metadata": {},
   "source": [
    "## 常见爬虫名字\n",
    "- BaiduSpider：百度\n",
    "- Googlebot：谷歌\n",
    "- 360Spider：360搜索\n",
    "- YodaoBot：有道\n",
    "- ia_archiver：Alexa\n",
    "- Scooter：altavista"
   ]
  },
  {
   "cell_type": "code",
   "execution_count": null,
   "metadata": {},
   "outputs": [],
   "source": []
  }
 ],
 "metadata": {
  "kernelspec": {
   "display_name": "Python 3",
   "language": "python",
   "name": "python3"
  },
  "language_info": {
   "codemirror_mode": {
    "name": "ipython",
    "version": 3
   },
   "file_extension": ".py",
   "mimetype": "text/x-python",
   "name": "python",
   "nbconvert_exporter": "python",
   "pygments_lexer": "ipython3",
   "version": "3.7.0"
  },
  "toc": {
   "base_numbering": 1,
   "nav_menu": {},
   "number_sections": false,
   "sideBar": true,
   "skip_h1_title": false,
   "title_cell": "Table of Contents",
   "title_sidebar": "Contents",
   "toc_cell": false,
   "toc_position": {},
   "toc_section_display": true,
   "toc_window_display": false
  }
 },
 "nbformat": 4,
 "nbformat_minor": 2
}
