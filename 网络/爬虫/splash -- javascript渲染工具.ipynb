{
 "cells": [
  {
   "cell_type": "markdown",
   "metadata": {},
   "source": [
    "# splash\n",
    "- javascrip渲染服务，一个带有HTTP API的轻量级浏览器，可以实现动态渲染页面的抓取\n",
    "- 功能：\n",
    "    - 异步方式处理多个网页渲染过程\n",
    "    - 获取渲染后的页面的源代码或截图\n",
    "    - 通过关闭图片渲染或使用Adblock规则来加快页面渲染速度\n",
    "    - 可执行特定的Javascript脚本\n",
    "    - 可通过Lua脚本来控制页面渲染过程\n",
    "    - 获取渲染的详细过程并通过HAR格式呈现"
   ]
  },
  {
   "cell_type": "markdown",
   "metadata": {},
   "source": [
    "## 运行"
   ]
  },
  {
   "cell_type": "code",
   "execution_count": null,
   "metadata": {},
   "outputs": [],
   "source": [
    "# 守护形态，关闭docker，仍然会运行\n",
    "docker run -d -p 8050:8050 -p 5023:5023 scrapinghub/splash\n",
    "        \n",
    "docker run -p 8050:8050 -p 5023:5023 scrapinghub/splash"
   ]
  },
  {
   "cell_type": "markdown",
   "metadata": {},
   "source": [
    "## splash的脚本"
   ]
  },
  {
   "cell_type": "markdown",
   "metadata": {},
   "source": [
    "### 对象属性"
   ]
  },
  {
   "cell_type": "markdown",
   "metadata": {},
   "source": [
    "#### args\n",
    "- 获取加载时配置的参数，比如URL"
   ]
  },
  {
   "cell_type": "code",
   "execution_count": null,
   "metadata": {},
   "outputs": [],
   "source": [
    "function main(splash,args)\n",
    "    local url = args.url\n",
    "end\n",
    "\n",
    "function main(splash)\n",
    "    local url = splash.args.url\n",
    "end"
   ]
  },
  {
   "cell_type": "markdown",
   "metadata": {},
   "source": [
    "#### js_enabled\n",
    "- javaScript执行开关，可以将其配置为true或false来控制是否执行Javascript代码，默认为true"
   ]
  },
  {
   "cell_type": "code",
   "execution_count": null,
   "metadata": {},
   "outputs": [],
   "source": [
    "function main(splash,args)\n",
    "    splash:go(\"http://www.baidu.com\")\n",
    "    splash.js_enabled = false # 禁止javascript执行\n",
    "    local title = splash:evaljs(\"document.title\") # 执行js语句\n",
    "    return {title=title}\n",
    "end"
   ]
  },
  {
   "cell_type": "markdown",
   "metadata": {},
   "source": [
    "#### resource_timeout\n",
    "- 此属性可以设置加载的超时时间，单位是秒，如果设置为0或nil（类似PYTHON中的NONE），代表不检测超时"
   ]
  },
  {
   "cell_type": "code",
   "execution_count": null,
   "metadata": {},
   "outputs": [],
   "source": [
    "function main(splash)\n",
    "    splash.resource_time = 0.1 # 超过这个时间就会报错\n",
    "    assert(splash:go('https://www.taobao.com'))\n",
    "    return splash:png()\n",
    "end"
   ]
  },
  {
   "cell_type": "markdown",
   "metadata": {},
   "source": [
    "#### images_enabled\n",
    "- 设置图片是否加载，默认情况加载，禁用该属性后，可节省网络流量并提高网页加载速度"
   ]
  },
  {
   "cell_type": "code",
   "execution_count": null,
   "metadata": {},
   "outputs": [],
   "source": [
    "function main(splash,args)\n",
    "    splash.images_enabled = false\n",
    "    assert(splash:go('http://www.jd.com'))\n",
    "    return {png=splash:png()}\n",
    "end"
   ]
  },
  {
   "cell_type": "markdown",
   "metadata": {},
   "source": [
    "#### plugins_enabled\n",
    "- 属性可以控制浏览器插件是否开启"
   ]
  },
  {
   "cell_type": "code",
   "execution_count": null,
   "metadata": {},
   "outputs": [],
   "source": [
    "function main(splash)\n",
    "    splash.plugins_enabled = true/false"
   ]
  },
  {
   "cell_type": "markdown",
   "metadata": {},
   "source": [
    "#### scroll_positon\n",
    "- 控制页面上下或左右滚动"
   ]
  },
  {
   "cell_type": "code",
   "execution_count": null,
   "metadata": {},
   "outputs": [],
   "source": [
    "function main(splash,args)\n",
    "    assert(splash:go('https://www.taobao.com'))\n",
    "    splash.scroll_position = {y=400} #向下滚动400\n",
    "    return {png=splash:png()}\n",
    "end\n",
    "\n",
    "function main(splash,args)\n",
    "    splash.scroll_position = {x=100,y=200}"
   ]
  },
  {
   "cell_type": "markdown",
   "metadata": {},
   "source": [
    "### 对象的方法"
   ]
  },
  {
   "cell_type": "markdown",
   "metadata": {},
   "source": [
    "#### go()\n",
    "- 请求某个链接，而且它可以模拟GET和POST请求，同事支持传入请求头、表单等数据\n",
    "- 参数：\n",
    "    - url：请求的URL\n",
    "    - baseurl：可选参数，默认为空，表示资源加载相对路径\n",
    "    - headers：可选参数，默认为空，表示请求头\n",
    "    - http_method：可选参数，默认为GET，同时支持POST\n",
    "    - body：可选参数，默认为空，发POST请求时的表单数据，使用的Content-type为application/json\n",
    "    - formdata：可选参数，默认为空，POST的时候的表单数据，使用的Content-type为application/x-www-form-urlencoded\n",
    "- 返回值：\n",
    "    - ok：如果ok为空，代表网页加载出现了错误\n",
    "    - reason：如果ok为空时，包含了错误的原因"
   ]
  },
  {
   "cell_type": "code",
   "execution_count": null,
   "metadata": {},
   "outputs": [],
   "source": [
    "function main(splash,args)\n",
    "    local ok,reason = splash:go{\"http:httpbin.org/post\",http_method=\"POST\",body=\"name=Germey\"}\n",
    "    if ok then\n",
    "        return splash:html()\n",
    "    end\n",
    "end"
   ]
  },
  {
   "cell_type": "markdown",
   "metadata": {},
   "source": [
    "#### wait()\n",
    "- 控制页面的等待时间\n",
    "- 参数\n",
    "    - time：等待的秒数\n",
    "    - cancel_on_redirect：可选参数，默认为false，表示如果发生了重定向就停止等待，并返回重定向结果\n",
    "    - cancel_on_error：可选参数，默认为false,表示如果发生了加载错误，就停止等待"
   ]
  },
  {
   "cell_type": "code",
   "execution_count": null,
   "metadata": {},
   "outputs": [],
   "source": [
    "function main(splash)\n",
    "    splash:go(\"http://www.taobao.com\")\n",
    "    splash:wait(2)\n",
    "    return {html=splash:html()}\n",
    "end"
   ]
  },
  {
   "cell_type": "markdown",
   "metadata": {},
   "source": [
    "#### jsfunc()\n",
    "- 可以直接调用Javascript定义的方法，但是所调用的方法需要用双中括号包围"
   ]
  },
  {
   "cell_type": "code",
   "execution_count": null,
   "metadata": {},
   "outputs": [],
   "source": [
    "function main(splash,args)\n",
    "    local get_div_count = splash:jsfunc({\n",
    "        function(){\n",
    "            var body = document.body;\n",
    "            var divs = body.getElementsByTagName('div');\n",
    "            return divs.length;\n",
    "        }\n",
    "    })\n",
    "    \n",
    "    splash:go(\"http://www.baidu.com\")\n",
    "    return (\"There are %s DIVs\"):format(get_div_count())\n",
    "end"
   ]
  },
  {
   "cell_type": "markdown",
   "metadata": {},
   "source": [
    "#### evaljs()\n",
    "- 执行javascript代码并返回最后一条JavaScript语句的返回结果"
   ]
  },
  {
   "cell_type": "code",
   "execution_count": null,
   "metadata": {},
   "outputs": [],
   "source": [
    "local title = splash:evaljs(\"document.title\")"
   ]
  },
  {
   "cell_type": "markdown",
   "metadata": {},
   "source": [
    "#### runjs\n",
    "- 执行js代码，与evaljs功能类似，偏向于执行某些动作或声明某些方法"
   ]
  },
  {
   "cell_type": "code",
   "execution_count": null,
   "metadata": {},
   "outputs": [],
   "source": [
    "function main(splash,args)\n",
    "    splash:go(\"http://www.baidu.com\")\n",
    "    splash:runjs(\"foo=function(){return 'bar'}\")\n",
    "    local result = splash:evaljs(\"foo()\")\n",
    "    return result\n",
    "end"
   ]
  },
  {
   "cell_type": "markdown",
   "metadata": {},
   "source": [
    "#### autoload()\n",
    "- 可以设置每个页面访问时自动加载的对象，只负责加载js代码或库，不执行任何操作，如果要执行操作，可以调用evaljs()\n",
    "- 参数\n",
    "    - source_or_url：js代码或者js库链接\n",
    "    - source：js代码\n",
    "    - url：js库链接"
   ]
  },
  {
   "cell_type": "code",
   "execution_count": null,
   "metadata": {},
   "outputs": [],
   "source": [
    "function main(splash,args)\n",
    "    splash:autoload([[\n",
    "        function get_document_title(){\n",
    "            return document.title\n",
    "        }\n",
    "    ]])\n",
    "    splash:go(\"https://www.baidu.com\")\n",
    "    return splash:evaljs(\"get_document_title()\")\n",
    "end"
   ]
  },
  {
   "cell_type": "markdown",
   "metadata": {},
   "source": [
    "#### call_later()\n",
    "- 可以通过设置定时任务和延迟时间来实现任务延时执行，并且可以在执行前通过cancel()方法重新执行定时任务"
   ]
  },
  {
   "cell_type": "code",
   "execution_count": null,
   "metadata": {},
   "outputs": [],
   "source": [
    "function main(splash,args)\n",
    "    local snapshots = {}\n",
    "    local timer = splash:call_later(function()\n",
    "       snapshots[\"a\"] = splash:png() # 在0.2秒的时候，截图\n",
    "       splash:wait(1.0)  # 等待1秒\n",
    "       snapshots[\"b\"] = splash:png() # 在1.2秒时，截图\n",
    "    end,0.2)\n",
    "    splash:go(\"https://www.taobao.com\")\n",
    "    splash:wait(3.0)\n",
    "    return snapshots\n",
    "end"
   ]
  },
  {
   "cell_type": "markdown",
   "metadata": {},
   "source": [
    "#### http_get()\n",
    "- 模拟发送HTTP的GET请求\n",
    "- 参数\n",
    "    - url：请求URL\n",
    "    - headers：可选参数，默认为空，请求头\n",
    "    - follow_redirects：可选参数，表示是否启动自动重定向，默认为true"
   ]
  },
  {
   "cell_type": "code",
   "execution_count": null,
   "metadata": {},
   "outputs": [],
   "source": [
    "function main(splash,args)\n",
    "    local treat = require(\"treat\")\n",
    "    local response = splash:http_get(\"http://httpbin.org/get\")\n",
    "        return {\n",
    "            html = treat.as_string(response.body),\n",
    "            url = response.url,\n",
    "            status = response.status\n",
    "        }\n",
    "end"
   ]
  },
  {
   "cell_type": "markdown",
   "metadata": {},
   "source": [
    "#### http_post()\n",
    "- 用来模拟发送POST请求，不过多了一个参数body\n",
    "- 参数\n",
    "    - url：请求url\n",
    "    - headers：可选参数，默认为空，请求头\n",
    "    - follow_redirects：可选参数，表示是否启动自动重定向，默认为true\n",
    "    - body：可选参数，即表单数据，默认为空"
   ]
  },
  {
   "cell_type": "code",
   "execution_count": null,
   "metadata": {},
   "outputs": [],
   "source": [
    "function main(splash,args)\n",
    "    local treat = require(\"treat\")\n",
    "    local json = require(\"json\")\n",
    "    local response = splash:http_post{\n",
    "    \t\t\"http://httpbin.org/post\",\n",
    "        body = json.encode({name=\"Germey\"}),\n",
    "        headers = {[\"content-type\"]=\"application/json\"}\n",
    "  \t}\n",
    "    return {\n",
    "        html = treat.as_string(response.body),\n",
    "        url = response.url,\n",
    "        status = response.status\n",
    "    }\n",
    "end"
   ]
  },
  {
   "cell_type": "markdown",
   "metadata": {},
   "source": [
    "#### set_content()\n",
    "- 设置页面的内容"
   ]
  },
  {
   "cell_type": "code",
   "execution_count": null,
   "metadata": {},
   "outputs": [],
   "source": [
    "function main(splash)\n",
    "    assert(splash:set_content(\"<html><body>1</body></html>\"))\n",
    "    return splash:png()\n",
    "end"
   ]
  },
  {
   "cell_type": "markdown",
   "metadata": {},
   "source": [
    "#### html\n",
    "- 获取网页的源代码"
   ]
  },
  {
   "cell_type": "code",
   "execution_count": null,
   "metadata": {},
   "outputs": [],
   "source": [
    "function main(splash,args)\n",
    "    splash:go(\"http://httpbin.org/get\")\n",
    "    return splash:html()\n",
    "end"
   ]
  },
  {
   "cell_type": "markdown",
   "metadata": {},
   "source": [
    "#### png\n",
    "- 获取png格式的网页截图"
   ]
  },
  {
   "cell_type": "code",
   "execution_count": null,
   "metadata": {},
   "outputs": [],
   "source": [
    "function main(splash,args)\n",
    "    splash:go(\"http:///www.taobao.com\")\n",
    "    return splash:png() # 必须作为返回值，否则无法展示\n",
    "end"
   ]
  },
  {
   "cell_type": "markdown",
   "metadata": {},
   "source": [
    "#### jpeg()\n",
    "- 获取jpeg格式的网页截图"
   ]
  },
  {
   "cell_type": "code",
   "execution_count": null,
   "metadata": {},
   "outputs": [],
   "source": [
    "function main(splash,args)\n",
    "    splash:go(\"http:///www.taobao.com\")\n",
    "    splash:wait(10)\n",
    "  \treturn {\n",
    "    \tjpeg1=splash:jpeg(),\n",
    "    \tpng=splash:png()\n",
    "  }\n",
    "end"
   ]
  },
  {
   "cell_type": "markdown",
   "metadata": {},
   "source": [
    "#### har\n",
    "- 获取页面加载过程描述"
   ]
  },
  {
   "cell_type": "code",
   "execution_count": null,
   "metadata": {},
   "outputs": [],
   "source": [
    "function main(splash,args)\n",
    "    splash:go(\"http://www.baidu.com\")\n",
    "    return splash:har()\n",
    "end"
   ]
  },
  {
   "cell_type": "markdown",
   "metadata": {},
   "source": [
    "#### url\n",
    "- 获取当前正在访问的url"
   ]
  },
  {
   "cell_type": "code",
   "execution_count": null,
   "metadata": {},
   "outputs": [],
   "source": [
    "function main(splash,args)\n",
    "    splash:go(\"https://www.baidu.com\")\n",
    "    return splash:url()\n",
    "end"
   ]
  },
  {
   "cell_type": "markdown",
   "metadata": {},
   "source": [
    "#### get_cookies()\n",
    "- 获取当前页面的cookies"
   ]
  },
  {
   "cell_type": "code",
   "execution_count": null,
   "metadata": {},
   "outputs": [],
   "source": [
    "function main(splash,args)\n",
    "    splash:go(\"https://www.baidu.com\")\n",
    "    return splash:get_cookies()\n",
    "end"
   ]
  },
  {
   "cell_type": "markdown",
   "metadata": {},
   "source": [
    "#### add_cookie()\n",
    "- 为当前页面添加cookie"
   ]
  },
  {
   "cell_type": "code",
   "execution_count": null,
   "metadata": {},
   "outputs": [],
   "source": [
    "function main(splash)\n",
    "    splash:add_cookie{\"sessionid\",\"123\",\"/\",domain=\"http://example.com\"}\n",
    "    splash:go(\"http://example.com/\")\n",
    "    return splash:html()\n",
    "end"
   ]
  },
  {
   "cell_type": "markdown",
   "metadata": {},
   "source": [
    "#### clear_cookies()\n",
    "- 清除所有的cookies"
   ]
  },
  {
   "cell_type": "code",
   "execution_count": null,
   "metadata": {},
   "outputs": [],
   "source": [
    "function main(splash)\n",
    "    splash:go(\"https://www.baidu.com/\")\n",
    "    splash:clear_cookies()\n",
    "    return splash:get_cookies()\n",
    "end"
   ]
  },
  {
   "cell_type": "markdown",
   "metadata": {},
   "source": [
    "#### get_viewpor_size()\n",
    "- 可以获取当前浏览器页面的大小，即宽高"
   ]
  },
  {
   "cell_type": "code",
   "execution_count": null,
   "metadata": {},
   "outputs": [],
   "source": [
    "function main(splash)\n",
    "    splash:go(\"https://www.baidu.com/\")\n",
    "    return splash:get_viewport_size()\n",
    "end"
   ]
  },
  {
   "cell_type": "markdown",
   "metadata": {},
   "source": [
    "#### set_viewport_size()\n",
    "- 设置当前浏览器页面的大小，即宽高"
   ]
  },
  {
   "cell_type": "code",
   "execution_count": null,
   "metadata": {},
   "outputs": [],
   "source": [
    "function main(splash)\n",
    "    splash:set_viewport_size(400,700)\n",
    "    assert(splash:go(\"https://cuiqingcai.com\"))\n",
    "    return splash:png()\n",
    "end"
   ]
  },
  {
   "cell_type": "markdown",
   "metadata": {},
   "source": [
    "#### set_viewport_full\n",
    "- 设置浏览器全屏显示"
   ]
  },
  {
   "cell_type": "code",
   "execution_count": null,
   "metadata": {},
   "outputs": [],
   "source": [
    "function main(splash)\n",
    "    splash:set_viewport_full()\n",
    "    assert(splash:go(\"http://cuiqingcai.com\"))\n",
    "    return splash:png()\n",
    "end"
   ]
  },
  {
   "cell_type": "markdown",
   "metadata": {},
   "source": [
    "#### set_user_agent()\n",
    "- 设置浏览器的User-Agent"
   ]
  },
  {
   "cell_type": "code",
   "execution_count": null,
   "metadata": {},
   "outputs": [],
   "source": [
    "function main(splash)\n",
    "    splash:set_user_agent('Splash')\n",
    "    splash:go(\"http://httpbin.org/get\")\n",
    "    return splash:html()\n",
    "end"
   ]
  },
  {
   "cell_type": "markdown",
   "metadata": {},
   "source": [
    "#### set_custom_headers()\n",
    "- 设置请求头"
   ]
  },
  {
   "cell_type": "code",
   "execution_count": null,
   "metadata": {},
   "outputs": [],
   "source": [
    "function main(splash)\n",
    "    splash:set_custom_headers({\n",
    "        [\"User-Agent\"] = \"Splash\",\n",
    "        [\"Site\"] = \"Splash\",\n",
    "    })\n",
    "    splash:go(\"http://httpbin.org/get\")\n",
    "    return splash:html()\n",
    "end"
   ]
  },
  {
   "cell_type": "markdown",
   "metadata": {},
   "source": [
    "#### select()\n",
    "- 选中符合条件的第一个节点，如果有多个节点符合条件，则只会返回一个，其参数为css选择器"
   ]
  },
  {
   "cell_type": "code",
   "execution_count": null,
   "metadata": {},
   "outputs": [],
   "source": [
    "function main(splash)\n",
    "    splash:go(\"https://www.baidu.com/\")\n",
    "    input = splash:select(\"#kw\")\n",
    "    input:send_text('Splash')\n",
    "    splash:wait(3)\n",
    "    return splash:png()\n",
    "end"
   ]
  },
  {
   "cell_type": "markdown",
   "metadata": {},
   "source": [
    "#### select_all()\n",
    "- 选中所有符合条件的节点，参数为css选择器"
   ]
  },
  {
   "cell_type": "code",
   "execution_count": null,
   "metadata": {},
   "outputs": [],
   "source": [
    "function main(splash)\n",
    "    local treat = require('treat')\n",
    "    assert(splash:go(\"http://quotes.toscrape.com/\"))\n",
    "    local texts = splash:select_all('.quote .text')\n",
    "    local results = {}\n",
    "    for index,text in ipairs(texts) do\n",
    "        results[index] = text.node.innerHTML\n",
    "    end\n",
    "    return treat.as_array(results)\n",
    "end"
   ]
  },
  {
   "cell_type": "markdown",
   "metadata": {},
   "source": [
    "#### mouse_click()\n",
    "- 模拟用户点击操作，传入的参数为坐标值x和y"
   ]
  },
  {
   "cell_type": "code",
   "execution_count": null,
   "metadata": {},
   "outputs": [],
   "source": [
    "function main(splash)\n",
    "    splash:go(\"http://www.baidu.com\")\n",
    "    input = splash:select(\"#kw\")\n",
    "    input:send_text('Splash')\n",
    "    submit = splash:select('#su')\n",
    "    submit:mouse_click()\n",
    "    splash:wait(3)\n",
    "    return splash:png()\n",
    "end"
   ]
  },
  {
   "cell_type": "markdown",
   "metadata": {},
   "source": [
    "## splash API"
   ]
  },
  {
   "cell_type": "markdown",
   "metadata": {},
   "source": [
    "#### render.html\n",
    "- javascript渲染的页面的html代码"
   ]
  },
  {
   "cell_type": "code",
   "execution_count": null,
   "metadata": {},
   "outputs": [],
   "source": [
    "import requests\n",
    "url = 'http://localhost:8050/render.html?url=https://www.baidu.com'\n",
    "# 增加等待时间\n",
    "url = 'http://localhost:8050/render.html?url=https://www.baidu.com&wait=5'\n",
    "response = requests.get(url)\n",
    "print(response.text)"
   ]
  },
  {
   "cell_type": "markdown",
   "metadata": {},
   "source": [
    "#### render.png\n",
    "- 获取网页截图，返回PNG格式的图片二进制数据"
   ]
  },
  {
   "cell_type": "code",
   "execution_count": null,
   "metadata": {},
   "outputs": [],
   "source": [
    "import requests\n",
    "url = 'http://localhost:8050/render.png?url=https://www.jd.com&wait=5&width=1000&height=700'\n",
    "response = requests.get(url)\n",
    "with open('taobao.png','wb') as f:\n",
    "    f.write(response.content)"
   ]
  },
  {
   "cell_type": "markdown",
   "metadata": {},
   "source": [
    "#### render.jpeg"
   ]
  },
  {
   "cell_type": "markdown",
   "metadata": {},
   "source": [
    "#### render.har\n",
    "- 用于获取页面加载的HAR数据，一个json格式的数据"
   ]
  },
  {
   "cell_type": "markdown",
   "metadata": {},
   "source": [
    "#### render.json\n",
    "- 包含了前面接口的所有功能，返回结果是JSON格式"
   ]
  },
  {
   "cell_type": "markdown",
   "metadata": {},
   "source": [
    "#### execute\n",
    "- 可以执行Lua脚本"
   ]
  },
  {
   "cell_type": "code",
   "execution_count": null,
   "metadata": {},
   "outputs": [],
   "source": [
    "import requests\n",
    "from urllib.parse import quote\n",
    "lua = '''\n",
    "function main(splash,args)\n",
    "    local treat = require(\"treat\")\n",
    "    local response = splash:http_get(\"http://httpbin.org/get\")\n",
    "    return {\n",
    "        html = treat.as_string(response.body),\n",
    "        url = response.url,\n",
    "        status = response.status\n",
    "    }\n",
    "end\n",
    "'''\n",
    "url = 'http://localhost:8050/execute?lua_source='+quote(lua)\n",
    "response = requests.get(url)\n",
    "print(response.text)"
   ]
  },
  {
   "cell_type": "markdown",
   "metadata": {},
   "source": [
    "## splash负载均衡\n",
    "- 配置Splash服务\n",
    "- 配置负载均衡"
   ]
  },
  {
   "cell_type": "code",
   "execution_count": null,
   "metadata": {},
   "outputs": [],
   "source": [
    "# Nginx的配置文件nginx.conf\n",
    "http{\n",
    "    upstream splash{\n",
    "        least_conn; # 最小链接负载均衡\n",
    "        server 41.159.27.233:8050 weight=4; # weight配置权重，权重越高，分配到处理的请求越多\n",
    "        server 41.159.27.221:8050 weight=2;\n",
    "    }\n",
    "    server{\n",
    "        listen 8050;\n",
    "        location / {\n",
    "            proxy_pass http://splash;\n",
    "            auth_basic \"Restricted\";\n",
    "            auth_basic_user_file /etc/nginx/conf.d/.htpasswd\n",
    "        }\n",
    "    }\n",
    "}"
   ]
  }
 ],
 "metadata": {
  "kernelspec": {
   "display_name": "Python 3",
   "language": "python",
   "name": "python3"
  },
  "language_info": {
   "codemirror_mode": {
    "name": "ipython",
    "version": 3
   },
   "file_extension": ".py",
   "mimetype": "text/x-python",
   "name": "python",
   "nbconvert_exporter": "python",
   "pygments_lexer": "ipython3",
   "version": "3.7.1"
  },
  "toc": {
   "base_numbering": 1,
   "nav_menu": {},
   "number_sections": false,
   "sideBar": true,
   "skip_h1_title": false,
   "title_cell": "Table of Contents",
   "title_sidebar": "Contents",
   "toc_cell": false,
   "toc_position": {
    "height": "calc(100% - 180px)",
    "left": "10px",
    "top": "150px",
    "width": "241.818px"
   },
   "toc_section_display": true,
   "toc_window_display": true
  }
 },
 "nbformat": 4,
 "nbformat_minor": 2
}
