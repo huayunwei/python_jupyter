{
 "cells": [
  {
   "cell_type": "markdown",
   "metadata": {},
   "source": [
    "# splash"
   ]
  },
  {
   "cell_type": "markdown",
   "metadata": {},
   "source": [
    "## 运行"
   ]
  },
  {
   "cell_type": "code",
   "execution_count": null,
   "metadata": {},
   "outputs": [],
   "source": [
    "# 守护形态，关闭docker，仍然会运行\n",
    "docker run -d -p 8050:8050 -p 5023:5023 scrapinghub/splash\n",
    "        \n",
    "docker run -p 8050:8050 -p 5023:5023 scrapinghub/splash"
   ]
  },
  {
   "cell_type": "markdown",
   "metadata": {},
   "source": [
    "## Scrapy-Redis 的安装\n",
    "- scrapy-redis是scrapy的分布式扩展模块，可以实现Scrapy分布式爬虫的搭建"
   ]
  },
  {
   "cell_type": "markdown",
   "metadata": {},
   "source": [
    "## 分布式爬虫\n",
    "- 对于分布式爬虫来说，需要多台主机，每台主机有多个爬虫任务，但只有一份源码\n",
    "- 部署方式\n",
    "    - scrapy：\n",
    "        - scrapyd：用于远程管理scrapy任务\n",
    "        - scrapyd-Client和Scrapyd API来帮助我们更方便地完成部署和监听操作\n",
    "    - docker集群部署"
   ]
  }
 ],
 "metadata": {
  "kernelspec": {
   "display_name": "Python 3",
   "language": "python",
   "name": "python3"
  },
  "language_info": {
   "codemirror_mode": {
    "name": "ipython",
    "version": 3
   },
   "file_extension": ".py",
   "mimetype": "text/x-python",
   "name": "python",
   "nbconvert_exporter": "python",
   "pygments_lexer": "ipython3",
   "version": "3.7.0"
  },
  "toc": {
   "base_numbering": 1,
   "nav_menu": {},
   "number_sections": false,
   "sideBar": true,
   "skip_h1_title": false,
   "title_cell": "Table of Contents",
   "title_sidebar": "Contents",
   "toc_cell": false,
   "toc_position": {},
   "toc_section_display": true,
   "toc_window_display": false
  }
 },
 "nbformat": 4,
 "nbformat_minor": 2
}
