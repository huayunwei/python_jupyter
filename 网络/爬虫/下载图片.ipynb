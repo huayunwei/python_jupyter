{
 "cells": [
  {
   "cell_type": "markdown",
   "metadata": {},
   "source": [
    "# 保存图片"
   ]
  },
  {
   "cell_type": "code",
   "execution_count": null,
   "metadata": {},
   "outputs": [],
   "source": [
    "import os \n",
    "from hashlib import md5\n",
    "\n",
    "def save_image(item):\n",
    "    if not os.path.exists(item.get('title')):\n",
    "        os.mkdir(item.get('title'))\n",
    "    try:\n",
    "        response = requests.get(item.get('image'))\n",
    "        if response.status_code == 200:\n",
    "            file_path = '{0}/{1}.{2}'.format(item.get('title'),md5(response.content).hexdigest(),'jpg')\n",
    "            if not os.path.exists(file_path):\n",
    "                with open(file_path,'wb') as f:\n",
    "                    f.write(response.content)\n",
    "            else:\n",
    "                print('Already Downloaded',file_path)\n",
    "    except requests.ConnectionError:\n",
    "        print('Failed to Save Image')"
   ]
  }
 ],
 "metadata": {
  "kernelspec": {
   "display_name": "Python 3",
   "language": "python",
   "name": "python3"
  },
  "language_info": {
   "codemirror_mode": {
    "name": "ipython",
    "version": 3
   },
   "file_extension": ".py",
   "mimetype": "text/x-python",
   "name": "python",
   "nbconvert_exporter": "python",
   "pygments_lexer": "ipython3",
   "version": "3.7.0"
  },
  "toc": {
   "base_numbering": 1,
   "nav_menu": {},
   "number_sections": false,
   "sideBar": true,
   "skip_h1_title": false,
   "title_cell": "Table of Contents",
   "title_sidebar": "Contents",
   "toc_cell": false,
   "toc_position": {},
   "toc_section_display": true,
   "toc_window_display": false
  }
 },
 "nbformat": 4,
 "nbformat_minor": 2
}
