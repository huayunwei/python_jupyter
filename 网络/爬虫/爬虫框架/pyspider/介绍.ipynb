{
 "cells": [
  {
   "cell_type": "markdown",
   "metadata": {},
   "source": [
    "# 介绍\n",
    "- 国人编写的强大的网络爬虫框架\n",
    "- 带有WEB UI，可以在网站直接进行界面操作\n",
    "- 带有脚本编辑器，任务监控器，项目管理器以及结果处理器\n",
    "- 支持多种数据库后端，多种消息队列\n",
    "- 支持js渲染页面的爬取"
   ]
  },
  {
   "cell_type": "markdown",
   "metadata": {},
   "source": [
    "# 安装\n",
    "- [github地址](https://github.com/binux/pyspider)"
   ]
  },
  {
   "cell_type": "code",
   "execution_count": null,
   "metadata": {},
   "outputs": [],
   "source": [
    "pip install pyspider"
   ]
  },
  {
   "cell_type": "markdown",
   "metadata": {},
   "source": [
    "## 安装容易出现的报错"
   ]
  },
  {
   "cell_type": "markdown",
   "metadata": {},
   "source": [
    "- 报错信息：Command ” python setup.py egg_inf。” failed with error code 1 in /tmp/pip-build-vXo1W3/pycurl\n",
    "- 原因：安装 pycurl时出现问题\n",
    "- 解决办法：\n",
    "    - 手动下载pycurl的whl文件，然后手动安装，[pypi中下载地址](https://pypi.org/project/pycurl/7.43.0.2/)\n",
    "    - 目前没有匹配3.7的文件，所以需要在其他网站下载"
   ]
  },
  {
   "cell_type": "markdown",
   "metadata": {},
   "source": [
    "- 报错：20190117，pyspider不支持3.7版本的Python，暂时还没有试验将python降为3.6是否有效"
   ]
  },
  {
   "cell_type": "code",
   "execution_count": null,
   "metadata": {},
   "outputs": [],
   "source": []
  }
 ],
 "metadata": {
  "kernelspec": {
   "display_name": "Python 3",
   "language": "python",
   "name": "python3"
  },
  "language_info": {
   "codemirror_mode": {
    "name": "ipython",
    "version": 3
   },
   "file_extension": ".py",
   "mimetype": "text/x-python",
   "name": "python",
   "nbconvert_exporter": "python",
   "pygments_lexer": "ipython3",
   "version": "3.7.0"
  },
  "toc": {
   "base_numbering": 1,
   "nav_menu": {},
   "number_sections": false,
   "sideBar": true,
   "skip_h1_title": false,
   "title_cell": "Table of Contents",
   "title_sidebar": "Contents",
   "toc_cell": false,
   "toc_position": {},
   "toc_section_display": true,
   "toc_window_display": false
  }
 },
 "nbformat": 4,
 "nbformat_minor": 2
}
