{
 "cells": [
  {
   "cell_type": "markdown",
   "metadata": {},
   "source": [
    "# 介绍\n",
    "- 国人编写的强大的网络爬虫框架\n",
    "- 带有WEB UI，可以在网站直接进行界面操作\n",
    "- 带有脚本编辑器，任务监控器，项目管理器以及结果处理器\n",
    "- 支持多种数据库后端，多种消息队列\n",
    "- 支持js渲染页面的爬取"
   ]
  },
  {
   "cell_type": "markdown",
   "metadata": {},
   "source": [
    "# 安装\n",
    "- [github地址](https://github.com/binux/pyspider)"
   ]
  },
  {
   "cell_type": "code",
   "execution_count": null,
   "metadata": {},
   "outputs": [],
   "source": [
    "pip install pyspider"
   ]
  },
  {
   "cell_type": "markdown",
   "metadata": {},
   "source": [
    "## 安装验证"
   ]
  },
  {
   "cell_type": "code",
   "execution_count": null,
   "metadata": {},
   "outputs": [],
   "source": [
    "pyspider all"
   ]
  },
  {
   "cell_type": "markdown",
   "metadata": {},
   "source": [
    "- 当能出现如下图所示的提示时，代表正常启动完全，可以在浏览器中用localhost:5000开启爬虫网页\n",
    "![](img/pyspider_1.png)"
   ]
  },
  {
   "cell_type": "markdown",
   "metadata": {},
   "source": [
    "## 安装容易出现的报错"
   ]
  },
  {
   "cell_type": "markdown",
   "metadata": {},
   "source": [
    "- 报错信息：Command ” python setup.py egg_inf。” failed with error code 1 in /tmp/pip-build-vXo1W3/pycurl\n",
    "- 原因：安装 pycurl时出现问题\n",
    "- 解决办法：\n",
    "    - 手动下载pycurl的whl文件，然后手动安装，[pypi中下载地址](https://pypi.org/project/pycurl/7.43.0.2/)\n",
    "    - 目前没有匹配3.7的文件，所以需要在其他网站下载"
   ]
  },
  {
   "cell_type": "markdown",
   "metadata": {},
   "source": [
    "- 报错：20190117，pyspider不支持3.7版本的Python\n",
    "- 问题：webui一直无法开启\n",
    "- 解决办法：\n",
    "    - 使用了anaconda，增加3.6虚拟环境，安装的时候也没有报错"
   ]
  },
  {
   "cell_type": "markdown",
   "metadata": {},
   "source": [
    "# 与scrapy的区别\n",
    "- pyspider提供了webui，爬虫的编写和调试都是在web中的，scrapy采用的是代码和命令行操作，可以对接Portia实现可视化配置\n",
    "- pyspider调试非常方便，scrapy使用parse命令\n",
    "- pyspider支持PhantomJS来进行js渲染页面的采集,scrapy可以对接scrapy-splash组件\n",
    "- pyspider内置了pyquery作为选择器，scrapy对接了xpath，css选择器和正则匹配\n",
    "- pyspider的可扩展程度不足，可配置化程度不改，scrapy可以通过对接middleware,pipeline,extension等组件实现非常强大的功能"
   ]
  },
  {
   "cell_type": "markdown",
   "metadata": {},
   "source": [
    "# 架构\n",
    "- scheduler - 调度器\n",
    "- Fetcher - 抓取器\n",
    "- Processer - 处理器"
   ]
  },
  {
   "cell_type": "markdown",
   "metadata": {},
   "source": [
    "## 过程\n",
    "- 每个pyspider的项目对应一个python脚本，该脚本中定义了一个Handler类，它有一个on_start()方法，爬取首先调用on_start()方法生成最初的抓取任务，然后发送给Scheduler进行调度\n",
    "- Scheduler将抓取任务分发给Fetcher进行抓取，Fetcher执行并得到响应，随后将响应发送给Processer\n",
    "- Processer处理响应并提取出新的URL生成新的抓取任务，然后通过消息队列的方式通知Schduler当前抓取任务执行情况，并将新生成的住区任务发送给Scheduler，如果生成了新的提取结果，则将其发送给结果队列等待Result Worker处理\n",
    "- Scheduler接收到新的抓取任务，然后查询数据库，判断其如果是新的抓取任务或者是需要重试的任务就继续调度，然后将其发送回Fetcher进行抓取\n",
    "- 不断重复上面的过程，直到所有任务都执行完毕，抓取结束\n",
    "- 抓取结束后，程序会回调on_finished()方法"
   ]
  },
  {
   "cell_type": "code",
   "execution_count": null,
   "metadata": {},
   "outputs": [],
   "source": []
  }
 ],
 "metadata": {
  "kernelspec": {
   "display_name": "Python 3",
   "language": "python",
   "name": "python3"
  },
  "language_info": {
   "codemirror_mode": {
    "name": "ipython",
    "version": 3
   },
   "file_extension": ".py",
   "mimetype": "text/x-python",
   "name": "python",
   "nbconvert_exporter": "python",
   "pygments_lexer": "ipython3",
   "version": "3.7.1"
  },
  "toc": {
   "base_numbering": 1,
   "nav_menu": {},
   "number_sections": false,
   "sideBar": true,
   "skip_h1_title": false,
   "title_cell": "Table of Contents",
   "title_sidebar": "Contents",
   "toc_cell": false,
   "toc_position": {},
   "toc_section_display": true,
   "toc_window_display": true
  }
 },
 "nbformat": 4,
 "nbformat_minor": 2
}
