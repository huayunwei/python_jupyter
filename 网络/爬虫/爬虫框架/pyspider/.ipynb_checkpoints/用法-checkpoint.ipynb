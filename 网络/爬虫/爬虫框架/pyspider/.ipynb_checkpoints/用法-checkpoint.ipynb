{
 "cells": [
  {
   "cell_type": "markdown",
   "metadata": {},
   "source": [
    "# 用法"
   ]
  },
  {
   "cell_type": "markdown",
   "metadata": {},
   "source": [
    "## 命令行"
   ]
  },
  {
   "cell_type": "code",
   "execution_count": null,
   "metadata": {},
   "outputs": [],
   "source": [
    "pyspider [OPTIONS] COMMAND [ARGS]\n",
    "'''\n",
    "Options：\n",
    "-C，--config FILENAME 指定配置文件名称\n",
    "--logging-config TEXT 日志配置文件名称，默认：pyspider/pyspider/logging.conf\n",
    "--debug 开启调试模式\n",
    "--queue-maxsize INTEGER 队列的最大长度\n",
    "--taskdb TEXT taskdb的数据库连接字符串，默认：sqlite\n",
    "--projectdb TEXT projectdb的数据库连接字符串，默认：sqlite\n",
    "--resultdb TEXT resultdb的数据库连接字符串，默认：sqlite\n",
    "--message-queue TEXT 消息队列连接字符串，默认：multiprocessing.Queue\n",
    "--phantomjs-proxy TEXT PhantomJS使用的代理，ip:port 的形式\n",
    "--data-path TEXT 数据库存放的路径\n",
    "--version pyspider的版本\n",
    "--help 显示帮助信息\n",
    "'''"
   ]
  },
  {
   "cell_type": "code",
   "execution_count": null,
   "metadata": {},
   "outputs": [],
   "source": [
    "'''\n",
    "pyspider WEBUI的访问认证，新建pyspider.json文件\n",
    "{\n",
    "    \"webui\":{\n",
    "        \"username\":\"root\",\n",
    "        \"password\":\"123456\",\n",
    "        \"need-auth\":true\n",
    "    }\n",
    "}\n",
    "'''\n",
    "# 认证的方式进行访问，用户名为root，密码为123456\n",
    "pyspider -c pyspider.json all"
   ]
  },
  {
   "cell_type": "code",
   "execution_count": null,
   "metadata": {},
   "outputs": [],
   "source": [
    "# 单独运行Scheduler\n",
    "pyspider scheduler [OPTIONS]\n",
    "'''\n",
    "Options：\n",
    "--inqueue-limit INTEGER 任务队列的最大长度，如果满了则新的任务会被忽略\n",
    "--delete-time INTEGER 设置为delete标记之前的删除时间\n",
    "--active-tashks INTEGER 当前活跃任务数量配置\n",
    "--loop-limit INTEGER 单轮最多调度的任务数量\n",
    "--scheduler-cls TEXT Scheduler使用的类\n",
    "--help 显示帮助信息\n",
    "'''"
   ]
  },
  {
   "cell_type": "code",
   "execution_count": null,
   "metadata": {},
   "outputs": [],
   "source": [
    "# 单独运行Fetcher\n",
    "pyspider fetcher [OPTIONS]\n",
    "'''\n",
    "参数配置\n",
    "Options：\n",
    "--poolsize INTEGER：同事请求的个数\n",
    "--proxy TEXT：使用的代理\n",
    "--user-agent TEXT：使用的User-Agent\n",
    "--timeout TEXT：超时时间\n",
    "--fetcher-cls TEXT：Fetcher使用的类\n",
    "--help：显示帮助信息\n",
    "'''"
   ]
  },
  {
   "cell_type": "code",
   "execution_count": null,
   "metadata": {},
   "outputs": [],
   "source": [
    "# 单独运行Processer\n",
    "pyspider processor [OPTIONS]\n",
    "'''\n",
    "Options:\n",
    "--processor-cls TEXT：Processor使用的类\n",
    "--help：显示帮助信息\n",
    "'''"
   ]
  },
  {
   "cell_type": "code",
   "execution_count": null,
   "metadata": {},
   "outputs": [],
   "source": [
    "pyspider webui [OPTIONS]\n",
    "'''\n",
    "Options：\n",
    "--host TEXT：运行地址\n",
    "--port INTEGER：运行端口\n",
    "--cdn TEXT：JS和CSS的CDN服务器\n",
    "--scheduler-rpc TEXT：Scheduler的xmlrpc路径\n",
    "--fetcher-rpc TEXT：Fetcher的xmlrpc路径\n",
    "--max-rate FLOAT：每个项目最大的rate值\n",
    "--max-burst FLOAT：每个项目最大的burst值\n",
    "--username TEXT：Auth验证的用户名\n",
    "--password TEXT：Auth验证的密码\n",
    "--need-auth：是否需要验证\n",
    "--webui-instance TEXT：运行时使用的Flask应用\n",
    "--help：显示帮助信息\n",
    "'''"
   ]
  },
  {
   "cell_type": "markdown",
   "metadata": {},
   "source": [
    "## 项目状态"
   ]
  },
  {
   "cell_type": "markdown",
   "metadata": {},
   "source": [
    "- TODO：项目刚创建还未实现时的状态\n",
    "- STOP：想停止某项目的抓取，可以将项目的状态设置为STOP\n",
    "- CHECKING：正在运行的项目被修改后就会改变成CHECKING状态，项目在中途出错需要调整时会遇到这种情况\n",
    "- DEBUG/RUNNING：这两个状态对项目的运行没有影响，状态设置为任意一个，项目都可以运行，但是可以用两者来区分项目是否已经测试通过\n",
    "- PAUSE：的那个爬取过程中出现连续多次错误时，项目会自动设置为PAUSE状态，并等待一段时间后继续爬取"
   ]
  },
  {
   "cell_type": "markdown",
   "metadata": {},
   "source": [
    "## 删除项目\n",
    "- pyspider中没有直接删除项目的选项\n",
    "- 要删除项目：\n",
    "    - 将项目设置为STOP状态\n",
    "    - 将分组设置为delete\n",
    "    - 等待24小时，项目会自动删除"
   ]
  },
  {
   "cell_type": "markdown",
   "metadata": {},
   "source": [
    "## 爬虫的编写"
   ]
  },
  {
   "cell_type": "markdown",
   "metadata": {},
   "source": [
    "- 创建一个新的爬虫进程\n",
    "![](img/pyspider_2.png)"
   ]
  },
  {
   "cell_type": "markdown",
   "metadata": {},
   "source": [
    "## 代码的解释"
   ]
  },
  {
   "cell_type": "code",
   "execution_count": null,
   "metadata": {},
   "outputs": [],
   "source": [
    "'''\n",
    "crawl()方法：\n",
    "url - 爬取时的URL，可以定义为单个URL字符串，也可以为URL列表\n",
    "callback - 回调函数，指定了该URL对应的响应内容用哪个方法来解析\n",
    "age - 任务的有效时间，如果某个任务在有效时间内且已经被执行，则不会重复执行,默认有效时间为10天\n",
    "priority - 爬取任务的优先级，默认是0，数值越大，对应的请求会越优先被调度\n",
    "exetime - 设置定时任务，值是时间戳，默认是0，代表立即执行\n",
    "retries - 重试次数，默认是3\n",
    "itag - 设置判定网页是否发生变化的节点值，在爬取时会判定次当前节点是否和上次爬取到的节点相同，如果相同代表页面没有更新，就不会重复爬取\n",
    "auto_recrawl - 当开启时，爬取任务在过期后会重新执行，循环时间即定义的age时间长度\n",
    "method - http请求方式，默认是get\n",
    "params - 定义get请求参数\n",
    "data - post表单数据\n",
    "files - 上传的文件，需要指定文件名\n",
    "user_agent：爬取使用的User-Agent\n",
    "headers：爬取时使用的headers\n",
    "cookie：爬取时使用的cookies\n",
    "onnect_time：初始化链接时的最长等待时间，默认是20s\n",
    "timeout：抓取网页时最长等待时间，默认是120s\n",
    "allow_redirects：确定是否自动处理重定向，默认是True\n",
    "validate_cert：是否验证证书，对HTTPS请求有效，默认是True\n",
    "proxy：爬取时使用的代理，支持用户名密码的配置\n",
    "fetch_type：开启PhantomJS渲染\n",
    "js_script：页面加载完毕后执行的js脚本\n",
    "js_run_at：js脚本运行的位置，在页面节点开头还是结尾，默认是结尾即：document-end\n",
    "js_viewport_width/js_viewport_height：js渲染时页面的窗口大小\n",
    "load_images：在加载js页面时确定是否加载图片，默认为否\n",
    "save：参数非常有用，可以在不同的方法之间传递参数\n",
    "cancel：取消任务，如果任务是ACTIVE状态，则需要将force_update设置为True\n",
    "force_update：任务处于ACTIVE状态，也会强制更新状态\n",
    "'''\n",
    "\n",
    "# age\n",
    "def on_start(self):\n",
    "    self.crawl('http://www.example.org/',callback=self.callback,age=10*24*60*60)\n",
    "\n",
    "@config(age=10*24*60*60)\n",
    "def callback(self):\n",
    "    pass"
   ]
  },
  {
   "cell_type": "code",
   "execution_count": null,
   "metadata": {},
   "outputs": [],
   "source": []
  }
 ],
 "metadata": {
  "kernelspec": {
   "display_name": "Python 3",
   "language": "python",
   "name": "python3"
  },
  "language_info": {
   "codemirror_mode": {
    "name": "ipython",
    "version": 3
   },
   "file_extension": ".py",
   "mimetype": "text/x-python",
   "name": "python",
   "nbconvert_exporter": "python",
   "pygments_lexer": "ipython3",
   "version": "3.7.1"
  },
  "toc": {
   "base_numbering": 1,
   "nav_menu": {},
   "number_sections": false,
   "sideBar": true,
   "skip_h1_title": false,
   "title_cell": "Table of Contents",
   "title_sidebar": "Contents",
   "toc_cell": false,
   "toc_position": {},
   "toc_section_display": true,
   "toc_window_display": false
  }
 },
 "nbformat": 4,
 "nbformat_minor": 2
}
