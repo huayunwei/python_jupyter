{
 "cells": [
  {
   "cell_type": "markdown",
   "metadata": {},
   "source": [
    "# spider"
   ]
  },
  {
   "cell_type": "code",
   "execution_count": null,
   "metadata": {},
   "outputs": [],
   "source": [
    "'''\n",
    "scrapy.Spider类介绍：提供了start_requests()方法的默认实现，读取并请求start_urls属性，并根据返回的结果调用parse方法解析结果\n",
    "属性：\n",
    "    name：爬虫行程，定义spider名字的字符串，一般被命名为网站域名，必须唯一，但是可以生成多个相同的spider实例\n",
    "    allowed_domains：允许爬取的域名，可选配置，不在此范围的链接不会被跟进爬取\n",
    "    start_urls：是起始URL列表，当我们没有实现start_requests()方法时，会默认从这个列表开始抓取\n",
    "    custom_settings：专属于本spider的配置，次配置会覆盖项目全局的设置\n",
    "    crawler：本spider类对应的crawler对象，包含很多项目组件\n",
    "    settings：setting对象，可以获取项目的全局设置变量\n",
    "方法：\n",
    "    start_requests()：生成初始请求，必须返回一个可迭代对象，会默认使用start_urls里面的url来构造request\n",
    "    parse()：当response没有指定回调函数是，该方法会默认被调用\n",
    "    closed()：当spider关闭时，该方法会被调用\n",
    "'''"
   ]
  },
  {
   "cell_type": "markdown",
   "metadata": {},
   "source": [
    "## 创建\n",
    "- 用来从网页里抓取内容，并解析抓取的结果，必须继承Scrapy提供的spider类scrapy.Spider"
   ]
  },
  {
   "cell_type": "code",
   "execution_count": null,
   "metadata": {},
   "outputs": [],
   "source": [
    "'''\n",
    "会根据预定义的名字，创建一个最基本的爬虫代码\n",
    "'''\n",
    "cd 进入创建的爬虫项目目录\n",
    "scrapy genspider 爬虫名字 网站域名"
   ]
  },
  {
   "cell_type": "code",
   "execution_count": null,
   "metadata": {},
   "outputs": [],
   "source": [
    "'''\n",
    "创建后的文件内容，以scrapy genspider bd www.baidu.com为例\n",
    "'''\n",
    "# -*- coding: utf-8 -*-\n",
    "import scrapy\n",
    "\n",
    "\n",
    "class BdSpider(scrapy.Spider):\n",
    "    name = 'bd' # 每个项目唯一的名字，用来区分不同的spider\n",
    "    allowed_domains = ['www.baidu.com'] # 允许爬取的域名，如果初始或后续的请求链接不是这个域名下的，则这个请求链会被过滤掉\n",
    "    start_urls = ['http://www.baidu.com/'] # 在启动时爬取的url列表\n",
    "\n",
    "    '''\n",
    "    被调用时，start_urls里面的链接构成的请求完成下载执行后，返回的响应就会作为唯一的参数传递给这个函数\n",
    "    '''\n",
    "    def parse(self, response):\n",
    "        quotes = response.css('.quote')\n",
    "        for quote in quotes:\n",
    "            text = quote.css('.text::text').extract_first()\n",
    "            author = quote.css('.author::text').extract_first()\n",
    "            tags = quote.css('.tags .tag::text').extract()"
   ]
  },
  {
   "cell_type": "markdown",
   "metadata": {},
   "source": [
    "## 将spider和item结合\n",
    "- 将解析的结果赋值给item的字段"
   ]
  },
  {
   "cell_type": "code",
   "execution_count": null,
   "metadata": {},
   "outputs": [],
   "source": [
    "import scrapy\n",
    "from tutorial.items import QuoteItem\n",
    "class QuotesSpider(scrapy.Spider):\n",
    "    name = \"quites\"\n",
    "    allowed_domains = [\"quotes.toscrape.com\"]\n",
    "    start_urls = ['http://quotes.toscrape.com/']\n",
    "    \n",
    "    def parse(self,response):\n",
    "        quotes = response.css('.quote')\n",
    "        for quote in quotes:\n",
    "            item = QuoteItem()\n",
    "            item['text'] = quote.css('.text::text').extract_first()\n",
    "            item['author'] = quote.css('.author::text').extract_first()\n",
    "            item['tags'] = quote.css('.tags .tag::text').extract()\n",
    "            yield item\n",
    "        # 下一页\n",
    "        next = response.css('.pager .next a::attr(\"href\")').extract_first()\n",
    "        # 将相对URL转变成绝对URL\n",
    "        url = response.urljoin(next)\n",
    "        # 重新执行parse方法\n",
    "        yield scrapy.Request(url=url,callback=self.parse)"
   ]
  }
 ],
 "metadata": {
  "kernelspec": {
   "display_name": "Python 3",
   "language": "python",
   "name": "python3"
  },
  "language_info": {
   "codemirror_mode": {
    "name": "ipython",
    "version": 3
   },
   "file_extension": ".py",
   "mimetype": "text/x-python",
   "name": "python",
   "nbconvert_exporter": "python",
   "pygments_lexer": "ipython3",
   "version": "3.7.1"
  },
  "toc": {
   "base_numbering": 1,
   "nav_menu": {},
   "number_sections": false,
   "sideBar": true,
   "skip_h1_title": false,
   "title_cell": "Table of Contents",
   "title_sidebar": "Contents",
   "toc_cell": false,
   "toc_position": {},
   "toc_section_display": true,
   "toc_window_display": false
  }
 },
 "nbformat": 4,
 "nbformat_minor": 2
}
