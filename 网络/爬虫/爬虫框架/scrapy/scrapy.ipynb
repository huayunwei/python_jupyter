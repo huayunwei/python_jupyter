{
 "cells": [
  {
   "cell_type": "markdown",
   "metadata": {},
   "source": [
    "# Scrapy\n",
    "- 组成\n",
    "   - Engine：引擎，处理整个系统的数据流处理、触发事务，是整个框架的核心\n",
    "   - Item：项目，它定义了爬取结果的数据结构，爬取的数据会被赋值成该Item对象\n",
    "   - Scheduler：调度器，接受引擎发过来的请求并将其加入队列中，在引擎再次请求的时候将请求提供给引擎\n",
    "   - Downloader：下载器，下载网页内容，并将网页内容返回给蜘蛛\n",
    "   - Spiders：蜘蛛，定义了爬取的逻辑和网页的解析规则，它主要负责解析响应并生成提取结果和新的请求\n",
    "   - Item Pipeline：项目管道，负责处理由蜘蛛从网页中抽取的项目，它的主要任务是清洗、验证和存储数据\n",
    "   - Downloader Middlewares：下载器中间件，位于引擎和下载器之间的钩子框架，主要处理引擎与下载器之间的请求及响应\n",
    "   - Spider Middlewares：蜘蛛中间件，位于引擎和蜘蛛之间的钩子框架，主要处理蜘蛛输入的响应和输出的结果及新的请求"
   ]
  },
  {
   "cell_type": "markdown",
   "metadata": {},
   "source": [
    "# 安装"
   ]
  },
  {
   "cell_type": "code",
   "execution_count": null,
   "metadata": {},
   "outputs": [],
   "source": [
    "# 使用anaconda\n",
    "conda install -c conda-forge scrapy\n",
    "\n",
    "# 使用pip \n",
    "pip install scrapy"
   ]
  },
  {
   "cell_type": "markdown",
   "metadata": {},
   "source": [
    "# 命令行"
   ]
  },
  {
   "cell_type": "markdown",
   "metadata": {},
   "source": [
    "![](img/scrapy_1.png)"
   ]
  },
  {
   "cell_type": "markdown",
   "metadata": {},
   "source": [
    "## 创建一个scrapy项目"
   ]
  },
  {
   "cell_type": "code",
   "execution_count": null,
   "metadata": {},
   "outputs": [],
   "source": [
    "scrapy startproject 文件夹名"
   ]
  },
  {
   "cell_type": "markdown",
   "metadata": {},
   "source": [
    "- 创建后的文件夹内容\n",
    "    - 同startproject后的文件夹名/\n",
    "        - scrapy.cfg：部署时的配置文件\n",
    "        - 同startproject后的文件夹名/：项目的模块\n",
    "            - spiders/：放自己的爬虫\n",
    "            - items.py：定义爬取的数据结构\n",
    "            - middlewares.py：定义爬取的中间件\n",
    "            - pipelines.py：定义数据管道\n",
    "            - settings.py：配置文件\n",
    "![](img/scrapy_2.png)"
   ]
  },
  {
   "cell_type": "markdown",
   "metadata": {},
   "source": [
    "# 运行"
   ]
  },
  {
   "cell_type": "code",
   "execution_count": null,
   "metadata": {},
   "outputs": [],
   "source": [
    "scrapy crawl quotes"
   ]
  },
  {
   "cell_type": "markdown",
   "metadata": {},
   "source": [
    "# 保存到文件"
   ]
  },
  {
   "cell_type": "code",
   "execution_count": null,
   "metadata": {},
   "outputs": [],
   "source": [
    "scrapy crawl quotes -o quotes.json # 将结果保存成json文件\n",
    "\n",
    "scrapy crawl quotes -o quotes.jl # 每个item输出一行JSON，输出后缀为jl\n",
    "\n",
    "# 或\n",
    "scrapy crawl quotes -o quotes.jsonlines\n",
    "\n",
    "# 各种格式\n",
    "scrapy crawl quotes -o quotes.csv\n",
    "\n",
    "scrapy crawl quotes -o quotes.xml\n",
    "\n",
    "scrapy crawl quotes -o quotes.pickle\n",
    "\n",
    "scrapy crawl quotes -o quotes.marshal\n",
    "\n",
    "scrapy crawl quotes -o ftp://user::pass@ftp.example.com/path/to/quotes.csv"
   ]
  }
 ],
 "metadata": {
  "kernelspec": {
   "display_name": "Python 3",
   "language": "python",
   "name": "python3"
  },
  "language_info": {
   "codemirror_mode": {
    "name": "ipython",
    "version": 3
   },
   "file_extension": ".py",
   "mimetype": "text/x-python",
   "name": "python",
   "nbconvert_exporter": "python",
   "pygments_lexer": "ipython3",
   "version": "3.7.1"
  },
  "toc": {
   "base_numbering": 1,
   "nav_menu": {},
   "number_sections": false,
   "sideBar": true,
   "skip_h1_title": false,
   "title_cell": "Table of Contents",
   "title_sidebar": "Contents",
   "toc_cell": false,
   "toc_position": {},
   "toc_section_display": true,
   "toc_window_display": false
  }
 },
 "nbformat": 4,
 "nbformat_minor": 2
}
