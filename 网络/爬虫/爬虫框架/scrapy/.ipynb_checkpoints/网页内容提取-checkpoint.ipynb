{
 "cells": [
  {
   "cell_type": "markdown",
   "metadata": {},
   "source": [
    "# 网页内容提取"
   ]
  },
  {
   "cell_type": "markdown",
   "metadata": {},
   "source": [
    "## selector -- spider自带提取类\n",
    "- response.selector.xpath() == response.xpath()\n",
    "- response.selector.css() == response.css()"
   ]
  },
  {
   "cell_type": "code",
   "execution_count": null,
   "metadata": {},
   "outputs": [],
   "source": [
    "'''\n",
    "extract()：selector.xpath返回一个selector对象，使用extract获取selector对象所有真正的html内容，返回列表\n",
    "extract_first()：返回匹配的第一个元素，带参数-如果没有值，则返回参数，没有参数返回空\n",
    "'''\n",
    "from scrapy import Selector\n",
    "\n",
    "selector = Selector(text=body)\n",
    "title = selector.xpath('//xxx').extract_first()\n",
    "\n",
    "title = selector.css('xxx').extract_first()\n",
    "'''\n",
    "获取节点的内部文本：selector.css('xxx::text')\n",
    "                    selector.css('xxx::attr(xxx)')\n",
    "'''"
   ]
  }
 ],
 "metadata": {
  "kernelspec": {
   "display_name": "Python 3",
   "language": "python",
   "name": "python3"
  },
  "language_info": {
   "codemirror_mode": {
    "name": "ipython",
    "version": 3
   },
   "file_extension": ".py",
   "mimetype": "text/x-python",
   "name": "python",
   "nbconvert_exporter": "python",
   "pygments_lexer": "ipython3",
   "version": "3.7.1"
  },
  "toc": {
   "base_numbering": 1,
   "nav_menu": {},
   "number_sections": false,
   "sideBar": true,
   "skip_h1_title": false,
   "title_cell": "Table of Contents",
   "title_sidebar": "Contents",
   "toc_cell": false,
   "toc_position": {},
   "toc_section_display": true,
   "toc_window_display": false
  }
 },
 "nbformat": 4,
 "nbformat_minor": 2
}
