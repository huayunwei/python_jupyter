{
 "cells": [
  {
   "cell_type": "markdown",
   "metadata": {},
   "source": [
    "# middlewares - 中间件"
   ]
  },
  {
   "cell_type": "markdown",
   "metadata": {},
   "source": [
    "## spiderMiddleware"
   ]
  },
  {
   "cell_type": "markdown",
   "metadata": {},
   "source": [
    "## downloaderMiddleware"
   ]
  },
  {
   "cell_type": "code",
   "execution_count": null,
   "metadata": {},
   "outputs": [],
   "source": [
    "'''\n",
    "process_reqest(request,spider)：request被scrapy引擎调度给downloader之前，process_request方法就会被调用，可以用process_request方法对reqeust进行处理\n",
    "参数\n",
    "    request：Request对象\n",
    "    spider：Spider对象\n",
    "返回值\n",
    "    返回None：scrapy将继续处理该request，接着执行其他downloader middleware的process_request方法，一直到dowunloader把reqeust执行后的带response才结束\n",
    "    返回response对象：更低优先级的Downloader Middleware的process_request()和process_exception()方法就不会被继续调用，每个downloader middleware的process_response方法转而被依次调用\n",
    "    返回request对象：更低优先级的Downloader Middleware的process_request()方法会停止执行，这个request会重新放到调度队列里，其它就是一个全新的request，等待被调用\n",
    "    抛出IgnoreRequest异常抛出，所有的Downloader Middleware的process_exception()方法会依次执行\n",
    "'''"
   ]
  },
  {
   "cell_type": "code",
   "execution_count": null,
   "metadata": {},
   "outputs": [],
   "source": [
    "'''\n",
    "process_response(request,response,spider)：downloader执行request下载之后，会得到对应的response，引擎会将response发送给spider进行解析\n",
    "返回值：\n",
    "    为request对象时，更低优先级的Downloader Middlerware的process_response()方法不会继续调用\n",
    "    为response对象时，更低优先级的Downloader Middlerware的process_response()方法被会继续调用，继续对该response对象进行处理\n",
    "    如果IgnoreRequest异常抛出，则Request的errorback方法会回调，如果该异常还没有被处理，那么它便会被忽略\n",
    "'''"
   ]
  },
  {
   "cell_type": "code",
   "execution_count": null,
   "metadata": {},
   "outputs": [],
   "source": [
    "'''\n",
    "process_exception(request,exception,spider)：当downloader或process_request()方法抛出异常时，process_exception方法就会被调用\n",
    "\n",
    "返回值：\n",
    "    None：更低优先级的process_exception()会被继续顺次调用，直到所有的方法都被调用完毕\n",
    "    Response：更低优先级的process_exception()方法不再被继续调用，每个process_response方法转而被依次调用\n",
    "    Request：更低优先级的process_exception()方法也不再继续调用，该request对象会重新放到调度队列里面等待被调用\n",
    "'''"
   ]
  },
  {
   "cell_type": "markdown",
   "metadata": {},
   "source": [
    "## 实例"
   ]
  },
  {
   "cell_type": "code",
   "execution_count": null,
   "metadata": {},
   "outputs": [],
   "source": [
    "'''\n",
    "在middlewares.py文件中\n",
    "定义一个随机设置user-agent的类\n",
    "'''\n",
    "import random\n",
    "class RandomUserAgentMiddleware():\n",
    "    def __init__(self):\n",
    "        self.user_agents = [\n",
    "            '1','2'\n",
    "        ]\n",
    "    '''\n",
    "    只要有上面介绍的三种方法之一就算downloadermiddleware\n",
    "    '''\n",
    "    def process_request(self,request,spider):\n",
    "        request.headers['User-Agent'] = random.choice(self.user_agents)"
   ]
  }
 ],
 "metadata": {
  "kernelspec": {
   "display_name": "Python 3",
   "language": "python",
   "name": "python3"
  },
  "language_info": {
   "codemirror_mode": {
    "name": "ipython",
    "version": 3
   },
   "file_extension": ".py",
   "mimetype": "text/x-python",
   "name": "python",
   "nbconvert_exporter": "python",
   "pygments_lexer": "ipython3",
   "version": "3.7.1"
  },
  "toc": {
   "base_numbering": 1,
   "nav_menu": {},
   "number_sections": false,
   "sideBar": true,
   "skip_h1_title": false,
   "title_cell": "Table of Contents",
   "title_sidebar": "Contents",
   "toc_cell": false,
   "toc_position": {},
   "toc_section_display": true,
   "toc_window_display": false
  }
 },
 "nbformat": 4,
 "nbformat_minor": 2
}
